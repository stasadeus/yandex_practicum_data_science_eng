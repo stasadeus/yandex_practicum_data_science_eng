{
 "cells": [
  {
   "cell_type": "markdown",
   "metadata": {},
   "source": [
    "# The churn of bank customers"
   ]
  },
  {
   "cell_type": "markdown",
   "metadata": {
    "toc": true
   },
   "source": [
    "<h1>Contents<span class=\"tocSkip\"></span></h1>\n",
    "<div class=\"toc\"><ul class=\"toc-item\"><li><span><a href=\"#Research-goal-and-work-plan--\" data-toc-modified-id=\"Research-goal-and-work-plan---1\"><span class=\"toc-item-num\">1&nbsp;&nbsp;</span>Research goal and work plan <a id=\"purpose\" rel=\"nofollow\"> </a></a></span></li><li><span><a href=\"#Data-preparation--\" data-toc-modified-id=\"Data-preparation---2\"><span class=\"toc-item-num\">2&nbsp;&nbsp;</span>Data preparation <a id=\"data_preparation\" rel=\"nofollow\"> </a></a></span><ul class=\"toc-item\"><li><span><a href=\"#Data-overview--\" data-toc-modified-id=\"Data-overview---2.1\"><span class=\"toc-item-num\">2.1&nbsp;&nbsp;</span>Data overview <a id=\"data_overview\" rel=\"nofollow\"> </a></a></span><ul class=\"toc-item\"><li><span><a href=\"#2.1.1.-Conclusions--\" data-toc-modified-id=\"2.1.1.-Conclusions---2.1.1\"><span class=\"toc-item-num\">2.1.1&nbsp;&nbsp;</span>2.1.1. Conclusions <a id=\"conclusions_2_1_1\" rel=\"nofollow\"> </a></a></span></li></ul></li><li><span><a href=\"#Data-preprocessing--\" data-toc-modified-id=\"Data-preprocessing---2.2\"><span class=\"toc-item-num\">2.2&nbsp;&nbsp;</span>Data preprocessing <a id=\"data_preprocessing\" rel=\"nofollow\"> </a></a></span><ul class=\"toc-item\"><li><span><a href=\"#Changing-column-names--\" data-toc-modified-id=\"Changing-column-names---2.2.1\"><span class=\"toc-item-num\">2.2.1&nbsp;&nbsp;</span>Changing column names <a id=\"column_names_change\" rel=\"nofollow\"> </a></a></span></li><li><span><a href=\"#Gap-handling--\" data-toc-modified-id=\"Gap-handling---2.2.2\"><span class=\"toc-item-num\">2.2.2&nbsp;&nbsp;</span>Gap handling <a id=\"gaps\" rel=\"nofollow\"> </a></a></span></li><li><span><a href=\"#Handling-duplicates--\" data-toc-modified-id=\"Handling-duplicates---2.2.3\"><span class=\"toc-item-num\">2.2.3&nbsp;&nbsp;</span>Handling duplicates <a id=\"duplicates\" rel=\"nofollow\"> </a></a></span></li><li><span><a href=\"#Handling-anomalies--\" data-toc-modified-id=\"Handling-anomalies---2.2.4\"><span class=\"toc-item-num\">2.2.4&nbsp;&nbsp;</span>Handling anomalies <a id=\"anomalies\" rel=\"nofollow\"> </a></a></span></li><li><span><a href=\"#Conclusions--\" data-toc-modified-id=\"Conclusions---2.2.5\"><span class=\"toc-item-num\">2.2.5&nbsp;&nbsp;</span>Conclusions <a id=\"conclusions_2_2_5\" rel=\"nofollow\"> </a></a></span></li></ul></li><li><span><a href=\"#Feature-preparation--\" data-toc-modified-id=\"Feature-preparation---2.3\"><span class=\"toc-item-num\">2.3&nbsp;&nbsp;</span>Feature preparation <a id=\"features_preparation\" rel=\"nofollow\"> </a></a></span><ul class=\"toc-item\"><li><span><a href=\"#Conclusions--\" data-toc-modified-id=\"Conclusions---2.3.1\"><span class=\"toc-item-num\">2.3.1&nbsp;&nbsp;</span>Conclusions <a id=\"conclusions_2_3_1\" rel=\"nofollow\"> </a></a></span></li></ul></li></ul></li><li><span><a href=\"#Problem-Research--\" data-toc-modified-id=\"Problem-Research---3\"><span class=\"toc-item-num\">3&nbsp;&nbsp;</span>Problem Research <a id=\"problem_research\" rel=\"nofollow\"> </a></a></span><ul class=\"toc-item\"><li><span><a href=\"#Class-imbalance-research--\" data-toc-modified-id=\"Class-imbalance-research---3.1\"><span class=\"toc-item-num\">3.1&nbsp;&nbsp;</span>Class imbalance research <a id=\"imbalance_research\" rel=\"nofollow\"> </a></a></span></li><li><span><a href=\"#Training-the-model-without-imbalance--\" data-toc-modified-id=\"Training-the-model-without-imbalance---3.2\"><span class=\"toc-item-num\">3.2&nbsp;&nbsp;</span>Training the model without imbalance <a id=\"train_imbalanced\" rel=\"nofollow\"> </a></a></span><ul class=\"toc-item\"><li><span><a href=\"#Logistic-regression-nodel--\" data-toc-modified-id=\"Logistic-regression-nodel---3.2.1\"><span class=\"toc-item-num\">3.2.1&nbsp;&nbsp;</span>Logistic regression nodel <a id=\"imbalanced_LR\" rel=\"nofollow\"> </a></a></span></li><li><span><a href=\"#Random-forest-model--\" data-toc-modified-id=\"Random-forest-model---3.2.2\"><span class=\"toc-item-num\">3.2.2&nbsp;&nbsp;</span>Random forest model <a id=\"imbalanced_RF\" rel=\"nofollow\"> </a></a></span></li></ul></li><li><span><a href=\"#Conclusions--\" data-toc-modified-id=\"Conclusions---3.3\"><span class=\"toc-item-num\">3.3&nbsp;&nbsp;</span>Conclusions <a id=\"conclusions_3_3\" rel=\"nofollow\"> </a></a></span></li></ul></li><li><span><a href=\"#Fighting-imbalance--\" data-toc-modified-id=\"Fighting-imbalance---4\"><span class=\"toc-item-num\">4&nbsp;&nbsp;</span>Fighting imbalance <a id=\"fighting_imbalance\" rel=\"nofollow\"> </a></a></span><ul class=\"toc-item\"><li><span><a href=\"#Autobalance--\" data-toc-modified-id=\"Autobalance---4.1\"><span class=\"toc-item-num\">4.1&nbsp;&nbsp;</span>Autobalance <a id=\"auto_balance\" rel=\"nofollow\"> </a></a></span><ul class=\"toc-item\"><li><span><a href=\"#Logistic-regression-model--\" data-toc-modified-id=\"Logistic-regression-model---4.1.1\"><span class=\"toc-item-num\">4.1.1&nbsp;&nbsp;</span>Logistic regression model <a id=\"auto_balance_LR\" rel=\"nofollow\"> </a></a></span></li><li><span><a href=\"#Random-forest-model--\" data-toc-modified-id=\"Random-forest-model---4.1.2\"><span class=\"toc-item-num\">4.1.2&nbsp;&nbsp;</span>Random forest model <a id=\"auto_balance_RF\" rel=\"nofollow\"> </a></a></span></li></ul></li><li><span><a href=\"#Upsampling--\" data-toc-modified-id=\"Upsampling---4.2\"><span class=\"toc-item-num\">4.2&nbsp;&nbsp;</span>Upsampling <a id=\"upsampling\" rel=\"nofollow\"> </a></a></span><ul class=\"toc-item\"><li><span><a href=\"#Logistic-regression-model--\" data-toc-modified-id=\"Logistic-regression-model---4.2.1\"><span class=\"toc-item-num\">4.2.1&nbsp;&nbsp;</span>Logistic regression model <a id=\"upsampled_LR\" rel=\"nofollow\"> </a></a></span></li><li><span><a href=\"#Random-forest-model--\" data-toc-modified-id=\"Random-forest-model---4.2.2\"><span class=\"toc-item-num\">4.2.2&nbsp;&nbsp;</span>Random forest model <a id=\"upsampled_RF\" rel=\"nofollow\"> </a></a></span></li></ul></li><li><span><a href=\"#Downsampling--\" data-toc-modified-id=\"Downsampling---4.3\"><span class=\"toc-item-num\">4.3&nbsp;&nbsp;</span>Downsampling <a id=\"downsampling\" rel=\"nofollow\"> </a></a></span><ul class=\"toc-item\"><li><span><a href=\"#Logistic-regression-model--\" data-toc-modified-id=\"Logistic-regression-model---4.3.1\"><span class=\"toc-item-num\">4.3.1&nbsp;&nbsp;</span>Logistic regression model <a id=\"downsampled_LR\" rel=\"nofollow\"> </a></a></span></li><li><span><a href=\"#Random-forest-model--\" data-toc-modified-id=\"Random-forest-model---4.3.2\"><span class=\"toc-item-num\">4.3.2&nbsp;&nbsp;</span>Random forest model <a id=\"downsampled_RF\" rel=\"nofollow\"> </a></a></span></li></ul></li><li><span><a href=\"#Conclusions--\" data-toc-modified-id=\"Conclusions---4.4\"><span class=\"toc-item-num\">4.4&nbsp;&nbsp;</span>Conclusions <a id=\"conclusions_4_4\" rel=\"nofollow\"> </a></a></span></li></ul></li><li><span><a href=\"#Model-testing--\" data-toc-modified-id=\"Model-testing---5\"><span class=\"toc-item-num\">5&nbsp;&nbsp;</span>Model testing <a id=\"final_testing\" rel=\"nofollow\"> </a></a></span></li><li><span><a href=\"#Research-results-and-general-conclusion--\" data-toc-modified-id=\"Research-results-and-general-conclusion---6\"><span class=\"toc-item-num\">6&nbsp;&nbsp;</span>Research results and general conclusion <a id=\"research_results\" rel=\"nofollow\"> </a></a></span></li></ul></div>"
   ]
  },
  {
   "cell_type": "markdown",
   "metadata": {},
   "source": [
    "## Research goal and work plan <a id='purpose'> </a>"
   ]
  },
  {
   "cell_type": "markdown",
   "metadata": {},
   "source": [
    "Clients started leaving the bank. Every month. A little, but noticeable. Banking marketers figured it was cheaper to keep current customers than to attract new ones.  \n",
    "\n",
    "**Task**  \n",
    "\n",
    "It is necessary to predict whether the client will leave the bank in the near future or not. We have been provided with historical data on customer behavior and termination of agreements with the bank. It is necessary to build a model with the maximum *F1*-measure not less than 0.59.  \n",
    "\n",
    "Data Source: [https://www.kaggle.com/barelydedicated/bank-customer-churn-modeling](https://www.kaggle.com/barelydedicated/bank-customer-churn-modeling)   \n",
    "\n",
    "**Data description**  \n",
    "\n",
    "*Features* \n",
    "\n",
    "- `RowNumber` - row index in the data  \n",
    "- `CustomerId` - unique customer ID  \n",
    "- `Surname` - surname  \n",
    "- `CreditScore` - credit rating  \n",
    "- `Geography` - country of residence  \n",
    "- `Gender` - gender  \n",
    "- `Age` - age  \n",
    "- `Tenure` - how many years a person has been a client of the bank  \n",
    "- `Balance` - account balance  \n",
    "- `NumOfProducts` - the number of bank products used by the client  \n",
    "- `HasCrCard` - the presence of a credit card  \n",
    "- `IsActiveMember` - client activity  \n",
    "- `EstimatedSalary` - estimated salary  \n",
    "\n",
    "*Target feature*  \n",
    "\n",
    "- `Exited` - the fact that the client left    \n",
    "\n",
    "**Work plan**\n",
    "\n",
    "This work consists of the following steps:  \n",
    "1) Data preparation:  \n",
    "- upload and prepare data;  \n",
    "- explain the procedure.  \n",
    "\n",
    "2) Study of the task:  \n",
    "- explore the balance of classes;  \n",
    "- train the model without taking into account the imbalance;  \n",
    "- Briefly describe the conclusions.  \n",
    "\n",
    "3) Fighting imbalance:  \n",
    "- improve the quality of the model, taking into account the imbalance of classes;  \n",
    "- train different models and find the best one;  \n",
    "- Briefly describe the conclusions.  \n",
    "\n",
    "4) Model testing:  \n",
    "- we will carry out final testing;  \n",
    "\n",
    "5) Results of the study and general conclusion.   \n",
    "\n",
    "<div>\n",
    "    <br/>\n",
    "    <a href=#content>Back to content</a>\n",
    "</div>"
   ]
  },
  {
   "cell_type": "markdown",
   "metadata": {},
   "source": [
    "## Data preparation <a id='data_preparation'> </a>"
   ]
  },
  {
   "cell_type": "markdown",
   "metadata": {},
   "source": [
    "### Data overview <a id='data_overview'> </a>"
   ]
  },
  {
   "cell_type": "markdown",
   "metadata": {},
   "source": [
    "We import all the necessary libraries for the study."
   ]
  },
  {
   "cell_type": "code",
   "execution_count": 1,
   "metadata": {},
   "outputs": [],
   "source": [
    "import pandas as pd\n",
    "import missingno\n",
    "import matplotlib.pyplot as plt\n",
    "from sklearn.model_selection import train_test_split, GridSearchCV\n",
    "from sklearn.preprocessing import StandardScaler\n",
    "from sklearn.linear_model import LogisticRegression\n",
    "from sklearn.ensemble import RandomForestClassifier\n",
    "from sklearn.metrics import accuracy_score, recall_score, precision_score, f1_score, roc_auc_score, confusion_matrix, ConfusionMatrixDisplay\n",
    "from sklearn.utils import shuffle\n",
    "import warnings\n",
    "warnings.filterwarnings('ignore')"
   ]
  },
  {
   "cell_type": "code",
   "execution_count": 2,
   "metadata": {
    "scrolled": false
   },
   "outputs": [
    {
     "data": {
      "text/html": [
       "<div>\n",
       "<style scoped>\n",
       "    .dataframe tbody tr th:only-of-type {\n",
       "        vertical-align: middle;\n",
       "    }\n",
       "\n",
       "    .dataframe tbody tr th {\n",
       "        vertical-align: top;\n",
       "    }\n",
       "\n",
       "    .dataframe thead th {\n",
       "        text-align: right;\n",
       "    }\n",
       "</style>\n",
       "<table border=\"1\" class=\"dataframe\">\n",
       "  <thead>\n",
       "    <tr style=\"text-align: right;\">\n",
       "      <th></th>\n",
       "      <th>RowNumber</th>\n",
       "      <th>CustomerId</th>\n",
       "      <th>Surname</th>\n",
       "      <th>CreditScore</th>\n",
       "      <th>Geography</th>\n",
       "      <th>Gender</th>\n",
       "      <th>Age</th>\n",
       "      <th>Tenure</th>\n",
       "      <th>Balance</th>\n",
       "      <th>NumOfProducts</th>\n",
       "      <th>HasCrCard</th>\n",
       "      <th>IsActiveMember</th>\n",
       "      <th>EstimatedSalary</th>\n",
       "      <th>Exited</th>\n",
       "    </tr>\n",
       "  </thead>\n",
       "  <tbody>\n",
       "    <tr>\n",
       "      <th>0</th>\n",
       "      <td>1</td>\n",
       "      <td>15634602</td>\n",
       "      <td>Hargrave</td>\n",
       "      <td>619</td>\n",
       "      <td>France</td>\n",
       "      <td>Female</td>\n",
       "      <td>42</td>\n",
       "      <td>2.0</td>\n",
       "      <td>0.00</td>\n",
       "      <td>1</td>\n",
       "      <td>1</td>\n",
       "      <td>1</td>\n",
       "      <td>101348.88</td>\n",
       "      <td>1</td>\n",
       "    </tr>\n",
       "    <tr>\n",
       "      <th>1</th>\n",
       "      <td>2</td>\n",
       "      <td>15647311</td>\n",
       "      <td>Hill</td>\n",
       "      <td>608</td>\n",
       "      <td>Spain</td>\n",
       "      <td>Female</td>\n",
       "      <td>41</td>\n",
       "      <td>1.0</td>\n",
       "      <td>83807.86</td>\n",
       "      <td>1</td>\n",
       "      <td>0</td>\n",
       "      <td>1</td>\n",
       "      <td>112542.58</td>\n",
       "      <td>0</td>\n",
       "    </tr>\n",
       "    <tr>\n",
       "      <th>2</th>\n",
       "      <td>3</td>\n",
       "      <td>15619304</td>\n",
       "      <td>Onio</td>\n",
       "      <td>502</td>\n",
       "      <td>France</td>\n",
       "      <td>Female</td>\n",
       "      <td>42</td>\n",
       "      <td>8.0</td>\n",
       "      <td>159660.80</td>\n",
       "      <td>3</td>\n",
       "      <td>1</td>\n",
       "      <td>0</td>\n",
       "      <td>113931.57</td>\n",
       "      <td>1</td>\n",
       "    </tr>\n",
       "    <tr>\n",
       "      <th>3</th>\n",
       "      <td>4</td>\n",
       "      <td>15701354</td>\n",
       "      <td>Boni</td>\n",
       "      <td>699</td>\n",
       "      <td>France</td>\n",
       "      <td>Female</td>\n",
       "      <td>39</td>\n",
       "      <td>1.0</td>\n",
       "      <td>0.00</td>\n",
       "      <td>2</td>\n",
       "      <td>0</td>\n",
       "      <td>0</td>\n",
       "      <td>93826.63</td>\n",
       "      <td>0</td>\n",
       "    </tr>\n",
       "    <tr>\n",
       "      <th>4</th>\n",
       "      <td>5</td>\n",
       "      <td>15737888</td>\n",
       "      <td>Mitchell</td>\n",
       "      <td>850</td>\n",
       "      <td>Spain</td>\n",
       "      <td>Female</td>\n",
       "      <td>43</td>\n",
       "      <td>2.0</td>\n",
       "      <td>125510.82</td>\n",
       "      <td>1</td>\n",
       "      <td>1</td>\n",
       "      <td>1</td>\n",
       "      <td>79084.10</td>\n",
       "      <td>0</td>\n",
       "    </tr>\n",
       "    <tr>\n",
       "      <th>5</th>\n",
       "      <td>6</td>\n",
       "      <td>15574012</td>\n",
       "      <td>Chu</td>\n",
       "      <td>645</td>\n",
       "      <td>Spain</td>\n",
       "      <td>Male</td>\n",
       "      <td>44</td>\n",
       "      <td>8.0</td>\n",
       "      <td>113755.78</td>\n",
       "      <td>2</td>\n",
       "      <td>1</td>\n",
       "      <td>0</td>\n",
       "      <td>149756.71</td>\n",
       "      <td>1</td>\n",
       "    </tr>\n",
       "    <tr>\n",
       "      <th>6</th>\n",
       "      <td>7</td>\n",
       "      <td>15592531</td>\n",
       "      <td>Bartlett</td>\n",
       "      <td>822</td>\n",
       "      <td>France</td>\n",
       "      <td>Male</td>\n",
       "      <td>50</td>\n",
       "      <td>7.0</td>\n",
       "      <td>0.00</td>\n",
       "      <td>2</td>\n",
       "      <td>1</td>\n",
       "      <td>1</td>\n",
       "      <td>10062.80</td>\n",
       "      <td>0</td>\n",
       "    </tr>\n",
       "    <tr>\n",
       "      <th>7</th>\n",
       "      <td>8</td>\n",
       "      <td>15656148</td>\n",
       "      <td>Obinna</td>\n",
       "      <td>376</td>\n",
       "      <td>Germany</td>\n",
       "      <td>Female</td>\n",
       "      <td>29</td>\n",
       "      <td>4.0</td>\n",
       "      <td>115046.74</td>\n",
       "      <td>4</td>\n",
       "      <td>1</td>\n",
       "      <td>0</td>\n",
       "      <td>119346.88</td>\n",
       "      <td>1</td>\n",
       "    </tr>\n",
       "    <tr>\n",
       "      <th>8</th>\n",
       "      <td>9</td>\n",
       "      <td>15792365</td>\n",
       "      <td>He</td>\n",
       "      <td>501</td>\n",
       "      <td>France</td>\n",
       "      <td>Male</td>\n",
       "      <td>44</td>\n",
       "      <td>4.0</td>\n",
       "      <td>142051.07</td>\n",
       "      <td>2</td>\n",
       "      <td>0</td>\n",
       "      <td>1</td>\n",
       "      <td>74940.50</td>\n",
       "      <td>0</td>\n",
       "    </tr>\n",
       "    <tr>\n",
       "      <th>9</th>\n",
       "      <td>10</td>\n",
       "      <td>15592389</td>\n",
       "      <td>H?</td>\n",
       "      <td>684</td>\n",
       "      <td>France</td>\n",
       "      <td>Male</td>\n",
       "      <td>27</td>\n",
       "      <td>2.0</td>\n",
       "      <td>134603.88</td>\n",
       "      <td>1</td>\n",
       "      <td>1</td>\n",
       "      <td>1</td>\n",
       "      <td>71725.73</td>\n",
       "      <td>0</td>\n",
       "    </tr>\n",
       "    <tr>\n",
       "      <th>10</th>\n",
       "      <td>11</td>\n",
       "      <td>15767821</td>\n",
       "      <td>Bearce</td>\n",
       "      <td>528</td>\n",
       "      <td>France</td>\n",
       "      <td>Male</td>\n",
       "      <td>31</td>\n",
       "      <td>6.0</td>\n",
       "      <td>102016.72</td>\n",
       "      <td>2</td>\n",
       "      <td>0</td>\n",
       "      <td>0</td>\n",
       "      <td>80181.12</td>\n",
       "      <td>0</td>\n",
       "    </tr>\n",
       "    <tr>\n",
       "      <th>11</th>\n",
       "      <td>12</td>\n",
       "      <td>15737173</td>\n",
       "      <td>Andrews</td>\n",
       "      <td>497</td>\n",
       "      <td>Spain</td>\n",
       "      <td>Male</td>\n",
       "      <td>24</td>\n",
       "      <td>3.0</td>\n",
       "      <td>0.00</td>\n",
       "      <td>2</td>\n",
       "      <td>1</td>\n",
       "      <td>0</td>\n",
       "      <td>76390.01</td>\n",
       "      <td>0</td>\n",
       "    </tr>\n",
       "    <tr>\n",
       "      <th>12</th>\n",
       "      <td>13</td>\n",
       "      <td>15632264</td>\n",
       "      <td>Kay</td>\n",
       "      <td>476</td>\n",
       "      <td>France</td>\n",
       "      <td>Female</td>\n",
       "      <td>34</td>\n",
       "      <td>10.0</td>\n",
       "      <td>0.00</td>\n",
       "      <td>2</td>\n",
       "      <td>1</td>\n",
       "      <td>0</td>\n",
       "      <td>26260.98</td>\n",
       "      <td>0</td>\n",
       "    </tr>\n",
       "    <tr>\n",
       "      <th>13</th>\n",
       "      <td>14</td>\n",
       "      <td>15691483</td>\n",
       "      <td>Chin</td>\n",
       "      <td>549</td>\n",
       "      <td>France</td>\n",
       "      <td>Female</td>\n",
       "      <td>25</td>\n",
       "      <td>5.0</td>\n",
       "      <td>0.00</td>\n",
       "      <td>2</td>\n",
       "      <td>0</td>\n",
       "      <td>0</td>\n",
       "      <td>190857.79</td>\n",
       "      <td>0</td>\n",
       "    </tr>\n",
       "    <tr>\n",
       "      <th>14</th>\n",
       "      <td>15</td>\n",
       "      <td>15600882</td>\n",
       "      <td>Scott</td>\n",
       "      <td>635</td>\n",
       "      <td>Spain</td>\n",
       "      <td>Female</td>\n",
       "      <td>35</td>\n",
       "      <td>7.0</td>\n",
       "      <td>0.00</td>\n",
       "      <td>2</td>\n",
       "      <td>1</td>\n",
       "      <td>1</td>\n",
       "      <td>65951.65</td>\n",
       "      <td>0</td>\n",
       "    </tr>\n",
       "    <tr>\n",
       "      <th>15</th>\n",
       "      <td>16</td>\n",
       "      <td>15643966</td>\n",
       "      <td>Goforth</td>\n",
       "      <td>616</td>\n",
       "      <td>Germany</td>\n",
       "      <td>Male</td>\n",
       "      <td>45</td>\n",
       "      <td>3.0</td>\n",
       "      <td>143129.41</td>\n",
       "      <td>2</td>\n",
       "      <td>0</td>\n",
       "      <td>1</td>\n",
       "      <td>64327.26</td>\n",
       "      <td>0</td>\n",
       "    </tr>\n",
       "    <tr>\n",
       "      <th>16</th>\n",
       "      <td>17</td>\n",
       "      <td>15737452</td>\n",
       "      <td>Romeo</td>\n",
       "      <td>653</td>\n",
       "      <td>Germany</td>\n",
       "      <td>Male</td>\n",
       "      <td>58</td>\n",
       "      <td>1.0</td>\n",
       "      <td>132602.88</td>\n",
       "      <td>1</td>\n",
       "      <td>1</td>\n",
       "      <td>0</td>\n",
       "      <td>5097.67</td>\n",
       "      <td>1</td>\n",
       "    </tr>\n",
       "    <tr>\n",
       "      <th>17</th>\n",
       "      <td>18</td>\n",
       "      <td>15788218</td>\n",
       "      <td>Henderson</td>\n",
       "      <td>549</td>\n",
       "      <td>Spain</td>\n",
       "      <td>Female</td>\n",
       "      <td>24</td>\n",
       "      <td>9.0</td>\n",
       "      <td>0.00</td>\n",
       "      <td>2</td>\n",
       "      <td>1</td>\n",
       "      <td>1</td>\n",
       "      <td>14406.41</td>\n",
       "      <td>0</td>\n",
       "    </tr>\n",
       "    <tr>\n",
       "      <th>18</th>\n",
       "      <td>19</td>\n",
       "      <td>15661507</td>\n",
       "      <td>Muldrow</td>\n",
       "      <td>587</td>\n",
       "      <td>Spain</td>\n",
       "      <td>Male</td>\n",
       "      <td>45</td>\n",
       "      <td>6.0</td>\n",
       "      <td>0.00</td>\n",
       "      <td>1</td>\n",
       "      <td>0</td>\n",
       "      <td>0</td>\n",
       "      <td>158684.81</td>\n",
       "      <td>0</td>\n",
       "    </tr>\n",
       "    <tr>\n",
       "      <th>19</th>\n",
       "      <td>20</td>\n",
       "      <td>15568982</td>\n",
       "      <td>Hao</td>\n",
       "      <td>726</td>\n",
       "      <td>France</td>\n",
       "      <td>Female</td>\n",
       "      <td>24</td>\n",
       "      <td>6.0</td>\n",
       "      <td>0.00</td>\n",
       "      <td>2</td>\n",
       "      <td>1</td>\n",
       "      <td>1</td>\n",
       "      <td>54724.03</td>\n",
       "      <td>0</td>\n",
       "    </tr>\n",
       "  </tbody>\n",
       "</table>\n",
       "</div>"
      ],
      "text/plain": [
       "    RowNumber  CustomerId    Surname  CreditScore Geography  Gender  Age  \\\n",
       "0           1    15634602   Hargrave          619    France  Female   42   \n",
       "1           2    15647311       Hill          608     Spain  Female   41   \n",
       "2           3    15619304       Onio          502    France  Female   42   \n",
       "3           4    15701354       Boni          699    France  Female   39   \n",
       "4           5    15737888   Mitchell          850     Spain  Female   43   \n",
       "5           6    15574012        Chu          645     Spain    Male   44   \n",
       "6           7    15592531   Bartlett          822    France    Male   50   \n",
       "7           8    15656148     Obinna          376   Germany  Female   29   \n",
       "8           9    15792365         He          501    France    Male   44   \n",
       "9          10    15592389         H?          684    France    Male   27   \n",
       "10         11    15767821     Bearce          528    France    Male   31   \n",
       "11         12    15737173    Andrews          497     Spain    Male   24   \n",
       "12         13    15632264        Kay          476    France  Female   34   \n",
       "13         14    15691483       Chin          549    France  Female   25   \n",
       "14         15    15600882      Scott          635     Spain  Female   35   \n",
       "15         16    15643966    Goforth          616   Germany    Male   45   \n",
       "16         17    15737452      Romeo          653   Germany    Male   58   \n",
       "17         18    15788218  Henderson          549     Spain  Female   24   \n",
       "18         19    15661507    Muldrow          587     Spain    Male   45   \n",
       "19         20    15568982        Hao          726    France  Female   24   \n",
       "\n",
       "    Tenure    Balance  NumOfProducts  HasCrCard  IsActiveMember  \\\n",
       "0      2.0       0.00              1          1               1   \n",
       "1      1.0   83807.86              1          0               1   \n",
       "2      8.0  159660.80              3          1               0   \n",
       "3      1.0       0.00              2          0               0   \n",
       "4      2.0  125510.82              1          1               1   \n",
       "5      8.0  113755.78              2          1               0   \n",
       "6      7.0       0.00              2          1               1   \n",
       "7      4.0  115046.74              4          1               0   \n",
       "8      4.0  142051.07              2          0               1   \n",
       "9      2.0  134603.88              1          1               1   \n",
       "10     6.0  102016.72              2          0               0   \n",
       "11     3.0       0.00              2          1               0   \n",
       "12    10.0       0.00              2          1               0   \n",
       "13     5.0       0.00              2          0               0   \n",
       "14     7.0       0.00              2          1               1   \n",
       "15     3.0  143129.41              2          0               1   \n",
       "16     1.0  132602.88              1          1               0   \n",
       "17     9.0       0.00              2          1               1   \n",
       "18     6.0       0.00              1          0               0   \n",
       "19     6.0       0.00              2          1               1   \n",
       "\n",
       "    EstimatedSalary  Exited  \n",
       "0         101348.88       1  \n",
       "1         112542.58       0  \n",
       "2         113931.57       1  \n",
       "3          93826.63       0  \n",
       "4          79084.10       0  \n",
       "5         149756.71       1  \n",
       "6          10062.80       0  \n",
       "7         119346.88       1  \n",
       "8          74940.50       0  \n",
       "9          71725.73       0  \n",
       "10         80181.12       0  \n",
       "11         76390.01       0  \n",
       "12         26260.98       0  \n",
       "13        190857.79       0  \n",
       "14         65951.65       0  \n",
       "15         64327.26       0  \n",
       "16          5097.67       1  \n",
       "17         14406.41       0  \n",
       "18        158684.81       0  \n",
       "19         54724.03       0  "
      ]
     },
     "execution_count": 2,
     "metadata": {},
     "output_type": "execute_result"
    }
   ],
   "source": [
    "df = pd.read_csv('Churn.csv')\n",
    "df.head(20)"
   ]
  },
  {
   "cell_type": "markdown",
   "metadata": {},
   "source": [
    "Let's display general information about the dataframe."
   ]
  },
  {
   "cell_type": "code",
   "execution_count": 3,
   "metadata": {
    "scrolled": false
   },
   "outputs": [
    {
     "name": "stdout",
     "output_type": "stream",
     "text": [
      "<class 'pandas.core.frame.DataFrame'>\n",
      "RangeIndex: 10000 entries, 0 to 9999\n",
      "Data columns (total 14 columns):\n",
      " #   Column           Non-Null Count  Dtype  \n",
      "---  ------           --------------  -----  \n",
      " 0   RowNumber        10000 non-null  int64  \n",
      " 1   CustomerId       10000 non-null  int64  \n",
      " 2   Surname          10000 non-null  object \n",
      " 3   CreditScore      10000 non-null  int64  \n",
      " 4   Geography        10000 non-null  object \n",
      " 5   Gender           10000 non-null  object \n",
      " 6   Age              10000 non-null  int64  \n",
      " 7   Tenure           9091 non-null   float64\n",
      " 8   Balance          10000 non-null  float64\n",
      " 9   NumOfProducts    10000 non-null  int64  \n",
      " 10  HasCrCard        10000 non-null  int64  \n",
      " 11  IsActiveMember   10000 non-null  int64  \n",
      " 12  EstimatedSalary  10000 non-null  float64\n",
      " 13  Exited           10000 non-null  int64  \n",
      "dtypes: float64(3), int64(8), object(3)\n",
      "memory usage: 1.1+ MB\n"
     ]
    }
   ],
   "source": [
    "df.info()"
   ]
  },
  {
   "cell_type": "markdown",
   "metadata": {},
   "source": [
    "#### 2.1.1. Conclusions <a id='conclusions_2_1_1'> </a>"
   ]
  },
  {
   "cell_type": "markdown",
   "metadata": {},
   "source": [
    "The following conclusions can be drawn from the general data:  \n",
    "1) the table has 10,000 rows and 14 columns;  \n",
    "2) column names are capitalized and written in one word - it is required to bring the names of all columns to lowercase and \"snake\" format;  \n",
    "3) there are gaps in the `Tenure` column;  \n",
    "4) changing the data types of the columns is not required;  \n",
    "5) there are six categorical features in the dataset, including the target feature: `Surname`, `Geography`, `Gender`, `HasCrCard`, `IsActiveMember`, `Exited`. The rest are quantitative.  \n",
    "<div>\n",
    "    <br/>\n",
    "    <a href=#content>Back to content</a>\n",
    "</div>"
   ]
  },
  {
   "cell_type": "markdown",
   "metadata": {},
   "source": [
    "### Data preprocessing <a id='data_preprocessing'> </a>"
   ]
  },
  {
   "cell_type": "markdown",
   "metadata": {},
   "source": [
    "#### Changing column names <a id='column_names_change'> </a>"
   ]
  },
  {
   "cell_type": "markdown",
   "metadata": {},
   "source": [
    "Let's bring the names of all columns to lowercase and \"snake\" format."
   ]
  },
  {
   "cell_type": "code",
   "execution_count": 4,
   "metadata": {},
   "outputs": [
    {
     "data": {
      "text/plain": [
       "Index(['row_number', 'customer_id', 'surname', 'credit_score', 'geography',\n",
       "       'gender', 'age', 'tenure', 'balance', 'num_of_products', 'has_cr_card',\n",
       "       'is_active_member', 'estimated_salary', 'exited'],\n",
       "      dtype='object')"
      ]
     },
     "execution_count": 4,
     "metadata": {},
     "output_type": "execute_result"
    }
   ],
   "source": [
    "df.columns = df.columns.str.replace(r\"([A-Z])\", r\" \\1\").str.lower().str.replace(' ', '_').str[1:]\n",
    "df.columns"
   ]
  },
  {
   "cell_type": "markdown",
   "metadata": {},
   "source": [
    "#### Gap handling <a id='gaps'> </a>"
   ]
  },
  {
   "cell_type": "markdown",
   "metadata": {},
   "source": [
    "We visualize the number of allowances by columns."
   ]
  },
  {
   "cell_type": "code",
   "execution_count": 5,
   "metadata": {
    "scrolled": false
   },
   "outputs": [
    {
     "data": {
      "image/png": "[encoded data removed]",
      "text/plain": [
       "<Figure size 720x360 with 3 Axes>"
      ]
     },
     "metadata": {
      "needs_background": "light"
     },
     "output_type": "display_data"
    }
   ],
   "source": [
    "missingno.bar(df, color=\"dodgerblue\", sort=\"ascending\", figsize=(10,5), fontsize=12);"
   ]
  },
  {
   "cell_type": "markdown",
   "metadata": {},
   "source": [
    "There are 909 missing values in the `tenure` column. Let's look at several rows with gaps in this column and all the unique values of the column."
   ]
  },
  {
   "cell_type": "code",
   "execution_count": 6,
   "metadata": {
    "scrolled": true
   },
   "outputs": [
    {
     "data": {
      "text/html": [
       "<div>\n",
       "<style scoped>\n",
       "    .dataframe tbody tr th:only-of-type {\n",
       "        vertical-align: middle;\n",
       "    }\n",
       "\n",
       "    .dataframe tbody tr th {\n",
       "        vertical-align: top;\n",
       "    }\n",
       "\n",
       "    .dataframe thead th {\n",
       "        text-align: right;\n",
       "    }\n",
       "</style>\n",
       "<table border=\"1\" class=\"dataframe\">\n",
       "  <thead>\n",
       "    <tr style=\"text-align: right;\">\n",
       "      <th></th>\n",
       "      <th>row_number</th>\n",
       "      <th>customer_id</th>\n",
       "      <th>surname</th>\n",
       "      <th>credit_score</th>\n",
       "      <th>geography</th>\n",
       "      <th>gender</th>\n",
       "      <th>age</th>\n",
       "      <th>tenure</th>\n",
       "      <th>balance</th>\n",
       "      <th>num_of_products</th>\n",
       "      <th>has_cr_card</th>\n",
       "      <th>is_active_member</th>\n",
       "      <th>estimated_salary</th>\n",
       "      <th>exited</th>\n",
       "    </tr>\n",
       "  </thead>\n",
       "  <tbody>\n",
       "    <tr>\n",
       "      <th>30</th>\n",
       "      <td>31</td>\n",
       "      <td>15589475</td>\n",
       "      <td>Azikiwe</td>\n",
       "      <td>591</td>\n",
       "      <td>Spain</td>\n",
       "      <td>Female</td>\n",
       "      <td>39</td>\n",
       "      <td>NaN</td>\n",
       "      <td>0.00</td>\n",
       "      <td>3</td>\n",
       "      <td>1</td>\n",
       "      <td>0</td>\n",
       "      <td>140469.38</td>\n",
       "      <td>1</td>\n",
       "    </tr>\n",
       "    <tr>\n",
       "      <th>48</th>\n",
       "      <td>49</td>\n",
       "      <td>15766205</td>\n",
       "      <td>Yin</td>\n",
       "      <td>550</td>\n",
       "      <td>Germany</td>\n",
       "      <td>Male</td>\n",
       "      <td>38</td>\n",
       "      <td>NaN</td>\n",
       "      <td>103391.38</td>\n",
       "      <td>1</td>\n",
       "      <td>0</td>\n",
       "      <td>1</td>\n",
       "      <td>90878.13</td>\n",
       "      <td>0</td>\n",
       "    </tr>\n",
       "    <tr>\n",
       "      <th>51</th>\n",
       "      <td>52</td>\n",
       "      <td>15768193</td>\n",
       "      <td>Trevisani</td>\n",
       "      <td>585</td>\n",
       "      <td>Germany</td>\n",
       "      <td>Male</td>\n",
       "      <td>36</td>\n",
       "      <td>NaN</td>\n",
       "      <td>146050.97</td>\n",
       "      <td>2</td>\n",
       "      <td>0</td>\n",
       "      <td>0</td>\n",
       "      <td>86424.57</td>\n",
       "      <td>0</td>\n",
       "    </tr>\n",
       "    <tr>\n",
       "      <th>53</th>\n",
       "      <td>54</td>\n",
       "      <td>15702298</td>\n",
       "      <td>Parkhill</td>\n",
       "      <td>655</td>\n",
       "      <td>Germany</td>\n",
       "      <td>Male</td>\n",
       "      <td>41</td>\n",
       "      <td>NaN</td>\n",
       "      <td>125561.97</td>\n",
       "      <td>1</td>\n",
       "      <td>0</td>\n",
       "      <td>0</td>\n",
       "      <td>164040.94</td>\n",
       "      <td>1</td>\n",
       "    </tr>\n",
       "    <tr>\n",
       "      <th>60</th>\n",
       "      <td>61</td>\n",
       "      <td>15651280</td>\n",
       "      <td>Hunter</td>\n",
       "      <td>742</td>\n",
       "      <td>Germany</td>\n",
       "      <td>Male</td>\n",
       "      <td>35</td>\n",
       "      <td>NaN</td>\n",
       "      <td>136857.00</td>\n",
       "      <td>1</td>\n",
       "      <td>0</td>\n",
       "      <td>0</td>\n",
       "      <td>84509.57</td>\n",
       "      <td>0</td>\n",
       "    </tr>\n",
       "  </tbody>\n",
       "</table>\n",
       "</div>"
      ],
      "text/plain": [
       "    row_number  customer_id    surname  credit_score geography  gender  age  \\\n",
       "30          31     15589475    Azikiwe           591     Spain  Female   39   \n",
       "48          49     15766205        Yin           550   Germany    Male   38   \n",
       "51          52     15768193  Trevisani           585   Germany    Male   36   \n",
       "53          54     15702298   Parkhill           655   Germany    Male   41   \n",
       "60          61     15651280     Hunter           742   Germany    Male   35   \n",
       "\n",
       "    tenure    balance  num_of_products  has_cr_card  is_active_member  \\\n",
       "30     NaN       0.00                3            1                 0   \n",
       "48     NaN  103391.38                1            0                 1   \n",
       "51     NaN  146050.97                2            0                 0   \n",
       "53     NaN  125561.97                1            0                 0   \n",
       "60     NaN  136857.00                1            0                 0   \n",
       "\n",
       "    estimated_salary  exited  \n",
       "30         140469.38       1  \n",
       "48          90878.13       0  \n",
       "51          86424.57       0  \n",
       "53         164040.94       1  \n",
       "60          84509.57       0  "
      ]
     },
     "execution_count": 6,
     "metadata": {},
     "output_type": "execute_result"
    }
   ],
   "source": [
    "df.query('tenure.isna()').head()"
   ]
  },
  {
   "cell_type": "code",
   "execution_count": 7,
   "metadata": {
    "scrolled": false
   },
   "outputs": [
    {
     "data": {
      "text/plain": [
       "[0.0, 1.0, 2.0, 3.0, 4.0, 5.0, 6.0, 7.0, 8.0, 9.0, 10.0, nan]"
      ]
     },
     "execution_count": 7,
     "metadata": {},
     "output_type": "execute_result"
    }
   ],
   "source": [
    "sorted(df['tenure'].unique())"
   ]
  },
  {
   "cell_type": "markdown",
   "metadata": {},
   "source": [
    "The range of `tenure` values is how many years a person has been a bank client - from 0 to 10 years.  \n",
    "Missing values cannot be filled in.  \n",
    "This feature is important for building the model, so rows with missing values must be removed.  \n",
    "The reasons for omissions can be: an error in the formula, if the value is calculated automatically, or the optional completion of the form, if how many years a person has been a bank client is indicated manually. It is recommended to investigate the causes of gaps."
   ]
  },
  {
   "cell_type": "markdown",
   "metadata": {},
   "source": [
    "Let's delete the rows with missing values and check the dataframe for gaps again."
   ]
  },
  {
   "cell_type": "code",
   "execution_count": 8,
   "metadata": {},
   "outputs": [
    {
     "data": {
      "text/plain": [
       "(9091, 14)"
      ]
     },
     "execution_count": 8,
     "metadata": {},
     "output_type": "execute_result"
    }
   ],
   "source": [
    "df = df.dropna()\n",
    "df.shape"
   ]
  },
  {
   "cell_type": "code",
   "execution_count": 9,
   "metadata": {},
   "outputs": [
    {
     "data": {
      "image/png": "[encoded data removed]",
      "text/plain": [
       "<Figure size 720x360 with 3 Axes>"
      ]
     },
     "metadata": {
      "needs_background": "light"
     },
     "output_type": "display_data"
    }
   ],
   "source": [
    "missingno.bar(df, color=\"dodgerblue\", sort=\"ascending\", figsize=(10,5), fontsize=12);"
   ]
  },
  {
   "cell_type": "markdown",
   "metadata": {},
   "source": [
    "**Result:** 909 rows with gaps in the `tenure` column were removed from the dataframe."
   ]
  },
  {
   "cell_type": "markdown",
   "metadata": {},
   "source": [
    "#### Handling duplicates <a id='duplicates'> </a>"
   ]
  },
  {
   "cell_type": "markdown",
   "metadata": {},
   "source": [
    "Check the dataframe for duplicate rows."
   ]
  },
  {
   "cell_type": "code",
   "execution_count": 10,
   "metadata": {},
   "outputs": [
    {
     "name": "stdout",
     "output_type": "stream",
     "text": [
      "The table has 0 duplicate rows.\n"
     ]
    }
   ],
   "source": [
    "print(f'The table has {df.duplicated().sum()} duplicate rows.')"
   ]
  },
  {
   "cell_type": "markdown",
   "metadata": {},
   "source": [
    "Let's check the `surname` column for implicit duplicates."
   ]
  },
  {
   "cell_type": "code",
   "execution_count": 11,
   "metadata": {},
   "outputs": [
    {
     "data": {
      "text/plain": [
       "Smith       30\n",
       "Martin      27\n",
       "Scott       26\n",
       "Yeh         25\n",
       "Genovese    25\n",
       "            ..\n",
       "Buckner      1\n",
       "Barling      1\n",
       "Pipes        1\n",
       "Sharp        1\n",
       "Jolly        1\n",
       "Name: surname, Length: 2787, dtype: int64"
      ]
     },
     "execution_count": 11,
     "metadata": {},
     "output_type": "execute_result"
    }
   ],
   "source": [
    "df['surname'].value_counts()"
   ]
  },
  {
   "cell_type": "markdown",
   "metadata": {},
   "source": [
    "There are 2787 unique last names in the `surname` column. Duplicate names are fine."
   ]
  },
  {
   "cell_type": "markdown",
   "metadata": {},
   "source": [
    "Let's check the `gender` column for implicit duplicates."
   ]
  },
  {
   "cell_type": "code",
   "execution_count": 12,
   "metadata": {},
   "outputs": [
    {
     "data": {
      "text/plain": [
       "array(['Female', 'Male'], dtype=object)"
      ]
     },
     "execution_count": 12,
     "metadata": {},
     "output_type": "execute_result"
    }
   ],
   "source": [
    "df['gender'].unique()"
   ]
  },
  {
   "cell_type": "markdown",
   "metadata": {},
   "source": [
    "Everything is correct: two genders - male and female."
   ]
  },
  {
   "cell_type": "markdown",
   "metadata": {},
   "source": [
    "Let's check the `geography` column for implicit duplicates."
   ]
  },
  {
   "cell_type": "code",
   "execution_count": 13,
   "metadata": {},
   "outputs": [
    {
     "data": {
      "text/plain": [
       "array(['France', 'Spain', 'Germany'], dtype=object)"
      ]
     },
     "execution_count": 13,
     "metadata": {},
     "output_type": "execute_result"
    }
   ],
   "source": [
    "df['geography'].unique()"
   ]
  },
  {
   "cell_type": "markdown",
   "metadata": {},
   "source": [
    "The geography is not very wide. The dataset includes bank customers from only three countries: France, Spain and Germany."
   ]
  },
  {
   "cell_type": "markdown",
   "metadata": {},
   "source": [
    "**Result:** There are no duplicate rows and no implicit duplicate column values in the source table."
   ]
  },
  {
   "cell_type": "markdown",
   "metadata": {},
   "source": [
    "#### Handling anomalies <a id='anomalies'> </a>"
   ]
  },
  {
   "cell_type": "markdown",
   "metadata": {},
   "source": [
    "Consider the characteristic values of numerical data sets in the columns of the dataset."
   ]
  },
  {
   "cell_type": "code",
   "execution_count": 14,
   "metadata": {
    "scrolled": false
   },
   "outputs": [
    {
     "data": {
      "text/html": [
       "<div>\n",
       "<style scoped>\n",
       "    .dataframe tbody tr th:only-of-type {\n",
       "        vertical-align: middle;\n",
       "    }\n",
       "\n",
       "    .dataframe tbody tr th {\n",
       "        vertical-align: top;\n",
       "    }\n",
       "\n",
       "    .dataframe thead th {\n",
       "        text-align: right;\n",
       "    }\n",
       "</style>\n",
       "<table border=\"1\" class=\"dataframe\">\n",
       "  <thead>\n",
       "    <tr style=\"text-align: right;\">\n",
       "      <th></th>\n",
       "      <th>row_number</th>\n",
       "      <th>customer_id</th>\n",
       "      <th>credit_score</th>\n",
       "      <th>age</th>\n",
       "      <th>tenure</th>\n",
       "      <th>balance</th>\n",
       "      <th>num_of_products</th>\n",
       "      <th>has_cr_card</th>\n",
       "      <th>is_active_member</th>\n",
       "      <th>estimated_salary</th>\n",
       "      <th>exited</th>\n",
       "    </tr>\n",
       "  </thead>\n",
       "  <tbody>\n",
       "    <tr>\n",
       "      <th>count</th>\n",
       "      <td>9091.00</td>\n",
       "      <td>9091.00</td>\n",
       "      <td>9091.00</td>\n",
       "      <td>9091.00</td>\n",
       "      <td>9091.00</td>\n",
       "      <td>9091.00</td>\n",
       "      <td>9091.00</td>\n",
       "      <td>9091.00</td>\n",
       "      <td>9091.00</td>\n",
       "      <td>9091.00</td>\n",
       "      <td>9091.0</td>\n",
       "    </tr>\n",
       "    <tr>\n",
       "      <th>mean</th>\n",
       "      <td>5013.91</td>\n",
       "      <td>15691053.16</td>\n",
       "      <td>650.74</td>\n",
       "      <td>38.95</td>\n",
       "      <td>5.00</td>\n",
       "      <td>76522.74</td>\n",
       "      <td>1.53</td>\n",
       "      <td>0.70</td>\n",
       "      <td>0.52</td>\n",
       "      <td>100181.21</td>\n",
       "      <td>0.2</td>\n",
       "    </tr>\n",
       "    <tr>\n",
       "      <th>std</th>\n",
       "      <td>2884.43</td>\n",
       "      <td>71614.19</td>\n",
       "      <td>96.41</td>\n",
       "      <td>10.56</td>\n",
       "      <td>2.89</td>\n",
       "      <td>62329.53</td>\n",
       "      <td>0.58</td>\n",
       "      <td>0.46</td>\n",
       "      <td>0.50</td>\n",
       "      <td>57624.76</td>\n",
       "      <td>0.4</td>\n",
       "    </tr>\n",
       "    <tr>\n",
       "      <th>min</th>\n",
       "      <td>1.00</td>\n",
       "      <td>15565701.00</td>\n",
       "      <td>350.00</td>\n",
       "      <td>18.00</td>\n",
       "      <td>0.00</td>\n",
       "      <td>0.00</td>\n",
       "      <td>1.00</td>\n",
       "      <td>0.00</td>\n",
       "      <td>0.00</td>\n",
       "      <td>11.58</td>\n",
       "      <td>0.0</td>\n",
       "    </tr>\n",
       "    <tr>\n",
       "      <th>25%</th>\n",
       "      <td>2521.50</td>\n",
       "      <td>15628985.50</td>\n",
       "      <td>584.00</td>\n",
       "      <td>32.00</td>\n",
       "      <td>2.00</td>\n",
       "      <td>0.00</td>\n",
       "      <td>1.00</td>\n",
       "      <td>0.00</td>\n",
       "      <td>0.00</td>\n",
       "      <td>51227.74</td>\n",
       "      <td>0.0</td>\n",
       "    </tr>\n",
       "    <tr>\n",
       "      <th>50%</th>\n",
       "      <td>5019.00</td>\n",
       "      <td>15691061.00</td>\n",
       "      <td>652.00</td>\n",
       "      <td>37.00</td>\n",
       "      <td>5.00</td>\n",
       "      <td>97318.25</td>\n",
       "      <td>1.00</td>\n",
       "      <td>1.00</td>\n",
       "      <td>1.00</td>\n",
       "      <td>100240.20</td>\n",
       "      <td>0.0</td>\n",
       "    </tr>\n",
       "    <tr>\n",
       "      <th>75%</th>\n",
       "      <td>7511.50</td>\n",
       "      <td>15752851.50</td>\n",
       "      <td>717.00</td>\n",
       "      <td>44.00</td>\n",
       "      <td>7.00</td>\n",
       "      <td>127561.89</td>\n",
       "      <td>2.00</td>\n",
       "      <td>1.00</td>\n",
       "      <td>1.00</td>\n",
       "      <td>149567.21</td>\n",
       "      <td>0.0</td>\n",
       "    </tr>\n",
       "    <tr>\n",
       "      <th>max</th>\n",
       "      <td>9999.00</td>\n",
       "      <td>15815660.00</td>\n",
       "      <td>850.00</td>\n",
       "      <td>92.00</td>\n",
       "      <td>10.00</td>\n",
       "      <td>250898.09</td>\n",
       "      <td>4.00</td>\n",
       "      <td>1.00</td>\n",
       "      <td>1.00</td>\n",
       "      <td>199992.48</td>\n",
       "      <td>1.0</td>\n",
       "    </tr>\n",
       "  </tbody>\n",
       "</table>\n",
       "</div>"
      ],
      "text/plain": [
       "       row_number  customer_id  credit_score      age   tenure    balance  \\\n",
       "count     9091.00      9091.00       9091.00  9091.00  9091.00    9091.00   \n",
       "mean      5013.91  15691053.16        650.74    38.95     5.00   76522.74   \n",
       "std       2884.43     71614.19         96.41    10.56     2.89   62329.53   \n",
       "min          1.00  15565701.00        350.00    18.00     0.00       0.00   \n",
       "25%       2521.50  15628985.50        584.00    32.00     2.00       0.00   \n",
       "50%       5019.00  15691061.00        652.00    37.00     5.00   97318.25   \n",
       "75%       7511.50  15752851.50        717.00    44.00     7.00  127561.89   \n",
       "max       9999.00  15815660.00        850.00    92.00    10.00  250898.09   \n",
       "\n",
       "       num_of_products  has_cr_card  is_active_member  estimated_salary  \\\n",
       "count          9091.00      9091.00           9091.00           9091.00   \n",
       "mean              1.53         0.70              0.52         100181.21   \n",
       "std               0.58         0.46              0.50          57624.76   \n",
       "min               1.00         0.00              0.00             11.58   \n",
       "25%               1.00         0.00              0.00          51227.74   \n",
       "50%               1.00         1.00              1.00         100240.20   \n",
       "75%               2.00         1.00              1.00         149567.21   \n",
       "max               4.00         1.00              1.00         199992.48   \n",
       "\n",
       "       exited  \n",
       "count  9091.0  \n",
       "mean      0.2  \n",
       "std       0.4  \n",
       "min       0.0  \n",
       "25%       0.0  \n",
       "50%       0.0  \n",
       "75%       0.0  \n",
       "max       1.0  "
      ]
     },
     "execution_count": 14,
     "metadata": {},
     "output_type": "execute_result"
    }
   ],
   "source": [
    "df.describe().round(2)"
   ]
  },
  {
   "cell_type": "code",
   "execution_count": 15,
   "metadata": {},
   "outputs": [
    {
     "data": {
      "image/png": "[encoded data removed]",
      "text/plain": [
       "<Figure size 1080x720 with 9 Axes>"
      ]
     },
     "metadata": {
      "needs_background": "light"
     },
     "output_type": "display_data"
    }
   ],
   "source": [
    "df[['credit_score', 'age', 'tenure', \n",
    "    'balance', 'num_of_products', 'has_cr_card', \n",
    "    'is_active_member', 'estimated_salary', 'exited']].hist(figsize=(15, 10));\n",
    "plt.suptitle(\"Histograms of the numerical parameters of the dataset\", fontsize=15);"
   ]
  },
  {
   "cell_type": "markdown",
   "metadata": {},
   "source": [
    "- `row_number` and `customer_id` columns are not interesting for us for analysis;  \n",
    "- column `credit_score`: range of values from 350 to 850, median is almost equal to the mean - no outliers;  \n",
    "- `age` column: age range of clients is from 18 to 92 years old, most of the bank's clients are aged 35 to 40 years old, the median is almost equal to the average - there are no outliers;  \n",
    "- `tenure` column: objects are bank clients from 0 to 10 years, with 10 years being the largest category of clients, and 0 years being the smallest, the median is equal to the average - no outliers;  \n",
    "- column `balance`: range of values from 0 to 250898.09, median is above average - more than 3000 clients have zero balance on their account;  \n",
    "- `num_of_products` column: value range from 1 to 4, no anomalies;  \n",
    "- columns `has_cr_card`, `is_active_member`, `exited`: binary categorical features, take values 0 or 1, no anomalies;  \n",
    "- column `estimated_salary`: range of values from 11.58 to 199992.48, median is almost equal to the mean - no outliers;  \n",
    "- `surname`, `gender` and `geography` columns we considered in the step of processing duplicates. They do not contain anomalous values."
   ]
  },
  {
   "cell_type": "code",
   "execution_count": 16,
   "metadata": {},
   "outputs": [
    {
     "name": "stdout",
     "output_type": "stream",
     "text": [
      "Number of clients with zero account balance: 3283\n"
     ]
    }
   ],
   "source": [
    "print('Number of clients with zero account balance:', len(df.query('balance == 0')))"
   ]
  },
  {
   "cell_type": "markdown",
   "metadata": {},
   "source": [
    "**Result:**  \n",
    "1) it was revealed that 3283 clients have a zero balance on the account (value 0 in the `balance` column) - this is 36% of the dataset;  \n",
    "2) there are no abnormal values in the remaining columns of the dataframe."
   ]
  },
  {
   "cell_type": "markdown",
   "metadata": {},
   "source": [
    "#### Conclusions <a id='conclusions_2_2_5'> </a>"
   ]
  },
  {
   "cell_type": "markdown",
   "metadata": {},
   "source": [
    "As a result of data preprocessing, the following changes were made to the original dataset:  \n",
    "1) the name of all columns is reduced to lowercase and \"snake\" format;  \n",
    "2) removed 909 rows with gaps in the `tenure` column.  \n",
    "\n",
    "It was also revealed that 3283 clients have a zero balance on their account (value 0 in the `balance` column) - this is 36% of the dataset.  \n",
    "\n",
    "It is necessary to pay attention to the lack of data in the `tenure` column in 909 lines and identify the reasons. \n",
    "\n",
    "<div>\n",
    "    <br/>\n",
    "    <a href=#content>Back to content</a>\n",
    "</div>"
   ]
  },
  {
   "cell_type": "markdown",
   "metadata": {},
   "source": [
    "### Feature preparation <a id='features_preparation'> </a>"
   ]
  },
  {
   "cell_type": "markdown",
   "metadata": {},
   "source": [
    "The features `row_number`, `customer_id`, `surname` are of no use for training the model and solving the classification problem, so we will overwrite our dataframe in the `df_1` variable without these columns."
   ]
  },
  {
   "cell_type": "code",
   "execution_count": 17,
   "metadata": {},
   "outputs": [
    {
     "data": {
      "text/plain": [
       "(9091, 11)"
      ]
     },
     "execution_count": 17,
     "metadata": {},
     "output_type": "execute_result"
    }
   ],
   "source": [
    "df_1 = df.drop(['row_number', 'customer_id', 'surname'], axis=1)\n",
    "df_1.shape"
   ]
  },
  {
   "cell_type": "markdown",
   "metadata": {},
   "source": [
    "We will transform the categorical features into numerical ones using the OHE direct coding technique, since it is suitable for all models."
   ]
  },
  {
   "cell_type": "code",
   "execution_count": 18,
   "metadata": {},
   "outputs": [
    {
     "data": {
      "text/plain": [
       "credit_score           int64\n",
       "age                    int64\n",
       "tenure               float64\n",
       "balance              float64\n",
       "num_of_products        int64\n",
       "has_cr_card            int64\n",
       "is_active_member       int64\n",
       "estimated_salary     float64\n",
       "exited                 int64\n",
       "geography_Germany      uint8\n",
       "geography_Spain        uint8\n",
       "gender_Male            uint8\n",
       "dtype: object"
      ]
     },
     "execution_count": 18,
     "metadata": {},
     "output_type": "execute_result"
    }
   ],
   "source": [
    "# set the parameter drop_first=True to avoid the dummy trap\n",
    "df_1_ohe = pd.get_dummies(df_1, columns=['geography', 'gender'], drop_first=True)\n",
    "df_1_ohe.dtypes"
   ]
  },
  {
   "cell_type": "markdown",
   "metadata": {},
   "source": [
    "We see that the categorical features `geography` and `gender` have been transformed, with the first columns (`geography_France` and `gender_Female`) removed to avoid the dummy trap."
   ]
  },
  {
   "cell_type": "markdown",
   "metadata": {},
   "source": [
    "Let's write the features in the `features` variable, and the target feature in the `target` variable."
   ]
  },
  {
   "cell_type": "code",
   "execution_count": 19,
   "metadata": {},
   "outputs": [],
   "source": [
    "features = df_1_ohe.drop('exited', axis=1)\n",
    "target = df_1_ohe['exited']"
   ]
  },
  {
   "cell_type": "markdown",
   "metadata": {},
   "source": [
    "Let's divide the sample into training, validation and test (for final testing) samples in the ratio of 60%, 20% and 20%, respectively."
   ]
  },
  {
   "cell_type": "code",
   "execution_count": 20,
   "metadata": {},
   "outputs": [
    {
     "data": {
      "text/html": [
       "<div>\n",
       "<style scoped>\n",
       "    .dataframe tbody tr th:only-of-type {\n",
       "        vertical-align: middle;\n",
       "    }\n",
       "\n",
       "    .dataframe tbody tr th {\n",
       "        vertical-align: top;\n",
       "    }\n",
       "\n",
       "    .dataframe thead th {\n",
       "        text-align: right;\n",
       "    }\n",
       "</style>\n",
       "<table border=\"1\" class=\"dataframe\">\n",
       "  <thead>\n",
       "    <tr style=\"text-align: right;\">\n",
       "      <th></th>\n",
       "      <th>Sample shape</th>\n",
       "      <th>Share of original data</th>\n",
       "    </tr>\n",
       "  </thead>\n",
       "  <tbody>\n",
       "    <tr>\n",
       "      <th>features_train</th>\n",
       "      <td>(5454, 11)</td>\n",
       "      <td>0.6</td>\n",
       "    </tr>\n",
       "    <tr>\n",
       "      <th>features_valid</th>\n",
       "      <td>(1818, 11)</td>\n",
       "      <td>0.2</td>\n",
       "    </tr>\n",
       "    <tr>\n",
       "      <th>features_test</th>\n",
       "      <td>(1819, 11)</td>\n",
       "      <td>0.2</td>\n",
       "    </tr>\n",
       "  </tbody>\n",
       "</table>\n",
       "</div>"
      ],
      "text/plain": [
       "               Sample shape  Share of original data\n",
       "features_train   (5454, 11)                     0.6\n",
       "features_valid   (1818, 11)                     0.2\n",
       "features_test    (1819, 11)                     0.2"
      ]
     },
     "execution_count": 20,
     "metadata": {},
     "output_type": "execute_result"
    }
   ],
   "source": [
    "# To make the number of classes in the datasets evenly distributed, specify the stratify=target parameter.\n",
    "features_train, features_other, target_train, target_other = train_test_split(features, target, \n",
    "                                                                              test_size=0.4, random_state=12345, \n",
    "                                                                              stratify=target)\n",
    "features_valid, features_test, target_valid, target_test = train_test_split(features_other, target_other, \n",
    "                                                                              test_size=0.5, random_state=12345, \n",
    "                                                                              stratify=target_other)\n",
    "\n",
    "# build a table with the dimensions of the training and validation samples and the proportions of the original data\n",
    "pd.DataFrame({'Sample shape': [features_train.shape, features_valid.shape, features_test.shape],\n",
    "             'Share of original data': [round(len(features_train.index) / len(features.index), 2), \n",
    "                                         round(len(features_valid.index) / len(features.index), 2),\n",
    "                                         round(len(features_test.index) / len(features.index), 2)]}, \n",
    "             index=['features_train', 'features_valid', 'features_test'])"
   ]
  },
  {
   "cell_type": "markdown",
   "metadata": {},
   "source": [
    "Let us perform feature scaling by the data standardization method."
   ]
  },
  {
   "cell_type": "code",
   "execution_count": 21,
   "metadata": {},
   "outputs": [
    {
     "data": {
      "text/html": [
       "<div>\n",
       "<style scoped>\n",
       "    .dataframe tbody tr th:only-of-type {\n",
       "        vertical-align: middle;\n",
       "    }\n",
       "\n",
       "    .dataframe tbody tr th {\n",
       "        vertical-align: top;\n",
       "    }\n",
       "\n",
       "    .dataframe thead th {\n",
       "        text-align: right;\n",
       "    }\n",
       "</style>\n",
       "<table border=\"1\" class=\"dataframe\">\n",
       "  <thead>\n",
       "    <tr style=\"text-align: right;\">\n",
       "      <th></th>\n",
       "      <th>credit_score</th>\n",
       "      <th>age</th>\n",
       "      <th>tenure</th>\n",
       "      <th>balance</th>\n",
       "      <th>num_of_products</th>\n",
       "      <th>has_cr_card</th>\n",
       "      <th>is_active_member</th>\n",
       "      <th>estimated_salary</th>\n",
       "      <th>geography_Germany</th>\n",
       "      <th>geography_Spain</th>\n",
       "      <th>gender_Male</th>\n",
       "    </tr>\n",
       "  </thead>\n",
       "  <tbody>\n",
       "    <tr>\n",
       "      <th>9723</th>\n",
       "      <td>-1.292898</td>\n",
       "      <td>-0.660843</td>\n",
       "      <td>0.686341</td>\n",
       "      <td>0.786636</td>\n",
       "      <td>-0.910943</td>\n",
       "      <td>0</td>\n",
       "      <td>0</td>\n",
       "      <td>-0.223548</td>\n",
       "      <td>0</td>\n",
       "      <td>0</td>\n",
       "      <td>1</td>\n",
       "    </tr>\n",
       "    <tr>\n",
       "      <th>1224</th>\n",
       "      <td>-1.563714</td>\n",
       "      <td>0.778434</td>\n",
       "      <td>1.034232</td>\n",
       "      <td>0.833795</td>\n",
       "      <td>-0.910943</td>\n",
       "      <td>1</td>\n",
       "      <td>0</td>\n",
       "      <td>1.383021</td>\n",
       "      <td>0</td>\n",
       "      <td>1</td>\n",
       "      <td>0</td>\n",
       "    </tr>\n",
       "    <tr>\n",
       "      <th>8377</th>\n",
       "      <td>1.581914</td>\n",
       "      <td>0.106771</td>\n",
       "      <td>-0.357331</td>\n",
       "      <td>-1.222967</td>\n",
       "      <td>0.789359</td>\n",
       "      <td>1</td>\n",
       "      <td>1</td>\n",
       "      <td>-0.308331</td>\n",
       "      <td>0</td>\n",
       "      <td>1</td>\n",
       "      <td>1</td>\n",
       "    </tr>\n",
       "    <tr>\n",
       "      <th>8014</th>\n",
       "      <td>0.842379</td>\n",
       "      <td>0.010820</td>\n",
       "      <td>-1.053112</td>\n",
       "      <td>0.807063</td>\n",
       "      <td>-0.910943</td>\n",
       "      <td>1</td>\n",
       "      <td>1</td>\n",
       "      <td>-0.430980</td>\n",
       "      <td>0</td>\n",
       "      <td>1</td>\n",
       "      <td>0</td>\n",
       "    </tr>\n",
       "    <tr>\n",
       "      <th>2491</th>\n",
       "      <td>-0.397123</td>\n",
       "      <td>-1.236554</td>\n",
       "      <td>-0.357331</td>\n",
       "      <td>-1.222967</td>\n",
       "      <td>0.789359</td>\n",
       "      <td>1</td>\n",
       "      <td>1</td>\n",
       "      <td>1.392642</td>\n",
       "      <td>0</td>\n",
       "      <td>1</td>\n",
       "      <td>0</td>\n",
       "    </tr>\n",
       "  </tbody>\n",
       "</table>\n",
       "</div>"
      ],
      "text/plain": [
       "      credit_score       age    tenure   balance  num_of_products  \\\n",
       "9723     -1.292898 -0.660843  0.686341  0.786636        -0.910943   \n",
       "1224     -1.563714  0.778434  1.034232  0.833795        -0.910943   \n",
       "8377      1.581914  0.106771 -0.357331 -1.222967         0.789359   \n",
       "8014      0.842379  0.010820 -1.053112  0.807063        -0.910943   \n",
       "2491     -0.397123 -1.236554 -0.357331 -1.222967         0.789359   \n",
       "\n",
       "      has_cr_card  is_active_member  estimated_salary  geography_Germany  \\\n",
       "9723            0                 0         -0.223548                  0   \n",
       "1224            1                 0          1.383021                  0   \n",
       "8377            1                 1         -0.308331                  0   \n",
       "8014            1                 1         -0.430980                  0   \n",
       "2491            1                 1          1.392642                  0   \n",
       "\n",
       "      geography_Spain  gender_Male  \n",
       "9723                0            1  \n",
       "1224                1            0  \n",
       "8377                1            1  \n",
       "8014                1            0  \n",
       "2491                1            0  "
      ]
     },
     "metadata": {},
     "output_type": "display_data"
    },
    {
     "data": {
      "text/plain": [
       "(5454, 11)"
      ]
     },
     "execution_count": 21,
     "metadata": {},
     "output_type": "execute_result"
    }
   ],
   "source": [
    "# create a list of numerical features for scaling\n",
    "numeric = ['credit_score', 'age', 'tenure', 'balance', 'num_of_products', 'estimated_salary']\n",
    "\n",
    "# create an object of the StandardScaler data structure\n",
    "scaler = StandardScaler()\n",
    "\n",
    "# set up the StandardScaler data structure object on the training data\n",
    "scaler.fit(features_train[numeric])\n",
    "\n",
    "# transform the training, validation and test sets\n",
    "features_train[numeric] = scaler.transform(features_train[numeric])\n",
    "features_valid[numeric] = scaler.transform(features_valid[numeric])\n",
    "features_test[numeric] = scaler.transform(features_test[numeric])\n",
    "display(features_train.head())\n",
    "features_train.shape"
   ]
  },
  {
   "cell_type": "markdown",
   "metadata": {},
   "source": [
    "#### Conclusions <a id='conclusions_2_3_1'> </a>"
   ]
  },
  {
   "cell_type": "markdown",
   "metadata": {},
   "source": [
    "The data was prepared for further investigation as follows:  \n",
    "1) useless features removed: `row_number`, `customer_id`, `surname` ;  \n",
    "2) the categorical features `geography` and `gender` were converted into numerical ones by the OHE technique;  \n",
    "3) the initial data were divided into training, validation and test samples in the ratio of 60% 20% and 20%, respectively, with stratification (uniform distribution) of target trait classes;  \n",
    "4) scaling of numerical features `credit_score`, `age`, `tenure`, `balance`, `num_of_products`, `estimated_salary` by data standardization method.  \n",
    "\n",
    "<div>\n",
    "    <br/>\n",
    "    <a href=#content>Back to content</a>\n",
    "</div>"
   ]
  },
  {
   "cell_type": "markdown",
   "metadata": {},
   "source": [
    "## Problem Research <a id='problem_research'> </a>"
   ]
  },
  {
   "cell_type": "markdown",
   "metadata": {},
   "source": [
    "### Class imbalance research <a id='imbalance_research'> </a>"
   ]
  },
  {
   "cell_type": "markdown",
   "metadata": {},
   "source": [
    "Consider how the classes of the target feature are distributed in the source data."
   ]
  },
  {
   "cell_type": "code",
   "execution_count": 22,
   "metadata": {},
   "outputs": [
    {
     "data": {
      "image/png": "[encoded data removed]",
      "text/plain": [
       "<Figure size 432x288 with 1 Axes>"
      ]
     },
     "metadata": {
      "needs_background": "light"
     },
     "output_type": "display_data"
    }
   ],
   "source": [
    "df_1['exited'].value_counts(normalize=True).round(2).plot.bar(ylim=(0, 1), \n",
    "                                                              grid=True, \n",
    "                                                              title='Distribution of target feature classes', \n",
    "                                                              xlabel='Class', ylabel='Share', fontsize=12);"
   ]
  },
  {
   "cell_type": "markdown",
   "metadata": {},
   "source": [
    "**Conclusion:**  \n",
    "There is an imbalance in the classes of the target feature in the source dataset.  \n",
    "The ratio of classes: class \"0\" - 80%, class \"1\" - 20%.  \n",
    "\n",
    "<div>\n",
    "    <br/>\n",
    "    <a href=#content>Back to content</a>\n",
    "</div>"
   ]
  },
  {
   "cell_type": "markdown",
   "metadata": {},
   "source": [
    "### Training the model without imbalance <a id='train_imbalanced'> </a>"
   ]
  },
  {
   "cell_type": "markdown",
   "metadata": {},
   "source": [
    "Let's train logistic regression and random forest models without class imbalance and fix the metrics. Let's create the results table, in which we will store the metrics of the models."
   ]
  },
  {
   "cell_type": "code",
   "execution_count": 23,
   "metadata": {},
   "outputs": [],
   "source": [
    "results = pd.DataFrame(index=['Accuracy', 'Recall', 'Precision', 'F1', 'AUC_ROC'])"
   ]
  },
  {
   "cell_type": "markdown",
   "metadata": {},
   "source": [
    "#### Logistic regression nodel <a id='imbalanced_LR'> </a>"
   ]
  },
  {
   "cell_type": "markdown",
   "metadata": {},
   "source": [
    "Let's write the `get_LR_metrics` function, which will take a logistic regression model, training and test samples, the name of the column with the metric as input, and return the column with the metrics."
   ]
  },
  {
   "cell_type": "code",
   "execution_count": 24,
   "metadata": {},
   "outputs": [],
   "source": [
    "def get_LR_metrics(model, features_train, target_train, features_valid, target_valid, column_name):\n",
    "    global results\n",
    "    # train the model on the training set\n",
    "    model.fit(features_train, target_train)\n",
    "    # get model predictions on the validation set\n",
    "    predictions_valid = model.predict(features_valid)\n",
    "    # we obtain the probabilities of negative and positive classes\n",
    "    probabilities_valid = model.predict_proba(features_valid)\n",
    "    # store the probabilities of the positive class in a separate variable\n",
    "    probabilities_one_valid = probabilities_valid[:, 1]\n",
    "    # save the model metrics to the results table, round them to two decimal places and return the column with the metrics\n",
    "    results[column_name] = [accuracy_score(target_valid, predictions_valid), \n",
    "                            recall_score(target_valid, predictions_valid), \n",
    "                            precision_score(target_valid, predictions_valid), \n",
    "                            f1_score(target_valid, predictions_valid),\n",
    "                            roc_auc_score(target_valid, probabilities_one_valid)]\n",
    "    results[column_name] = results[column_name].round(2)\n",
    "    return results[column_name]"
   ]
  },
  {
   "cell_type": "markdown",
   "metadata": {},
   "source": [
    "Let's train a logistic regression model without taking into account the imbalance of classes and display the model metrics on the screen."
   ]
  },
  {
   "cell_type": "code",
   "execution_count": 25,
   "metadata": {},
   "outputs": [
    {
     "data": {
      "text/html": [
       "<div>\n",
       "<style scoped>\n",
       "    .dataframe tbody tr th:only-of-type {\n",
       "        vertical-align: middle;\n",
       "    }\n",
       "\n",
       "    .dataframe tbody tr th {\n",
       "        vertical-align: top;\n",
       "    }\n",
       "\n",
       "    .dataframe thead th {\n",
       "        text-align: right;\n",
       "    }\n",
       "</style>\n",
       "<table border=\"1\" class=\"dataframe\">\n",
       "  <thead>\n",
       "    <tr style=\"text-align: right;\">\n",
       "      <th></th>\n",
       "      <th>imbalanced_LR</th>\n",
       "    </tr>\n",
       "  </thead>\n",
       "  <tbody>\n",
       "    <tr>\n",
       "      <th>Accuracy</th>\n",
       "      <td>0.82</td>\n",
       "    </tr>\n",
       "    <tr>\n",
       "      <th>Recall</th>\n",
       "      <td>0.22</td>\n",
       "    </tr>\n",
       "    <tr>\n",
       "      <th>Precision</th>\n",
       "      <td>0.63</td>\n",
       "    </tr>\n",
       "    <tr>\n",
       "      <th>F1</th>\n",
       "      <td>0.33</td>\n",
       "    </tr>\n",
       "    <tr>\n",
       "      <th>AUC_ROC</th>\n",
       "      <td>0.79</td>\n",
       "    </tr>\n",
       "  </tbody>\n",
       "</table>\n",
       "</div>"
      ],
      "text/plain": [
       "           imbalanced_LR\n",
       "Accuracy            0.82\n",
       "Recall              0.22\n",
       "Precision           0.63\n",
       "F1                  0.33\n",
       "AUC_ROC             0.79"
      ]
     },
     "execution_count": 25,
     "metadata": {},
     "output_type": "execute_result"
    }
   ],
   "source": [
    "model = LogisticRegression(random_state=12345, solver='liblinear')\n",
    "get_LR_metrics(model, features_train, target_train, features_valid, target_valid, 'imbalanced_LR')\n",
    "results"
   ]
  },
  {
   "cell_type": "markdown",
   "metadata": {},
   "source": [
    "**Conclusion:** The F1 metric of the logistic regression model is lower than 0.59."
   ]
  },
  {
   "cell_type": "markdown",
   "metadata": {},
   "source": [
    "#### Random forest model <a id='imbalanced_RF'> </a>"
   ]
  },
  {
   "cell_type": "markdown",
   "metadata": {},
   "source": [
    "Let's write the `get_RF_metrics` function, which, using GridSearchCV, will train random forest models with `n_estimators` hyperparameters in the range from 10 to 100 with a step of 10 and `max_depth` in the range from 1 to 15 and find the model with the best F1 metric, its hyperparameters and metrics , and add metrics to the `results` table for comparison with the metrics of the logistic regression model."
   ]
  },
  {
   "cell_type": "code",
   "execution_count": 26,
   "metadata": {},
   "outputs": [],
   "source": [
    "def get_RF_metrics(model, features_train, target_train, column_name):\n",
    "    global results\n",
    "    # store the hyperparameters we want to test\n",
    "    parameters = {'n_estimators': range (10, 110, 10),\n",
    "                  'max_depth': range (1, 16, 1)}\n",
    "    # save the metrics we want to calculate\n",
    "    scoring = {'Accuracy': 'accuracy', 'Recall': 'recall', 'Precision': 'precision', 'F1': 'f1', 'AUC': 'roc_auc'}\n",
    "    # run GridSearch, set the refit='F1' parameter so that the estimator searches for a model with the best F1 metric\n",
    "    grid = GridSearchCV(model, parameters, scoring=scoring, refit='F1')\n",
    "    grid.fit(features_train, target_train)\n",
    "    # display the hyperparameters of the best model\n",
    "    best_param = grid.best_params_\n",
    "    print('Hyperparameters of the best model:', grid.best_params_)\n",
    "    # add the metrics of the best random forest model to the results table, round them up to two decimal places and display them on the screen\n",
    "    results[column_name] = [grid.cv_results_['mean_test_Accuracy'][grid.best_index_], \n",
    "                            grid.cv_results_['mean_test_Recall'][grid.best_index_], \n",
    "                            grid.cv_results_['mean_test_Precision'][grid.best_index_], \n",
    "                            grid.best_score_, \n",
    "                            grid.cv_results_['mean_test_AUC'][grid.best_index_]]\n",
    "    results[column_name] = results[column_name].round(2)\n",
    "    return results[column_name]"
   ]
  },
  {
   "cell_type": "code",
   "execution_count": 27,
   "metadata": {},
   "outputs": [
    {
     "name": "stdout",
     "output_type": "stream",
     "text": [
      "Hyperparameters of the best model: {'max_depth': 12, 'n_estimators': 100}\n",
      "CPU times: total: 4min 17s\n",
      "Wall time: 4min 23s\n"
     ]
    },
    {
     "data": {
      "text/html": [
       "<div>\n",
       "<style scoped>\n",
       "    .dataframe tbody tr th:only-of-type {\n",
       "        vertical-align: middle;\n",
       "    }\n",
       "\n",
       "    .dataframe tbody tr th {\n",
       "        vertical-align: top;\n",
       "    }\n",
       "\n",
       "    .dataframe thead th {\n",
       "        text-align: right;\n",
       "    }\n",
       "</style>\n",
       "<table border=\"1\" class=\"dataframe\">\n",
       "  <thead>\n",
       "    <tr style=\"text-align: right;\">\n",
       "      <th></th>\n",
       "      <th>imbalanced_LR</th>\n",
       "      <th>imbalanced_RF</th>\n",
       "    </tr>\n",
       "  </thead>\n",
       "  <tbody>\n",
       "    <tr>\n",
       "      <th>Accuracy</th>\n",
       "      <td>0.82</td>\n",
       "      <td>0.86</td>\n",
       "    </tr>\n",
       "    <tr>\n",
       "      <th>Recall</th>\n",
       "      <td>0.22</td>\n",
       "      <td>0.45</td>\n",
       "    </tr>\n",
       "    <tr>\n",
       "      <th>Precision</th>\n",
       "      <td>0.63</td>\n",
       "      <td>0.78</td>\n",
       "    </tr>\n",
       "    <tr>\n",
       "      <th>F1</th>\n",
       "      <td>0.33</td>\n",
       "      <td>0.57</td>\n",
       "    </tr>\n",
       "    <tr>\n",
       "      <th>AUC_ROC</th>\n",
       "      <td>0.79</td>\n",
       "      <td>0.85</td>\n",
       "    </tr>\n",
       "  </tbody>\n",
       "</table>\n",
       "</div>"
      ],
      "text/plain": [
       "           imbalanced_LR  imbalanced_RF\n",
       "Accuracy            0.82           0.86\n",
       "Recall              0.22           0.45\n",
       "Precision           0.63           0.78\n",
       "F1                  0.33           0.57\n",
       "AUC_ROC             0.79           0.85"
      ]
     },
     "execution_count": 27,
     "metadata": {},
     "output_type": "execute_result"
    }
   ],
   "source": [
    "%%time\n",
    "model = RandomForestClassifier(random_state=12345)\n",
    "get_RF_metrics(model, features_train, target_train, 'imbalanced_RF')\n",
    "results"
   ]
  },
  {
   "cell_type": "markdown",
   "metadata": {},
   "source": [
    "**Conclusion:** The F1 and AUC_ROC metrics of the best random forest model are higher than the logistic regression model, but the F1 metric is still lower than 0.59.  \n",
    "\n",
    "<div>\n",
    "    <br/>\n",
    "    <a href=#content>Back to content</a>\n",
    "</div>"
   ]
  },
  {
   "cell_type": "markdown",
   "metadata": {},
   "source": [
    "### Conclusions <a id='conclusions_3_3'> </a>"
   ]
  },
  {
   "cell_type": "markdown",
   "metadata": {},
   "source": [
    "We visualize the obtained metrics of the logistic regression and random forest models without taking into account the imbalance of classes."
   ]
  },
  {
   "cell_type": "code",
   "execution_count": 28,
   "metadata": {},
   "outputs": [
    {
     "data": {
      "image/png": "[encoded data removed]",
      "text/plain": [
       "<Figure size 720x360 with 1 Axes>"
      ]
     },
     "metadata": {
      "needs_background": "light"
     },
     "output_type": "display_data"
    }
   ],
   "source": [
    "results.plot.bar(figsize=(10, 5), fontsize=12,\n",
    "                title='Comparison of metrics of logistic regression and random forest models without class imbalance');"
   ]
  },
  {
   "cell_type": "markdown",
   "metadata": {},
   "source": [
    "All metrics of the random forest model are better than the metrics of the logistic regression model, but the desired metric F1 >= 0.59 has not yet been achieved.\n",
    "\n",
    "<div>\n",
    "    <br/>\n",
    "    <a href=#content>Back to content</a>\n",
    "</div>"
   ]
  },
  {
   "cell_type": "markdown",
   "metadata": {},
   "source": [
    "## Fighting imbalance <a id='fighting_imbalance'> </a>"
   ]
  },
  {
   "cell_type": "markdown",
   "metadata": {},
   "source": [
    "Let's consider how the results of the model are affected by the elimination of imbalance by different methods: automatic balancing, increasing or decreasing the class."
   ]
  },
  {
   "cell_type": "markdown",
   "metadata": {},
   "source": [
    "### Autobalance <a id='auto_balance'> </a>"
   ]
  },
  {
   "cell_type": "markdown",
   "metadata": {},
   "source": [
    "#### Logistic regression model <a id='auto_balance_LR'> </a>"
   ]
  },
  {
   "cell_type": "markdown",
   "metadata": {},
   "source": [
    "Let's train a logistic regression model with automatic class balancing using the `class_weight`='balanced' parameter and display the model metrics on the validation set on the screen."
   ]
  },
  {
   "cell_type": "code",
   "execution_count": 29,
   "metadata": {},
   "outputs": [
    {
     "data": {
      "text/html": [
       "<div>\n",
       "<style scoped>\n",
       "    .dataframe tbody tr th:only-of-type {\n",
       "        vertical-align: middle;\n",
       "    }\n",
       "\n",
       "    .dataframe tbody tr th {\n",
       "        vertical-align: top;\n",
       "    }\n",
       "\n",
       "    .dataframe thead th {\n",
       "        text-align: right;\n",
       "    }\n",
       "</style>\n",
       "<table border=\"1\" class=\"dataframe\">\n",
       "  <thead>\n",
       "    <tr style=\"text-align: right;\">\n",
       "      <th></th>\n",
       "      <th>imbalanced_LR</th>\n",
       "      <th>class_weight_LR</th>\n",
       "    </tr>\n",
       "  </thead>\n",
       "  <tbody>\n",
       "    <tr>\n",
       "      <th>Accuracy</th>\n",
       "      <td>0.82</td>\n",
       "      <td>0.71</td>\n",
       "    </tr>\n",
       "    <tr>\n",
       "      <th>Recall</th>\n",
       "      <td>0.22</td>\n",
       "      <td>0.73</td>\n",
       "    </tr>\n",
       "    <tr>\n",
       "      <th>Precision</th>\n",
       "      <td>0.63</td>\n",
       "      <td>0.39</td>\n",
       "    </tr>\n",
       "    <tr>\n",
       "      <th>F1</th>\n",
       "      <td>0.33</td>\n",
       "      <td>0.51</td>\n",
       "    </tr>\n",
       "    <tr>\n",
       "      <th>AUC_ROC</th>\n",
       "      <td>0.79</td>\n",
       "      <td>0.79</td>\n",
       "    </tr>\n",
       "  </tbody>\n",
       "</table>\n",
       "</div>"
      ],
      "text/plain": [
       "           imbalanced_LR  class_weight_LR\n",
       "Accuracy            0.82             0.71\n",
       "Recall              0.22             0.73\n",
       "Precision           0.63             0.39\n",
       "F1                  0.33             0.51\n",
       "AUC_ROC             0.79             0.79"
      ]
     },
     "execution_count": 29,
     "metadata": {},
     "output_type": "execute_result"
    }
   ],
   "source": [
    "# initialize the logistic regression model with the class_weight='balanced' parameter\n",
    "model = LogisticRegression(random_state=12345, solver='liblinear', class_weight='balanced')\n",
    "# get the model metrics using the get_LR_metrics function\n",
    "get_LR_metrics(model, features_train, target_train, features_valid, target_valid, 'class_weight_LR')\n",
    "# we will display the metrics of logistic regression models without imbalance and with automatic class balancing\n",
    "results[['imbalanced_LR', 'class_weight_LR']]"
   ]
  },
  {
   "cell_type": "markdown",
   "metadata": {},
   "source": [
    "**Conclusion:** The F1 metric of the logistic regression model on the validation set improved compared to the model without class imbalance, the AUC_ROC metric did not change."
   ]
  },
  {
   "cell_type": "markdown",
   "metadata": {},
   "source": [
    "#### Random forest model <a id='auto_balance_RF'> </a>"
   ]
  },
  {
   "cell_type": "markdown",
   "metadata": {},
   "source": [
    "We train random forest models with automatic class balancing using the `class_weight`='balanced' parameter, find the best model with the F1 metric using GridSearchCV and display the model metrics on the screen."
   ]
  },
  {
   "cell_type": "code",
   "execution_count": 30,
   "metadata": {},
   "outputs": [
    {
     "name": "stdout",
     "output_type": "stream",
     "text": [
      "Hyperparameters of the best model: {'max_depth': 8, 'n_estimators': 70}\n",
      "CPU times: total: 4min 34s\n",
      "Wall time: 4min 47s\n"
     ]
    },
    {
     "data": {
      "text/html": [
       "<div>\n",
       "<style scoped>\n",
       "    .dataframe tbody tr th:only-of-type {\n",
       "        vertical-align: middle;\n",
       "    }\n",
       "\n",
       "    .dataframe tbody tr th {\n",
       "        vertical-align: top;\n",
       "    }\n",
       "\n",
       "    .dataframe thead th {\n",
       "        text-align: right;\n",
       "    }\n",
       "</style>\n",
       "<table border=\"1\" class=\"dataframe\">\n",
       "  <thead>\n",
       "    <tr style=\"text-align: right;\">\n",
       "      <th></th>\n",
       "      <th>imbalanced_RF</th>\n",
       "      <th>class_weight_RF</th>\n",
       "    </tr>\n",
       "  </thead>\n",
       "  <tbody>\n",
       "    <tr>\n",
       "      <th>Accuracy</th>\n",
       "      <td>0.86</td>\n",
       "      <td>0.83</td>\n",
       "    </tr>\n",
       "    <tr>\n",
       "      <th>Recall</th>\n",
       "      <td>0.45</td>\n",
       "      <td>0.66</td>\n",
       "    </tr>\n",
       "    <tr>\n",
       "      <th>Precision</th>\n",
       "      <td>0.78</td>\n",
       "      <td>0.57</td>\n",
       "    </tr>\n",
       "    <tr>\n",
       "      <th>F1</th>\n",
       "      <td>0.57</td>\n",
       "      <td>0.61</td>\n",
       "    </tr>\n",
       "    <tr>\n",
       "      <th>AUC_ROC</th>\n",
       "      <td>0.85</td>\n",
       "      <td>0.85</td>\n",
       "    </tr>\n",
       "  </tbody>\n",
       "</table>\n",
       "</div>"
      ],
      "text/plain": [
       "           imbalanced_RF  class_weight_RF\n",
       "Accuracy            0.86             0.83\n",
       "Recall              0.45             0.66\n",
       "Precision           0.78             0.57\n",
       "F1                  0.57             0.61\n",
       "AUC_ROC             0.85             0.85"
      ]
     },
     "execution_count": 30,
     "metadata": {},
     "output_type": "execute_result"
    }
   ],
   "source": [
    "%%time\n",
    "# initialize random forest model with class_weight='balanced' parameter\n",
    "model = RandomForestClassifier(random_state=12345, class_weight='balanced')\n",
    "# get the metrics of the best model using the get_RF_metrics function\n",
    "get_RF_metrics(model, features_train, target_train, 'class_weight_RF')\n",
    "# we will display the metrics of random forest models without imbalance and with automatic balancing of classes\n",
    "results[['imbalanced_RF', 'class_weight_RF']]"
   ]
  },
  {
   "cell_type": "markdown",
   "metadata": {},
   "source": [
    "**Conclusion:** The F1 metric of the random forest model improved compared to the model without class imbalance, the AUC_ROC metric did not change.\n",
    "\n",
    "<div>\n",
    "    <br/>\n",
    "    <a href=#content>Back to content</a>\n",
    "</div>"
   ]
  },
  {
   "cell_type": "markdown",
   "metadata": {},
   "source": [
    "### Upsampling <a id='upsampling'> </a>"
   ]
  },
  {
   "cell_type": "markdown",
   "metadata": {},
   "source": [
    "Let's make objects of the rare class \"1\" (the fact that the client leaves) not so rare by increasing their number by 4 times.\n",
    "Let's write an `upsample` function that separates the positive and negative classes, copies the positive classes, creates a new sample, and shuffles it."
   ]
  },
  {
   "cell_type": "code",
   "execution_count": 31,
   "metadata": {},
   "outputs": [],
   "source": [
    "def upsample(features, target, repeat):\n",
    "    features_zeros = features[target==0]\n",
    "    features_ones = features[target==1]\n",
    "    target_zeros = target[target==0]\n",
    "    target_ones = target[target==1]\n",
    "    features_upsampled = pd.concat([features_zeros] + [features_ones] * repeat)\n",
    "    target_upsampled = pd.concat([target_zeros] + [target_ones] * repeat)\n",
    "    features_upsampled, target_upsampled = shuffle(features_upsampled, target_upsampled, random_state=12345)\n",
    "    return features_upsampled, target_upsampled"
   ]
  },
  {
   "cell_type": "markdown",
   "metadata": {},
   "source": [
    "Let's get an increased training sample and check the balance of the classes of the target feature."
   ]
  },
  {
   "cell_type": "code",
   "execution_count": 32,
   "metadata": {
    "scrolled": true
   },
   "outputs": [
    {
     "data": {
      "image/png": "[encoded data removed]",
      "text/plain": [
       "<Figure size 432x288 with 1 Axes>"
      ]
     },
     "metadata": {
      "needs_background": "light"
     },
     "output_type": "display_data"
    }
   ],
   "source": [
    "features_upsampled, target_upsampled = upsample(features_train, target_train, 4)\n",
    "target_upsampled.value_counts(normalize=True).round(2).plot.bar(ylim=(0, 1), grid=True, \n",
    "                                                                title='Distribution of target feature classes', \n",
    "                                                                xlabel='Class', ylabel='Share', fontsize=12);"
   ]
  },
  {
   "cell_type": "markdown",
   "metadata": {},
   "source": [
    "The classes are now balanced."
   ]
  },
  {
   "cell_type": "markdown",
   "metadata": {},
   "source": [
    "#### Logistic regression model <a id='upsampled_LR'> </a>"
   ]
  },
  {
   "cell_type": "markdown",
   "metadata": {},
   "source": [
    "Let's train the logistic regression model on the increased training set and display the model metrics on the validation set on the screen."
   ]
  },
  {
   "cell_type": "code",
   "execution_count": 33,
   "metadata": {},
   "outputs": [
    {
     "data": {
      "text/html": [
       "<div>\n",
       "<style scoped>\n",
       "    .dataframe tbody tr th:only-of-type {\n",
       "        vertical-align: middle;\n",
       "    }\n",
       "\n",
       "    .dataframe tbody tr th {\n",
       "        vertical-align: top;\n",
       "    }\n",
       "\n",
       "    .dataframe thead th {\n",
       "        text-align: right;\n",
       "    }\n",
       "</style>\n",
       "<table border=\"1\" class=\"dataframe\">\n",
       "  <thead>\n",
       "    <tr style=\"text-align: right;\">\n",
       "      <th></th>\n",
       "      <th>imbalanced_LR</th>\n",
       "      <th>class_weight_LR</th>\n",
       "      <th>upsampled_LR</th>\n",
       "    </tr>\n",
       "  </thead>\n",
       "  <tbody>\n",
       "    <tr>\n",
       "      <th>Accuracy</th>\n",
       "      <td>0.82</td>\n",
       "      <td>0.71</td>\n",
       "      <td>0.71</td>\n",
       "    </tr>\n",
       "    <tr>\n",
       "      <th>Recall</th>\n",
       "      <td>0.22</td>\n",
       "      <td>0.73</td>\n",
       "      <td>0.74</td>\n",
       "    </tr>\n",
       "    <tr>\n",
       "      <th>Precision</th>\n",
       "      <td>0.63</td>\n",
       "      <td>0.39</td>\n",
       "      <td>0.38</td>\n",
       "    </tr>\n",
       "    <tr>\n",
       "      <th>F1</th>\n",
       "      <td>0.33</td>\n",
       "      <td>0.51</td>\n",
       "      <td>0.51</td>\n",
       "    </tr>\n",
       "    <tr>\n",
       "      <th>AUC_ROC</th>\n",
       "      <td>0.79</td>\n",
       "      <td>0.79</td>\n",
       "      <td>0.79</td>\n",
       "    </tr>\n",
       "  </tbody>\n",
       "</table>\n",
       "</div>"
      ],
      "text/plain": [
       "           imbalanced_LR  class_weight_LR  upsampled_LR\n",
       "Accuracy            0.82             0.71          0.71\n",
       "Recall              0.22             0.73          0.74\n",
       "Precision           0.63             0.39          0.38\n",
       "F1                  0.33             0.51          0.51\n",
       "AUC_ROC             0.79             0.79          0.79"
      ]
     },
     "execution_count": 33,
     "metadata": {},
     "output_type": "execute_result"
    }
   ],
   "source": [
    "model = LogisticRegression(random_state=12345, solver='liblinear')\n",
    "get_LR_metrics(model, features_upsampled, target_upsampled, features_valid, target_valid, 'upsampled_LR')\n",
    "# display the metrics of logistic regression models without imbalance, with automatic class balancing\n",
    "# and increased training set\n",
    "results[['imbalanced_LR', 'class_weight_LR', 'upsampled_LR']]"
   ]
  },
  {
   "cell_type": "markdown",
   "metadata": {},
   "source": [
    "**Conclusion:** F1 and AUC_ROC metrics have not changed compared to automatic class balancing."
   ]
  },
  {
   "cell_type": "markdown",
   "metadata": {},
   "source": [
    "#### Random forest model <a id='upsampled_RF'> </a>"
   ]
  },
  {
   "cell_type": "markdown",
   "metadata": {},
   "source": [
    "We will train random forest models on an increased (balanced) sample, find the best model with the F1 metric using GridSearchCV and display the model metrics on the screen."
   ]
  },
  {
   "cell_type": "code",
   "execution_count": 34,
   "metadata": {},
   "outputs": [
    {
     "name": "stdout",
     "output_type": "stream",
     "text": [
      "Hyperparameters of the best model: {'max_depth': 15, 'n_estimators': 70}\n",
      "CPU times: total: 5min 43s\n",
      "Wall time: 5min 55s\n"
     ]
    },
    {
     "data": {
      "text/html": [
       "<div>\n",
       "<style scoped>\n",
       "    .dataframe tbody tr th:only-of-type {\n",
       "        vertical-align: middle;\n",
       "    }\n",
       "\n",
       "    .dataframe tbody tr th {\n",
       "        vertical-align: top;\n",
       "    }\n",
       "\n",
       "    .dataframe thead th {\n",
       "        text-align: right;\n",
       "    }\n",
       "</style>\n",
       "<table border=\"1\" class=\"dataframe\">\n",
       "  <thead>\n",
       "    <tr style=\"text-align: right;\">\n",
       "      <th></th>\n",
       "      <th>imbalanced_RF</th>\n",
       "      <th>class_weight_RF</th>\n",
       "      <th>upsampled_RF</th>\n",
       "    </tr>\n",
       "  </thead>\n",
       "  <tbody>\n",
       "    <tr>\n",
       "      <th>Accuracy</th>\n",
       "      <td>0.86</td>\n",
       "      <td>0.83</td>\n",
       "      <td>0.95</td>\n",
       "    </tr>\n",
       "    <tr>\n",
       "      <th>Recall</th>\n",
       "      <td>0.45</td>\n",
       "      <td>0.66</td>\n",
       "      <td>1.00</td>\n",
       "    </tr>\n",
       "    <tr>\n",
       "      <th>Precision</th>\n",
       "      <td>0.78</td>\n",
       "      <td>0.57</td>\n",
       "      <td>0.91</td>\n",
       "    </tr>\n",
       "    <tr>\n",
       "      <th>F1</th>\n",
       "      <td>0.57</td>\n",
       "      <td>0.61</td>\n",
       "      <td>0.95</td>\n",
       "    </tr>\n",
       "    <tr>\n",
       "      <th>AUC_ROC</th>\n",
       "      <td>0.85</td>\n",
       "      <td>0.85</td>\n",
       "      <td>0.99</td>\n",
       "    </tr>\n",
       "  </tbody>\n",
       "</table>\n",
       "</div>"
      ],
      "text/plain": [
       "           imbalanced_RF  class_weight_RF  upsampled_RF\n",
       "Accuracy            0.86             0.83          0.95\n",
       "Recall              0.45             0.66          1.00\n",
       "Precision           0.78             0.57          0.91\n",
       "F1                  0.57             0.61          0.95\n",
       "AUC_ROC             0.85             0.85          0.99"
      ]
     },
     "execution_count": 34,
     "metadata": {},
     "output_type": "execute_result"
    }
   ],
   "source": [
    "%%time\n",
    "model = RandomForestClassifier(random_state=12345)\n",
    "get_RF_metrics(model, features_upsampled, target_upsampled, 'upsampled_RF')\n",
    "# we will display the metrics of random forest models without imbalance and with automatic balancing of classes\n",
    "results[['imbalanced_RF', 'class_weight_RF', 'upsampled_RF']]"
   ]
  },
  {
   "cell_type": "markdown",
   "metadata": {},
   "source": [
    "The results of the metrics are very high, most likely the model is retrained. Let's look at the metrics of this model on the training sample."
   ]
  },
  {
   "cell_type": "code",
   "execution_count": 35,
   "metadata": {},
   "outputs": [
    {
     "data": {
      "text/html": [
       "<div>\n",
       "<style scoped>\n",
       "    .dataframe tbody tr th:only-of-type {\n",
       "        vertical-align: middle;\n",
       "    }\n",
       "\n",
       "    .dataframe tbody tr th {\n",
       "        vertical-align: top;\n",
       "    }\n",
       "\n",
       "    .dataframe thead th {\n",
       "        text-align: right;\n",
       "    }\n",
       "</style>\n",
       "<table border=\"1\" class=\"dataframe\">\n",
       "  <thead>\n",
       "    <tr style=\"text-align: right;\">\n",
       "      <th></th>\n",
       "      <th>metrics_train</th>\n",
       "    </tr>\n",
       "  </thead>\n",
       "  <tbody>\n",
       "    <tr>\n",
       "      <th>Accuracy</th>\n",
       "      <td>0.997383</td>\n",
       "    </tr>\n",
       "    <tr>\n",
       "      <th>Recall</th>\n",
       "      <td>1.000000</td>\n",
       "    </tr>\n",
       "    <tr>\n",
       "      <th>Precision</th>\n",
       "      <td>0.994856</td>\n",
       "    </tr>\n",
       "    <tr>\n",
       "      <th>F1</th>\n",
       "      <td>0.997421</td>\n",
       "    </tr>\n",
       "  </tbody>\n",
       "</table>\n",
       "</div>"
      ],
      "text/plain": [
       "           metrics_train\n",
       "Accuracy        0.997383\n",
       "Recall          1.000000\n",
       "Precision       0.994856\n",
       "F1              0.997421"
      ]
     },
     "execution_count": 35,
     "metadata": {},
     "output_type": "execute_result"
    }
   ],
   "source": [
    "model = RandomForestClassifier(n_estimators=70, max_depth=15, random_state=12345)\n",
    "model.fit(features_upsampled, target_upsampled)\n",
    "predictions_train = model.predict(features_upsampled)\n",
    "pd.DataFrame({'metrics_train': [accuracy_score(target_upsampled, predictions_train), \n",
    "                                recall_score(target_upsampled, predictions_train), \n",
    "                                precision_score(target_upsampled, predictions_train), \n",
    "                                f1_score(target_upsampled, predictions_train)]}, \n",
    "             index=['Accuracy', 'Recall', 'Precision', 'F1'])"
   ]
  },
  {
   "cell_type": "markdown",
   "metadata": {},
   "source": [
    "**Conclusion:** The F1 and AUC_ROC metrics for a model trained on upsampled training data are much higher than for auto-balancing. Most likely, the model is overtrained and learned all the answers on the training set. \n",
    "\n",
    "<div>\n",
    "    <br/>\n",
    "    <a href=#content>Back to content</a>\n",
    "</div>"
   ]
  },
  {
   "cell_type": "markdown",
   "metadata": {},
   "source": [
    "### Downsampling <a id='downsampling'> </a>"
   ]
  },
  {
   "cell_type": "markdown",
   "metadata": {},
   "source": [
    "Let's make objects of the frequent class \"0\" less frequent.\n",
    "Let's write a `downsample` function that separates the positive and negative classes, randomly discards some of the negative objects, creates a new training sample, and shuffles the data."
   ]
  },
  {
   "cell_type": "code",
   "execution_count": 36,
   "metadata": {},
   "outputs": [],
   "source": [
    "def downsample(features, target, fraction):\n",
    "    features_zeros = features[target==0]\n",
    "    features_ones = features[target==1]\n",
    "    target_zeros = target[target==0]\n",
    "    target_ones = target[target==1]\n",
    "    features_downsampled = pd.concat([features_zeros.sample(frac=fraction, random_state=12345)] + [features_ones])\n",
    "    target_downsampled = pd.concat([target_zeros.sample(frac=fraction, random_state=12345)] + [target_ones])\n",
    "    features_downsampled, target_downsampled = shuffle(features_downsampled, target_downsampled, random_state=12345)\n",
    "    return features_downsampled, target_downsampled"
   ]
  },
  {
   "cell_type": "markdown",
   "metadata": {},
   "source": [
    "Let's get a reduced training sample and check the balance of the classes of the target feature."
   ]
  },
  {
   "cell_type": "code",
   "execution_count": 37,
   "metadata": {},
   "outputs": [
    {
     "data": {
      "image/png": "[encoded data removed]",
      "text/plain": [
       "<Figure size 432x288 with 1 Axes>"
      ]
     },
     "metadata": {
      "needs_background": "light"
     },
     "output_type": "display_data"
    }
   ],
   "source": [
    "features_downsampled, target_downsampled = downsample(features_train, target_train, 0.25)\n",
    "target_downsampled.value_counts(normalize=True).round(2).plot.bar(ylim=(0, 1), \n",
    "                                                                  grid=True, \n",
    "                                                                  title='Distribution of target feature classes', \n",
    "                                                                  xlabel='Class', ylabel='Share', fontsize=12);"
   ]
  },
  {
   "cell_type": "markdown",
   "metadata": {},
   "source": [
    "Classes are balanced."
   ]
  },
  {
   "cell_type": "markdown",
   "metadata": {},
   "source": [
    "#### Logistic regression model <a id='downsampled_LR'> </a>"
   ]
  },
  {
   "cell_type": "markdown",
   "metadata": {},
   "source": [
    "We will train a logistic regression model on a reduced balanced training set and display the model metrics on the validation set on the screen."
   ]
  },
  {
   "cell_type": "code",
   "execution_count": 38,
   "metadata": {},
   "outputs": [
    {
     "data": {
      "text/html": [
       "<div>\n",
       "<style scoped>\n",
       "    .dataframe tbody tr th:only-of-type {\n",
       "        vertical-align: middle;\n",
       "    }\n",
       "\n",
       "    .dataframe tbody tr th {\n",
       "        vertical-align: top;\n",
       "    }\n",
       "\n",
       "    .dataframe thead th {\n",
       "        text-align: right;\n",
       "    }\n",
       "</style>\n",
       "<table border=\"1\" class=\"dataframe\">\n",
       "  <thead>\n",
       "    <tr style=\"text-align: right;\">\n",
       "      <th></th>\n",
       "      <th>imbalanced_LR</th>\n",
       "      <th>class_weight_LR</th>\n",
       "      <th>upsampled_LR</th>\n",
       "      <th>downsampled_LR</th>\n",
       "    </tr>\n",
       "  </thead>\n",
       "  <tbody>\n",
       "    <tr>\n",
       "      <th>Accuracy</th>\n",
       "      <td>0.82</td>\n",
       "      <td>0.71</td>\n",
       "      <td>0.71</td>\n",
       "      <td>0.71</td>\n",
       "    </tr>\n",
       "    <tr>\n",
       "      <th>Recall</th>\n",
       "      <td>0.22</td>\n",
       "      <td>0.73</td>\n",
       "      <td>0.74</td>\n",
       "      <td>0.75</td>\n",
       "    </tr>\n",
       "    <tr>\n",
       "      <th>Precision</th>\n",
       "      <td>0.63</td>\n",
       "      <td>0.39</td>\n",
       "      <td>0.38</td>\n",
       "      <td>0.39</td>\n",
       "    </tr>\n",
       "    <tr>\n",
       "      <th>F1</th>\n",
       "      <td>0.33</td>\n",
       "      <td>0.51</td>\n",
       "      <td>0.51</td>\n",
       "      <td>0.51</td>\n",
       "    </tr>\n",
       "    <tr>\n",
       "      <th>AUC_ROC</th>\n",
       "      <td>0.79</td>\n",
       "      <td>0.79</td>\n",
       "      <td>0.79</td>\n",
       "      <td>0.79</td>\n",
       "    </tr>\n",
       "  </tbody>\n",
       "</table>\n",
       "</div>"
      ],
      "text/plain": [
       "           imbalanced_LR  class_weight_LR  upsampled_LR  downsampled_LR\n",
       "Accuracy            0.82             0.71          0.71            0.71\n",
       "Recall              0.22             0.73          0.74            0.75\n",
       "Precision           0.63             0.39          0.38            0.39\n",
       "F1                  0.33             0.51          0.51            0.51\n",
       "AUC_ROC             0.79             0.79          0.79            0.79"
      ]
     },
     "execution_count": 38,
     "metadata": {},
     "output_type": "execute_result"
    }
   ],
   "source": [
    "model = LogisticRegression(random_state=12345, solver='liblinear')\n",
    "get_LR_metrics(model, features_downsampled, target_downsampled, features_valid, target_valid, 'downsampled_LR')\n",
    "# display the metrics of logistic regression models without imbalance, with automatic class balancing,\n",
    "# increased and decreased training set\n",
    "results[['imbalanced_LR', 'class_weight_LR', 'upsampled_LR', 'downsampled_LR']]"
   ]
  },
  {
   "cell_type": "markdown",
   "metadata": {},
   "source": [
    "**Conclusion:** The F1 and AUC_ROC metrics have not changed compared to auto-balancing classes and upsampling."
   ]
  },
  {
   "cell_type": "markdown",
   "metadata": {},
   "source": [
    "#### Random forest model <a id='downsampled_RF'> </a>"
   ]
  },
  {
   "cell_type": "markdown",
   "metadata": {},
   "source": [
    "We will train random forest models on a reduced (balanced) sample, find the best model with the F1 metric using GridSearchCV and display the model metrics on the screen."
   ]
  },
  {
   "cell_type": "code",
   "execution_count": 39,
   "metadata": {},
   "outputs": [
    {
     "name": "stdout",
     "output_type": "stream",
     "text": [
      "Hyperparameters of the best model: {'max_depth': 9, 'n_estimators': 80}\n",
      "CPU times: total: 2min 36s\n",
      "Wall time: 2min 40s\n"
     ]
    },
    {
     "data": {
      "text/html": [
       "<div>\n",
       "<style scoped>\n",
       "    .dataframe tbody tr th:only-of-type {\n",
       "        vertical-align: middle;\n",
       "    }\n",
       "\n",
       "    .dataframe tbody tr th {\n",
       "        vertical-align: top;\n",
       "    }\n",
       "\n",
       "    .dataframe thead th {\n",
       "        text-align: right;\n",
       "    }\n",
       "</style>\n",
       "<table border=\"1\" class=\"dataframe\">\n",
       "  <thead>\n",
       "    <tr style=\"text-align: right;\">\n",
       "      <th></th>\n",
       "      <th>imbalanced_RF</th>\n",
       "      <th>class_weight_RF</th>\n",
       "      <th>upsampled_RF</th>\n",
       "      <th>downsampled_RF</th>\n",
       "    </tr>\n",
       "  </thead>\n",
       "  <tbody>\n",
       "    <tr>\n",
       "      <th>Accuracy</th>\n",
       "      <td>0.86</td>\n",
       "      <td>0.83</td>\n",
       "      <td>0.95</td>\n",
       "      <td>0.78</td>\n",
       "    </tr>\n",
       "    <tr>\n",
       "      <th>Recall</th>\n",
       "      <td>0.45</td>\n",
       "      <td>0.66</td>\n",
       "      <td>1.00</td>\n",
       "      <td>0.76</td>\n",
       "    </tr>\n",
       "    <tr>\n",
       "      <th>Precision</th>\n",
       "      <td>0.78</td>\n",
       "      <td>0.57</td>\n",
       "      <td>0.91</td>\n",
       "      <td>0.79</td>\n",
       "    </tr>\n",
       "    <tr>\n",
       "      <th>F1</th>\n",
       "      <td>0.57</td>\n",
       "      <td>0.61</td>\n",
       "      <td>0.95</td>\n",
       "      <td>0.78</td>\n",
       "    </tr>\n",
       "    <tr>\n",
       "      <th>AUC_ROC</th>\n",
       "      <td>0.85</td>\n",
       "      <td>0.85</td>\n",
       "      <td>0.99</td>\n",
       "      <td>0.85</td>\n",
       "    </tr>\n",
       "  </tbody>\n",
       "</table>\n",
       "</div>"
      ],
      "text/plain": [
       "           imbalanced_RF  class_weight_RF  upsampled_RF  downsampled_RF\n",
       "Accuracy            0.86             0.83          0.95            0.78\n",
       "Recall              0.45             0.66          1.00            0.76\n",
       "Precision           0.78             0.57          0.91            0.79\n",
       "F1                  0.57             0.61          0.95            0.78\n",
       "AUC_ROC             0.85             0.85          0.99            0.85"
      ]
     },
     "execution_count": 39,
     "metadata": {},
     "output_type": "execute_result"
    }
   ],
   "source": [
    "%%time\n",
    "model = RandomForestClassifier(random_state=12345)\n",
    "get_RF_metrics(model, features_downsampled, target_downsampled, 'downsampled_RF')\n",
    "# display the metrics of random forest models without imbalance and with automatic class balancing\n",
    "results[['imbalanced_RF', 'class_weight_RF', 'upsampled_RF', 'downsampled_RF']]"
   ]
  },
  {
   "cell_type": "markdown",
   "metadata": {},
   "source": [
    "**Conclusion:** The downsampling method gave a high F1 metric compared to automatic class balancing. AUC_ROC has not changed compared to auto-balancing classes and the unbalance model.\n",
    "\n",
    "<div>\n",
    "    <br/>\n",
    "    <a href=#content>Back to content</a>\n",
    "</div>"
   ]
  },
  {
   "cell_type": "markdown",
   "metadata": {},
   "source": [
    "### Conclusions <a id='conclusions_4_4'> </a>"
   ]
  },
  {
   "cell_type": "markdown",
   "metadata": {},
   "source": [
    "We visualize the values of the F1 and AUC_ROC metrics of different models and choose the best model."
   ]
  },
  {
   "cell_type": "code",
   "execution_count": 40,
   "metadata": {},
   "outputs": [
    {
     "data": {
      "text/html": [
       "<div>\n",
       "<style scoped>\n",
       "    .dataframe tbody tr th:only-of-type {\n",
       "        vertical-align: middle;\n",
       "    }\n",
       "\n",
       "    .dataframe tbody tr th {\n",
       "        vertical-align: top;\n",
       "    }\n",
       "\n",
       "    .dataframe thead th {\n",
       "        text-align: right;\n",
       "    }\n",
       "</style>\n",
       "<table border=\"1\" class=\"dataframe\">\n",
       "  <thead>\n",
       "    <tr style=\"text-align: right;\">\n",
       "      <th></th>\n",
       "      <th>imbalanced_LR</th>\n",
       "      <th>imbalanced_RF</th>\n",
       "      <th>class_weight_LR</th>\n",
       "      <th>class_weight_RF</th>\n",
       "      <th>upsampled_LR</th>\n",
       "      <th>upsampled_RF</th>\n",
       "      <th>downsampled_LR</th>\n",
       "      <th>downsampled_RF</th>\n",
       "    </tr>\n",
       "  </thead>\n",
       "  <tbody>\n",
       "    <tr>\n",
       "      <th>Accuracy</th>\n",
       "      <td>0.82</td>\n",
       "      <td>0.86</td>\n",
       "      <td>0.71</td>\n",
       "      <td>0.83</td>\n",
       "      <td>0.71</td>\n",
       "      <td>0.95</td>\n",
       "      <td>0.71</td>\n",
       "      <td>0.78</td>\n",
       "    </tr>\n",
       "    <tr>\n",
       "      <th>Recall</th>\n",
       "      <td>0.22</td>\n",
       "      <td>0.45</td>\n",
       "      <td>0.73</td>\n",
       "      <td>0.66</td>\n",
       "      <td>0.74</td>\n",
       "      <td>1.00</td>\n",
       "      <td>0.75</td>\n",
       "      <td>0.76</td>\n",
       "    </tr>\n",
       "    <tr>\n",
       "      <th>Precision</th>\n",
       "      <td>0.63</td>\n",
       "      <td>0.78</td>\n",
       "      <td>0.39</td>\n",
       "      <td>0.57</td>\n",
       "      <td>0.38</td>\n",
       "      <td>0.91</td>\n",
       "      <td>0.39</td>\n",
       "      <td>0.79</td>\n",
       "    </tr>\n",
       "    <tr>\n",
       "      <th>F1</th>\n",
       "      <td>0.33</td>\n",
       "      <td>0.57</td>\n",
       "      <td>0.51</td>\n",
       "      <td>0.61</td>\n",
       "      <td>0.51</td>\n",
       "      <td>0.95</td>\n",
       "      <td>0.51</td>\n",
       "      <td>0.78</td>\n",
       "    </tr>\n",
       "    <tr>\n",
       "      <th>AUC_ROC</th>\n",
       "      <td>0.79</td>\n",
       "      <td>0.85</td>\n",
       "      <td>0.79</td>\n",
       "      <td>0.85</td>\n",
       "      <td>0.79</td>\n",
       "      <td>0.99</td>\n",
       "      <td>0.79</td>\n",
       "      <td>0.85</td>\n",
       "    </tr>\n",
       "  </tbody>\n",
       "</table>\n",
       "</div>"
      ],
      "text/plain": [
       "           imbalanced_LR  imbalanced_RF  class_weight_LR  class_weight_RF  \\\n",
       "Accuracy            0.82           0.86             0.71             0.83   \n",
       "Recall              0.22           0.45             0.73             0.66   \n",
       "Precision           0.63           0.78             0.39             0.57   \n",
       "F1                  0.33           0.57             0.51             0.61   \n",
       "AUC_ROC             0.79           0.85             0.79             0.85   \n",
       "\n",
       "           upsampled_LR  upsampled_RF  downsampled_LR  downsampled_RF  \n",
       "Accuracy           0.71          0.95            0.71            0.78  \n",
       "Recall             0.74          1.00            0.75            0.76  \n",
       "Precision          0.38          0.91            0.39            0.79  \n",
       "F1                 0.51          0.95            0.51            0.78  \n",
       "AUC_ROC            0.79          0.99            0.79            0.85  "
      ]
     },
     "execution_count": 40,
     "metadata": {},
     "output_type": "execute_result"
    }
   ],
   "source": [
    "results"
   ]
  },
  {
   "cell_type": "code",
   "execution_count": 41,
   "metadata": {
    "scrolled": false
   },
   "outputs": [
    {
     "data": {
      "image/png": "[encoded data removed]",
      "text/plain": [
       "<Figure size 720x432 with 1 Axes>"
      ]
     },
     "metadata": {
      "needs_background": "light"
     },
     "output_type": "display_data"
    }
   ],
   "source": [
    "fig, ax = plt.subplots(figsize=(10, 6))\n",
    "ax.set_ylim([0, 1])\n",
    "ax.set_title('F1 and AUC_ROC metrics of different models')\n",
    "ax.set_xlabel('Models')\n",
    "plt.xticks(rotation=15)\n",
    "ax.plot(results.loc['F1'], marker='o', label='F1')\n",
    "ax.plot(results.loc['AUC_ROC'], marker='o', label='AUC_ROC');\n",
    "ax.legend()\n",
    "ax.grid()"
   ]
  },
  {
   "cell_type": "markdown",
   "metadata": {},
   "source": [
    "The best F1 metric was shown by the random forest model on a class-balanced sample by the sampling technique.\n",
    "The AUC_ROC metric depends only on the algorithm (LR or RF) and does not depend on class balance, with the exception of a random forest model trained on an increased sample.\n",
    "\n",
    "<div>\n",
    "    <br/>\n",
    "    <a href=#content>Back to content</a>\n",
    "</div>"
   ]
  },
  {
   "cell_type": "markdown",
   "metadata": {},
   "source": [
    "## Model testing <a id='final_testing'> </a>"
   ]
  },
  {
   "cell_type": "markdown",
   "metadata": {},
   "source": [
    "Let's carry out the final testing of the best model on the test set."
   ]
  },
  {
   "cell_type": "markdown",
   "metadata": {},
   "source": [
    "Let's increase the training set by adding a validation set to it and get rid of the class imbalance using the upsamplig method."
   ]
  },
  {
   "cell_type": "code",
   "execution_count": 42,
   "metadata": {},
   "outputs": [],
   "source": [
    "features_train = pd.concat([features_train] + [features_valid])\n",
    "target_train = pd.concat([target_train] + [target_valid])\n",
    "features_upsampled, target_upsampled = upsample(features_train, target_train, 4)"
   ]
  },
  {
   "cell_type": "markdown",
   "metadata": {},
   "source": [
    "Let's retrain the best model on the new training set and get model predictions on the test set."
   ]
  },
  {
   "cell_type": "code",
   "execution_count": 43,
   "metadata": {},
   "outputs": [
    {
     "data": {
      "text/html": [
       "<div>\n",
       "<style scoped>\n",
       "    .dataframe tbody tr th:only-of-type {\n",
       "        vertical-align: middle;\n",
       "    }\n",
       "\n",
       "    .dataframe tbody tr th {\n",
       "        vertical-align: top;\n",
       "    }\n",
       "\n",
       "    .dataframe thead th {\n",
       "        text-align: right;\n",
       "    }\n",
       "</style>\n",
       "<table border=\"1\" class=\"dataframe\">\n",
       "  <thead>\n",
       "    <tr style=\"text-align: right;\">\n",
       "      <th></th>\n",
       "      <th>upsampled_RF_test</th>\n",
       "    </tr>\n",
       "  </thead>\n",
       "  <tbody>\n",
       "    <tr>\n",
       "      <th>Accuracy</th>\n",
       "      <td>0.85</td>\n",
       "    </tr>\n",
       "    <tr>\n",
       "      <th>Recall</th>\n",
       "      <td>0.59</td>\n",
       "    </tr>\n",
       "    <tr>\n",
       "      <th>Precision</th>\n",
       "      <td>0.65</td>\n",
       "    </tr>\n",
       "    <tr>\n",
       "      <th>F1</th>\n",
       "      <td>0.62</td>\n",
       "    </tr>\n",
       "    <tr>\n",
       "      <th>AUC_ROC</th>\n",
       "      <td>0.84</td>\n",
       "    </tr>\n",
       "  </tbody>\n",
       "</table>\n",
       "</div>"
      ],
      "text/plain": [
       "           upsampled_RF_test\n",
       "Accuracy                0.85\n",
       "Recall                  0.59\n",
       "Precision               0.65\n",
       "F1                      0.62\n",
       "AUC_ROC                 0.84"
      ]
     },
     "execution_count": 43,
     "metadata": {},
     "output_type": "execute_result"
    }
   ],
   "source": [
    "# initialize random forest model with hyperparameters found using GridSearchCV\n",
    "model = RandomForestClassifier(n_estimators=70, \n",
    "                               max_depth=15, \n",
    "                               random_state=12345)\n",
    "# train the model on training data balanced by classes using the upsampling technique\n",
    "model.fit(features_upsampled, target_upsampled)\n",
    "# get model predictions on the test set\n",
    "predictions_test = model.predict(features_test)\n",
    "probabilities_test = model.predict_proba(features_test)\n",
    "probabilities_one_test = probabilities_test[:, 1]\n",
    "# write the metrics to the table in the downsampled_RF_test column\n",
    "results['upsampled_RF_test'] = [accuracy_score(target_test, predictions_test), \n",
    "                                  recall_score(target_test, predictions_test), \n",
    "                                  precision_score(target_test, predictions_test), \n",
    "                                  f1_score(target_test, predictions_test),\n",
    "                                  roc_auc_score(target_test, probabilities_one_test)]\n",
    "results['upsampled_RF_test'] = results['upsampled_RF_test'].round(2)\n",
    "results[['upsampled_RF_test']]"
   ]
  },
  {
   "cell_type": "markdown",
   "metadata": {},
   "source": [
    "**Result:** The F1 metric of the best model on the test set is higher than 0.59. \n",
    "\n",
    "<div>\n",
    "    <br/>\n",
    "    <a href=#content>Back to content</a>\n",
    "</div>"
   ]
  },
  {
   "cell_type": "markdown",
   "metadata": {},
   "source": [
    "## Research results and general conclusion <a id='research_results'> </a>"
   ]
  },
  {
   "cell_type": "markdown",
   "metadata": {},
   "source": [
    "In this work, models were investigated that can analyze the behavior of bank customers on the basis of available data and predict whether the customer will leave the bank or not, that is, solve the classification problem.\n",
    "The initial data were studied, the target attribute: the fact of the client leaving (left - 1, did not leave - 0).\n",
    "As a result of data preprocessing:  \n",
    "\n",
    "1) the name of all columns is reduced to lowercase and \"snake\" format;  \n",
    "2) removed 909 rows with gaps in the `tenure` column;  \n",
    "3) it was revealed that 3283 clients have a zero balance on their account (value 0 in the balance column) - this is 36% of the dataset.  \n",
    "\n",
    "The features were prepared for further study as follows:  \n",
    "\n",
    "1) useless features removed: `row_number`, `customer_id`, `surname` ;  \n",
    "2) the categorical features `geography` and `gender` were converted into numerical ones by the OHE technique;  \n",
    "3) the initial data were divided into training, validation and test samples in the ratio of 60% 20% and 20%, respectively, with stratification (uniform distribution) of target trait classes;  \n",
    "4) scaling of numerical features `credit_score`, `age`, `tenure`, `balance`, `num_of_products`, `estimated_salary` by data standardization method.  \n",
    "\n",
    "The imbalance of classes of the target trait was investigated: class \"0\" - 80%, class \"1\" - 20%.  \n",
    "\n",
    "Next, the logistic regression and random forest models were investigated without taking into account the class imbalance. The best random forest model showed a higher F1 metric than the logistic regression model, but the desired value of F1 >= 0.59 could not be achieved.  \n",
    "\n",
    "Next, three methods for eliminating the imbalance were applied: automatic balancing, increase or decrease in the class, and their influence on the F1 and AUC_ROC metrics of the models was investigated.  \n",
    "\n",
    "For a logistic regression model, we can conclude that removing the imbalance increases the F1 metric. The choice of elimination method does not affect the F1 metric: it is the same for all three methods. The AUC_ROC metric is independent of class imbalance.  "
   ]
  },
  {
   "cell_type": "code",
   "execution_count": 44,
   "metadata": {
    "scrolled": true
   },
   "outputs": [
    {
     "data": {
      "text/html": [
       "<div>\n",
       "<style scoped>\n",
       "    .dataframe tbody tr th:only-of-type {\n",
       "        vertical-align: middle;\n",
       "    }\n",
       "\n",
       "    .dataframe tbody tr th {\n",
       "        vertical-align: top;\n",
       "    }\n",
       "\n",
       "    .dataframe thead th {\n",
       "        text-align: right;\n",
       "    }\n",
       "</style>\n",
       "<table border=\"1\" class=\"dataframe\">\n",
       "  <thead>\n",
       "    <tr style=\"text-align: right;\">\n",
       "      <th></th>\n",
       "      <th>imbalanced_LR</th>\n",
       "      <th>class_weight_LR</th>\n",
       "      <th>upsampled_LR</th>\n",
       "      <th>downsampled_LR</th>\n",
       "    </tr>\n",
       "  </thead>\n",
       "  <tbody>\n",
       "    <tr>\n",
       "      <th>Accuracy</th>\n",
       "      <td>0.82</td>\n",
       "      <td>0.71</td>\n",
       "      <td>0.71</td>\n",
       "      <td>0.71</td>\n",
       "    </tr>\n",
       "    <tr>\n",
       "      <th>Recall</th>\n",
       "      <td>0.22</td>\n",
       "      <td>0.73</td>\n",
       "      <td>0.74</td>\n",
       "      <td>0.75</td>\n",
       "    </tr>\n",
       "    <tr>\n",
       "      <th>Precision</th>\n",
       "      <td>0.63</td>\n",
       "      <td>0.39</td>\n",
       "      <td>0.38</td>\n",
       "      <td>0.39</td>\n",
       "    </tr>\n",
       "    <tr>\n",
       "      <th>F1</th>\n",
       "      <td>0.33</td>\n",
       "      <td>0.51</td>\n",
       "      <td>0.51</td>\n",
       "      <td>0.51</td>\n",
       "    </tr>\n",
       "    <tr>\n",
       "      <th>AUC_ROC</th>\n",
       "      <td>0.79</td>\n",
       "      <td>0.79</td>\n",
       "      <td>0.79</td>\n",
       "      <td>0.79</td>\n",
       "    </tr>\n",
       "  </tbody>\n",
       "</table>\n",
       "</div>"
      ],
      "text/plain": [
       "           imbalanced_LR  class_weight_LR  upsampled_LR  downsampled_LR\n",
       "Accuracy            0.82             0.71          0.71            0.71\n",
       "Recall              0.22             0.73          0.74            0.75\n",
       "Precision           0.63             0.39          0.38            0.39\n",
       "F1                  0.33             0.51          0.51            0.51\n",
       "AUC_ROC             0.79             0.79          0.79            0.79"
      ]
     },
     "execution_count": 44,
     "metadata": {},
     "output_type": "execute_result"
    }
   ],
   "source": [
    "results[['imbalanced_LR', 'class_weight_LR', 'upsampled_LR', 'downsampled_LR']]"
   ]
  },
  {
   "cell_type": "markdown",
   "metadata": {},
   "source": [
    "For the random forest model, we can conclude that removing the imbalance increases the F1 metric. The best result was shown by the upsampling method, the second result - by the downsampling method, then - automatic balancing. The AUC_ROC metric does not depend on the class imbalance, and differs only for the overtrained model."
   ]
  },
  {
   "cell_type": "code",
   "execution_count": 45,
   "metadata": {
    "scrolled": true
   },
   "outputs": [
    {
     "data": {
      "text/html": [
       "<div>\n",
       "<style scoped>\n",
       "    .dataframe tbody tr th:only-of-type {\n",
       "        vertical-align: middle;\n",
       "    }\n",
       "\n",
       "    .dataframe tbody tr th {\n",
       "        vertical-align: top;\n",
       "    }\n",
       "\n",
       "    .dataframe thead th {\n",
       "        text-align: right;\n",
       "    }\n",
       "</style>\n",
       "<table border=\"1\" class=\"dataframe\">\n",
       "  <thead>\n",
       "    <tr style=\"text-align: right;\">\n",
       "      <th></th>\n",
       "      <th>imbalanced_RF</th>\n",
       "      <th>class_weight_RF</th>\n",
       "      <th>upsampled_RF</th>\n",
       "      <th>downsampled_RF</th>\n",
       "    </tr>\n",
       "  </thead>\n",
       "  <tbody>\n",
       "    <tr>\n",
       "      <th>Accuracy</th>\n",
       "      <td>0.86</td>\n",
       "      <td>0.83</td>\n",
       "      <td>0.95</td>\n",
       "      <td>0.78</td>\n",
       "    </tr>\n",
       "    <tr>\n",
       "      <th>Recall</th>\n",
       "      <td>0.45</td>\n",
       "      <td>0.66</td>\n",
       "      <td>1.00</td>\n",
       "      <td>0.76</td>\n",
       "    </tr>\n",
       "    <tr>\n",
       "      <th>Precision</th>\n",
       "      <td>0.78</td>\n",
       "      <td>0.57</td>\n",
       "      <td>0.91</td>\n",
       "      <td>0.79</td>\n",
       "    </tr>\n",
       "    <tr>\n",
       "      <th>F1</th>\n",
       "      <td>0.57</td>\n",
       "      <td>0.61</td>\n",
       "      <td>0.95</td>\n",
       "      <td>0.78</td>\n",
       "    </tr>\n",
       "    <tr>\n",
       "      <th>AUC_ROC</th>\n",
       "      <td>0.85</td>\n",
       "      <td>0.85</td>\n",
       "      <td>0.99</td>\n",
       "      <td>0.85</td>\n",
       "    </tr>\n",
       "  </tbody>\n",
       "</table>\n",
       "</div>"
      ],
      "text/plain": [
       "           imbalanced_RF  class_weight_RF  upsampled_RF  downsampled_RF\n",
       "Accuracy            0.86             0.83          0.95            0.78\n",
       "Recall              0.45             0.66          1.00            0.76\n",
       "Precision           0.78             0.57          0.91            0.79\n",
       "F1                  0.57             0.61          0.95            0.78\n",
       "AUC_ROC             0.85             0.85          0.99            0.85"
      ]
     },
     "execution_count": 45,
     "metadata": {},
     "output_type": "execute_result"
    }
   ],
   "source": [
    "results[['imbalanced_RF', 'class_weight_RF', 'upsampled_RF', 'downsampled_RF']]"
   ]
  },
  {
   "cell_type": "markdown",
   "metadata": {},
   "source": [
    "The random forest model trained on an enlarged balanced sample was recognized as the best in terms of the F1 metric. This model was tested on a test sample and the result of the F1 metric was higher than 0.59."
   ]
  },
  {
   "cell_type": "code",
   "execution_count": 46,
   "metadata": {},
   "outputs": [
    {
     "data": {
      "text/html": [
       "<div>\n",
       "<style scoped>\n",
       "    .dataframe tbody tr th:only-of-type {\n",
       "        vertical-align: middle;\n",
       "    }\n",
       "\n",
       "    .dataframe tbody tr th {\n",
       "        vertical-align: top;\n",
       "    }\n",
       "\n",
       "    .dataframe thead th {\n",
       "        text-align: right;\n",
       "    }\n",
       "</style>\n",
       "<table border=\"1\" class=\"dataframe\">\n",
       "  <thead>\n",
       "    <tr style=\"text-align: right;\">\n",
       "      <th></th>\n",
       "      <th>upsampled_RF_test</th>\n",
       "    </tr>\n",
       "  </thead>\n",
       "  <tbody>\n",
       "    <tr>\n",
       "      <th>Accuracy</th>\n",
       "      <td>0.85</td>\n",
       "    </tr>\n",
       "    <tr>\n",
       "      <th>Recall</th>\n",
       "      <td>0.59</td>\n",
       "    </tr>\n",
       "    <tr>\n",
       "      <th>Precision</th>\n",
       "      <td>0.65</td>\n",
       "    </tr>\n",
       "    <tr>\n",
       "      <th>F1</th>\n",
       "      <td>0.62</td>\n",
       "    </tr>\n",
       "    <tr>\n",
       "      <th>AUC_ROC</th>\n",
       "      <td>0.84</td>\n",
       "    </tr>\n",
       "  </tbody>\n",
       "</table>\n",
       "</div>"
      ],
      "text/plain": [
       "           upsampled_RF_test\n",
       "Accuracy                0.85\n",
       "Recall                  0.59\n",
       "Precision               0.65\n",
       "F1                      0.62\n",
       "AUC_ROC                 0.84"
      ]
     },
     "execution_count": 46,
     "metadata": {},
     "output_type": "execute_result"
    }
   ],
   "source": [
    "results[['upsampled_RF_test']]"
   ]
  },
  {
   "cell_type": "markdown",
   "metadata": {},
   "source": [
    "***Recommendation:*** Pay attention to the lack of data in the `tenure` column in 909 rows and identify the reasons.  \n",
    "\n",
    "<div>\n",
    "    <br/>\n",
    "    <a href=#content>Back to content</a>\n",
    "</div>"
   ]
  }
 ],
 "metadata": {
  "ExecuteTimeLog": [
   {
    "duration": 375,
    "start_time": "2022-09-07T19:01:43.929Z"
   },
   {
    "duration": 829,
    "start_time": "2022-09-07T19:07:34.006Z"
   },
   {
    "duration": 105,
    "start_time": "2022-09-07T19:08:37.733Z"
   },
   {
    "duration": 12,
    "start_time": "2022-09-07T19:12:54.957Z"
   },
   {
    "duration": 22,
    "start_time": "2022-09-07T19:16:03.766Z"
   },
   {
    "duration": 1109,
    "start_time": "2022-09-07T19:27:58.183Z"
   },
   {
    "duration": 59,
    "start_time": "2022-09-07T19:27:59.294Z"
   },
   {
    "duration": 12,
    "start_time": "2022-09-07T19:27:59.355Z"
   },
   {
    "duration": 4,
    "start_time": "2022-09-07T19:27:59.369Z"
   },
   {
    "duration": 4,
    "start_time": "2022-09-07T19:28:15.374Z"
   },
   {
    "duration": 11,
    "start_time": "2022-09-07T19:29:55.379Z"
   },
   {
    "duration": 10,
    "start_time": "2022-09-07T19:30:35.399Z"
   },
   {
    "duration": 1091,
    "start_time": "2022-09-07T19:31:24.046Z"
   },
   {
    "duration": 64,
    "start_time": "2022-09-07T19:31:25.139Z"
   },
   {
    "duration": 14,
    "start_time": "2022-09-07T19:31:25.205Z"
   },
   {
    "duration": 5,
    "start_time": "2022-09-07T19:31:25.221Z"
   },
   {
    "duration": 10,
    "start_time": "2022-09-07T19:31:25.228Z"
   },
   {
    "duration": 7,
    "start_time": "2022-09-07T19:31:38.585Z"
   },
   {
    "duration": 1271,
    "start_time": "2022-09-08T10:04:45.608Z"
   },
   {
    "duration": 0,
    "start_time": "2022-09-08T10:04:46.881Z"
   },
   {
    "duration": 0,
    "start_time": "2022-09-08T10:04:46.883Z"
   },
   {
    "duration": 0,
    "start_time": "2022-09-08T10:04:46.885Z"
   },
   {
    "duration": 0,
    "start_time": "2022-09-08T10:04:46.891Z"
   },
   {
    "duration": 3085,
    "start_time": "2022-09-08T10:06:13.169Z"
   },
   {
    "duration": 1559,
    "start_time": "2022-09-08T10:06:16.256Z"
   },
   {
    "duration": 197,
    "start_time": "2022-09-08T10:06:17.817Z"
   },
   {
    "duration": 13,
    "start_time": "2022-09-08T10:06:18.016Z"
   },
   {
    "duration": 6,
    "start_time": "2022-09-08T10:06:18.031Z"
   },
   {
    "duration": 8,
    "start_time": "2022-09-08T10:06:18.039Z"
   },
   {
    "duration": 1264,
    "start_time": "2022-09-08T10:06:54.949Z"
   },
   {
    "duration": 24,
    "start_time": "2022-09-08T10:08:15.887Z"
   },
   {
    "duration": 13,
    "start_time": "2022-09-08T10:10:10.078Z"
   },
   {
    "duration": 6,
    "start_time": "2022-09-08T10:13:07.812Z"
   },
   {
    "duration": 22,
    "start_time": "2022-09-08T10:13:33.743Z"
   },
   {
    "duration": 6,
    "start_time": "2022-09-08T10:16:54.331Z"
   },
   {
    "duration": 5,
    "start_time": "2022-09-08T10:17:27.711Z"
   },
   {
    "duration": 21,
    "start_time": "2022-09-08T10:18:06.307Z"
   },
   {
    "duration": 9,
    "start_time": "2022-09-08T11:07:20.991Z"
   },
   {
    "duration": 10,
    "start_time": "2022-09-08T11:07:35.202Z"
   },
   {
    "duration": 1086,
    "start_time": "2022-09-08T11:08:10.017Z"
   },
   {
    "duration": 2290,
    "start_time": "2022-09-08T11:08:25.953Z"
   },
   {
    "duration": 1592,
    "start_time": "2022-09-08T11:08:28.246Z"
   },
   {
    "duration": 61,
    "start_time": "2022-09-08T11:08:29.839Z"
   },
   {
    "duration": 13,
    "start_time": "2022-09-08T11:08:29.901Z"
   },
   {
    "duration": 5,
    "start_time": "2022-09-08T11:08:29.917Z"
   },
   {
    "duration": 8,
    "start_time": "2022-09-08T11:08:29.923Z"
   },
   {
    "duration": 1176,
    "start_time": "2022-09-08T11:08:29.933Z"
   },
   {
    "duration": 17,
    "start_time": "2022-09-08T11:08:31.111Z"
   },
   {
    "duration": 33,
    "start_time": "2022-09-08T11:08:31.130Z"
   },
   {
    "duration": 39,
    "start_time": "2022-09-08T11:08:31.165Z"
   },
   {
    "duration": 19,
    "start_time": "2022-09-08T11:08:31.205Z"
   },
   {
    "duration": 36,
    "start_time": "2022-09-08T11:08:31.226Z"
   },
   {
    "duration": 4,
    "start_time": "2022-09-08T11:09:21.698Z"
   },
   {
    "duration": 984,
    "start_time": "2022-09-08T11:09:42.824Z"
   },
   {
    "duration": 8,
    "start_time": "2022-09-08T11:14:43.615Z"
   },
   {
    "duration": 15,
    "start_time": "2022-09-08T11:19:21.365Z"
   },
   {
    "duration": 7,
    "start_time": "2022-09-08T11:19:59.741Z"
   },
   {
    "duration": 5,
    "start_time": "2022-09-08T11:20:14.342Z"
   },
   {
    "duration": 5,
    "start_time": "2022-09-08T11:20:22.463Z"
   },
   {
    "duration": 6,
    "start_time": "2022-09-08T11:23:39.259Z"
   },
   {
    "duration": 127,
    "start_time": "2022-09-08T11:31:35.491Z"
   },
   {
    "duration": 45,
    "start_time": "2022-09-08T11:34:58.149Z"
   },
   {
    "duration": 888,
    "start_time": "2022-09-08T11:55:00.576Z"
   },
   {
    "duration": 902,
    "start_time": "2022-09-08T11:55:04.950Z"
   },
   {
    "duration": 1523,
    "start_time": "2022-09-08T11:55:35.597Z"
   },
   {
    "duration": 1238,
    "start_time": "2022-09-08T11:56:53.018Z"
   },
   {
    "duration": 1203,
    "start_time": "2022-09-08T11:58:59.112Z"
   },
   {
    "duration": 6,
    "start_time": "2022-09-08T12:02:31.258Z"
   },
   {
    "duration": 7,
    "start_time": "2022-09-08T12:07:00.457Z"
   },
   {
    "duration": 1147,
    "start_time": "2022-09-08T12:10:46.249Z"
   },
   {
    "duration": 2400,
    "start_time": "2022-09-08T12:11:34.500Z"
   },
   {
    "duration": 1780,
    "start_time": "2022-09-08T12:11:36.903Z"
   },
   {
    "duration": 61,
    "start_time": "2022-09-08T12:11:38.685Z"
   },
   {
    "duration": 14,
    "start_time": "2022-09-08T12:11:38.749Z"
   },
   {
    "duration": 5,
    "start_time": "2022-09-08T12:11:38.765Z"
   },
   {
    "duration": 9,
    "start_time": "2022-09-08T12:11:38.772Z"
   },
   {
    "duration": 1041,
    "start_time": "2022-09-08T12:11:38.782Z"
   },
   {
    "duration": 19,
    "start_time": "2022-09-08T12:11:39.825Z"
   },
   {
    "duration": 6,
    "start_time": "2022-09-08T12:11:39.846Z"
   },
   {
    "duration": 11,
    "start_time": "2022-09-08T12:11:39.855Z"
   },
   {
    "duration": 1221,
    "start_time": "2022-09-08T12:11:39.892Z"
   },
   {
    "duration": 12,
    "start_time": "2022-09-08T12:11:41.115Z"
   },
   {
    "duration": 9,
    "start_time": "2022-09-08T12:11:41.129Z"
   },
   {
    "duration": 8,
    "start_time": "2022-09-08T12:11:41.140Z"
   },
   {
    "duration": 6,
    "start_time": "2022-09-08T12:11:41.150Z"
   },
   {
    "duration": 79,
    "start_time": "2022-09-08T12:11:41.157Z"
   },
   {
    "duration": 1134,
    "start_time": "2022-09-08T12:11:41.243Z"
   },
   {
    "duration": 13,
    "start_time": "2022-09-08T12:11:42.379Z"
   },
   {
    "duration": 7,
    "start_time": "2022-09-08T12:21:32.621Z"
   },
   {
    "duration": 1746,
    "start_time": "2022-09-08T12:21:45.725Z"
   },
   {
    "duration": 26,
    "start_time": "2022-09-08T12:22:17.171Z"
   },
   {
    "duration": 13,
    "start_time": "2022-09-08T12:22:49.318Z"
   },
   {
    "duration": 8,
    "start_time": "2022-09-08T12:23:09.499Z"
   },
   {
    "duration": 232,
    "start_time": "2022-09-08T12:24:23.078Z"
   },
   {
    "duration": 6,
    "start_time": "2022-09-08T12:24:28.465Z"
   },
   {
    "duration": 5,
    "start_time": "2022-09-08T12:36:34.264Z"
   },
   {
    "duration": 7,
    "start_time": "2022-09-08T12:42:01.363Z"
   },
   {
    "duration": 6,
    "start_time": "2022-09-08T12:42:11.520Z"
   },
   {
    "duration": 12,
    "start_time": "2022-09-08T12:44:59.088Z"
   },
   {
    "duration": 11,
    "start_time": "2022-09-08T12:47:16.565Z"
   },
   {
    "duration": 6,
    "start_time": "2022-09-08T12:47:32.108Z"
   },
   {
    "duration": 2183,
    "start_time": "2022-09-08T12:47:37.869Z"
   },
   {
    "duration": 1443,
    "start_time": "2022-09-08T12:47:40.055Z"
   },
   {
    "duration": 62,
    "start_time": "2022-09-08T12:47:41.500Z"
   },
   {
    "duration": 12,
    "start_time": "2022-09-08T12:47:41.564Z"
   },
   {
    "duration": 5,
    "start_time": "2022-09-08T12:47:41.578Z"
   },
   {
    "duration": 9,
    "start_time": "2022-09-08T12:47:41.585Z"
   },
   {
    "duration": 1216,
    "start_time": "2022-09-08T12:47:41.596Z"
   },
   {
    "duration": 17,
    "start_time": "2022-09-08T12:47:42.814Z"
   },
   {
    "duration": 8,
    "start_time": "2022-09-08T12:47:42.832Z"
   },
   {
    "duration": 14,
    "start_time": "2022-09-08T12:47:42.843Z"
   },
   {
    "duration": 1062,
    "start_time": "2022-09-08T12:47:42.859Z"
   },
   {
    "duration": 78,
    "start_time": "2022-09-08T12:47:43.923Z"
   },
   {
    "duration": 8,
    "start_time": "2022-09-08T12:47:44.003Z"
   },
   {
    "duration": 8,
    "start_time": "2022-09-08T12:47:44.013Z"
   },
   {
    "duration": 8,
    "start_time": "2022-09-08T12:47:44.023Z"
   },
   {
    "duration": 68,
    "start_time": "2022-09-08T12:47:44.032Z"
   },
   {
    "duration": 1068,
    "start_time": "2022-09-08T12:47:44.102Z"
   },
   {
    "duration": 7,
    "start_time": "2022-09-08T12:47:45.171Z"
   },
   {
    "duration": 16,
    "start_time": "2022-09-08T12:47:45.180Z"
   },
   {
    "duration": 18,
    "start_time": "2022-09-08T12:47:45.198Z"
   },
   {
    "duration": 145,
    "start_time": "2022-09-08T12:47:45.218Z"
   },
   {
    "duration": 6,
    "start_time": "2022-09-08T12:48:50.053Z"
   },
   {
    "duration": 26,
    "start_time": "2022-09-08T12:49:16.809Z"
   },
   {
    "duration": 15,
    "start_time": "2022-09-08T12:49:40.307Z"
   },
   {
    "duration": 6,
    "start_time": "2022-09-08T12:50:46.459Z"
   },
   {
    "duration": 12,
    "start_time": "2022-09-08T12:51:00.822Z"
   },
   {
    "duration": 5,
    "start_time": "2022-09-08T12:57:06.530Z"
   },
   {
    "duration": 2359,
    "start_time": "2022-09-08T12:59:01.641Z"
   },
   {
    "duration": 1507,
    "start_time": "2022-09-08T12:59:04.002Z"
   },
   {
    "duration": 62,
    "start_time": "2022-09-08T12:59:05.511Z"
   },
   {
    "duration": 13,
    "start_time": "2022-09-08T12:59:05.575Z"
   },
   {
    "duration": 5,
    "start_time": "2022-09-08T12:59:05.590Z"
   },
   {
    "duration": 25,
    "start_time": "2022-09-08T12:59:05.597Z"
   },
   {
    "duration": 994,
    "start_time": "2022-09-08T12:59:05.624Z"
   },
   {
    "duration": 18,
    "start_time": "2022-09-08T12:59:06.619Z"
   },
   {
    "duration": 34,
    "start_time": "2022-09-08T12:59:06.638Z"
   },
   {
    "duration": 24,
    "start_time": "2022-09-08T12:59:06.674Z"
   },
   {
    "duration": 1001,
    "start_time": "2022-09-08T12:59:06.699Z"
   },
   {
    "duration": 11,
    "start_time": "2022-09-08T12:59:07.702Z"
   },
   {
    "duration": 35,
    "start_time": "2022-09-08T12:59:07.714Z"
   },
   {
    "duration": 18,
    "start_time": "2022-09-08T12:59:07.751Z"
   },
   {
    "duration": 37,
    "start_time": "2022-09-08T12:59:07.771Z"
   },
   {
    "duration": 129,
    "start_time": "2022-09-08T12:59:07.810Z"
   },
   {
    "duration": 1054,
    "start_time": "2022-09-08T12:59:07.940Z"
   },
   {
    "duration": 7,
    "start_time": "2022-09-08T12:59:08.996Z"
   },
   {
    "duration": 19,
    "start_time": "2022-09-08T12:59:09.004Z"
   },
   {
    "duration": 26,
    "start_time": "2022-09-08T12:59:09.025Z"
   },
   {
    "duration": 7,
    "start_time": "2022-09-08T12:59:09.053Z"
   },
   {
    "duration": 112,
    "start_time": "2022-09-08T13:05:32.272Z"
   },
   {
    "duration": 9,
    "start_time": "2022-09-08T13:06:04.033Z"
   },
   {
    "duration": 16,
    "start_time": "2022-09-08T13:20:41.298Z"
   },
   {
    "duration": 2331,
    "start_time": "2022-09-08T13:23:34.896Z"
   },
   {
    "duration": 1479,
    "start_time": "2022-09-08T13:23:37.229Z"
   },
   {
    "duration": 63,
    "start_time": "2022-09-08T13:23:38.710Z"
   },
   {
    "duration": 14,
    "start_time": "2022-09-08T13:23:38.776Z"
   },
   {
    "duration": 7,
    "start_time": "2022-09-08T13:23:38.792Z"
   },
   {
    "duration": 13,
    "start_time": "2022-09-08T13:23:38.801Z"
   },
   {
    "duration": 1104,
    "start_time": "2022-09-08T13:23:38.816Z"
   },
   {
    "duration": 17,
    "start_time": "2022-09-08T13:23:39.922Z"
   },
   {
    "duration": 5,
    "start_time": "2022-09-08T13:23:39.941Z"
   },
   {
    "duration": 14,
    "start_time": "2022-09-08T13:23:39.948Z"
   },
   {
    "duration": 1061,
    "start_time": "2022-09-08T13:23:39.964Z"
   },
   {
    "duration": 12,
    "start_time": "2022-09-08T13:23:41.092Z"
   },
   {
    "duration": 8,
    "start_time": "2022-09-08T13:23:41.106Z"
   },
   {
    "duration": 6,
    "start_time": "2022-09-08T13:23:41.116Z"
   },
   {
    "duration": 7,
    "start_time": "2022-09-08T13:23:41.124Z"
   },
   {
    "duration": 150,
    "start_time": "2022-09-08T13:23:41.132Z"
   },
   {
    "duration": 1172,
    "start_time": "2022-09-08T13:23:41.284Z"
   },
   {
    "duration": 7,
    "start_time": "2022-09-08T13:23:42.457Z"
   },
   {
    "duration": 18,
    "start_time": "2022-09-08T13:23:42.466Z"
   },
   {
    "duration": 21,
    "start_time": "2022-09-08T13:23:42.485Z"
   },
   {
    "duration": 6,
    "start_time": "2022-09-08T13:23:42.508Z"
   },
   {
    "duration": 16,
    "start_time": "2022-09-08T13:23:42.515Z"
   },
   {
    "duration": 25,
    "start_time": "2022-09-08T13:23:42.533Z"
   },
   {
    "duration": 32,
    "start_time": "2022-09-08T13:42:27.485Z"
   },
   {
    "duration": 48,
    "start_time": "2022-09-08T13:42:45.701Z"
   },
   {
    "duration": 32,
    "start_time": "2022-09-08T13:43:14.040Z"
   },
   {
    "duration": 8,
    "start_time": "2022-09-08T13:55:29.990Z"
   },
   {
    "duration": 138,
    "start_time": "2022-09-08T13:55:42.846Z"
   },
   {
    "duration": 8,
    "start_time": "2022-09-08T13:56:08.973Z"
   },
   {
    "duration": 122,
    "start_time": "2022-09-08T13:56:34.306Z"
   },
   {
    "duration": 13,
    "start_time": "2022-09-08T13:56:43.254Z"
   },
   {
    "duration": 142,
    "start_time": "2022-09-08T13:56:51.469Z"
   },
   {
    "duration": 133,
    "start_time": "2022-09-08T13:57:06.178Z"
   },
   {
    "duration": 13,
    "start_time": "2022-09-08T13:57:22.729Z"
   },
   {
    "duration": 12,
    "start_time": "2022-09-08T13:58:04.378Z"
   },
   {
    "duration": 8,
    "start_time": "2022-09-08T13:58:25.615Z"
   },
   {
    "duration": 148,
    "start_time": "2022-09-08T13:59:35.678Z"
   },
   {
    "duration": 147,
    "start_time": "2022-09-08T13:59:59.274Z"
   },
   {
    "duration": 115,
    "start_time": "2022-09-08T14:02:06.353Z"
   },
   {
    "duration": 215,
    "start_time": "2022-09-08T14:02:32.045Z"
   },
   {
    "duration": 96,
    "start_time": "2022-09-08T14:02:36.280Z"
   },
   {
    "duration": 121,
    "start_time": "2022-09-08T14:02:45.191Z"
   },
   {
    "duration": 107,
    "start_time": "2022-09-08T14:03:06.939Z"
   },
   {
    "duration": 33,
    "start_time": "2022-09-08T14:19:19.334Z"
   },
   {
    "duration": 6,
    "start_time": "2022-09-08T14:20:47.080Z"
   },
   {
    "duration": 2873,
    "start_time": "2022-09-08T14:22:44.104Z"
   },
   {
    "duration": 2467,
    "start_time": "2022-09-08T14:22:46.979Z"
   },
   {
    "duration": 68,
    "start_time": "2022-09-08T14:22:49.448Z"
   },
   {
    "duration": 12,
    "start_time": "2022-09-08T14:22:49.519Z"
   },
   {
    "duration": 5,
    "start_time": "2022-09-08T14:22:49.533Z"
   },
   {
    "duration": 10,
    "start_time": "2022-09-08T14:22:49.540Z"
   },
   {
    "duration": 1160,
    "start_time": "2022-09-08T14:22:49.552Z"
   },
   {
    "duration": 27,
    "start_time": "2022-09-08T14:22:50.713Z"
   },
   {
    "duration": 5,
    "start_time": "2022-09-08T14:22:50.742Z"
   },
   {
    "duration": 15,
    "start_time": "2022-09-08T14:22:50.750Z"
   },
   {
    "duration": 1165,
    "start_time": "2022-09-08T14:22:50.766Z"
   },
   {
    "duration": 14,
    "start_time": "2022-09-08T14:22:51.932Z"
   },
   {
    "duration": 12,
    "start_time": "2022-09-08T14:22:51.948Z"
   },
   {
    "duration": 31,
    "start_time": "2022-09-08T14:22:51.962Z"
   },
   {
    "duration": 22,
    "start_time": "2022-09-08T14:22:51.995Z"
   },
   {
    "duration": 145,
    "start_time": "2022-09-08T14:22:52.019Z"
   },
   {
    "duration": 1115,
    "start_time": "2022-09-08T14:22:52.166Z"
   },
   {
    "duration": 13,
    "start_time": "2022-09-08T14:22:53.282Z"
   },
   {
    "duration": 25,
    "start_time": "2022-09-08T14:22:53.297Z"
   },
   {
    "duration": 30,
    "start_time": "2022-09-08T14:22:53.324Z"
   },
   {
    "duration": 11,
    "start_time": "2022-09-08T14:22:53.355Z"
   },
   {
    "duration": 33,
    "start_time": "2022-09-08T14:22:53.368Z"
   },
   {
    "duration": 43,
    "start_time": "2022-09-08T14:22:53.403Z"
   },
   {
    "duration": 118,
    "start_time": "2022-09-08T14:22:53.448Z"
   },
   {
    "duration": 5,
    "start_time": "2022-09-08T14:22:53.567Z"
   },
   {
    "duration": 125,
    "start_time": "2022-09-08T14:22:53.574Z"
   },
   {
    "duration": 45,
    "start_time": "2022-09-08T20:01:59.193Z"
   },
   {
    "duration": 2986,
    "start_time": "2022-09-08T20:02:05.607Z"
   },
   {
    "duration": 1485,
    "start_time": "2022-09-08T20:02:08.596Z"
   },
   {
    "duration": 185,
    "start_time": "2022-09-08T20:02:10.082Z"
   },
   {
    "duration": 13,
    "start_time": "2022-09-08T20:02:10.269Z"
   },
   {
    "duration": 10,
    "start_time": "2022-09-08T20:02:10.283Z"
   },
   {
    "duration": 9,
    "start_time": "2022-09-08T20:02:10.295Z"
   },
   {
    "duration": 981,
    "start_time": "2022-09-08T20:02:10.306Z"
   },
   {
    "duration": 16,
    "start_time": "2022-09-08T20:02:11.355Z"
   },
   {
    "duration": 4,
    "start_time": "2022-09-08T20:02:11.373Z"
   },
   {
    "duration": 12,
    "start_time": "2022-09-08T20:02:11.379Z"
   },
   {
    "duration": 994,
    "start_time": "2022-09-08T20:02:11.393Z"
   },
   {
    "duration": 9,
    "start_time": "2022-09-08T20:02:12.389Z"
   },
   {
    "duration": 8,
    "start_time": "2022-09-08T20:02:12.400Z"
   },
   {
    "duration": 4,
    "start_time": "2022-09-08T20:02:12.409Z"
   },
   {
    "duration": 10,
    "start_time": "2022-09-08T20:02:12.415Z"
   },
   {
    "duration": 65,
    "start_time": "2022-09-08T20:02:12.427Z"
   },
   {
    "duration": 954,
    "start_time": "2022-09-08T20:02:12.494Z"
   },
   {
    "duration": 8,
    "start_time": "2022-09-08T20:02:13.450Z"
   },
   {
    "duration": 8,
    "start_time": "2022-09-08T20:02:13.460Z"
   },
   {
    "duration": 14,
    "start_time": "2022-09-08T20:02:13.469Z"
   },
   {
    "duration": 5,
    "start_time": "2022-09-08T20:02:13.484Z"
   },
   {
    "duration": 14,
    "start_time": "2022-09-08T20:02:13.490Z"
   },
   {
    "duration": 61,
    "start_time": "2022-09-08T20:02:13.505Z"
   },
   {
    "duration": 101,
    "start_time": "2022-09-08T20:02:13.567Z"
   },
   {
    "duration": 289,
    "start_time": "2022-09-08T20:02:13.669Z"
   },
   {
    "duration": 29,
    "start_time": "2022-09-08T20:02:55.904Z"
   },
   {
    "duration": 107,
    "start_time": "2022-09-08T20:05:23.349Z"
   },
   {
    "duration": 27,
    "start_time": "2022-09-08T20:07:09.299Z"
   },
   {
    "duration": 89,
    "start_time": "2022-09-08T20:08:31.374Z"
   },
   {
    "duration": 87,
    "start_time": "2022-09-08T20:10:38.074Z"
   },
   {
    "duration": 168,
    "start_time": "2022-09-08T20:11:19.891Z"
   },
   {
    "duration": 131,
    "start_time": "2022-09-08T20:11:27.439Z"
   },
   {
    "duration": 27,
    "start_time": "2022-09-08T20:11:41.213Z"
   },
   {
    "duration": 84,
    "start_time": "2022-09-08T20:11:48.475Z"
   },
   {
    "duration": 115,
    "start_time": "2022-09-08T20:11:59.343Z"
   },
   {
    "duration": 82,
    "start_time": "2022-09-08T20:12:04.886Z"
   },
   {
    "duration": 231,
    "start_time": "2022-09-08T20:12:38.639Z"
   },
   {
    "duration": 71,
    "start_time": "2022-09-08T20:12:44.287Z"
   },
   {
    "duration": 133,
    "start_time": "2022-09-08T20:12:55.339Z"
   },
   {
    "duration": 173987,
    "start_time": "2022-09-08T20:15:18.641Z"
   },
   {
    "duration": 133,
    "start_time": "2022-09-08T20:33:33.987Z"
   },
   {
    "duration": 189009,
    "start_time": "2022-09-08T20:33:44.616Z"
   },
   {
    "duration": 182502,
    "start_time": "2022-09-08T20:38:35.313Z"
   },
   {
    "duration": 175731,
    "start_time": "2022-09-08T20:47:14.298Z"
   },
   {
    "duration": 172710,
    "start_time": "2022-09-08T21:05:34.846Z"
   },
   {
    "duration": 1735,
    "start_time": "2022-09-08T21:19:54.991Z"
   },
   {
    "duration": 1343,
    "start_time": "2022-09-08T21:19:56.729Z"
   },
   {
    "duration": 55,
    "start_time": "2022-09-08T21:19:58.074Z"
   },
   {
    "duration": 11,
    "start_time": "2022-09-08T21:19:58.130Z"
   },
   {
    "duration": 4,
    "start_time": "2022-09-08T21:19:58.143Z"
   },
   {
    "duration": 8,
    "start_time": "2022-09-08T21:19:58.148Z"
   },
   {
    "duration": 821,
    "start_time": "2022-09-08T21:19:58.157Z"
   },
   {
    "duration": 85,
    "start_time": "2022-09-08T21:19:58.980Z"
   },
   {
    "duration": 8,
    "start_time": "2022-09-08T21:19:59.067Z"
   },
   {
    "duration": 8,
    "start_time": "2022-09-08T21:19:59.078Z"
   },
   {
    "duration": 874,
    "start_time": "2022-09-08T21:19:59.087Z"
   },
   {
    "duration": 11,
    "start_time": "2022-09-08T21:19:59.963Z"
   },
   {
    "duration": 8,
    "start_time": "2022-09-08T21:19:59.975Z"
   },
   {
    "duration": 8,
    "start_time": "2022-09-08T21:19:59.985Z"
   },
   {
    "duration": 5,
    "start_time": "2022-09-08T21:19:59.995Z"
   },
   {
    "duration": 138,
    "start_time": "2022-09-08T21:20:00.002Z"
   },
   {
    "duration": 874,
    "start_time": "2022-09-08T21:20:00.142Z"
   },
   {
    "duration": 6,
    "start_time": "2022-09-08T21:20:01.018Z"
   },
   {
    "duration": 11,
    "start_time": "2022-09-08T21:20:01.025Z"
   },
   {
    "duration": 20,
    "start_time": "2022-09-08T21:20:01.037Z"
   },
   {
    "duration": 15,
    "start_time": "2022-09-08T21:20:01.059Z"
   },
   {
    "duration": 16,
    "start_time": "2022-09-08T21:20:01.075Z"
   },
   {
    "duration": 29,
    "start_time": "2022-09-08T21:20:01.093Z"
   },
   {
    "duration": 95,
    "start_time": "2022-09-08T21:20:01.123Z"
   },
   {
    "duration": 137,
    "start_time": "2022-09-08T21:20:01.219Z"
   },
   {
    "duration": 172277,
    "start_time": "2022-09-08T21:20:01.358Z"
   },
   {
    "duration": 173363,
    "start_time": "2022-09-08T21:23:38.656Z"
   },
   {
    "duration": 2719,
    "start_time": "2022-09-09T05:08:27.411Z"
   },
   {
    "duration": 1682,
    "start_time": "2022-09-09T05:08:30.133Z"
   },
   {
    "duration": 102,
    "start_time": "2022-09-09T05:08:31.816Z"
   },
   {
    "duration": 12,
    "start_time": "2022-09-09T05:08:31.920Z"
   },
   {
    "duration": 4,
    "start_time": "2022-09-09T05:08:31.935Z"
   },
   {
    "duration": 14,
    "start_time": "2022-09-09T05:08:31.940Z"
   },
   {
    "duration": 1090,
    "start_time": "2022-09-09T05:08:31.955Z"
   },
   {
    "duration": 18,
    "start_time": "2022-09-09T05:08:33.046Z"
   },
   {
    "duration": 5,
    "start_time": "2022-09-09T05:08:33.065Z"
   },
   {
    "duration": 12,
    "start_time": "2022-09-09T05:08:33.071Z"
   },
   {
    "duration": 1051,
    "start_time": "2022-09-09T05:08:33.084Z"
   },
   {
    "duration": 12,
    "start_time": "2022-09-09T05:08:34.137Z"
   },
   {
    "duration": 9,
    "start_time": "2022-09-09T05:08:34.150Z"
   },
   {
    "duration": 6,
    "start_time": "2022-09-09T05:08:34.162Z"
   },
   {
    "duration": 13,
    "start_time": "2022-09-09T05:08:34.170Z"
   },
   {
    "duration": 76,
    "start_time": "2022-09-09T05:08:34.185Z"
   },
   {
    "duration": 1034,
    "start_time": "2022-09-09T05:08:34.263Z"
   },
   {
    "duration": 7,
    "start_time": "2022-09-09T05:08:35.299Z"
   },
   {
    "duration": 16,
    "start_time": "2022-09-09T05:08:35.307Z"
   },
   {
    "duration": 12,
    "start_time": "2022-09-09T05:08:35.325Z"
   },
   {
    "duration": 5,
    "start_time": "2022-09-09T05:08:35.339Z"
   },
   {
    "duration": 16,
    "start_time": "2022-09-09T05:08:35.345Z"
   },
   {
    "duration": 72,
    "start_time": "2022-09-09T05:08:35.363Z"
   },
   {
    "duration": 113,
    "start_time": "2022-09-09T05:08:35.437Z"
   },
   {
    "duration": 171,
    "start_time": "2022-09-09T05:08:35.551Z"
   },
   {
    "duration": 205750,
    "start_time": "2022-09-09T05:08:35.724Z"
   },
   {
    "duration": 145,
    "start_time": "2022-09-09T05:13:20.271Z"
   },
   {
    "duration": 146,
    "start_time": "2022-09-09T05:13:29.732Z"
   },
   {
    "duration": 243,
    "start_time": "2022-09-09T05:13:54.484Z"
   },
   {
    "duration": 159,
    "start_time": "2022-09-09T05:14:06.612Z"
   },
   {
    "duration": 153,
    "start_time": "2022-09-09T05:14:54.378Z"
   },
   {
    "duration": 164,
    "start_time": "2022-09-09T05:15:06.875Z"
   },
   {
    "duration": 168,
    "start_time": "2022-09-09T05:15:54.588Z"
   },
   {
    "duration": 155,
    "start_time": "2022-09-09T05:16:55.532Z"
   },
   {
    "duration": 173,
    "start_time": "2022-09-09T05:17:02.461Z"
   },
   {
    "duration": 276,
    "start_time": "2022-09-09T05:17:09.903Z"
   },
   {
    "duration": 223,
    "start_time": "2022-09-09T05:17:22.808Z"
   },
   {
    "duration": 173,
    "start_time": "2022-09-09T05:17:29.264Z"
   },
   {
    "duration": 170,
    "start_time": "2022-09-09T05:18:32.929Z"
   },
   {
    "duration": 174,
    "start_time": "2022-09-09T05:19:06.926Z"
   },
   {
    "duration": 2344,
    "start_time": "2022-09-09T05:49:13.409Z"
   },
   {
    "duration": 1454,
    "start_time": "2022-09-09T05:49:15.756Z"
   },
   {
    "duration": 64,
    "start_time": "2022-09-09T05:49:17.212Z"
   },
   {
    "duration": 13,
    "start_time": "2022-09-09T05:49:17.280Z"
   },
   {
    "duration": 5,
    "start_time": "2022-09-09T05:49:17.295Z"
   },
   {
    "duration": 9,
    "start_time": "2022-09-09T05:49:17.301Z"
   },
   {
    "duration": 1031,
    "start_time": "2022-09-09T05:49:17.311Z"
   },
   {
    "duration": 18,
    "start_time": "2022-09-09T05:49:18.344Z"
   },
   {
    "duration": 4,
    "start_time": "2022-09-09T05:49:18.363Z"
   },
   {
    "duration": 12,
    "start_time": "2022-09-09T05:49:18.370Z"
   },
   {
    "duration": 1163,
    "start_time": "2022-09-09T05:49:18.383Z"
   },
   {
    "duration": 11,
    "start_time": "2022-09-09T05:49:19.548Z"
   },
   {
    "duration": 12,
    "start_time": "2022-09-09T05:49:19.561Z"
   },
   {
    "duration": 7,
    "start_time": "2022-09-09T05:49:19.575Z"
   },
   {
    "duration": 8,
    "start_time": "2022-09-09T05:49:19.583Z"
   },
   {
    "duration": 141,
    "start_time": "2022-09-09T05:49:19.593Z"
   },
   {
    "duration": 1106,
    "start_time": "2022-09-09T05:49:19.736Z"
   },
   {
    "duration": 8,
    "start_time": "2022-09-09T05:49:20.843Z"
   },
   {
    "duration": 15,
    "start_time": "2022-09-09T05:49:20.852Z"
   },
   {
    "duration": 17,
    "start_time": "2022-09-09T05:49:20.869Z"
   },
   {
    "duration": 7,
    "start_time": "2022-09-09T05:49:20.888Z"
   },
   {
    "duration": 42,
    "start_time": "2022-09-09T05:49:20.896Z"
   },
   {
    "duration": 45,
    "start_time": "2022-09-09T05:49:20.940Z"
   },
   {
    "duration": 139,
    "start_time": "2022-09-09T05:49:20.987Z"
   },
   {
    "duration": 99,
    "start_time": "2022-09-09T05:49:21.128Z"
   },
   {
    "duration": 207958,
    "start_time": "2022-09-09T05:49:21.229Z"
   },
   {
    "duration": 163,
    "start_time": "2022-09-09T05:52:49.188Z"
   },
   {
    "duration": 2098,
    "start_time": "2022-09-09T05:53:34.254Z"
   },
   {
    "duration": 1522,
    "start_time": "2022-09-09T05:53:36.354Z"
   },
   {
    "duration": 59,
    "start_time": "2022-09-09T05:53:37.878Z"
   },
   {
    "duration": 14,
    "start_time": "2022-09-09T05:53:37.939Z"
   },
   {
    "duration": 5,
    "start_time": "2022-09-09T05:53:37.955Z"
   },
   {
    "duration": 14,
    "start_time": "2022-09-09T05:53:37.962Z"
   },
   {
    "duration": 1071,
    "start_time": "2022-09-09T05:53:37.978Z"
   },
   {
    "duration": 25,
    "start_time": "2022-09-09T05:53:39.051Z"
   },
   {
    "duration": 6,
    "start_time": "2022-09-09T05:53:39.077Z"
   },
   {
    "duration": 39,
    "start_time": "2022-09-09T05:53:39.087Z"
   },
   {
    "duration": 1019,
    "start_time": "2022-09-09T05:53:39.128Z"
   },
   {
    "duration": 10,
    "start_time": "2022-09-09T05:53:40.149Z"
   },
   {
    "duration": 9,
    "start_time": "2022-09-09T05:53:40.161Z"
   },
   {
    "duration": 15,
    "start_time": "2022-09-09T05:53:40.171Z"
   },
   {
    "duration": 11,
    "start_time": "2022-09-09T05:53:40.188Z"
   },
   {
    "duration": 148,
    "start_time": "2022-09-09T05:53:40.201Z"
   },
   {
    "duration": 1061,
    "start_time": "2022-09-09T05:53:40.351Z"
   },
   {
    "duration": 9,
    "start_time": "2022-09-09T05:53:41.419Z"
   },
   {
    "duration": 10,
    "start_time": "2022-09-09T05:53:41.430Z"
   },
   {
    "duration": 16,
    "start_time": "2022-09-09T05:53:41.441Z"
   },
   {
    "duration": 6,
    "start_time": "2022-09-09T05:53:41.459Z"
   },
   {
    "duration": 16,
    "start_time": "2022-09-09T05:53:41.467Z"
   },
   {
    "duration": 61,
    "start_time": "2022-09-09T05:53:41.485Z"
   },
   {
    "duration": 114,
    "start_time": "2022-09-09T05:53:41.548Z"
   },
   {
    "duration": 258,
    "start_time": "2022-09-09T05:53:41.663Z"
   },
   {
    "duration": 208388,
    "start_time": "2022-09-09T05:53:41.924Z"
   },
   {
    "duration": 190,
    "start_time": "2022-09-09T05:57:10.314Z"
   },
   {
    "duration": 115,
    "start_time": "2022-09-09T06:07:45.145Z"
   },
   {
    "duration": 114,
    "start_time": "2022-09-09T06:08:56.431Z"
   },
   {
    "duration": 113,
    "start_time": "2022-09-09T06:09:07.895Z"
   },
   {
    "duration": 144,
    "start_time": "2022-09-09T06:09:30.281Z"
   },
   {
    "duration": 172,
    "start_time": "2022-09-09T06:24:51.461Z"
   },
   {
    "duration": 155,
    "start_time": "2022-09-09T06:38:19.083Z"
   },
   {
    "duration": 191,
    "start_time": "2022-09-09T06:39:07.940Z"
   },
   {
    "duration": 48,
    "start_time": "2022-09-09T06:39:10.575Z"
   },
   {
    "duration": 141,
    "start_time": "2022-09-09T06:41:37.689Z"
   },
   {
    "duration": 80,
    "start_time": "2022-09-09T06:46:15.857Z"
   },
   {
    "duration": 222646,
    "start_time": "2022-09-09T06:46:48.763Z"
   },
   {
    "duration": 225882,
    "start_time": "2022-09-09T06:51:10.799Z"
   },
   {
    "duration": 2286,
    "start_time": "2022-09-09T07:18:11.452Z"
   },
   {
    "duration": 1552,
    "start_time": "2022-09-09T07:18:13.740Z"
   },
   {
    "duration": 64,
    "start_time": "2022-09-09T07:18:15.294Z"
   },
   {
    "duration": 13,
    "start_time": "2022-09-09T07:18:15.361Z"
   },
   {
    "duration": 11,
    "start_time": "2022-09-09T07:18:15.375Z"
   },
   {
    "duration": 18,
    "start_time": "2022-09-09T07:18:15.388Z"
   },
   {
    "duration": 1145,
    "start_time": "2022-09-09T07:18:15.408Z"
   },
   {
    "duration": 18,
    "start_time": "2022-09-09T07:18:16.555Z"
   },
   {
    "duration": 11,
    "start_time": "2022-09-09T07:18:16.575Z"
   },
   {
    "duration": 38,
    "start_time": "2022-09-09T07:18:16.590Z"
   },
   {
    "duration": 1114,
    "start_time": "2022-09-09T07:18:16.635Z"
   },
   {
    "duration": 16,
    "start_time": "2022-09-09T07:18:17.750Z"
   },
   {
    "duration": 8,
    "start_time": "2022-09-09T07:18:17.768Z"
   },
   {
    "duration": 11,
    "start_time": "2022-09-09T07:18:17.778Z"
   },
   {
    "duration": 10,
    "start_time": "2022-09-09T07:18:17.790Z"
   },
   {
    "duration": 152,
    "start_time": "2022-09-09T07:18:17.829Z"
   },
   {
    "duration": 2677,
    "start_time": "2022-09-09T07:18:17.984Z"
   },
   {
    "duration": 8,
    "start_time": "2022-09-09T07:18:20.663Z"
   },
   {
    "duration": 31,
    "start_time": "2022-09-09T07:18:20.672Z"
   },
   {
    "duration": 47,
    "start_time": "2022-09-09T07:18:20.705Z"
   },
   {
    "duration": 18,
    "start_time": "2022-09-09T07:18:20.754Z"
   },
   {
    "duration": 21,
    "start_time": "2022-09-09T07:18:20.774Z"
   },
   {
    "duration": 44,
    "start_time": "2022-09-09T07:18:20.797Z"
   },
   {
    "duration": 135,
    "start_time": "2022-09-09T07:18:20.843Z"
   },
   {
    "duration": 244,
    "start_time": "2022-09-09T07:18:20.980Z"
   },
   {
    "duration": 193255,
    "start_time": "2022-09-09T07:18:21.227Z"
   },
   {
    "duration": 196,
    "start_time": "2022-09-09T07:21:34.483Z"
   },
   {
    "duration": 146,
    "start_time": "2022-09-09T07:21:34.682Z"
   },
   {
    "duration": 193632,
    "start_time": "2022-09-09T07:21:34.833Z"
   },
   {
    "duration": 4,
    "start_time": "2022-09-09T07:45:48.135Z"
   },
   {
    "duration": 142,
    "start_time": "2022-09-09T07:45:53.401Z"
   },
   {
    "duration": 21,
    "start_time": "2022-09-09T07:46:02.638Z"
   },
   {
    "duration": 17,
    "start_time": "2022-09-09T07:46:24.789Z"
   },
   {
    "duration": 18,
    "start_time": "2022-09-09T07:46:35.085Z"
   },
   {
    "duration": 18,
    "start_time": "2022-09-09T07:46:57.264Z"
   },
   {
    "duration": 19,
    "start_time": "2022-09-09T07:47:03.237Z"
   },
   {
    "duration": 19,
    "start_time": "2022-09-09T07:47:26.835Z"
   },
   {
    "duration": 24,
    "start_time": "2022-09-09T07:48:28.118Z"
   },
   {
    "duration": 5,
    "start_time": "2022-09-09T07:48:59.659Z"
   },
   {
    "duration": 136,
    "start_time": "2022-09-09T07:49:02.116Z"
   },
   {
    "duration": 134,
    "start_time": "2022-09-09T07:49:22.409Z"
   },
   {
    "duration": 177,
    "start_time": "2022-09-09T07:53:34.751Z"
   },
   {
    "duration": 165,
    "start_time": "2022-09-09T07:53:52.767Z"
   },
   {
    "duration": 210,
    "start_time": "2022-09-09T07:54:30.823Z"
   },
   {
    "duration": 254869,
    "start_time": "2022-09-09T08:01:38.006Z"
   },
   {
    "duration": 122,
    "start_time": "2022-09-09T08:14:53.116Z"
   },
   {
    "duration": 130,
    "start_time": "2022-09-09T08:18:47.433Z"
   },
   {
    "duration": 4,
    "start_time": "2022-09-09T08:29:40.636Z"
   },
   {
    "duration": 130,
    "start_time": "2022-09-09T08:31:07.319Z"
   },
   {
    "duration": 130,
    "start_time": "2022-09-09T08:31:41.587Z"
   },
   {
    "duration": 131,
    "start_time": "2022-09-09T08:32:19.256Z"
   },
   {
    "duration": 120,
    "start_time": "2022-09-09T08:32:25.869Z"
   },
   {
    "duration": 135,
    "start_time": "2022-09-09T08:32:31.766Z"
   },
   {
    "duration": 132,
    "start_time": "2022-09-09T08:32:36.381Z"
   },
   {
    "duration": 126,
    "start_time": "2022-09-09T08:32:42.089Z"
   },
   {
    "duration": 125,
    "start_time": "2022-09-09T08:32:51.166Z"
   },
   {
    "duration": 149,
    "start_time": "2022-09-09T08:32:56.213Z"
   },
   {
    "duration": 142,
    "start_time": "2022-09-09T08:33:34.298Z"
   },
   {
    "duration": 133,
    "start_time": "2022-09-09T08:33:43.182Z"
   },
   {
    "duration": 202,
    "start_time": "2022-09-09T08:37:33.036Z"
   },
   {
    "duration": 120570,
    "start_time": "2022-09-09T08:41:50.568Z"
   },
   {
    "duration": 11,
    "start_time": "2022-09-09T08:49:39.768Z"
   },
   {
    "duration": 18,
    "start_time": "2022-09-09T08:49:45.023Z"
   },
   {
    "duration": 6,
    "start_time": "2022-09-09T08:51:24.238Z"
   },
   {
    "duration": 171,
    "start_time": "2022-09-09T08:51:31.223Z"
   },
   {
    "duration": 11,
    "start_time": "2022-09-09T08:51:55.061Z"
   },
   {
    "duration": 159,
    "start_time": "2022-09-09T08:52:01.838Z"
   },
   {
    "duration": 156,
    "start_time": "2022-09-09T08:52:23.648Z"
   },
   {
    "duration": 18,
    "start_time": "2022-09-09T08:52:46.485Z"
   },
   {
    "duration": 119466,
    "start_time": "2022-09-09T08:53:05.639Z"
   },
   {
    "duration": 2269,
    "start_time": "2022-09-09T08:55:55.696Z"
   },
   {
    "duration": 1517,
    "start_time": "2022-09-09T08:55:57.967Z"
   },
   {
    "duration": 63,
    "start_time": "2022-09-09T08:55:59.485Z"
   },
   {
    "duration": 14,
    "start_time": "2022-09-09T08:55:59.550Z"
   },
   {
    "duration": 6,
    "start_time": "2022-09-09T08:55:59.566Z"
   },
   {
    "duration": 12,
    "start_time": "2022-09-09T08:55:59.574Z"
   },
   {
    "duration": 1077,
    "start_time": "2022-09-09T08:55:59.587Z"
   },
   {
    "duration": 58,
    "start_time": "2022-09-09T08:56:00.666Z"
   },
   {
    "duration": 8,
    "start_time": "2022-09-09T08:56:00.727Z"
   },
   {
    "duration": 26,
    "start_time": "2022-09-09T08:56:00.740Z"
   },
   {
    "duration": 1086,
    "start_time": "2022-09-09T08:56:00.768Z"
   },
   {
    "duration": 11,
    "start_time": "2022-09-09T08:56:01.856Z"
   },
   {
    "duration": 35,
    "start_time": "2022-09-09T08:56:01.869Z"
   },
   {
    "duration": 50,
    "start_time": "2022-09-09T08:56:01.906Z"
   },
   {
    "duration": 55,
    "start_time": "2022-09-09T08:56:01.958Z"
   },
   {
    "duration": 194,
    "start_time": "2022-09-09T08:56:02.015Z"
   },
   {
    "duration": 1144,
    "start_time": "2022-09-09T08:56:02.211Z"
   },
   {
    "duration": 7,
    "start_time": "2022-09-09T08:56:03.357Z"
   },
   {
    "duration": 33,
    "start_time": "2022-09-09T08:56:03.365Z"
   },
   {
    "duration": 78,
    "start_time": "2022-09-09T08:56:03.400Z"
   },
   {
    "duration": 18,
    "start_time": "2022-09-09T08:56:03.481Z"
   },
   {
    "duration": 32,
    "start_time": "2022-09-09T08:56:03.501Z"
   },
   {
    "duration": 38,
    "start_time": "2022-09-09T08:56:03.539Z"
   },
   {
    "duration": 125,
    "start_time": "2022-09-09T08:56:03.579Z"
   },
   {
    "duration": 133,
    "start_time": "2022-09-09T08:56:03.706Z"
   },
   {
    "duration": 192808,
    "start_time": "2022-09-09T08:56:03.840Z"
   },
   {
    "duration": 199,
    "start_time": "2022-09-09T08:59:16.650Z"
   },
   {
    "duration": 85,
    "start_time": "2022-09-09T08:59:16.853Z"
   },
   {
    "duration": 193368,
    "start_time": "2022-09-09T08:59:16.940Z"
   },
   {
    "duration": 11,
    "start_time": "2022-09-09T09:02:30.310Z"
   },
   {
    "duration": 131,
    "start_time": "2022-09-09T09:02:30.330Z"
   },
   {
    "duration": 158,
    "start_time": "2022-09-09T09:02:30.463Z"
   },
   {
    "duration": 256774,
    "start_time": "2022-09-09T09:02:30.624Z"
   },
   {
    "duration": 139,
    "start_time": "2022-09-09T09:06:47.399Z"
   },
   {
    "duration": 5,
    "start_time": "2022-09-09T09:06:47.539Z"
   },
   {
    "duration": 139,
    "start_time": "2022-09-09T09:06:47.545Z"
   },
   {
    "duration": 135,
    "start_time": "2022-09-09T09:06:47.686Z"
   },
   {
    "duration": 115524,
    "start_time": "2022-09-09T09:06:47.823Z"
   },
   {
    "duration": 4,
    "start_time": "2022-09-09T09:08:43.349Z"
   },
   {
    "duration": 168,
    "start_time": "2022-09-09T09:08:43.354Z"
   },
   {
    "duration": 146,
    "start_time": "2022-09-09T09:09:55.333Z"
   },
   {
    "duration": 125,
    "start_time": "2022-09-09T09:33:54.218Z"
   },
   {
    "duration": 126,
    "start_time": "2022-09-09T09:34:06.769Z"
   },
   {
    "duration": 141,
    "start_time": "2022-09-09T09:34:18.296Z"
   },
   {
    "duration": 136,
    "start_time": "2022-09-09T09:34:41.335Z"
   },
   {
    "duration": 132,
    "start_time": "2022-09-09T09:34:47.501Z"
   },
   {
    "duration": 125,
    "start_time": "2022-09-09T09:35:27.360Z"
   },
   {
    "duration": 146,
    "start_time": "2022-09-09T09:35:53.251Z"
   },
   {
    "duration": 154,
    "start_time": "2022-09-09T09:36:04.624Z"
   },
   {
    "duration": 162,
    "start_time": "2022-09-09T09:36:42.731Z"
   },
   {
    "duration": 206,
    "start_time": "2022-09-09T09:37:03.894Z"
   },
   {
    "duration": 122,
    "start_time": "2022-09-09T09:37:19.313Z"
   },
   {
    "duration": 123,
    "start_time": "2022-09-09T09:37:50.795Z"
   },
   {
    "duration": 153,
    "start_time": "2022-09-09T09:38:27.591Z"
   },
   {
    "duration": 209,
    "start_time": "2022-09-09T09:38:38.909Z"
   },
   {
    "duration": 1241,
    "start_time": "2022-09-09T09:38:58.156Z"
   },
   {
    "duration": 165,
    "start_time": "2022-09-09T09:39:04.120Z"
   },
   {
    "duration": 159,
    "start_time": "2022-09-09T09:39:32.038Z"
   },
   {
    "duration": 163,
    "start_time": "2022-09-09T09:40:04.467Z"
   },
   {
    "duration": 976,
    "start_time": "2022-09-09T09:41:26.203Z"
   },
   {
    "duration": 169,
    "start_time": "2022-09-09T09:41:45.930Z"
   },
   {
    "duration": 198,
    "start_time": "2022-09-09T09:43:46.000Z"
   },
   {
    "duration": 128,
    "start_time": "2022-09-09T09:44:17.561Z"
   },
   {
    "duration": 182,
    "start_time": "2022-09-09T09:44:32.318Z"
   },
   {
    "duration": 174,
    "start_time": "2022-09-09T09:45:09.240Z"
   },
   {
    "duration": 292,
    "start_time": "2022-09-09T09:46:52.458Z"
   },
   {
    "duration": 173,
    "start_time": "2022-09-09T09:47:01.054Z"
   },
   {
    "duration": 124,
    "start_time": "2022-09-09T09:47:25.833Z"
   },
   {
    "duration": 177,
    "start_time": "2022-09-09T09:47:41.352Z"
   },
   {
    "duration": 160,
    "start_time": "2022-09-09T09:49:30.311Z"
   },
   {
    "duration": 175,
    "start_time": "2022-09-09T09:49:39.949Z"
   },
   {
    "duration": 281,
    "start_time": "2022-09-09T09:50:16.619Z"
   },
   {
    "duration": 174,
    "start_time": "2022-09-09T09:52:03.928Z"
   },
   {
    "duration": 197,
    "start_time": "2022-09-09T09:52:16.003Z"
   },
   {
    "duration": 186,
    "start_time": "2022-09-09T09:52:24.623Z"
   },
   {
    "duration": 184,
    "start_time": "2022-09-09T09:52:32.128Z"
   },
   {
    "duration": 180,
    "start_time": "2022-09-09T09:52:41.878Z"
   },
   {
    "duration": 174,
    "start_time": "2022-09-09T09:52:52.078Z"
   },
   {
    "duration": 13,
    "start_time": "2022-09-09T11:14:19.406Z"
   },
   {
    "duration": 13,
    "start_time": "2022-09-09T11:29:37.962Z"
   },
   {
    "duration": 24,
    "start_time": "2022-09-09T11:37:01.810Z"
   },
   {
    "duration": 336,
    "start_time": "2022-09-09T11:37:56.764Z"
   },
   {
    "duration": 337,
    "start_time": "2022-09-09T11:38:07.976Z"
   },
   {
    "duration": 351,
    "start_time": "2022-09-09T11:39:00.559Z"
   },
   {
    "duration": 144,
    "start_time": "2022-09-09T11:42:02.415Z"
   },
   {
    "duration": 253,
    "start_time": "2022-09-09T11:42:18.216Z"
   },
   {
    "duration": 86,
    "start_time": "2022-09-09T11:44:02.310Z"
   },
   {
    "duration": 436,
    "start_time": "2022-09-09T11:54:48.147Z"
   },
   {
    "duration": 15,
    "start_time": "2022-09-09T11:57:22.284Z"
   },
   {
    "duration": 426,
    "start_time": "2022-09-09T11:57:24.295Z"
   },
   {
    "duration": 10,
    "start_time": "2022-09-09T11:58:04.614Z"
   },
   {
    "duration": 4,
    "start_time": "2022-09-09T11:58:18.309Z"
   },
   {
    "duration": 5,
    "start_time": "2022-09-09T11:58:35.646Z"
   },
   {
    "duration": 4,
    "start_time": "2022-09-09T11:58:54.758Z"
   },
   {
    "duration": 438,
    "start_time": "2022-09-09T11:59:16.343Z"
   },
   {
    "duration": 425,
    "start_time": "2022-09-09T12:13:20.758Z"
   },
   {
    "duration": 460,
    "start_time": "2022-09-09T12:14:09.644Z"
   },
   {
    "duration": 17,
    "start_time": "2022-09-09T12:23:14.967Z"
   },
   {
    "duration": 449,
    "start_time": "2022-09-09T12:23:19.161Z"
   },
   {
    "duration": 10,
    "start_time": "2022-09-09T12:49:25.437Z"
   },
   {
    "duration": 13,
    "start_time": "2022-09-09T12:53:59.747Z"
   },
   {
    "duration": 13,
    "start_time": "2022-09-09T12:54:05.180Z"
   },
   {
    "duration": 2193,
    "start_time": "2022-09-09T12:56:19.012Z"
   },
   {
    "duration": 1547,
    "start_time": "2022-09-09T12:56:21.207Z"
   },
   {
    "duration": 62,
    "start_time": "2022-09-09T12:56:22.755Z"
   },
   {
    "duration": 13,
    "start_time": "2022-09-09T12:56:22.819Z"
   },
   {
    "duration": 5,
    "start_time": "2022-09-09T12:56:22.834Z"
   },
   {
    "duration": 11,
    "start_time": "2022-09-09T12:56:22.841Z"
   },
   {
    "duration": 1189,
    "start_time": "2022-09-09T12:56:22.853Z"
   },
   {
    "duration": 18,
    "start_time": "2022-09-09T12:56:24.044Z"
   },
   {
    "duration": 6,
    "start_time": "2022-09-09T12:56:24.064Z"
   },
   {
    "duration": 15,
    "start_time": "2022-09-09T12:56:24.074Z"
   },
   {
    "duration": 1056,
    "start_time": "2022-09-09T12:56:24.092Z"
   },
   {
    "duration": 11,
    "start_time": "2022-09-09T12:56:25.150Z"
   },
   {
    "duration": 15,
    "start_time": "2022-09-09T12:56:25.163Z"
   },
   {
    "duration": 11,
    "start_time": "2022-09-09T12:56:25.180Z"
   },
   {
    "duration": 7,
    "start_time": "2022-09-09T12:56:25.193Z"
   },
   {
    "duration": 147,
    "start_time": "2022-09-09T12:56:25.221Z"
   },
   {
    "duration": 1104,
    "start_time": "2022-09-09T12:56:25.370Z"
   },
   {
    "duration": 9,
    "start_time": "2022-09-09T12:56:26.476Z"
   },
   {
    "duration": 17,
    "start_time": "2022-09-09T12:56:26.487Z"
   },
   {
    "duration": 27,
    "start_time": "2022-09-09T12:56:26.506Z"
   },
   {
    "duration": 12,
    "start_time": "2022-09-09T12:56:26.535Z"
   },
   {
    "duration": 25,
    "start_time": "2022-09-09T12:56:26.549Z"
   },
   {
    "duration": 56,
    "start_time": "2022-09-09T12:56:26.575Z"
   },
   {
    "duration": 134,
    "start_time": "2022-09-09T12:56:26.634Z"
   },
   {
    "duration": 151,
    "start_time": "2022-09-09T12:56:26.770Z"
   },
   {
    "duration": 181938,
    "start_time": "2022-09-09T12:56:26.924Z"
   },
   {
    "duration": 256,
    "start_time": "2022-09-09T12:59:28.864Z"
   },
   {
    "duration": 101,
    "start_time": "2022-09-09T12:59:29.124Z"
   },
   {
    "duration": 182516,
    "start_time": "2022-09-09T12:59:29.228Z"
   },
   {
    "duration": 3,
    "start_time": "2022-09-09T13:02:31.746Z"
   },
   {
    "duration": 170,
    "start_time": "2022-09-09T13:02:31.751Z"
   },
   {
    "duration": 199,
    "start_time": "2022-09-09T13:02:31.923Z"
   },
   {
    "duration": 243157,
    "start_time": "2022-09-09T13:02:32.123Z"
   },
   {
    "duration": 135,
    "start_time": "2022-09-09T13:06:35.282Z"
   },
   {
    "duration": 6,
    "start_time": "2022-09-09T13:06:35.418Z"
   },
   {
    "duration": 163,
    "start_time": "2022-09-09T13:06:35.426Z"
   },
   {
    "duration": 138,
    "start_time": "2022-09-09T13:06:35.591Z"
   },
   {
    "duration": 113341,
    "start_time": "2022-09-09T13:06:35.734Z"
   },
   {
    "duration": 15,
    "start_time": "2022-09-09T13:08:29.078Z"
   },
   {
    "duration": 244,
    "start_time": "2022-09-09T13:08:29.096Z"
   },
   {
    "duration": 14,
    "start_time": "2022-09-09T13:08:29.342Z"
   },
   {
    "duration": 360,
    "start_time": "2022-09-09T13:08:29.357Z"
   },
   {
    "duration": 16,
    "start_time": "2022-09-09T13:08:29.719Z"
   },
   {
    "duration": 16,
    "start_time": "2022-09-09T13:08:29.737Z"
   },
   {
    "duration": 336,
    "start_time": "2022-09-09T13:17:27.562Z"
   },
   {
    "duration": 349,
    "start_time": "2022-09-09T13:17:47.824Z"
   },
   {
    "duration": 9,
    "start_time": "2022-09-09T13:18:01.908Z"
   },
   {
    "duration": 2178,
    "start_time": "2022-09-09T13:19:13.873Z"
   },
   {
    "duration": 1516,
    "start_time": "2022-09-09T13:19:16.054Z"
   },
   {
    "duration": 64,
    "start_time": "2022-09-09T13:19:17.572Z"
   },
   {
    "duration": 15,
    "start_time": "2022-09-09T13:19:17.638Z"
   },
   {
    "duration": 7,
    "start_time": "2022-09-09T13:19:17.656Z"
   },
   {
    "duration": 9,
    "start_time": "2022-09-09T13:19:17.665Z"
   },
   {
    "duration": 1173,
    "start_time": "2022-09-09T13:19:17.676Z"
   },
   {
    "duration": 22,
    "start_time": "2022-09-09T13:19:18.856Z"
   },
   {
    "duration": 23,
    "start_time": "2022-09-09T13:19:18.879Z"
   },
   {
    "duration": 13,
    "start_time": "2022-09-09T13:19:18.903Z"
   },
   {
    "duration": 1216,
    "start_time": "2022-09-09T13:19:18.918Z"
   },
   {
    "duration": 11,
    "start_time": "2022-09-09T13:19:20.136Z"
   },
   {
    "duration": 13,
    "start_time": "2022-09-09T13:19:20.149Z"
   },
   {
    "duration": 8,
    "start_time": "2022-09-09T13:19:20.165Z"
   },
   {
    "duration": 26,
    "start_time": "2022-09-09T13:19:20.174Z"
   },
   {
    "duration": 137,
    "start_time": "2022-09-09T13:19:20.202Z"
   },
   {
    "duration": 1102,
    "start_time": "2022-09-09T13:19:20.341Z"
   },
   {
    "duration": 8,
    "start_time": "2022-09-09T13:19:21.444Z"
   },
   {
    "duration": 17,
    "start_time": "2022-09-09T13:19:21.453Z"
   },
   {
    "duration": 20,
    "start_time": "2022-09-09T13:19:21.472Z"
   },
   {
    "duration": 5,
    "start_time": "2022-09-09T13:19:21.494Z"
   },
   {
    "duration": 33,
    "start_time": "2022-09-09T13:19:21.502Z"
   },
   {
    "duration": 43,
    "start_time": "2022-09-09T13:19:21.537Z"
   },
   {
    "duration": 130,
    "start_time": "2022-09-09T13:19:21.582Z"
   },
   {
    "duration": 119,
    "start_time": "2022-09-09T13:19:21.713Z"
   },
   {
    "duration": 187159,
    "start_time": "2022-09-09T13:19:21.837Z"
   },
   {
    "duration": 232,
    "start_time": "2022-09-09T13:22:28.998Z"
   },
   {
    "duration": 190,
    "start_time": "2022-09-09T13:22:29.232Z"
   },
   {
    "duration": 185653,
    "start_time": "2022-09-09T13:22:29.424Z"
   },
   {
    "duration": 5,
    "start_time": "2022-09-09T13:25:35.079Z"
   },
   {
    "duration": 137,
    "start_time": "2022-09-09T13:25:35.086Z"
   },
   {
    "duration": 105,
    "start_time": "2022-09-09T13:25:35.225Z"
   },
   {
    "duration": 247306,
    "start_time": "2022-09-09T13:25:35.333Z"
   },
   {
    "duration": 152,
    "start_time": "2022-09-09T13:29:42.641Z"
   },
   {
    "duration": 6,
    "start_time": "2022-09-09T13:29:42.795Z"
   },
   {
    "duration": 161,
    "start_time": "2022-09-09T13:29:42.803Z"
   },
   {
    "duration": 173,
    "start_time": "2022-09-09T13:29:42.966Z"
   },
   {
    "duration": 114402,
    "start_time": "2022-09-09T13:29:43.142Z"
   },
   {
    "duration": 12,
    "start_time": "2022-09-09T13:31:37.547Z"
   },
   {
    "duration": 215,
    "start_time": "2022-09-09T13:31:37.561Z"
   },
   {
    "duration": 3,
    "start_time": "2022-09-09T13:31:37.780Z"
   },
   {
    "duration": 339,
    "start_time": "2022-09-09T13:31:37.784Z"
   },
   {
    "duration": 11,
    "start_time": "2022-09-09T13:31:38.124Z"
   },
   {
    "duration": 17,
    "start_time": "2022-09-09T13:31:38.137Z"
   },
   {
    "duration": 11,
    "start_time": "2022-09-09T13:31:38.156Z"
   },
   {
    "duration": 695,
    "start_time": "2022-09-09T13:32:04.884Z"
   },
   {
    "duration": 20,
    "start_time": "2022-09-09T13:33:29.991Z"
   },
   {
    "duration": 329,
    "start_time": "2022-09-09T13:33:32.129Z"
   },
   {
    "duration": 852,
    "start_time": "2022-09-09T13:33:36.295Z"
   },
   {
    "duration": 11,
    "start_time": "2022-09-09T13:43:23.219Z"
   },
   {
    "duration": 212,
    "start_time": "2022-09-09T13:44:59.991Z"
   },
   {
    "duration": 219,
    "start_time": "2022-09-09T13:45:16.777Z"
   },
   {
    "duration": 220,
    "start_time": "2022-09-09T13:45:44.812Z"
   },
   {
    "duration": 259,
    "start_time": "2022-09-09T13:46:49.049Z"
   },
   {
    "duration": 2153,
    "start_time": "2022-09-09T13:47:55.015Z"
   },
   {
    "duration": 1349,
    "start_time": "2022-09-09T13:47:57.171Z"
   },
   {
    "duration": 61,
    "start_time": "2022-09-09T13:47:58.523Z"
   },
   {
    "duration": 13,
    "start_time": "2022-09-09T13:47:58.586Z"
   },
   {
    "duration": 30,
    "start_time": "2022-09-09T13:47:58.601Z"
   },
   {
    "duration": 26,
    "start_time": "2022-09-09T13:47:58.633Z"
   },
   {
    "duration": 1092,
    "start_time": "2022-09-09T13:47:58.660Z"
   },
   {
    "duration": 17,
    "start_time": "2022-09-09T13:47:59.754Z"
   },
   {
    "duration": 28,
    "start_time": "2022-09-09T13:47:59.772Z"
   },
   {
    "duration": 30,
    "start_time": "2022-09-09T13:47:59.803Z"
   },
   {
    "duration": 1012,
    "start_time": "2022-09-09T13:47:59.835Z"
   },
   {
    "duration": 12,
    "start_time": "2022-09-09T13:48:00.849Z"
   },
   {
    "duration": 20,
    "start_time": "2022-09-09T13:48:00.863Z"
   },
   {
    "duration": 24,
    "start_time": "2022-09-09T13:48:00.884Z"
   },
   {
    "duration": 22,
    "start_time": "2022-09-09T13:48:00.910Z"
   },
   {
    "duration": 151,
    "start_time": "2022-09-09T13:48:00.934Z"
   },
   {
    "duration": 1085,
    "start_time": "2022-09-09T13:48:01.087Z"
   },
   {
    "duration": 8,
    "start_time": "2022-09-09T13:48:02.174Z"
   },
   {
    "duration": 32,
    "start_time": "2022-09-09T13:48:02.184Z"
   },
   {
    "duration": 17,
    "start_time": "2022-09-09T13:48:02.218Z"
   },
   {
    "duration": 10,
    "start_time": "2022-09-09T13:48:02.237Z"
   },
   {
    "duration": 21,
    "start_time": "2022-09-09T13:48:02.249Z"
   },
   {
    "duration": 56,
    "start_time": "2022-09-09T13:48:02.272Z"
   },
   {
    "duration": 125,
    "start_time": "2022-09-09T13:48:02.330Z"
   },
   {
    "duration": 164,
    "start_time": "2022-09-09T13:48:02.458Z"
   },
   {
    "duration": 191114,
    "start_time": "2022-09-09T13:48:02.624Z"
   },
   {
    "duration": 202,
    "start_time": "2022-09-09T13:51:13.740Z"
   },
   {
    "duration": 91,
    "start_time": "2022-09-09T13:51:13.945Z"
   },
   {
    "duration": 194004,
    "start_time": "2022-09-09T13:51:14.038Z"
   },
   {
    "duration": 4,
    "start_time": "2022-09-09T13:54:28.045Z"
   },
   {
    "duration": 141,
    "start_time": "2022-09-09T13:54:28.051Z"
   },
   {
    "duration": 143,
    "start_time": "2022-09-09T13:54:28.195Z"
   },
   {
    "duration": 262952,
    "start_time": "2022-09-09T13:54:28.339Z"
   },
   {
    "duration": 149,
    "start_time": "2022-09-09T13:58:51.293Z"
   },
   {
    "duration": 5,
    "start_time": "2022-09-09T13:58:51.444Z"
   },
   {
    "duration": 166,
    "start_time": "2022-09-09T13:58:51.453Z"
   },
   {
    "duration": 117,
    "start_time": "2022-09-09T13:58:51.621Z"
   },
   {
    "duration": 118354,
    "start_time": "2022-09-09T13:58:51.740Z"
   },
   {
    "duration": 13,
    "start_time": "2022-09-09T14:00:50.096Z"
   },
   {
    "duration": 211,
    "start_time": "2022-09-09T14:00:50.120Z"
   },
   {
    "duration": 13,
    "start_time": "2022-09-09T14:00:50.338Z"
   },
   {
    "duration": 900,
    "start_time": "2022-09-09T14:00:50.352Z"
   },
   {
    "duration": 11,
    "start_time": "2022-09-09T14:00:51.254Z"
   },
   {
    "duration": 14,
    "start_time": "2022-09-09T14:00:51.267Z"
   },
   {
    "duration": 10,
    "start_time": "2022-09-09T14:00:51.283Z"
   },
   {
    "duration": 2732,
    "start_time": "2022-09-10T19:06:58.971Z"
   },
   {
    "duration": 1587,
    "start_time": "2022-09-10T19:07:04.230Z"
   },
   {
    "duration": 111,
    "start_time": "2022-09-10T19:07:08.188Z"
   },
   {
    "duration": 15,
    "start_time": "2022-09-10T19:07:11.453Z"
   },
   {
    "duration": 4,
    "start_time": "2022-09-10T19:07:15.231Z"
   },
   {
    "duration": 106,
    "start_time": "2022-09-10T19:07:34.814Z"
   },
   {
    "duration": 9,
    "start_time": "2022-09-10T19:07:45.025Z"
   },
   {
    "duration": 10,
    "start_time": "2022-09-10T19:08:31.070Z"
   },
   {
    "duration": 14,
    "start_time": "2022-09-10T19:08:37.688Z"
   },
   {
    "duration": 2134,
    "start_time": "2022-09-10T19:08:44.819Z"
   },
   {
    "duration": 4,
    "start_time": "2022-09-10T19:08:49.309Z"
   },
   {
    "duration": 57,
    "start_time": "2022-09-10T19:08:51.766Z"
   },
   {
    "duration": 12,
    "start_time": "2022-09-10T19:08:54.830Z"
   },
   {
    "duration": 7,
    "start_time": "2022-09-10T19:08:58.561Z"
   },
   {
    "duration": 5,
    "start_time": "2022-09-10T19:09:00.599Z"
   },
   {
    "duration": 2310,
    "start_time": "2022-09-10T19:09:40.591Z"
   },
   {
    "duration": 5,
    "start_time": "2022-09-10T19:09:43.512Z"
   },
   {
    "duration": 59,
    "start_time": "2022-09-10T19:09:45.586Z"
   },
   {
    "duration": 11,
    "start_time": "2022-09-10T19:09:48.372Z"
   },
   {
    "duration": 6,
    "start_time": "2022-09-10T19:09:51.931Z"
   },
   {
    "duration": 1146,
    "start_time": "2022-09-10T19:15:47.705Z"
   },
   {
    "duration": 19,
    "start_time": "2022-09-10T19:15:52.452Z"
   },
   {
    "duration": 5,
    "start_time": "2022-09-10T19:15:57.860Z"
   },
   {
    "duration": 8,
    "start_time": "2022-09-10T19:16:00.181Z"
   },
   {
    "duration": 1234,
    "start_time": "2022-09-10T19:16:03.824Z"
   },
   {
    "duration": 11,
    "start_time": "2022-09-10T19:16:09.656Z"
   },
   {
    "duration": 7,
    "start_time": "2022-09-10T19:16:11.610Z"
   },
   {
    "duration": 7,
    "start_time": "2022-09-10T19:16:15.242Z"
   },
   {
    "duration": 5,
    "start_time": "2022-09-10T19:16:17.776Z"
   },
   {
    "duration": 47,
    "start_time": "2022-09-10T19:16:22.039Z"
   },
   {
    "duration": 14,
    "start_time": "2022-09-10T19:19:07.081Z"
   },
   {
    "duration": 14,
    "start_time": "2022-09-10T19:19:35.939Z"
   },
   {
    "duration": 4,
    "start_time": "2022-09-10T19:19:50.425Z"
   },
   {
    "duration": 9,
    "start_time": "2022-09-10T19:19:59.013Z"
   },
   {
    "duration": 8,
    "start_time": "2022-09-10T19:20:01.564Z"
   },
   {
    "duration": 7,
    "start_time": "2022-09-10T19:20:04.543Z"
   },
   {
    "duration": 4,
    "start_time": "2022-09-10T19:20:06.326Z"
   },
   {
    "duration": 54,
    "start_time": "2022-09-10T19:20:08.414Z"
   },
   {
    "duration": 897,
    "start_time": "2022-09-10T19:20:11.567Z"
   },
   {
    "duration": 7,
    "start_time": "2022-09-10T19:20:16.103Z"
   },
   {
    "duration": 8,
    "start_time": "2022-09-10T19:20:24.737Z"
   },
   {
    "duration": 26,
    "start_time": "2022-09-10T19:20:27.132Z"
   },
   {
    "duration": 6,
    "start_time": "2022-09-10T19:20:37.364Z"
   },
   {
    "duration": 19,
    "start_time": "2022-09-10T19:20:44.397Z"
   },
   {
    "duration": 45,
    "start_time": "2022-09-10T19:20:47.360Z"
   },
   {
    "duration": 110,
    "start_time": "2022-09-10T19:20:53.986Z"
   },
   {
    "duration": 42,
    "start_time": "2022-09-10T19:20:59.905Z"
   },
   {
    "duration": 165244,
    "start_time": "2022-09-10T19:21:08.740Z"
   },
   {
    "duration": 3,
    "start_time": "2022-09-10T19:54:59.655Z"
   },
   {
    "duration": 15,
    "start_time": "2022-09-10T20:04:31.247Z"
   },
   {
    "duration": 4,
    "start_time": "2022-09-10T20:04:36.801Z"
   },
   {
    "duration": 32,
    "start_time": "2022-09-10T20:04:40.610Z"
   },
   {
    "duration": 85,
    "start_time": "2022-09-10T20:05:57.262Z"
   },
   {
    "duration": 5,
    "start_time": "2022-09-10T20:15:04.568Z"
   },
   {
    "duration": 170981,
    "start_time": "2022-09-10T20:15:12.544Z"
   },
   {
    "duration": 197,
    "start_time": "2022-09-10T20:19:04.567Z"
   },
   {
    "duration": 164,
    "start_time": "2022-09-10T20:19:40.476Z"
   },
   {
    "duration": 176767,
    "start_time": "2022-09-10T20:22:39.772Z"
   },
   {
    "duration": 5,
    "start_time": "2022-09-10T20:27:55.735Z"
   },
   {
    "duration": 118,
    "start_time": "2022-09-10T20:27:58.183Z"
   },
   {
    "duration": 88,
    "start_time": "2022-09-10T20:28:32.059Z"
   },
   {
    "duration": 4,
    "start_time": "2022-09-10T20:32:27.971Z"
   },
   {
    "duration": 119,
    "start_time": "2022-09-10T20:32:55.926Z"
   },
   {
    "duration": 2171,
    "start_time": "2022-09-10T20:41:55.100Z"
   },
   {
    "duration": 1454,
    "start_time": "2022-09-10T20:41:57.273Z"
   },
   {
    "duration": 59,
    "start_time": "2022-09-10T20:41:58.729Z"
   },
   {
    "duration": 11,
    "start_time": "2022-09-10T20:41:58.790Z"
   },
   {
    "duration": 7,
    "start_time": "2022-09-10T20:41:58.802Z"
   },
   {
    "duration": 1065,
    "start_time": "2022-09-10T20:41:58.810Z"
   },
   {
    "duration": 15,
    "start_time": "2022-09-10T20:41:59.877Z"
   },
   {
    "duration": 9,
    "start_time": "2022-09-10T20:41:59.893Z"
   },
   {
    "duration": 10,
    "start_time": "2022-09-10T20:41:59.903Z"
   },
   {
    "duration": 1055,
    "start_time": "2022-09-10T20:41:59.915Z"
   },
   {
    "duration": 9,
    "start_time": "2022-09-10T20:42:00.972Z"
   },
   {
    "duration": 7,
    "start_time": "2022-09-10T20:42:00.983Z"
   },
   {
    "duration": 28,
    "start_time": "2022-09-10T20:42:00.992Z"
   },
   {
    "duration": 29,
    "start_time": "2022-09-10T20:42:01.021Z"
   },
   {
    "duration": 153,
    "start_time": "2022-09-10T20:42:01.052Z"
   },
   {
    "duration": 1002,
    "start_time": "2022-09-10T20:42:01.206Z"
   },
   {
    "duration": 6,
    "start_time": "2022-09-10T20:42:02.209Z"
   },
   {
    "duration": 43,
    "start_time": "2022-09-10T20:42:02.217Z"
   },
   {
    "duration": 45,
    "start_time": "2022-09-10T20:42:02.262Z"
   },
   {
    "duration": 49,
    "start_time": "2022-09-10T20:42:02.309Z"
   },
   {
    "duration": 66,
    "start_time": "2022-09-10T20:42:02.359Z"
   },
   {
    "duration": 43,
    "start_time": "2022-09-10T20:42:02.427Z"
   },
   {
    "duration": 119,
    "start_time": "2022-09-10T20:42:02.472Z"
   },
   {
    "duration": 3,
    "start_time": "2022-09-10T20:42:02.593Z"
   },
   {
    "duration": 8,
    "start_time": "2022-09-10T20:42:02.597Z"
   },
   {
    "duration": 154,
    "start_time": "2022-09-10T20:42:02.606Z"
   },
   {
    "duration": 8,
    "start_time": "2022-09-10T20:42:02.839Z"
   },
   {
    "duration": 168623,
    "start_time": "2022-09-10T20:42:02.852Z"
   },
   {
    "duration": 166,
    "start_time": "2022-09-10T20:44:51.477Z"
   },
   {
    "duration": 123,
    "start_time": "2022-09-10T20:44:51.646Z"
   },
   {
    "duration": 0,
    "start_time": "2022-09-10T20:44:51.771Z"
   },
   {
    "duration": 0,
    "start_time": "2022-09-10T20:44:51.772Z"
   },
   {
    "duration": 0,
    "start_time": "2022-09-10T20:44:51.773Z"
   },
   {
    "duration": 0,
    "start_time": "2022-09-10T20:44:51.774Z"
   },
   {
    "duration": 0,
    "start_time": "2022-09-10T20:44:51.776Z"
   },
   {
    "duration": 0,
    "start_time": "2022-09-10T20:44:51.777Z"
   },
   {
    "duration": 0,
    "start_time": "2022-09-10T20:44:51.778Z"
   },
   {
    "duration": 0,
    "start_time": "2022-09-10T20:44:51.779Z"
   },
   {
    "duration": 0,
    "start_time": "2022-09-10T20:44:51.780Z"
   },
   {
    "duration": 0,
    "start_time": "2022-09-10T20:44:51.781Z"
   },
   {
    "duration": 0,
    "start_time": "2022-09-10T20:44:51.782Z"
   },
   {
    "duration": 0,
    "start_time": "2022-09-10T20:44:51.783Z"
   },
   {
    "duration": 0,
    "start_time": "2022-09-10T20:44:51.785Z"
   },
   {
    "duration": 0,
    "start_time": "2022-09-10T20:44:51.786Z"
   },
   {
    "duration": 0,
    "start_time": "2022-09-10T20:44:51.787Z"
   },
   {
    "duration": 0,
    "start_time": "2022-09-10T20:44:51.788Z"
   },
   {
    "duration": 0,
    "start_time": "2022-09-10T20:44:51.789Z"
   },
   {
    "duration": 147,
    "start_time": "2022-09-10T20:46:01.795Z"
   },
   {
    "duration": 169209,
    "start_time": "2022-09-10T20:46:09.969Z"
   },
   {
    "duration": 5,
    "start_time": "2022-09-10T20:49:08.322Z"
   },
   {
    "duration": 108,
    "start_time": "2022-09-10T20:49:10.138Z"
   },
   {
    "duration": 58,
    "start_time": "2022-09-10T20:49:16.293Z"
   },
   {
    "duration": 226581,
    "start_time": "2022-09-10T20:51:21.985Z"
   },
   {
    "duration": 14,
    "start_time": "2022-09-10T20:55:36.231Z"
   },
   {
    "duration": 542,
    "start_time": "2022-09-10T21:01:51.971Z"
   },
   {
    "duration": 670,
    "start_time": "2022-09-10T21:02:31.331Z"
   },
   {
    "duration": 7,
    "start_time": "2022-09-10T21:02:55.730Z"
   },
   {
    "duration": 128,
    "start_time": "2022-09-10T21:03:00.563Z"
   },
   {
    "duration": 289,
    "start_time": "2022-09-10T21:03:04.627Z"
   },
   {
    "duration": 265,
    "start_time": "2022-09-10T21:03:28.166Z"
   },
   {
    "duration": 77,
    "start_time": "2022-09-10T21:04:19.444Z"
   },
   {
    "duration": 62,
    "start_time": "2022-09-10T21:06:38.680Z"
   },
   {
    "duration": 97859,
    "start_time": "2022-09-10T21:08:03.178Z"
   },
   {
    "duration": 12,
    "start_time": "2022-09-10T21:09:58.082Z"
   },
   {
    "duration": 161,
    "start_time": "2022-09-10T21:10:04.014Z"
   },
   {
    "duration": 12,
    "start_time": "2022-09-10T21:10:13.998Z"
   },
   {
    "duration": 783,
    "start_time": "2022-09-10T21:10:26.979Z"
   },
   {
    "duration": 9,
    "start_time": "2022-09-10T21:10:34.284Z"
   },
   {
    "duration": 10,
    "start_time": "2022-09-10T21:10:36.981Z"
   },
   {
    "duration": 7,
    "start_time": "2022-09-10T21:10:39.114Z"
   },
   {
    "duration": 2128,
    "start_time": "2022-09-10T21:15:51.316Z"
   },
   {
    "duration": 1365,
    "start_time": "2022-09-10T21:15:53.448Z"
   },
   {
    "duration": 65,
    "start_time": "2022-09-10T21:15:54.814Z"
   },
   {
    "duration": 11,
    "start_time": "2022-09-10T21:15:54.881Z"
   },
   {
    "duration": 6,
    "start_time": "2022-09-10T21:15:54.894Z"
   },
   {
    "duration": 1055,
    "start_time": "2022-09-10T21:15:54.902Z"
   },
   {
    "duration": 18,
    "start_time": "2022-09-10T21:15:55.959Z"
   },
   {
    "duration": 11,
    "start_time": "2022-09-10T21:15:55.979Z"
   },
   {
    "duration": 15,
    "start_time": "2022-09-10T21:15:55.991Z"
   },
   {
    "duration": 1039,
    "start_time": "2022-09-10T21:15:56.008Z"
   },
   {
    "duration": 15,
    "start_time": "2022-09-10T21:15:57.049Z"
   },
   {
    "duration": 8,
    "start_time": "2022-09-10T21:15:57.065Z"
   },
   {
    "duration": 4,
    "start_time": "2022-09-10T21:15:57.074Z"
   },
   {
    "duration": 7,
    "start_time": "2022-09-10T21:15:57.080Z"
   },
   {
    "duration": 180,
    "start_time": "2022-09-10T21:15:57.089Z"
   },
   {
    "duration": 1021,
    "start_time": "2022-09-10T21:15:57.271Z"
   },
   {
    "duration": 6,
    "start_time": "2022-09-10T21:15:58.294Z"
   },
   {
    "duration": 7,
    "start_time": "2022-09-10T21:15:58.302Z"
   },
   {
    "duration": 27,
    "start_time": "2022-09-10T21:15:58.311Z"
   },
   {
    "duration": 5,
    "start_time": "2022-09-10T21:15:58.339Z"
   },
   {
    "duration": 25,
    "start_time": "2022-09-10T21:15:58.345Z"
   },
   {
    "duration": 33,
    "start_time": "2022-09-10T21:15:58.371Z"
   },
   {
    "duration": 135,
    "start_time": "2022-09-10T21:15:58.405Z"
   },
   {
    "duration": 3,
    "start_time": "2022-09-10T21:15:58.542Z"
   },
   {
    "duration": 28,
    "start_time": "2022-09-10T21:15:58.547Z"
   },
   {
    "duration": 70,
    "start_time": "2022-09-10T21:15:58.576Z"
   },
   {
    "duration": 92,
    "start_time": "2022-09-10T21:15:58.647Z"
   },
   {
    "duration": 158418,
    "start_time": "2022-09-10T21:15:58.743Z"
   },
   {
    "duration": 221,
    "start_time": "2022-09-10T21:18:37.164Z"
   },
   {
    "duration": 158,
    "start_time": "2022-09-10T21:18:37.387Z"
   },
   {
    "duration": 157553,
    "start_time": "2022-09-10T21:18:37.547Z"
   },
   {
    "duration": 3,
    "start_time": "2022-09-10T21:21:15.102Z"
   },
   {
    "duration": 125,
    "start_time": "2022-09-10T21:21:15.107Z"
   },
   {
    "duration": 207,
    "start_time": "2022-09-10T21:21:15.233Z"
   },
   {
    "duration": 210135,
    "start_time": "2022-09-10T21:21:15.441Z"
   },
   {
    "duration": 623,
    "start_time": "2022-09-10T21:24:45.578Z"
   },
   {
    "duration": 3,
    "start_time": "2022-09-10T21:24:46.203Z"
   },
   {
    "duration": 114,
    "start_time": "2022-09-10T21:24:46.207Z"
   },
   {
    "duration": 220,
    "start_time": "2022-09-10T21:24:46.323Z"
   },
   {
    "duration": 95818,
    "start_time": "2022-09-10T21:24:46.546Z"
   },
   {
    "duration": 10,
    "start_time": "2022-09-10T21:26:22.366Z"
   },
   {
    "duration": 165,
    "start_time": "2022-09-10T21:26:22.378Z"
   },
   {
    "duration": 11,
    "start_time": "2022-09-10T21:26:22.544Z"
   },
   {
    "duration": 850,
    "start_time": "2022-09-10T21:26:22.557Z"
   },
   {
    "duration": 10,
    "start_time": "2022-09-10T21:26:23.408Z"
   },
   {
    "duration": 21,
    "start_time": "2022-09-10T21:26:23.420Z"
   },
   {
    "duration": 12,
    "start_time": "2022-09-10T21:26:23.442Z"
   }
  ],
  "kernelspec": {
   "display_name": "Python 3 (ipykernel)",
   "language": "python",
   "name": "python3"
  },
  "language_info": {
   "codemirror_mode": {
    "name": "ipython",
    "version": 3
   },
   "file_extension": ".py",
   "mimetype": "text/x-python",
   "name": "python",
   "nbconvert_exporter": "python",
   "pygments_lexer": "ipython3",
   "version": "3.9.13"
  },
  "toc": {
   "base_numbering": 1,
   "nav_menu": {},
   "number_sections": true,
   "sideBar": true,
   "skip_h1_title": true,
   "title_cell": "Contents",
   "title_sidebar": "Contents",
   "toc_cell": true,
   "toc_position": {
    "height": "396px",
    "left": "245px",
    "top": "174.125px",
    "width": "170.391px"
   },
   "toc_section_display": true,
   "toc_window_display": true
  }
 },
 "nbformat": 4,
 "nbformat_minor": 2
}
