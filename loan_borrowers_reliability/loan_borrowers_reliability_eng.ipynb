{
 "cells": [
  {
   "cell_type": "markdown",
   "id": "566591d6",
   "metadata": {},
   "source": [
    "# Loan Borrower Reliability Study"
   ]
  },
  {
   "cell_type": "markdown",
   "id": "a90e3d75",
   "metadata": {},
   "source": [
    "## Research content\n",
    "\n",
    "1. [Purpose](#purpose)\n",
    "2. [Data overview](#data_overview)\n",
    "3. [Data preprocessing](#data_preprocessing)  \n",
    "    3.1. [Removing gaps](#removing_gaps_1)  \n",
    "    3.2. [Handling anomalous values](#abnormal_values)  \n",
    "    3.3. [Removing gaps (continued)](#removing_gaps_2)  \n",
    "    3.4. [Changing data types](#change_type)  \n",
    "    3.5. [Duplicate handling](#duplicate_handling)  \n",
    "    3.6. [Data categorization](#data_categorization)  \n",
    "4. [Exploring data and answering questions](#research)  \n",
    "    4.1. [Study of the relationship between the number of children and loan repayment on time](#children)  \n",
    "    4.2. [Study of the relationship between marital status and loan repayment on time](#family_status)  \n",
    "    4.3. [Study of the relationship between income level and loan repayment on time](#income)  \n",
    "    4.4. [Study of the influence of the purpose of the loan on the repayment of the loan on time](#loan_purpose)  \n",
    "5. [Research results](#research_results)"
   ]
  },
  {
   "cell_type": "markdown",
   "id": "f4cfe378",
   "metadata": {},
   "source": [
    "## 1. Purpose<a id='purpose'> </a>"
   ]
  },
  {
   "cell_type": "markdown",
   "id": "195c166d",
   "metadata": {},
   "source": [
    "The customer is the credit department of the bank.\n",
    "Purpose - to investigate the influence of marital status and the number of children of the client on the fact of loan repayment on time.\n",
    "Input data from the bank - statistics on the solvency of customers.\n",
    "The results of the study will be taken into account when building a credit scoring model for potential borrowers."
   ]
  },
  {
   "cell_type": "markdown",
   "id": "f4c268e1",
   "metadata": {},
   "source": [
    "## 2. Data overview <a id='data_overview'> </a>"
   ]
  },
  {
   "cell_type": "markdown",
   "id": "d5e650e9",
   "metadata": {},
   "source": [
    "Let's display the first 20 lines of data provided by the bank on the screen."
   ]
  },
  {
   "cell_type": "code",
   "execution_count": 1,
   "id": "508d4fde",
   "metadata": {},
   "outputs": [
    {
     "data": {
      "text/html": [
       "<div>\n",
       "<style scoped>\n",
       "    .dataframe tbody tr th:only-of-type {\n",
       "        vertical-align: middle;\n",
       "    }\n",
       "\n",
       "    .dataframe tbody tr th {\n",
       "        vertical-align: top;\n",
       "    }\n",
       "\n",
       "    .dataframe thead th {\n",
       "        text-align: right;\n",
       "    }\n",
       "</style>\n",
       "<table border=\"1\" class=\"dataframe\">\n",
       "  <thead>\n",
       "    <tr style=\"text-align: right;\">\n",
       "      <th></th>\n",
       "      <th>children</th>\n",
       "      <th>days_employed</th>\n",
       "      <th>dob_years</th>\n",
       "      <th>education</th>\n",
       "      <th>education_id</th>\n",
       "      <th>family_status</th>\n",
       "      <th>family_status_id</th>\n",
       "      <th>gender</th>\n",
       "      <th>income_type</th>\n",
       "      <th>debt</th>\n",
       "      <th>total_income</th>\n",
       "      <th>purpose</th>\n",
       "    </tr>\n",
       "  </thead>\n",
       "  <tbody>\n",
       "    <tr>\n",
       "      <th>0</th>\n",
       "      <td>1</td>\n",
       "      <td>-8437.673028</td>\n",
       "      <td>42</td>\n",
       "      <td>высшее</td>\n",
       "      <td>0</td>\n",
       "      <td>женат / замужем</td>\n",
       "      <td>0</td>\n",
       "      <td>F</td>\n",
       "      <td>сотрудник</td>\n",
       "      <td>0</td>\n",
       "      <td>253875.639453</td>\n",
       "      <td>покупка жилья</td>\n",
       "    </tr>\n",
       "    <tr>\n",
       "      <th>1</th>\n",
       "      <td>1</td>\n",
       "      <td>-4024.803754</td>\n",
       "      <td>36</td>\n",
       "      <td>среднее</td>\n",
       "      <td>1</td>\n",
       "      <td>женат / замужем</td>\n",
       "      <td>0</td>\n",
       "      <td>F</td>\n",
       "      <td>сотрудник</td>\n",
       "      <td>0</td>\n",
       "      <td>112080.014102</td>\n",
       "      <td>приобретение автомобиля</td>\n",
       "    </tr>\n",
       "    <tr>\n",
       "      <th>2</th>\n",
       "      <td>0</td>\n",
       "      <td>-5623.422610</td>\n",
       "      <td>33</td>\n",
       "      <td>Среднее</td>\n",
       "      <td>1</td>\n",
       "      <td>женат / замужем</td>\n",
       "      <td>0</td>\n",
       "      <td>M</td>\n",
       "      <td>сотрудник</td>\n",
       "      <td>0</td>\n",
       "      <td>145885.952297</td>\n",
       "      <td>покупка жилья</td>\n",
       "    </tr>\n",
       "    <tr>\n",
       "      <th>3</th>\n",
       "      <td>3</td>\n",
       "      <td>-4124.747207</td>\n",
       "      <td>32</td>\n",
       "      <td>среднее</td>\n",
       "      <td>1</td>\n",
       "      <td>женат / замужем</td>\n",
       "      <td>0</td>\n",
       "      <td>M</td>\n",
       "      <td>сотрудник</td>\n",
       "      <td>0</td>\n",
       "      <td>267628.550329</td>\n",
       "      <td>дополнительное образование</td>\n",
       "    </tr>\n",
       "    <tr>\n",
       "      <th>4</th>\n",
       "      <td>0</td>\n",
       "      <td>340266.072047</td>\n",
       "      <td>53</td>\n",
       "      <td>среднее</td>\n",
       "      <td>1</td>\n",
       "      <td>гражданский брак</td>\n",
       "      <td>1</td>\n",
       "      <td>F</td>\n",
       "      <td>пенсионер</td>\n",
       "      <td>0</td>\n",
       "      <td>158616.077870</td>\n",
       "      <td>сыграть свадьбу</td>\n",
       "    </tr>\n",
       "    <tr>\n",
       "      <th>5</th>\n",
       "      <td>0</td>\n",
       "      <td>-926.185831</td>\n",
       "      <td>27</td>\n",
       "      <td>высшее</td>\n",
       "      <td>0</td>\n",
       "      <td>гражданский брак</td>\n",
       "      <td>1</td>\n",
       "      <td>M</td>\n",
       "      <td>компаньон</td>\n",
       "      <td>0</td>\n",
       "      <td>255763.565419</td>\n",
       "      <td>покупка жилья</td>\n",
       "    </tr>\n",
       "    <tr>\n",
       "      <th>6</th>\n",
       "      <td>0</td>\n",
       "      <td>-2879.202052</td>\n",
       "      <td>43</td>\n",
       "      <td>высшее</td>\n",
       "      <td>0</td>\n",
       "      <td>женат / замужем</td>\n",
       "      <td>0</td>\n",
       "      <td>F</td>\n",
       "      <td>компаньон</td>\n",
       "      <td>0</td>\n",
       "      <td>240525.971920</td>\n",
       "      <td>операции с жильем</td>\n",
       "    </tr>\n",
       "    <tr>\n",
       "      <th>7</th>\n",
       "      <td>0</td>\n",
       "      <td>-152.779569</td>\n",
       "      <td>50</td>\n",
       "      <td>СРЕДНЕЕ</td>\n",
       "      <td>1</td>\n",
       "      <td>женат / замужем</td>\n",
       "      <td>0</td>\n",
       "      <td>M</td>\n",
       "      <td>сотрудник</td>\n",
       "      <td>0</td>\n",
       "      <td>135823.934197</td>\n",
       "      <td>образование</td>\n",
       "    </tr>\n",
       "    <tr>\n",
       "      <th>8</th>\n",
       "      <td>2</td>\n",
       "      <td>-6929.865299</td>\n",
       "      <td>35</td>\n",
       "      <td>ВЫСШЕЕ</td>\n",
       "      <td>0</td>\n",
       "      <td>гражданский брак</td>\n",
       "      <td>1</td>\n",
       "      <td>F</td>\n",
       "      <td>сотрудник</td>\n",
       "      <td>0</td>\n",
       "      <td>95856.832424</td>\n",
       "      <td>на проведение свадьбы</td>\n",
       "    </tr>\n",
       "    <tr>\n",
       "      <th>9</th>\n",
       "      <td>0</td>\n",
       "      <td>-2188.756445</td>\n",
       "      <td>41</td>\n",
       "      <td>среднее</td>\n",
       "      <td>1</td>\n",
       "      <td>женат / замужем</td>\n",
       "      <td>0</td>\n",
       "      <td>M</td>\n",
       "      <td>сотрудник</td>\n",
       "      <td>0</td>\n",
       "      <td>144425.938277</td>\n",
       "      <td>покупка жилья для семьи</td>\n",
       "    </tr>\n",
       "    <tr>\n",
       "      <th>10</th>\n",
       "      <td>2</td>\n",
       "      <td>-4171.483647</td>\n",
       "      <td>36</td>\n",
       "      <td>высшее</td>\n",
       "      <td>0</td>\n",
       "      <td>женат / замужем</td>\n",
       "      <td>0</td>\n",
       "      <td>M</td>\n",
       "      <td>компаньон</td>\n",
       "      <td>0</td>\n",
       "      <td>113943.491460</td>\n",
       "      <td>покупка недвижимости</td>\n",
       "    </tr>\n",
       "    <tr>\n",
       "      <th>11</th>\n",
       "      <td>0</td>\n",
       "      <td>-792.701887</td>\n",
       "      <td>40</td>\n",
       "      <td>среднее</td>\n",
       "      <td>1</td>\n",
       "      <td>женат / замужем</td>\n",
       "      <td>0</td>\n",
       "      <td>F</td>\n",
       "      <td>сотрудник</td>\n",
       "      <td>0</td>\n",
       "      <td>77069.234271</td>\n",
       "      <td>покупка коммерческой недвижимости</td>\n",
       "    </tr>\n",
       "    <tr>\n",
       "      <th>12</th>\n",
       "      <td>0</td>\n",
       "      <td>NaN</td>\n",
       "      <td>65</td>\n",
       "      <td>среднее</td>\n",
       "      <td>1</td>\n",
       "      <td>гражданский брак</td>\n",
       "      <td>1</td>\n",
       "      <td>M</td>\n",
       "      <td>пенсионер</td>\n",
       "      <td>0</td>\n",
       "      <td>NaN</td>\n",
       "      <td>сыграть свадьбу</td>\n",
       "    </tr>\n",
       "    <tr>\n",
       "      <th>13</th>\n",
       "      <td>0</td>\n",
       "      <td>-1846.641941</td>\n",
       "      <td>54</td>\n",
       "      <td>неоконченное высшее</td>\n",
       "      <td>2</td>\n",
       "      <td>женат / замужем</td>\n",
       "      <td>0</td>\n",
       "      <td>F</td>\n",
       "      <td>сотрудник</td>\n",
       "      <td>0</td>\n",
       "      <td>130458.228857</td>\n",
       "      <td>приобретение автомобиля</td>\n",
       "    </tr>\n",
       "    <tr>\n",
       "      <th>14</th>\n",
       "      <td>0</td>\n",
       "      <td>-1844.956182</td>\n",
       "      <td>56</td>\n",
       "      <td>высшее</td>\n",
       "      <td>0</td>\n",
       "      <td>гражданский брак</td>\n",
       "      <td>1</td>\n",
       "      <td>F</td>\n",
       "      <td>компаньон</td>\n",
       "      <td>1</td>\n",
       "      <td>165127.911772</td>\n",
       "      <td>покупка жилой недвижимости</td>\n",
       "    </tr>\n",
       "    <tr>\n",
       "      <th>15</th>\n",
       "      <td>1</td>\n",
       "      <td>-972.364419</td>\n",
       "      <td>26</td>\n",
       "      <td>среднее</td>\n",
       "      <td>1</td>\n",
       "      <td>женат / замужем</td>\n",
       "      <td>0</td>\n",
       "      <td>F</td>\n",
       "      <td>сотрудник</td>\n",
       "      <td>0</td>\n",
       "      <td>116820.904450</td>\n",
       "      <td>строительство собственной недвижимости</td>\n",
       "    </tr>\n",
       "    <tr>\n",
       "      <th>16</th>\n",
       "      <td>0</td>\n",
       "      <td>-1719.934226</td>\n",
       "      <td>35</td>\n",
       "      <td>среднее</td>\n",
       "      <td>1</td>\n",
       "      <td>женат / замужем</td>\n",
       "      <td>0</td>\n",
       "      <td>F</td>\n",
       "      <td>сотрудник</td>\n",
       "      <td>0</td>\n",
       "      <td>289202.704229</td>\n",
       "      <td>недвижимость</td>\n",
       "    </tr>\n",
       "    <tr>\n",
       "      <th>17</th>\n",
       "      <td>0</td>\n",
       "      <td>-2369.999720</td>\n",
       "      <td>33</td>\n",
       "      <td>высшее</td>\n",
       "      <td>0</td>\n",
       "      <td>гражданский брак</td>\n",
       "      <td>1</td>\n",
       "      <td>M</td>\n",
       "      <td>сотрудник</td>\n",
       "      <td>0</td>\n",
       "      <td>90410.586745</td>\n",
       "      <td>строительство недвижимости</td>\n",
       "    </tr>\n",
       "    <tr>\n",
       "      <th>18</th>\n",
       "      <td>0</td>\n",
       "      <td>400281.136913</td>\n",
       "      <td>53</td>\n",
       "      <td>среднее</td>\n",
       "      <td>1</td>\n",
       "      <td>вдовец / вдова</td>\n",
       "      <td>2</td>\n",
       "      <td>F</td>\n",
       "      <td>пенсионер</td>\n",
       "      <td>0</td>\n",
       "      <td>56823.777243</td>\n",
       "      <td>на покупку подержанного автомобиля</td>\n",
       "    </tr>\n",
       "    <tr>\n",
       "      <th>19</th>\n",
       "      <td>0</td>\n",
       "      <td>-10038.818549</td>\n",
       "      <td>48</td>\n",
       "      <td>СРЕДНЕЕ</td>\n",
       "      <td>1</td>\n",
       "      <td>в разводе</td>\n",
       "      <td>3</td>\n",
       "      <td>F</td>\n",
       "      <td>сотрудник</td>\n",
       "      <td>0</td>\n",
       "      <td>242831.107982</td>\n",
       "      <td>на покупку своего автомобиля</td>\n",
       "    </tr>\n",
       "  </tbody>\n",
       "</table>\n",
       "</div>"
      ],
      "text/plain": [
       "    children  days_employed  dob_years            education  education_id  \\\n",
       "0          1   -8437.673028         42               высшее             0   \n",
       "1          1   -4024.803754         36              среднее             1   \n",
       "2          0   -5623.422610         33              Среднее             1   \n",
       "3          3   -4124.747207         32              среднее             1   \n",
       "4          0  340266.072047         53              среднее             1   \n",
       "5          0    -926.185831         27               высшее             0   \n",
       "6          0   -2879.202052         43               высшее             0   \n",
       "7          0    -152.779569         50              СРЕДНЕЕ             1   \n",
       "8          2   -6929.865299         35               ВЫСШЕЕ             0   \n",
       "9          0   -2188.756445         41              среднее             1   \n",
       "10         2   -4171.483647         36               высшее             0   \n",
       "11         0    -792.701887         40              среднее             1   \n",
       "12         0            NaN         65              среднее             1   \n",
       "13         0   -1846.641941         54  неоконченное высшее             2   \n",
       "14         0   -1844.956182         56               высшее             0   \n",
       "15         1    -972.364419         26              среднее             1   \n",
       "16         0   -1719.934226         35              среднее             1   \n",
       "17         0   -2369.999720         33               высшее             0   \n",
       "18         0  400281.136913         53              среднее             1   \n",
       "19         0  -10038.818549         48              СРЕДНЕЕ             1   \n",
       "\n",
       "       family_status  family_status_id gender income_type  debt  \\\n",
       "0    женат / замужем                 0      F   сотрудник     0   \n",
       "1    женат / замужем                 0      F   сотрудник     0   \n",
       "2    женат / замужем                 0      M   сотрудник     0   \n",
       "3    женат / замужем                 0      M   сотрудник     0   \n",
       "4   гражданский брак                 1      F   пенсионер     0   \n",
       "5   гражданский брак                 1      M   компаньон     0   \n",
       "6    женат / замужем                 0      F   компаньон     0   \n",
       "7    женат / замужем                 0      M   сотрудник     0   \n",
       "8   гражданский брак                 1      F   сотрудник     0   \n",
       "9    женат / замужем                 0      M   сотрудник     0   \n",
       "10   женат / замужем                 0      M   компаньон     0   \n",
       "11   женат / замужем                 0      F   сотрудник     0   \n",
       "12  гражданский брак                 1      M   пенсионер     0   \n",
       "13   женат / замужем                 0      F   сотрудник     0   \n",
       "14  гражданский брак                 1      F   компаньон     1   \n",
       "15   женат / замужем                 0      F   сотрудник     0   \n",
       "16   женат / замужем                 0      F   сотрудник     0   \n",
       "17  гражданский брак                 1      M   сотрудник     0   \n",
       "18    вдовец / вдова                 2      F   пенсионер     0   \n",
       "19         в разводе                 3      F   сотрудник     0   \n",
       "\n",
       "     total_income                                 purpose  \n",
       "0   253875.639453                           покупка жилья  \n",
       "1   112080.014102                 приобретение автомобиля  \n",
       "2   145885.952297                           покупка жилья  \n",
       "3   267628.550329              дополнительное образование  \n",
       "4   158616.077870                         сыграть свадьбу  \n",
       "5   255763.565419                           покупка жилья  \n",
       "6   240525.971920                       операции с жильем  \n",
       "7   135823.934197                             образование  \n",
       "8    95856.832424                   на проведение свадьбы  \n",
       "9   144425.938277                 покупка жилья для семьи  \n",
       "10  113943.491460                    покупка недвижимости  \n",
       "11   77069.234271       покупка коммерческой недвижимости  \n",
       "12            NaN                         сыграть свадьбу  \n",
       "13  130458.228857                 приобретение автомобиля  \n",
       "14  165127.911772              покупка жилой недвижимости  \n",
       "15  116820.904450  строительство собственной недвижимости  \n",
       "16  289202.704229                            недвижимость  \n",
       "17   90410.586745              строительство недвижимости  \n",
       "18   56823.777243      на покупку подержанного автомобиля  \n",
       "19  242831.107982            на покупку своего автомобиля  "
      ]
     },
     "execution_count": 1,
     "metadata": {},
     "output_type": "execute_result"
    }
   ],
   "source": [
    "import pandas as pd\n",
    "data = pd.read_csv('data.csv')\n",
    "data.head(20)"
   ]
  },
  {
   "cell_type": "markdown",
   "id": "1a9ef869",
   "metadata": {},
   "source": [
    "The table contains the following data:\n",
    "* `children` - the number of children in the family\n",
    "* `days_employed` - total work experience in days\n",
    "* `dob_years` - client's age in years\n",
    "* `education` - the level of education of the client\n",
    "* `education_id` - education level identifier\n",
    "* `family_status` - marital status\n",
    "* `family_status_id` - marital status identifier\n",
    "* `gender` - the gender of the client\n",
    "* `income_type` - employment type\n",
    "* `debt` - whether he had a debt to repay loans\n",
    "* `total_income` - monthly income\n",
    "* `purpose` - the purpose of the loan"
   ]
  },
  {
   "cell_type": "markdown",
   "id": "d8692426",
   "metadata": {},
   "source": [
    "Let's display the basic information about the dataframe:"
   ]
  },
  {
   "cell_type": "code",
   "execution_count": 2,
   "id": "015c8fbc",
   "metadata": {},
   "outputs": [
    {
     "name": "stdout",
     "output_type": "stream",
     "text": [
      "<class 'pandas.core.frame.DataFrame'>\n",
      "RangeIndex: 21525 entries, 0 to 21524\n",
      "Data columns (total 12 columns):\n",
      " #   Column            Non-Null Count  Dtype  \n",
      "---  ------            --------------  -----  \n",
      " 0   children          21525 non-null  int64  \n",
      " 1   days_employed     19351 non-null  float64\n",
      " 2   dob_years         21525 non-null  int64  \n",
      " 3   education         21525 non-null  object \n",
      " 4   education_id      21525 non-null  int64  \n",
      " 5   family_status     21525 non-null  object \n",
      " 6   family_status_id  21525 non-null  int64  \n",
      " 7   gender            21525 non-null  object \n",
      " 8   income_type       21525 non-null  object \n",
      " 9   debt              21525 non-null  int64  \n",
      " 10  total_income      19351 non-null  float64\n",
      " 11  purpose           21525 non-null  object \n",
      "dtypes: float64(2), int64(5), object(5)\n",
      "memory usage: 2.0+ MB\n"
     ]
    }
   ],
   "source": [
    "data.info()"
   ]
  },
  {
   "cell_type": "markdown",
   "id": "add89bd8",
   "metadata": {},
   "source": [
    "## 3. Data preprocessing <a id='data_preprocessing'> </a>"
   ]
  },
  {
   "cell_type": "markdown",
   "id": "f399cd39",
   "metadata": {},
   "source": [
    "### 3.1.  Removing gaps<a id='removing_gaps_1'> </a>"
   ]
  },
  {
   "cell_type": "markdown",
   "id": "6446399d",
   "metadata": {},
   "source": [
    "Let's output the number of missing values for each column."
   ]
  },
  {
   "cell_type": "code",
   "execution_count": 3,
   "id": "8f5ae617",
   "metadata": {},
   "outputs": [
    {
     "data": {
      "text/plain": [
       "children               0\n",
       "days_employed       2174\n",
       "dob_years              0\n",
       "education              0\n",
       "education_id           0\n",
       "family_status          0\n",
       "family_status_id       0\n",
       "gender                 0\n",
       "income_type            0\n",
       "debt                   0\n",
       "total_income        2174\n",
       "purpose                0\n",
       "dtype: int64"
      ]
     },
     "execution_count": 3,
     "metadata": {},
     "output_type": "execute_result"
    }
   ],
   "source": [
    "data.isna().sum()"
   ]
  },
  {
   "cell_type": "markdown",
   "id": "7183c4ef",
   "metadata": {},
   "source": [
    "There are missing values in two columns. One of them is `days_employed`. There are abnormal values in this column, so we will process gaps in this column after processing abnormal values. Another column with missing values, `total_income`, stores income data. The amount of income is most affected by the type of employment, so we will fill in the gaps in this column with the median value for each type from the `income_type` column."
   ]
  },
  {
   "cell_type": "code",
   "execution_count": 4,
   "id": "18950051",
   "metadata": {},
   "outputs": [],
   "source": [
    "for t in data['income_type'].unique():\n",
    "    data.loc[(data['income_type'] == t) & (data['total_income'].isna()), 'total_income'] = \\\n",
    "    data.loc[(data['income_type'] == t), 'total_income'].median()"
   ]
  },
  {
   "cell_type": "markdown",
   "id": "a4a883f2",
   "metadata": {},
   "source": [
    "### 3.2. Handling anomalous values <a id='abnormal_values'> </a>"
   ]
  },
  {
   "cell_type": "markdown",
   "id": "1d4855f0",
   "metadata": {},
   "source": [
    "There are artifacts (anomalies) in the data of the `days_employed` column - values that do not reflect reality and appeared due to some kind of error. Such an artifact is the negative number of days of work experience in the `days_employed` column. Let's process the values in this column: replace all negative values with positive ones using the `abs()` method."
   ]
  },
  {
   "cell_type": "code",
   "execution_count": 5,
   "id": "2656f21a",
   "metadata": {},
   "outputs": [],
   "source": [
    "data['days_employed'] = data['days_employed'].abs()"
   ]
  },
  {
   "cell_type": "markdown",
   "id": "8d4fc9d1",
   "metadata": {},
   "source": [
    "For each type of employment, we will display the median value of `days_employed` work experience in days."
   ]
  },
  {
   "cell_type": "code",
   "execution_count": 6,
   "id": "3a369454",
   "metadata": {},
   "outputs": [
    {
     "data": {
      "text/plain": [
       "income_type\n",
       "безработный        366413.652744\n",
       "в декрете            3296.759962\n",
       "госслужащий          2689.368353\n",
       "компаньон            1547.382223\n",
       "пенсионер          365213.306266\n",
       "предприниматель       520.848083\n",
       "сотрудник            1574.202821\n",
       "студент               578.751554\n",
       "Name: days_employed, dtype: float64"
      ]
     },
     "execution_count": 6,
     "metadata": {},
     "output_type": "execute_result"
    }
   ],
   "source": [
    "data.groupby('income_type')['days_employed'].agg('median')"
   ]
  },
  {
   "cell_type": "markdown",
   "id": "a9101af0",
   "metadata": {},
   "source": [
    "Two types (unemployed and pensioners) get abnormally large values. Correcting such values is difficult, so we will leave them as they are. Moreover, we will not need this column for research."
   ]
  },
  {
   "cell_type": "markdown",
   "id": "939f975c",
   "metadata": {},
   "source": [
    "Let's list the unique values of the `children` column."
   ]
  },
  {
   "cell_type": "code",
   "execution_count": 7,
   "id": "87cbb3db",
   "metadata": {},
   "outputs": [
    {
     "data": {
      "text/plain": [
       "array([ 1,  0,  3,  2, -1,  4, 20,  5], dtype=int64)"
      ]
     },
     "execution_count": 7,
     "metadata": {},
     "output_type": "execute_result"
    }
   ],
   "source": [
    "data['children'].unique()"
   ]
  },
  {
   "cell_type": "markdown",
   "id": "8489c212",
   "metadata": {},
   "source": [
    "There are two anomalous values in the `children` column. Let's remove the rows that contain such anomalous values from the dataframe data."
   ]
  },
  {
   "cell_type": "code",
   "execution_count": 8,
   "id": "559050a1",
   "metadata": {},
   "outputs": [],
   "source": [
    "data = data[(data['children'] != -1) & (data['children'] != 20)]"
   ]
  },
  {
   "cell_type": "markdown",
   "id": "b9634cbe",
   "metadata": {},
   "source": [
    "List the unique values of the `children` column again to make sure the artifacts have been removed."
   ]
  },
  {
   "cell_type": "code",
   "execution_count": 9,
   "id": "ce7ce52f",
   "metadata": {},
   "outputs": [
    {
     "data": {
      "text/plain": [
       "array([1, 0, 3, 2, 4, 5], dtype=int64)"
      ]
     },
     "execution_count": 9,
     "metadata": {},
     "output_type": "execute_result"
    }
   ],
   "source": [
    "data['children'].unique()"
   ]
  },
  {
   "cell_type": "markdown",
   "id": "517f5173",
   "metadata": {},
   "source": [
    "### 3.3. Removing gaps (continued)<a id='removing_gaps_2'> </a>"
   ]
  },
  {
   "cell_type": "markdown",
   "id": "ee17793b",
   "metadata": {},
   "source": [
    "Fill in the gaps in the `days_employed` column with the median values for each `income_type` employment type."
   ]
  },
  {
   "cell_type": "code",
   "execution_count": 10,
   "id": "afa909c6",
   "metadata": {},
   "outputs": [],
   "source": [
    "for t in data['income_type'].unique():\n",
    "    data.loc[(data['income_type'] == t) & (data['days_employed'].isna()), 'days_employed'] = \\\n",
    "    data.loc[(data['income_type'] == t), 'days_employed'].median()"
   ]
  },
  {
   "cell_type": "markdown",
   "id": "4b8770a7",
   "metadata": {},
   "source": [
    "Make sure all gaps are filled. Let's check and print again the number of missing values for each column."
   ]
  },
  {
   "cell_type": "code",
   "execution_count": 11,
   "id": "b19a9b1c",
   "metadata": {},
   "outputs": [
    {
     "data": {
      "text/plain": [
       "children            0\n",
       "days_employed       0\n",
       "dob_years           0\n",
       "education           0\n",
       "education_id        0\n",
       "family_status       0\n",
       "family_status_id    0\n",
       "gender              0\n",
       "income_type         0\n",
       "debt                0\n",
       "total_income        0\n",
       "purpose             0\n",
       "dtype: int64"
      ]
     },
     "execution_count": 11,
     "metadata": {},
     "output_type": "execute_result"
    }
   ],
   "source": [
    "data.isna().sum()"
   ]
  },
  {
   "cell_type": "markdown",
   "id": "afe40768",
   "metadata": {},
   "source": [
    "### 3.4. Changing data types<a id='change_type'> </a>"
   ]
  },
  {
   "cell_type": "markdown",
   "id": "39447991",
   "metadata": {},
   "source": [
    "Let's replace the real data type in the `total_income` column with an integer one."
   ]
  },
  {
   "cell_type": "code",
   "execution_count": 12,
   "id": "b9697d71",
   "metadata": {},
   "outputs": [],
   "source": [
    "data['total_income'] = data['total_income'].astype(int)"
   ]
  },
  {
   "cell_type": "markdown",
   "id": "e772e1bd",
   "metadata": {},
   "source": [
    "### 3.5. Duplicate handling<a id='duplicate_handling'> </a>"
   ]
  },
  {
   "cell_type": "markdown",
   "id": "2398e2dc",
   "metadata": {},
   "source": [
    "Let's display the number of duplicate rows in the data. If such lines are present, delete them."
   ]
  },
  {
   "cell_type": "code",
   "execution_count": 13,
   "id": "cd96fbf2",
   "metadata": {},
   "outputs": [
    {
     "data": {
      "text/plain": [
       "54"
      ]
     },
     "execution_count": 13,
     "metadata": {},
     "output_type": "execute_result"
    }
   ],
   "source": [
    "data.duplicated().sum()"
   ]
  },
  {
   "cell_type": "code",
   "execution_count": 14,
   "id": "c67afca5",
   "metadata": {},
   "outputs": [],
   "source": [
    "data = data.drop_duplicates()"
   ]
  },
  {
   "cell_type": "markdown",
   "id": "d09d7ee0",
   "metadata": {},
   "source": [
    "Let's handle implicit duplicates in the `education` column. This column has the same values, but written differently: using uppercase and lowercase letters. Let's convert them to lower case. Let's check the rest of the columns."
   ]
  },
  {
   "cell_type": "code",
   "execution_count": 15,
   "id": "81a60d29",
   "metadata": {},
   "outputs": [],
   "source": [
    "data['education'] = data['education'].str.lower()"
   ]
  },
  {
   "cell_type": "markdown",
   "id": "f2f174a9",
   "metadata": {},
   "source": [
    "### 3.6. Data categorization<a id='data_categorization'> </a>"
   ]
  },
  {
   "cell_type": "markdown",
   "id": "da578fbd",
   "metadata": {},
   "source": [
    "Based on the ranges below, create a `total_income_category` column in the `data` dataframe with categories:\n",
    "\n",
    "- 0–30000 - `'E'`;\n",
    "- 30001–50000 - `'D'`;\n",
    "- 50001–200000 - `'C'`;\n",
    "- 200001–1000000 - `'B'`;\n",
    "- 1000001 and above - `'A'`."
   ]
  },
  {
   "cell_type": "code",
   "execution_count": 16,
   "id": "3866be7e",
   "metadata": {},
   "outputs": [],
   "source": [
    "def categorize_income(income):\n",
    "    try:\n",
    "        if 0 <= income <= 30000:\n",
    "            return 'E'\n",
    "        elif 30001 <= income <= 50000:\n",
    "            return 'D'\n",
    "        elif 50001 <= income <= 200000:\n",
    "            return 'C'\n",
    "        elif 200001 <= income <= 1000000:\n",
    "            return 'B'\n",
    "        elif income >= 1000001:\n",
    "            return 'A'\n",
    "    except:\n",
    "        pass"
   ]
  },
  {
   "cell_type": "code",
   "execution_count": 17,
   "id": "4c09468c",
   "metadata": {},
   "outputs": [],
   "source": [
    "data['total_income_category'] = data['total_income'].apply(categorize_income)"
   ]
  },
  {
   "cell_type": "markdown",
   "id": "55e11211",
   "metadata": {},
   "source": [
    "Let's display a list of unique purposes for taking a loan from the `purpose` column."
   ]
  },
  {
   "cell_type": "code",
   "execution_count": 18,
   "id": "f2d1df8f",
   "metadata": {},
   "outputs": [
    {
     "data": {
      "text/plain": [
       "array(['покупка жилья', 'приобретение автомобиля',\n",
       "       'дополнительное образование', 'сыграть свадьбу',\n",
       "       'операции с жильем', 'образование', 'на проведение свадьбы',\n",
       "       'покупка жилья для семьи', 'покупка недвижимости',\n",
       "       'покупка коммерческой недвижимости', 'покупка жилой недвижимости',\n",
       "       'строительство собственной недвижимости', 'недвижимость',\n",
       "       'строительство недвижимости', 'на покупку подержанного автомобиля',\n",
       "       'на покупку своего автомобиля',\n",
       "       'операции с коммерческой недвижимостью',\n",
       "       'строительство жилой недвижимости', 'жилье',\n",
       "       'операции со своей недвижимостью', 'автомобили',\n",
       "       'заняться образованием', 'сделка с подержанным автомобилем',\n",
       "       'получение образования', 'автомобиль', 'свадьба',\n",
       "       'получение дополнительного образования', 'покупка своего жилья',\n",
       "       'операции с недвижимостью', 'получение высшего образования',\n",
       "       'свой автомобиль', 'сделка с автомобилем',\n",
       "       'профильное образование', 'высшее образование',\n",
       "       'покупка жилья для сдачи', 'на покупку автомобиля', 'ремонт жилью',\n",
       "       'заняться высшим образованием'], dtype=object)"
      ]
     },
     "execution_count": 18,
     "metadata": {},
     "output_type": "execute_result"
    }
   ],
   "source": [
    "data['purpose'].unique()"
   ]
  },
  {
   "cell_type": "markdown",
   "id": "6ff9a5f3",
   "metadata": {},
   "source": [
    "Let's create a function that, based on the data from the `purpose` column, will form a new `purpose_category` column, which will include the following categories:\n",
    "\n",
    "- `'car operations'`,\n",
    "- `'real estate transactions'`,\n",
    "- `'conducting a wedding'`,\n",
    "- `'getting an education'`."
   ]
  },
  {
   "cell_type": "code",
   "execution_count": 19,
   "id": "40fc27fb",
   "metadata": {},
   "outputs": [],
   "source": [
    "def categorize_purpose(row):\n",
    "    try:\n",
    "        if 'автом' in row:\n",
    "            return 'операции с автомобилем'\n",
    "        elif 'жил' in row or 'недвиж' in row:\n",
    "            return 'операции с недвижимостью'\n",
    "        elif 'свад' in row:\n",
    "            return 'проведение свадьбы'\n",
    "        elif 'образов' in row:\n",
    "            return 'получение образования'\n",
    "    except:\n",
    "        return 'нет категории'"
   ]
  },
  {
   "cell_type": "code",
   "execution_count": 20,
   "id": "61cbec92",
   "metadata": {},
   "outputs": [],
   "source": [
    "data['purpose_category'] = data['purpose'].apply(categorize_purpose)"
   ]
  },
  {
   "cell_type": "markdown",
   "id": "1b3cb791",
   "metadata": {},
   "source": [
    "## 4. Exploring data and answering questions<a id='research'> </a>"
   ]
  },
  {
   "cell_type": "markdown",
   "id": "6930f1cc",
   "metadata": {},
   "source": [
    "### 4.1. Study of the relationship between the number of children and loan repayment on time<a id='children'> </a>"
   ]
  },
  {
   "cell_type": "markdown",
   "id": "a7d3331d",
   "metadata": {},
   "source": [
    "Let's build a bar graph along the `x` axis which marks categories by the number of children, and along the `y` axis - the proportion of people with loan repayment arrears for each category."
   ]
  },
  {
   "cell_type": "code",
   "execution_count": 21,
   "id": "694a200b",
   "metadata": {},
   "outputs": [
    {
     "data": {
      "text/plain": [
       "Text(0, 0.5, 'Share of people with debt')"
      ]
     },
     "execution_count": 21,
     "metadata": {},
     "output_type": "execute_result"
    },
    {
     "data": {
      "image/png": "[encoded data removed]",
      "text/plain": [
       "<Figure size 432x288 with 1 Axes>"
      ]
     },
     "metadata": {
      "needs_background": "light"
     },
     "output_type": "display_data"
    }
   ],
   "source": [
    "pivot_table_debt_by_children = data.pivot_table(index='children', values='debt', aggfunc=['mean'])\n",
    "bp_debt_by_children = pivot_table_debt_by_children[('mean', 'debt')].plot(kind='bar')\n",
    "bp_debt_by_children.set_title('The relationship between the number of children and loan repayment on time')\n",
    "bp_debt_by_children.set_xlabel('Amount of children')\n",
    "bp_debt_by_children.set_ylabel('Share of people with debt')"
   ]
  },
  {
   "cell_type": "markdown",
   "id": "216fe892",
   "metadata": {},
   "source": [
    "**Conclusion:** with an increase in the number of children, we see an increase in the number of people with loan repayment arrears, but the data for the category with 3 children is out of trend, where the percentage of debtors is less than among people with 1 and 2 children, and among people with five children and there are no people with a delay in repaying a loan. We can definitely conclude that the childless are more likely to pay on time on the loan than people with children. Since the trend towards an increase in the number of debtors with an increase in the number of children is not confirmed in two categories, it may be necessary to refine these data on a larger sample."
   ]
  },
  {
   "cell_type": "markdown",
   "id": "8dfebf19",
   "metadata": {},
   "source": [
    "### 4.2. Study of the relationship between marital status and loan repayment on time<a id='family_status'> </a>"
   ]
  },
  {
   "cell_type": "markdown",
   "id": "57beed38",
   "metadata": {},
   "source": [
    "Let's build a bar chart along the `x` axis which marks categories by marital status, and along the `y` axis - the percentage of people with loan repayment arrears for each category."
   ]
  },
  {
   "cell_type": "code",
   "execution_count": 22,
   "id": "23cd503b",
   "metadata": {},
   "outputs": [
    {
     "data": {
      "text/plain": [
       "Text(0, 0.5, 'Share of people with debt')"
      ]
     },
     "execution_count": 22,
     "metadata": {},
     "output_type": "execute_result"
    },
    {
     "data": {
      "image/png": "[encoded data removed]",
      "text/plain": [
       "<Figure size 432x288 with 1 Axes>"
      ]
     },
     "metadata": {
      "needs_background": "light"
     },
     "output_type": "display_data"
    }
   ],
   "source": [
    "data = data.replace({'family_status': {'женат / замужем': 'married', 'Не женат / не замужем': 'unmarried', 'вдовец / вдова': 'widower / widow', 'гражданский брак': 'civil marriage', 'в разводе': 'divorced'}})\n",
    "pivot_table_debt_by_family_status = data.pivot_table(index='family_status', values='debt', aggfunc=['mean']).sort_values(by=('mean', 'debt'))\n",
    "bp_debt_by_family_status = pivot_table_debt_by_family_status[('mean', 'debt')].plot(kind='bar')\n",
    "bp_debt_by_family_status.set_title('Relationship between marital status and loan repayment on time')\n",
    "bp_debt_by_family_status.set_xlabel('Marital status')\n",
    "bp_debt_by_family_status.set_ylabel('Share of people with debt')"
   ]
  },
  {
   "cell_type": "markdown",
   "id": "a4cd1f77",
   "metadata": {},
   "source": [
    "**Conclusion:** there is the following relationship between marital status and loan repayment on time:\n",
    "- people who are not officially married (not married / civil marriage), more often do not repay the loan on time\n",
    "- divorced and widowed people are more likely to pay on time than married people."
   ]
  },
  {
   "cell_type": "markdown",
   "id": "391dd1c0",
   "metadata": {},
   "source": [
    "### 4.3.  Study of the relationship between income level and loan repayment on time<a id='income'> </a>"
   ]
  },
  {
   "cell_type": "markdown",
   "id": "abe7bd77",
   "metadata": {},
   "source": [
    "Let's display a table of correspondence between the category of monthly income and the range of monthly income values."
   ]
  },
  {
   "cell_type": "code",
   "execution_count": 23,
   "id": "2b2cff20",
   "metadata": {},
   "outputs": [
    {
     "data": {
      "text/html": [
       "<div>\n",
       "<style scoped>\n",
       "    .dataframe tbody tr th:only-of-type {\n",
       "        vertical-align: middle;\n",
       "    }\n",
       "\n",
       "    .dataframe tbody tr th {\n",
       "        vertical-align: top;\n",
       "    }\n",
       "\n",
       "    .dataframe thead th {\n",
       "        text-align: right;\n",
       "    }\n",
       "</style>\n",
       "<table border=\"1\" class=\"dataframe\">\n",
       "  <thead>\n",
       "    <tr style=\"text-align: right;\">\n",
       "      <th></th>\n",
       "      <th>category</th>\n",
       "      <th>total_income</th>\n",
       "    </tr>\n",
       "  </thead>\n",
       "  <tbody>\n",
       "    <tr>\n",
       "      <th>0</th>\n",
       "      <td>A</td>\n",
       "      <td>&gt;= 1000001</td>\n",
       "    </tr>\n",
       "    <tr>\n",
       "      <th>1</th>\n",
       "      <td>B</td>\n",
       "      <td>200001–1000000</td>\n",
       "    </tr>\n",
       "    <tr>\n",
       "      <th>2</th>\n",
       "      <td>C</td>\n",
       "      <td>50001–200000</td>\n",
       "    </tr>\n",
       "    <tr>\n",
       "      <th>3</th>\n",
       "      <td>D</td>\n",
       "      <td>30001–50000</td>\n",
       "    </tr>\n",
       "    <tr>\n",
       "      <th>4</th>\n",
       "      <td>E</td>\n",
       "      <td>0–30000</td>\n",
       "    </tr>\n",
       "  </tbody>\n",
       "</table>\n",
       "</div>"
      ],
      "text/plain": [
       "  category    total_income\n",
       "0        A      >= 1000001\n",
       "1        B  200001–1000000\n",
       "2        C    50001–200000\n",
       "3        D     30001–50000\n",
       "4        E         0–30000"
      ]
     },
     "metadata": {},
     "output_type": "display_data"
    }
   ],
   "source": [
    "total_income_dict = pd.DataFrame( data=[['A', '>= 1000001'], ['B', '200001–1000000'], ['C', '50001–200000'], ['D', '30001–50000'], ['E', '0–30000']], columns=['category', 'total_income'])\n",
    "display(total_income_dict)"
   ]
  },
  {
   "cell_type": "markdown",
   "id": "159914ca",
   "metadata": {},
   "source": [
    "Let's build a bar chart along the `x` axis which marks the categories by income level, and along the `y` axis - the proportion of people with loan repayment arrears for each category."
   ]
  },
  {
   "cell_type": "code",
   "execution_count": 24,
   "id": "b73e907d",
   "metadata": {},
   "outputs": [
    {
     "data": {
      "text/plain": [
       "Text(0, 0.5, 'Share of people with debt')"
      ]
     },
     "execution_count": 24,
     "metadata": {},
     "output_type": "execute_result"
    },
    {
     "data": {
      "image/png": "[encoded data removed]",
      "text/plain": [
       "<Figure size 432x288 with 1 Axes>"
      ]
     },
     "metadata": {
      "needs_background": "light"
     },
     "output_type": "display_data"
    }
   ],
   "source": [
    "pivot_table_debt_by_total_income = data.pivot_table(index='total_income_category', values='debt', aggfunc=['mean'])\n",
    "bp_debt_by_total_income = pivot_table_debt_by_total_income[('mean', 'debt')].plot(kind='bar')\n",
    "bp_debt_by_total_income.set_title('Relationship between income level and loan repayment on time')\n",
    "bp_debt_by_total_income.set_xlabel('Income category')\n",
    "bp_debt_by_total_income.set_ylabel('Share of people with debt')"
   ]
  },
  {
   "cell_type": "markdown",
   "id": "53774e8c",
   "metadata": {},
   "source": [
    "### 4.4. Study of the influence of the purpose of the loan on the repayment of the loan on time<a id='loan_purpose'> </a>"
   ]
  },
  {
   "cell_type": "markdown",
   "id": "98d648a5",
   "metadata": {},
   "source": [
    "Let's build a bar chart along the `x` axis which marks the purpose of the loan, and along the `y` axis - the proportion of people with loan repayment arrears for each category."
   ]
  },
  {
   "cell_type": "code",
   "execution_count": 25,
   "id": "b9666476",
   "metadata": {},
   "outputs": [
    {
     "data": {
      "text/plain": [
       "Text(0, 0.5, 'Share of people with debt')"
      ]
     },
     "execution_count": 25,
     "metadata": {},
     "output_type": "execute_result"
    },
    {
     "data": {
      "image/png": "[encoded data removed]",
      "text/plain": [
       "<Figure size 432x288 with 1 Axes>"
      ]
     },
     "metadata": {
      "needs_background": "light"
     },
     "output_type": "display_data"
    }
   ],
   "source": [
    "data = data.replace({'purpose_category': {'операции с автомобилем': 'car operations', 'операции с недвижимостью': 'real estate transactions', 'проведение свадьбы': 'holding a wedding', 'получение образования': 'education'}})\n",
    "pivot_table_debt_by_purpose = data.pivot_table(index='purpose_category', values='debt', aggfunc=['mean']).sort_values(by=('mean', 'debt'))\n",
    "bp_debt_by_purpose = pivot_table_debt_by_purpose[('mean', 'debt')].plot(kind='bar')\n",
    "bp_debt_by_purpose.set_title('The relationship between the purpose of the loan and repayment of the loan on time')\n",
    "bp_debt_by_purpose.set_xlabel('Purpose of the loan')\n",
    "bp_debt_by_purpose.set_ylabel('Share of people with debt')"
   ]
  },
  {
   "cell_type": "markdown",
   "id": "2c94df16",
   "metadata": {},
   "source": [
    "**Conclusion:** Loans taken out for real estate transactions and weddings are most often paid on time, and delinquency occurs more often for loans taken out for education and car transactions."
   ]
  },
  {
   "cell_type": "markdown",
   "id": "f0d6c2c8",
   "metadata": {},
   "source": [
    "## 5. Research results<a id='research_results'> </a>"
   ]
  },
  {
   "cell_type": "markdown",
   "id": "c48acd36",
   "metadata": {},
   "source": [
    "In this paper, data from the bank on the solvency of customers were studied for the influence of the marital status and the number of children of the client on the fact of repaying the loan on time.\n",
    "\n",
    "*The number of children affects the loan repayment on time:* Childless people are less likely to have loan repayment arrears than people with children. The more children, the higher the percentage of people who are in debt. However, data for the category with 3 children is out of trend, where the percentage of debtors is less than among people with 1 and 2 children, and among people with five children there are no people with a delay in repaying the loan at all.\n",
    "*Marital status affects the repayment of the loan on time:* people who are or have been married are more likely to pay on time than people who were not officially married, and divorced and widowed people pay on time more often than people who are married. It was also found that *the level of income does not affect the repayment of the loan on time:* the high income of the client does not guarantee the absence of loan repayment arrears, the largest percentage of debtors is among people with the lowest monthly income, and people with income in the range of 30,001-50,000 rubles per month are the most reliable category of borrowers who most often repay loans on time. Most often, loans taken for real estate transactions and weddings are paid on time, and delinquency occurs more often for loans taken for education and car transactions.\n",
    "\n",
    "It is recommended to carry out work to identify the reasons for missing data on the total work experience and monthly income of the client: check the questionnaires, strengthen control over the availability of data when receiving the questionnaire, check the data transmission system. It is also recommended to re-study the effect of the number of children on loan repayment on time on a larger sample of data to refine the results."
   ]
  }
 ],
 "metadata": {
  "kernelspec": {
   "display_name": "Python 3 (ipykernel)",
   "language": "python",
   "name": "python3"
  },
  "language_info": {
   "codemirror_mode": {
    "name": "ipython",
    "version": 3
   },
   "file_extension": ".py",
   "mimetype": "text/x-python",
   "name": "python",
   "nbconvert_exporter": "python",
   "pygments_lexer": "ipython3",
   "version": "3.7.13"
  }
 },
 "nbformat": 4,
 "nbformat_minor": 5
}
