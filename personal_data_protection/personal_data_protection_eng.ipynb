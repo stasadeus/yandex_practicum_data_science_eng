{
 "cells": [
  {
   "cell_type": "markdown",
   "metadata": {},
   "source": [
    "# Protection of personal data of customers"
   ]
  },
  {
   "cell_type": "markdown",
   "metadata": {
    "toc": true
   },
   "source": [
    "<h1>Contents<span class=\"tocSkip\"></span></h1>\n",
    "<div class=\"toc\"><ul class=\"toc-item\"><li><span><a href=\"#Research-goal-and-work-plan\" data-toc-modified-id=\"Research-goal-and-work-plan-1\"><span class=\"toc-item-num\">1&nbsp;&nbsp;</span>Research goal and work plan</a></span></li><li><span><a href=\"#Loading-data\" data-toc-modified-id=\"Loading-data-2\"><span class=\"toc-item-num\">2&nbsp;&nbsp;</span>Loading data</a></span></li><li><span><a href=\"#Matrix-multiplication--\" data-toc-modified-id=\"Matrix-multiplication---3\"><span class=\"toc-item-num\">3&nbsp;&nbsp;</span>Matrix multiplication <a id=\"justification\" rel=\"nofollow\"> </a></a></span></li><li><span><a href=\"#Conversion-algorithm\" data-toc-modified-id=\"Conversion-algorithm-4\"><span class=\"toc-item-num\">4&nbsp;&nbsp;</span>Conversion algorithm</a></span></li><li><span><a href=\"#Algorithm-verification\" data-toc-modified-id=\"Algorithm-verification-5\"><span class=\"toc-item-num\">5&nbsp;&nbsp;</span>Algorithm verification</a></span><ul class=\"toc-item\"><li><span><a href=\"#Data-preparation\" data-toc-modified-id=\"Data-preparation-5.1\"><span class=\"toc-item-num\">5.1&nbsp;&nbsp;</span>Data preparation</a></span></li><li><span><a href=\"#Features-Encryption\" data-toc-modified-id=\"Features-Encryption-5.2\"><span class=\"toc-item-num\">5.2&nbsp;&nbsp;</span>Features Encryption</a></span></li><li><span><a href=\"#Feature-scaling\" data-toc-modified-id=\"Feature-scaling-5.3\"><span class=\"toc-item-num\">5.3&nbsp;&nbsp;</span>Feature scaling</a></span></li><li><span><a href=\"#Linear-regression-for-data-before-transformation\" data-toc-modified-id=\"Linear-regression-for-data-before-transformation-5.4\"><span class=\"toc-item-num\">5.4&nbsp;&nbsp;</span>Linear regression for data before transformation</a></span></li><li><span><a href=\"#Linear-regression-for-data-after-transformation\" data-toc-modified-id=\"Linear-regression-for-data-after-transformation-5.5\"><span class=\"toc-item-num\">5.5&nbsp;&nbsp;</span>Linear regression for data after transformation</a></span></li><li><span><a href=\"#Conclusion\" data-toc-modified-id=\"Conclusion-5.6\"><span class=\"toc-item-num\">5.6&nbsp;&nbsp;</span>Conclusion</a></span></li></ul></li><li><span><a href=\"#Results-of-the-study-and-general-conclusion\" data-toc-modified-id=\"Results-of-the-study-and-general-conclusion-6\"><span class=\"toc-item-num\">6&nbsp;&nbsp;</span>Results of the study and general conclusion</a></span></li></ul></div>"
   ]
  },
  {
   "cell_type": "markdown",
   "metadata": {},
   "source": [
    "## Research goal and work plan"
   ]
  },
  {
   "cell_type": "markdown",
   "metadata": {},
   "source": [
    "**Task**  \n",
    "\n",
    "It is necessary to protect the data of the clients of the insurance company. Develop a data transformation method that makes it difficult to recover personal information from it. Justify the correctness of his work.  \n",
    "\n",
    "You need to protect the data so that the quality of the machine learning models does not deteriorate during the transformation. There is no need to select the best model. \n",
    "\n",
    "**Data description**  \n",
    "\n",
    "*Features:* gender, age and salary of the insured, the number of members of his family.  \n",
    "*Target feature:* the number of insurance payments to the client over the past 5 years.\n",
    "\n",
    "**Research plan**\n",
    "1. Download and explore data.  \n",
    "2. Answer the question and justify the decision.  \n",
    "The features are multiplied by an invertible matrix. Will the quality of linear regression change? (It can be retrained.)  \n",
    "a. Will change. Give examples of matrices.  \n",
    "b. Will not change. Specify how the linear regression parameters are related in the original problem and in the transformed one.  \n",
    "3. Suggest a data transformation algorithm for solving the problem. Justify why the quality of the linear regression will not change.  \n",
    "4. Program this algorithm by applying matrix operations. Check that the quality of the linear regression from sklearn is not different before and after the transformation. Apply the R2 metric."
   ]
  },
  {
   "cell_type": "markdown",
   "metadata": {},
   "source": [
    "## Loading data"
   ]
  },
  {
   "cell_type": "markdown",
   "metadata": {},
   "source": [
    "We import the necessary libraries for the study."
   ]
  },
  {
   "cell_type": "code",
   "execution_count": 1,
   "metadata": {},
   "outputs": [],
   "source": [
    "import numpy as np\n",
    "import pandas as pd\n",
    "import seaborn as sns\n",
    "import matplotlib.pyplot as plt\n",
    "from sklearn.model_selection import train_test_split\n",
    "from sklearn.preprocessing import StandardScaler\n",
    "from sklearn.linear_model import LinearRegression\n",
    "from sklearn.metrics import r2_score"
   ]
  },
  {
   "cell_type": "markdown",
   "metadata": {},
   "source": [
    "Let's download and examine the data."
   ]
  },
  {
   "cell_type": "code",
   "execution_count": 2,
   "metadata": {
    "scrolled": true
   },
   "outputs": [
    {
     "data": {
      "text/html": [
       "<div>\n",
       "<style scoped>\n",
       "    .dataframe tbody tr th:only-of-type {\n",
       "        vertical-align: middle;\n",
       "    }\n",
       "\n",
       "    .dataframe tbody tr th {\n",
       "        vertical-align: top;\n",
       "    }\n",
       "\n",
       "    .dataframe thead th {\n",
       "        text-align: right;\n",
       "    }\n",
       "</style>\n",
       "<table border=\"1\" class=\"dataframe\">\n",
       "  <thead>\n",
       "    <tr style=\"text-align: right;\">\n",
       "      <th></th>\n",
       "      <th>Пол</th>\n",
       "      <th>Возраст</th>\n",
       "      <th>Зарплата</th>\n",
       "      <th>Члены семьи</th>\n",
       "      <th>Страховые выплаты</th>\n",
       "    </tr>\n",
       "  </thead>\n",
       "  <tbody>\n",
       "    <tr>\n",
       "      <th>0</th>\n",
       "      <td>1</td>\n",
       "      <td>41.0</td>\n",
       "      <td>49600.0</td>\n",
       "      <td>1</td>\n",
       "      <td>0</td>\n",
       "    </tr>\n",
       "    <tr>\n",
       "      <th>1</th>\n",
       "      <td>0</td>\n",
       "      <td>46.0</td>\n",
       "      <td>38000.0</td>\n",
       "      <td>1</td>\n",
       "      <td>1</td>\n",
       "    </tr>\n",
       "    <tr>\n",
       "      <th>2</th>\n",
       "      <td>0</td>\n",
       "      <td>29.0</td>\n",
       "      <td>21000.0</td>\n",
       "      <td>0</td>\n",
       "      <td>0</td>\n",
       "    </tr>\n",
       "    <tr>\n",
       "      <th>3</th>\n",
       "      <td>0</td>\n",
       "      <td>21.0</td>\n",
       "      <td>41700.0</td>\n",
       "      <td>2</td>\n",
       "      <td>0</td>\n",
       "    </tr>\n",
       "    <tr>\n",
       "      <th>4</th>\n",
       "      <td>1</td>\n",
       "      <td>28.0</td>\n",
       "      <td>26100.0</td>\n",
       "      <td>0</td>\n",
       "      <td>0</td>\n",
       "    </tr>\n",
       "  </tbody>\n",
       "</table>\n",
       "</div>"
      ],
      "text/plain": [
       "   Пол  Возраст  Зарплата  Члены семьи  Страховые выплаты\n",
       "0    1     41.0   49600.0            1                  0\n",
       "1    0     46.0   38000.0            1                  1\n",
       "2    0     29.0   21000.0            0                  0\n",
       "3    0     21.0   41700.0            2                  0\n",
       "4    1     28.0   26100.0            0                  0"
      ]
     },
     "execution_count": 2,
     "metadata": {},
     "output_type": "execute_result"
    }
   ],
   "source": [
    "df = pd.read_csv('insurance.csv')\n",
    "df.head()"
   ]
  },
  {
   "cell_type": "markdown",
   "metadata": {},
   "source": [
    "Feature names are incorrect. Let's change the names of the features."
   ]
  },
  {
   "cell_type": "code",
   "execution_count": 3,
   "metadata": {},
   "outputs": [
    {
     "data": {
      "text/html": [
       "<div>\n",
       "<style scoped>\n",
       "    .dataframe tbody tr th:only-of-type {\n",
       "        vertical-align: middle;\n",
       "    }\n",
       "\n",
       "    .dataframe tbody tr th {\n",
       "        vertical-align: top;\n",
       "    }\n",
       "\n",
       "    .dataframe thead th {\n",
       "        text-align: right;\n",
       "    }\n",
       "</style>\n",
       "<table border=\"1\" class=\"dataframe\">\n",
       "  <thead>\n",
       "    <tr style=\"text-align: right;\">\n",
       "      <th></th>\n",
       "      <th>gender</th>\n",
       "      <th>age</th>\n",
       "      <th>salary</th>\n",
       "      <th>family_members</th>\n",
       "      <th>insurance_pays</th>\n",
       "    </tr>\n",
       "  </thead>\n",
       "  <tbody>\n",
       "    <tr>\n",
       "      <th>0</th>\n",
       "      <td>1</td>\n",
       "      <td>41.0</td>\n",
       "      <td>49600.0</td>\n",
       "      <td>1</td>\n",
       "      <td>0</td>\n",
       "    </tr>\n",
       "    <tr>\n",
       "      <th>1</th>\n",
       "      <td>0</td>\n",
       "      <td>46.0</td>\n",
       "      <td>38000.0</td>\n",
       "      <td>1</td>\n",
       "      <td>1</td>\n",
       "    </tr>\n",
       "    <tr>\n",
       "      <th>2</th>\n",
       "      <td>0</td>\n",
       "      <td>29.0</td>\n",
       "      <td>21000.0</td>\n",
       "      <td>0</td>\n",
       "      <td>0</td>\n",
       "    </tr>\n",
       "    <tr>\n",
       "      <th>3</th>\n",
       "      <td>0</td>\n",
       "      <td>21.0</td>\n",
       "      <td>41700.0</td>\n",
       "      <td>2</td>\n",
       "      <td>0</td>\n",
       "    </tr>\n",
       "    <tr>\n",
       "      <th>4</th>\n",
       "      <td>1</td>\n",
       "      <td>28.0</td>\n",
       "      <td>26100.0</td>\n",
       "      <td>0</td>\n",
       "      <td>0</td>\n",
       "    </tr>\n",
       "  </tbody>\n",
       "</table>\n",
       "</div>"
      ],
      "text/plain": [
       "   gender   age   salary  family_members  insurance_pays\n",
       "0       1  41.0  49600.0               1               0\n",
       "1       0  46.0  38000.0               1               1\n",
       "2       0  29.0  21000.0               0               0\n",
       "3       0  21.0  41700.0               2               0\n",
       "4       1  28.0  26100.0               0               0"
      ]
     },
     "execution_count": 3,
     "metadata": {},
     "output_type": "execute_result"
    }
   ],
   "source": [
    "df.columns = ['gender', 'age', 'salary', 'family_members', 'insurance_pays']\n",
    "df.head()"
   ]
  },
  {
   "cell_type": "code",
   "execution_count": 4,
   "metadata": {
    "scrolled": true
   },
   "outputs": [
    {
     "data": {
      "text/plain": [
       "(5000, 5)"
      ]
     },
     "execution_count": 4,
     "metadata": {},
     "output_type": "execute_result"
    }
   ],
   "source": [
    "df.shape"
   ]
  },
  {
   "cell_type": "code",
   "execution_count": 5,
   "metadata": {},
   "outputs": [
    {
     "name": "stdout",
     "output_type": "stream",
     "text": [
      "<class 'pandas.core.frame.DataFrame'>\n",
      "RangeIndex: 5000 entries, 0 to 4999\n",
      "Data columns (total 5 columns):\n",
      " #   Column          Non-Null Count  Dtype  \n",
      "---  ------          --------------  -----  \n",
      " 0   gender          5000 non-null   int64  \n",
      " 1   age             5000 non-null   float64\n",
      " 2   salary          5000 non-null   float64\n",
      " 3   family_members  5000 non-null   int64  \n",
      " 4   insurance_pays  5000 non-null   int64  \n",
      "dtypes: float64(2), int64(3)\n",
      "memory usage: 195.4 KB\n"
     ]
    }
   ],
   "source": [
    "df.info()"
   ]
  },
  {
   "cell_type": "markdown",
   "metadata": {},
   "source": [
    "In the `age` and `salary` columns, the float data type can be replaced with int. Make sure all values in the `salary` column are integers."
   ]
  },
  {
   "cell_type": "code",
   "execution_count": 6,
   "metadata": {},
   "outputs": [
    {
     "data": {
      "text/plain": [
       "80      32700.0\n",
       "159     64900.0\n",
       "313     32700.0\n",
       "392     32700.0\n",
       "448     32700.0\n",
       "772     65100.0\n",
       "820     32200.0\n",
       "872     32200.0\n",
       "911     32200.0\n",
       "963     64100.0\n",
       "1020    32700.0\n",
       "1078    32200.0\n",
       "1336    32700.0\n",
       "1485    32700.0\n",
       "1486    32200.0\n",
       "1847    32700.0\n",
       "1981    32200.0\n",
       "2191    32200.0\n",
       "2287    32200.0\n",
       "2342    32700.0\n",
       "2385    32700.0\n",
       "2439    32200.0\n",
       "2443    32700.0\n",
       "2805    32700.0\n",
       "2994    32200.0\n",
       "3063    64400.0\n",
       "3139    32200.0\n",
       "3352    32200.0\n",
       "3466    32700.0\n",
       "3499    65100.0\n",
       "3614    32700.0\n",
       "3717    32700.0\n",
       "3788    32700.0\n",
       "3824    32700.0\n",
       "3938    32200.0\n",
       "4182    32200.0\n",
       "4520    32700.0\n",
       "4833    32200.0\n",
       "4935    32700.0\n",
       "4998    32700.0\n",
       "Name: salary, dtype: float64"
      ]
     },
     "execution_count": 6,
     "metadata": {},
     "output_type": "execute_result"
    }
   ],
   "source": [
    "# find the remainder of division by 1 for the entire column\n",
    "fractional_salary = df['salary'] % 1.0\n",
    "\n",
    "# if the remainder is not equal to 0, then the number has a fractional part. Let's display these numbers on the screen.\n",
    "df['salary'].loc[fractional_salary[fractional_salary != 0].index] #"
   ]
  },
  {
   "cell_type": "markdown",
   "metadata": {},
   "source": [
    "We see that numbers where the remainder of division by 1 is not equal to zero are also integers !!! This means that the remainder is a very small number that tends to zero due to the peculiarities of storing numbers in float format. Let's convert the data types in the dataframe columns to optimize resource costs."
   ]
  },
  {
   "cell_type": "code",
   "execution_count": 7,
   "metadata": {},
   "outputs": [
    {
     "name": "stdout",
     "output_type": "stream",
     "text": [
      "<class 'pandas.core.frame.DataFrame'>\n",
      "RangeIndex: 5000 entries, 0 to 4999\n",
      "Data columns (total 5 columns):\n",
      " #   Column          Non-Null Count  Dtype\n",
      "---  ------          --------------  -----\n",
      " 0   gender          5000 non-null   int64\n",
      " 1   age             5000 non-null   int32\n",
      " 2   salary          5000 non-null   int32\n",
      " 3   family_members  5000 non-null   int64\n",
      " 4   insurance_pays  5000 non-null   int64\n",
      "dtypes: int32(2), int64(3)\n",
      "memory usage: 156.4 KB\n"
     ]
    }
   ],
   "source": [
    "df[['age', 'salary']] = df[['age', 'salary']].astype(int)\n",
    "df.info()"
   ]
  },
  {
   "cell_type": "code",
   "execution_count": 8,
   "metadata": {},
   "outputs": [
    {
     "data": {
      "text/html": [
       "<div>\n",
       "<style scoped>\n",
       "    .dataframe tbody tr th:only-of-type {\n",
       "        vertical-align: middle;\n",
       "    }\n",
       "\n",
       "    .dataframe tbody tr th {\n",
       "        vertical-align: top;\n",
       "    }\n",
       "\n",
       "    .dataframe thead th {\n",
       "        text-align: right;\n",
       "    }\n",
       "</style>\n",
       "<table border=\"1\" class=\"dataframe\">\n",
       "  <thead>\n",
       "    <tr style=\"text-align: right;\">\n",
       "      <th></th>\n",
       "      <th>gender</th>\n",
       "      <th>age</th>\n",
       "      <th>salary</th>\n",
       "      <th>family_members</th>\n",
       "      <th>insurance_pays</th>\n",
       "    </tr>\n",
       "  </thead>\n",
       "  <tbody>\n",
       "    <tr>\n",
       "      <th>count</th>\n",
       "      <td>5000.000000</td>\n",
       "      <td>5000.000000</td>\n",
       "      <td>5000.000000</td>\n",
       "      <td>5000.000000</td>\n",
       "      <td>5000.000000</td>\n",
       "    </tr>\n",
       "    <tr>\n",
       "      <th>mean</th>\n",
       "      <td>0.499000</td>\n",
       "      <td>30.952800</td>\n",
       "      <td>39916.359400</td>\n",
       "      <td>1.194200</td>\n",
       "      <td>0.148000</td>\n",
       "    </tr>\n",
       "    <tr>\n",
       "      <th>std</th>\n",
       "      <td>0.500049</td>\n",
       "      <td>8.440807</td>\n",
       "      <td>9900.082063</td>\n",
       "      <td>1.091387</td>\n",
       "      <td>0.463183</td>\n",
       "    </tr>\n",
       "    <tr>\n",
       "      <th>min</th>\n",
       "      <td>0.000000</td>\n",
       "      <td>18.000000</td>\n",
       "      <td>5300.000000</td>\n",
       "      <td>0.000000</td>\n",
       "      <td>0.000000</td>\n",
       "    </tr>\n",
       "    <tr>\n",
       "      <th>25%</th>\n",
       "      <td>0.000000</td>\n",
       "      <td>24.000000</td>\n",
       "      <td>33300.000000</td>\n",
       "      <td>0.000000</td>\n",
       "      <td>0.000000</td>\n",
       "    </tr>\n",
       "    <tr>\n",
       "      <th>50%</th>\n",
       "      <td>0.000000</td>\n",
       "      <td>30.000000</td>\n",
       "      <td>40200.000000</td>\n",
       "      <td>1.000000</td>\n",
       "      <td>0.000000</td>\n",
       "    </tr>\n",
       "    <tr>\n",
       "      <th>75%</th>\n",
       "      <td>1.000000</td>\n",
       "      <td>37.000000</td>\n",
       "      <td>46600.000000</td>\n",
       "      <td>2.000000</td>\n",
       "      <td>0.000000</td>\n",
       "    </tr>\n",
       "    <tr>\n",
       "      <th>max</th>\n",
       "      <td>1.000000</td>\n",
       "      <td>65.000000</td>\n",
       "      <td>79000.000000</td>\n",
       "      <td>6.000000</td>\n",
       "      <td>5.000000</td>\n",
       "    </tr>\n",
       "  </tbody>\n",
       "</table>\n",
       "</div>"
      ],
      "text/plain": [
       "            gender          age        salary  family_members  insurance_pays\n",
       "count  5000.000000  5000.000000   5000.000000     5000.000000     5000.000000\n",
       "mean      0.499000    30.952800  39916.359400        1.194200        0.148000\n",
       "std       0.500049     8.440807   9900.082063        1.091387        0.463183\n",
       "min       0.000000    18.000000   5300.000000        0.000000        0.000000\n",
       "25%       0.000000    24.000000  33300.000000        0.000000        0.000000\n",
       "50%       0.000000    30.000000  40200.000000        1.000000        0.000000\n",
       "75%       1.000000    37.000000  46600.000000        2.000000        0.000000\n",
       "max       1.000000    65.000000  79000.000000        6.000000        5.000000"
      ]
     },
     "execution_count": 8,
     "metadata": {},
     "output_type": "execute_result"
    }
   ],
   "source": [
    "df.describe()"
   ]
  },
  {
   "cell_type": "markdown",
   "metadata": {},
   "source": [
    "We examine the sample for multicollinearity of features. Let's build a feature correlation matrix."
   ]
  },
  {
   "cell_type": "code",
   "execution_count": 9,
   "metadata": {
    "scrolled": false
   },
   "outputs": [
    {
     "data": {
      "image/png": "[encoded data removed]",
      "text/plain": [
       "<Figure size 1000x1000 with 2 Axes>"
      ]
     },
     "metadata": {},
     "output_type": "display_data"
    }
   ],
   "source": [
    "df_corr = df.corr()\n",
    "mask = np.zeros_like(df_corr)\n",
    "mask[np.triu_indices_from(mask)] = True\n",
    "with sns.axes_style(\"white\"):\n",
    "    f, ax = plt.subplots(figsize=(10, 10))\n",
    "    plt.suptitle('Feature correlation matrix', fontsize=15);\n",
    "    ax = sns.heatmap(df_corr, mask=mask, square=True, annot=True, linewidths=3, linecolor='white')"
   ]
  },
  {
   "cell_type": "code",
   "execution_count": 10,
   "metadata": {
    "scrolled": false
   },
   "outputs": [
    {
     "data": {
      "image/png": "[encoded data removed]",
      "text/plain": [
       "<Figure size 1250x1250 with 30 Axes>"
      ]
     },
     "metadata": {},
     "output_type": "display_data"
    }
   ],
   "source": [
    "sns.set_style('darkgrid')\n",
    "sns.pairplot(df, height=2.5, diag_kind='hist')\n",
    "plt.suptitle('Scatterplots for all dataframe parameters', y=1.02, fontsize=15)\n",
    "plt.show()"
   ]
  },
  {
   "cell_type": "markdown",
   "metadata": {},
   "source": [
    "The features age and insurance_pays have a weak linear positive relationship, Pearson's correlation coefficient is 0.65, but the relationship between the feature and the target feature is valid. It is logical that with increasing age, the number of payments also increases. There is no relationship between other features. There is no multicollinearity."
   ]
  },
  {
   "cell_type": "markdown",
   "metadata": {},
   "source": [
    "**Conclusion:** \n",
    "1) in the table, the names of features were corrected from Cyrillic to Latin, \"snake\" format;  \n",
    "2) there are 5000 rows and 5 columns in the sample;  \n",
    "3) there are no gaps in the data, gap processing is not required;  \n",
    "4) the data types in the `age` and `salary` columns were converted from *flaot* to *int*;  \n",
    "5) columns with numeric data `age`, `salary`, `family_members` and `insurance_pays` do not have outliers, processing of abnormal values is not required;  \n",
    "6) the dataframe was checked for feature multicollinearity - there is no multicollinearity."
   ]
  },
  {
   "cell_type": "markdown",
   "metadata": {},
   "source": [
    "## Matrix multiplication <a id='justification'> </a>"
   ]
  },
  {
   "cell_type": "markdown",
   "metadata": {},
   "source": [
    "Designations:\n",
    "\n",
    "- $X$ - feature matrix (zero column consists of ones)\n",
    "\n",
    "- $y$ — target feature vector\n",
    "\n",
    "- $P$ — the matrix by which features are multiplied\n",
    "\n",
    "- $w$ — vector of linear regression weights (zero element equals shift)"
   ]
  },
  {
   "cell_type": "markdown",
   "metadata": {},
   "source": [
    "Predictions:\n",
    "\n",
    "$$\n",
    "a = Xw\n",
    "$$\n",
    "\n",
    "Learning objective:\n",
    "\n",
    "$$\n",
    "w = \\arg\\min_w MSE(Xw, y)\n",
    "$$\n",
    "\n",
    "Learning formula:\n",
    "\n",
    "$$\n",
    "w = (X^T X)^{-1} X^T y\n",
    "$$"
   ]
  },
  {
   "cell_type": "markdown",
   "metadata": {},
   "source": [
    "**Question:** Features are multiplied by an invertible matrix. Will the quality of linear regression change?\n",
    "\n",
    "**Answer:** b. Will not change.\n",
    "\n",
    "**Rationale:**\n",
    "Let's find how the linear regression parameters are related in the original problem and in the transformed one.\n",
    "\n",
    "Let $A$ be an invertible matrix and $w_{A}$ be the linear regression parameter for the transformed matrix.\n",
    "Let us write the formula for the linear regression parameter for $X$ multiplied by the invertible matrix $A$.\n",
    "\n",
    "$$\n",
    "w_{A} = ((XA)^TXA)^{-1}(XA)^Ty\n",
    "$$\n",
    "\n",
    "We transform the right side of the formula using the properties of the matrix transposition operation and the inverse matrix, and remembering that the inverse matrix can only be square:\n",
    "\n",
    "$$\n",
    "(AB)^T = B^TA^T\n",
    "$$\n",
    "\n",
    "$$\n",
    "(ABC)^{-1} = C^{-1}B^{-1}A^{-1}\n",
    "$$\n",
    "\n",
    "$$\n",
    "w_{A} = ((XA)^TXA)^{-1}(XA)^Ty = (A^{T}(X^{T}X)A)^{-1}A^{T}X ^{T}y = A^{-1}(X^{T}X)^{-1}(A^{T})^{-1}A^{T}X^{T}y = A ^{-1}(X^TX)^{-1}X^Ty\n",
    "$$\n",
    "\n",
    "\n",
    "Thus, the linear regression parameters for the original feature matrix and multiplied by the reversible matrix have the following relationship:\n",
    "\n",
    "$$\n",
    "w_{A} = A^{-1}(X^TX)^{-1}X^Ty = A^{-1}w\n",
    "$$\n",
    "\n",
    "Let's write the prediction formula for the transformed matrix:\n",
    "\n",
    "$$\n",
    "a_{A} = XAw_{A} = XAA^{-1}w = Xw = a\n",
    "$$\n",
    "\n",
    "The quality of linear regression will not change, since the prediction vector for the original feature matrix and multiplied by the reversible matrix is ​​the same vector."
   ]
  },
  {
   "cell_type": "markdown",
   "metadata": {},
   "source": [
    "## Conversion algorithm"
   ]
  },
  {
   "cell_type": "markdown",
   "metadata": {},
   "source": [
    "**Algorithm for data protection**\n",
    "\n",
    "1) randomly generate in a loop an invertible matrix ${A}$ of dimension n x n, where n is the number of features, until its determinant becomes nonzero, which means we have found an invertible matrix and the loop is interrupted;  \n",
    "2) we multiply the feature matrix by the ${A}$ matrix and get the transformed feature matrix $X_{A}$;  \n",
    "3) we scale features $X_{A}$;  \n",
    "4) we train the model on the transformed features and get predictions."
   ]
  },
  {
   "cell_type": "markdown",
   "metadata": {},
   "source": [
    "**Rationale**\n",
    "\n",
    "As it was already proved in [item 3](#justification), the quality of linear regression will not change, since the prediction vector for the original feature matrix and multiplied by the invertible matrix is the same vector. When multiplying the feature matrix X with dimensions $ (m\\times 4) $ by the invertible matrix A with dimensions $(4\\times 4)$, we get a new matrix, the elements of which are obtained as follows:  \n",
    "$$\n",
    "\\dot{X_{11}} = X_{11} \\times A_{11} + X_{12} \\times A_{21} + X_{13} \\times A_{31} + X_{14} \\times A_{ 41}\n",
    "$$\n",
    "$$\n",
    "\\dot{X_{m4}} = X_{m1} \\times A_{14} + X_{m2} \\times A_{24} + X_{m3} \\times A_{34} + X_{m4} \\times A_{ 44}\n",
    "$$"
   ]
  },
  {
   "cell_type": "markdown",
   "metadata": {},
   "source": [
    "## Algorithm verification"
   ]
  },
  {
   "cell_type": "markdown",
   "metadata": {},
   "source": [
    "Let's check that the quality of the linear regression from sklearn is the same before and after the transformation. We apply the R2 metric for evaluation."
   ]
  },
  {
   "cell_type": "markdown",
   "metadata": {},
   "source": [
    "### Data preparation"
   ]
  },
  {
   "cell_type": "markdown",
   "metadata": {},
   "source": [
    "Let's prepare the data for training: we will separate the features and the target feature."
   ]
  },
  {
   "cell_type": "code",
   "execution_count": 11,
   "metadata": {
    "scrolled": false
   },
   "outputs": [],
   "source": [
    "features = df.drop('insurance_pays', axis=1)\n",
    "target = df['insurance_pays']"
   ]
  },
  {
   "cell_type": "markdown",
   "metadata": {},
   "source": [
    "We divide the samples into training and test:"
   ]
  },
  {
   "cell_type": "code",
   "execution_count": 12,
   "metadata": {
    "scrolled": true
   },
   "outputs": [
    {
     "name": "stdout",
     "output_type": "stream",
     "text": [
      "(3750, 4) (1250, 4)\n"
     ]
    }
   ],
   "source": [
    "train_features, test_features, train_target, test_target = train_test_split(\n",
    "    features, target, test_size=0.25, random_state=12345)\n",
    "print(train_features.shape, test_features.shape)"
   ]
  },
  {
   "cell_type": "markdown",
   "metadata": {},
   "source": [
    "### Features Encryption"
   ]
  },
  {
   "cell_type": "markdown",
   "metadata": {},
   "source": [
    "Let's program our algorithm to protect data while training the model. Let's create an Encryption class with functions `encrypt` to encrypt data and `decrypt` to decrypt it.\n",
    "<a name=\"encryption\"></a>"
   ]
  },
  {
   "cell_type": "code",
   "execution_count": 13,
   "metadata": {},
   "outputs": [],
   "source": [
    "class Encryption:\n",
    "    \n",
    "    def encrypt(self, train_features, test_features):\n",
    "        '''\n",
    "        The method encrypts the training and test sets.\n",
    "        The method generates a random matrix a and checks it for invertibility.\n",
    "        A matrix is invertible if and only if it is nondegenerate, that is, its determinant is not equal to zero.\n",
    "        The method returns the transformed matrix - the original matrix multiplied by the invertible matrix.\n",
    "        The method saves the key matrix for decrypting client data\n",
    "        '''\n",
    "        n = train_features.shape[1]\n",
    "        flag = True\n",
    "        while flag:\n",
    "            r = np.random.RandomState(12345)\n",
    "            a = r.randint(10, size=(n,n))\n",
    "            determinant = np.linalg.det(a)\n",
    "            if determinant != 0:\n",
    "                flag = False\n",
    "        self.key = np.linalg.inv(a)\n",
    "        self.train_features_columns = train_features.columns\n",
    "        self.test_features_columns = test_features.columns\n",
    "        encrypted_train_features = train_features.dot(a)\n",
    "        encrypted_test_features = test_features.dot(a)\n",
    "        return encrypted_train_features, encrypted_test_features\n",
    "    \n",
    "    def decrypt(self, train_features, test_features):\n",
    "        '''\n",
    "        The method decrypts the training and test sets.\n",
    "        '''\n",
    "        decrypted_train_features = np.round(train_features.dot(self.key)).astype(int)\n",
    "        decrypted_train_features.columns = self.train_features_columns\n",
    "        decrypted_test_features = np.round(test_features.dot(self.key)).astype(int)\n",
    "        decrypted_test_features.columns = self.test_features_columns\n",
    "        return decrypted_train_features, decrypted_test_features"
   ]
  },
  {
   "cell_type": "markdown",
   "metadata": {},
   "source": [
    "Encrypt the data and display the first 5 rows of the training sample"
   ]
  },
  {
   "cell_type": "code",
   "execution_count": 14,
   "metadata": {
    "scrolled": false
   },
   "outputs": [
    {
     "data": {
      "text/html": [
       "<div>\n",
       "<style scoped>\n",
       "    .dataframe tbody tr th:only-of-type {\n",
       "        vertical-align: middle;\n",
       "    }\n",
       "\n",
       "    .dataframe tbody tr th {\n",
       "        vertical-align: top;\n",
       "    }\n",
       "\n",
       "    .dataframe thead th {\n",
       "        text-align: right;\n",
       "    }\n",
       "</style>\n",
       "<table border=\"1\" class=\"dataframe\">\n",
       "  <thead>\n",
       "    <tr style=\"text-align: right;\">\n",
       "      <th></th>\n",
       "      <th>0</th>\n",
       "      <th>1</th>\n",
       "      <th>2</th>\n",
       "      <th>3</th>\n",
       "    </tr>\n",
       "  </thead>\n",
       "  <tbody>\n",
       "    <tr>\n",
       "      <th>3369</th>\n",
       "      <td>217595</td>\n",
       "      <td>36420</td>\n",
       "      <td>325889</td>\n",
       "      <td>253456</td>\n",
       "    </tr>\n",
       "    <tr>\n",
       "      <th>1441</th>\n",
       "      <td>345908</td>\n",
       "      <td>57775</td>\n",
       "      <td>518469</td>\n",
       "      <td>403238</td>\n",
       "    </tr>\n",
       "    <tr>\n",
       "      <th>571</th>\n",
       "      <td>246894</td>\n",
       "      <td>41260</td>\n",
       "      <td>369966</td>\n",
       "      <td>287741</td>\n",
       "    </tr>\n",
       "    <tr>\n",
       "      <th>225</th>\n",
       "      <td>270930</td>\n",
       "      <td>45280</td>\n",
       "      <td>405974</td>\n",
       "      <td>315745</td>\n",
       "    </tr>\n",
       "    <tr>\n",
       "      <th>2558</th>\n",
       "      <td>303909</td>\n",
       "      <td>50765</td>\n",
       "      <td>455470</td>\n",
       "      <td>354251</td>\n",
       "    </tr>\n",
       "  </tbody>\n",
       "</table>\n",
       "</div>"
      ],
      "text/plain": [
       "           0      1       2       3\n",
       "3369  217595  36420  325889  253456\n",
       "1441  345908  57775  518469  403238\n",
       "571   246894  41260  369966  287741\n",
       "225   270930  45280  405974  315745\n",
       "2558  303909  50765  455470  354251"
      ]
     },
     "execution_count": 14,
     "metadata": {},
     "output_type": "execute_result"
    }
   ],
   "source": [
    "encryption = Encryption()\n",
    "encrypted_train_features, encrypted_test_features = encryption.encrypt(train_features, test_features)\n",
    "encrypted_train_features.head()"
   ]
  },
  {
   "cell_type": "markdown",
   "metadata": {},
   "source": [
    "As a result, customer data is encrypted."
   ]
  },
  {
   "cell_type": "markdown",
   "metadata": {},
   "source": [
    "Now let's check how the decryption works."
   ]
  },
  {
   "cell_type": "code",
   "execution_count": 15,
   "metadata": {
    "scrolled": true
   },
   "outputs": [
    {
     "data": {
      "text/html": [
       "<div>\n",
       "<style scoped>\n",
       "    .dataframe tbody tr th:only-of-type {\n",
       "        vertical-align: middle;\n",
       "    }\n",
       "\n",
       "    .dataframe tbody tr th {\n",
       "        vertical-align: top;\n",
       "    }\n",
       "\n",
       "    .dataframe thead th {\n",
       "        text-align: right;\n",
       "    }\n",
       "</style>\n",
       "<table border=\"1\" class=\"dataframe\">\n",
       "  <thead>\n",
       "    <tr style=\"text-align: right;\">\n",
       "      <th></th>\n",
       "      <th>gender</th>\n",
       "      <th>age</th>\n",
       "      <th>salary</th>\n",
       "      <th>family_members</th>\n",
       "    </tr>\n",
       "  </thead>\n",
       "  <tbody>\n",
       "    <tr>\n",
       "      <th>3369</th>\n",
       "      <td>1</td>\n",
       "      <td>43</td>\n",
       "      <td>36200</td>\n",
       "      <td>1</td>\n",
       "    </tr>\n",
       "    <tr>\n",
       "      <th>1441</th>\n",
       "      <td>1</td>\n",
       "      <td>34</td>\n",
       "      <td>57600</td>\n",
       "      <td>0</td>\n",
       "    </tr>\n",
       "    <tr>\n",
       "      <th>571</th>\n",
       "      <td>0</td>\n",
       "      <td>32</td>\n",
       "      <td>41100</td>\n",
       "      <td>1</td>\n",
       "    </tr>\n",
       "    <tr>\n",
       "      <th>225</th>\n",
       "      <td>0</td>\n",
       "      <td>36</td>\n",
       "      <td>45100</td>\n",
       "      <td>1</td>\n",
       "    </tr>\n",
       "    <tr>\n",
       "      <th>2558</th>\n",
       "      <td>0</td>\n",
       "      <td>33</td>\n",
       "      <td>50600</td>\n",
       "      <td>2</td>\n",
       "    </tr>\n",
       "  </tbody>\n",
       "</table>\n",
       "</div>"
      ],
      "text/plain": [
       "      gender  age  salary  family_members\n",
       "3369       1   43   36200               1\n",
       "1441       1   34   57600               0\n",
       "571        0   32   41100               1\n",
       "225        0   36   45100               1\n",
       "2558       0   33   50600               2"
      ]
     },
     "execution_count": 15,
     "metadata": {},
     "output_type": "execute_result"
    }
   ],
   "source": [
    "decrypted_train_features, decrypted_test_features = encryption.decrypt(encrypted_train_features, encrypted_test_features)\n",
    "decrypted_train_features.head()"
   ]
  },
  {
   "cell_type": "markdown",
   "metadata": {},
   "source": [
    "Compare with the original training sample before the transformation."
   ]
  },
  {
   "cell_type": "code",
   "execution_count": 16,
   "metadata": {},
   "outputs": [
    {
     "data": {
      "text/html": [
       "<div>\n",
       "<style scoped>\n",
       "    .dataframe tbody tr th:only-of-type {\n",
       "        vertical-align: middle;\n",
       "    }\n",
       "\n",
       "    .dataframe tbody tr th {\n",
       "        vertical-align: top;\n",
       "    }\n",
       "\n",
       "    .dataframe thead th {\n",
       "        text-align: right;\n",
       "    }\n",
       "</style>\n",
       "<table border=\"1\" class=\"dataframe\">\n",
       "  <thead>\n",
       "    <tr style=\"text-align: right;\">\n",
       "      <th></th>\n",
       "      <th>gender</th>\n",
       "      <th>age</th>\n",
       "      <th>salary</th>\n",
       "      <th>family_members</th>\n",
       "    </tr>\n",
       "  </thead>\n",
       "  <tbody>\n",
       "    <tr>\n",
       "      <th>3369</th>\n",
       "      <td>1</td>\n",
       "      <td>43</td>\n",
       "      <td>36200</td>\n",
       "      <td>1</td>\n",
       "    </tr>\n",
       "    <tr>\n",
       "      <th>1441</th>\n",
       "      <td>1</td>\n",
       "      <td>34</td>\n",
       "      <td>57600</td>\n",
       "      <td>0</td>\n",
       "    </tr>\n",
       "    <tr>\n",
       "      <th>571</th>\n",
       "      <td>0</td>\n",
       "      <td>32</td>\n",
       "      <td>41100</td>\n",
       "      <td>1</td>\n",
       "    </tr>\n",
       "    <tr>\n",
       "      <th>225</th>\n",
       "      <td>0</td>\n",
       "      <td>36</td>\n",
       "      <td>45100</td>\n",
       "      <td>1</td>\n",
       "    </tr>\n",
       "    <tr>\n",
       "      <th>2558</th>\n",
       "      <td>0</td>\n",
       "      <td>33</td>\n",
       "      <td>50600</td>\n",
       "      <td>2</td>\n",
       "    </tr>\n",
       "  </tbody>\n",
       "</table>\n",
       "</div>"
      ],
      "text/plain": [
       "      gender  age  salary  family_members\n",
       "3369       1   43   36200               1\n",
       "1441       1   34   57600               0\n",
       "571        0   32   41100               1\n",
       "225        0   36   45100               1\n",
       "2558       0   33   50600               2"
      ]
     },
     "execution_count": 16,
     "metadata": {},
     "output_type": "execute_result"
    }
   ],
   "source": [
    "train_features.head()"
   ]
  },
  {
   "cell_type": "markdown",
   "metadata": {},
   "source": [
    "### Feature scaling"
   ]
  },
  {
   "cell_type": "markdown",
   "metadata": {},
   "source": [
    "Let's write a feature scaling function."
   ]
  },
  {
   "cell_type": "code",
   "execution_count": 17,
   "metadata": {},
   "outputs": [],
   "source": [
    "def scaling(train_features, test_features):\n",
    "    '''\n",
    "    The method performs the scaling of the features of the training and test samples by the method of data standardization.\n",
    "    The method returns training and test sets with scaled features.\n",
    "    '''\n",
    "    scaler = StandardScaler()\n",
    "    scaler.fit(train_features)\n",
    "    train_features = scaler.transform(train_features)\n",
    "    test_features = scaler.transform(test_features)\n",
    "    return train_features, test_features"
   ]
  },
  {
   "cell_type": "markdown",
   "metadata": {},
   "source": [
    "Feature scaling before transformation."
   ]
  },
  {
   "cell_type": "code",
   "execution_count": 18,
   "metadata": {},
   "outputs": [],
   "source": [
    "train_features_scaled, test_features_scaled = scaling(\n",
    "    train_features, test_features)"
   ]
  },
  {
   "cell_type": "markdown",
   "metadata": {},
   "source": [
    "Feature scaling after transformation."
   ]
  },
  {
   "cell_type": "code",
   "execution_count": 19,
   "metadata": {},
   "outputs": [],
   "source": [
    "encrypted_train_features_scaled, encrypted_test_features_scaled = scaling(\n",
    "    encrypted_train_features, encrypted_test_features)"
   ]
  },
  {
   "cell_type": "markdown",
   "metadata": {},
   "source": [
    "### Linear regression for data before transformation"
   ]
  },
  {
   "cell_type": "code",
   "execution_count": 20,
   "metadata": {
    "scrolled": true
   },
   "outputs": [
    {
     "data": {
      "text/plain": [
       "R2    0.435228\n",
       "Name: Linear regression before transformation, dtype: float64"
      ]
     },
     "execution_count": 20,
     "metadata": {},
     "output_type": "execute_result"
    }
   ],
   "source": [
    "model = LinearRegression()\n",
    "model.fit(train_features_scaled, train_target)\n",
    "predictions = model.predict(test_features_scaled)\n",
    "result = pd.DataFrame({'Linear regression before transformation' : r2_score(test_target, predictions)}, index=['R2'])\n",
    "result['Linear regression before transformation']"
   ]
  },
  {
   "cell_type": "markdown",
   "metadata": {},
   "source": [
    "### Linear regression for data after transformation"
   ]
  },
  {
   "cell_type": "code",
   "execution_count": 21,
   "metadata": {
    "scrolled": true
   },
   "outputs": [
    {
     "data": {
      "text/plain": [
       "R2    0.435228\n",
       "Name: Linear regression after transformation, dtype: float64"
      ]
     },
     "execution_count": 21,
     "metadata": {},
     "output_type": "execute_result"
    }
   ],
   "source": [
    "model.fit(encrypted_train_features_scaled, train_target)\n",
    "predictions = model.predict(encrypted_test_features_scaled)\n",
    "result['Linear regression after transformation'] = r2_score(test_target, predictions)\n",
    "result['Linear regression after transformation']"
   ]
  },
  {
   "cell_type": "markdown",
   "metadata": {},
   "source": [
    "### Conclusion"
   ]
  },
  {
   "cell_type": "code",
   "execution_count": 22,
   "metadata": {},
   "outputs": [
    {
     "data": {
      "text/html": [
       "<div>\n",
       "<style scoped>\n",
       "    .dataframe tbody tr th:only-of-type {\n",
       "        vertical-align: middle;\n",
       "    }\n",
       "\n",
       "    .dataframe tbody tr th {\n",
       "        vertical-align: top;\n",
       "    }\n",
       "\n",
       "    .dataframe thead th {\n",
       "        text-align: right;\n",
       "    }\n",
       "</style>\n",
       "<table border=\"1\" class=\"dataframe\">\n",
       "  <thead>\n",
       "    <tr style=\"text-align: right;\">\n",
       "      <th></th>\n",
       "      <th>Linear regression before transformation</th>\n",
       "      <th>Linear regression after transformation</th>\n",
       "    </tr>\n",
       "  </thead>\n",
       "  <tbody>\n",
       "    <tr>\n",
       "      <th>R2</th>\n",
       "      <td>0.435228</td>\n",
       "      <td>0.435228</td>\n",
       "    </tr>\n",
       "  </tbody>\n",
       "</table>\n",
       "</div>"
      ],
      "text/plain": [
       "    Linear regression before transformation  \\\n",
       "R2                                 0.435228   \n",
       "\n",
       "    Linear regression after transformation  \n",
       "R2                                0.435228  "
      ]
     },
     "execution_count": 22,
     "metadata": {},
     "output_type": "execute_result"
    }
   ],
   "source": [
    "result"
   ]
  },
  {
   "cell_type": "markdown",
   "metadata": {},
   "source": [
    "The quality of linear regression from sklearn is not different before and after transformation."
   ]
  },
  {
   "cell_type": "markdown",
   "metadata": {},
   "source": [
    "## Results of the study and general conclusion"
   ]
  },
  {
   "cell_type": "markdown",
   "metadata": {},
   "source": [
    "In this work, a data transformation method was developed to protect personal information when building a linear regression model that does not affect the quality of the machine learning model.  \n",
    "We were provided with the original dataset. A review of the data showed that:  \n",
    "1) in the table, the names of features were corrected from Cyrillic to Latin, \"snake\" format;  \n",
    "2) there are 5000 rows and 5 columns in the sample;  \n",
    "3) there are no gaps in the data, gap processing is not required;  \n",
    "4) the data types in the `age` and `salary` columns were converted from *flaot* to *int* ;  \n",
    "5) columns with numeric data `age`, `salary`, `family_members` and `insurance_pays` do not have outliers, processing of abnormal values is not required;  \n",
    "6) there are no multicollinearity features in the dataframe.  \n",
    "\n",
    "Further, we found out that the quality of linear regression will not change if the features are multiplied by an invertible matrix, and justified this by deriving a formula for the relationship of linear regression parameters before and after the transformation. We proved mathematically that the prediction vector for the original feature matrix and multiplied by the invertible matrix is the same vector.  \n",
    "\n",
    "In accordance with this, a data transformation algorithm was proposed and tested to solve the problem.  \n",
    "\n",
    "The test showed that the quality of the linear regression from sklearn does not differ for the data before and after the transformation.  "
   ]
  }
 ],
 "metadata": {
  "ExecuteTimeLog": [
   {
    "duration": 1016,
    "start_time": "2022-10-24T20:10:45.365Z"
   },
   {
    "duration": 93,
    "start_time": "2022-10-24T20:11:48.155Z"
   },
   {
    "duration": 4,
    "start_time": "2022-10-24T20:13:50.898Z"
   },
   {
    "duration": 12,
    "start_time": "2022-10-24T20:14:07.613Z"
   },
   {
    "duration": 21,
    "start_time": "2022-10-24T20:17:35.728Z"
   },
   {
    "duration": 1072,
    "start_time": "2022-10-24T20:32:16.621Z"
   },
   {
    "duration": 38,
    "start_time": "2022-10-24T20:32:17.695Z"
   },
   {
    "duration": 4,
    "start_time": "2022-10-24T20:32:17.735Z"
   },
   {
    "duration": 13,
    "start_time": "2022-10-24T20:32:17.741Z"
   },
   {
    "duration": 21,
    "start_time": "2022-10-24T20:32:17.755Z"
   },
   {
    "duration": 26,
    "start_time": "2022-10-24T20:32:17.778Z"
   },
   {
    "duration": 1034,
    "start_time": "2022-10-24T20:32:42.330Z"
   },
   {
    "duration": 39,
    "start_time": "2022-10-24T20:32:43.366Z"
   },
   {
    "duration": 7,
    "start_time": "2022-10-24T20:32:43.406Z"
   },
   {
    "duration": 33,
    "start_time": "2022-10-24T20:32:43.415Z"
   },
   {
    "duration": 35,
    "start_time": "2022-10-24T20:32:43.449Z"
   },
   {
    "duration": 39,
    "start_time": "2022-10-24T20:32:43.485Z"
   },
   {
    "duration": 1077,
    "start_time": "2022-10-24T20:32:56.866Z"
   },
   {
    "duration": 41,
    "start_time": "2022-10-24T20:32:57.945Z"
   },
   {
    "duration": 9,
    "start_time": "2022-10-24T20:32:57.987Z"
   },
   {
    "duration": 16,
    "start_time": "2022-10-24T20:32:57.998Z"
   },
   {
    "duration": 27,
    "start_time": "2022-10-24T20:32:58.016Z"
   },
   {
    "duration": 30,
    "start_time": "2022-10-24T20:32:58.045Z"
   },
   {
    "duration": 1017,
    "start_time": "2022-10-25T14:53:34.089Z"
   },
   {
    "duration": 96,
    "start_time": "2022-10-25T14:53:35.108Z"
   },
   {
    "duration": 8,
    "start_time": "2022-10-25T14:53:35.205Z"
   },
   {
    "duration": 7,
    "start_time": "2022-10-25T14:53:35.215Z"
   },
   {
    "duration": 12,
    "start_time": "2022-10-25T14:53:35.224Z"
   },
   {
    "duration": 21,
    "start_time": "2022-10-25T14:53:35.238Z"
   },
   {
    "duration": 5,
    "start_time": "2022-10-25T14:53:35.261Z"
   },
   {
    "duration": 12,
    "start_time": "2022-10-25T15:18:08.421Z"
   },
   {
    "duration": 1029,
    "start_time": "2022-10-25T15:22:22.766Z"
   },
   {
    "duration": 46,
    "start_time": "2022-10-25T15:22:23.797Z"
   },
   {
    "duration": 9,
    "start_time": "2022-10-25T15:22:23.845Z"
   },
   {
    "duration": 5,
    "start_time": "2022-10-25T15:22:23.856Z"
   },
   {
    "duration": 13,
    "start_time": "2022-10-25T15:22:23.864Z"
   },
   {
    "duration": 23,
    "start_time": "2022-10-25T15:22:23.878Z"
   },
   {
    "duration": 3,
    "start_time": "2022-10-25T15:22:23.902Z"
   },
   {
    "duration": 8,
    "start_time": "2022-10-25T15:22:23.907Z"
   },
   {
    "duration": 7,
    "start_time": "2022-10-25T15:22:23.916Z"
   },
   {
    "duration": 106,
    "start_time": "2022-10-25T15:22:23.925Z"
   },
   {
    "duration": 7,
    "start_time": "2022-10-25T15:36:26.961Z"
   },
   {
    "duration": 1041,
    "start_time": "2022-10-25T15:38:01.568Z"
   },
   {
    "duration": 40,
    "start_time": "2022-10-25T15:38:02.611Z"
   },
   {
    "duration": 10,
    "start_time": "2022-10-25T15:38:02.653Z"
   },
   {
    "duration": 21,
    "start_time": "2022-10-25T15:38:02.665Z"
   },
   {
    "duration": 30,
    "start_time": "2022-10-25T15:38:02.688Z"
   },
   {
    "duration": 52,
    "start_time": "2022-10-25T15:38:02.720Z"
   },
   {
    "duration": 17,
    "start_time": "2022-10-25T15:38:02.774Z"
   },
   {
    "duration": 33,
    "start_time": "2022-10-25T15:38:02.793Z"
   },
   {
    "duration": 14,
    "start_time": "2022-10-25T15:38:02.827Z"
   },
   {
    "duration": 29,
    "start_time": "2022-10-25T15:38:02.842Z"
   },
   {
    "duration": 1136,
    "start_time": "2022-10-25T15:40:05.858Z"
   },
   {
    "duration": 40,
    "start_time": "2022-10-25T15:40:06.996Z"
   },
   {
    "duration": 8,
    "start_time": "2022-10-25T15:40:07.038Z"
   },
   {
    "duration": 7,
    "start_time": "2022-10-25T15:40:07.047Z"
   },
   {
    "duration": 12,
    "start_time": "2022-10-25T15:40:07.056Z"
   },
   {
    "duration": 22,
    "start_time": "2022-10-25T15:40:07.070Z"
   },
   {
    "duration": 3,
    "start_time": "2022-10-25T15:40:07.094Z"
   },
   {
    "duration": 8,
    "start_time": "2022-10-25T15:40:07.098Z"
   },
   {
    "duration": 11,
    "start_time": "2022-10-25T15:40:07.108Z"
   },
   {
    "duration": 124,
    "start_time": "2022-10-25T15:40:07.120Z"
   },
   {
    "duration": 1039,
    "start_time": "2022-10-25T15:45:07.795Z"
   },
   {
    "duration": 40,
    "start_time": "2022-10-25T15:45:08.836Z"
   },
   {
    "duration": 8,
    "start_time": "2022-10-25T15:45:08.878Z"
   },
   {
    "duration": 27,
    "start_time": "2022-10-25T15:45:08.888Z"
   },
   {
    "duration": 20,
    "start_time": "2022-10-25T15:45:08.917Z"
   },
   {
    "duration": 24,
    "start_time": "2022-10-25T15:45:08.938Z"
   },
   {
    "duration": 4,
    "start_time": "2022-10-25T15:45:08.963Z"
   },
   {
    "duration": 26,
    "start_time": "2022-10-25T15:45:08.968Z"
   },
   {
    "duration": 39,
    "start_time": "2022-10-25T15:45:08.996Z"
   },
   {
    "duration": 43,
    "start_time": "2022-10-25T15:45:09.037Z"
   },
   {
    "duration": 12,
    "start_time": "2022-10-25T15:45:29.388Z"
   },
   {
    "duration": 13,
    "start_time": "2022-10-25T15:52:07.943Z"
   },
   {
    "duration": 1052,
    "start_time": "2022-10-25T17:12:47.551Z"
   },
   {
    "duration": 40,
    "start_time": "2022-10-25T17:12:48.605Z"
   },
   {
    "duration": 7,
    "start_time": "2022-10-25T17:12:48.647Z"
   },
   {
    "duration": 5,
    "start_time": "2022-10-25T17:12:48.656Z"
   },
   {
    "duration": 11,
    "start_time": "2022-10-25T17:12:48.663Z"
   },
   {
    "duration": 20,
    "start_time": "2022-10-25T17:12:48.675Z"
   },
   {
    "duration": 3,
    "start_time": "2022-10-25T17:12:48.696Z"
   },
   {
    "duration": 9,
    "start_time": "2022-10-25T17:12:48.701Z"
   },
   {
    "duration": 5,
    "start_time": "2022-10-25T17:12:48.711Z"
   },
   {
    "duration": 7,
    "start_time": "2022-10-25T17:12:48.717Z"
   },
   {
    "duration": 103,
    "start_time": "2022-10-25T17:13:12.722Z"
   },
   {
    "duration": 11,
    "start_time": "2022-10-25T17:13:30.840Z"
   },
   {
    "duration": 1065,
    "start_time": "2022-10-25T17:15:08.653Z"
   },
   {
    "duration": 43,
    "start_time": "2022-10-25T17:15:09.720Z"
   },
   {
    "duration": 9,
    "start_time": "2022-10-25T17:15:09.764Z"
   },
   {
    "duration": 6,
    "start_time": "2022-10-25T17:15:09.775Z"
   },
   {
    "duration": 13,
    "start_time": "2022-10-25T17:15:09.783Z"
   },
   {
    "duration": 29,
    "start_time": "2022-10-25T17:15:09.798Z"
   },
   {
    "duration": 3,
    "start_time": "2022-10-25T17:15:09.829Z"
   },
   {
    "duration": 11,
    "start_time": "2022-10-25T17:15:09.834Z"
   },
   {
    "duration": 7,
    "start_time": "2022-10-25T17:15:09.846Z"
   },
   {
    "duration": 28,
    "start_time": "2022-10-25T17:15:09.855Z"
   },
   {
    "duration": 224,
    "start_time": "2022-10-25T17:15:09.885Z"
   },
   {
    "duration": 0,
    "start_time": "2022-10-25T17:15:10.111Z"
   },
   {
    "duration": 1045,
    "start_time": "2022-10-25T17:15:45.074Z"
   },
   {
    "duration": 40,
    "start_time": "2022-10-25T17:15:46.121Z"
   },
   {
    "duration": 8,
    "start_time": "2022-10-25T17:15:46.163Z"
   },
   {
    "duration": 5,
    "start_time": "2022-10-25T17:15:46.173Z"
   },
   {
    "duration": 10,
    "start_time": "2022-10-25T17:15:46.180Z"
   },
   {
    "duration": 20,
    "start_time": "2022-10-25T17:15:46.192Z"
   },
   {
    "duration": 3,
    "start_time": "2022-10-25T17:15:46.213Z"
   },
   {
    "duration": 7,
    "start_time": "2022-10-25T17:15:46.217Z"
   },
   {
    "duration": 6,
    "start_time": "2022-10-25T17:15:46.225Z"
   },
   {
    "duration": 52,
    "start_time": "2022-10-25T17:15:46.232Z"
   },
   {
    "duration": 168,
    "start_time": "2022-10-25T17:15:46.285Z"
   },
   {
    "duration": 0,
    "start_time": "2022-10-25T17:15:46.455Z"
   },
   {
    "duration": 1024,
    "start_time": "2022-10-25T17:19:13.541Z"
   },
   {
    "duration": 39,
    "start_time": "2022-10-25T17:19:14.567Z"
   },
   {
    "duration": 7,
    "start_time": "2022-10-25T17:19:14.608Z"
   },
   {
    "duration": 8,
    "start_time": "2022-10-25T17:19:14.617Z"
   },
   {
    "duration": 14,
    "start_time": "2022-10-25T17:19:14.627Z"
   },
   {
    "duration": 23,
    "start_time": "2022-10-25T17:19:14.643Z"
   },
   {
    "duration": 4,
    "start_time": "2022-10-25T17:19:14.667Z"
   },
   {
    "duration": 8,
    "start_time": "2022-10-25T17:19:14.672Z"
   },
   {
    "duration": 70,
    "start_time": "2022-10-25T17:19:14.682Z"
   },
   {
    "duration": 0,
    "start_time": "2022-10-25T17:19:14.754Z"
   },
   {
    "duration": 0,
    "start_time": "2022-10-25T17:19:14.755Z"
   },
   {
    "duration": 0,
    "start_time": "2022-10-25T17:19:14.756Z"
   },
   {
    "duration": 1069,
    "start_time": "2022-10-25T17:19:50.548Z"
   },
   {
    "duration": 39,
    "start_time": "2022-10-25T17:19:51.619Z"
   },
   {
    "duration": 8,
    "start_time": "2022-10-25T17:19:51.659Z"
   },
   {
    "duration": 25,
    "start_time": "2022-10-25T17:19:51.669Z"
   },
   {
    "duration": 31,
    "start_time": "2022-10-25T17:19:51.696Z"
   },
   {
    "duration": 39,
    "start_time": "2022-10-25T17:19:51.728Z"
   },
   {
    "duration": 17,
    "start_time": "2022-10-25T17:19:51.769Z"
   },
   {
    "duration": 12,
    "start_time": "2022-10-25T17:19:51.787Z"
   },
   {
    "duration": 24,
    "start_time": "2022-10-25T17:19:51.800Z"
   },
   {
    "duration": 33,
    "start_time": "2022-10-25T17:19:51.826Z"
   },
   {
    "duration": 25,
    "start_time": "2022-10-25T17:19:51.861Z"
   },
   {
    "duration": 89,
    "start_time": "2022-10-25T17:19:51.888Z"
   },
   {
    "duration": 95,
    "start_time": "2022-10-25T17:23:59.852Z"
   },
   {
    "duration": 10,
    "start_time": "2022-10-25T17:24:20.359Z"
   },
   {
    "duration": 7,
    "start_time": "2022-10-25T17:25:11.994Z"
   },
   {
    "duration": 8,
    "start_time": "2022-10-25T17:25:56.037Z"
   },
   {
    "duration": 8,
    "start_time": "2022-10-25T17:26:43.203Z"
   },
   {
    "duration": 1085,
    "start_time": "2022-10-25T17:27:21.266Z"
   },
   {
    "duration": 40,
    "start_time": "2022-10-25T17:27:22.353Z"
   },
   {
    "duration": 8,
    "start_time": "2022-10-25T17:27:22.395Z"
   },
   {
    "duration": 5,
    "start_time": "2022-10-25T17:27:22.405Z"
   },
   {
    "duration": 11,
    "start_time": "2022-10-25T17:27:22.411Z"
   },
   {
    "duration": 27,
    "start_time": "2022-10-25T17:27:22.424Z"
   },
   {
    "duration": 3,
    "start_time": "2022-10-25T17:27:22.452Z"
   },
   {
    "duration": 20,
    "start_time": "2022-10-25T17:27:22.457Z"
   },
   {
    "duration": 9,
    "start_time": "2022-10-25T17:27:22.478Z"
   },
   {
    "duration": 25,
    "start_time": "2022-10-25T17:27:22.489Z"
   },
   {
    "duration": 68,
    "start_time": "2022-10-25T17:27:22.516Z"
   },
   {
    "duration": 104,
    "start_time": "2022-10-25T17:27:22.586Z"
   },
   {
    "duration": 10,
    "start_time": "2022-10-25T17:27:22.692Z"
   },
   {
    "duration": 6,
    "start_time": "2022-10-25T17:27:22.704Z"
   },
   {
    "duration": 1090,
    "start_time": "2022-10-25T17:28:34.271Z"
   },
   {
    "duration": 40,
    "start_time": "2022-10-25T17:28:35.364Z"
   },
   {
    "duration": 9,
    "start_time": "2022-10-25T17:28:35.406Z"
   },
   {
    "duration": 5,
    "start_time": "2022-10-25T17:28:35.417Z"
   },
   {
    "duration": 11,
    "start_time": "2022-10-25T17:28:35.424Z"
   },
   {
    "duration": 21,
    "start_time": "2022-10-25T17:28:35.437Z"
   },
   {
    "duration": 3,
    "start_time": "2022-10-25T17:28:35.459Z"
   },
   {
    "duration": 23,
    "start_time": "2022-10-25T17:28:35.463Z"
   },
   {
    "duration": 8,
    "start_time": "2022-10-25T17:28:35.487Z"
   },
   {
    "duration": 13,
    "start_time": "2022-10-25T17:28:35.497Z"
   },
   {
    "duration": 70,
    "start_time": "2022-10-25T17:28:35.512Z"
   },
   {
    "duration": 94,
    "start_time": "2022-10-25T17:28:35.584Z"
   },
   {
    "duration": 7,
    "start_time": "2022-10-25T17:28:35.680Z"
   },
   {
    "duration": 6,
    "start_time": "2022-10-25T17:28:35.689Z"
   },
   {
    "duration": 1057,
    "start_time": "2022-10-25T17:29:09.893Z"
   },
   {
    "duration": 42,
    "start_time": "2022-10-25T17:29:10.951Z"
   },
   {
    "duration": 8,
    "start_time": "2022-10-25T17:29:10.994Z"
   },
   {
    "duration": 11,
    "start_time": "2022-10-25T17:29:11.004Z"
   },
   {
    "duration": 13,
    "start_time": "2022-10-25T17:29:11.016Z"
   },
   {
    "duration": 22,
    "start_time": "2022-10-25T17:29:11.030Z"
   },
   {
    "duration": 4,
    "start_time": "2022-10-25T17:29:11.053Z"
   },
   {
    "duration": 23,
    "start_time": "2022-10-25T17:29:11.058Z"
   },
   {
    "duration": 11,
    "start_time": "2022-10-25T17:29:11.083Z"
   },
   {
    "duration": 22,
    "start_time": "2022-10-25T17:29:11.097Z"
   },
   {
    "duration": 68,
    "start_time": "2022-10-25T17:29:11.120Z"
   },
   {
    "duration": 95,
    "start_time": "2022-10-25T17:29:11.190Z"
   },
   {
    "duration": 8,
    "start_time": "2022-10-25T17:29:11.287Z"
   },
   {
    "duration": 6,
    "start_time": "2022-10-25T17:29:11.296Z"
   },
   {
    "duration": 102,
    "start_time": "2022-10-25T17:29:20.249Z"
   },
   {
    "duration": 1078,
    "start_time": "2022-10-25T17:29:25.175Z"
   },
   {
    "duration": 48,
    "start_time": "2022-10-25T17:29:26.255Z"
   },
   {
    "duration": 9,
    "start_time": "2022-10-25T17:29:26.305Z"
   },
   {
    "duration": 9,
    "start_time": "2022-10-25T17:29:26.316Z"
   },
   {
    "duration": 12,
    "start_time": "2022-10-25T17:29:26.327Z"
   },
   {
    "duration": 20,
    "start_time": "2022-10-25T17:29:26.340Z"
   },
   {
    "duration": 16,
    "start_time": "2022-10-25T17:29:26.362Z"
   },
   {
    "duration": 11,
    "start_time": "2022-10-25T17:29:26.379Z"
   },
   {
    "duration": 5,
    "start_time": "2022-10-25T17:29:26.392Z"
   },
   {
    "duration": 16,
    "start_time": "2022-10-25T17:29:26.398Z"
   },
   {
    "duration": 68,
    "start_time": "2022-10-25T17:29:26.416Z"
   },
   {
    "duration": 93,
    "start_time": "2022-10-25T17:29:26.486Z"
   },
   {
    "duration": 8,
    "start_time": "2022-10-25T17:29:26.580Z"
   },
   {
    "duration": 3,
    "start_time": "2022-10-25T17:29:26.591Z"
   },
   {
    "duration": 992,
    "start_time": "2022-10-25T17:31:55.046Z"
   },
   {
    "duration": 42,
    "start_time": "2022-10-25T17:31:56.040Z"
   },
   {
    "duration": 9,
    "start_time": "2022-10-25T17:31:56.083Z"
   },
   {
    "duration": 29,
    "start_time": "2022-10-25T17:31:56.093Z"
   },
   {
    "duration": 38,
    "start_time": "2022-10-25T17:31:56.124Z"
   },
   {
    "duration": 33,
    "start_time": "2022-10-25T17:31:56.164Z"
   },
   {
    "duration": 17,
    "start_time": "2022-10-25T17:31:56.198Z"
   },
   {
    "duration": 29,
    "start_time": "2022-10-25T17:31:56.216Z"
   },
   {
    "duration": 23,
    "start_time": "2022-10-25T17:31:56.247Z"
   },
   {
    "duration": 45,
    "start_time": "2022-10-25T17:31:56.272Z"
   },
   {
    "duration": 65,
    "start_time": "2022-10-25T17:31:56.318Z"
   },
   {
    "duration": 338,
    "start_time": "2022-10-25T17:31:56.385Z"
   },
   {
    "duration": 0,
    "start_time": "2022-10-25T17:31:56.778Z"
   },
   {
    "duration": 0,
    "start_time": "2022-10-25T17:31:56.780Z"
   },
   {
    "duration": 1008,
    "start_time": "2022-10-25T17:32:20.200Z"
   },
   {
    "duration": 40,
    "start_time": "2022-10-25T17:32:21.210Z"
   },
   {
    "duration": 8,
    "start_time": "2022-10-25T17:32:21.251Z"
   },
   {
    "duration": 8,
    "start_time": "2022-10-25T17:32:21.261Z"
   },
   {
    "duration": 14,
    "start_time": "2022-10-25T17:32:21.271Z"
   },
   {
    "duration": 23,
    "start_time": "2022-10-25T17:32:21.287Z"
   },
   {
    "duration": 4,
    "start_time": "2022-10-25T17:32:21.311Z"
   },
   {
    "duration": 9,
    "start_time": "2022-10-25T17:32:21.316Z"
   },
   {
    "duration": 5,
    "start_time": "2022-10-25T17:32:21.326Z"
   },
   {
    "duration": 46,
    "start_time": "2022-10-25T17:32:21.332Z"
   },
   {
    "duration": 12,
    "start_time": "2022-10-25T17:32:21.380Z"
   },
   {
    "duration": 188,
    "start_time": "2022-10-25T17:32:21.393Z"
   },
   {
    "duration": 0,
    "start_time": "2022-10-25T17:32:21.583Z"
   },
   {
    "duration": 0,
    "start_time": "2022-10-25T17:32:21.585Z"
   },
   {
    "duration": 1052,
    "start_time": "2022-10-25T17:32:36.166Z"
   },
   {
    "duration": 41,
    "start_time": "2022-10-25T17:32:37.219Z"
   },
   {
    "duration": 9,
    "start_time": "2022-10-25T17:32:37.262Z"
   },
   {
    "duration": 4,
    "start_time": "2022-10-25T17:32:37.272Z"
   },
   {
    "duration": 13,
    "start_time": "2022-10-25T17:32:37.278Z"
   },
   {
    "duration": 23,
    "start_time": "2022-10-25T17:32:37.293Z"
   },
   {
    "duration": 4,
    "start_time": "2022-10-25T17:32:37.318Z"
   },
   {
    "duration": 8,
    "start_time": "2022-10-25T17:32:37.323Z"
   },
   {
    "duration": 5,
    "start_time": "2022-10-25T17:32:37.333Z"
   },
   {
    "duration": 43,
    "start_time": "2022-10-25T17:32:37.340Z"
   },
   {
    "duration": 93,
    "start_time": "2022-10-25T17:32:37.384Z"
   },
   {
    "duration": 11,
    "start_time": "2022-10-25T17:32:37.479Z"
   },
   {
    "duration": 7,
    "start_time": "2022-10-25T17:32:37.492Z"
   },
   {
    "duration": 5,
    "start_time": "2022-10-25T17:32:37.500Z"
   },
   {
    "duration": 91,
    "start_time": "2022-10-25T17:37:08.531Z"
   },
   {
    "duration": 8,
    "start_time": "2022-10-25T17:37:14.105Z"
   },
   {
    "duration": 10,
    "start_time": "2022-10-25T17:37:17.453Z"
   },
   {
    "duration": 10,
    "start_time": "2022-10-25T17:37:20.044Z"
   },
   {
    "duration": 5,
    "start_time": "2022-10-25T17:37:25.996Z"
   },
   {
    "duration": 9,
    "start_time": "2022-10-25T17:37:42.939Z"
   },
   {
    "duration": 5,
    "start_time": "2022-10-25T17:37:59.943Z"
   },
   {
    "duration": 4,
    "start_time": "2022-10-25T17:38:18.393Z"
   },
   {
    "duration": 8,
    "start_time": "2022-10-25T17:38:26.843Z"
   },
   {
    "duration": 15,
    "start_time": "2022-10-25T17:38:32.647Z"
   },
   {
    "duration": 6,
    "start_time": "2022-10-25T17:38:41.552Z"
   },
   {
    "duration": 9,
    "start_time": "2022-10-25T17:38:59.292Z"
   },
   {
    "duration": 77,
    "start_time": "2022-10-25T17:40:51.264Z"
   },
   {
    "duration": 9,
    "start_time": "2022-10-25T17:40:57.349Z"
   },
   {
    "duration": 9,
    "start_time": "2022-10-25T17:41:53.760Z"
   },
   {
    "duration": 10,
    "start_time": "2022-10-25T17:42:01.309Z"
   },
   {
    "duration": 8,
    "start_time": "2022-10-25T17:42:13.092Z"
   },
   {
    "duration": 10,
    "start_time": "2022-10-25T17:42:31.063Z"
   },
   {
    "duration": 11,
    "start_time": "2022-10-25T17:42:53.766Z"
   },
   {
    "duration": 1029,
    "start_time": "2022-10-25T17:45:35.685Z"
   },
   {
    "duration": 40,
    "start_time": "2022-10-25T17:45:36.716Z"
   },
   {
    "duration": 8,
    "start_time": "2022-10-25T17:45:36.758Z"
   },
   {
    "duration": 9,
    "start_time": "2022-10-25T17:45:36.767Z"
   },
   {
    "duration": 16,
    "start_time": "2022-10-25T17:45:36.778Z"
   },
   {
    "duration": 21,
    "start_time": "2022-10-25T17:45:36.795Z"
   },
   {
    "duration": 4,
    "start_time": "2022-10-25T17:45:36.817Z"
   },
   {
    "duration": 11,
    "start_time": "2022-10-25T17:45:36.822Z"
   },
   {
    "duration": 5,
    "start_time": "2022-10-25T17:45:36.835Z"
   },
   {
    "duration": 12,
    "start_time": "2022-10-25T17:45:36.841Z"
   },
   {
    "duration": 105,
    "start_time": "2022-10-25T17:45:36.854Z"
   },
   {
    "duration": 0,
    "start_time": "2022-10-25T17:45:36.961Z"
   },
   {
    "duration": 1008,
    "start_time": "2022-10-25T17:45:52.330Z"
   },
   {
    "duration": 41,
    "start_time": "2022-10-25T17:45:53.340Z"
   },
   {
    "duration": 9,
    "start_time": "2022-10-25T17:45:53.382Z"
   },
   {
    "duration": 6,
    "start_time": "2022-10-25T17:45:53.392Z"
   },
   {
    "duration": 14,
    "start_time": "2022-10-25T17:45:53.399Z"
   },
   {
    "duration": 23,
    "start_time": "2022-10-25T17:45:53.415Z"
   },
   {
    "duration": 3,
    "start_time": "2022-10-25T17:45:53.440Z"
   },
   {
    "duration": 32,
    "start_time": "2022-10-25T17:45:53.445Z"
   },
   {
    "duration": 4,
    "start_time": "2022-10-25T17:45:53.479Z"
   },
   {
    "duration": 13,
    "start_time": "2022-10-25T17:45:53.485Z"
   },
   {
    "duration": 13,
    "start_time": "2022-10-25T17:45:53.499Z"
   },
   {
    "duration": 4,
    "start_time": "2022-10-25T17:45:53.514Z"
   },
   {
    "duration": 9,
    "start_time": "2022-10-25T17:50:22.173Z"
   },
   {
    "duration": 1019,
    "start_time": "2022-10-25T17:57:11.820Z"
   },
   {
    "duration": 40,
    "start_time": "2022-10-25T17:57:12.842Z"
   },
   {
    "duration": 7,
    "start_time": "2022-10-25T17:57:12.884Z"
   },
   {
    "duration": 6,
    "start_time": "2022-10-25T17:57:12.893Z"
   },
   {
    "duration": 12,
    "start_time": "2022-10-25T17:57:12.900Z"
   },
   {
    "duration": 20,
    "start_time": "2022-10-25T17:57:12.913Z"
   },
   {
    "duration": 3,
    "start_time": "2022-10-25T17:57:12.934Z"
   },
   {
    "duration": 8,
    "start_time": "2022-10-25T17:57:12.939Z"
   },
   {
    "duration": 31,
    "start_time": "2022-10-25T17:57:12.948Z"
   },
   {
    "duration": 13,
    "start_time": "2022-10-25T17:57:12.981Z"
   },
   {
    "duration": 3,
    "start_time": "2022-10-25T17:57:12.996Z"
   },
   {
    "duration": 13,
    "start_time": "2022-10-25T17:57:13.000Z"
   },
   {
    "duration": 1025,
    "start_time": "2022-10-25T18:02:25.299Z"
   },
   {
    "duration": 40,
    "start_time": "2022-10-25T18:02:26.326Z"
   },
   {
    "duration": 10,
    "start_time": "2022-10-25T18:02:26.367Z"
   },
   {
    "duration": 6,
    "start_time": "2022-10-25T18:02:26.378Z"
   },
   {
    "duration": 12,
    "start_time": "2022-10-25T18:02:26.386Z"
   },
   {
    "duration": 22,
    "start_time": "2022-10-25T18:02:26.399Z"
   },
   {
    "duration": 3,
    "start_time": "2022-10-25T18:02:26.422Z"
   },
   {
    "duration": 8,
    "start_time": "2022-10-25T18:02:26.427Z"
   },
   {
    "duration": 4,
    "start_time": "2022-10-25T18:02:26.437Z"
   },
   {
    "duration": 36,
    "start_time": "2022-10-25T18:02:26.442Z"
   },
   {
    "duration": 4,
    "start_time": "2022-10-25T18:02:26.479Z"
   },
   {
    "duration": 26,
    "start_time": "2022-10-25T18:02:26.484Z"
   },
   {
    "duration": 9,
    "start_time": "2022-10-25T18:02:26.512Z"
   },
   {
    "duration": 4,
    "start_time": "2022-10-25T18:02:26.523Z"
   },
   {
    "duration": 1074,
    "start_time": "2022-10-25T18:03:38.565Z"
   },
   {
    "duration": 41,
    "start_time": "2022-10-25T18:03:39.641Z"
   },
   {
    "duration": 8,
    "start_time": "2022-10-25T18:03:39.684Z"
   },
   {
    "duration": 8,
    "start_time": "2022-10-25T18:03:39.694Z"
   },
   {
    "duration": 13,
    "start_time": "2022-10-25T18:03:39.703Z"
   },
   {
    "duration": 26,
    "start_time": "2022-10-25T18:03:39.718Z"
   },
   {
    "duration": 3,
    "start_time": "2022-10-25T18:03:39.746Z"
   },
   {
    "duration": 7,
    "start_time": "2022-10-25T18:03:39.777Z"
   },
   {
    "duration": 14,
    "start_time": "2022-10-25T18:03:39.785Z"
   },
   {
    "duration": 24,
    "start_time": "2022-10-25T18:03:39.801Z"
   },
   {
    "duration": 4,
    "start_time": "2022-10-25T18:03:39.827Z"
   },
   {
    "duration": 123,
    "start_time": "2022-10-25T18:03:39.833Z"
   },
   {
    "duration": 0,
    "start_time": "2022-10-25T18:03:39.959Z"
   },
   {
    "duration": 0,
    "start_time": "2022-10-25T18:03:39.960Z"
   },
   {
    "duration": 973,
    "start_time": "2022-10-25T18:06:08.741Z"
   },
   {
    "duration": 40,
    "start_time": "2022-10-25T18:06:09.715Z"
   },
   {
    "duration": 8,
    "start_time": "2022-10-25T18:06:09.757Z"
   },
   {
    "duration": 11,
    "start_time": "2022-10-25T18:06:09.767Z"
   },
   {
    "duration": 23,
    "start_time": "2022-10-25T18:06:09.779Z"
   },
   {
    "duration": 23,
    "start_time": "2022-10-25T18:06:09.804Z"
   },
   {
    "duration": 8,
    "start_time": "2022-10-25T18:06:09.828Z"
   },
   {
    "duration": 9,
    "start_time": "2022-10-25T18:06:09.838Z"
   },
   {
    "duration": 6,
    "start_time": "2022-10-25T18:06:09.848Z"
   },
   {
    "duration": 16,
    "start_time": "2022-10-25T18:06:09.856Z"
   },
   {
    "duration": 3,
    "start_time": "2022-10-25T18:06:09.877Z"
   },
   {
    "duration": 20,
    "start_time": "2022-10-25T18:06:09.881Z"
   },
   {
    "duration": 8,
    "start_time": "2022-10-25T18:06:09.903Z"
   },
   {
    "duration": 4,
    "start_time": "2022-10-25T18:06:09.913Z"
   },
   {
    "duration": 1031,
    "start_time": "2022-10-25T18:07:59.112Z"
   },
   {
    "duration": 42,
    "start_time": "2022-10-25T18:08:00.145Z"
   },
   {
    "duration": 8,
    "start_time": "2022-10-25T18:08:00.188Z"
   },
   {
    "duration": 17,
    "start_time": "2022-10-25T18:08:00.197Z"
   },
   {
    "duration": 11,
    "start_time": "2022-10-25T18:08:00.216Z"
   },
   {
    "duration": 21,
    "start_time": "2022-10-25T18:08:00.229Z"
   },
   {
    "duration": 4,
    "start_time": "2022-10-25T18:08:00.251Z"
   },
   {
    "duration": 20,
    "start_time": "2022-10-25T18:08:00.257Z"
   },
   {
    "duration": 14,
    "start_time": "2022-10-25T18:08:00.279Z"
   },
   {
    "duration": 24,
    "start_time": "2022-10-25T18:08:00.294Z"
   },
   {
    "duration": 22,
    "start_time": "2022-10-25T18:08:00.320Z"
   },
   {
    "duration": 52,
    "start_time": "2022-10-25T18:08:00.344Z"
   },
   {
    "duration": 12,
    "start_time": "2022-10-25T18:08:00.398Z"
   },
   {
    "duration": 26,
    "start_time": "2022-10-25T18:08:00.412Z"
   },
   {
    "duration": 1009,
    "start_time": "2022-10-25T18:12:10.036Z"
   },
   {
    "duration": 38,
    "start_time": "2022-10-25T18:12:11.047Z"
   },
   {
    "duration": 7,
    "start_time": "2022-10-25T18:12:11.087Z"
   },
   {
    "duration": 6,
    "start_time": "2022-10-25T18:12:11.096Z"
   },
   {
    "duration": 14,
    "start_time": "2022-10-25T18:12:11.103Z"
   },
   {
    "duration": 22,
    "start_time": "2022-10-25T18:12:11.118Z"
   },
   {
    "duration": 3,
    "start_time": "2022-10-25T18:12:11.141Z"
   },
   {
    "duration": 14,
    "start_time": "2022-10-25T18:12:11.145Z"
   },
   {
    "duration": 6,
    "start_time": "2022-10-25T18:12:11.176Z"
   },
   {
    "duration": 13,
    "start_time": "2022-10-25T18:12:11.183Z"
   },
   {
    "duration": 3,
    "start_time": "2022-10-25T18:12:11.197Z"
   },
   {
    "duration": 100,
    "start_time": "2022-10-25T18:12:11.202Z"
   },
   {
    "duration": 0,
    "start_time": "2022-10-25T18:12:11.303Z"
   },
   {
    "duration": 0,
    "start_time": "2022-10-25T18:12:11.305Z"
   },
   {
    "duration": 10,
    "start_time": "2022-10-25T18:12:29.910Z"
   },
   {
    "duration": 9,
    "start_time": "2022-10-25T18:12:37.939Z"
   },
   {
    "duration": 18,
    "start_time": "2022-10-25T18:37:44.549Z"
   },
   {
    "duration": 9,
    "start_time": "2022-10-25T18:37:59.033Z"
   },
   {
    "duration": 5,
    "start_time": "2022-10-25T18:40:56.138Z"
   },
   {
    "duration": 10,
    "start_time": "2022-10-25T18:41:03.944Z"
   },
   {
    "duration": 8,
    "start_time": "2022-10-25T18:41:46.586Z"
   },
   {
    "duration": 7,
    "start_time": "2022-10-25T18:42:10.405Z"
   },
   {
    "duration": 10,
    "start_time": "2022-10-25T18:44:31.606Z"
   },
   {
    "duration": 8,
    "start_time": "2022-10-25T18:46:52.326Z"
   },
   {
    "duration": 7,
    "start_time": "2022-10-25T18:47:05.739Z"
   },
   {
    "duration": 10,
    "start_time": "2022-10-25T18:47:15.474Z"
   },
   {
    "duration": 1100,
    "start_time": "2022-10-25T19:05:22.572Z"
   },
   {
    "duration": 47,
    "start_time": "2022-10-25T19:05:23.674Z"
   },
   {
    "duration": 9,
    "start_time": "2022-10-25T19:05:23.722Z"
   },
   {
    "duration": 12,
    "start_time": "2022-10-25T19:05:23.733Z"
   },
   {
    "duration": 13,
    "start_time": "2022-10-25T19:05:23.746Z"
   },
   {
    "duration": 28,
    "start_time": "2022-10-25T19:05:23.761Z"
   },
   {
    "duration": 3,
    "start_time": "2022-10-25T19:05:23.791Z"
   },
   {
    "duration": 11,
    "start_time": "2022-10-25T19:05:23.796Z"
   },
   {
    "duration": 5,
    "start_time": "2022-10-25T19:05:23.809Z"
   },
   {
    "duration": 17,
    "start_time": "2022-10-25T19:05:23.816Z"
   },
   {
    "duration": 4,
    "start_time": "2022-10-25T19:05:23.835Z"
   },
   {
    "duration": 16,
    "start_time": "2022-10-25T19:05:23.840Z"
   },
   {
    "duration": 36,
    "start_time": "2022-10-25T19:05:23.858Z"
   },
   {
    "duration": 13,
    "start_time": "2022-10-25T19:05:23.896Z"
   },
   {
    "duration": 9,
    "start_time": "2022-10-25T19:05:23.911Z"
   },
   {
    "duration": 12,
    "start_time": "2022-10-25T19:05:23.922Z"
   },
   {
    "duration": 78,
    "start_time": "2022-10-26T19:42:30.506Z"
   },
   {
    "duration": 1057,
    "start_time": "2022-10-27T12:12:20.685Z"
   },
   {
    "duration": 102,
    "start_time": "2022-10-27T12:12:21.745Z"
   },
   {
    "duration": 10,
    "start_time": "2022-10-27T12:12:21.848Z"
   },
   {
    "duration": 26,
    "start_time": "2022-10-27T12:12:21.860Z"
   },
   {
    "duration": 30,
    "start_time": "2022-10-27T12:12:21.888Z"
   },
   {
    "duration": 30,
    "start_time": "2022-10-27T12:12:21.920Z"
   },
   {
    "duration": 39,
    "start_time": "2022-10-27T12:12:21.952Z"
   },
   {
    "duration": 17,
    "start_time": "2022-10-27T12:12:21.993Z"
   },
   {
    "duration": 35,
    "start_time": "2022-10-27T12:12:22.012Z"
   },
   {
    "duration": 53,
    "start_time": "2022-10-27T12:12:22.050Z"
   },
   {
    "duration": 57,
    "start_time": "2022-10-27T12:12:22.105Z"
   },
   {
    "duration": 18,
    "start_time": "2022-10-27T12:12:22.164Z"
   },
   {
    "duration": 41,
    "start_time": "2022-10-27T12:12:22.184Z"
   },
   {
    "duration": 61,
    "start_time": "2022-10-27T12:12:22.227Z"
   },
   {
    "duration": 51,
    "start_time": "2022-10-27T12:12:22.290Z"
   },
   {
    "duration": 35,
    "start_time": "2022-10-27T12:12:22.343Z"
   },
   {
    "duration": 28,
    "start_time": "2022-10-27T12:12:22.380Z"
   },
   {
    "duration": 1145,
    "start_time": "2022-10-27T12:12:49.896Z"
   },
   {
    "duration": 42,
    "start_time": "2022-10-27T12:12:51.043Z"
   },
   {
    "duration": 9,
    "start_time": "2022-10-27T12:12:51.087Z"
   },
   {
    "duration": 5,
    "start_time": "2022-10-27T12:12:51.098Z"
   },
   {
    "duration": 16,
    "start_time": "2022-10-27T12:12:51.104Z"
   },
   {
    "duration": 6,
    "start_time": "2022-10-27T12:12:51.122Z"
   },
   {
    "duration": 24,
    "start_time": "2022-10-27T12:12:51.130Z"
   },
   {
    "duration": 4,
    "start_time": "2022-10-27T12:12:51.155Z"
   },
   {
    "duration": 11,
    "start_time": "2022-10-27T12:12:51.160Z"
   },
   {
    "duration": 4,
    "start_time": "2022-10-27T12:12:51.174Z"
   },
   {
    "duration": 17,
    "start_time": "2022-10-27T12:12:51.180Z"
   },
   {
    "duration": 3,
    "start_time": "2022-10-27T12:12:51.199Z"
   },
   {
    "duration": 9,
    "start_time": "2022-10-27T12:12:51.229Z"
   },
   {
    "duration": 9,
    "start_time": "2022-10-27T12:12:51.240Z"
   },
   {
    "duration": 10,
    "start_time": "2022-10-27T12:12:51.250Z"
   },
   {
    "duration": 8,
    "start_time": "2022-10-27T12:12:51.262Z"
   },
   {
    "duration": 7,
    "start_time": "2022-10-27T12:12:51.272Z"
   },
   {
    "duration": 1316,
    "start_time": "2022-10-27T12:13:19.901Z"
   },
   {
    "duration": 45,
    "start_time": "2022-10-27T12:13:21.219Z"
   },
   {
    "duration": 13,
    "start_time": "2022-10-27T12:13:21.266Z"
   },
   {
    "duration": 8,
    "start_time": "2022-10-27T12:13:21.281Z"
   },
   {
    "duration": 14,
    "start_time": "2022-10-27T12:13:21.290Z"
   },
   {
    "duration": 15,
    "start_time": "2022-10-27T12:13:21.306Z"
   },
   {
    "duration": 33,
    "start_time": "2022-10-27T12:13:21.322Z"
   },
   {
    "duration": 4,
    "start_time": "2022-10-27T12:13:21.357Z"
   },
   {
    "duration": 17,
    "start_time": "2022-10-27T12:13:21.363Z"
   },
   {
    "duration": 8,
    "start_time": "2022-10-27T12:13:21.383Z"
   },
   {
    "duration": 42,
    "start_time": "2022-10-27T12:13:21.393Z"
   },
   {
    "duration": 15,
    "start_time": "2022-10-27T12:13:21.437Z"
   },
   {
    "duration": 11,
    "start_time": "2022-10-27T12:13:21.454Z"
   },
   {
    "duration": 11,
    "start_time": "2022-10-27T12:13:21.467Z"
   },
   {
    "duration": 14,
    "start_time": "2022-10-27T12:13:21.530Z"
   },
   {
    "duration": 11,
    "start_time": "2022-10-27T12:13:21.546Z"
   },
   {
    "duration": 9,
    "start_time": "2022-10-27T12:13:21.559Z"
   },
   {
    "duration": 1168,
    "start_time": "2022-10-27T12:14:16.192Z"
   },
   {
    "duration": 43,
    "start_time": "2022-10-27T12:14:17.363Z"
   },
   {
    "duration": 10,
    "start_time": "2022-10-27T12:14:17.408Z"
   },
   {
    "duration": 5,
    "start_time": "2022-10-27T12:14:17.421Z"
   },
   {
    "duration": 13,
    "start_time": "2022-10-27T12:14:17.427Z"
   },
   {
    "duration": 592,
    "start_time": "2022-10-27T12:14:17.442Z"
   },
   {
    "duration": 26,
    "start_time": "2022-10-27T12:14:18.036Z"
   },
   {
    "duration": 3,
    "start_time": "2022-10-27T12:14:18.064Z"
   },
   {
    "duration": 8,
    "start_time": "2022-10-27T12:14:18.069Z"
   },
   {
    "duration": 4,
    "start_time": "2022-10-27T12:14:18.080Z"
   },
   {
    "duration": 15,
    "start_time": "2022-10-27T12:14:18.086Z"
   },
   {
    "duration": 29,
    "start_time": "2022-10-27T12:14:18.103Z"
   },
   {
    "duration": 11,
    "start_time": "2022-10-27T12:14:18.134Z"
   },
   {
    "duration": 11,
    "start_time": "2022-10-27T12:14:18.148Z"
   },
   {
    "duration": 70,
    "start_time": "2022-10-27T12:14:18.161Z"
   },
   {
    "duration": 99,
    "start_time": "2022-10-27T12:14:18.233Z"
   },
   {
    "duration": 8,
    "start_time": "2022-10-27T12:14:18.334Z"
   },
   {
    "duration": 9,
    "start_time": "2022-10-27T12:14:41.449Z"
   },
   {
    "duration": 1227,
    "start_time": "2022-10-27T12:15:49.900Z"
   },
   {
    "duration": 43,
    "start_time": "2022-10-27T12:15:51.130Z"
   },
   {
    "duration": 10,
    "start_time": "2022-10-27T12:15:51.175Z"
   },
   {
    "duration": 6,
    "start_time": "2022-10-27T12:15:51.188Z"
   },
   {
    "duration": 14,
    "start_time": "2022-10-27T12:15:51.196Z"
   },
   {
    "duration": 6,
    "start_time": "2022-10-27T12:15:51.212Z"
   },
   {
    "duration": 28,
    "start_time": "2022-10-27T12:15:51.220Z"
   },
   {
    "duration": 4,
    "start_time": "2022-10-27T12:15:51.250Z"
   },
   {
    "duration": 8,
    "start_time": "2022-10-27T12:15:51.256Z"
   },
   {
    "duration": 5,
    "start_time": "2022-10-27T12:15:51.266Z"
   },
   {
    "duration": 16,
    "start_time": "2022-10-27T12:15:51.273Z"
   },
   {
    "duration": 4,
    "start_time": "2022-10-27T12:15:51.290Z"
   },
   {
    "duration": 41,
    "start_time": "2022-10-27T12:15:51.296Z"
   },
   {
    "duration": 11,
    "start_time": "2022-10-27T12:15:51.340Z"
   },
   {
    "duration": 8,
    "start_time": "2022-10-27T12:15:51.353Z"
   },
   {
    "duration": 9,
    "start_time": "2022-10-27T12:15:51.362Z"
   },
   {
    "duration": 7,
    "start_time": "2022-10-27T12:15:51.372Z"
   },
   {
    "duration": 7,
    "start_time": "2022-10-27T12:17:44.598Z"
   },
   {
    "duration": 7,
    "start_time": "2022-10-27T12:19:35.584Z"
   },
   {
    "duration": 1220,
    "start_time": "2022-10-27T12:21:26.054Z"
   },
   {
    "duration": 44,
    "start_time": "2022-10-27T12:21:27.276Z"
   },
   {
    "duration": 10,
    "start_time": "2022-10-27T12:21:27.322Z"
   },
   {
    "duration": 25,
    "start_time": "2022-10-27T12:21:27.333Z"
   },
   {
    "duration": 31,
    "start_time": "2022-10-27T12:21:27.360Z"
   },
   {
    "duration": 20,
    "start_time": "2022-10-27T12:21:27.393Z"
   },
   {
    "duration": 19,
    "start_time": "2022-10-27T12:21:27.415Z"
   },
   {
    "duration": 37,
    "start_time": "2022-10-27T12:21:27.436Z"
   },
   {
    "duration": 8,
    "start_time": "2022-10-27T12:21:27.474Z"
   },
   {
    "duration": 19,
    "start_time": "2022-10-27T12:21:27.484Z"
   },
   {
    "duration": 18,
    "start_time": "2022-10-27T12:21:27.504Z"
   },
   {
    "duration": 34,
    "start_time": "2022-10-27T12:21:27.524Z"
   },
   {
    "duration": 12,
    "start_time": "2022-10-27T12:21:27.559Z"
   },
   {
    "duration": 23,
    "start_time": "2022-10-27T12:21:27.573Z"
   },
   {
    "duration": 22,
    "start_time": "2022-10-27T12:21:27.597Z"
   },
   {
    "duration": 44,
    "start_time": "2022-10-27T12:21:27.621Z"
   },
   {
    "duration": 17,
    "start_time": "2022-10-27T12:21:27.667Z"
   },
   {
    "duration": 28,
    "start_time": "2022-10-27T12:21:27.686Z"
   },
   {
    "duration": 1154,
    "start_time": "2022-10-27T12:36:33.421Z"
   },
   {
    "duration": 44,
    "start_time": "2022-10-27T12:36:34.577Z"
   },
   {
    "duration": 9,
    "start_time": "2022-10-27T12:36:34.623Z"
   },
   {
    "duration": 5,
    "start_time": "2022-10-27T12:36:34.635Z"
   },
   {
    "duration": 12,
    "start_time": "2022-10-27T12:36:34.642Z"
   },
   {
    "duration": 10,
    "start_time": "2022-10-27T12:36:34.656Z"
   },
   {
    "duration": 1325,
    "start_time": "2022-10-27T12:36:34.668Z"
   },
   {
    "duration": 0,
    "start_time": "2022-10-27T12:36:35.995Z"
   },
   {
    "duration": 0,
    "start_time": "2022-10-27T12:36:35.996Z"
   },
   {
    "duration": 0,
    "start_time": "2022-10-27T12:36:35.997Z"
   },
   {
    "duration": 0,
    "start_time": "2022-10-27T12:36:35.999Z"
   },
   {
    "duration": 0,
    "start_time": "2022-10-27T12:36:36.000Z"
   },
   {
    "duration": 0,
    "start_time": "2022-10-27T12:36:36.001Z"
   },
   {
    "duration": 0,
    "start_time": "2022-10-27T12:36:36.002Z"
   },
   {
    "duration": 0,
    "start_time": "2022-10-27T12:36:36.004Z"
   },
   {
    "duration": 0,
    "start_time": "2022-10-27T12:36:36.006Z"
   },
   {
    "duration": 0,
    "start_time": "2022-10-27T12:36:36.007Z"
   },
   {
    "duration": 0,
    "start_time": "2022-10-27T12:36:36.029Z"
   },
   {
    "duration": 12,
    "start_time": "2022-10-27T12:37:05.612Z"
   },
   {
    "duration": 1129,
    "start_time": "2022-10-27T12:37:11.850Z"
   },
   {
    "duration": 46,
    "start_time": "2022-10-27T12:37:12.981Z"
   },
   {
    "duration": 10,
    "start_time": "2022-10-27T12:37:13.029Z"
   },
   {
    "duration": 5,
    "start_time": "2022-10-27T12:37:13.041Z"
   },
   {
    "duration": 12,
    "start_time": "2022-10-27T12:37:13.048Z"
   },
   {
    "duration": 11,
    "start_time": "2022-10-27T12:37:13.062Z"
   },
   {
    "duration": 15,
    "start_time": "2022-10-27T12:37:13.075Z"
   },
   {
    "duration": 58,
    "start_time": "2022-10-27T12:37:13.092Z"
   },
   {
    "duration": 5,
    "start_time": "2022-10-27T12:37:13.152Z"
   },
   {
    "duration": 13,
    "start_time": "2022-10-27T12:37:13.159Z"
   },
   {
    "duration": 10,
    "start_time": "2022-10-27T12:37:13.174Z"
   },
   {
    "duration": 11,
    "start_time": "2022-10-27T12:37:13.185Z"
   },
   {
    "duration": 5,
    "start_time": "2022-10-27T12:37:13.198Z"
   },
   {
    "duration": 9,
    "start_time": "2022-10-27T12:37:13.232Z"
   },
   {
    "duration": 10,
    "start_time": "2022-10-27T12:37:13.243Z"
   },
   {
    "duration": 9,
    "start_time": "2022-10-27T12:37:13.255Z"
   },
   {
    "duration": 8,
    "start_time": "2022-10-27T12:37:13.266Z"
   },
   {
    "duration": 7,
    "start_time": "2022-10-27T12:37:13.276Z"
   },
   {
    "duration": 1121,
    "start_time": "2022-10-27T12:45:23.968Z"
   },
   {
    "duration": 44,
    "start_time": "2022-10-27T12:45:25.092Z"
   },
   {
    "duration": 10,
    "start_time": "2022-10-27T12:45:25.138Z"
   },
   {
    "duration": 8,
    "start_time": "2022-10-27T12:45:25.150Z"
   },
   {
    "duration": 18,
    "start_time": "2022-10-27T12:45:25.159Z"
   },
   {
    "duration": 10,
    "start_time": "2022-10-27T12:45:25.179Z"
   },
   {
    "duration": 44,
    "start_time": "2022-10-27T12:45:25.190Z"
   },
   {
    "duration": 25,
    "start_time": "2022-10-27T12:45:25.236Z"
   },
   {
    "duration": 4,
    "start_time": "2022-10-27T12:45:25.263Z"
   },
   {
    "duration": 8,
    "start_time": "2022-10-27T12:45:25.269Z"
   },
   {
    "duration": 5,
    "start_time": "2022-10-27T12:45:25.279Z"
   },
   {
    "duration": 48,
    "start_time": "2022-10-27T12:45:25.286Z"
   },
   {
    "duration": 8,
    "start_time": "2022-10-27T12:45:25.336Z"
   },
   {
    "duration": 10,
    "start_time": "2022-10-27T12:45:25.345Z"
   },
   {
    "duration": 9,
    "start_time": "2022-10-27T12:45:25.357Z"
   },
   {
    "duration": 10,
    "start_time": "2022-10-27T12:45:25.368Z"
   },
   {
    "duration": 9,
    "start_time": "2022-10-27T12:45:25.380Z"
   },
   {
    "duration": 46,
    "start_time": "2022-10-27T12:45:25.391Z"
   },
   {
    "duration": 1506,
    "start_time": "2022-10-27T12:47:54.441Z"
   },
   {
    "duration": 51,
    "start_time": "2022-10-27T12:47:55.950Z"
   },
   {
    "duration": 14,
    "start_time": "2022-10-27T12:47:56.003Z"
   },
   {
    "duration": 7,
    "start_time": "2022-10-27T12:47:56.020Z"
   },
   {
    "duration": 18,
    "start_time": "2022-10-27T12:47:56.029Z"
   },
   {
    "duration": 12,
    "start_time": "2022-10-27T12:47:56.050Z"
   },
   {
    "duration": 15,
    "start_time": "2022-10-27T12:47:56.065Z"
   },
   {
    "duration": 67,
    "start_time": "2022-10-27T12:47:56.082Z"
   },
   {
    "duration": 146,
    "start_time": "2022-10-27T12:47:56.152Z"
   },
   {
    "duration": 0,
    "start_time": "2022-10-27T12:47:56.302Z"
   },
   {
    "duration": 0,
    "start_time": "2022-10-27T12:47:56.304Z"
   },
   {
    "duration": 0,
    "start_time": "2022-10-27T12:47:56.305Z"
   },
   {
    "duration": 0,
    "start_time": "2022-10-27T12:47:56.307Z"
   },
   {
    "duration": 0,
    "start_time": "2022-10-27T12:47:56.309Z"
   },
   {
    "duration": 0,
    "start_time": "2022-10-27T12:47:56.310Z"
   },
   {
    "duration": 0,
    "start_time": "2022-10-27T12:47:56.311Z"
   },
   {
    "duration": 0,
    "start_time": "2022-10-27T12:47:56.330Z"
   },
   {
    "duration": 0,
    "start_time": "2022-10-27T12:47:56.332Z"
   },
   {
    "duration": 0,
    "start_time": "2022-10-27T12:47:56.333Z"
   },
   {
    "duration": 1500,
    "start_time": "2022-10-27T12:48:09.275Z"
   },
   {
    "duration": 42,
    "start_time": "2022-10-27T12:48:10.777Z"
   },
   {
    "duration": 9,
    "start_time": "2022-10-27T12:48:10.821Z"
   },
   {
    "duration": 29,
    "start_time": "2022-10-27T12:48:10.832Z"
   },
   {
    "duration": 34,
    "start_time": "2022-10-27T12:48:10.863Z"
   },
   {
    "duration": 10,
    "start_time": "2022-10-27T12:48:10.898Z"
   },
   {
    "duration": 24,
    "start_time": "2022-10-27T12:48:10.910Z"
   },
   {
    "duration": 56,
    "start_time": "2022-10-27T12:48:10.936Z"
   },
   {
    "duration": 381,
    "start_time": "2022-10-27T12:48:10.994Z"
   },
   {
    "duration": 0,
    "start_time": "2022-10-27T12:48:11.377Z"
   },
   {
    "duration": 0,
    "start_time": "2022-10-27T12:48:11.431Z"
   },
   {
    "duration": 0,
    "start_time": "2022-10-27T12:48:11.432Z"
   },
   {
    "duration": 0,
    "start_time": "2022-10-27T12:48:11.434Z"
   },
   {
    "duration": 0,
    "start_time": "2022-10-27T12:48:11.436Z"
   },
   {
    "duration": 0,
    "start_time": "2022-10-27T12:48:11.437Z"
   },
   {
    "duration": 0,
    "start_time": "2022-10-27T12:48:11.438Z"
   },
   {
    "duration": 0,
    "start_time": "2022-10-27T12:48:11.440Z"
   },
   {
    "duration": 0,
    "start_time": "2022-10-27T12:48:11.441Z"
   },
   {
    "duration": 0,
    "start_time": "2022-10-27T12:48:11.442Z"
   },
   {
    "duration": 1790,
    "start_time": "2022-10-27T12:48:52.374Z"
   },
   {
    "duration": 82,
    "start_time": "2022-10-27T12:48:54.166Z"
   },
   {
    "duration": 14,
    "start_time": "2022-10-27T12:48:54.250Z"
   },
   {
    "duration": 63,
    "start_time": "2022-10-27T12:48:54.266Z"
   },
   {
    "duration": 13,
    "start_time": "2022-10-27T12:48:54.332Z"
   },
   {
    "duration": 15,
    "start_time": "2022-10-27T12:48:54.347Z"
   },
   {
    "duration": 72,
    "start_time": "2022-10-27T12:48:54.363Z"
   },
   {
    "duration": 35,
    "start_time": "2022-10-27T12:48:54.437Z"
   },
   {
    "duration": 826,
    "start_time": "2022-10-27T12:48:54.530Z"
   },
   {
    "duration": 4,
    "start_time": "2022-10-27T12:48:55.358Z"
   },
   {
    "duration": 8,
    "start_time": "2022-10-27T12:48:55.364Z"
   },
   {
    "duration": 58,
    "start_time": "2022-10-27T12:48:55.375Z"
   },
   {
    "duration": 24,
    "start_time": "2022-10-27T12:48:55.435Z"
   },
   {
    "duration": 3,
    "start_time": "2022-10-27T12:48:55.463Z"
   },
   {
    "duration": 10,
    "start_time": "2022-10-27T12:48:55.468Z"
   },
   {
    "duration": 10,
    "start_time": "2022-10-27T12:48:55.529Z"
   },
   {
    "duration": 31,
    "start_time": "2022-10-27T12:48:55.541Z"
   },
   {
    "duration": 15,
    "start_time": "2022-10-27T12:48:55.575Z"
   },
   {
    "duration": 20,
    "start_time": "2022-10-27T12:48:55.593Z"
   },
   {
    "duration": 1911,
    "start_time": "2022-10-27T12:49:26.637Z"
   },
   {
    "duration": 98,
    "start_time": "2022-10-27T12:49:28.551Z"
   },
   {
    "duration": 15,
    "start_time": "2022-10-27T12:49:28.651Z"
   },
   {
    "duration": 6,
    "start_time": "2022-10-27T12:49:28.670Z"
   },
   {
    "duration": 17,
    "start_time": "2022-10-27T12:49:28.729Z"
   },
   {
    "duration": 15,
    "start_time": "2022-10-27T12:49:28.748Z"
   },
   {
    "duration": 73,
    "start_time": "2022-10-27T12:49:28.766Z"
   },
   {
    "duration": 27,
    "start_time": "2022-10-27T12:49:28.841Z"
   },
   {
    "duration": 666,
    "start_time": "2022-10-27T12:49:28.870Z"
   },
   {
    "duration": 5,
    "start_time": "2022-10-27T12:49:29.538Z"
   },
   {
    "duration": 13,
    "start_time": "2022-10-27T12:49:29.544Z"
   },
   {
    "duration": 5,
    "start_time": "2022-10-27T12:49:29.559Z"
   },
   {
    "duration": 11,
    "start_time": "2022-10-27T12:49:29.566Z"
   },
   {
    "duration": 54,
    "start_time": "2022-10-27T12:49:29.578Z"
   },
   {
    "duration": 18,
    "start_time": "2022-10-27T12:49:29.634Z"
   },
   {
    "duration": 13,
    "start_time": "2022-10-27T12:49:29.655Z"
   },
   {
    "duration": 68,
    "start_time": "2022-10-27T12:49:29.670Z"
   },
   {
    "duration": 18,
    "start_time": "2022-10-27T12:49:29.741Z"
   },
   {
    "duration": 11,
    "start_time": "2022-10-27T12:49:29.761Z"
   },
   {
    "duration": 124,
    "start_time": "2022-10-27T12:53:15.662Z"
   },
   {
    "duration": 1473,
    "start_time": "2022-10-27T12:55:25.772Z"
   },
   {
    "duration": 44,
    "start_time": "2022-10-27T12:55:27.247Z"
   },
   {
    "duration": 9,
    "start_time": "2022-10-27T12:55:27.293Z"
   },
   {
    "duration": 4,
    "start_time": "2022-10-27T12:55:27.304Z"
   },
   {
    "duration": 13,
    "start_time": "2022-10-27T12:55:27.309Z"
   },
   {
    "duration": 12,
    "start_time": "2022-10-27T12:55:27.324Z"
   },
   {
    "duration": 12,
    "start_time": "2022-10-27T12:55:27.338Z"
   },
   {
    "duration": 26,
    "start_time": "2022-10-27T12:55:27.352Z"
   },
   {
    "duration": 584,
    "start_time": "2022-10-27T12:55:27.380Z"
   },
   {
    "duration": 3102,
    "start_time": "2022-10-27T12:55:27.967Z"
   },
   {
    "duration": 4,
    "start_time": "2022-10-27T12:55:31.071Z"
   },
   {
    "duration": 7,
    "start_time": "2022-10-27T12:55:31.130Z"
   },
   {
    "duration": 13,
    "start_time": "2022-10-27T12:55:31.139Z"
   },
   {
    "duration": 19,
    "start_time": "2022-10-27T12:55:31.154Z"
   },
   {
    "duration": 5,
    "start_time": "2022-10-27T12:55:31.175Z"
   },
   {
    "duration": 56,
    "start_time": "2022-10-27T12:55:31.181Z"
   },
   {
    "duration": 14,
    "start_time": "2022-10-27T12:55:31.239Z"
   },
   {
    "duration": 11,
    "start_time": "2022-10-27T12:55:31.255Z"
   },
   {
    "duration": 67,
    "start_time": "2022-10-27T12:55:31.268Z"
   },
   {
    "duration": 7,
    "start_time": "2022-10-27T12:55:31.337Z"
   },
   {
    "duration": 1576,
    "start_time": "2022-10-27T12:57:06.842Z"
   },
   {
    "duration": 47,
    "start_time": "2022-10-27T12:57:08.420Z"
   },
   {
    "duration": 10,
    "start_time": "2022-10-27T12:57:08.470Z"
   },
   {
    "duration": 6,
    "start_time": "2022-10-27T12:57:08.483Z"
   },
   {
    "duration": 14,
    "start_time": "2022-10-27T12:57:08.491Z"
   },
   {
    "duration": 9,
    "start_time": "2022-10-27T12:57:08.506Z"
   },
   {
    "duration": 23,
    "start_time": "2022-10-27T12:57:08.517Z"
   },
   {
    "duration": 24,
    "start_time": "2022-10-27T12:57:08.542Z"
   },
   {
    "duration": 598,
    "start_time": "2022-10-27T12:57:08.569Z"
   },
   {
    "duration": 2663,
    "start_time": "2022-10-27T12:57:09.170Z"
   },
   {
    "duration": 4,
    "start_time": "2022-10-27T12:57:11.835Z"
   },
   {
    "duration": 9,
    "start_time": "2022-10-27T12:57:11.840Z"
   },
   {
    "duration": 5,
    "start_time": "2022-10-27T12:57:11.850Z"
   },
   {
    "duration": 9,
    "start_time": "2022-10-27T12:57:11.857Z"
   },
   {
    "duration": 3,
    "start_time": "2022-10-27T12:57:11.868Z"
   },
   {
    "duration": 11,
    "start_time": "2022-10-27T12:57:11.873Z"
   },
   {
    "duration": 8,
    "start_time": "2022-10-27T12:57:11.886Z"
   },
   {
    "duration": 40,
    "start_time": "2022-10-27T12:57:11.896Z"
   },
   {
    "duration": 9,
    "start_time": "2022-10-27T12:57:11.937Z"
   },
   {
    "duration": 7,
    "start_time": "2022-10-27T12:57:11.948Z"
   },
   {
    "duration": 1512,
    "start_time": "2022-10-27T12:59:18.629Z"
   },
   {
    "duration": 42,
    "start_time": "2022-10-27T12:59:20.143Z"
   },
   {
    "duration": 9,
    "start_time": "2022-10-27T12:59:20.186Z"
   },
   {
    "duration": 7,
    "start_time": "2022-10-27T12:59:20.197Z"
   },
   {
    "duration": 13,
    "start_time": "2022-10-27T12:59:20.205Z"
   },
   {
    "duration": 10,
    "start_time": "2022-10-27T12:59:20.220Z"
   },
   {
    "duration": 13,
    "start_time": "2022-10-27T12:59:20.232Z"
   },
   {
    "duration": 24,
    "start_time": "2022-10-27T12:59:20.247Z"
   },
   {
    "duration": 664,
    "start_time": "2022-10-27T12:59:20.273Z"
   },
   {
    "duration": 2381,
    "start_time": "2022-10-27T12:59:20.940Z"
   },
   {
    "duration": 4,
    "start_time": "2022-10-27T12:59:23.323Z"
   },
   {
    "duration": 9,
    "start_time": "2022-10-27T12:59:23.328Z"
   },
   {
    "duration": 6,
    "start_time": "2022-10-27T12:59:23.338Z"
   },
   {
    "duration": 11,
    "start_time": "2022-10-27T12:59:23.347Z"
   },
   {
    "duration": 3,
    "start_time": "2022-10-27T12:59:23.360Z"
   },
   {
    "duration": 10,
    "start_time": "2022-10-27T12:59:23.365Z"
   },
   {
    "duration": 8,
    "start_time": "2022-10-27T12:59:23.376Z"
   },
   {
    "duration": 11,
    "start_time": "2022-10-27T12:59:23.386Z"
   },
   {
    "duration": 10,
    "start_time": "2022-10-27T12:59:23.430Z"
   },
   {
    "duration": 7,
    "start_time": "2022-10-27T12:59:23.442Z"
   },
   {
    "duration": 114,
    "start_time": "2022-10-27T15:27:22.958Z"
   },
   {
    "duration": 3569,
    "start_time": "2022-10-27T15:27:29.565Z"
   },
   {
    "duration": 66,
    "start_time": "2022-10-27T15:28:40.152Z"
   },
   {
    "duration": 2806,
    "start_time": "2022-10-27T15:28:50.021Z"
   },
   {
    "duration": 8648,
    "start_time": "2022-10-27T15:29:00.868Z"
   },
   {
    "duration": 8809,
    "start_time": "2022-10-27T15:29:50.368Z"
   },
   {
    "duration": 4377,
    "start_time": "2022-10-27T15:31:20.814Z"
   },
   {
    "duration": 4014,
    "start_time": "2022-10-27T15:31:39.683Z"
   },
   {
    "duration": 1481,
    "start_time": "2022-10-27T16:19:56.045Z"
   },
   {
    "duration": 48,
    "start_time": "2022-10-27T16:19:57.527Z"
   },
   {
    "duration": 9,
    "start_time": "2022-10-27T16:19:57.577Z"
   },
   {
    "duration": 4,
    "start_time": "2022-10-27T16:19:57.588Z"
   },
   {
    "duration": 11,
    "start_time": "2022-10-27T16:19:57.594Z"
   },
   {
    "duration": 9,
    "start_time": "2022-10-27T16:19:57.606Z"
   },
   {
    "duration": 19,
    "start_time": "2022-10-27T16:19:57.616Z"
   },
   {
    "duration": 23,
    "start_time": "2022-10-27T16:19:57.642Z"
   },
   {
    "duration": 400,
    "start_time": "2022-10-27T16:19:57.667Z"
   },
   {
    "duration": 5363,
    "start_time": "2022-10-27T16:19:58.070Z"
   },
   {
    "duration": 4,
    "start_time": "2022-10-27T16:20:03.435Z"
   },
   {
    "duration": 16,
    "start_time": "2022-10-27T16:20:03.442Z"
   },
   {
    "duration": 16,
    "start_time": "2022-10-27T16:20:03.460Z"
   },
   {
    "duration": 20,
    "start_time": "2022-10-27T16:20:03.478Z"
   },
   {
    "duration": 14,
    "start_time": "2022-10-27T16:20:03.533Z"
   },
   {
    "duration": 90,
    "start_time": "2022-10-27T16:20:03.549Z"
   },
   {
    "duration": 9,
    "start_time": "2022-10-27T16:20:03.645Z"
   },
   {
    "duration": 30,
    "start_time": "2022-10-27T16:20:03.656Z"
   },
   {
    "duration": 17,
    "start_time": "2022-10-27T16:20:03.688Z"
   },
   {
    "duration": 33,
    "start_time": "2022-10-27T16:20:03.707Z"
   },
   {
    "duration": 1611,
    "start_time": "2022-10-27T16:21:49.531Z"
   },
   {
    "duration": 41,
    "start_time": "2022-10-27T16:21:51.145Z"
   },
   {
    "duration": 9,
    "start_time": "2022-10-27T16:21:51.189Z"
   },
   {
    "duration": 5,
    "start_time": "2022-10-27T16:21:51.200Z"
   },
   {
    "duration": 12,
    "start_time": "2022-10-27T16:21:51.207Z"
   },
   {
    "duration": 10,
    "start_time": "2022-10-27T16:21:51.229Z"
   },
   {
    "duration": 12,
    "start_time": "2022-10-27T16:21:51.241Z"
   },
   {
    "duration": 24,
    "start_time": "2022-10-27T16:21:51.255Z"
   },
   {
    "duration": 426,
    "start_time": "2022-10-27T16:21:51.281Z"
   },
   {
    "duration": 4128,
    "start_time": "2022-10-27T16:21:51.709Z"
   },
   {
    "duration": 4,
    "start_time": "2022-10-27T16:21:55.839Z"
   },
   {
    "duration": 7,
    "start_time": "2022-10-27T16:21:55.845Z"
   },
   {
    "duration": 6,
    "start_time": "2022-10-27T16:21:55.853Z"
   },
   {
    "duration": 11,
    "start_time": "2022-10-27T16:21:55.862Z"
   },
   {
    "duration": 240,
    "start_time": "2022-10-27T16:21:55.875Z"
   },
   {
    "duration": 0,
    "start_time": "2022-10-27T16:21:56.117Z"
   },
   {
    "duration": 0,
    "start_time": "2022-10-27T16:21:56.119Z"
   },
   {
    "duration": 0,
    "start_time": "2022-10-27T16:21:56.129Z"
   },
   {
    "duration": 0,
    "start_time": "2022-10-27T16:21:56.130Z"
   },
   {
    "duration": 0,
    "start_time": "2022-10-27T16:21:56.132Z"
   },
   {
    "duration": 0,
    "start_time": "2022-10-27T16:21:56.133Z"
   },
   {
    "duration": 1377,
    "start_time": "2022-10-27T16:22:56.573Z"
   },
   {
    "duration": 43,
    "start_time": "2022-10-27T16:22:57.952Z"
   },
   {
    "duration": 8,
    "start_time": "2022-10-27T16:22:57.997Z"
   },
   {
    "duration": 6,
    "start_time": "2022-10-27T16:22:58.007Z"
   },
   {
    "duration": 13,
    "start_time": "2022-10-27T16:22:58.015Z"
   },
   {
    "duration": 18,
    "start_time": "2022-10-27T16:22:58.031Z"
   },
   {
    "duration": 18,
    "start_time": "2022-10-27T16:22:58.051Z"
   },
   {
    "duration": 27,
    "start_time": "2022-10-27T16:22:58.073Z"
   },
   {
    "duration": 733,
    "start_time": "2022-10-27T16:22:58.102Z"
   },
   {
    "duration": 5128,
    "start_time": "2022-10-27T16:22:58.841Z"
   },
   {
    "duration": 4,
    "start_time": "2022-10-27T16:23:03.971Z"
   },
   {
    "duration": 8,
    "start_time": "2022-10-27T16:23:03.977Z"
   },
   {
    "duration": 8,
    "start_time": "2022-10-27T16:23:03.986Z"
   },
   {
    "duration": 48,
    "start_time": "2022-10-27T16:23:03.996Z"
   },
   {
    "duration": 88,
    "start_time": "2022-10-27T16:23:04.045Z"
   },
   {
    "duration": 12,
    "start_time": "2022-10-27T16:23:04.134Z"
   },
   {
    "duration": 13,
    "start_time": "2022-10-27T16:23:04.147Z"
   },
   {
    "duration": 9,
    "start_time": "2022-10-27T16:23:04.161Z"
   },
   {
    "duration": 9,
    "start_time": "2022-10-27T16:23:04.171Z"
   },
   {
    "duration": 12,
    "start_time": "2022-10-27T16:23:04.182Z"
   },
   {
    "duration": 10,
    "start_time": "2022-10-27T16:23:04.196Z"
   },
   {
    "duration": 16,
    "start_time": "2022-10-27T16:23:36.023Z"
   },
   {
    "duration": 1514,
    "start_time": "2022-10-27T16:25:09.045Z"
   },
   {
    "duration": 42,
    "start_time": "2022-10-27T16:25:10.561Z"
   },
   {
    "duration": 8,
    "start_time": "2022-10-27T16:25:10.605Z"
   },
   {
    "duration": 4,
    "start_time": "2022-10-27T16:25:10.616Z"
   },
   {
    "duration": 19,
    "start_time": "2022-10-27T16:25:10.622Z"
   },
   {
    "duration": 12,
    "start_time": "2022-10-27T16:25:10.642Z"
   },
   {
    "duration": 13,
    "start_time": "2022-10-27T16:25:10.656Z"
   },
   {
    "duration": 23,
    "start_time": "2022-10-27T16:25:10.670Z"
   },
   {
    "duration": 437,
    "start_time": "2022-10-27T16:25:10.695Z"
   },
   {
    "duration": 8287,
    "start_time": "2022-10-27T16:25:11.138Z"
   },
   {
    "duration": 15,
    "start_time": "2022-10-27T16:25:19.427Z"
   },
   {
    "duration": 7,
    "start_time": "2022-10-27T16:25:19.445Z"
   },
   {
    "duration": 5,
    "start_time": "2022-10-27T16:25:19.454Z"
   },
   {
    "duration": 22,
    "start_time": "2022-10-27T16:25:19.461Z"
   },
   {
    "duration": 61,
    "start_time": "2022-10-27T16:25:19.485Z"
   },
   {
    "duration": 92,
    "start_time": "2022-10-27T16:25:19.547Z"
   },
   {
    "duration": 3,
    "start_time": "2022-10-27T16:25:19.645Z"
   },
   {
    "duration": 11,
    "start_time": "2022-10-27T16:25:19.650Z"
   },
   {
    "duration": 9,
    "start_time": "2022-10-27T16:25:19.663Z"
   },
   {
    "duration": 10,
    "start_time": "2022-10-27T16:25:19.673Z"
   },
   {
    "duration": 10,
    "start_time": "2022-10-27T16:25:19.685Z"
   },
   {
    "duration": 48,
    "start_time": "2022-10-27T16:25:19.696Z"
   },
   {
    "duration": 15,
    "start_time": "2022-10-27T16:25:48.290Z"
   },
   {
    "duration": 10,
    "start_time": "2022-10-27T16:26:21.679Z"
   },
   {
    "duration": 1435,
    "start_time": "2022-10-27T16:31:09.514Z"
   },
   {
    "duration": 43,
    "start_time": "2022-10-27T16:31:10.951Z"
   },
   {
    "duration": 9,
    "start_time": "2022-10-27T16:31:10.996Z"
   },
   {
    "duration": 4,
    "start_time": "2022-10-27T16:31:11.008Z"
   },
   {
    "duration": 11,
    "start_time": "2022-10-27T16:31:11.014Z"
   },
   {
    "duration": 9,
    "start_time": "2022-10-27T16:31:11.029Z"
   },
   {
    "duration": 12,
    "start_time": "2022-10-27T16:31:11.040Z"
   },
   {
    "duration": 24,
    "start_time": "2022-10-27T16:31:11.054Z"
   },
   {
    "duration": 438,
    "start_time": "2022-10-27T16:31:11.080Z"
   },
   {
    "duration": 4124,
    "start_time": "2022-10-27T16:31:11.521Z"
   },
   {
    "duration": 4,
    "start_time": "2022-10-27T16:31:15.647Z"
   },
   {
    "duration": 8,
    "start_time": "2022-10-27T16:31:15.652Z"
   },
   {
    "duration": 9,
    "start_time": "2022-10-27T16:31:15.662Z"
   },
   {
    "duration": 17,
    "start_time": "2022-10-27T16:31:15.673Z"
   },
   {
    "duration": 17,
    "start_time": "2022-10-27T16:31:15.729Z"
   },
   {
    "duration": 8,
    "start_time": "2022-10-27T16:31:15.828Z"
   },
   {
    "duration": 7,
    "start_time": "2022-10-27T16:31:15.838Z"
   },
   {
    "duration": 15,
    "start_time": "2022-10-27T16:31:15.847Z"
   },
   {
    "duration": 11,
    "start_time": "2022-10-27T16:31:15.864Z"
   },
   {
    "duration": 10,
    "start_time": "2022-10-27T16:31:15.877Z"
   },
   {
    "duration": 8,
    "start_time": "2022-10-27T16:31:15.889Z"
   },
   {
    "duration": 32,
    "start_time": "2022-10-27T16:31:15.898Z"
   },
   {
    "duration": 1429,
    "start_time": "2022-10-27T16:46:32.095Z"
   },
   {
    "duration": 41,
    "start_time": "2022-10-27T16:46:33.527Z"
   },
   {
    "duration": 10,
    "start_time": "2022-10-27T16:46:33.571Z"
   },
   {
    "duration": 5,
    "start_time": "2022-10-27T16:46:33.584Z"
   },
   {
    "duration": 13,
    "start_time": "2022-10-27T16:46:33.591Z"
   },
   {
    "duration": 19,
    "start_time": "2022-10-27T16:46:33.606Z"
   },
   {
    "duration": 14,
    "start_time": "2022-10-27T16:46:33.627Z"
   },
   {
    "duration": 24,
    "start_time": "2022-10-27T16:46:33.643Z"
   },
   {
    "duration": 426,
    "start_time": "2022-10-27T16:46:33.669Z"
   },
   {
    "duration": 3812,
    "start_time": "2022-10-27T16:46:34.097Z"
   },
   {
    "duration": 5,
    "start_time": "2022-10-27T16:46:37.911Z"
   },
   {
    "duration": 25,
    "start_time": "2022-10-27T16:46:37.918Z"
   },
   {
    "duration": 14,
    "start_time": "2022-10-27T16:46:37.945Z"
   },
   {
    "duration": 34,
    "start_time": "2022-10-27T16:46:37.961Z"
   },
   {
    "duration": 47,
    "start_time": "2022-10-27T16:46:37.997Z"
   },
   {
    "duration": 84,
    "start_time": "2022-10-27T16:46:38.047Z"
   },
   {
    "duration": 15,
    "start_time": "2022-10-27T16:46:38.133Z"
   },
   {
    "duration": 40,
    "start_time": "2022-10-27T16:46:38.149Z"
   },
   {
    "duration": 25,
    "start_time": "2022-10-27T16:46:38.191Z"
   },
   {
    "duration": 26,
    "start_time": "2022-10-27T16:46:38.218Z"
   },
   {
    "duration": 17,
    "start_time": "2022-10-27T16:46:38.247Z"
   },
   {
    "duration": 15,
    "start_time": "2022-10-27T16:46:38.266Z"
   }
  ],
  "kernelspec": {
   "display_name": "Python 3 (ipykernel)",
   "language": "python",
   "name": "python3"
  },
  "language_info": {
   "codemirror_mode": {
    "name": "ipython",
    "version": 3
   },
   "file_extension": ".py",
   "mimetype": "text/x-python",
   "name": "python",
   "nbconvert_exporter": "python",
   "pygments_lexer": "ipython3",
   "version": "3.9.13"
  },
  "toc": {
   "base_numbering": 1,
   "nav_menu": {},
   "number_sections": true,
   "sideBar": true,
   "skip_h1_title": true,
   "title_cell": "Contents",
   "title_sidebar": "Contents",
   "toc_cell": true,
   "toc_position": {
    "height": "calc(100% - 180px)",
    "left": "10px",
    "top": "150px",
    "width": "286.075px"
   },
   "toc_section_display": true,
   "toc_window_display": true
  }
 },
 "nbformat": 4,
 "nbformat_minor": 2
}
