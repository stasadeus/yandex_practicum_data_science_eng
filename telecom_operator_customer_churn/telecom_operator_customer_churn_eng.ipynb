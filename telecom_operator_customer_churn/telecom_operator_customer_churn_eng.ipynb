{
 "cells": [
  {
   "cell_type": "markdown",
   "id": "fc4f5fdd",
   "metadata": {},
   "source": [
    "# Forecasting the outflow of customers of a telecom operator"
   ]
  },
  {
   "cell_type": "markdown",
   "id": "428553c6",
   "metadata": {},
   "source": [
    "## Purpose"
   ]
  },
  {
   "cell_type": "markdown",
   "id": "97b791f0",
   "metadata": {},
   "source": [
    "A telecom operator wants to learn how to predict customer churn. If it turns out that the user plans to leave, he will be offered promotional codes and special conditions. The operator's team collected personal data about some customers, information about their tariffs and contracts.  \n",
    "\n",
    "**Task**  \n",
    "\n",
    "It is necessary to predict whether the client will leave the telecom operator in the near future or not. We have been provided with personal data about some customers, historical data on their behavior and termination of contracts with a telecom operator. It is necessary to build a model with an AUC-ROC metric value of at least 0.85.  \n",
    "\n",
    "**Data description**\n",
    "\n",
    "The data consists of files obtained from various sources:  \n",
    "\n",
    "- `contract.csv` - information about the contract;  \n",
    "- `personal.csv` - personal data of the client;  \n",
    "- `internet.csv` - information about Internet services;  \n",
    "- `phone.csv` - information about telephony services.  \n",
    "\n",
    "In all files, the `customerID` column contains the customer ID.  \n",
    "Information on contracts is current as of February 1, 2020.  \n",
    "\n",
    "*Target feature*\n",
    "\n",
    "- The fact that the client left"
   ]
  },
  {
   "cell_type": "markdown",
   "id": "2c78b76f",
   "metadata": {},
   "source": [
    "## Exploratory data analysis"
   ]
  },
  {
   "cell_type": "markdown",
   "id": "88d180e3",
   "metadata": {},
   "source": [
    "We import all the necessary libraries for the study."
   ]
  },
  {
   "cell_type": "code",
   "execution_count": 1,
   "id": "f7f89cf5",
   "metadata": {},
   "outputs": [
    {
     "name": "stdout",
     "output_type": "stream",
     "text": [
      "Requirement already satisfied: phik in c:\\users\\stasa\\anaconda3\\envs\\ds_da_practicum_env\\lib\\site-packages (0.12.3)\n",
      "Requirement already satisfied: numpy>=1.18.0 in c:\\users\\stasa\\anaconda3\\envs\\ds_da_practicum_env\\lib\\site-packages (from phik) (1.21.5)\n",
      "Requirement already satisfied: matplotlib>=2.2.3 in c:\\users\\stasa\\anaconda3\\envs\\ds_da_practicum_env\\lib\\site-packages (from phik) (3.5.2)\n",
      "Requirement already satisfied: joblib>=0.14.1 in c:\\users\\stasa\\anaconda3\\envs\\ds_da_practicum_env\\lib\\site-packages (from phik) (1.2.0)\n",
      "Requirement already satisfied: scipy>=1.5.2 in c:\\users\\stasa\\anaconda3\\envs\\ds_da_practicum_env\\lib\\site-packages (from phik) (1.8.0)\n",
      "Requirement already satisfied: pandas>=0.25.1 in c:\\users\\stasa\\anaconda3\\envs\\ds_da_practicum_env\\lib\\site-packages (from phik) (1.4.4)\n",
      "Requirement already satisfied: fonttools>=4.22.0 in c:\\users\\stasa\\anaconda3\\envs\\ds_da_practicum_env\\lib\\site-packages (from matplotlib>=2.2.3->phik) (4.25.0)\n",
      "Requirement already satisfied: cycler>=0.10 in c:\\users\\stasa\\anaconda3\\envs\\ds_da_practicum_env\\lib\\site-packages (from matplotlib>=2.2.3->phik) (0.11.0)\n",
      "Requirement already satisfied: pillow>=6.2.0 in c:\\users\\stasa\\anaconda3\\envs\\ds_da_practicum_env\\lib\\site-packages (from matplotlib>=2.2.3->phik) (9.2.0)\n",
      "Requirement already satisfied: kiwisolver>=1.0.1 in c:\\users\\stasa\\anaconda3\\envs\\ds_da_practicum_env\\lib\\site-packages (from matplotlib>=2.2.3->phik) (1.4.4)\n",
      "Requirement already satisfied: python-dateutil>=2.7 in c:\\users\\stasa\\anaconda3\\envs\\ds_da_practicum_env\\lib\\site-packages (from matplotlib>=2.2.3->phik) (2.8.2)\n",
      "Requirement already satisfied: pyparsing>=2.2.1 in c:\\users\\stasa\\anaconda3\\envs\\ds_da_practicum_env\\lib\\site-packages (from matplotlib>=2.2.3->phik) (3.0.9)\n",
      "Requirement already satisfied: packaging>=20.0 in c:\\users\\stasa\\anaconda3\\envs\\ds_da_practicum_env\\lib\\site-packages (from matplotlib>=2.2.3->phik) (21.3)\n",
      "Requirement already satisfied: pytz>=2020.1 in c:\\users\\stasa\\anaconda3\\envs\\ds_da_practicum_env\\lib\\site-packages (from pandas>=0.25.1->phik) (2022.2.1)\n",
      "Requirement already satisfied: six>=1.5 in c:\\users\\stasa\\anaconda3\\envs\\ds_da_practicum_env\\lib\\site-packages (from python-dateutil>=2.7->matplotlib>=2.2.3->phik) (1.16.0)\n"
     ]
    }
   ],
   "source": [
    "!pip install phik"
   ]
  },
  {
   "cell_type": "code",
   "execution_count": 2,
   "id": "22d580f8",
   "metadata": {},
   "outputs": [],
   "source": [
    "RANDOM_STATE = 300123\n",
    "\n",
    "import numpy as np\n",
    "import pandas as pd\n",
    "import matplotlib.pyplot as plt\n",
    "import seaborn as sns\n",
    "import phik\n",
    "import warnings\n",
    "\n",
    "from sklearn.model_selection import train_test_split, GridSearchCV\n",
    "from sklearn.preprocessing import StandardScaler, OneHotEncoder\n",
    "from sklearn.linear_model import LogisticRegression\n",
    "from sklearn.metrics import accuracy_score, recall_score, precision_score, f1_score, roc_auc_score, confusion_matrix, ConfusionMatrixDisplay\n",
    "from catboost import CatBoostClassifier, Pool\n",
    "from lightgbm import LGBMClassifier\n",
    "\n",
    "warnings.filterwarnings('ignore')"
   ]
  },
  {
   "cell_type": "markdown",
   "id": "e91b8262",
   "metadata": {},
   "source": [
    "Let's download and examine the data."
   ]
  },
  {
   "cell_type": "markdown",
   "id": "7fb03d3f",
   "metadata": {},
   "source": [
    "**1) Dataframe with information about the contract.**"
   ]
  },
  {
   "cell_type": "code",
   "execution_count": 3,
   "id": "ae18aad5",
   "metadata": {
    "scrolled": false
   },
   "outputs": [],
   "source": [
    "try:\n",
    "    df_contract = pd.read_csv('contract.csv')\n",
    "except:\n",
    "    df_contract = pd.read_csv('/datasets/final_provider/contract.csv')"
   ]
  },
  {
   "cell_type": "code",
   "execution_count": 4,
   "id": "5b061b9f",
   "metadata": {},
   "outputs": [
    {
     "data": {
      "text/html": [
       "<div>\n",
       "<style scoped>\n",
       "    .dataframe tbody tr th:only-of-type {\n",
       "        vertical-align: middle;\n",
       "    }\n",
       "\n",
       "    .dataframe tbody tr th {\n",
       "        vertical-align: top;\n",
       "    }\n",
       "\n",
       "    .dataframe thead th {\n",
       "        text-align: right;\n",
       "    }\n",
       "</style>\n",
       "<table border=\"1\" class=\"dataframe\">\n",
       "  <thead>\n",
       "    <tr style=\"text-align: right;\">\n",
       "      <th></th>\n",
       "      <th>customerID</th>\n",
       "      <th>BeginDate</th>\n",
       "      <th>EndDate</th>\n",
       "      <th>Type</th>\n",
       "      <th>PaperlessBilling</th>\n",
       "      <th>PaymentMethod</th>\n",
       "      <th>MonthlyCharges</th>\n",
       "      <th>TotalCharges</th>\n",
       "    </tr>\n",
       "  </thead>\n",
       "  <tbody>\n",
       "    <tr>\n",
       "      <th>0</th>\n",
       "      <td>7590-VHVEG</td>\n",
       "      <td>2020-01-01</td>\n",
       "      <td>No</td>\n",
       "      <td>Month-to-month</td>\n",
       "      <td>Yes</td>\n",
       "      <td>Electronic check</td>\n",
       "      <td>29.85</td>\n",
       "      <td>29.85</td>\n",
       "    </tr>\n",
       "    <tr>\n",
       "      <th>1</th>\n",
       "      <td>5575-GNVDE</td>\n",
       "      <td>2017-04-01</td>\n",
       "      <td>No</td>\n",
       "      <td>One year</td>\n",
       "      <td>No</td>\n",
       "      <td>Mailed check</td>\n",
       "      <td>56.95</td>\n",
       "      <td>1889.5</td>\n",
       "    </tr>\n",
       "    <tr>\n",
       "      <th>2</th>\n",
       "      <td>3668-QPYBK</td>\n",
       "      <td>2019-10-01</td>\n",
       "      <td>2019-12-01 00:00:00</td>\n",
       "      <td>Month-to-month</td>\n",
       "      <td>Yes</td>\n",
       "      <td>Mailed check</td>\n",
       "      <td>53.85</td>\n",
       "      <td>108.15</td>\n",
       "    </tr>\n",
       "    <tr>\n",
       "      <th>3</th>\n",
       "      <td>7795-CFOCW</td>\n",
       "      <td>2016-05-01</td>\n",
       "      <td>No</td>\n",
       "      <td>One year</td>\n",
       "      <td>No</td>\n",
       "      <td>Bank transfer (automatic)</td>\n",
       "      <td>42.30</td>\n",
       "      <td>1840.75</td>\n",
       "    </tr>\n",
       "    <tr>\n",
       "      <th>4</th>\n",
       "      <td>9237-HQITU</td>\n",
       "      <td>2019-09-01</td>\n",
       "      <td>2019-11-01 00:00:00</td>\n",
       "      <td>Month-to-month</td>\n",
       "      <td>Yes</td>\n",
       "      <td>Electronic check</td>\n",
       "      <td>70.70</td>\n",
       "      <td>151.65</td>\n",
       "    </tr>\n",
       "  </tbody>\n",
       "</table>\n",
       "</div>"
      ],
      "text/plain": [
       "   customerID   BeginDate              EndDate            Type  \\\n",
       "0  7590-VHVEG  2020-01-01                   No  Month-to-month   \n",
       "1  5575-GNVDE  2017-04-01                   No        One year   \n",
       "2  3668-QPYBK  2019-10-01  2019-12-01 00:00:00  Month-to-month   \n",
       "3  7795-CFOCW  2016-05-01                   No        One year   \n",
       "4  9237-HQITU  2019-09-01  2019-11-01 00:00:00  Month-to-month   \n",
       "\n",
       "  PaperlessBilling              PaymentMethod  MonthlyCharges TotalCharges  \n",
       "0              Yes           Electronic check           29.85        29.85  \n",
       "1               No               Mailed check           56.95       1889.5  \n",
       "2              Yes               Mailed check           53.85       108.15  \n",
       "3               No  Bank transfer (automatic)           42.30      1840.75  \n",
       "4              Yes           Electronic check           70.70       151.65  "
      ]
     },
     "execution_count": 4,
     "metadata": {},
     "output_type": "execute_result"
    }
   ],
   "source": [
    "df_contract.head()"
   ]
  },
  {
   "cell_type": "code",
   "execution_count": 5,
   "id": "20de40f2",
   "metadata": {
    "scrolled": true
   },
   "outputs": [
    {
     "name": "stdout",
     "output_type": "stream",
     "text": [
      "<class 'pandas.core.frame.DataFrame'>\n",
      "RangeIndex: 7043 entries, 0 to 7042\n",
      "Data columns (total 8 columns):\n",
      " #   Column            Non-Null Count  Dtype  \n",
      "---  ------            --------------  -----  \n",
      " 0   customerID        7043 non-null   object \n",
      " 1   BeginDate         7043 non-null   object \n",
      " 2   EndDate           7043 non-null   object \n",
      " 3   Type              7043 non-null   object \n",
      " 4   PaperlessBilling  7043 non-null   object \n",
      " 5   PaymentMethod     7043 non-null   object \n",
      " 6   MonthlyCharges    7043 non-null   float64\n",
      " 7   TotalCharges      7043 non-null   object \n",
      "dtypes: float64(1), object(7)\n",
      "memory usage: 440.3+ KB\n"
     ]
    }
   ],
   "source": [
    "df_contract.info()"
   ]
  },
  {
   "cell_type": "markdown",
   "id": "aa6b6146",
   "metadata": {},
   "source": [
    "This dataframe must contain the target feature - the fact of the client leaving, but it is not in the table. The fact of leaving can be judged by the presence of the end date of the contract."
   ]
  },
  {
   "cell_type": "markdown",
   "id": "5e6d58d8",
   "metadata": {},
   "source": [
    "There are no gaps in the dataframe, but you will need to change the data types of some columns."
   ]
  },
  {
   "cell_type": "code",
   "execution_count": 6,
   "id": "beefcc26",
   "metadata": {
    "scrolled": false
   },
   "outputs": [
    {
     "data": {
      "text/html": [
       "<div>\n",
       "<style scoped>\n",
       "    .dataframe tbody tr th:only-of-type {\n",
       "        vertical-align: middle;\n",
       "    }\n",
       "\n",
       "    .dataframe tbody tr th {\n",
       "        vertical-align: top;\n",
       "    }\n",
       "\n",
       "    .dataframe thead th {\n",
       "        text-align: right;\n",
       "    }\n",
       "</style>\n",
       "<table border=\"1\" class=\"dataframe\">\n",
       "  <thead>\n",
       "    <tr style=\"text-align: right;\">\n",
       "      <th></th>\n",
       "      <th>customerID</th>\n",
       "      <th>BeginDate</th>\n",
       "      <th>EndDate</th>\n",
       "      <th>Type</th>\n",
       "      <th>PaperlessBilling</th>\n",
       "      <th>PaymentMethod</th>\n",
       "      <th>MonthlyCharges</th>\n",
       "      <th>TotalCharges</th>\n",
       "    </tr>\n",
       "  </thead>\n",
       "  <tbody>\n",
       "    <tr>\n",
       "      <th>count</th>\n",
       "      <td>7043</td>\n",
       "      <td>7043</td>\n",
       "      <td>7043</td>\n",
       "      <td>7043</td>\n",
       "      <td>7043</td>\n",
       "      <td>7043</td>\n",
       "      <td>7043.000000</td>\n",
       "      <td>7043</td>\n",
       "    </tr>\n",
       "    <tr>\n",
       "      <th>unique</th>\n",
       "      <td>7043</td>\n",
       "      <td>77</td>\n",
       "      <td>5</td>\n",
       "      <td>3</td>\n",
       "      <td>2</td>\n",
       "      <td>4</td>\n",
       "      <td>NaN</td>\n",
       "      <td>6531</td>\n",
       "    </tr>\n",
       "    <tr>\n",
       "      <th>top</th>\n",
       "      <td>7590-VHVEG</td>\n",
       "      <td>2014-02-01</td>\n",
       "      <td>No</td>\n",
       "      <td>Month-to-month</td>\n",
       "      <td>Yes</td>\n",
       "      <td>Electronic check</td>\n",
       "      <td>NaN</td>\n",
       "      <td></td>\n",
       "    </tr>\n",
       "    <tr>\n",
       "      <th>freq</th>\n",
       "      <td>1</td>\n",
       "      <td>366</td>\n",
       "      <td>5174</td>\n",
       "      <td>3875</td>\n",
       "      <td>4171</td>\n",
       "      <td>2365</td>\n",
       "      <td>NaN</td>\n",
       "      <td>11</td>\n",
       "    </tr>\n",
       "    <tr>\n",
       "      <th>mean</th>\n",
       "      <td>NaN</td>\n",
       "      <td>NaN</td>\n",
       "      <td>NaN</td>\n",
       "      <td>NaN</td>\n",
       "      <td>NaN</td>\n",
       "      <td>NaN</td>\n",
       "      <td>64.761692</td>\n",
       "      <td>NaN</td>\n",
       "    </tr>\n",
       "    <tr>\n",
       "      <th>std</th>\n",
       "      <td>NaN</td>\n",
       "      <td>NaN</td>\n",
       "      <td>NaN</td>\n",
       "      <td>NaN</td>\n",
       "      <td>NaN</td>\n",
       "      <td>NaN</td>\n",
       "      <td>30.090047</td>\n",
       "      <td>NaN</td>\n",
       "    </tr>\n",
       "    <tr>\n",
       "      <th>min</th>\n",
       "      <td>NaN</td>\n",
       "      <td>NaN</td>\n",
       "      <td>NaN</td>\n",
       "      <td>NaN</td>\n",
       "      <td>NaN</td>\n",
       "      <td>NaN</td>\n",
       "      <td>18.250000</td>\n",
       "      <td>NaN</td>\n",
       "    </tr>\n",
       "    <tr>\n",
       "      <th>25%</th>\n",
       "      <td>NaN</td>\n",
       "      <td>NaN</td>\n",
       "      <td>NaN</td>\n",
       "      <td>NaN</td>\n",
       "      <td>NaN</td>\n",
       "      <td>NaN</td>\n",
       "      <td>35.500000</td>\n",
       "      <td>NaN</td>\n",
       "    </tr>\n",
       "    <tr>\n",
       "      <th>50%</th>\n",
       "      <td>NaN</td>\n",
       "      <td>NaN</td>\n",
       "      <td>NaN</td>\n",
       "      <td>NaN</td>\n",
       "      <td>NaN</td>\n",
       "      <td>NaN</td>\n",
       "      <td>70.350000</td>\n",
       "      <td>NaN</td>\n",
       "    </tr>\n",
       "    <tr>\n",
       "      <th>75%</th>\n",
       "      <td>NaN</td>\n",
       "      <td>NaN</td>\n",
       "      <td>NaN</td>\n",
       "      <td>NaN</td>\n",
       "      <td>NaN</td>\n",
       "      <td>NaN</td>\n",
       "      <td>89.850000</td>\n",
       "      <td>NaN</td>\n",
       "    </tr>\n",
       "    <tr>\n",
       "      <th>max</th>\n",
       "      <td>NaN</td>\n",
       "      <td>NaN</td>\n",
       "      <td>NaN</td>\n",
       "      <td>NaN</td>\n",
       "      <td>NaN</td>\n",
       "      <td>NaN</td>\n",
       "      <td>118.750000</td>\n",
       "      <td>NaN</td>\n",
       "    </tr>\n",
       "  </tbody>\n",
       "</table>\n",
       "</div>"
      ],
      "text/plain": [
       "        customerID   BeginDate EndDate            Type PaperlessBilling  \\\n",
       "count         7043        7043    7043            7043             7043   \n",
       "unique        7043          77       5               3                2   \n",
       "top     7590-VHVEG  2014-02-01      No  Month-to-month              Yes   \n",
       "freq             1         366    5174            3875             4171   \n",
       "mean           NaN         NaN     NaN             NaN              NaN   \n",
       "std            NaN         NaN     NaN             NaN              NaN   \n",
       "min            NaN         NaN     NaN             NaN              NaN   \n",
       "25%            NaN         NaN     NaN             NaN              NaN   \n",
       "50%            NaN         NaN     NaN             NaN              NaN   \n",
       "75%            NaN         NaN     NaN             NaN              NaN   \n",
       "max            NaN         NaN     NaN             NaN              NaN   \n",
       "\n",
       "           PaymentMethod  MonthlyCharges TotalCharges  \n",
       "count               7043     7043.000000         7043  \n",
       "unique                 4             NaN         6531  \n",
       "top     Electronic check             NaN               \n",
       "freq                2365             NaN           11  \n",
       "mean                 NaN       64.761692          NaN  \n",
       "std                  NaN       30.090047          NaN  \n",
       "min                  NaN       18.250000          NaN  \n",
       "25%                  NaN       35.500000          NaN  \n",
       "50%                  NaN       70.350000          NaN  \n",
       "75%                  NaN       89.850000          NaN  \n",
       "max                  NaN      118.750000          NaN  "
      ]
     },
     "execution_count": 6,
     "metadata": {},
     "output_type": "execute_result"
    }
   ],
   "source": [
    "df_contract.describe(include='all')"
   ]
  },
  {
   "cell_type": "code",
   "execution_count": 7,
   "id": "c1c73b51",
   "metadata": {},
   "outputs": [
    {
     "data": {
      "text/plain": [
       "array(['Month-to-month', 'One year', 'Two year'], dtype=object)"
      ]
     },
     "execution_count": 7,
     "metadata": {},
     "output_type": "execute_result"
    }
   ],
   "source": [
    "df_contract['Type'].unique()"
   ]
  },
  {
   "cell_type": "code",
   "execution_count": 8,
   "id": "73eb9068",
   "metadata": {},
   "outputs": [
    {
     "data": {
      "text/plain": [
       "array(['Electronic check', 'Mailed check', 'Bank transfer (automatic)',\n",
       "       'Credit card (automatic)'], dtype=object)"
      ]
     },
     "execution_count": 8,
     "metadata": {},
     "output_type": "execute_result"
    }
   ],
   "source": [
    "df_contract['PaymentMethod'].unique()"
   ]
  },
  {
   "cell_type": "markdown",
   "id": "a7147317",
   "metadata": {},
   "source": [
    "In this dataset, it will be necessary to form a target feature and a new feature that reflects how long a person has been a client of the company. For this, the `No` value in the `EndDate` column will need to be replaced with the date 2020-02-01 - the current date of information about contracts."
   ]
  },
  {
   "cell_type": "markdown",
   "id": "786a564b",
   "metadata": {},
   "source": [
    "**2) Dataframe with personal data of clients**"
   ]
  },
  {
   "cell_type": "code",
   "execution_count": 9,
   "id": "821572d6",
   "metadata": {
    "scrolled": true
   },
   "outputs": [
    {
     "data": {
      "text/html": [
       "<div>\n",
       "<style scoped>\n",
       "    .dataframe tbody tr th:only-of-type {\n",
       "        vertical-align: middle;\n",
       "    }\n",
       "\n",
       "    .dataframe tbody tr th {\n",
       "        vertical-align: top;\n",
       "    }\n",
       "\n",
       "    .dataframe thead th {\n",
       "        text-align: right;\n",
       "    }\n",
       "</style>\n",
       "<table border=\"1\" class=\"dataframe\">\n",
       "  <thead>\n",
       "    <tr style=\"text-align: right;\">\n",
       "      <th></th>\n",
       "      <th>customerID</th>\n",
       "      <th>gender</th>\n",
       "      <th>SeniorCitizen</th>\n",
       "      <th>Partner</th>\n",
       "      <th>Dependents</th>\n",
       "    </tr>\n",
       "  </thead>\n",
       "  <tbody>\n",
       "    <tr>\n",
       "      <th>0</th>\n",
       "      <td>7590-VHVEG</td>\n",
       "      <td>Female</td>\n",
       "      <td>0</td>\n",
       "      <td>Yes</td>\n",
       "      <td>No</td>\n",
       "    </tr>\n",
       "    <tr>\n",
       "      <th>1</th>\n",
       "      <td>5575-GNVDE</td>\n",
       "      <td>Male</td>\n",
       "      <td>0</td>\n",
       "      <td>No</td>\n",
       "      <td>No</td>\n",
       "    </tr>\n",
       "    <tr>\n",
       "      <th>2</th>\n",
       "      <td>3668-QPYBK</td>\n",
       "      <td>Male</td>\n",
       "      <td>0</td>\n",
       "      <td>No</td>\n",
       "      <td>No</td>\n",
       "    </tr>\n",
       "    <tr>\n",
       "      <th>3</th>\n",
       "      <td>7795-CFOCW</td>\n",
       "      <td>Male</td>\n",
       "      <td>0</td>\n",
       "      <td>No</td>\n",
       "      <td>No</td>\n",
       "    </tr>\n",
       "    <tr>\n",
       "      <th>4</th>\n",
       "      <td>9237-HQITU</td>\n",
       "      <td>Female</td>\n",
       "      <td>0</td>\n",
       "      <td>No</td>\n",
       "      <td>No</td>\n",
       "    </tr>\n",
       "  </tbody>\n",
       "</table>\n",
       "</div>"
      ],
      "text/plain": [
       "   customerID  gender  SeniorCitizen Partner Dependents\n",
       "0  7590-VHVEG  Female              0     Yes         No\n",
       "1  5575-GNVDE    Male              0      No         No\n",
       "2  3668-QPYBK    Male              0      No         No\n",
       "3  7795-CFOCW    Male              0      No         No\n",
       "4  9237-HQITU  Female              0      No         No"
      ]
     },
     "execution_count": 9,
     "metadata": {},
     "output_type": "execute_result"
    }
   ],
   "source": [
    "try: \n",
    "    df_personal = pd.read_csv('personal.csv')\n",
    "except: \n",
    "    df_personal = pd.read_csv('/datasets/final_provider/personal.csv')\n",
    "\n",
    "df_personal.head()"
   ]
  },
  {
   "cell_type": "code",
   "execution_count": 10,
   "id": "7f2c74d2",
   "metadata": {},
   "outputs": [
    {
     "name": "stdout",
     "output_type": "stream",
     "text": [
      "<class 'pandas.core.frame.DataFrame'>\n",
      "RangeIndex: 7043 entries, 0 to 7042\n",
      "Data columns (total 5 columns):\n",
      " #   Column         Non-Null Count  Dtype \n",
      "---  ------         --------------  ----- \n",
      " 0   customerID     7043 non-null   object\n",
      " 1   gender         7043 non-null   object\n",
      " 2   SeniorCitizen  7043 non-null   int64 \n",
      " 3   Partner        7043 non-null   object\n",
      " 4   Dependents     7043 non-null   object\n",
      "dtypes: int64(1), object(4)\n",
      "memory usage: 275.2+ KB\n"
     ]
    }
   ],
   "source": [
    "df_personal.info()"
   ]
  },
  {
   "cell_type": "code",
   "execution_count": 11,
   "id": "0b4b029d",
   "metadata": {
    "scrolled": false
   },
   "outputs": [
    {
     "data": {
      "text/html": [
       "<div>\n",
       "<style scoped>\n",
       "    .dataframe tbody tr th:only-of-type {\n",
       "        vertical-align: middle;\n",
       "    }\n",
       "\n",
       "    .dataframe tbody tr th {\n",
       "        vertical-align: top;\n",
       "    }\n",
       "\n",
       "    .dataframe thead th {\n",
       "        text-align: right;\n",
       "    }\n",
       "</style>\n",
       "<table border=\"1\" class=\"dataframe\">\n",
       "  <thead>\n",
       "    <tr style=\"text-align: right;\">\n",
       "      <th></th>\n",
       "      <th>customerID</th>\n",
       "      <th>gender</th>\n",
       "      <th>SeniorCitizen</th>\n",
       "      <th>Partner</th>\n",
       "      <th>Dependents</th>\n",
       "    </tr>\n",
       "  </thead>\n",
       "  <tbody>\n",
       "    <tr>\n",
       "      <th>count</th>\n",
       "      <td>7043</td>\n",
       "      <td>7043</td>\n",
       "      <td>7043.000000</td>\n",
       "      <td>7043</td>\n",
       "      <td>7043</td>\n",
       "    </tr>\n",
       "    <tr>\n",
       "      <th>unique</th>\n",
       "      <td>7043</td>\n",
       "      <td>2</td>\n",
       "      <td>NaN</td>\n",
       "      <td>2</td>\n",
       "      <td>2</td>\n",
       "    </tr>\n",
       "    <tr>\n",
       "      <th>top</th>\n",
       "      <td>7590-VHVEG</td>\n",
       "      <td>Male</td>\n",
       "      <td>NaN</td>\n",
       "      <td>No</td>\n",
       "      <td>No</td>\n",
       "    </tr>\n",
       "    <tr>\n",
       "      <th>freq</th>\n",
       "      <td>1</td>\n",
       "      <td>3555</td>\n",
       "      <td>NaN</td>\n",
       "      <td>3641</td>\n",
       "      <td>4933</td>\n",
       "    </tr>\n",
       "    <tr>\n",
       "      <th>mean</th>\n",
       "      <td>NaN</td>\n",
       "      <td>NaN</td>\n",
       "      <td>0.162147</td>\n",
       "      <td>NaN</td>\n",
       "      <td>NaN</td>\n",
       "    </tr>\n",
       "    <tr>\n",
       "      <th>std</th>\n",
       "      <td>NaN</td>\n",
       "      <td>NaN</td>\n",
       "      <td>0.368612</td>\n",
       "      <td>NaN</td>\n",
       "      <td>NaN</td>\n",
       "    </tr>\n",
       "    <tr>\n",
       "      <th>min</th>\n",
       "      <td>NaN</td>\n",
       "      <td>NaN</td>\n",
       "      <td>0.000000</td>\n",
       "      <td>NaN</td>\n",
       "      <td>NaN</td>\n",
       "    </tr>\n",
       "    <tr>\n",
       "      <th>25%</th>\n",
       "      <td>NaN</td>\n",
       "      <td>NaN</td>\n",
       "      <td>0.000000</td>\n",
       "      <td>NaN</td>\n",
       "      <td>NaN</td>\n",
       "    </tr>\n",
       "    <tr>\n",
       "      <th>50%</th>\n",
       "      <td>NaN</td>\n",
       "      <td>NaN</td>\n",
       "      <td>0.000000</td>\n",
       "      <td>NaN</td>\n",
       "      <td>NaN</td>\n",
       "    </tr>\n",
       "    <tr>\n",
       "      <th>75%</th>\n",
       "      <td>NaN</td>\n",
       "      <td>NaN</td>\n",
       "      <td>0.000000</td>\n",
       "      <td>NaN</td>\n",
       "      <td>NaN</td>\n",
       "    </tr>\n",
       "    <tr>\n",
       "      <th>max</th>\n",
       "      <td>NaN</td>\n",
       "      <td>NaN</td>\n",
       "      <td>1.000000</td>\n",
       "      <td>NaN</td>\n",
       "      <td>NaN</td>\n",
       "    </tr>\n",
       "  </tbody>\n",
       "</table>\n",
       "</div>"
      ],
      "text/plain": [
       "        customerID gender  SeniorCitizen Partner Dependents\n",
       "count         7043   7043    7043.000000    7043       7043\n",
       "unique        7043      2            NaN       2          2\n",
       "top     7590-VHVEG   Male            NaN      No         No\n",
       "freq             1   3555            NaN    3641       4933\n",
       "mean           NaN    NaN       0.162147     NaN        NaN\n",
       "std            NaN    NaN       0.368612     NaN        NaN\n",
       "min            NaN    NaN       0.000000     NaN        NaN\n",
       "25%            NaN    NaN       0.000000     NaN        NaN\n",
       "50%            NaN    NaN       0.000000     NaN        NaN\n",
       "75%            NaN    NaN       0.000000     NaN        NaN\n",
       "max            NaN    NaN       1.000000     NaN        NaN"
      ]
     },
     "execution_count": 11,
     "metadata": {},
     "output_type": "execute_result"
    }
   ],
   "source": [
    "df_personal.describe(include='all')"
   ]
  },
  {
   "cell_type": "code",
   "execution_count": 12,
   "id": "21e7a330",
   "metadata": {
    "scrolled": true
   },
   "outputs": [
    {
     "data": {
      "text/plain": [
       "array(['Yes', 'No'], dtype=object)"
      ]
     },
     "execution_count": 12,
     "metadata": {},
     "output_type": "execute_result"
    }
   ],
   "source": [
    "df_personal['Partner'].unique()"
   ]
  },
  {
   "cell_type": "code",
   "execution_count": 13,
   "id": "08de3aac",
   "metadata": {},
   "outputs": [
    {
     "data": {
      "text/plain": [
       "array(['No', 'Yes'], dtype=object)"
      ]
     },
     "execution_count": 13,
     "metadata": {},
     "output_type": "execute_result"
    }
   ],
   "source": [
    "df_personal['Dependents'].unique()"
   ]
  },
  {
   "cell_type": "markdown",
   "id": "cf394812",
   "metadata": {},
   "source": [
    "There are no gaps in the dataframe either. You will need to cast the values of the `gender`, `Partner` and `Dependents` columns to a binary form and type *int8*."
   ]
  },
  {
   "cell_type": "markdown",
   "id": "91376330",
   "metadata": {},
   "source": [
    "**3) Dataframe with information about Internet services**"
   ]
  },
  {
   "cell_type": "code",
   "execution_count": 14,
   "id": "662d79a3",
   "metadata": {
    "scrolled": true
   },
   "outputs": [
    {
     "data": {
      "text/html": [
       "<div>\n",
       "<style scoped>\n",
       "    .dataframe tbody tr th:only-of-type {\n",
       "        vertical-align: middle;\n",
       "    }\n",
       "\n",
       "    .dataframe tbody tr th {\n",
       "        vertical-align: top;\n",
       "    }\n",
       "\n",
       "    .dataframe thead th {\n",
       "        text-align: right;\n",
       "    }\n",
       "</style>\n",
       "<table border=\"1\" class=\"dataframe\">\n",
       "  <thead>\n",
       "    <tr style=\"text-align: right;\">\n",
       "      <th></th>\n",
       "      <th>customerID</th>\n",
       "      <th>InternetService</th>\n",
       "      <th>OnlineSecurity</th>\n",
       "      <th>OnlineBackup</th>\n",
       "      <th>DeviceProtection</th>\n",
       "      <th>TechSupport</th>\n",
       "      <th>StreamingTV</th>\n",
       "      <th>StreamingMovies</th>\n",
       "    </tr>\n",
       "  </thead>\n",
       "  <tbody>\n",
       "    <tr>\n",
       "      <th>0</th>\n",
       "      <td>7590-VHVEG</td>\n",
       "      <td>DSL</td>\n",
       "      <td>No</td>\n",
       "      <td>Yes</td>\n",
       "      <td>No</td>\n",
       "      <td>No</td>\n",
       "      <td>No</td>\n",
       "      <td>No</td>\n",
       "    </tr>\n",
       "    <tr>\n",
       "      <th>1</th>\n",
       "      <td>5575-GNVDE</td>\n",
       "      <td>DSL</td>\n",
       "      <td>Yes</td>\n",
       "      <td>No</td>\n",
       "      <td>Yes</td>\n",
       "      <td>No</td>\n",
       "      <td>No</td>\n",
       "      <td>No</td>\n",
       "    </tr>\n",
       "    <tr>\n",
       "      <th>2</th>\n",
       "      <td>3668-QPYBK</td>\n",
       "      <td>DSL</td>\n",
       "      <td>Yes</td>\n",
       "      <td>Yes</td>\n",
       "      <td>No</td>\n",
       "      <td>No</td>\n",
       "      <td>No</td>\n",
       "      <td>No</td>\n",
       "    </tr>\n",
       "    <tr>\n",
       "      <th>3</th>\n",
       "      <td>7795-CFOCW</td>\n",
       "      <td>DSL</td>\n",
       "      <td>Yes</td>\n",
       "      <td>No</td>\n",
       "      <td>Yes</td>\n",
       "      <td>Yes</td>\n",
       "      <td>No</td>\n",
       "      <td>No</td>\n",
       "    </tr>\n",
       "    <tr>\n",
       "      <th>4</th>\n",
       "      <td>9237-HQITU</td>\n",
       "      <td>Fiber optic</td>\n",
       "      <td>No</td>\n",
       "      <td>No</td>\n",
       "      <td>No</td>\n",
       "      <td>No</td>\n",
       "      <td>No</td>\n",
       "      <td>No</td>\n",
       "    </tr>\n",
       "  </tbody>\n",
       "</table>\n",
       "</div>"
      ],
      "text/plain": [
       "   customerID InternetService OnlineSecurity OnlineBackup DeviceProtection  \\\n",
       "0  7590-VHVEG             DSL             No          Yes               No   \n",
       "1  5575-GNVDE             DSL            Yes           No              Yes   \n",
       "2  3668-QPYBK             DSL            Yes          Yes               No   \n",
       "3  7795-CFOCW             DSL            Yes           No              Yes   \n",
       "4  9237-HQITU     Fiber optic             No           No               No   \n",
       "\n",
       "  TechSupport StreamingTV StreamingMovies  \n",
       "0          No          No              No  \n",
       "1          No          No              No  \n",
       "2          No          No              No  \n",
       "3         Yes          No              No  \n",
       "4          No          No              No  "
      ]
     },
     "execution_count": 14,
     "metadata": {},
     "output_type": "execute_result"
    }
   ],
   "source": [
    "try: \n",
    "    df_internet = pd.read_csv('internet.csv')\n",
    "except: \n",
    "    df_internet = pd.read_csv('/datasets/final_provider/internet.csv')\n",
    "    \n",
    "df_internet.head()"
   ]
  },
  {
   "cell_type": "code",
   "execution_count": 15,
   "id": "aca3c86e",
   "metadata": {},
   "outputs": [
    {
     "name": "stdout",
     "output_type": "stream",
     "text": [
      "<class 'pandas.core.frame.DataFrame'>\n",
      "RangeIndex: 5517 entries, 0 to 5516\n",
      "Data columns (total 8 columns):\n",
      " #   Column            Non-Null Count  Dtype \n",
      "---  ------            --------------  ----- \n",
      " 0   customerID        5517 non-null   object\n",
      " 1   InternetService   5517 non-null   object\n",
      " 2   OnlineSecurity    5517 non-null   object\n",
      " 3   OnlineBackup      5517 non-null   object\n",
      " 4   DeviceProtection  5517 non-null   object\n",
      " 5   TechSupport       5517 non-null   object\n",
      " 6   StreamingTV       5517 non-null   object\n",
      " 7   StreamingMovies   5517 non-null   object\n",
      "dtypes: object(8)\n",
      "memory usage: 344.9+ KB\n"
     ]
    }
   ],
   "source": [
    "df_internet.info()"
   ]
  },
  {
   "cell_type": "code",
   "execution_count": 16,
   "id": "634f9ec5",
   "metadata": {
    "scrolled": false
   },
   "outputs": [
    {
     "data": {
      "text/html": [
       "<div>\n",
       "<style scoped>\n",
       "    .dataframe tbody tr th:only-of-type {\n",
       "        vertical-align: middle;\n",
       "    }\n",
       "\n",
       "    .dataframe tbody tr th {\n",
       "        vertical-align: top;\n",
       "    }\n",
       "\n",
       "    .dataframe thead th {\n",
       "        text-align: right;\n",
       "    }\n",
       "</style>\n",
       "<table border=\"1\" class=\"dataframe\">\n",
       "  <thead>\n",
       "    <tr style=\"text-align: right;\">\n",
       "      <th></th>\n",
       "      <th>customerID</th>\n",
       "      <th>InternetService</th>\n",
       "      <th>OnlineSecurity</th>\n",
       "      <th>OnlineBackup</th>\n",
       "      <th>DeviceProtection</th>\n",
       "      <th>TechSupport</th>\n",
       "      <th>StreamingTV</th>\n",
       "      <th>StreamingMovies</th>\n",
       "    </tr>\n",
       "  </thead>\n",
       "  <tbody>\n",
       "    <tr>\n",
       "      <th>count</th>\n",
       "      <td>5517</td>\n",
       "      <td>5517</td>\n",
       "      <td>5517</td>\n",
       "      <td>5517</td>\n",
       "      <td>5517</td>\n",
       "      <td>5517</td>\n",
       "      <td>5517</td>\n",
       "      <td>5517</td>\n",
       "    </tr>\n",
       "    <tr>\n",
       "      <th>unique</th>\n",
       "      <td>5517</td>\n",
       "      <td>2</td>\n",
       "      <td>2</td>\n",
       "      <td>2</td>\n",
       "      <td>2</td>\n",
       "      <td>2</td>\n",
       "      <td>2</td>\n",
       "      <td>2</td>\n",
       "    </tr>\n",
       "    <tr>\n",
       "      <th>top</th>\n",
       "      <td>7590-VHVEG</td>\n",
       "      <td>Fiber optic</td>\n",
       "      <td>No</td>\n",
       "      <td>No</td>\n",
       "      <td>No</td>\n",
       "      <td>No</td>\n",
       "      <td>No</td>\n",
       "      <td>No</td>\n",
       "    </tr>\n",
       "    <tr>\n",
       "      <th>freq</th>\n",
       "      <td>1</td>\n",
       "      <td>3096</td>\n",
       "      <td>3498</td>\n",
       "      <td>3088</td>\n",
       "      <td>3095</td>\n",
       "      <td>3473</td>\n",
       "      <td>2810</td>\n",
       "      <td>2785</td>\n",
       "    </tr>\n",
       "  </tbody>\n",
       "</table>\n",
       "</div>"
      ],
      "text/plain": [
       "        customerID InternetService OnlineSecurity OnlineBackup  \\\n",
       "count         5517            5517           5517         5517   \n",
       "unique        5517               2              2            2   \n",
       "top     7590-VHVEG     Fiber optic             No           No   \n",
       "freq             1            3096           3498         3088   \n",
       "\n",
       "       DeviceProtection TechSupport StreamingTV StreamingMovies  \n",
       "count              5517        5517        5517            5517  \n",
       "unique                2           2           2               2  \n",
       "top                  No          No          No              No  \n",
       "freq               3095        3473        2810            2785  "
      ]
     },
     "execution_count": 16,
     "metadata": {},
     "output_type": "execute_result"
    }
   ],
   "source": [
    "df_internet.describe(include='all')"
   ]
  },
  {
   "cell_type": "code",
   "execution_count": 17,
   "id": "84ef972a",
   "metadata": {},
   "outputs": [
    {
     "data": {
      "text/plain": [
       "array(['DSL', 'Fiber optic'], dtype=object)"
      ]
     },
     "execution_count": 17,
     "metadata": {},
     "output_type": "execute_result"
    }
   ],
   "source": [
    "df_internet['InternetService'].unique()"
   ]
  },
  {
   "cell_type": "markdown",
   "id": "3565faf4",
   "metadata": {},
   "source": [
    "This dataframe contains 1526 fewer objects than dataframes with information about contracts and personal data. It is possible that clients not included in this dataframe did not use the Internet service. This point must be clarified with the customer."
   ]
  },
  {
   "cell_type": "markdown",
   "id": "f2af7fb7",
   "metadata": {},
   "source": [
    "**4) Dataframe with information about telephony services**"
   ]
  },
  {
   "cell_type": "code",
   "execution_count": 18,
   "id": "ad80bd8e",
   "metadata": {
    "scrolled": true
   },
   "outputs": [
    {
     "data": {
      "text/html": [
       "<div>\n",
       "<style scoped>\n",
       "    .dataframe tbody tr th:only-of-type {\n",
       "        vertical-align: middle;\n",
       "    }\n",
       "\n",
       "    .dataframe tbody tr th {\n",
       "        vertical-align: top;\n",
       "    }\n",
       "\n",
       "    .dataframe thead th {\n",
       "        text-align: right;\n",
       "    }\n",
       "</style>\n",
       "<table border=\"1\" class=\"dataframe\">\n",
       "  <thead>\n",
       "    <tr style=\"text-align: right;\">\n",
       "      <th></th>\n",
       "      <th>customerID</th>\n",
       "      <th>MultipleLines</th>\n",
       "    </tr>\n",
       "  </thead>\n",
       "  <tbody>\n",
       "    <tr>\n",
       "      <th>0</th>\n",
       "      <td>5575-GNVDE</td>\n",
       "      <td>No</td>\n",
       "    </tr>\n",
       "    <tr>\n",
       "      <th>1</th>\n",
       "      <td>3668-QPYBK</td>\n",
       "      <td>No</td>\n",
       "    </tr>\n",
       "    <tr>\n",
       "      <th>2</th>\n",
       "      <td>9237-HQITU</td>\n",
       "      <td>No</td>\n",
       "    </tr>\n",
       "    <tr>\n",
       "      <th>3</th>\n",
       "      <td>9305-CDSKC</td>\n",
       "      <td>Yes</td>\n",
       "    </tr>\n",
       "    <tr>\n",
       "      <th>4</th>\n",
       "      <td>1452-KIOVK</td>\n",
       "      <td>Yes</td>\n",
       "    </tr>\n",
       "  </tbody>\n",
       "</table>\n",
       "</div>"
      ],
      "text/plain": [
       "   customerID MultipleLines\n",
       "0  5575-GNVDE            No\n",
       "1  3668-QPYBK            No\n",
       "2  9237-HQITU            No\n",
       "3  9305-CDSKC           Yes\n",
       "4  1452-KIOVK           Yes"
      ]
     },
     "execution_count": 18,
     "metadata": {},
     "output_type": "execute_result"
    }
   ],
   "source": [
    "try: \n",
    "    df_phone = pd.read_csv('phone.csv')\n",
    "except: \n",
    "    df_phone = pd.read_csv('/datasets/final_provider/phone.csv')\n",
    "    \n",
    "df_phone.head()"
   ]
  },
  {
   "cell_type": "code",
   "execution_count": 19,
   "id": "aa010e6a",
   "metadata": {
    "scrolled": true
   },
   "outputs": [
    {
     "name": "stdout",
     "output_type": "stream",
     "text": [
      "<class 'pandas.core.frame.DataFrame'>\n",
      "RangeIndex: 6361 entries, 0 to 6360\n",
      "Data columns (total 2 columns):\n",
      " #   Column         Non-Null Count  Dtype \n",
      "---  ------         --------------  ----- \n",
      " 0   customerID     6361 non-null   object\n",
      " 1   MultipleLines  6361 non-null   object\n",
      "dtypes: object(2)\n",
      "memory usage: 99.5+ KB\n"
     ]
    }
   ],
   "source": [
    "df_phone.info()"
   ]
  },
  {
   "cell_type": "code",
   "execution_count": 20,
   "id": "83aa9655",
   "metadata": {
    "scrolled": true
   },
   "outputs": [
    {
     "data": {
      "text/html": [
       "<div>\n",
       "<style scoped>\n",
       "    .dataframe tbody tr th:only-of-type {\n",
       "        vertical-align: middle;\n",
       "    }\n",
       "\n",
       "    .dataframe tbody tr th {\n",
       "        vertical-align: top;\n",
       "    }\n",
       "\n",
       "    .dataframe thead th {\n",
       "        text-align: right;\n",
       "    }\n",
       "</style>\n",
       "<table border=\"1\" class=\"dataframe\">\n",
       "  <thead>\n",
       "    <tr style=\"text-align: right;\">\n",
       "      <th></th>\n",
       "      <th>customerID</th>\n",
       "      <th>MultipleLines</th>\n",
       "    </tr>\n",
       "  </thead>\n",
       "  <tbody>\n",
       "    <tr>\n",
       "      <th>count</th>\n",
       "      <td>6361</td>\n",
       "      <td>6361</td>\n",
       "    </tr>\n",
       "    <tr>\n",
       "      <th>unique</th>\n",
       "      <td>6361</td>\n",
       "      <td>2</td>\n",
       "    </tr>\n",
       "    <tr>\n",
       "      <th>top</th>\n",
       "      <td>5575-GNVDE</td>\n",
       "      <td>No</td>\n",
       "    </tr>\n",
       "    <tr>\n",
       "      <th>freq</th>\n",
       "      <td>1</td>\n",
       "      <td>3390</td>\n",
       "    </tr>\n",
       "  </tbody>\n",
       "</table>\n",
       "</div>"
      ],
      "text/plain": [
       "        customerID MultipleLines\n",
       "count         6361          6361\n",
       "unique        6361             2\n",
       "top     5575-GNVDE            No\n",
       "freq             1          3390"
      ]
     },
     "execution_count": 20,
     "metadata": {},
     "output_type": "execute_result"
    }
   ],
   "source": [
    "df_phone.describe(include='all')"
   ]
  },
  {
   "cell_type": "markdown",
   "id": "38816ec4",
   "metadata": {},
   "source": [
    "This dataframe contains 682 fewer objects than dataframes with information about contracts and personal data. It is possible that clients not included in this dataframe did not use Landline Telephony. This point must be clarified with the customer."
   ]
  },
  {
   "cell_type": "markdown",
   "id": "03e15768",
   "metadata": {},
   "source": [
    "## Work plan"
   ]
  },
  {
   "cell_type": "markdown",
   "id": "b33479c7",
   "metadata": {},
   "source": [
    "This work consists of the following steps:  \n",
    "1) Data preprocessing in datasets:  \n",
    "- in the dataframe with information about contracts, change the data type of the `BeginDate` and `EndDate` columns from *object* to *datetime*, and the `TotalCharges` column from *object* type to *float* type, form the target attribute \"Exited\" and a new attribute - how long in days a person has been a client. Let's remove signs with dates.  \n",
    "\n",
    "\n",
    "2) Combining dataframes and preprocessing a single dataframe:  \n",
    "- we will form features that reflect whether the client used Internet and telephony services and remove insignificant features with details of each service;  \n",
    "- let's bring all binary signs to the numeric type *int*;  \n",
    "- check and process omissions and anomalies;  \n",
    "- perform OHE feature coding for the logistic regression model;  \n",
    "- check the sample for class imbalance and take it into account when training models;  \n",
    "- explore the multicollinearity of features.\n",
    "\n",
    "3) Divide the dataframe into training and test samples in the ratio of 75% / 25%, respectively.  \n",
    "\n",
    "4) Train different models on the data and find the best AUC-ROC metric using cross-validation:  \n",
    "- LogisticRegression  \n",
    "- LGBMClassifier  \n",
    "- Cat Boost Classifier  \n",
    "\n",
    "4) Model testing:  \n",
    "- we will conduct final testing of the best model on a test sample;  \n",
    "- explore the importance of features and the error matrix for the best model.  \n",
    "\n",
    "5) Summarize the results of the study and write a general conclusion.  "
   ]
  },
  {
   "cell_type": "markdown",
   "id": "50dcff82",
   "metadata": {},
   "source": [
    "## Data preprocessing"
   ]
  },
  {
   "cell_type": "markdown",
   "id": "78794fbd",
   "metadata": {},
   "source": [
    "### `Contract` dataframe with information about contracts"
   ]
  },
  {
   "cell_type": "markdown",
   "id": "2b17fc93",
   "metadata": {},
   "source": [
    "Let's form the target feature in the `Exited` column with the following values:  \n",
    "1 - if the client has left the telecom operator (the `EndDate` column contains the end date of the contract),  \n",
    "0 - the client has not left the telecom operator (in the `EndDate` column, the value is No)  "
   ]
  },
  {
   "cell_type": "code",
   "execution_count": 21,
   "id": "eae3c9f5",
   "metadata": {},
   "outputs": [
    {
     "data": {
      "text/plain": [
       "array(['No', '2019-12-01 00:00:00', '2019-11-01 00:00:00',\n",
       "       '2019-10-01 00:00:00', '2020-01-01 00:00:00'], dtype=object)"
      ]
     },
     "execution_count": 21,
     "metadata": {},
     "output_type": "execute_result"
    }
   ],
   "source": [
    "df_contract['EndDate'].unique()"
   ]
  },
  {
   "cell_type": "code",
   "execution_count": 22,
   "id": "c980cdea",
   "metadata": {
    "scrolled": true
   },
   "outputs": [],
   "source": [
    "df_contract['Exited'] = np.where(df_contract['EndDate'] == 'No', 0, 1)"
   ]
  },
  {
   "cell_type": "markdown",
   "id": "4eaa9174",
   "metadata": {},
   "source": [
    "Let's convert the sign `PaperlessBilling` to a binary format."
   ]
  },
  {
   "cell_type": "code",
   "execution_count": 23,
   "id": "cbe0cdc6",
   "metadata": {},
   "outputs": [],
   "source": [
    "df_contract['PaperlessBilling'] = np.where(df_contract['PaperlessBilling'] == 'No', 0, 1)"
   ]
  },
  {
   "cell_type": "markdown",
   "id": "d6cc55bb",
   "metadata": {},
   "source": [
    "Fill in all the fields of the `EndDate` column with the value `No` and the value `2020-02-01`, that is, the client did not terminate the contract."
   ]
  },
  {
   "cell_type": "code",
   "execution_count": 24,
   "id": "30d401e6",
   "metadata": {},
   "outputs": [],
   "source": [
    "df_contract['EndDate'] = df_contract['EndDate'].replace('No', '2020-02-01')"
   ]
  },
  {
   "cell_type": "markdown",
   "id": "04b095fc",
   "metadata": {},
   "source": [
    "Let's change the data type of the `BeginDate` and `EndDate` columns from object to datetime, and the `TotalCharges` column from type *object* to type *float*."
   ]
  },
  {
   "cell_type": "code",
   "execution_count": 25,
   "id": "98b9627e",
   "metadata": {},
   "outputs": [],
   "source": [
    "df_contract['BeginDate'] = pd.to_datetime(df_contract['BeginDate'])\n",
    "df_contract['EndDate'] = pd.to_datetime(df_contract['EndDate'])\n",
    "df_contract['TotalCharges'] = pd.to_numeric(df_contract['TotalCharges'], errors='coerce')\n",
    "df_contract = df_contract.astype({'PaperlessBilling': 'int8', 'Exited': 'int8'})"
   ]
  },
  {
   "cell_type": "markdown",
   "id": "f467505b",
   "metadata": {},
   "source": [
    "In the `Duration` column, we will create a new feature - how long in days a person has been a client. Then we remove the `BeginDate` and `EndDate` columns."
   ]
  },
  {
   "cell_type": "code",
   "execution_count": 26,
   "id": "63cbf361",
   "metadata": {
    "scrolled": false
   },
   "outputs": [],
   "source": [
    "df_contract['Duration'] = df_contract['EndDate'] - df_contract['BeginDate']\n",
    "df_contract['Days'] = df_contract['Duration'].dt.days.astype('int32')\n",
    "df_contract = df_contract.drop(['EndDate', 'BeginDate', 'Duration'], axis=1)"
   ]
  },
  {
   "cell_type": "markdown",
   "id": "a138ed6e",
   "metadata": {},
   "source": [
    "Let's set the `customerID` column as an index, since it is common to all four dataframes."
   ]
  },
  {
   "cell_type": "code",
   "execution_count": 27,
   "id": "65741d54",
   "metadata": {},
   "outputs": [
    {
     "data": {
      "text/html": [
       "<div>\n",
       "<style scoped>\n",
       "    .dataframe tbody tr th:only-of-type {\n",
       "        vertical-align: middle;\n",
       "    }\n",
       "\n",
       "    .dataframe tbody tr th {\n",
       "        vertical-align: top;\n",
       "    }\n",
       "\n",
       "    .dataframe thead th {\n",
       "        text-align: right;\n",
       "    }\n",
       "</style>\n",
       "<table border=\"1\" class=\"dataframe\">\n",
       "  <thead>\n",
       "    <tr style=\"text-align: right;\">\n",
       "      <th></th>\n",
       "      <th>Type</th>\n",
       "      <th>PaperlessBilling</th>\n",
       "      <th>PaymentMethod</th>\n",
       "      <th>MonthlyCharges</th>\n",
       "      <th>TotalCharges</th>\n",
       "      <th>Exited</th>\n",
       "      <th>Days</th>\n",
       "    </tr>\n",
       "    <tr>\n",
       "      <th>customerID</th>\n",
       "      <th></th>\n",
       "      <th></th>\n",
       "      <th></th>\n",
       "      <th></th>\n",
       "      <th></th>\n",
       "      <th></th>\n",
       "      <th></th>\n",
       "    </tr>\n",
       "  </thead>\n",
       "  <tbody>\n",
       "    <tr>\n",
       "      <th>7590-VHVEG</th>\n",
       "      <td>Month-to-month</td>\n",
       "      <td>1</td>\n",
       "      <td>Electronic check</td>\n",
       "      <td>29.85</td>\n",
       "      <td>29.85</td>\n",
       "      <td>0</td>\n",
       "      <td>31</td>\n",
       "    </tr>\n",
       "    <tr>\n",
       "      <th>5575-GNVDE</th>\n",
       "      <td>One year</td>\n",
       "      <td>0</td>\n",
       "      <td>Mailed check</td>\n",
       "      <td>56.95</td>\n",
       "      <td>1889.50</td>\n",
       "      <td>0</td>\n",
       "      <td>1036</td>\n",
       "    </tr>\n",
       "    <tr>\n",
       "      <th>3668-QPYBK</th>\n",
       "      <td>Month-to-month</td>\n",
       "      <td>1</td>\n",
       "      <td>Mailed check</td>\n",
       "      <td>53.85</td>\n",
       "      <td>108.15</td>\n",
       "      <td>1</td>\n",
       "      <td>61</td>\n",
       "    </tr>\n",
       "    <tr>\n",
       "      <th>7795-CFOCW</th>\n",
       "      <td>One year</td>\n",
       "      <td>0</td>\n",
       "      <td>Bank transfer (automatic)</td>\n",
       "      <td>42.30</td>\n",
       "      <td>1840.75</td>\n",
       "      <td>0</td>\n",
       "      <td>1371</td>\n",
       "    </tr>\n",
       "    <tr>\n",
       "      <th>9237-HQITU</th>\n",
       "      <td>Month-to-month</td>\n",
       "      <td>1</td>\n",
       "      <td>Electronic check</td>\n",
       "      <td>70.70</td>\n",
       "      <td>151.65</td>\n",
       "      <td>1</td>\n",
       "      <td>61</td>\n",
       "    </tr>\n",
       "  </tbody>\n",
       "</table>\n",
       "</div>"
      ],
      "text/plain": [
       "                      Type  PaperlessBilling              PaymentMethod  \\\n",
       "customerID                                                                \n",
       "7590-VHVEG  Month-to-month                 1           Electronic check   \n",
       "5575-GNVDE        One year                 0               Mailed check   \n",
       "3668-QPYBK  Month-to-month                 1               Mailed check   \n",
       "7795-CFOCW        One year                 0  Bank transfer (automatic)   \n",
       "9237-HQITU  Month-to-month                 1           Electronic check   \n",
       "\n",
       "            MonthlyCharges  TotalCharges  Exited  Days  \n",
       "customerID                                              \n",
       "7590-VHVEG           29.85         29.85       0    31  \n",
       "5575-GNVDE           56.95       1889.50       0  1036  \n",
       "3668-QPYBK           53.85        108.15       1    61  \n",
       "7795-CFOCW           42.30       1840.75       0  1371  \n",
       "9237-HQITU           70.70        151.65       1    61  "
      ]
     },
     "execution_count": 27,
     "metadata": {},
     "output_type": "execute_result"
    }
   ],
   "source": [
    "df_contract = df_contract.set_index('customerID')\n",
    "df_contract.head()"
   ]
  },
  {
   "cell_type": "code",
   "execution_count": 28,
   "id": "49cebe2b",
   "metadata": {},
   "outputs": [
    {
     "name": "stdout",
     "output_type": "stream",
     "text": [
      "<class 'pandas.core.frame.DataFrame'>\n",
      "Index: 7043 entries, 7590-VHVEG to 3186-AJIEK\n",
      "Data columns (total 7 columns):\n",
      " #   Column            Non-Null Count  Dtype  \n",
      "---  ------            --------------  -----  \n",
      " 0   Type              7043 non-null   object \n",
      " 1   PaperlessBilling  7043 non-null   int8   \n",
      " 2   PaymentMethod     7043 non-null   object \n",
      " 3   MonthlyCharges    7043 non-null   float64\n",
      " 4   TotalCharges      7032 non-null   float64\n",
      " 5   Exited            7043 non-null   int8   \n",
      " 6   Days              7043 non-null   int32  \n",
      "dtypes: float64(2), int32(1), int8(2), object(2)\n",
      "memory usage: 316.4+ KB\n"
     ]
    }
   ],
   "source": [
    "df_contract.info()"
   ]
  },
  {
   "cell_type": "markdown",
   "id": "84458840",
   "metadata": {},
   "source": [
    "### Dataframe `personal` with personal data of clients"
   ]
  },
  {
   "cell_type": "markdown",
   "id": "1d3f1dcb",
   "metadata": {},
   "source": [
    "Let's convert the values of the `gender`, `Partner` and `Dependents` columns to a binary form."
   ]
  },
  {
   "cell_type": "code",
   "execution_count": 29,
   "id": "300aba0c",
   "metadata": {},
   "outputs": [],
   "source": [
    "df_personal['gender'] = np.where(df_personal['gender'] == 'Male', 0, 1).astype('int8')\n",
    "df_personal['Partner'] = np.where(df_personal['Partner'] == 'No', 0, 1).astype('int8')\n",
    "df_personal['Dependents'] = np.where(df_personal['Dependents'] == 'No', 0, 1).astype('int8')\n",
    "df_personal['SeniorCitizen'] = df_personal['SeniorCitizen'].astype('int8')"
   ]
  },
  {
   "cell_type": "markdown",
   "id": "7cff2d7e",
   "metadata": {},
   "source": [
    "Let's set the customerID column as an index."
   ]
  },
  {
   "cell_type": "code",
   "execution_count": 30,
   "id": "d37ae7ec",
   "metadata": {},
   "outputs": [
    {
     "data": {
      "text/html": [
       "<div>\n",
       "<style scoped>\n",
       "    .dataframe tbody tr th:only-of-type {\n",
       "        vertical-align: middle;\n",
       "    }\n",
       "\n",
       "    .dataframe tbody tr th {\n",
       "        vertical-align: top;\n",
       "    }\n",
       "\n",
       "    .dataframe thead th {\n",
       "        text-align: right;\n",
       "    }\n",
       "</style>\n",
       "<table border=\"1\" class=\"dataframe\">\n",
       "  <thead>\n",
       "    <tr style=\"text-align: right;\">\n",
       "      <th></th>\n",
       "      <th>gender</th>\n",
       "      <th>SeniorCitizen</th>\n",
       "      <th>Partner</th>\n",
       "      <th>Dependents</th>\n",
       "    </tr>\n",
       "    <tr>\n",
       "      <th>customerID</th>\n",
       "      <th></th>\n",
       "      <th></th>\n",
       "      <th></th>\n",
       "      <th></th>\n",
       "    </tr>\n",
       "  </thead>\n",
       "  <tbody>\n",
       "    <tr>\n",
       "      <th>7590-VHVEG</th>\n",
       "      <td>1</td>\n",
       "      <td>0</td>\n",
       "      <td>1</td>\n",
       "      <td>0</td>\n",
       "    </tr>\n",
       "    <tr>\n",
       "      <th>5575-GNVDE</th>\n",
       "      <td>0</td>\n",
       "      <td>0</td>\n",
       "      <td>0</td>\n",
       "      <td>0</td>\n",
       "    </tr>\n",
       "    <tr>\n",
       "      <th>3668-QPYBK</th>\n",
       "      <td>0</td>\n",
       "      <td>0</td>\n",
       "      <td>0</td>\n",
       "      <td>0</td>\n",
       "    </tr>\n",
       "    <tr>\n",
       "      <th>7795-CFOCW</th>\n",
       "      <td>0</td>\n",
       "      <td>0</td>\n",
       "      <td>0</td>\n",
       "      <td>0</td>\n",
       "    </tr>\n",
       "    <tr>\n",
       "      <th>9237-HQITU</th>\n",
       "      <td>1</td>\n",
       "      <td>0</td>\n",
       "      <td>0</td>\n",
       "      <td>0</td>\n",
       "    </tr>\n",
       "  </tbody>\n",
       "</table>\n",
       "</div>"
      ],
      "text/plain": [
       "            gender  SeniorCitizen  Partner  Dependents\n",
       "customerID                                            \n",
       "7590-VHVEG       1              0        1           0\n",
       "5575-GNVDE       0              0        0           0\n",
       "3668-QPYBK       0              0        0           0\n",
       "7795-CFOCW       0              0        0           0\n",
       "9237-HQITU       1              0        0           0"
      ]
     },
     "execution_count": 30,
     "metadata": {},
     "output_type": "execute_result"
    }
   ],
   "source": [
    "df_personal = df_personal.set_index('customerID')\n",
    "df_personal.head()"
   ]
  },
  {
   "cell_type": "markdown",
   "id": "19c182b6",
   "metadata": {},
   "source": [
    "### `Internet` dataframe with information about Internet services"
   ]
  },
  {
   "cell_type": "markdown",
   "id": "b08d6b1a",
   "metadata": {},
   "source": [
    "Let's create a sign of the presence of the Internet service `isInternetService`. We will remove the remaining insignificant signs."
   ]
  },
  {
   "cell_type": "code",
   "execution_count": 31,
   "id": "e8ac5328",
   "metadata": {},
   "outputs": [],
   "source": [
    "df_internet = df_internet.set_index('customerID')\n",
    "df_internet['isInternetService'] = 1\n",
    "df_internet = df_internet['isInternetService']"
   ]
  },
  {
   "cell_type": "markdown",
   "id": "a8f40d24",
   "metadata": {},
   "source": [
    "### Dataframe `phone` with information about telephony services"
   ]
  },
  {
   "cell_type": "markdown",
   "id": "7a874306",
   "metadata": {},
   "source": [
    "Let's create a sign of the presence of the telephony service `isPhone`. We will remove the remaining insignificant signs."
   ]
  },
  {
   "cell_type": "code",
   "execution_count": 32,
   "id": "033e846a",
   "metadata": {},
   "outputs": [],
   "source": [
    "df_phone = df_phone.set_index('customerID')\n",
    "df_phone['isPhone'] = 1\n",
    "df_phone = df_phone['isPhone']"
   ]
  },
  {
   "cell_type": "markdown",
   "id": "3ce47912",
   "metadata": {},
   "source": [
    "### Combining dataframes. Preprocessing of the combined dataframe."
   ]
  },
  {
   "cell_type": "markdown",
   "id": "b3c3132c",
   "metadata": {},
   "source": [
    "Let's merge four dataframes into one."
   ]
  },
  {
   "cell_type": "code",
   "execution_count": 33,
   "id": "63a177e4",
   "metadata": {},
   "outputs": [],
   "source": [
    "merged_df = df_contract.join([df_personal, df_internet, df_phone])"
   ]
  },
  {
   "cell_type": "code",
   "execution_count": 34,
   "id": "939afa2d",
   "metadata": {},
   "outputs": [
    {
     "name": "stdout",
     "output_type": "stream",
     "text": [
      "<class 'pandas.core.frame.DataFrame'>\n",
      "Index: 7043 entries, 7590-VHVEG to 3186-AJIEK\n",
      "Data columns (total 13 columns):\n",
      " #   Column             Non-Null Count  Dtype  \n",
      "---  ------             --------------  -----  \n",
      " 0   Type               7043 non-null   object \n",
      " 1   PaperlessBilling   7043 non-null   int8   \n",
      " 2   PaymentMethod      7043 non-null   object \n",
      " 3   MonthlyCharges     7043 non-null   float64\n",
      " 4   TotalCharges       7032 non-null   float64\n",
      " 5   Exited             7043 non-null   int8   \n",
      " 6   Days               7043 non-null   int32  \n",
      " 7   gender             7043 non-null   int8   \n",
      " 8   SeniorCitizen      7043 non-null   int8   \n",
      " 9   Partner            7043 non-null   int8   \n",
      " 10  Dependents         7043 non-null   int8   \n",
      " 11  isInternetService  5517 non-null   float64\n",
      " 12  isPhone            6361 non-null   float64\n",
      "dtypes: float64(4), int32(1), int8(6), object(2)\n",
      "memory usage: 453.9+ KB\n"
     ]
    }
   ],
   "source": [
    "merged_df.info()"
   ]
  },
  {
   "cell_type": "markdown",
   "id": "7758f1ad",
   "metadata": {},
   "source": [
    "Fill in the gaps in the `isInternetService` and `isPhone` columns with zeros, which will indicate the absence of these services from clients."
   ]
  },
  {
   "cell_type": "code",
   "execution_count": 35,
   "id": "126dadc3",
   "metadata": {},
   "outputs": [],
   "source": [
    "merged_df[['isInternetService', 'isPhone']] = merged_df[['isInternetService', 'isPhone']].fillna(0)\n",
    "merged_df = merged_df.astype({'isInternetService': 'int8', 'isPhone': 'int8'})"
   ]
  },
  {
   "cell_type": "markdown",
   "id": "66adf0ba",
   "metadata": {},
   "source": [
    "Let's delete the rows with gaps in the `TotalCharges` column, since we have no way to fill them."
   ]
  },
  {
   "cell_type": "code",
   "execution_count": 36,
   "id": "0856203a",
   "metadata": {
    "scrolled": true
   },
   "outputs": [
    {
     "data": {
      "text/plain": [
       "Type                 0\n",
       "PaperlessBilling     0\n",
       "PaymentMethod        0\n",
       "MonthlyCharges       0\n",
       "TotalCharges         0\n",
       "Exited               0\n",
       "Days                 0\n",
       "gender               0\n",
       "SeniorCitizen        0\n",
       "Partner              0\n",
       "Dependents           0\n",
       "isInternetService    0\n",
       "isPhone              0\n",
       "dtype: int64"
      ]
     },
     "execution_count": 36,
     "metadata": {},
     "output_type": "execute_result"
    }
   ],
   "source": [
    "merged_df = merged_df.dropna()\n",
    "merged_df.isna().sum()"
   ]
  },
  {
   "cell_type": "markdown",
   "id": "0ec560a7",
   "metadata": {},
   "source": [
    "Check the dataframe for duplicate rows."
   ]
  },
  {
   "cell_type": "code",
   "execution_count": 37,
   "id": "ff72b994",
   "metadata": {},
   "outputs": [
    {
     "name": "stdout",
     "output_type": "stream",
     "text": [
      "The table has 19 duplicate rows.\n"
     ]
    }
   ],
   "source": [
    "print(f'The table has {merged_df.duplicated().sum()} duplicate rows.')"
   ]
  },
  {
   "cell_type": "markdown",
   "id": "c0b75532",
   "metadata": {},
   "source": [
    "Remove duplicate lines."
   ]
  },
  {
   "cell_type": "code",
   "execution_count": 38,
   "id": "821987bb",
   "metadata": {},
   "outputs": [],
   "source": [
    "merged_df = merged_df.drop_duplicates()"
   ]
  },
  {
   "cell_type": "markdown",
   "id": "dd6b3a8b",
   "metadata": {},
   "source": [
    "By conducting an exploratory analysis of the dataframe data separately, we made sure that there are no implicit duplicates in the columns."
   ]
  },
  {
   "cell_type": "markdown",
   "id": "0abaa874",
   "metadata": {},
   "source": [
    "We examine the dataframe for anomalies and outliers."
   ]
  },
  {
   "cell_type": "code",
   "execution_count": 39,
   "id": "a7f9513c",
   "metadata": {
    "scrolled": false
   },
   "outputs": [
    {
     "data": {
      "text/html": [
       "<div>\n",
       "<style scoped>\n",
       "    .dataframe tbody tr th:only-of-type {\n",
       "        vertical-align: middle;\n",
       "    }\n",
       "\n",
       "    .dataframe tbody tr th {\n",
       "        vertical-align: top;\n",
       "    }\n",
       "\n",
       "    .dataframe thead th {\n",
       "        text-align: right;\n",
       "    }\n",
       "</style>\n",
       "<table border=\"1\" class=\"dataframe\">\n",
       "  <thead>\n",
       "    <tr style=\"text-align: right;\">\n",
       "      <th></th>\n",
       "      <th>Type</th>\n",
       "      <th>PaperlessBilling</th>\n",
       "      <th>PaymentMethod</th>\n",
       "      <th>MonthlyCharges</th>\n",
       "      <th>TotalCharges</th>\n",
       "      <th>Exited</th>\n",
       "      <th>Days</th>\n",
       "      <th>gender</th>\n",
       "      <th>SeniorCitizen</th>\n",
       "      <th>Partner</th>\n",
       "      <th>Dependents</th>\n",
       "      <th>isInternetService</th>\n",
       "      <th>isPhone</th>\n",
       "    </tr>\n",
       "  </thead>\n",
       "  <tbody>\n",
       "    <tr>\n",
       "      <th>count</th>\n",
       "      <td>7013</td>\n",
       "      <td>7013.000000</td>\n",
       "      <td>7013</td>\n",
       "      <td>7013.000000</td>\n",
       "      <td>7013.000000</td>\n",
       "      <td>7013.000000</td>\n",
       "      <td>7013.000000</td>\n",
       "      <td>7013.000000</td>\n",
       "      <td>7013.000000</td>\n",
       "      <td>7013.000000</td>\n",
       "      <td>7013.000000</td>\n",
       "      <td>7013.000000</td>\n",
       "      <td>7013.000000</td>\n",
       "    </tr>\n",
       "    <tr>\n",
       "      <th>unique</th>\n",
       "      <td>3</td>\n",
       "      <td>NaN</td>\n",
       "      <td>4</td>\n",
       "      <td>NaN</td>\n",
       "      <td>NaN</td>\n",
       "      <td>NaN</td>\n",
       "      <td>NaN</td>\n",
       "      <td>NaN</td>\n",
       "      <td>NaN</td>\n",
       "      <td>NaN</td>\n",
       "      <td>NaN</td>\n",
       "      <td>NaN</td>\n",
       "      <td>NaN</td>\n",
       "    </tr>\n",
       "    <tr>\n",
       "      <th>top</th>\n",
       "      <td>Month-to-month</td>\n",
       "      <td>NaN</td>\n",
       "      <td>Electronic check</td>\n",
       "      <td>NaN</td>\n",
       "      <td>NaN</td>\n",
       "      <td>NaN</td>\n",
       "      <td>NaN</td>\n",
       "      <td>NaN</td>\n",
       "      <td>NaN</td>\n",
       "      <td>NaN</td>\n",
       "      <td>NaN</td>\n",
       "      <td>NaN</td>\n",
       "      <td>NaN</td>\n",
       "    </tr>\n",
       "    <tr>\n",
       "      <th>freq</th>\n",
       "      <td>3856</td>\n",
       "      <td>NaN</td>\n",
       "      <td>2361</td>\n",
       "      <td>NaN</td>\n",
       "      <td>NaN</td>\n",
       "      <td>NaN</td>\n",
       "      <td>NaN</td>\n",
       "      <td>NaN</td>\n",
       "      <td>NaN</td>\n",
       "      <td>NaN</td>\n",
       "      <td>NaN</td>\n",
       "      <td>NaN</td>\n",
       "      <td>NaN</td>\n",
       "    </tr>\n",
       "    <tr>\n",
       "      <th>mean</th>\n",
       "      <td>NaN</td>\n",
       "      <td>0.593041</td>\n",
       "      <td>NaN</td>\n",
       "      <td>64.879524</td>\n",
       "      <td>2289.392243</td>\n",
       "      <td>0.265364</td>\n",
       "      <td>990.130472</td>\n",
       "      <td>0.495651</td>\n",
       "      <td>0.162698</td>\n",
       "      <td>0.483816</td>\n",
       "      <td>0.299301</td>\n",
       "      <td>0.785113</td>\n",
       "      <td>0.903037</td>\n",
       "    </tr>\n",
       "    <tr>\n",
       "      <th>std</th>\n",
       "      <td>NaN</td>\n",
       "      <td>0.491302</td>\n",
       "      <td>NaN</td>\n",
       "      <td>30.064371</td>\n",
       "      <td>2266.812153</td>\n",
       "      <td>0.441558</td>\n",
       "      <td>746.501477</td>\n",
       "      <td>0.500017</td>\n",
       "      <td>0.369116</td>\n",
       "      <td>0.499774</td>\n",
       "      <td>0.457985</td>\n",
       "      <td>0.410773</td>\n",
       "      <td>0.295928</td>\n",
       "    </tr>\n",
       "    <tr>\n",
       "      <th>min</th>\n",
       "      <td>NaN</td>\n",
       "      <td>0.000000</td>\n",
       "      <td>NaN</td>\n",
       "      <td>18.250000</td>\n",
       "      <td>18.800000</td>\n",
       "      <td>0.000000</td>\n",
       "      <td>30.000000</td>\n",
       "      <td>0.000000</td>\n",
       "      <td>0.000000</td>\n",
       "      <td>0.000000</td>\n",
       "      <td>0.000000</td>\n",
       "      <td>0.000000</td>\n",
       "      <td>0.000000</td>\n",
       "    </tr>\n",
       "    <tr>\n",
       "      <th>25%</th>\n",
       "      <td>NaN</td>\n",
       "      <td>0.000000</td>\n",
       "      <td>NaN</td>\n",
       "      <td>35.750000</td>\n",
       "      <td>406.950000</td>\n",
       "      <td>0.000000</td>\n",
       "      <td>276.000000</td>\n",
       "      <td>0.000000</td>\n",
       "      <td>0.000000</td>\n",
       "      <td>0.000000</td>\n",
       "      <td>0.000000</td>\n",
       "      <td>1.000000</td>\n",
       "      <td>1.000000</td>\n",
       "    </tr>\n",
       "    <tr>\n",
       "      <th>50%</th>\n",
       "      <td>NaN</td>\n",
       "      <td>1.000000</td>\n",
       "      <td>NaN</td>\n",
       "      <td>70.400000</td>\n",
       "      <td>1402.250000</td>\n",
       "      <td>0.000000</td>\n",
       "      <td>883.000000</td>\n",
       "      <td>0.000000</td>\n",
       "      <td>0.000000</td>\n",
       "      <td>0.000000</td>\n",
       "      <td>0.000000</td>\n",
       "      <td>1.000000</td>\n",
       "      <td>1.000000</td>\n",
       "    </tr>\n",
       "    <tr>\n",
       "      <th>75%</th>\n",
       "      <td>NaN</td>\n",
       "      <td>1.000000</td>\n",
       "      <td>NaN</td>\n",
       "      <td>89.900000</td>\n",
       "      <td>3807.350000</td>\n",
       "      <td>1.000000</td>\n",
       "      <td>1703.000000</td>\n",
       "      <td>1.000000</td>\n",
       "      <td>0.000000</td>\n",
       "      <td>1.000000</td>\n",
       "      <td>1.000000</td>\n",
       "      <td>1.000000</td>\n",
       "      <td>1.000000</td>\n",
       "    </tr>\n",
       "    <tr>\n",
       "      <th>max</th>\n",
       "      <td>NaN</td>\n",
       "      <td>1.000000</td>\n",
       "      <td>NaN</td>\n",
       "      <td>118.750000</td>\n",
       "      <td>8684.800000</td>\n",
       "      <td>1.000000</td>\n",
       "      <td>2191.000000</td>\n",
       "      <td>1.000000</td>\n",
       "      <td>1.000000</td>\n",
       "      <td>1.000000</td>\n",
       "      <td>1.000000</td>\n",
       "      <td>1.000000</td>\n",
       "      <td>1.000000</td>\n",
       "    </tr>\n",
       "  </tbody>\n",
       "</table>\n",
       "</div>"
      ],
      "text/plain": [
       "                  Type  PaperlessBilling     PaymentMethod  MonthlyCharges  \\\n",
       "count             7013       7013.000000              7013     7013.000000   \n",
       "unique               3               NaN                 4             NaN   \n",
       "top     Month-to-month               NaN  Electronic check             NaN   \n",
       "freq              3856               NaN              2361             NaN   \n",
       "mean               NaN          0.593041               NaN       64.879524   \n",
       "std                NaN          0.491302               NaN       30.064371   \n",
       "min                NaN          0.000000               NaN       18.250000   \n",
       "25%                NaN          0.000000               NaN       35.750000   \n",
       "50%                NaN          1.000000               NaN       70.400000   \n",
       "75%                NaN          1.000000               NaN       89.900000   \n",
       "max                NaN          1.000000               NaN      118.750000   \n",
       "\n",
       "        TotalCharges       Exited         Days       gender  SeniorCitizen  \\\n",
       "count    7013.000000  7013.000000  7013.000000  7013.000000    7013.000000   \n",
       "unique           NaN          NaN          NaN          NaN            NaN   \n",
       "top              NaN          NaN          NaN          NaN            NaN   \n",
       "freq             NaN          NaN          NaN          NaN            NaN   \n",
       "mean     2289.392243     0.265364   990.130472     0.495651       0.162698   \n",
       "std      2266.812153     0.441558   746.501477     0.500017       0.369116   \n",
       "min        18.800000     0.000000    30.000000     0.000000       0.000000   \n",
       "25%       406.950000     0.000000   276.000000     0.000000       0.000000   \n",
       "50%      1402.250000     0.000000   883.000000     0.000000       0.000000   \n",
       "75%      3807.350000     1.000000  1703.000000     1.000000       0.000000   \n",
       "max      8684.800000     1.000000  2191.000000     1.000000       1.000000   \n",
       "\n",
       "            Partner   Dependents  isInternetService      isPhone  \n",
       "count   7013.000000  7013.000000        7013.000000  7013.000000  \n",
       "unique          NaN          NaN                NaN          NaN  \n",
       "top             NaN          NaN                NaN          NaN  \n",
       "freq            NaN          NaN                NaN          NaN  \n",
       "mean       0.483816     0.299301           0.785113     0.903037  \n",
       "std        0.499774     0.457985           0.410773     0.295928  \n",
       "min        0.000000     0.000000           0.000000     0.000000  \n",
       "25%        0.000000     0.000000           1.000000     1.000000  \n",
       "50%        0.000000     0.000000           1.000000     1.000000  \n",
       "75%        1.000000     1.000000           1.000000     1.000000  \n",
       "max        1.000000     1.000000           1.000000     1.000000  "
      ]
     },
     "execution_count": 39,
     "metadata": {},
     "output_type": "execute_result"
    }
   ],
   "source": [
    "merged_df.describe(include='all')"
   ]
  },
  {
   "cell_type": "code",
   "execution_count": 40,
   "id": "137b2cca",
   "metadata": {},
   "outputs": [
    {
     "data": {
      "image/png": "[encoded data removed]",
      "text/plain": [
       "<Figure size 1500x1000 with 4 Axes>"
      ]
     },
     "metadata": {},
     "output_type": "display_data"
    }
   ],
   "source": [
    "merged_df[['MonthlyCharges', 'TotalCharges', 'Days']].hist(figsize=(15, 10));\n",
    "plt.suptitle(\"Histograms of the numerical parameters of the dataset\", fontsize=15);"
   ]
  },
  {
   "cell_type": "code",
   "execution_count": 41,
   "id": "cd1b01e4",
   "metadata": {},
   "outputs": [
    {
     "data": {
      "image/png": "[encoded data removed]",
      "text/plain": [
       "<Figure size 640x480 with 1 Axes>"
      ]
     },
     "metadata": {},
     "output_type": "display_data"
    }
   ],
   "source": [
    "sns.boxplot(data=merged_df[['MonthlyCharges', 'TotalCharges', 'Days']]);\n",
    "plt.suptitle('Range Diagrams of Numeric Features', fontsize=15);"
   ]
  },
  {
   "cell_type": "markdown",
   "id": "235da8d2",
   "metadata": {},
   "source": [
    "There are no anomalies and outliers of numerical values that require processing."
   ]
  },
  {
   "cell_type": "markdown",
   "id": "9755212e",
   "metadata": {},
   "source": [
    "Let's look at the class imbalance."
   ]
  },
  {
   "cell_type": "code",
   "execution_count": 42,
   "id": "17276d94",
   "metadata": {},
   "outputs": [
    {
     "data": {
      "image/png": "[encoded data removed]",
      "text/plain": [
       "<Figure size 640x480 with 1 Axes>"
      ]
     },
     "metadata": {},
     "output_type": "display_data"
    }
   ],
   "source": [
    "ax = merged_df['Exited'].value_counts(normalize=True).round(2).plot.bar(ylim=(0, 1), \n",
    "                                                                        grid=True, \n",
    "                                                                        title='Distribution of target feature classes', \n",
    "                                                                        xlabel='Class', ylabel='Share', fontsize=12)\n",
    "ax.bar_label(ax.containers[0], label_type='edge');"
   ]
  },
  {
   "cell_type": "markdown",
   "id": "a66cbada",
   "metadata": {},
   "source": [
    "There is a class imbalance. We will take this into account when splitting into training and test sets, as well as when training models."
   ]
  },
  {
   "cell_type": "markdown",
   "id": "b0d82fa4",
   "metadata": {},
   "source": [
    "We examine the sample for multicollinearity: we will build a heat map of feature correlations."
   ]
  },
  {
   "cell_type": "code",
   "execution_count": 43,
   "id": "f32ffc47",
   "metadata": {},
   "outputs": [
    {
     "name": "stdout",
     "output_type": "stream",
     "text": [
      "CPU times: total: 766 ms\n",
      "Wall time: 16min 32s\n"
     ]
    },
    {
     "data": {
      "image/png": "[encoded data removed]",
      "text/plain": [
       "<Figure size 1000x1000 with 2 Axes>"
      ]
     },
     "metadata": {},
     "output_type": "display_data"
    }
   ],
   "source": [
    "%%time\n",
    "\n",
    "df_corr = merged_df.phik_matrix(interval_cols=['Days'])\n",
    "mask = np.zeros_like(df_corr)\n",
    "mask[np.triu_indices_from(mask)] = True\n",
    "with sns.axes_style(\"white\"):\n",
    "    f, ax = plt.subplots(figsize=(10, 10))\n",
    "    plt.suptitle('Feature correlation matrix', fontsize=15);\n",
    "    ax = sns.heatmap(df_corr, mask=mask, square=True, annot=True, linewidths=3, linecolor='white')"
   ]
  },
  {
   "cell_type": "markdown",
   "id": "b2919cb9",
   "metadata": {},
   "source": [
    "Let's write a function **get_correl** that will display the correlated columns and their coefficient depending on the correlation threshold.\n",
    "The function takes as input:\n",
    "- correlation threshold value,\n",
    "- matrix of correlation coefficients of features\n",
    "\n",
    "The function returns: pairs of correlated features and their coefficient, if it is above the threshold."
   ]
  },
  {
   "cell_type": "code",
   "execution_count": 44,
   "id": "aaee14c6",
   "metadata": {},
   "outputs": [],
   "source": [
    "def get_correl(thresh, cor):\n",
    "    c1 = cor.stack().sort_values(ascending=False).drop_duplicates()\n",
    "    all_cor = c1[c1.values != 1]\n",
    "    return all_cor[abs(all_cor) > thresh]"
   ]
  },
  {
   "cell_type": "markdown",
   "id": "77e974e2",
   "metadata": {},
   "source": [
    "Let's derive pairs of correlated columns for a threshold of 0.80."
   ]
  },
  {
   "cell_type": "code",
   "execution_count": 45,
   "id": "e6b6e5ad",
   "metadata": {},
   "outputs": [
    {
     "data": {
      "text/plain": [
       "MonthlyCharges     TotalCharges      0.999992\n",
       "isInternetService  MonthlyCharges    0.997731\n",
       "Days               TotalCharges      0.983366\n",
       "Type               TotalCharges      0.941354\n",
       "isPhone            MonthlyCharges    0.866657\n",
       "dtype: float64"
      ]
     },
     "execution_count": 45,
     "metadata": {},
     "output_type": "execute_result"
    }
   ],
   "source": [
    "get_correl(0.8, df_corr)"
   ]
  },
  {
   "cell_type": "markdown",
   "id": "ec02dc1a",
   "metadata": {},
   "source": [
    "There is a strong correlation between the displayed features. This can negatively affect the quality of the linear logistic regression model. For this model, the attributes `TotalCharges`, `isInternetService`, `isPhone` will need to be removed to get rid of multicollinearity. Tree-based algorithms are immune to multicollinearity."
   ]
  },
  {
   "cell_type": "markdown",
   "id": "4f7d6810",
   "metadata": {},
   "source": [
    "### Conclusions"
   ]
  },
  {
   "cell_type": "markdown",
   "id": "fe926fdb",
   "metadata": {},
   "source": [
    "As a result of the data preprocessing, the following results were obtained:  \n",
    "1) formed the target feature based on the values of the `EndDate` column;  \n",
    "2) formed new features:  \n",
    "- `Days` - how long in days the person was a client of a telecom operator  \n",
    "- `isInternetService` - whether the client used Internet services or not  \n",
    "- `isPhone` - whether the client used telephony services or not  \n",
    "\n",
    "3) removed insignificant signs: `BeginDate`, `EndDate` and signs with details of each service;  \n",
    "4) converted all binary features to the numeric type *int8* ;  \n",
    "5) combined all tables and pre-processed the combined dataframe: processed gaps, checked for anomalies, removed 19 duplicate ;  \n",
    "6) the sample was checked for class imbalance: the class imbalance of the target trait was 73% to 27%;  \n",
    "7) investigated the relationship of features and found a close direct relationship between some pairs of features. For the logistic regression model, the features `TotalCharges`, `isInternetService`, `isPhone` must be removed.  "
   ]
  },
  {
   "cell_type": "markdown",
   "id": "99292a04",
   "metadata": {},
   "source": [
    "## Features preparation"
   ]
  },
  {
   "cell_type": "markdown",
   "id": "98513380",
   "metadata": {},
   "source": [
    "We divide the sample into features and the target feature."
   ]
  },
  {
   "cell_type": "code",
   "execution_count": 46,
   "id": "b74de414",
   "metadata": {},
   "outputs": [],
   "source": [
    "features = merged_df.drop('Exited', axis=1)\n",
    "target = merged_df['Exited'] "
   ]
  },
  {
   "cell_type": "markdown",
   "id": "464e4b6c",
   "metadata": {},
   "source": [
    "Let's divide the sample into training and test in the ratio of 75% and 25%, respectively."
   ]
  },
  {
   "cell_type": "code",
   "execution_count": 47,
   "id": "3b8ea2eb",
   "metadata": {},
   "outputs": [],
   "source": [
    "# To make the number of classes in the datasets evenly distributed, specify the stratify=target parameter.\n",
    "features_train, features_test, target_train, target_test = train_test_split(features, target, \n",
    "                                                                            test_size=0.25, \n",
    "                                                                            random_state=RANDOM_STATE, \n",
    "                                                                            stratify=target)"
   ]
  },
  {
   "cell_type": "markdown",
   "id": "5358fac6",
   "metadata": {},
   "source": [
    "Let us encode categorical features for the logistic regression model using the OHE direct coding technique."
   ]
  },
  {
   "cell_type": "code",
   "execution_count": 48,
   "id": "f553c49d",
   "metadata": {},
   "outputs": [],
   "source": [
    "# categorical features for OHE\n",
    "cat_features = features_train.select_dtypes(include='object').columns.to_list()\n",
    "\n",
    "features_train_ohe = features_train.copy()\n",
    "features_test_ohe = features_test.copy()\n",
    "\n",
    "# remove features to get rid of multicollinearity\n",
    "features_train_ohe = features_train_ohe.drop(['TotalCharges', 'isInternetService', 'isPhone'], axis=1)\n",
    "features_test_ohe = features_test_ohe.drop(['TotalCharges', 'isInternetService', 'isPhone'], axis=1)\n",
    "\n",
    "# train the encoder on the given categorical features of the training set\n",
    "encoder_ohe = OneHotEncoder(drop='first', handle_unknown='ignore', sparse=False)\n",
    "encoder_ohe.fit(features_train_ohe[cat_features])\n",
    "\n",
    "# with an encoder that is trained on the training sample, encode the samples\n",
    "features_train_ohe[encoder_ohe.get_feature_names_out()] = encoder_ohe.transform(features_train_ohe[cat_features])\n",
    "features_test_ohe[encoder_ohe.get_feature_names_out()] = encoder_ohe.transform(features_test_ohe[cat_features])\n",
    "\n",
    "# remove uncoded categorical features (original columns)\n",
    "features_train_ohe = features_train_ohe.drop(cat_features, axis=1)\n",
    "features_test_ohe = features_test_ohe.drop(cat_features, axis=1)"
   ]
  },
  {
   "cell_type": "code",
   "execution_count": 49,
   "id": "9d7c5586",
   "metadata": {},
   "outputs": [
    {
     "data": {
      "text/html": [
       "<div>\n",
       "<style scoped>\n",
       "    .dataframe tbody tr th:only-of-type {\n",
       "        vertical-align: middle;\n",
       "    }\n",
       "\n",
       "    .dataframe tbody tr th {\n",
       "        vertical-align: top;\n",
       "    }\n",
       "\n",
       "    .dataframe thead th {\n",
       "        text-align: right;\n",
       "    }\n",
       "</style>\n",
       "<table border=\"1\" class=\"dataframe\">\n",
       "  <thead>\n",
       "    <tr style=\"text-align: right;\">\n",
       "      <th></th>\n",
       "      <th>PaperlessBilling</th>\n",
       "      <th>MonthlyCharges</th>\n",
       "      <th>Days</th>\n",
       "      <th>gender</th>\n",
       "      <th>SeniorCitizen</th>\n",
       "      <th>Partner</th>\n",
       "      <th>Dependents</th>\n",
       "      <th>Type_One year</th>\n",
       "      <th>Type_Two year</th>\n",
       "      <th>PaymentMethod_Credit card (automatic)</th>\n",
       "      <th>PaymentMethod_Electronic check</th>\n",
       "      <th>PaymentMethod_Mailed check</th>\n",
       "    </tr>\n",
       "    <tr>\n",
       "      <th>customerID</th>\n",
       "      <th></th>\n",
       "      <th></th>\n",
       "      <th></th>\n",
       "      <th></th>\n",
       "      <th></th>\n",
       "      <th></th>\n",
       "      <th></th>\n",
       "      <th></th>\n",
       "      <th></th>\n",
       "      <th></th>\n",
       "      <th></th>\n",
       "      <th></th>\n",
       "    </tr>\n",
       "  </thead>\n",
       "  <tbody>\n",
       "    <tr>\n",
       "      <th>2892-GESUL</th>\n",
       "      <td>0</td>\n",
       "      <td>19.35</td>\n",
       "      <td>549</td>\n",
       "      <td>1</td>\n",
       "      <td>0</td>\n",
       "      <td>1</td>\n",
       "      <td>1</td>\n",
       "      <td>0.0</td>\n",
       "      <td>1.0</td>\n",
       "      <td>0.0</td>\n",
       "      <td>0.0</td>\n",
       "      <td>1.0</td>\n",
       "    </tr>\n",
       "    <tr>\n",
       "      <th>2030-BTZRO</th>\n",
       "      <td>1</td>\n",
       "      <td>20.40</td>\n",
       "      <td>184</td>\n",
       "      <td>0</td>\n",
       "      <td>0</td>\n",
       "      <td>1</td>\n",
       "      <td>1</td>\n",
       "      <td>0.0</td>\n",
       "      <td>1.0</td>\n",
       "      <td>1.0</td>\n",
       "      <td>0.0</td>\n",
       "      <td>0.0</td>\n",
       "    </tr>\n",
       "    <tr>\n",
       "      <th>3692-JHONH</th>\n",
       "      <td>1</td>\n",
       "      <td>106.50</td>\n",
       "      <td>1584</td>\n",
       "      <td>1</td>\n",
       "      <td>1</td>\n",
       "      <td>1</td>\n",
       "      <td>0</td>\n",
       "      <td>1.0</td>\n",
       "      <td>0.0</td>\n",
       "      <td>0.0</td>\n",
       "      <td>1.0</td>\n",
       "      <td>0.0</td>\n",
       "    </tr>\n",
       "    <tr>\n",
       "      <th>6992-TKNYO</th>\n",
       "      <td>0</td>\n",
       "      <td>69.00</td>\n",
       "      <td>1157</td>\n",
       "      <td>0</td>\n",
       "      <td>0</td>\n",
       "      <td>1</td>\n",
       "      <td>0</td>\n",
       "      <td>1.0</td>\n",
       "      <td>0.0</td>\n",
       "      <td>1.0</td>\n",
       "      <td>0.0</td>\n",
       "      <td>0.0</td>\n",
       "    </tr>\n",
       "    <tr>\n",
       "      <th>6595-COKXZ</th>\n",
       "      <td>1</td>\n",
       "      <td>44.45</td>\n",
       "      <td>30</td>\n",
       "      <td>1</td>\n",
       "      <td>0</td>\n",
       "      <td>0</td>\n",
       "      <td>0</td>\n",
       "      <td>0.0</td>\n",
       "      <td>0.0</td>\n",
       "      <td>0.0</td>\n",
       "      <td>0.0</td>\n",
       "      <td>1.0</td>\n",
       "    </tr>\n",
       "  </tbody>\n",
       "</table>\n",
       "</div>"
      ],
      "text/plain": [
       "            PaperlessBilling  MonthlyCharges  Days  gender  SeniorCitizen  \\\n",
       "customerID                                                                  \n",
       "2892-GESUL                 0           19.35   549       1              0   \n",
       "2030-BTZRO                 1           20.40   184       0              0   \n",
       "3692-JHONH                 1          106.50  1584       1              1   \n",
       "6992-TKNYO                 0           69.00  1157       0              0   \n",
       "6595-COKXZ                 1           44.45    30       1              0   \n",
       "\n",
       "            Partner  Dependents  Type_One year  Type_Two year  \\\n",
       "customerID                                                      \n",
       "2892-GESUL        1           1            0.0            1.0   \n",
       "2030-BTZRO        1           1            0.0            1.0   \n",
       "3692-JHONH        1           0            1.0            0.0   \n",
       "6992-TKNYO        1           0            1.0            0.0   \n",
       "6595-COKXZ        0           0            0.0            0.0   \n",
       "\n",
       "            PaymentMethod_Credit card (automatic)  \\\n",
       "customerID                                          \n",
       "2892-GESUL                                    0.0   \n",
       "2030-BTZRO                                    1.0   \n",
       "3692-JHONH                                    0.0   \n",
       "6992-TKNYO                                    1.0   \n",
       "6595-COKXZ                                    0.0   \n",
       "\n",
       "            PaymentMethod_Electronic check  PaymentMethod_Mailed check  \n",
       "customerID                                                              \n",
       "2892-GESUL                             0.0                         1.0  \n",
       "2030-BTZRO                             0.0                         0.0  \n",
       "3692-JHONH                             1.0                         0.0  \n",
       "6992-TKNYO                             0.0                         0.0  \n",
       "6595-COKXZ                             0.0                         1.0  "
      ]
     },
     "execution_count": 49,
     "metadata": {},
     "output_type": "execute_result"
    }
   ],
   "source": [
    "features_train_ohe.head()"
   ]
  },
  {
   "cell_type": "markdown",
   "id": "34eff325",
   "metadata": {},
   "source": [
    "## Models training"
   ]
  },
  {
   "cell_type": "markdown",
   "id": "b4e73dd5",
   "metadata": {},
   "source": [
    "Let's write the **get_best_model** function to search for hyperparameters on the GridSearchCV grid for the best model on the AUC-ROC metric.  \n",
    "\n",
    "The function takes as input:  \n",
    "- model,  \n",
    "- hyperparameters for grid search GridSearchCV,  \n",
    "- features and target feature of the training sample.  \n",
    "\n",
    "The function returns:  \n",
    "- AUC-ROC metric of the best model  \n",
    "- Trained model with the best AUC-ROC metric  "
   ]
  },
  {
   "cell_type": "code",
   "execution_count": 50,
   "id": "dfe8e635",
   "metadata": {},
   "outputs": [],
   "source": [
    "def get_best_model(clf, grid_params, model_name, X_train, y_train):\n",
    "      \n",
    "    grid = GridSearchCV(estimator=clf, param_grid=grid_params, scoring='roc_auc', cv=3)\n",
    "    grid.fit(X_train, y_train)\n",
    "    \n",
    "    print(f'{model_name} best model hyperparameters: {grid.best_params_}')\n",
    "    \n",
    "    best_roc_auc = grid.best_score_.round(2)\n",
    "    print(f'{model_name} best AUC-ROC on cv: {best_roc_auc}')\n",
    "    \n",
    "    return best_roc_auc, grid.best_estimator_"
   ]
  },
  {
   "cell_type": "markdown",
   "id": "fd49cefc",
   "metadata": {},
   "source": [
    "### LogisticRegression"
   ]
  },
  {
   "cell_type": "markdown",
   "id": "395473b2",
   "metadata": {},
   "source": [
    "In the sample for logistic regression, all features are numerical, since OHE coding was applied. We bring all the features to the same scale."
   ]
  },
  {
   "cell_type": "code",
   "execution_count": 51,
   "id": "38beb0db",
   "metadata": {},
   "outputs": [],
   "source": [
    "scaler = StandardScaler()\n",
    "scaler.fit(features_train_ohe)\n",
    "features_train_ohe = scaler.transform(features_train_ohe)\n",
    "features_test_ohe = scaler.transform(features_test_ohe)"
   ]
  },
  {
   "cell_type": "markdown",
   "id": "02672f62",
   "metadata": {},
   "source": [
    "Find the best logistic regression model."
   ]
  },
  {
   "cell_type": "code",
   "execution_count": 52,
   "id": "9b0ca89f",
   "metadata": {},
   "outputs": [
    {
     "name": "stdout",
     "output_type": "stream",
     "text": [
      "LogisticRegression best model hyperparameters: {'C': 1, 'class_weight': None, 'max_iter': 100, 'penalty': 'l1', 'solver': 'liblinear', 'tol': 0.001}\n",
      "LogisticRegression best AUC-ROC on cv: 0.83\n",
      "CPU times: total: 30.1 s\n",
      "Wall time: 22.4 s\n"
     ]
    }
   ],
   "source": [
    "%%time\n",
    "\n",
    "clf = LogisticRegression(random_state=RANDOM_STATE)\n",
    "grid_params = {'solver': ['lbfgs', 'liblinear', 'newton-cg', 'newton-cholesky', 'sag', 'saga'],\n",
    "               'max_iter': [100, 200],\n",
    "               'C': range(1, 10),\n",
    "               'class_weight': ['balanced', None],\n",
    "               'penalty': ['l1', 'l2', 'elasticnet', None],\n",
    "               'tol': [0.0001, 0.001]}\n",
    "\n",
    "LR_AUC_ROC_cv, LR_best_model = get_best_model(clf, grid_params, 'LogisticRegression', features_train_ohe, target_train)"
   ]
  },
  {
   "cell_type": "markdown",
   "id": "b4106701",
   "metadata": {},
   "source": [
    "### CatBoostClassifier"
   ]
  },
  {
   "cell_type": "markdown",
   "id": "02612588",
   "metadata": {},
   "source": [
    "Let's find the best CatBoostClassifier model, taking into account the imbalance of classes."
   ]
  },
  {
   "cell_type": "code",
   "execution_count": 53,
   "id": "4517f9a2",
   "metadata": {
    "code_folding": [],
    "scrolled": true
   },
   "outputs": [
    {
     "name": "stdout",
     "output_type": "stream",
     "text": [
      "Metric AUC is not calculated on train by default. To calculate this metric on train, add hints=skip_train~false to metric parameters.\n",
      "Metric AUC is not calculated on train by default. To calculate this metric on train, add hints=skip_train~false to metric parameters.\n",
      "Metric AUC is not calculated on train by default. To calculate this metric on train, add hints=skip_train~false to metric parameters.\n",
      "Metric AUC is not calculated on train by default. To calculate this metric on train, add hints=skip_train~false to metric parameters.\n",
      "Metric AUC is not calculated on train by default. To calculate this metric on train, add hints=skip_train~false to metric parameters.\n",
      "Metric AUC is not calculated on train by default. To calculate this metric on train, add hints=skip_train~false to metric parameters.\n",
      "Metric AUC is not calculated on train by default. To calculate this metric on train, add hints=skip_train~false to metric parameters.\n",
      "Metric AUC is not calculated on train by default. To calculate this metric on train, add hints=skip_train~false to metric parameters.\n",
      "Metric AUC is not calculated on train by default. To calculate this metric on train, add hints=skip_train~false to metric parameters.\n",
      "Metric AUC is not calculated on train by default. To calculate this metric on train, add hints=skip_train~false to metric parameters.\n",
      "Metric AUC is not calculated on train by default. To calculate this metric on train, add hints=skip_train~false to metric parameters.\n",
      "Metric AUC is not calculated on train by default. To calculate this metric on train, add hints=skip_train~false to metric parameters.\n",
      "Metric AUC is not calculated on train by default. To calculate this metric on train, add hints=skip_train~false to metric parameters.\n",
      "Metric AUC is not calculated on train by default. To calculate this metric on train, add hints=skip_train~false to metric parameters.\n",
      "Metric AUC is not calculated on train by default. To calculate this metric on train, add hints=skip_train~false to metric parameters.\n",
      "Metric AUC is not calculated on train by default. To calculate this metric on train, add hints=skip_train~false to metric parameters.\n",
      "Metric AUC is not calculated on train by default. To calculate this metric on train, add hints=skip_train~false to metric parameters.\n",
      "Metric AUC is not calculated on train by default. To calculate this metric on train, add hints=skip_train~false to metric parameters.\n",
      "Metric AUC is not calculated on train by default. To calculate this metric on train, add hints=skip_train~false to metric parameters.\n",
      "Metric AUC is not calculated on train by default. To calculate this metric on train, add hints=skip_train~false to metric parameters.\n",
      "Metric AUC is not calculated on train by default. To calculate this metric on train, add hints=skip_train~false to metric parameters.\n",
      "Metric AUC is not calculated on train by default. To calculate this metric on train, add hints=skip_train~false to metric parameters.\n",
      "Metric AUC is not calculated on train by default. To calculate this metric on train, add hints=skip_train~false to metric parameters.\n",
      "Metric AUC is not calculated on train by default. To calculate this metric on train, add hints=skip_train~false to metric parameters.\n",
      "Metric AUC is not calculated on train by default. To calculate this metric on train, add hints=skip_train~false to metric parameters.\n",
      "Metric AUC is not calculated on train by default. To calculate this metric on train, add hints=skip_train~false to metric parameters.\n",
      "Metric AUC is not calculated on train by default. To calculate this metric on train, add hints=skip_train~false to metric parameters.\n",
      "Metric AUC is not calculated on train by default. To calculate this metric on train, add hints=skip_train~false to metric parameters.\n",
      "Metric AUC is not calculated on train by default. To calculate this metric on train, add hints=skip_train~false to metric parameters.\n",
      "Metric AUC is not calculated on train by default. To calculate this metric on train, add hints=skip_train~false to metric parameters.\n",
      "Metric AUC is not calculated on train by default. To calculate this metric on train, add hints=skip_train~false to metric parameters.\n",
      "Metric AUC is not calculated on train by default. To calculate this metric on train, add hints=skip_train~false to metric parameters.\n",
      "Metric AUC is not calculated on train by default. To calculate this metric on train, add hints=skip_train~false to metric parameters.\n",
      "Metric AUC is not calculated on train by default. To calculate this metric on train, add hints=skip_train~false to metric parameters.\n",
      "Metric AUC is not calculated on train by default. To calculate this metric on train, add hints=skip_train~false to metric parameters.\n",
      "Metric AUC is not calculated on train by default. To calculate this metric on train, add hints=skip_train~false to metric parameters.\n",
      "Metric AUC is not calculated on train by default. To calculate this metric on train, add hints=skip_train~false to metric parameters.\n",
      "Metric AUC is not calculated on train by default. To calculate this metric on train, add hints=skip_train~false to metric parameters.\n",
      "Metric AUC is not calculated on train by default. To calculate this metric on train, add hints=skip_train~false to metric parameters.\n",
      "Metric AUC is not calculated on train by default. To calculate this metric on train, add hints=skip_train~false to metric parameters.\n",
      "Metric AUC is not calculated on train by default. To calculate this metric on train, add hints=skip_train~false to metric parameters.\n",
      "Metric AUC is not calculated on train by default. To calculate this metric on train, add hints=skip_train~false to metric parameters.\n",
      "Metric AUC is not calculated on train by default. To calculate this metric on train, add hints=skip_train~false to metric parameters.\n",
      "Metric AUC is not calculated on train by default. To calculate this metric on train, add hints=skip_train~false to metric parameters.\n",
      "Metric AUC is not calculated on train by default. To calculate this metric on train, add hints=skip_train~false to metric parameters.\n",
      "Metric AUC is not calculated on train by default. To calculate this metric on train, add hints=skip_train~false to metric parameters.\n",
      "Metric AUC is not calculated on train by default. To calculate this metric on train, add hints=skip_train~false to metric parameters.\n",
      "Metric AUC is not calculated on train by default. To calculate this metric on train, add hints=skip_train~false to metric parameters.\n",
      "Hyperparameters of the Best CatBoostRegressor Model: {'depth': 2, 'l2_leaf_reg': 2, 'learning_rate': 0.5}\n",
      "Best AUC-ROC CatBoostRegressor: 0.91\n",
      "CPU times: total: 6min 4s\n",
      "Wall time: 10min 40s\n"
     ]
    }
   ],
   "source": [
    "%%time\n",
    "\n",
    "clf_cb = CatBoostClassifier(eval_metric='AUC', loss_function='Logloss', logging_level='Silent', iterations=500,\n",
    "                            auto_class_weights='Balanced', random_state=RANDOM_STATE)\n",
    "pool_train = Pool(features_train, label=target_train, cat_features=cat_features)\n",
    "\n",
    "grid_params = {'learning_rate': [0.1, 0.3, 0.5],\n",
    "               'depth': range(2, 10, 2),\n",
    "               'l2_leaf_reg': range(2, 10, 2)}\n",
    "\n",
    "catboost_grid = clf_cb.grid_search(grid_params,\n",
    "                                   X=pool_train,\n",
    "                                   verbose=False,\n",
    "                                   plot=False)\n",
    "\n",
    "print(f\"Hyperparameters of the Best CatBoostRegressor Model: {catboost_grid['params']}\")\n",
    "CB_AUC_ROC_cv = np.mean(catboost_grid['cv_results']['test-AUC-mean']).round(2)\n",
    "print(f'Best AUC-ROC CatBoostRegressor: {CB_AUC_ROC_cv}')"
   ]
  },
  {
   "cell_type": "markdown",
   "id": "85ea2e52",
   "metadata": {},
   "source": [
    "Let's measure the training and prediction time of the best model on the training set."
   ]
  },
  {
   "cell_type": "code",
   "execution_count": 54,
   "id": "d841de49",
   "metadata": {},
   "outputs": [
    {
     "name": "stdout",
     "output_type": "stream",
     "text": [
      "CPU times: total: 2.8 s\n",
      "Wall time: 5.05 s\n"
     ]
    },
    {
     "data": {
      "text/plain": [
       "<catboost.core.CatBoostClassifier at 0x15c1a78e460>"
      ]
     },
     "execution_count": 54,
     "metadata": {},
     "output_type": "execute_result"
    }
   ],
   "source": [
    "%%time\n",
    "\n",
    "model = CatBoostClassifier(eval_metric='AUC', \n",
    "                           loss_function='Logloss', \n",
    "                           logging_level='Silent', \n",
    "                           iterations=500,\n",
    "                           auto_class_weights='Balanced', \n",
    "                           depth=2, \n",
    "                           l2_leaf_reg=2, \n",
    "                           learning_rate=0.5, \n",
    "                           random_state=RANDOM_STATE)\n",
    "model.fit(features_train, target_train, cat_features=cat_features, verbose=False)"
   ]
  },
  {
   "cell_type": "code",
   "execution_count": 55,
   "id": "bd2bd155",
   "metadata": {},
   "outputs": [
    {
     "name": "stdout",
     "output_type": "stream",
     "text": [
      "AUC-ROC of the CatBoostClassifier model on the training set: 0.9745910619224187\n",
      "CPU times: total: 31.2 ms\n",
      "Wall time: 11.3 ms\n"
     ]
    }
   ],
   "source": [
    "%%time\n",
    "\n",
    "print(f'AUC-ROC of the CatBoostClassifier model on the training set: {roc_auc_score(target_train, model.predict_proba(features_train)[:, 1])}')"
   ]
  },
  {
   "cell_type": "markdown",
   "id": "b1aee9fb",
   "metadata": {},
   "source": [
    "### LGBMClassifier"
   ]
  },
  {
   "cell_type": "markdown",
   "id": "415399ad",
   "metadata": {},
   "source": [
    "Let's find the best LGBMClassifier mo"
   ]
  },
  {
   "cell_type": "code",
   "execution_count": 56,
   "id": "7c499604",
   "metadata": {
    "scrolled": false
   },
   "outputs": [
    {
     "name": "stdout",
     "output_type": "stream",
     "text": [
      "LGBMClassifier best model hyperparameters: {'boosting_type': 'gbdt', 'importance_type': 'split', 'learning_rate': 0.3, 'max_depth': 2, 'n_estimators': 1000}\n",
      "LGBMClassifier best AUC-ROC on cv: 0.91\n",
      "CPU times: total: 36min 1s\n",
      "Wall time: 5min 24s\n"
     ]
    }
   ],
   "source": [
    "%%time\n",
    "\n",
    "#объявим категориальные признаки\n",
    "features_train.loc[:, cat_features] = features_train.loc[:, cat_features].astype('category')\n",
    "\n",
    "clf = LGBMClassifier(silent=True, random_state=RANDOM_STATE)\n",
    "grid_params = {'boosting_type': ['gbdt', 'dart', 'goss', 'rf'],\n",
    "               'max_depth': range(2, 10, 2),\n",
    "               'n_estimators': [50, 100, 200, 500, 1000],\n",
    "               'learning_rate': [0.1, 0.3, 0.5],\n",
    "               'importance_type': ['split', 'gain']}\n",
    "\n",
    "LGMB_AUC_ROC_cv, LGMB_best_model = get_best_model(clf, grid_params, 'LGBMClassifier', features_train, target_train)"
   ]
  },
  {
   "cell_type": "markdown",
   "id": "2ef36708",
   "metadata": {},
   "source": [
    "Let's measure the training and prediction time of the best model on the training set."
   ]
  },
  {
   "cell_type": "code",
   "execution_count": 57,
   "id": "1e5060d6",
   "metadata": {},
   "outputs": [
    {
     "name": "stdout",
     "output_type": "stream",
     "text": [
      "CPU times: total: 1.31 s\n",
      "Wall time: 197 ms\n"
     ]
    },
    {
     "data": {
      "text/html": [
       "<style>#sk-container-id-1 {color: black;background-color: white;}#sk-container-id-1 pre{padding: 0;}#sk-container-id-1 div.sk-toggleable {background-color: white;}#sk-container-id-1 label.sk-toggleable__label {cursor: pointer;display: block;width: 100%;margin-bottom: 0;padding: 0.3em;box-sizing: border-box;text-align: center;}#sk-container-id-1 label.sk-toggleable__label-arrow:before {content: \"▸\";float: left;margin-right: 0.25em;color: #696969;}#sk-container-id-1 label.sk-toggleable__label-arrow:hover:before {color: black;}#sk-container-id-1 div.sk-estimator:hover label.sk-toggleable__label-arrow:before {color: black;}#sk-container-id-1 div.sk-toggleable__content {max-height: 0;max-width: 0;overflow: hidden;text-align: left;background-color: #f0f8ff;}#sk-container-id-1 div.sk-toggleable__content pre {margin: 0.2em;color: black;border-radius: 0.25em;background-color: #f0f8ff;}#sk-container-id-1 input.sk-toggleable__control:checked~div.sk-toggleable__content {max-height: 200px;max-width: 100%;overflow: auto;}#sk-container-id-1 input.sk-toggleable__control:checked~label.sk-toggleable__label-arrow:before {content: \"▾\";}#sk-container-id-1 div.sk-estimator input.sk-toggleable__control:checked~label.sk-toggleable__label {background-color: #d4ebff;}#sk-container-id-1 div.sk-label input.sk-toggleable__control:checked~label.sk-toggleable__label {background-color: #d4ebff;}#sk-container-id-1 input.sk-hidden--visually {border: 0;clip: rect(1px 1px 1px 1px);clip: rect(1px, 1px, 1px, 1px);height: 1px;margin: -1px;overflow: hidden;padding: 0;position: absolute;width: 1px;}#sk-container-id-1 div.sk-estimator {font-family: monospace;background-color: #f0f8ff;border: 1px dotted black;border-radius: 0.25em;box-sizing: border-box;margin-bottom: 0.5em;}#sk-container-id-1 div.sk-estimator:hover {background-color: #d4ebff;}#sk-container-id-1 div.sk-parallel-item::after {content: \"\";width: 100%;border-bottom: 1px solid gray;flex-grow: 1;}#sk-container-id-1 div.sk-label:hover label.sk-toggleable__label {background-color: #d4ebff;}#sk-container-id-1 div.sk-serial::before {content: \"\";position: absolute;border-left: 1px solid gray;box-sizing: border-box;top: 0;bottom: 0;left: 50%;z-index: 0;}#sk-container-id-1 div.sk-serial {display: flex;flex-direction: column;align-items: center;background-color: white;padding-right: 0.2em;padding-left: 0.2em;position: relative;}#sk-container-id-1 div.sk-item {position: relative;z-index: 1;}#sk-container-id-1 div.sk-parallel {display: flex;align-items: stretch;justify-content: center;background-color: white;position: relative;}#sk-container-id-1 div.sk-item::before, #sk-container-id-1 div.sk-parallel-item::before {content: \"\";position: absolute;border-left: 1px solid gray;box-sizing: border-box;top: 0;bottom: 0;left: 50%;z-index: -1;}#sk-container-id-1 div.sk-parallel-item {display: flex;flex-direction: column;z-index: 1;position: relative;background-color: white;}#sk-container-id-1 div.sk-parallel-item:first-child::after {align-self: flex-end;width: 50%;}#sk-container-id-1 div.sk-parallel-item:last-child::after {align-self: flex-start;width: 50%;}#sk-container-id-1 div.sk-parallel-item:only-child::after {width: 0;}#sk-container-id-1 div.sk-dashed-wrapped {border: 1px dashed gray;margin: 0 0.4em 0.5em 0.4em;box-sizing: border-box;padding-bottom: 0.4em;background-color: white;}#sk-container-id-1 div.sk-label label {font-family: monospace;font-weight: bold;display: inline-block;line-height: 1.2em;}#sk-container-id-1 div.sk-label-container {text-align: center;}#sk-container-id-1 div.sk-container {/* jupyter's `normalize.less` sets `[hidden] { display: none; }` but bootstrap.min.css set `[hidden] { display: none !important; }` so we also need the `!important` here to be able to override the default hidden behavior on the sphinx rendered scikit-learn.org. See: https://github.com/scikit-learn/scikit-learn/issues/21755 */display: inline-block !important;position: relative;}#sk-container-id-1 div.sk-text-repr-fallback {display: none;}</style><div id=\"sk-container-id-1\" class=\"sk-top-container\"><div class=\"sk-text-repr-fallback\"><pre>LGBMClassifier(learning_rate=&#x27;0.3&#x27;, max_depth=2, n_estimators=1000,\n",
       "               random_state=300123)</pre><b>In a Jupyter environment, please rerun this cell to show the HTML representation or trust the notebook. <br />On GitHub, the HTML representation is unable to render, please try loading this page with nbviewer.org.</b></div><div class=\"sk-container\" hidden><div class=\"sk-item\"><div class=\"sk-estimator sk-toggleable\"><input class=\"sk-toggleable__control sk-hidden--visually\" id=\"sk-estimator-id-1\" type=\"checkbox\" checked><label for=\"sk-estimator-id-1\" class=\"sk-toggleable__label sk-toggleable__label-arrow\">LGBMClassifier</label><div class=\"sk-toggleable__content\"><pre>LGBMClassifier(learning_rate=&#x27;0.3&#x27;, max_depth=2, n_estimators=1000,\n",
       "               random_state=300123)</pre></div></div></div></div></div>"
      ],
      "text/plain": [
       "LGBMClassifier(learning_rate='0.3', max_depth=2, n_estimators=1000,\n",
       "               random_state=300123)"
      ]
     },
     "execution_count": 57,
     "metadata": {},
     "output_type": "execute_result"
    }
   ],
   "source": [
    "%%time\n",
    "\n",
    "model = LGBMClassifier(silent=True, \n",
    "                       random_state=RANDOM_STATE, \n",
    "                       boosting_type='gbdt', \n",
    "                       importance_type='split', \n",
    "                       learning_rate='0.3',\n",
    "                       max_depth=2,\n",
    "                       n_estimators=1000)\n",
    "model.fit(features_train, target_train)"
   ]
  },
  {
   "cell_type": "code",
   "execution_count": 58,
   "id": "a7fb8f92",
   "metadata": {},
   "outputs": [
    {
     "name": "stdout",
     "output_type": "stream",
     "text": [
      "AUC-ROC of the LGBMClassifier model on the training set: 0.9786859130076168\n",
      "CPU times: total: 219 ms\n",
      "Wall time: 49.2 ms\n"
     ]
    }
   ],
   "source": [
    "%%time\n",
    "\n",
    "print(f'AUC-ROC of the LGBMClassifier model on the training set: {roc_auc_score(target_train, model.predict_proba(features_train)[:, 1])}')"
   ]
  },
  {
   "cell_type": "markdown",
   "id": "44a9ad4a",
   "metadata": {},
   "source": [
    "## Models analysis"
   ]
  },
  {
   "cell_type": "markdown",
   "id": "ef337c69",
   "metadata": {},
   "source": [
    "Let's summarize all the values of model quality metrics in a table."
   ]
  },
  {
   "cell_type": "code",
   "execution_count": 68,
   "id": "0d10dcb8",
   "metadata": {},
   "outputs": [
    {
     "data": {
      "text/html": [
       "<div>\n",
       "<style scoped>\n",
       "    .dataframe tbody tr th:only-of-type {\n",
       "        vertical-align: middle;\n",
       "    }\n",
       "\n",
       "    .dataframe tbody tr th {\n",
       "        vertical-align: top;\n",
       "    }\n",
       "\n",
       "    .dataframe thead th {\n",
       "        text-align: right;\n",
       "    }\n",
       "</style>\n",
       "<table border=\"1\" class=\"dataframe\">\n",
       "  <thead>\n",
       "    <tr style=\"text-align: right;\">\n",
       "      <th></th>\n",
       "      <th>AUC-ROC on the training set</th>\n",
       "      <th>Time of prediction(ms)</th>\n",
       "    </tr>\n",
       "  </thead>\n",
       "  <tbody>\n",
       "    <tr>\n",
       "      <th>CatBoostClassifier</th>\n",
       "      <td>0.91</td>\n",
       "      <td>11.3</td>\n",
       "    </tr>\n",
       "    <tr>\n",
       "      <th>LGBMClassifier</th>\n",
       "      <td>0.91</td>\n",
       "      <td>49.2</td>\n",
       "    </tr>\n",
       "    <tr>\n",
       "      <th>LogisitcRegression</th>\n",
       "      <td>0.83</td>\n",
       "      <td>-</td>\n",
       "    </tr>\n",
       "  </tbody>\n",
       "</table>\n",
       "</div>"
      ],
      "text/plain": [
       "                    AUC-ROC on the training set Time of prediction(ms)\n",
       "CatBoostClassifier                         0.91                   11.3\n",
       "LGBMClassifier                             0.91                   49.2\n",
       "LogisitcRegression                         0.83                      -"
      ]
     },
     "execution_count": 68,
     "metadata": {},
     "output_type": "execute_result"
    }
   ],
   "source": [
    "index = ['LogisitcRegression', 'CatBoostClassifier', 'LGBMClassifier']\n",
    "data = {'AUC-ROC on the training set':[LR_AUC_ROC_cv,\n",
    "                                                CB_AUC_ROC_cv,\n",
    "                                                LGMB_AUC_ROC_cv],\n",
    "        'Time of prediction(ms)':['-',\n",
    "                                  11.3,\n",
    "                                  49.2]\n",
    "       }\n",
    "\n",
    "pd.DataFrame(data=data, index=index).sort_values(by='AUC-ROC on the training set', ascending=False)"
   ]
  },
  {
   "cell_type": "markdown",
   "id": "0fb3ae34",
   "metadata": {},
   "source": [
    "The CatBoostClassifier and LGBMClassifier models showed the same result in the AUC-ROC metric on the training set, but the CatBoostClassifier model outperforms the prediction time by two times. The best model on the training set is CatBoostClassifier."
   ]
  },
  {
   "cell_type": "markdown",
   "id": "c61480bc",
   "metadata": {},
   "source": [
    "## Testing"
   ]
  },
  {
   "cell_type": "markdown",
   "id": "2518c4a6",
   "metadata": {},
   "source": [
    "The best cross-validation model was the CatBoostClassifier model with hyperparameters:  \n",
    "**{loss_function='Logloss', iterations=500, auto_class_weights='Balanced', 'depth': 2, 'l2_leaf_reg': 2, 'learning_rate': 0.5}**  \n",
    "\n",
    "Let's check the quality of the best model on the test sample, derive the error matrix and examine the importance of the features."
   ]
  },
  {
   "cell_type": "code",
   "execution_count": 69,
   "id": "dd2243f8",
   "metadata": {
    "scrolled": true
   },
   "outputs": [
    {
     "data": {
      "text/html": [
       "<div>\n",
       "<style scoped>\n",
       "    .dataframe tbody tr th:only-of-type {\n",
       "        vertical-align: middle;\n",
       "    }\n",
       "\n",
       "    .dataframe tbody tr th {\n",
       "        vertical-align: top;\n",
       "    }\n",
       "\n",
       "    .dataframe thead th {\n",
       "        text-align: right;\n",
       "    }\n",
       "</style>\n",
       "<table border=\"1\" class=\"dataframe\">\n",
       "  <thead>\n",
       "    <tr style=\"text-align: right;\">\n",
       "      <th></th>\n",
       "      <th>CatBoostClassifier</th>\n",
       "    </tr>\n",
       "  </thead>\n",
       "  <tbody>\n",
       "    <tr>\n",
       "      <th>Accuracy</th>\n",
       "      <td>0.87</td>\n",
       "    </tr>\n",
       "    <tr>\n",
       "      <th>Recall</th>\n",
       "      <td>0.79</td>\n",
       "    </tr>\n",
       "    <tr>\n",
       "      <th>Precision</th>\n",
       "      <td>0.73</td>\n",
       "    </tr>\n",
       "    <tr>\n",
       "      <th>F1</th>\n",
       "      <td>0.76</td>\n",
       "    </tr>\n",
       "    <tr>\n",
       "      <th>ROC-AUC</th>\n",
       "      <td>0.93</td>\n",
       "    </tr>\n",
       "  </tbody>\n",
       "</table>\n",
       "</div>"
      ],
      "text/plain": [
       "           CatBoostClassifier\n",
       "Accuracy                 0.87\n",
       "Recall                   0.79\n",
       "Precision                0.73\n",
       "F1                       0.76\n",
       "ROC-AUC                  0.93"
      ]
     },
     "execution_count": 69,
     "metadata": {},
     "output_type": "execute_result"
    }
   ],
   "source": [
    "predictions_cb = clf_cb.predict(features_test)\n",
    "proba_one_cb = clf_cb.predict_proba(features_test)[:, 1]\n",
    "\n",
    "data = {'CatBoostClassifier': \n",
    "              [\n",
    "                  accuracy_score(target_test, predictions_cb).round(2),\n",
    "                  recall_score(target_test, predictions_cb).round(2),\n",
    "                  precision_score(target_test, predictions_cb).round(2),\n",
    "                  f1_score(target_test, predictions_cb).round(2),\n",
    "                  roc_auc_score(target_test, proba_one_cb).round(2)\n",
    "              ]\n",
    "       }\n",
    "index=['Accuracy', 'Recall', 'Precision', 'F1', 'ROC-AUC']\n",
    "pd.DataFrame(data=data, index=index)"
   ]
  },
  {
   "cell_type": "code",
   "execution_count": 70,
   "id": "b0b8d082",
   "metadata": {},
   "outputs": [
    {
     "name": "stdout",
     "output_type": "stream",
     "text": [
      "Error matrix of CatBoostClassifier model on the test set:\n"
     ]
    },
    {
     "data": {
      "image/png": "[encoded data removed]",
      "text/plain": [
       "<Figure size 640x480 with 2 Axes>"
      ]
     },
     "metadata": {},
     "output_type": "display_data"
    }
   ],
   "source": [
    "print('Error matrix of CatBoostClassifier model on the test set:')\n",
    "cm = confusion_matrix(target_test, predictions_cb, labels=clf_cb.classes_)\n",
    "disp = ConfusionMatrixDisplay(confusion_matrix=cm, display_labels=clf_cb.classes_)\n",
    "disp.plot();"
   ]
  },
  {
   "cell_type": "code",
   "execution_count": 71,
   "id": "6353f373",
   "metadata": {},
   "outputs": [
    {
     "data": {
      "image/png": "[encoded data removed]",
      "text/plain": [
       "<Figure size 1000x800 with 1 Axes>"
      ]
     },
     "metadata": {},
     "output_type": "display_data"
    }
   ],
   "source": [
    "feature_importance = np.array(clf_cb.get_feature_importance())\n",
    "feature_names = np.array(features_train.columns)\n",
    "data={'feature_names':feature_names,'feature_importance':feature_importance}\n",
    "fi_df = pd.DataFrame(data)\n",
    "fi_df.sort_values(by=['feature_importance'], ascending=False,inplace=True)\n",
    "plt.figure(figsize=(10,8))\n",
    "sns.barplot(x=fi_df['feature_importance'], y=fi_df['feature_names'])\n",
    "plt.title('Feature Importance Distribution of the CatBoostClassifier Model')\n",
    "plt.xlabel('Feature importance')\n",
    "plt.ylabel('Feature');"
   ]
  },
  {
   "cell_type": "markdown",
   "id": "d61f864d",
   "metadata": {},
   "source": [
    "**Conclusions**\n",
    "- AUC-ROC on the test sample - 0.93  \n",
    "- 367 true positives, 98 false negatives (Recall = 0.79) and 138 false positives (Precision = 0.73)  \n",
    "- 5 most important features for the CatBoostClassifier model:  \n",
    "\n",
    "1) `Days` - the longer a person is a client of the company, the less likely it is that he will leave  "
   ]
  },
  {
   "cell_type": "code",
   "execution_count": 72,
   "id": "6db1fdef",
   "metadata": {
    "scrolled": false
   },
   "outputs": [
    {
     "data": {
      "image/png": "[encoded data removed]",
      "text/plain": [
       "<Figure size 640x480 with 1 Axes>"
      ]
     },
     "metadata": {},
     "output_type": "display_data"
    }
   ],
   "source": [
    "ax = merged_df.pivot_table(index='Exited', values='Days', aggfunc='mean').plot(kind='bar', \n",
    "                                                                               title='Average contract duration by class', \n",
    "                                                                               ylabel='Amount of days')\n",
    "ax.bar_label(ax.containers[0], label_type='edge');"
   ]
  },
  {
   "cell_type": "markdown",
   "id": "69d105e7",
   "metadata": {},
   "source": [
    "2) `Type` - clients who pay for services immediately for a year or two practically do not leave"
   ]
  },
  {
   "cell_type": "code",
   "execution_count": 73,
   "id": "68453c2e",
   "metadata": {
    "scrolled": false
   },
   "outputs": [
    {
     "data": {
      "image/png": "[encoded data removed]",
      "text/plain": [
       "<Figure size 640x480 with 1 Axes>"
      ]
     },
     "metadata": {},
     "output_type": "display_data"
    }
   ],
   "source": [
    "merged_df.pivot_table(index='Exited', columns='Type', values='Days', aggfunc='count').plot(kind='bar', \n",
    "                                                                                           title='Distribution of customers by type of payment for each class',\n",
    "                                                                                           ylabel='Number of clients');"
   ]
  },
  {
   "cell_type": "markdown",
   "id": "2f94fea0",
   "metadata": {},
   "source": [
    "3) `MonthlyCharges` - the average bill for the month of departed customers is higher."
   ]
  },
  {
   "cell_type": "code",
   "execution_count": 74,
   "id": "d505fd32",
   "metadata": {
    "scrolled": false
   },
   "outputs": [
    {
     "data": {
      "image/png": "[encoded data removed]",
      "text/plain": [
       "<Figure size 640x480 with 1 Axes>"
      ]
     },
     "metadata": {},
     "output_type": "display_data"
    }
   ],
   "source": [
    "ax = merged_df.pivot_table(index='Exited', values='MonthlyCharges', aggfunc='mean').plot(kind='bar', \n",
    "                                                                                         title='Average bill per month by class', \n",
    "                                                                                         ylabel='Average check per month')\n",
    "ax.bar_label(ax.containers[0], label_type='edge');"
   ]
  },
  {
   "cell_type": "markdown",
   "id": "5d2c3f1b",
   "metadata": {},
   "source": [
    "4) `TotalCharges` - it is also logical here, if a person remains a client, he continues to pay and his total check is greater than that of the departed client."
   ]
  },
  {
   "cell_type": "code",
   "execution_count": 75,
   "id": "95284ee6",
   "metadata": {
    "scrolled": false
   },
   "outputs": [
    {
     "data": {
      "image/png": "[encoded data removed]",
      "text/plain": [
       "<Figure size 640x480 with 1 Axes>"
      ]
     },
     "metadata": {},
     "output_type": "display_data"
    }
   ],
   "source": [
    "ax = merged_df.pivot_table(index='Exited', values='TotalCharges', aggfunc='mean').plot(kind='bar', \n",
    "                                                                                       title='Total average by class', \n",
    "                                                                                       ylabel='Total Average')\n",
    "ax.bar_label(ax.containers[0], label_type='edge');"
   ]
  },
  {
   "cell_type": "markdown",
   "id": "f5f7ed16",
   "metadata": {},
   "source": [
    "5) `isInternetService` - mostly clients with connected Internet service leave."
   ]
  },
  {
   "cell_type": "code",
   "execution_count": 76,
   "id": "a55bd801",
   "metadata": {},
   "outputs": [
    {
     "data": {
      "image/png": "[encoded data removed]",
      "text/plain": [
       "<Figure size 640x480 with 1 Axes>"
      ]
     },
     "metadata": {},
     "output_type": "display_data"
    }
   ],
   "source": [
    "ax = merged_df.pivot_table(index='Exited', columns='isInternetService', values='Days', aggfunc='count').plot(kind='bar', \n",
    "                                                                                                             title='Availability of Internet service by class', \n",
    "                                                                                                             ylabel='Number of clients')"
   ]
  },
  {
   "cell_type": "markdown",
   "id": "d0e5834d",
   "metadata": {},
   "source": [
    "## General conclusion"
   ]
  },
  {
   "cell_type": "markdown",
   "id": "d9a227e5",
   "metadata": {},
   "source": [
    "In this work, models were investigated that can analyze the behavior of the telecom operator's clients on the available data and predict whether the client will leave the operator or not, that is, solve the classification problem.  \n",
    "\n",
    "The initial data were provided in four datasets. As a result of the preprocessing, the data were prepared for further training of the models as follows:  \n",
    "\n",
    "1) formed a target feature based on the values of the EndDate column: the fact that the client left (left - 1, did not leave - 0);  \n",
    "2) formed new features:  \n",
    "`Days` - how many days the person has been a client of a telecom operator  \n",
    "`isInternetService` - whether the client used Internet services or not  \n",
    "`isPhone` - whether the client used telephony services or not  \n",
    "3) removed insignificant signs: `BeginDate`, `EndDate` and signs with details of each service;  \n",
    "4) converted all binary features to the numeric type int8 ;  \n",
    "5) combined all tables and pre-processed the combined dataframe: processed gaps, checked for anomalies, removed 19 duplicate rows. As a result, we received a dataset consisting of 7013 rows and 13 features (including the target one);  \n",
    "6) the sample was checked for class imbalance: class imbalance of the target trait 0 - 73%, 1 - 27%;  \n",
    "7) investigated the relationship of features and found a close direct relationship between some pairs of features. For the logistic regression model, the features `TotalCharges`, `isInternetService`, `isPhone must be removed` have been removed to avoid multicollinearity.  \n",
    "8) divided the sample into training and test in the ratio of 75% to 25%, respectively;  \n",
    "9) for the LogisticRegression model, the categorical features `Type` and `PaymentMethod` were converted into numerical ones by the OHE technique, and the features `TotalCharges`, `isInternetService`, `isPhone` were removed due to the close relationship.  \n",
    "\n",
    "Further, for the LogisticRegression, LGBMClassifier and CatBoostClassifier models, hyperparameters were selected to obtain models with the best AUC-ROC metric on cross-validation. The CatBoostClassifier and LGBMClassifier models showed the same result on the training set, but CatBoostClassifier has a better predictive time.  \n",
    "\n",
    "As a result, we got the following final model: CatBoostClassifier with hyperparameters  \n",
    "```\n",
    "{loss_function='Logloss', iterations=500, 'depth': 2, 'l2_leaf_reg': 2,\n",
    "'learning_rate': 0.5, auto_class_weights='Balanced', random_state=300123}\n",
    "```\n",
    "Quality metrics on the test sample:  \n",
    "- **ROC-AUC: 0.93**  \n",
    "- Accuracy: 0.87  \n",
    "- Recall: 0.79  \n",
    "- Precision: 0.73  \n",
    "- F1: 0.76  \n",
    "\n",
    "The most important features for solving the problem turned out to be:  \n",
    "- `Days` - how long in days the person was a client of a telecom operator  \n",
    "- `Type` - how a person pays: monthly, per year or two years  \n",
    "- `MothlyCharge`, `TotalCharge`, `isInternetService`.  "
   ]
  }
 ],
 "metadata": {
  "ExecuteTimeLog": [
   {
    "duration": 603,
    "start_time": "2023-02-01T18:00:22.677Z"
   },
   {
    "duration": 110,
    "start_time": "2023-02-01T18:00:30.394Z"
   },
   {
    "duration": 612,
    "start_time": "2023-02-01T18:02:16.987Z"
   },
   {
    "duration": 122,
    "start_time": "2023-02-01T18:02:19.555Z"
   },
   {
    "duration": 81,
    "start_time": "2023-02-01T18:04:59.776Z"
   },
   {
    "duration": 120,
    "start_time": "2023-02-01T18:05:11.922Z"
   },
   {
    "duration": 60,
    "start_time": "2023-02-01T18:06:35.880Z"
   },
   {
    "duration": 37,
    "start_time": "2023-02-01T18:06:41.448Z"
   },
   {
    "duration": 72,
    "start_time": "2023-02-01T18:06:46.831Z"
   },
   {
    "duration": 748,
    "start_time": "2023-02-02T17:27:08.184Z"
   },
   {
    "duration": 219,
    "start_time": "2023-02-02T17:27:10.167Z"
   },
   {
    "duration": 241,
    "start_time": "2023-02-02T17:27:25.596Z"
   },
   {
    "duration": 6225,
    "start_time": "2023-02-05T17:06:17.608Z"
   },
   {
    "duration": 2428,
    "start_time": "2023-02-05T17:06:23.836Z"
   },
   {
    "duration": 143,
    "start_time": "2023-02-05T17:06:27.617Z"
   },
   {
    "duration": 16,
    "start_time": "2023-02-05T17:06:28.516Z"
   },
   {
    "duration": 11,
    "start_time": "2023-02-05T17:06:28.679Z"
   },
   {
    "duration": 31,
    "start_time": "2023-02-05T17:06:29.115Z"
   },
   {
    "duration": 5,
    "start_time": "2023-02-05T17:06:29.279Z"
   },
   {
    "duration": 4,
    "start_time": "2023-02-05T17:06:29.430Z"
   },
   {
    "duration": 111,
    "start_time": "2023-02-05T17:06:30.148Z"
   },
   {
    "duration": 10,
    "start_time": "2023-02-05T17:06:30.260Z"
   },
   {
    "duration": 56,
    "start_time": "2023-02-05T17:06:30.272Z"
   },
   {
    "duration": 13,
    "start_time": "2023-02-05T17:06:30.342Z"
   },
   {
    "duration": 5,
    "start_time": "2023-02-05T17:06:30.487Z"
   },
   {
    "duration": 49,
    "start_time": "2023-02-05T17:06:30.940Z"
   },
   {
    "duration": 13,
    "start_time": "2023-02-05T17:06:31.095Z"
   },
   {
    "duration": 24,
    "start_time": "2023-02-05T17:06:31.238Z"
   },
   {
    "duration": 7,
    "start_time": "2023-02-05T17:06:31.400Z"
   },
   {
    "duration": 70,
    "start_time": "2023-02-05T17:06:31.915Z"
   },
   {
    "duration": 9,
    "start_time": "2023-02-05T17:06:32.064Z"
   },
   {
    "duration": 13,
    "start_time": "2023-02-05T17:06:32.260Z"
   },
   {
    "duration": 7,
    "start_time": "2023-02-05T17:06:35.009Z"
   },
   {
    "duration": 4,
    "start_time": "2023-02-05T17:06:35.159Z"
   },
   {
    "duration": 4,
    "start_time": "2023-02-05T17:06:35.626Z"
   },
   {
    "duration": 4,
    "start_time": "2023-02-05T17:06:35.929Z"
   },
   {
    "duration": 15,
    "start_time": "2023-02-05T17:06:36.233Z"
   },
   {
    "duration": 6,
    "start_time": "2023-02-05T17:06:36.537Z"
   },
   {
    "duration": 22,
    "start_time": "2023-02-05T17:06:36.990Z"
   },
   {
    "duration": 11,
    "start_time": "2023-02-05T17:06:37.144Z"
   },
   {
    "duration": 7,
    "start_time": "2023-02-05T17:06:37.634Z"
   },
   {
    "duration": 10,
    "start_time": "2023-02-05T17:06:37.969Z"
   },
   {
    "duration": 5,
    "start_time": "2023-02-05T17:06:38.449Z"
   },
   {
    "duration": 5,
    "start_time": "2023-02-05T17:06:38.933Z"
   },
   {
    "duration": 13,
    "start_time": "2023-02-05T17:06:39.413Z"
   },
   {
    "duration": 10,
    "start_time": "2023-02-05T17:06:39.577Z"
   },
   {
    "duration": 12,
    "start_time": "2023-02-05T17:06:39.909Z"
   },
   {
    "duration": 10,
    "start_time": "2023-02-05T17:06:40.419Z"
   },
   {
    "duration": 9,
    "start_time": "2023-02-05T17:06:40.749Z"
   },
   {
    "duration": 8,
    "start_time": "2023-02-05T17:06:41.113Z"
   },
   {
    "duration": 50,
    "start_time": "2023-02-05T17:06:41.960Z"
   },
   {
    "duration": 443,
    "start_time": "2023-02-05T17:06:42.252Z"
   },
   {
    "duration": 136,
    "start_time": "2023-02-05T17:06:42.697Z"
   },
   {
    "duration": 314,
    "start_time": "2023-02-05T17:06:43.338Z"
   },
   {
    "duration": 2045,
    "start_time": "2023-02-05T17:12:47.617Z"
   },
   {
    "duration": 120,
    "start_time": "2023-02-05T17:12:54.195Z"
   },
   {
    "duration": 14,
    "start_time": "2023-02-05T17:12:55.326Z"
   },
   {
    "duration": 13,
    "start_time": "2023-02-05T17:12:56.041Z"
   },
   {
    "duration": 35,
    "start_time": "2023-02-05T17:12:57.158Z"
   },
   {
    "duration": 4,
    "start_time": "2023-02-05T17:12:57.517Z"
   },
   {
    "duration": 5,
    "start_time": "2023-02-05T17:12:57.835Z"
   },
   {
    "duration": 64,
    "start_time": "2023-02-05T17:12:58.699Z"
   },
   {
    "duration": 10,
    "start_time": "2023-02-05T17:12:58.926Z"
   },
   {
    "duration": 23,
    "start_time": "2023-02-05T17:12:59.144Z"
   },
   {
    "duration": 4,
    "start_time": "2023-02-05T17:12:59.326Z"
   },
   {
    "duration": 5,
    "start_time": "2023-02-05T17:12:59.853Z"
   },
   {
    "duration": 72,
    "start_time": "2023-02-05T17:12:59.977Z"
   },
   {
    "duration": 11,
    "start_time": "2023-02-05T17:13:00.051Z"
   },
   {
    "duration": 43,
    "start_time": "2023-02-05T17:13:00.064Z"
   },
   {
    "duration": 6,
    "start_time": "2023-02-05T17:13:00.110Z"
   },
   {
    "duration": 45,
    "start_time": "2023-02-05T17:13:00.656Z"
   },
   {
    "duration": 10,
    "start_time": "2023-02-05T17:13:00.816Z"
   },
   {
    "duration": 14,
    "start_time": "2023-02-05T17:13:00.965Z"
   },
   {
    "duration": 5,
    "start_time": "2023-02-05T17:13:04.212Z"
   },
   {
    "duration": 7,
    "start_time": "2023-02-05T17:13:04.396Z"
   },
   {
    "duration": 8,
    "start_time": "2023-02-05T17:13:05.206Z"
   },
   {
    "duration": 5,
    "start_time": "2023-02-05T17:13:05.608Z"
   },
   {
    "duration": 15,
    "start_time": "2023-02-05T17:13:06.440Z"
   },
   {
    "duration": 8,
    "start_time": "2023-02-05T17:13:06.840Z"
   },
   {
    "duration": 11,
    "start_time": "2023-02-05T17:13:07.323Z"
   },
   {
    "duration": 12,
    "start_time": "2023-02-05T17:13:07.513Z"
   },
   {
    "duration": 7,
    "start_time": "2023-02-05T17:13:08.217Z"
   },
   {
    "duration": 8,
    "start_time": "2023-02-05T17:13:08.570Z"
   },
   {
    "duration": 5,
    "start_time": "2023-02-05T17:13:09.363Z"
   },
   {
    "duration": 6,
    "start_time": "2023-02-05T17:13:09.874Z"
   },
   {
    "duration": 13,
    "start_time": "2023-02-05T17:13:10.731Z"
   },
   {
    "duration": 11,
    "start_time": "2023-02-05T17:13:11.143Z"
   },
   {
    "duration": 8,
    "start_time": "2023-02-05T17:13:11.630Z"
   },
   {
    "duration": 10,
    "start_time": "2023-02-05T17:13:12.558Z"
   },
   {
    "duration": 8,
    "start_time": "2023-02-05T17:13:13.240Z"
   },
   {
    "duration": 11,
    "start_time": "2023-02-05T17:13:13.725Z"
   },
   {
    "duration": 56,
    "start_time": "2023-02-05T17:13:14.470Z"
   },
   {
    "duration": 411,
    "start_time": "2023-02-05T17:13:14.924Z"
   },
   {
    "duration": 127,
    "start_time": "2023-02-05T17:13:15.337Z"
   },
   {
    "duration": 5,
    "start_time": "2023-02-05T17:13:27.461Z"
   },
   {
    "duration": 3,
    "start_time": "2023-02-05T17:13:32.148Z"
   },
   {
    "duration": 9,
    "start_time": "2023-02-05T17:13:33.720Z"
   },
   {
    "duration": 102,
    "start_time": "2023-02-05T17:13:34.849Z"
   },
   {
    "duration": 18,
    "start_time": "2023-02-05T17:13:52.085Z"
   }
  ],
  "kernelspec": {
   "display_name": "Python 3 (ipykernel)",
   "language": "python",
   "name": "python3"
  },
  "language_info": {
   "codemirror_mode": {
    "name": "ipython",
    "version": 3
   },
   "file_extension": ".py",
   "mimetype": "text/x-python",
   "name": "python",
   "nbconvert_exporter": "python",
   "pygments_lexer": "ipython3",
   "version": "3.9.13"
  },
  "toc": {
   "base_numbering": 1,
   "nav_menu": {},
   "number_sections": true,
   "sideBar": true,
   "skip_h1_title": true,
   "title_cell": "Table of Contents",
   "title_sidebar": "Contents",
   "toc_cell": false,
   "toc_position": {
    "height": "calc(100% - 180px)",
    "left": "10px",
    "top": "150px",
    "width": "303.837px"
   },
   "toc_section_display": true,
   "toc_window_display": true
  }
 },
 "nbformat": 4,
 "nbformat_minor": 5
}
