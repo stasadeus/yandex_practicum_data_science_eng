{
 "cells": [
  {
   "cell_type": "markdown",
   "id": "d65554db",
   "metadata": {},
   "source": [
    "# Profitability study of mobile operator tariffs"
   ]
  },
  {
   "cell_type": "markdown",
   "id": "591bb22b",
   "metadata": {},
   "source": [
    "## Study content <a id='contents'> </a>\n",
    "\n",
    "[1. Research purpose](#purpose)  \n",
    "[2. Data overview](#data_overview)  \n",
    "[3. Data preprocessing](#data_preprocessing)  \n",
    "[4. Data analysis and revenue calculation](#research)  \n",
    "[5. Hypothesis testing](#hypothesis_testing)  \n",
    "[6. Research results](#research_results)"
   ]
  },
  {
   "cell_type": "markdown",
   "id": "92ed57ca",
   "metadata": {},
   "source": [
    "## 1. Research purpose <a id='purpose'> </a>"
   ]
  },
  {
   "cell_type": "markdown",
   "id": "8b69fda5",
   "metadata": {},
   "source": [
    "The federal mobile operator offers its customers two tariff plans: \"Smart\" and \"Ultra\". To adjust the advertising budget, the commercial department wants to understand which tariff brings in more money.\n",
    "We have a data sample of 500 clients for 2018. The task is to analyze the behavior of customers and draw a conclusion - which tariff brings more revenue.\n",
    "\n",
    "**Description of tariffs**  \n",
    "\n",
    "**Tariff \"Smart\"**  \n",
    "1. Monthly fee: 550 rubles  \n",
    "2. Included 500 minutes of calls, 50 messages and 15 GB of Internet traffic  \n",
    "3. The cost of services in excess of the tariff package:  \n",
    "  * Minute of conversation - 3 rubles. The number of minutes and megabytes used by Megaline always rounds up. If the user spoke for only 1 second, a whole minute is counted in the tariff.  \n",
    "  * Message - 3 rubles.  \n",
    "  * 1 GB of Internet traffic - 200 rubles.  \n",
    "**Tariff \"Ultra\"**  \n",
    "1. Monthly fee: 1950 rubles  \n",
    "2. Included 3000 minutes of calls, 1000 messages and 30 GB of internet traffic  \n",
    "3. The cost of services in excess of the tariff package:  \n",
    "  * Minute of conversation - 1 ruble;  \n",
    "  * Message - 1 ruble;  \n",
    "  * 1 GB of Internet traffic: 150 rubles.  \n",
    "\n",
    "**Data description**  \n",
    "\n",
    "Table `users` - information about users:  \n",
    "  * `user_id` - unique user ID  \n",
    "  * `first_name` - username  \n",
    "  * `last_name` — user last name  \n",
    "  * `age` - user age (years)  \n",
    "  * `reg_date` — tariff connection date (day, month, year)  \n",
    "  * `churn_date` - the date when the tariff was discontinued (if the value is omitted, it means that the tariff was still in effect at the time the data was uploaded)  \n",
    "  * `city` — user's city of residence  \n",
    "  * `tarif` — tariff plan name  \n",
    "\n",
    "Table `calls` - information about calls:  \n",
    "  * `id` — unique call number  \n",
    "  * `call_date` — call date  \n",
    "  * `duration` — call duration in minutes  \n",
    "  * `user_id` - ID of the user who made the call  \n",
    "\n",
    "Table `messages` - information about messages:  \n",
    "  * `id` — unique call number  \n",
    "  * `message_date` — message date  \n",
    "  * `user_id` - ID of the user who sent the message  \n",
    "\n",
    "Table `internet` - information about Internet sessions:  \n",
    "  * `id` — unique session number  \n",
    "  * `mb_used` - the amount of Internet traffic spent per session (in megabytes)  \n",
    "  * `session_date` — internet session date  \n",
    "  * `user_id` - user ID  \n",
    "\n",
    "Table `tariffs` - information about tariffs:  \n",
    "  * `tariff_name` — tariff name  \n",
    "  * `rub_monthly_fee` — monthly subscription fee in rubles  \n",
    "  * `minutes_included` - the number of minutes of conversation per month included in the subscription fee  \n",
    "  * `messages_included` - the number of messages per month included in the monthly fee  \n",
    "  * `mb_per_month_included` - the amount of Internet traffic included in the subscription fee (in megabytes)  \n",
    "  * `rub_per_minute` - the cost of a minute of conversation in excess of the tariff package (for example, if the tariff includes 100 minutes of conversation per month, then a fee will be charged from 101 minutes)  \n",
    "  * `rub_per_message` - the cost of sending a message in excess of the tariff package  \n",
    "  * `rub_per_gb` - the cost of an additional gigabyte of Internet traffic in excess of the tariff package (1 gigabyte = 1024 megabytes)  "
   ]
  },
  {
   "cell_type": "markdown",
   "id": "3f4596ef",
   "metadata": {},
   "source": [
    "## 2. Data overview <a id='data_overview'> </a>"
   ]
  },
  {
   "cell_type": "markdown",
   "id": "4de4ae8a",
   "metadata": {},
   "source": [
    "Let's open the data files and study the general information."
   ]
  },
  {
   "cell_type": "markdown",
   "id": "0c34423e",
   "metadata": {},
   "source": [
    "Let's open the `calls.csv` file, save the dataframe to the `calls` variable and display the first 5 lines on the screen."
   ]
  },
  {
   "cell_type": "code",
   "execution_count": 1,
   "id": "2685d581",
   "metadata": {},
   "outputs": [
    {
     "data": {
      "text/html": [
       "<div>\n",
       "<style scoped>\n",
       "    .dataframe tbody tr th:only-of-type {\n",
       "        vertical-align: middle;\n",
       "    }\n",
       "\n",
       "    .dataframe tbody tr th {\n",
       "        vertical-align: top;\n",
       "    }\n",
       "\n",
       "    .dataframe thead th {\n",
       "        text-align: right;\n",
       "    }\n",
       "</style>\n",
       "<table border=\"1\" class=\"dataframe\">\n",
       "  <thead>\n",
       "    <tr style=\"text-align: right;\">\n",
       "      <th></th>\n",
       "      <th>id</th>\n",
       "      <th>call_date</th>\n",
       "      <th>duration</th>\n",
       "      <th>user_id</th>\n",
       "    </tr>\n",
       "  </thead>\n",
       "  <tbody>\n",
       "    <tr>\n",
       "      <th>0</th>\n",
       "      <td>1000_0</td>\n",
       "      <td>2018-07-25</td>\n",
       "      <td>0.00</td>\n",
       "      <td>1000</td>\n",
       "    </tr>\n",
       "    <tr>\n",
       "      <th>1</th>\n",
       "      <td>1000_1</td>\n",
       "      <td>2018-08-17</td>\n",
       "      <td>0.00</td>\n",
       "      <td>1000</td>\n",
       "    </tr>\n",
       "    <tr>\n",
       "      <th>2</th>\n",
       "      <td>1000_2</td>\n",
       "      <td>2018-06-11</td>\n",
       "      <td>2.85</td>\n",
       "      <td>1000</td>\n",
       "    </tr>\n",
       "    <tr>\n",
       "      <th>3</th>\n",
       "      <td>1000_3</td>\n",
       "      <td>2018-09-21</td>\n",
       "      <td>13.80</td>\n",
       "      <td>1000</td>\n",
       "    </tr>\n",
       "    <tr>\n",
       "      <th>4</th>\n",
       "      <td>1000_4</td>\n",
       "      <td>2018-12-15</td>\n",
       "      <td>5.18</td>\n",
       "      <td>1000</td>\n",
       "    </tr>\n",
       "  </tbody>\n",
       "</table>\n",
       "</div>"
      ],
      "text/plain": [
       "       id   call_date  duration  user_id\n",
       "0  1000_0  2018-07-25      0.00     1000\n",
       "1  1000_1  2018-08-17      0.00     1000\n",
       "2  1000_2  2018-06-11      2.85     1000\n",
       "3  1000_3  2018-09-21     13.80     1000\n",
       "4  1000_4  2018-12-15      5.18     1000"
      ]
     },
     "execution_count": 1,
     "metadata": {},
     "output_type": "execute_result"
    }
   ],
   "source": [
    "import pandas as pd\n",
    "import numpy as np\n",
    "from scipy import stats as st\n",
    "\n",
    "calls = pd.read_csv('/datasets/calls.csv')\n",
    "calls.head(5)"
   ]
  },
  {
   "cell_type": "markdown",
   "id": "42cee507",
   "metadata": {},
   "source": [
    "Let's display the basic information for the calls dataframe."
   ]
  },
  {
   "cell_type": "code",
   "execution_count": 2,
   "id": "00d2f909",
   "metadata": {},
   "outputs": [
    {
     "name": "stdout",
     "output_type": "stream",
     "text": [
      "<class 'pandas.core.frame.DataFrame'>\n",
      "RangeIndex: 202607 entries, 0 to 202606\n",
      "Data columns (total 4 columns):\n",
      " #   Column     Non-Null Count   Dtype  \n",
      "---  ------     --------------   -----  \n",
      " 0   id         202607 non-null  object \n",
      " 1   call_date  202607 non-null  object \n",
      " 2   duration   202607 non-null  float64\n",
      " 3   user_id    202607 non-null  int64  \n",
      "dtypes: float64(1), int64(1), object(2)\n",
      "memory usage: 6.2+ MB\n"
     ]
    }
   ],
   "source": [
    "calls.info()"
   ]
  },
  {
   "cell_type": "markdown",
   "id": "00e74531",
   "metadata": {},
   "source": [
    "Let's display a histogram for a column with the duration of calls."
   ]
  },
  {
   "cell_type": "code",
   "execution_count": 3,
   "id": "c2281e0f",
   "metadata": {},
   "outputs": [
    {
     "data": {
      "image/png": "[encoded data removed]",
      "text/plain": [
       "<Figure size 432x288 with 1 Axes>"
      ]
     },
     "metadata": {
      "needs_background": "light"
     },
     "output_type": "display_data"
    }
   ],
   "source": [
    "calls['duration'].hist();"
   ]
  },
  {
   "cell_type": "markdown",
   "id": "67945188",
   "metadata": {},
   "source": [
    "There are calls with zero duration in the data. Probably missed calls."
   ]
  },
  {
   "cell_type": "markdown",
   "id": "2bf8f938",
   "metadata": {},
   "source": [
    "Let's open the `internet.csv` file, save the dataframe to the `sessions` variable and display the first 5 lines on the screen."
   ]
  },
  {
   "cell_type": "code",
   "execution_count": 4,
   "id": "721f4f87",
   "metadata": {},
   "outputs": [
    {
     "data": {
      "text/html": [
       "<div>\n",
       "<style scoped>\n",
       "    .dataframe tbody tr th:only-of-type {\n",
       "        vertical-align: middle;\n",
       "    }\n",
       "\n",
       "    .dataframe tbody tr th {\n",
       "        vertical-align: top;\n",
       "    }\n",
       "\n",
       "    .dataframe thead th {\n",
       "        text-align: right;\n",
       "    }\n",
       "</style>\n",
       "<table border=\"1\" class=\"dataframe\">\n",
       "  <thead>\n",
       "    <tr style=\"text-align: right;\">\n",
       "      <th></th>\n",
       "      <th>Unnamed: 0</th>\n",
       "      <th>id</th>\n",
       "      <th>mb_used</th>\n",
       "      <th>session_date</th>\n",
       "      <th>user_id</th>\n",
       "    </tr>\n",
       "  </thead>\n",
       "  <tbody>\n",
       "    <tr>\n",
       "      <th>0</th>\n",
       "      <td>0</td>\n",
       "      <td>1000_0</td>\n",
       "      <td>112.95</td>\n",
       "      <td>2018-11-25</td>\n",
       "      <td>1000</td>\n",
       "    </tr>\n",
       "    <tr>\n",
       "      <th>1</th>\n",
       "      <td>1</td>\n",
       "      <td>1000_1</td>\n",
       "      <td>1052.81</td>\n",
       "      <td>2018-09-07</td>\n",
       "      <td>1000</td>\n",
       "    </tr>\n",
       "    <tr>\n",
       "      <th>2</th>\n",
       "      <td>2</td>\n",
       "      <td>1000_2</td>\n",
       "      <td>1197.26</td>\n",
       "      <td>2018-06-25</td>\n",
       "      <td>1000</td>\n",
       "    </tr>\n",
       "    <tr>\n",
       "      <th>3</th>\n",
       "      <td>3</td>\n",
       "      <td>1000_3</td>\n",
       "      <td>550.27</td>\n",
       "      <td>2018-08-22</td>\n",
       "      <td>1000</td>\n",
       "    </tr>\n",
       "    <tr>\n",
       "      <th>4</th>\n",
       "      <td>4</td>\n",
       "      <td>1000_4</td>\n",
       "      <td>302.56</td>\n",
       "      <td>2018-09-24</td>\n",
       "      <td>1000</td>\n",
       "    </tr>\n",
       "  </tbody>\n",
       "</table>\n",
       "</div>"
      ],
      "text/plain": [
       "   Unnamed: 0      id  mb_used session_date  user_id\n",
       "0           0  1000_0   112.95   2018-11-25     1000\n",
       "1           1  1000_1  1052.81   2018-09-07     1000\n",
       "2           2  1000_2  1197.26   2018-06-25     1000\n",
       "3           3  1000_3   550.27   2018-08-22     1000\n",
       "4           4  1000_4   302.56   2018-09-24     1000"
      ]
     },
     "execution_count": 4,
     "metadata": {},
     "output_type": "execute_result"
    }
   ],
   "source": [
    "sessions = pd.read_csv('/datasets/internet.csv')\n",
    "sessions.head(5)"
   ]
  },
  {
   "cell_type": "markdown",
   "id": "4d4b483b",
   "metadata": {},
   "source": [
    "Let's display the basic information for the `sessions` dataframe."
   ]
  },
  {
   "cell_type": "code",
   "execution_count": 5,
   "id": "668d5cb8",
   "metadata": {},
   "outputs": [
    {
     "name": "stdout",
     "output_type": "stream",
     "text": [
      "<class 'pandas.core.frame.DataFrame'>\n",
      "RangeIndex: 149396 entries, 0 to 149395\n",
      "Data columns (total 5 columns):\n",
      " #   Column        Non-Null Count   Dtype  \n",
      "---  ------        --------------   -----  \n",
      " 0   Unnamed: 0    149396 non-null  int64  \n",
      " 1   id            149396 non-null  object \n",
      " 2   mb_used       149396 non-null  float64\n",
      " 3   session_date  149396 non-null  object \n",
      " 4   user_id       149396 non-null  int64  \n",
      "dtypes: float64(1), int64(2), object(2)\n",
      "memory usage: 5.7+ MB\n"
     ]
    }
   ],
   "source": [
    "sessions.info()"
   ]
  },
  {
   "cell_type": "markdown",
   "id": "4ab1e152",
   "metadata": {},
   "source": [
    "Let's display a histogram for a column with the number of megabytes spent."
   ]
  },
  {
   "cell_type": "code",
   "execution_count": 6,
   "id": "fe1862b2",
   "metadata": {},
   "outputs": [
    {
     "data": {
      "image/png": "[encoded data removed]",
      "text/plain": [
       "<Figure size 432x288 with 1 Axes>"
      ]
     },
     "metadata": {
      "needs_background": "light"
     },
     "output_type": "display_data"
    }
   ],
   "source": [
    "sessions['mb_used'].hist();"
   ]
  },
  {
   "cell_type": "markdown",
   "id": "96c151ed",
   "metadata": {},
   "source": [
    "Let's open the `messages.csv` file, save the dataframe to the `messages` variable and display the first 5 lines on the screen."
   ]
  },
  {
   "cell_type": "code",
   "execution_count": 7,
   "id": "48aa0af8",
   "metadata": {},
   "outputs": [
    {
     "data": {
      "text/html": [
       "<div>\n",
       "<style scoped>\n",
       "    .dataframe tbody tr th:only-of-type {\n",
       "        vertical-align: middle;\n",
       "    }\n",
       "\n",
       "    .dataframe tbody tr th {\n",
       "        vertical-align: top;\n",
       "    }\n",
       "\n",
       "    .dataframe thead th {\n",
       "        text-align: right;\n",
       "    }\n",
       "</style>\n",
       "<table border=\"1\" class=\"dataframe\">\n",
       "  <thead>\n",
       "    <tr style=\"text-align: right;\">\n",
       "      <th></th>\n",
       "      <th>id</th>\n",
       "      <th>message_date</th>\n",
       "      <th>user_id</th>\n",
       "    </tr>\n",
       "  </thead>\n",
       "  <tbody>\n",
       "    <tr>\n",
       "      <th>0</th>\n",
       "      <td>1000_0</td>\n",
       "      <td>2018-06-27</td>\n",
       "      <td>1000</td>\n",
       "    </tr>\n",
       "    <tr>\n",
       "      <th>1</th>\n",
       "      <td>1000_1</td>\n",
       "      <td>2018-10-08</td>\n",
       "      <td>1000</td>\n",
       "    </tr>\n",
       "    <tr>\n",
       "      <th>2</th>\n",
       "      <td>1000_2</td>\n",
       "      <td>2018-08-04</td>\n",
       "      <td>1000</td>\n",
       "    </tr>\n",
       "    <tr>\n",
       "      <th>3</th>\n",
       "      <td>1000_3</td>\n",
       "      <td>2018-06-16</td>\n",
       "      <td>1000</td>\n",
       "    </tr>\n",
       "    <tr>\n",
       "      <th>4</th>\n",
       "      <td>1000_4</td>\n",
       "      <td>2018-12-05</td>\n",
       "      <td>1000</td>\n",
       "    </tr>\n",
       "  </tbody>\n",
       "</table>\n",
       "</div>"
      ],
      "text/plain": [
       "       id message_date  user_id\n",
       "0  1000_0   2018-06-27     1000\n",
       "1  1000_1   2018-10-08     1000\n",
       "2  1000_2   2018-08-04     1000\n",
       "3  1000_3   2018-06-16     1000\n",
       "4  1000_4   2018-12-05     1000"
      ]
     },
     "execution_count": 7,
     "metadata": {},
     "output_type": "execute_result"
    }
   ],
   "source": [
    "messages = pd.read_csv('/datasets/messages.csv')\n",
    "messages.head(5)"
   ]
  },
  {
   "cell_type": "markdown",
   "id": "6c716f1f",
   "metadata": {},
   "source": [
    "Print basic information for the `messages` dataframe."
   ]
  },
  {
   "cell_type": "code",
   "execution_count": 8,
   "id": "4b4c5c46",
   "metadata": {},
   "outputs": [
    {
     "name": "stdout",
     "output_type": "stream",
     "text": [
      "<class 'pandas.core.frame.DataFrame'>\n",
      "RangeIndex: 123036 entries, 0 to 123035\n",
      "Data columns (total 3 columns):\n",
      " #   Column        Non-Null Count   Dtype \n",
      "---  ------        --------------   ----- \n",
      " 0   id            123036 non-null  object\n",
      " 1   message_date  123036 non-null  object\n",
      " 2   user_id       123036 non-null  int64 \n",
      "dtypes: int64(1), object(2)\n",
      "memory usage: 2.8+ MB\n"
     ]
    }
   ],
   "source": [
    "messages.info()"
   ]
  },
  {
   "cell_type": "markdown",
   "id": "34b33c4c",
   "metadata": {},
   "source": [
    "Let's open the `tariffs.csv` file, save the dataframe to the `tariffs` variable and display it on the screen."
   ]
  },
  {
   "cell_type": "code",
   "execution_count": 9,
   "id": "c8ba43f2",
   "metadata": {},
   "outputs": [
    {
     "data": {
      "text/html": [
       "<div>\n",
       "<style scoped>\n",
       "    .dataframe tbody tr th:only-of-type {\n",
       "        vertical-align: middle;\n",
       "    }\n",
       "\n",
       "    .dataframe tbody tr th {\n",
       "        vertical-align: top;\n",
       "    }\n",
       "\n",
       "    .dataframe thead th {\n",
       "        text-align: right;\n",
       "    }\n",
       "</style>\n",
       "<table border=\"1\" class=\"dataframe\">\n",
       "  <thead>\n",
       "    <tr style=\"text-align: right;\">\n",
       "      <th></th>\n",
       "      <th>messages_included</th>\n",
       "      <th>mb_per_month_included</th>\n",
       "      <th>minutes_included</th>\n",
       "      <th>rub_monthly_fee</th>\n",
       "      <th>rub_per_gb</th>\n",
       "      <th>rub_per_message</th>\n",
       "      <th>rub_per_minute</th>\n",
       "      <th>tariff_name</th>\n",
       "    </tr>\n",
       "  </thead>\n",
       "  <tbody>\n",
       "    <tr>\n",
       "      <th>0</th>\n",
       "      <td>50</td>\n",
       "      <td>15360</td>\n",
       "      <td>500</td>\n",
       "      <td>550</td>\n",
       "      <td>200</td>\n",
       "      <td>3</td>\n",
       "      <td>3</td>\n",
       "      <td>smart</td>\n",
       "    </tr>\n",
       "    <tr>\n",
       "      <th>1</th>\n",
       "      <td>1000</td>\n",
       "      <td>30720</td>\n",
       "      <td>3000</td>\n",
       "      <td>1950</td>\n",
       "      <td>150</td>\n",
       "      <td>1</td>\n",
       "      <td>1</td>\n",
       "      <td>ultra</td>\n",
       "    </tr>\n",
       "  </tbody>\n",
       "</table>\n",
       "</div>"
      ],
      "text/plain": [
       "   messages_included  mb_per_month_included  minutes_included  \\\n",
       "0                 50                  15360               500   \n",
       "1               1000                  30720              3000   \n",
       "\n",
       "   rub_monthly_fee  rub_per_gb  rub_per_message  rub_per_minute tariff_name  \n",
       "0              550         200                3               3       smart  \n",
       "1             1950         150                1               1       ultra  "
      ]
     },
     "execution_count": 9,
     "metadata": {},
     "output_type": "execute_result"
    }
   ],
   "source": [
    "tariffs = pd.read_csv('/datasets/tariffs.csv')\n",
    "tariffs"
   ]
  },
  {
   "cell_type": "markdown",
   "id": "9a43c8c5",
   "metadata": {},
   "source": [
    "Let's display the basic information for the `tariffs` dataframe."
   ]
  },
  {
   "cell_type": "code",
   "execution_count": 10,
   "id": "84d1008c",
   "metadata": {},
   "outputs": [
    {
     "name": "stdout",
     "output_type": "stream",
     "text": [
      "<class 'pandas.core.frame.DataFrame'>\n",
      "RangeIndex: 2 entries, 0 to 1\n",
      "Data columns (total 8 columns):\n",
      " #   Column                 Non-Null Count  Dtype \n",
      "---  ------                 --------------  ----- \n",
      " 0   messages_included      2 non-null      int64 \n",
      " 1   mb_per_month_included  2 non-null      int64 \n",
      " 2   minutes_included       2 non-null      int64 \n",
      " 3   rub_monthly_fee        2 non-null      int64 \n",
      " 4   rub_per_gb             2 non-null      int64 \n",
      " 5   rub_per_message        2 non-null      int64 \n",
      " 6   rub_per_minute         2 non-null      int64 \n",
      " 7   tariff_name            2 non-null      object\n",
      "dtypes: int64(7), object(1)\n",
      "memory usage: 256.0+ bytes\n"
     ]
    }
   ],
   "source": [
    "tariffs.info()"
   ]
  },
  {
   "cell_type": "markdown",
   "id": "f76c1c33",
   "metadata": {},
   "source": [
    "Let's open the `users.csv` file, save the dataframe to the `users` variable and display the first 5 lines on the screen."
   ]
  },
  {
   "cell_type": "code",
   "execution_count": 11,
   "id": "7c0c1e1c",
   "metadata": {},
   "outputs": [
    {
     "data": {
      "text/html": [
       "<div>\n",
       "<style scoped>\n",
       "    .dataframe tbody tr th:only-of-type {\n",
       "        vertical-align: middle;\n",
       "    }\n",
       "\n",
       "    .dataframe tbody tr th {\n",
       "        vertical-align: top;\n",
       "    }\n",
       "\n",
       "    .dataframe thead th {\n",
       "        text-align: right;\n",
       "    }\n",
       "</style>\n",
       "<table border=\"1\" class=\"dataframe\">\n",
       "  <thead>\n",
       "    <tr style=\"text-align: right;\">\n",
       "      <th></th>\n",
       "      <th>user_id</th>\n",
       "      <th>age</th>\n",
       "      <th>churn_date</th>\n",
       "      <th>city</th>\n",
       "      <th>first_name</th>\n",
       "      <th>last_name</th>\n",
       "      <th>reg_date</th>\n",
       "      <th>tariff</th>\n",
       "    </tr>\n",
       "  </thead>\n",
       "  <tbody>\n",
       "    <tr>\n",
       "      <th>0</th>\n",
       "      <td>1000</td>\n",
       "      <td>52</td>\n",
       "      <td>NaN</td>\n",
       "      <td>Краснодар</td>\n",
       "      <td>Рафаил</td>\n",
       "      <td>Верещагин</td>\n",
       "      <td>2018-05-25</td>\n",
       "      <td>ultra</td>\n",
       "    </tr>\n",
       "    <tr>\n",
       "      <th>1</th>\n",
       "      <td>1001</td>\n",
       "      <td>41</td>\n",
       "      <td>NaN</td>\n",
       "      <td>Москва</td>\n",
       "      <td>Иван</td>\n",
       "      <td>Ежов</td>\n",
       "      <td>2018-11-01</td>\n",
       "      <td>smart</td>\n",
       "    </tr>\n",
       "    <tr>\n",
       "      <th>2</th>\n",
       "      <td>1002</td>\n",
       "      <td>59</td>\n",
       "      <td>NaN</td>\n",
       "      <td>Стерлитамак</td>\n",
       "      <td>Евгений</td>\n",
       "      <td>Абрамович</td>\n",
       "      <td>2018-06-17</td>\n",
       "      <td>smart</td>\n",
       "    </tr>\n",
       "    <tr>\n",
       "      <th>3</th>\n",
       "      <td>1003</td>\n",
       "      <td>23</td>\n",
       "      <td>NaN</td>\n",
       "      <td>Москва</td>\n",
       "      <td>Белла</td>\n",
       "      <td>Белякова</td>\n",
       "      <td>2018-08-17</td>\n",
       "      <td>ultra</td>\n",
       "    </tr>\n",
       "    <tr>\n",
       "      <th>4</th>\n",
       "      <td>1004</td>\n",
       "      <td>68</td>\n",
       "      <td>NaN</td>\n",
       "      <td>Новокузнецк</td>\n",
       "      <td>Татьяна</td>\n",
       "      <td>Авдеенко</td>\n",
       "      <td>2018-05-14</td>\n",
       "      <td>ultra</td>\n",
       "    </tr>\n",
       "  </tbody>\n",
       "</table>\n",
       "</div>"
      ],
      "text/plain": [
       "   user_id  age churn_date         city first_name  last_name    reg_date  \\\n",
       "0     1000   52        NaN    Краснодар     Рафаил  Верещагин  2018-05-25   \n",
       "1     1001   41        NaN       Москва       Иван       Ежов  2018-11-01   \n",
       "2     1002   59        NaN  Стерлитамак    Евгений  Абрамович  2018-06-17   \n",
       "3     1003   23        NaN       Москва      Белла   Белякова  2018-08-17   \n",
       "4     1004   68        NaN  Новокузнецк    Татьяна   Авдеенко  2018-05-14   \n",
       "\n",
       "  tariff  \n",
       "0  ultra  \n",
       "1  smart  \n",
       "2  smart  \n",
       "3  ultra  \n",
       "4  ultra  "
      ]
     },
     "execution_count": 11,
     "metadata": {},
     "output_type": "execute_result"
    }
   ],
   "source": [
    "users = pd.read_csv('/datasets/users.csv')\n",
    "users.head(5)"
   ]
  },
  {
   "cell_type": "markdown",
   "id": "1a2afad4",
   "metadata": {},
   "source": [
    "Let's display the basic information for the `users` dataframe."
   ]
  },
  {
   "cell_type": "code",
   "execution_count": 12,
   "id": "a3e66939",
   "metadata": {},
   "outputs": [
    {
     "name": "stdout",
     "output_type": "stream",
     "text": [
      "<class 'pandas.core.frame.DataFrame'>\n",
      "RangeIndex: 500 entries, 0 to 499\n",
      "Data columns (total 8 columns):\n",
      " #   Column      Non-Null Count  Dtype \n",
      "---  ------      --------------  ----- \n",
      " 0   user_id     500 non-null    int64 \n",
      " 1   age         500 non-null    int64 \n",
      " 2   churn_date  38 non-null     object\n",
      " 3   city        500 non-null    object\n",
      " 4   first_name  500 non-null    object\n",
      " 5   last_name   500 non-null    object\n",
      " 6   reg_date    500 non-null    object\n",
      " 7   tariff      500 non-null    object\n",
      "dtypes: int64(2), object(6)\n",
      "memory usage: 31.4+ KB\n"
     ]
    }
   ],
   "source": [
    "users.info()"
   ]
  },
  {
   "cell_type": "markdown",
   "id": "e0d7be6f",
   "metadata": {},
   "source": [
    "## 3. Data preprocessing <a id='data_preprocessing'> </a>  "
   ]
  },
  {
   "cell_type": "markdown",
   "id": "4322ce89",
   "metadata": {},
   "source": [
    "Let's cast the columns  \n",
    "\n",
    "- `reg_date` from `users` table  \n",
    "- `churn_date` from `users` table  \n",
    "- `call_date` from table `calls`  \n",
    "- `message_date` from the `messages` table  \n",
    "- `session_date` from the `sessions` table  \n",
    "\n",
    "to type `datetime`."
   ]
  },
  {
   "cell_type": "code",
   "execution_count": 13,
   "id": "723f3852",
   "metadata": {},
   "outputs": [],
   "source": [
    "users['reg_date'] = pd.to_datetime(users['reg_date'], format='%Y-%m-%d')\n",
    "users['churn_date'] = pd.to_datetime(users['churn_date'], format='%Y-%m-%d')\n",
    "calls['call_date'] = pd.to_datetime(calls['call_date'], format='%Y-%m-%d')\n",
    "messages['message_date'] = pd.to_datetime(messages['message_date'], format='%Y-%m-%d')\n",
    "sessions['session_date'] = pd.to_datetime(sessions['session_date'], format='%Y-%m-%d')"
   ]
  },
  {
   "cell_type": "markdown",
   "id": "25de463f",
   "metadata": {},
   "source": [
    "There are calls with zero duration in the data. Zeros indicate missed calls, so they do not need to be deleted.\n",
    "\n",
    "However, in the `duration` column of the `calls` dataframe, the values are fractional. Let's round up the values of the `duration` column and cast the `duration` column to the `int` type."
   ]
  },
  {
   "cell_type": "code",
   "execution_count": 14,
   "id": "9986bfb0",
   "metadata": {},
   "outputs": [],
   "source": [
    "calls['duration'] = np.ceil(calls['duration']).astype('int')"
   ]
  },
  {
   "cell_type": "markdown",
   "id": "0b2d5403",
   "metadata": {},
   "source": [
    "Remove the `Unnamed: 0` column from the `sessions` dataframe. We won't need it."
   ]
  },
  {
   "cell_type": "code",
   "execution_count": 15,
   "id": "ebb519ec",
   "metadata": {},
   "outputs": [],
   "source": [
    "sessions = sessions.drop('Unnamed: 0', axis=1)"
   ]
  },
  {
   "cell_type": "markdown",
   "id": "420e31c5",
   "metadata": {},
   "source": [
    "Let's create a `month` column in the `calls` dataframe with the month number from the `call_date` column."
   ]
  },
  {
   "cell_type": "code",
   "execution_count": 16,
   "id": "d16938ab",
   "metadata": {},
   "outputs": [],
   "source": [
    "calls['month'] = calls['call_date'].dt.month"
   ]
  },
  {
   "cell_type": "markdown",
   "id": "59b52217",
   "metadata": {},
   "source": [
    "Let's create a `month` column in the `messages` dataframe with the month number from the `message_date` column."
   ]
  },
  {
   "cell_type": "code",
   "execution_count": 17,
   "id": "d2a23894",
   "metadata": {},
   "outputs": [],
   "source": [
    "messages['month'] = messages['message_date'].dt.month"
   ]
  },
  {
   "cell_type": "markdown",
   "id": "4e9f06a0",
   "metadata": {},
   "source": [
    "Let's create a `month` column in the `sessions` dataframe with the month number from the `session_date` column."
   ]
  },
  {
   "cell_type": "code",
   "execution_count": 18,
   "id": "1c4e270e",
   "metadata": {},
   "outputs": [],
   "source": [
    "sessions['month'] = sessions['session_date'].dt.month"
   ]
  },
  {
   "cell_type": "markdown",
   "id": "70a12d6d",
   "metadata": {},
   "source": [
    "Let's count the number of conversation calls made for each user by month and store it in the `calls_per_month` variable."
   ]
  },
  {
   "cell_type": "code",
   "execution_count": 19,
   "id": "9ab44d98",
   "metadata": {},
   "outputs": [],
   "source": [
    "calls_per_month = calls.groupby(by=['user_id', 'month']).agg(calls=('duration', 'count'))"
   ]
  },
  {
   "cell_type": "code",
   "execution_count": 20,
   "id": "5221a82f",
   "metadata": {},
   "outputs": [
    {
     "data": {
      "text/html": [
       "<div>\n",
       "<style scoped>\n",
       "    .dataframe tbody tr th:only-of-type {\n",
       "        vertical-align: middle;\n",
       "    }\n",
       "\n",
       "    .dataframe tbody tr th {\n",
       "        vertical-align: top;\n",
       "    }\n",
       "\n",
       "    .dataframe thead th {\n",
       "        text-align: right;\n",
       "    }\n",
       "</style>\n",
       "<table border=\"1\" class=\"dataframe\">\n",
       "  <thead>\n",
       "    <tr style=\"text-align: right;\">\n",
       "      <th></th>\n",
       "      <th></th>\n",
       "      <th>calls</th>\n",
       "    </tr>\n",
       "    <tr>\n",
       "      <th>user_id</th>\n",
       "      <th>month</th>\n",
       "      <th></th>\n",
       "    </tr>\n",
       "  </thead>\n",
       "  <tbody>\n",
       "    <tr>\n",
       "      <th rowspan=\"8\" valign=\"top\">1000</th>\n",
       "      <th>5</th>\n",
       "      <td>22</td>\n",
       "    </tr>\n",
       "    <tr>\n",
       "      <th>6</th>\n",
       "      <td>43</td>\n",
       "    </tr>\n",
       "    <tr>\n",
       "      <th>7</th>\n",
       "      <td>47</td>\n",
       "    </tr>\n",
       "    <tr>\n",
       "      <th>8</th>\n",
       "      <td>52</td>\n",
       "    </tr>\n",
       "    <tr>\n",
       "      <th>9</th>\n",
       "      <td>58</td>\n",
       "    </tr>\n",
       "    <tr>\n",
       "      <th>10</th>\n",
       "      <td>57</td>\n",
       "    </tr>\n",
       "    <tr>\n",
       "      <th>11</th>\n",
       "      <td>43</td>\n",
       "    </tr>\n",
       "    <tr>\n",
       "      <th>12</th>\n",
       "      <td>46</td>\n",
       "    </tr>\n",
       "    <tr>\n",
       "      <th rowspan=\"2\" valign=\"top\">1001</th>\n",
       "      <th>11</th>\n",
       "      <td>59</td>\n",
       "    </tr>\n",
       "    <tr>\n",
       "      <th>12</th>\n",
       "      <td>63</td>\n",
       "    </tr>\n",
       "    <tr>\n",
       "      <th rowspan=\"7\" valign=\"top\">1002</th>\n",
       "      <th>6</th>\n",
       "      <td>15</td>\n",
       "    </tr>\n",
       "    <tr>\n",
       "      <th>7</th>\n",
       "      <td>26</td>\n",
       "    </tr>\n",
       "    <tr>\n",
       "      <th>8</th>\n",
       "      <td>42</td>\n",
       "    </tr>\n",
       "    <tr>\n",
       "      <th>9</th>\n",
       "      <td>36</td>\n",
       "    </tr>\n",
       "    <tr>\n",
       "      <th>10</th>\n",
       "      <td>33</td>\n",
       "    </tr>\n",
       "    <tr>\n",
       "      <th>11</th>\n",
       "      <td>32</td>\n",
       "    </tr>\n",
       "    <tr>\n",
       "      <th>12</th>\n",
       "      <td>33</td>\n",
       "    </tr>\n",
       "    <tr>\n",
       "      <th rowspan=\"5\" valign=\"top\">1003</th>\n",
       "      <th>8</th>\n",
       "      <td>55</td>\n",
       "    </tr>\n",
       "    <tr>\n",
       "      <th>9</th>\n",
       "      <td>134</td>\n",
       "    </tr>\n",
       "    <tr>\n",
       "      <th>10</th>\n",
       "      <td>108</td>\n",
       "    </tr>\n",
       "    <tr>\n",
       "      <th>11</th>\n",
       "      <td>115</td>\n",
       "    </tr>\n",
       "    <tr>\n",
       "      <th>12</th>\n",
       "      <td>108</td>\n",
       "    </tr>\n",
       "    <tr>\n",
       "      <th rowspan=\"8\" valign=\"top\">1004</th>\n",
       "      <th>5</th>\n",
       "      <td>9</td>\n",
       "    </tr>\n",
       "    <tr>\n",
       "      <th>6</th>\n",
       "      <td>31</td>\n",
       "    </tr>\n",
       "    <tr>\n",
       "      <th>7</th>\n",
       "      <td>22</td>\n",
       "    </tr>\n",
       "    <tr>\n",
       "      <th>8</th>\n",
       "      <td>19</td>\n",
       "    </tr>\n",
       "    <tr>\n",
       "      <th>9</th>\n",
       "      <td>26</td>\n",
       "    </tr>\n",
       "    <tr>\n",
       "      <th>10</th>\n",
       "      <td>29</td>\n",
       "    </tr>\n",
       "    <tr>\n",
       "      <th>11</th>\n",
       "      <td>19</td>\n",
       "    </tr>\n",
       "    <tr>\n",
       "      <th>12</th>\n",
       "      <td>21</td>\n",
       "    </tr>\n",
       "  </tbody>\n",
       "</table>\n",
       "</div>"
      ],
      "text/plain": [
       "               calls\n",
       "user_id month       \n",
       "1000    5         22\n",
       "        6         43\n",
       "        7         47\n",
       "        8         52\n",
       "        9         58\n",
       "        10        57\n",
       "        11        43\n",
       "        12        46\n",
       "1001    11        59\n",
       "        12        63\n",
       "1002    6         15\n",
       "        7         26\n",
       "        8         42\n",
       "        9         36\n",
       "        10        33\n",
       "        11        32\n",
       "        12        33\n",
       "1003    8         55\n",
       "        9        134\n",
       "        10       108\n",
       "        11       115\n",
       "        12       108\n",
       "1004    5          9\n",
       "        6         31\n",
       "        7         22\n",
       "        8         19\n",
       "        9         26\n",
       "        10        29\n",
       "        11        19\n",
       "        12        21"
      ]
     },
     "execution_count": 20,
     "metadata": {},
     "output_type": "execute_result"
    }
   ],
   "source": [
    "calls_per_month.head(30)"
   ]
  },
  {
   "cell_type": "markdown",
   "id": "4e1c2c79",
   "metadata": {},
   "source": [
    "Let's count the number of spent minutes of conversation for each user by month and store it in the variable `minutes_per_month`."
   ]
  },
  {
   "cell_type": "code",
   "execution_count": 21,
   "id": "5b57f437",
   "metadata": {},
   "outputs": [],
   "source": [
    "minutes_per_month = calls.groupby(by=['user_id', 'month']).agg(minutes=('duration', 'sum'))"
   ]
  },
  {
   "cell_type": "code",
   "execution_count": 22,
   "id": "f68117b0",
   "metadata": {},
   "outputs": [
    {
     "data": {
      "text/html": [
       "<div>\n",
       "<style scoped>\n",
       "    .dataframe tbody tr th:only-of-type {\n",
       "        vertical-align: middle;\n",
       "    }\n",
       "\n",
       "    .dataframe tbody tr th {\n",
       "        vertical-align: top;\n",
       "    }\n",
       "\n",
       "    .dataframe thead th {\n",
       "        text-align: right;\n",
       "    }\n",
       "</style>\n",
       "<table border=\"1\" class=\"dataframe\">\n",
       "  <thead>\n",
       "    <tr style=\"text-align: right;\">\n",
       "      <th></th>\n",
       "      <th></th>\n",
       "      <th>minutes</th>\n",
       "    </tr>\n",
       "    <tr>\n",
       "      <th>user_id</th>\n",
       "      <th>month</th>\n",
       "      <th></th>\n",
       "    </tr>\n",
       "  </thead>\n",
       "  <tbody>\n",
       "    <tr>\n",
       "      <th rowspan=\"8\" valign=\"top\">1000</th>\n",
       "      <th>5</th>\n",
       "      <td>159</td>\n",
       "    </tr>\n",
       "    <tr>\n",
       "      <th>6</th>\n",
       "      <td>172</td>\n",
       "    </tr>\n",
       "    <tr>\n",
       "      <th>7</th>\n",
       "      <td>340</td>\n",
       "    </tr>\n",
       "    <tr>\n",
       "      <th>8</th>\n",
       "      <td>408</td>\n",
       "    </tr>\n",
       "    <tr>\n",
       "      <th>9</th>\n",
       "      <td>466</td>\n",
       "    </tr>\n",
       "    <tr>\n",
       "      <th>10</th>\n",
       "      <td>350</td>\n",
       "    </tr>\n",
       "    <tr>\n",
       "      <th>11</th>\n",
       "      <td>338</td>\n",
       "    </tr>\n",
       "    <tr>\n",
       "      <th>12</th>\n",
       "      <td>333</td>\n",
       "    </tr>\n",
       "    <tr>\n",
       "      <th rowspan=\"2\" valign=\"top\">1001</th>\n",
       "      <th>11</th>\n",
       "      <td>430</td>\n",
       "    </tr>\n",
       "    <tr>\n",
       "      <th>12</th>\n",
       "      <td>414</td>\n",
       "    </tr>\n",
       "    <tr>\n",
       "      <th rowspan=\"7\" valign=\"top\">1002</th>\n",
       "      <th>6</th>\n",
       "      <td>117</td>\n",
       "    </tr>\n",
       "    <tr>\n",
       "      <th>7</th>\n",
       "      <td>214</td>\n",
       "    </tr>\n",
       "    <tr>\n",
       "      <th>8</th>\n",
       "      <td>289</td>\n",
       "    </tr>\n",
       "    <tr>\n",
       "      <th>9</th>\n",
       "      <td>206</td>\n",
       "    </tr>\n",
       "    <tr>\n",
       "      <th>10</th>\n",
       "      <td>212</td>\n",
       "    </tr>\n",
       "    <tr>\n",
       "      <th>11</th>\n",
       "      <td>243</td>\n",
       "    </tr>\n",
       "    <tr>\n",
       "      <th>12</th>\n",
       "      <td>236</td>\n",
       "    </tr>\n",
       "    <tr>\n",
       "      <th rowspan=\"5\" valign=\"top\">1003</th>\n",
       "      <th>8</th>\n",
       "      <td>380</td>\n",
       "    </tr>\n",
       "    <tr>\n",
       "      <th>9</th>\n",
       "      <td>961</td>\n",
       "    </tr>\n",
       "    <tr>\n",
       "      <th>10</th>\n",
       "      <td>855</td>\n",
       "    </tr>\n",
       "    <tr>\n",
       "      <th>11</th>\n",
       "      <td>824</td>\n",
       "    </tr>\n",
       "    <tr>\n",
       "      <th>12</th>\n",
       "      <td>802</td>\n",
       "    </tr>\n",
       "    <tr>\n",
       "      <th rowspan=\"8\" valign=\"top\">1004</th>\n",
       "      <th>5</th>\n",
       "      <td>35</td>\n",
       "    </tr>\n",
       "    <tr>\n",
       "      <th>6</th>\n",
       "      <td>171</td>\n",
       "    </tr>\n",
       "    <tr>\n",
       "      <th>7</th>\n",
       "      <td>135</td>\n",
       "    </tr>\n",
       "    <tr>\n",
       "      <th>8</th>\n",
       "      <td>137</td>\n",
       "    </tr>\n",
       "    <tr>\n",
       "      <th>9</th>\n",
       "      <td>117</td>\n",
       "    </tr>\n",
       "    <tr>\n",
       "      <th>10</th>\n",
       "      <td>145</td>\n",
       "    </tr>\n",
       "    <tr>\n",
       "      <th>11</th>\n",
       "      <td>117</td>\n",
       "    </tr>\n",
       "    <tr>\n",
       "      <th>12</th>\n",
       "      <td>130</td>\n",
       "    </tr>\n",
       "  </tbody>\n",
       "</table>\n",
       "</div>"
      ],
      "text/plain": [
       "               minutes\n",
       "user_id month         \n",
       "1000    5          159\n",
       "        6          172\n",
       "        7          340\n",
       "        8          408\n",
       "        9          466\n",
       "        10         350\n",
       "        11         338\n",
       "        12         333\n",
       "1001    11         430\n",
       "        12         414\n",
       "1002    6          117\n",
       "        7          214\n",
       "        8          289\n",
       "        9          206\n",
       "        10         212\n",
       "        11         243\n",
       "        12         236\n",
       "1003    8          380\n",
       "        9          961\n",
       "        10         855\n",
       "        11         824\n",
       "        12         802\n",
       "1004    5           35\n",
       "        6          171\n",
       "        7          135\n",
       "        8          137\n",
       "        9          117\n",
       "        10         145\n",
       "        11         117\n",
       "        12         130"
      ]
     },
     "execution_count": 22,
     "metadata": {},
     "output_type": "execute_result"
    }
   ],
   "source": [
    "minutes_per_month.head(30)"
   ]
  },
  {
   "cell_type": "markdown",
   "id": "bec15aee",
   "metadata": {},
   "source": [
    "Let's count the number of sent messages by month for each user and store them in the `messages_per_month` variable."
   ]
  },
  {
   "cell_type": "code",
   "execution_count": 23,
   "id": "9f6e440f",
   "metadata": {},
   "outputs": [],
   "source": [
    "messages_per_month = messages.groupby(by=['user_id', 'month']).agg(messages=('message_date', 'count'))"
   ]
  },
  {
   "cell_type": "code",
   "execution_count": 24,
   "id": "5f12796f",
   "metadata": {},
   "outputs": [
    {
     "data": {
      "text/html": [
       "<div>\n",
       "<style scoped>\n",
       "    .dataframe tbody tr th:only-of-type {\n",
       "        vertical-align: middle;\n",
       "    }\n",
       "\n",
       "    .dataframe tbody tr th {\n",
       "        vertical-align: top;\n",
       "    }\n",
       "\n",
       "    .dataframe thead th {\n",
       "        text-align: right;\n",
       "    }\n",
       "</style>\n",
       "<table border=\"1\" class=\"dataframe\">\n",
       "  <thead>\n",
       "    <tr style=\"text-align: right;\">\n",
       "      <th></th>\n",
       "      <th></th>\n",
       "      <th>messages</th>\n",
       "    </tr>\n",
       "    <tr>\n",
       "      <th>user_id</th>\n",
       "      <th>month</th>\n",
       "      <th></th>\n",
       "    </tr>\n",
       "  </thead>\n",
       "  <tbody>\n",
       "    <tr>\n",
       "      <th rowspan=\"8\" valign=\"top\">1000</th>\n",
       "      <th>5</th>\n",
       "      <td>22</td>\n",
       "    </tr>\n",
       "    <tr>\n",
       "      <th>6</th>\n",
       "      <td>60</td>\n",
       "    </tr>\n",
       "    <tr>\n",
       "      <th>7</th>\n",
       "      <td>75</td>\n",
       "    </tr>\n",
       "    <tr>\n",
       "      <th>8</th>\n",
       "      <td>81</td>\n",
       "    </tr>\n",
       "    <tr>\n",
       "      <th>9</th>\n",
       "      <td>57</td>\n",
       "    </tr>\n",
       "    <tr>\n",
       "      <th>10</th>\n",
       "      <td>73</td>\n",
       "    </tr>\n",
       "    <tr>\n",
       "      <th>11</th>\n",
       "      <td>58</td>\n",
       "    </tr>\n",
       "    <tr>\n",
       "      <th>12</th>\n",
       "      <td>70</td>\n",
       "    </tr>\n",
       "    <tr>\n",
       "      <th rowspan=\"7\" valign=\"top\">1002</th>\n",
       "      <th>6</th>\n",
       "      <td>4</td>\n",
       "    </tr>\n",
       "    <tr>\n",
       "      <th>7</th>\n",
       "      <td>11</td>\n",
       "    </tr>\n",
       "    <tr>\n",
       "      <th>8</th>\n",
       "      <td>13</td>\n",
       "    </tr>\n",
       "    <tr>\n",
       "      <th>9</th>\n",
       "      <td>4</td>\n",
       "    </tr>\n",
       "    <tr>\n",
       "      <th>10</th>\n",
       "      <td>10</td>\n",
       "    </tr>\n",
       "    <tr>\n",
       "      <th>11</th>\n",
       "      <td>16</td>\n",
       "    </tr>\n",
       "    <tr>\n",
       "      <th>12</th>\n",
       "      <td>12</td>\n",
       "    </tr>\n",
       "    <tr>\n",
       "      <th rowspan=\"5\" valign=\"top\">1003</th>\n",
       "      <th>8</th>\n",
       "      <td>37</td>\n",
       "    </tr>\n",
       "    <tr>\n",
       "      <th>9</th>\n",
       "      <td>91</td>\n",
       "    </tr>\n",
       "    <tr>\n",
       "      <th>10</th>\n",
       "      <td>83</td>\n",
       "    </tr>\n",
       "    <tr>\n",
       "      <th>11</th>\n",
       "      <td>94</td>\n",
       "    </tr>\n",
       "    <tr>\n",
       "      <th>12</th>\n",
       "      <td>75</td>\n",
       "    </tr>\n",
       "    <tr>\n",
       "      <th rowspan=\"8\" valign=\"top\">1004</th>\n",
       "      <th>5</th>\n",
       "      <td>95</td>\n",
       "    </tr>\n",
       "    <tr>\n",
       "      <th>6</th>\n",
       "      <td>134</td>\n",
       "    </tr>\n",
       "    <tr>\n",
       "      <th>7</th>\n",
       "      <td>181</td>\n",
       "    </tr>\n",
       "    <tr>\n",
       "      <th>8</th>\n",
       "      <td>151</td>\n",
       "    </tr>\n",
       "    <tr>\n",
       "      <th>9</th>\n",
       "      <td>146</td>\n",
       "    </tr>\n",
       "    <tr>\n",
       "      <th>10</th>\n",
       "      <td>165</td>\n",
       "    </tr>\n",
       "    <tr>\n",
       "      <th>11</th>\n",
       "      <td>158</td>\n",
       "    </tr>\n",
       "    <tr>\n",
       "      <th>12</th>\n",
       "      <td>162</td>\n",
       "    </tr>\n",
       "    <tr>\n",
       "      <th rowspan=\"2\" valign=\"top\">1005</th>\n",
       "      <th>1</th>\n",
       "      <td>7</td>\n",
       "    </tr>\n",
       "    <tr>\n",
       "      <th>2</th>\n",
       "      <td>38</td>\n",
       "    </tr>\n",
       "  </tbody>\n",
       "</table>\n",
       "</div>"
      ],
      "text/plain": [
       "               messages\n",
       "user_id month          \n",
       "1000    5            22\n",
       "        6            60\n",
       "        7            75\n",
       "        8            81\n",
       "        9            57\n",
       "        10           73\n",
       "        11           58\n",
       "        12           70\n",
       "1002    6             4\n",
       "        7            11\n",
       "        8            13\n",
       "        9             4\n",
       "        10           10\n",
       "        11           16\n",
       "        12           12\n",
       "1003    8            37\n",
       "        9            91\n",
       "        10           83\n",
       "        11           94\n",
       "        12           75\n",
       "1004    5            95\n",
       "        6           134\n",
       "        7           181\n",
       "        8           151\n",
       "        9           146\n",
       "        10          165\n",
       "        11          158\n",
       "        12          162\n",
       "1005    1             7\n",
       "        2            38"
      ]
     },
     "execution_count": 24,
     "metadata": {},
     "output_type": "execute_result"
    }
   ],
   "source": [
    "messages_per_month.head(30)"
   ]
  },
  {
   "cell_type": "markdown",
   "id": "68d6a336",
   "metadata": {},
   "source": [
    "Let's count the number of megabytes spent per month for each user and save it to the `sessions_per_month` variable."
   ]
  },
  {
   "cell_type": "code",
   "execution_count": 25,
   "id": "b2121418",
   "metadata": {},
   "outputs": [],
   "source": [
    "sessions_per_month = sessions.groupby(by=['user_id', 'month']).agg({'mb_used': 'sum'})"
   ]
  },
  {
   "cell_type": "code",
   "execution_count": 26,
   "id": "7183594a",
   "metadata": {},
   "outputs": [
    {
     "data": {
      "text/html": [
       "<div>\n",
       "<style scoped>\n",
       "    .dataframe tbody tr th:only-of-type {\n",
       "        vertical-align: middle;\n",
       "    }\n",
       "\n",
       "    .dataframe tbody tr th {\n",
       "        vertical-align: top;\n",
       "    }\n",
       "\n",
       "    .dataframe thead th {\n",
       "        text-align: right;\n",
       "    }\n",
       "</style>\n",
       "<table border=\"1\" class=\"dataframe\">\n",
       "  <thead>\n",
       "    <tr style=\"text-align: right;\">\n",
       "      <th></th>\n",
       "      <th></th>\n",
       "      <th>mb_used</th>\n",
       "    </tr>\n",
       "    <tr>\n",
       "      <th>user_id</th>\n",
       "      <th>month</th>\n",
       "      <th></th>\n",
       "    </tr>\n",
       "  </thead>\n",
       "  <tbody>\n",
       "    <tr>\n",
       "      <th rowspan=\"8\" valign=\"top\">1000</th>\n",
       "      <th>5</th>\n",
       "      <td>2253.49</td>\n",
       "    </tr>\n",
       "    <tr>\n",
       "      <th>6</th>\n",
       "      <td>23233.77</td>\n",
       "    </tr>\n",
       "    <tr>\n",
       "      <th>7</th>\n",
       "      <td>14003.64</td>\n",
       "    </tr>\n",
       "    <tr>\n",
       "      <th>8</th>\n",
       "      <td>14055.93</td>\n",
       "    </tr>\n",
       "    <tr>\n",
       "      <th>9</th>\n",
       "      <td>14568.91</td>\n",
       "    </tr>\n",
       "    <tr>\n",
       "      <th>10</th>\n",
       "      <td>14702.49</td>\n",
       "    </tr>\n",
       "    <tr>\n",
       "      <th>11</th>\n",
       "      <td>14756.47</td>\n",
       "    </tr>\n",
       "    <tr>\n",
       "      <th>12</th>\n",
       "      <td>9817.61</td>\n",
       "    </tr>\n",
       "    <tr>\n",
       "      <th rowspan=\"2\" valign=\"top\">1001</th>\n",
       "      <th>11</th>\n",
       "      <td>18429.34</td>\n",
       "    </tr>\n",
       "    <tr>\n",
       "      <th>12</th>\n",
       "      <td>14036.66</td>\n",
       "    </tr>\n",
       "    <tr>\n",
       "      <th rowspan=\"7\" valign=\"top\">1002</th>\n",
       "      <th>6</th>\n",
       "      <td>10856.82</td>\n",
       "    </tr>\n",
       "    <tr>\n",
       "      <th>7</th>\n",
       "      <td>17580.10</td>\n",
       "    </tr>\n",
       "    <tr>\n",
       "      <th>8</th>\n",
       "      <td>20319.26</td>\n",
       "    </tr>\n",
       "    <tr>\n",
       "      <th>9</th>\n",
       "      <td>16691.08</td>\n",
       "    </tr>\n",
       "    <tr>\n",
       "      <th>10</th>\n",
       "      <td>13888.25</td>\n",
       "    </tr>\n",
       "    <tr>\n",
       "      <th>11</th>\n",
       "      <td>18587.28</td>\n",
       "    </tr>\n",
       "    <tr>\n",
       "      <th>12</th>\n",
       "      <td>18113.73</td>\n",
       "    </tr>\n",
       "    <tr>\n",
       "      <th rowspan=\"5\" valign=\"top\">1003</th>\n",
       "      <th>8</th>\n",
       "      <td>8565.21</td>\n",
       "    </tr>\n",
       "    <tr>\n",
       "      <th>9</th>\n",
       "      <td>12468.87</td>\n",
       "    </tr>\n",
       "    <tr>\n",
       "      <th>10</th>\n",
       "      <td>14768.14</td>\n",
       "    </tr>\n",
       "    <tr>\n",
       "      <th>11</th>\n",
       "      <td>11356.89</td>\n",
       "    </tr>\n",
       "    <tr>\n",
       "      <th>12</th>\n",
       "      <td>10121.53</td>\n",
       "    </tr>\n",
       "    <tr>\n",
       "      <th rowspan=\"8\" valign=\"top\">1004</th>\n",
       "      <th>5</th>\n",
       "      <td>13403.98</td>\n",
       "    </tr>\n",
       "    <tr>\n",
       "      <th>6</th>\n",
       "      <td>17600.02</td>\n",
       "    </tr>\n",
       "    <tr>\n",
       "      <th>7</th>\n",
       "      <td>22229.58</td>\n",
       "    </tr>\n",
       "    <tr>\n",
       "      <th>8</th>\n",
       "      <td>28584.37</td>\n",
       "    </tr>\n",
       "    <tr>\n",
       "      <th>9</th>\n",
       "      <td>15109.03</td>\n",
       "    </tr>\n",
       "    <tr>\n",
       "      <th>10</th>\n",
       "      <td>18475.44</td>\n",
       "    </tr>\n",
       "    <tr>\n",
       "      <th>11</th>\n",
       "      <td>15616.02</td>\n",
       "    </tr>\n",
       "    <tr>\n",
       "      <th>12</th>\n",
       "      <td>18021.04</td>\n",
       "    </tr>\n",
       "  </tbody>\n",
       "</table>\n",
       "</div>"
      ],
      "text/plain": [
       "                mb_used\n",
       "user_id month          \n",
       "1000    5       2253.49\n",
       "        6      23233.77\n",
       "        7      14003.64\n",
       "        8      14055.93\n",
       "        9      14568.91\n",
       "        10     14702.49\n",
       "        11     14756.47\n",
       "        12      9817.61\n",
       "1001    11     18429.34\n",
       "        12     14036.66\n",
       "1002    6      10856.82\n",
       "        7      17580.10\n",
       "        8      20319.26\n",
       "        9      16691.08\n",
       "        10     13888.25\n",
       "        11     18587.28\n",
       "        12     18113.73\n",
       "1003    8       8565.21\n",
       "        9      12468.87\n",
       "        10     14768.14\n",
       "        11     11356.89\n",
       "        12     10121.53\n",
       "1004    5      13403.98\n",
       "        6      17600.02\n",
       "        7      22229.58\n",
       "        8      28584.37\n",
       "        9      15109.03\n",
       "        10     18475.44\n",
       "        11     15616.02\n",
       "        12     18021.04"
      ]
     },
     "execution_count": 26,
     "metadata": {},
     "output_type": "execute_result"
    }
   ],
   "source": [
    "sessions_per_month.head(30)"
   ]
  },
  {
   "cell_type": "markdown",
   "id": "4d5530ce",
   "metadata": {},
   "source": [
    "## 4. Data analysis and revenue calculation <a id='research'> </a> "
   ]
  },
  {
   "cell_type": "markdown",
   "id": "598f38bf",
   "metadata": {},
   "source": [
    "We combine all the values calculated above into one dataframe `user_behavior`.\n",
    "For each \"user - month\" pair, information about the tariff, the number of calls, messages and spent megabytes will be available."
   ]
  },
  {
   "cell_type": "code",
   "execution_count": 27,
   "id": "7a0dbf4f",
   "metadata": {},
   "outputs": [
    {
     "data": {
      "text/plain": [
       "7.6"
      ]
     },
     "execution_count": 27,
     "metadata": {},
     "output_type": "execute_result"
    }
   ],
   "source": [
    "users['churn_date'].count() / users['churn_date'].shape[0] * 100"
   ]
  },
  {
   "cell_type": "markdown",
   "id": "ed1b3bbb",
   "metadata": {},
   "source": [
    "7.6% of clients from the dataset terminated the contract."
   ]
  },
  {
   "cell_type": "code",
   "execution_count": 28,
   "id": "b395dfc7",
   "metadata": {},
   "outputs": [
    {
     "data": {
      "text/html": [
       "<div>\n",
       "<style scoped>\n",
       "    .dataframe tbody tr th:only-of-type {\n",
       "        vertical-align: middle;\n",
       "    }\n",
       "\n",
       "    .dataframe tbody tr th {\n",
       "        vertical-align: top;\n",
       "    }\n",
       "\n",
       "    .dataframe thead th {\n",
       "        text-align: right;\n",
       "    }\n",
       "</style>\n",
       "<table border=\"1\" class=\"dataframe\">\n",
       "  <thead>\n",
       "    <tr style=\"text-align: right;\">\n",
       "      <th></th>\n",
       "      <th>user_id</th>\n",
       "      <th>month</th>\n",
       "      <th>calls</th>\n",
       "      <th>messages</th>\n",
       "      <th>mb_used</th>\n",
       "      <th>minutes</th>\n",
       "      <th>age</th>\n",
       "      <th>churn_date</th>\n",
       "      <th>city</th>\n",
       "      <th>first_name</th>\n",
       "      <th>last_name</th>\n",
       "      <th>reg_date</th>\n",
       "      <th>tariff</th>\n",
       "    </tr>\n",
       "  </thead>\n",
       "  <tbody>\n",
       "    <tr>\n",
       "      <th>0</th>\n",
       "      <td>1000</td>\n",
       "      <td>5</td>\n",
       "      <td>22.0</td>\n",
       "      <td>22.0</td>\n",
       "      <td>2253.49</td>\n",
       "      <td>159.0</td>\n",
       "      <td>52</td>\n",
       "      <td>NaT</td>\n",
       "      <td>Краснодар</td>\n",
       "      <td>Рафаил</td>\n",
       "      <td>Верещагин</td>\n",
       "      <td>2018-05-25</td>\n",
       "      <td>ultra</td>\n",
       "    </tr>\n",
       "    <tr>\n",
       "      <th>1</th>\n",
       "      <td>1000</td>\n",
       "      <td>6</td>\n",
       "      <td>43.0</td>\n",
       "      <td>60.0</td>\n",
       "      <td>23233.77</td>\n",
       "      <td>172.0</td>\n",
       "      <td>52</td>\n",
       "      <td>NaT</td>\n",
       "      <td>Краснодар</td>\n",
       "      <td>Рафаил</td>\n",
       "      <td>Верещагин</td>\n",
       "      <td>2018-05-25</td>\n",
       "      <td>ultra</td>\n",
       "    </tr>\n",
       "    <tr>\n",
       "      <th>2</th>\n",
       "      <td>1000</td>\n",
       "      <td>7</td>\n",
       "      <td>47.0</td>\n",
       "      <td>75.0</td>\n",
       "      <td>14003.64</td>\n",
       "      <td>340.0</td>\n",
       "      <td>52</td>\n",
       "      <td>NaT</td>\n",
       "      <td>Краснодар</td>\n",
       "      <td>Рафаил</td>\n",
       "      <td>Верещагин</td>\n",
       "      <td>2018-05-25</td>\n",
       "      <td>ultra</td>\n",
       "    </tr>\n",
       "    <tr>\n",
       "      <th>3</th>\n",
       "      <td>1000</td>\n",
       "      <td>8</td>\n",
       "      <td>52.0</td>\n",
       "      <td>81.0</td>\n",
       "      <td>14055.93</td>\n",
       "      <td>408.0</td>\n",
       "      <td>52</td>\n",
       "      <td>NaT</td>\n",
       "      <td>Краснодар</td>\n",
       "      <td>Рафаил</td>\n",
       "      <td>Верещагин</td>\n",
       "      <td>2018-05-25</td>\n",
       "      <td>ultra</td>\n",
       "    </tr>\n",
       "    <tr>\n",
       "      <th>4</th>\n",
       "      <td>1000</td>\n",
       "      <td>9</td>\n",
       "      <td>58.0</td>\n",
       "      <td>57.0</td>\n",
       "      <td>14568.91</td>\n",
       "      <td>466.0</td>\n",
       "      <td>52</td>\n",
       "      <td>NaT</td>\n",
       "      <td>Краснодар</td>\n",
       "      <td>Рафаил</td>\n",
       "      <td>Верещагин</td>\n",
       "      <td>2018-05-25</td>\n",
       "      <td>ultra</td>\n",
       "    </tr>\n",
       "  </tbody>\n",
       "</table>\n",
       "</div>"
      ],
      "text/plain": [
       "   user_id  month  calls  messages   mb_used  minutes  age churn_date  \\\n",
       "0     1000      5   22.0      22.0   2253.49    159.0   52        NaT   \n",
       "1     1000      6   43.0      60.0  23233.77    172.0   52        NaT   \n",
       "2     1000      7   47.0      75.0  14003.64    340.0   52        NaT   \n",
       "3     1000      8   52.0      81.0  14055.93    408.0   52        NaT   \n",
       "4     1000      9   58.0      57.0  14568.91    466.0   52        NaT   \n",
       "\n",
       "        city first_name  last_name   reg_date tariff  \n",
       "0  Краснодар     Рафаил  Верещагин 2018-05-25  ultra  \n",
       "1  Краснодар     Рафаил  Верещагин 2018-05-25  ultra  \n",
       "2  Краснодар     Рафаил  Верещагин 2018-05-25  ultra  \n",
       "3  Краснодар     Рафаил  Верещагин 2018-05-25  ultra  \n",
       "4  Краснодар     Рафаил  Верещагин 2018-05-25  ultra  "
      ]
     },
     "execution_count": 28,
     "metadata": {},
     "output_type": "execute_result"
    }
   ],
   "source": [
    "user_behavior = calls_per_month\\\n",
    "    .merge(messages_per_month, left_index=True, right_index=True, how='outer')\\\n",
    "    .merge(sessions_per_month, left_index=True, right_index=True, how='outer')\\\n",
    "    .merge(minutes_per_month, left_index=True, right_index=True, how='outer')\\\n",
    "    .reset_index()\\\n",
    "    .merge(users, how='left', left_on='user_id', right_on='user_id')\\\n",
    "\n",
    "user_behavior.head()"
   ]
  },
  {
   "cell_type": "markdown",
   "id": "6399d863",
   "metadata": {},
   "source": [
    "Check for gaps in the `user behavior` table after the join:"
   ]
  },
  {
   "cell_type": "code",
   "execution_count": 29,
   "id": "b953dfbc",
   "metadata": {},
   "outputs": [
    {
     "data": {
      "text/plain": [
       "user_id          0\n",
       "month            0\n",
       "calls           40\n",
       "messages       497\n",
       "mb_used         11\n",
       "minutes         40\n",
       "age              0\n",
       "churn_date    3027\n",
       "city             0\n",
       "first_name       0\n",
       "last_name        0\n",
       "reg_date         0\n",
       "tariff           0\n",
       "dtype: int64"
      ]
     },
     "execution_count": 29,
     "metadata": {},
     "output_type": "execute_result"
    }
   ],
   "source": [
    "user_behavior.isna().sum()"
   ]
  },
  {
   "cell_type": "markdown",
   "id": "320560a2",
   "metadata": {},
   "source": [
    "Let's fill in the gaps in the data:"
   ]
  },
  {
   "cell_type": "code",
   "execution_count": 30,
   "id": "e44b7c71",
   "metadata": {},
   "outputs": [],
   "source": [
    "user_behavior['calls'] = user_behavior['calls'].fillna(0)\n",
    "user_behavior['minutes'] = user_behavior['minutes'].fillna(0)\n",
    "user_behavior['messages'] = user_behavior['messages'].fillna(0)\n",
    "user_behavior['mb_used'] = user_behavior['mb_used'].fillna(0)"
   ]
  },
  {
   "cell_type": "markdown",
   "id": "d1f362c7",
   "metadata": {},
   "source": [
    "Attaching information about tariffs."
   ]
  },
  {
   "cell_type": "code",
   "execution_count": 31,
   "id": "528d6293",
   "metadata": {},
   "outputs": [],
   "source": [
    "# renaming the tariff_name column to a simpler tariff\n",
    "\n",
    "tariffs = tariffs.rename(\n",
    "    columns={\n",
    "        'tariff_name': 'tariff'\n",
    "    }\n",
    ")"
   ]
  },
  {
   "cell_type": "code",
   "execution_count": 32,
   "id": "515cbc91",
   "metadata": {},
   "outputs": [],
   "source": [
    "user_behavior = user_behavior.merge(tariffs, on='tariff')"
   ]
  },
  {
   "cell_type": "markdown",
   "id": "032d157c",
   "metadata": {},
   "source": [
    "We count the number of minutes of conversation, messages and megabytes exceeding those included in the tariff."
   ]
  },
  {
   "cell_type": "code",
   "execution_count": 33,
   "id": "48694c1d",
   "metadata": {},
   "outputs": [],
   "source": [
    "user_behavior['paid_minutes'] = user_behavior['minutes'] - user_behavior['minutes_included']\n",
    "user_behavior['paid_messages'] = user_behavior['messages'] - user_behavior['messages_included']\n",
    "user_behavior['paid_mb'] = user_behavior['mb_used'] - user_behavior['mb_per_month_included']\n",
    "\n",
    "for col in ['paid_messages', 'paid_minutes', 'paid_mb']:\n",
    "    user_behavior.loc[user_behavior[col] < 0, col] = 0"
   ]
  },
  {
   "cell_type": "markdown",
   "id": "eab13a38",
   "metadata": {},
   "source": [
    "We convert the megabytes exceeding the tariff into gigabytes and save it in the `paid_gb` column."
   ]
  },
  {
   "cell_type": "code",
   "execution_count": 34,
   "id": "3936b086",
   "metadata": {},
   "outputs": [],
   "source": [
    "user_behavior['paid_gb'] = np.ceil(user_behavior['paid_mb'] / 1024).astype(int)"
   ]
  },
  {
   "cell_type": "markdown",
   "id": "9983193e",
   "metadata": {},
   "source": [
    "We consider revenue for minutes of conversation, messages and the Internet."
   ]
  },
  {
   "cell_type": "code",
   "execution_count": 35,
   "id": "641c56f4",
   "metadata": {},
   "outputs": [],
   "source": [
    "user_behavior['cost_minutes'] = user_behavior['paid_minutes'] * user_behavior['rub_per_minute']\n",
    "user_behavior['cost_messages'] = user_behavior['paid_messages'] * user_behavior['rub_per_message']\n",
    "user_behavior['cost_gb'] = user_behavior['paid_gb'] * user_behavior['rub_per_gb']"
   ]
  },
  {
   "cell_type": "markdown",
   "id": "d326b2ad",
   "metadata": {},
   "source": [
    "We count the monthly revenue from each user, it will be stored in the `total_cost` column."
   ]
  },
  {
   "cell_type": "code",
   "execution_count": 36,
   "id": "1ccccffc",
   "metadata": {},
   "outputs": [],
   "source": [
    "user_behavior['total_cost'] = \\\n",
    "      user_behavior['rub_monthly_fee']\\\n",
    "    + user_behavior['cost_minutes']\\\n",
    "    + user_behavior['cost_messages']\\\n",
    "    + user_behavior['cost_gb']"
   ]
  },
  {
   "cell_type": "markdown",
   "id": "c454c313",
   "metadata": {},
   "source": [
    "The `stats_df` dataframe for each \"month-tariff\" pair will store the main characteristics."
   ]
  },
  {
   "cell_type": "code",
   "execution_count": 37,
   "id": "f2e05d51",
   "metadata": {},
   "outputs": [
    {
     "data": {
      "text/html": [
       "<div>\n",
       "<style scoped>\n",
       "    .dataframe tbody tr th:only-of-type {\n",
       "        vertical-align: middle;\n",
       "    }\n",
       "\n",
       "    .dataframe tbody tr th {\n",
       "        vertical-align: top;\n",
       "    }\n",
       "\n",
       "    .dataframe thead th {\n",
       "        text-align: right;\n",
       "    }\n",
       "</style>\n",
       "<table border=\"1\" class=\"dataframe\">\n",
       "  <thead>\n",
       "    <tr style=\"text-align: right;\">\n",
       "      <th></th>\n",
       "      <th>month</th>\n",
       "      <th>tariff</th>\n",
       "      <th>calls_mean</th>\n",
       "      <th>sessions_mean</th>\n",
       "      <th>messages_mean</th>\n",
       "      <th>minutes_mean</th>\n",
       "      <th>calls_std</th>\n",
       "      <th>sessions_std</th>\n",
       "      <th>messages_std</th>\n",
       "      <th>minutes_std</th>\n",
       "      <th>calls_median</th>\n",
       "      <th>sessions_median</th>\n",
       "      <th>messages_median</th>\n",
       "      <th>minutes_median</th>\n",
       "    </tr>\n",
       "  </thead>\n",
       "  <tbody>\n",
       "    <tr>\n",
       "      <th>0</th>\n",
       "      <td>1</td>\n",
       "      <td>smart</td>\n",
       "      <td>27.68</td>\n",
       "      <td>8513.72</td>\n",
       "      <td>18.24</td>\n",
       "      <td>203.85</td>\n",
       "      <td>20.81</td>\n",
       "      <td>6444.68</td>\n",
       "      <td>16.20</td>\n",
       "      <td>154.23</td>\n",
       "      <td>20.5</td>\n",
       "      <td>7096.18</td>\n",
       "      <td>15.0</td>\n",
       "      <td>162.5</td>\n",
       "    </tr>\n",
       "    <tr>\n",
       "      <th>1</th>\n",
       "      <td>1</td>\n",
       "      <td>ultra</td>\n",
       "      <td>59.44</td>\n",
       "      <td>13140.68</td>\n",
       "      <td>33.78</td>\n",
       "      <td>428.11</td>\n",
       "      <td>41.64</td>\n",
       "      <td>6865.35</td>\n",
       "      <td>30.67</td>\n",
       "      <td>269.76</td>\n",
       "      <td>51.0</td>\n",
       "      <td>14791.37</td>\n",
       "      <td>32.0</td>\n",
       "      <td>382.0</td>\n",
       "    </tr>\n",
       "    <tr>\n",
       "      <th>2</th>\n",
       "      <td>2</td>\n",
       "      <td>smart</td>\n",
       "      <td>40.19</td>\n",
       "      <td>11597.05</td>\n",
       "      <td>24.09</td>\n",
       "      <td>298.69</td>\n",
       "      <td>25.39</td>\n",
       "      <td>6247.35</td>\n",
       "      <td>21.75</td>\n",
       "      <td>190.82</td>\n",
       "      <td>38.5</td>\n",
       "      <td>12553.71</td>\n",
       "      <td>20.0</td>\n",
       "      <td>258.0</td>\n",
       "    </tr>\n",
       "    <tr>\n",
       "      <th>3</th>\n",
       "      <td>2</td>\n",
       "      <td>ultra</td>\n",
       "      <td>41.54</td>\n",
       "      <td>11775.94</td>\n",
       "      <td>21.96</td>\n",
       "      <td>297.12</td>\n",
       "      <td>40.97</td>\n",
       "      <td>10644.64</td>\n",
       "      <td>26.77</td>\n",
       "      <td>296.51</td>\n",
       "      <td>25.0</td>\n",
       "      <td>7327.12</td>\n",
       "      <td>5.5</td>\n",
       "      <td>168.0</td>\n",
       "    </tr>\n",
       "    <tr>\n",
       "      <th>4</th>\n",
       "      <td>3</td>\n",
       "      <td>smart</td>\n",
       "      <td>54.32</td>\n",
       "      <td>15104.16</td>\n",
       "      <td>31.86</td>\n",
       "      <td>390.05</td>\n",
       "      <td>25.54</td>\n",
       "      <td>5828.24</td>\n",
       "      <td>26.80</td>\n",
       "      <td>191.89</td>\n",
       "      <td>59.0</td>\n",
       "      <td>15670.25</td>\n",
       "      <td>23.0</td>\n",
       "      <td>409.0</td>\n",
       "    </tr>\n",
       "    <tr>\n",
       "      <th>5</th>\n",
       "      <td>3</td>\n",
       "      <td>ultra</td>\n",
       "      <td>67.68</td>\n",
       "      <td>17535.55</td>\n",
       "      <td>32.30</td>\n",
       "      <td>489.65</td>\n",
       "      <td>44.84</td>\n",
       "      <td>10951.79</td>\n",
       "      <td>41.62</td>\n",
       "      <td>333.74</td>\n",
       "      <td>57.0</td>\n",
       "      <td>17495.18</td>\n",
       "      <td>20.0</td>\n",
       "      <td>403.0</td>\n",
       "    </tr>\n",
       "    <tr>\n",
       "      <th>6</th>\n",
       "      <td>4</td>\n",
       "      <td>smart</td>\n",
       "      <td>51.31</td>\n",
       "      <td>13462.18</td>\n",
       "      <td>30.74</td>\n",
       "      <td>367.13</td>\n",
       "      <td>25.70</td>\n",
       "      <td>5698.25</td>\n",
       "      <td>24.54</td>\n",
       "      <td>186.49</td>\n",
       "      <td>52.0</td>\n",
       "      <td>14087.65</td>\n",
       "      <td>28.0</td>\n",
       "      <td>368.5</td>\n",
       "    </tr>\n",
       "    <tr>\n",
       "      <th>7</th>\n",
       "      <td>4</td>\n",
       "      <td>ultra</td>\n",
       "      <td>64.09</td>\n",
       "      <td>16828.13</td>\n",
       "      <td>31.56</td>\n",
       "      <td>458.02</td>\n",
       "      <td>36.27</td>\n",
       "      <td>9718.65</td>\n",
       "      <td>37.51</td>\n",
       "      <td>267.68</td>\n",
       "      <td>61.0</td>\n",
       "      <td>16645.78</td>\n",
       "      <td>17.0</td>\n",
       "      <td>453.0</td>\n",
       "    </tr>\n",
       "    <tr>\n",
       "      <th>8</th>\n",
       "      <td>5</td>\n",
       "      <td>smart</td>\n",
       "      <td>55.24</td>\n",
       "      <td>15805.18</td>\n",
       "      <td>33.77</td>\n",
       "      <td>387.36</td>\n",
       "      <td>25.38</td>\n",
       "      <td>5978.23</td>\n",
       "      <td>27.04</td>\n",
       "      <td>186.60</td>\n",
       "      <td>59.0</td>\n",
       "      <td>16323.94</td>\n",
       "      <td>30.0</td>\n",
       "      <td>433.0</td>\n",
       "    </tr>\n",
       "    <tr>\n",
       "      <th>9</th>\n",
       "      <td>5</td>\n",
       "      <td>ultra</td>\n",
       "      <td>72.51</td>\n",
       "      <td>19363.15</td>\n",
       "      <td>37.85</td>\n",
       "      <td>510.33</td>\n",
       "      <td>41.08</td>\n",
       "      <td>10046.11</td>\n",
       "      <td>40.31</td>\n",
       "      <td>289.60</td>\n",
       "      <td>75.0</td>\n",
       "      <td>18696.43</td>\n",
       "      <td>25.0</td>\n",
       "      <td>519.0</td>\n",
       "    </tr>\n",
       "  </tbody>\n",
       "</table>\n",
       "</div>"
      ],
      "text/plain": [
       "   month tariff  calls_mean  sessions_mean  messages_mean  minutes_mean  \\\n",
       "0      1  smart       27.68        8513.72          18.24        203.85   \n",
       "1      1  ultra       59.44       13140.68          33.78        428.11   \n",
       "2      2  smart       40.19       11597.05          24.09        298.69   \n",
       "3      2  ultra       41.54       11775.94          21.96        297.12   \n",
       "4      3  smart       54.32       15104.16          31.86        390.05   \n",
       "5      3  ultra       67.68       17535.55          32.30        489.65   \n",
       "6      4  smart       51.31       13462.18          30.74        367.13   \n",
       "7      4  ultra       64.09       16828.13          31.56        458.02   \n",
       "8      5  smart       55.24       15805.18          33.77        387.36   \n",
       "9      5  ultra       72.51       19363.15          37.85        510.33   \n",
       "\n",
       "   calls_std  sessions_std  messages_std  minutes_std  calls_median  \\\n",
       "0      20.81       6444.68         16.20       154.23          20.5   \n",
       "1      41.64       6865.35         30.67       269.76          51.0   \n",
       "2      25.39       6247.35         21.75       190.82          38.5   \n",
       "3      40.97      10644.64         26.77       296.51          25.0   \n",
       "4      25.54       5828.24         26.80       191.89          59.0   \n",
       "5      44.84      10951.79         41.62       333.74          57.0   \n",
       "6      25.70       5698.25         24.54       186.49          52.0   \n",
       "7      36.27       9718.65         37.51       267.68          61.0   \n",
       "8      25.38       5978.23         27.04       186.60          59.0   \n",
       "9      41.08      10046.11         40.31       289.60          75.0   \n",
       "\n",
       "   sessions_median  messages_median  minutes_median  \n",
       "0          7096.18             15.0           162.5  \n",
       "1         14791.37             32.0           382.0  \n",
       "2         12553.71             20.0           258.0  \n",
       "3          7327.12              5.5           168.0  \n",
       "4         15670.25             23.0           409.0  \n",
       "5         17495.18             20.0           403.0  \n",
       "6         14087.65             28.0           368.5  \n",
       "7         16645.78             17.0           453.0  \n",
       "8         16323.94             30.0           433.0  \n",
       "9         18696.43             25.0           519.0  "
      ]
     },
     "execution_count": 37,
     "metadata": {},
     "output_type": "execute_result"
    }
   ],
   "source": [
    "# saving statistical metrics for each month-tariff pair\n",
    "# in one table stats_df (mean, standard deviation, median)\n",
    "\n",
    "stats_df = user_behavior.pivot_table(\n",
    "            index=['month', 'tariff'],\\\n",
    "            values=['calls', 'minutes', 'messages', 'mb_used'],\\\n",
    "            aggfunc=['mean', 'std', 'median']\\\n",
    ").round(2).reset_index()\n",
    "\n",
    "stats_df.columns=['month', 'tariff', 'calls_mean', 'sessions_mean', 'messages_mean', 'minutes_mean',\n",
    "                                     'calls_std',  'sessions_std', 'messages_std', 'minutes_std', \n",
    "                                     'calls_median', 'sessions_median', 'messages_median',  'minutes_median']\n",
    "\n",
    "stats_df.head(10)"
   ]
  },
  {
   "cell_type": "markdown",
   "id": "9de75206",
   "metadata": {},
   "source": [
    "Distribution of the average number of calls by types of tariffs and months"
   ]
  },
  {
   "cell_type": "code",
   "execution_count": 38,
   "id": "c52afd16",
   "metadata": {},
   "outputs": [
    {
     "data": {
      "image/png": "[encoded data removed]",
      "text/plain": [
       "<Figure size 432x288 with 1 Axes>"
      ]
     },
     "metadata": {
      "needs_background": "light"
     },
     "output_type": "display_data"
    }
   ],
   "source": [
    "import seaborn as sns\n",
    "\n",
    "ax = sns.barplot(x='month',\n",
    "            y='calls_mean',\n",
    "            hue=\"tariff\",\n",
    "            data=stats_df,\n",
    "            palette=['lightblue', 'blue'])\n",
    "\n",
    "ax.set_title('Distribution of the number of calls by types of tariffs and months')\n",
    "ax.set(xlabel='Number of month', ylabel='Average number of calls');"
   ]
  },
  {
   "cell_type": "code",
   "execution_count": 39,
   "id": "a10ad8aa",
   "metadata": {},
   "outputs": [
    {
     "data": {
      "image/png": "[encoded data removed]",
      "text/plain": [
       "<Figure size 432x288 with 1 Axes>"
      ]
     },
     "metadata": {
      "needs_background": "light"
     },
     "output_type": "display_data"
    }
   ],
   "source": [
    "import matplotlib.pyplot as plt\n",
    "\n",
    "user_behavior.groupby('tariff')['calls'].plot(kind='hist', bins=35, alpha=0.5)\n",
    "plt.legend(['Smart', 'Ultra'])\n",
    "plt.xlabel('Number of calls')\n",
    "plt.ylabel('Number of clients')\n",
    "plt.show()"
   ]
  },
  {
   "cell_type": "markdown",
   "id": "4de68ebf",
   "metadata": {},
   "source": [
    "Distribution of average call duration by types of tariffs and months."
   ]
  },
  {
   "cell_type": "code",
   "execution_count": 40,
   "id": "ef4b8036",
   "metadata": {},
   "outputs": [
    {
     "data": {
      "image/png": "[encoded data removed]",
      "text/plain": [
       "<Figure size 432x288 with 1 Axes>"
      ]
     },
     "metadata": {
      "needs_background": "light"
     },
     "output_type": "display_data"
    }
   ],
   "source": [
    "ax = sns.barplot(x='month',\n",
    "            y='minutes_mean',\n",
    "            hue=\"tariff\",\n",
    "            data=stats_df,\n",
    "            palette=['lightblue', 'blue'])\n",
    "\n",
    "ax.set_title('Distribution of call duration by types of tariffs and months')\n",
    "ax.set(xlabel='Number of month', ylabel='Average call duration');"
   ]
  },
  {
   "cell_type": "code",
   "execution_count": 41,
   "id": "f996462e",
   "metadata": {},
   "outputs": [
    {
     "data": {
      "image/png": "[encoded data removed]",
      "text/plain": [
       "<Figure size 432x288 with 1 Axes>"
      ]
     },
     "metadata": {
      "needs_background": "light"
     },
     "output_type": "display_data"
    }
   ],
   "source": [
    "user_behavior[user_behavior['tariff'] =='smart']['minutes'].hist(bins=35, alpha=0.5, color='green')\n",
    "user_behavior[user_behavior['tariff'] =='ultra']['minutes'].hist(bins=35, alpha=0.5, color='blue');"
   ]
  },
  {
   "cell_type": "markdown",
   "id": "88d87ab9",
   "metadata": {},
   "source": [
    "The average duration of calls for Ultra tariff subscribers is longer than for Smart tariff subscribers. During the year, users of both tariffs increase the average duration of their calls. The growth of the average duration of calls for subscribers of the Smart tariff is uniform throughout the year. Users of the Ultra tariff do not show such linear stability. It should be noted that in February subscribers of both tariff plans had the lowest rates."
   ]
  },
  {
   "cell_type": "markdown",
   "id": "3e5e010f",
   "metadata": {},
   "source": [
    "Distribution of the average number of messages by types of tariffs and months."
   ]
  },
  {
   "cell_type": "code",
   "execution_count": 42,
   "id": "61168dff",
   "metadata": {},
   "outputs": [
    {
     "data": {
      "image/png": "[encoded data removed]",
      "text/plain": [
       "<Figure size 432x288 with 1 Axes>"
      ]
     },
     "metadata": {
      "needs_background": "light"
     },
     "output_type": "display_data"
    }
   ],
   "source": [
    "ax = sns.barplot(x='month',\n",
    "            y='messages_mean',\n",
    "            hue=\"tariff\",\n",
    "            data=stats_df,\n",
    "            palette=['lightblue', 'blue']\n",
    ")\n",
    "\n",
    "ax.set_title('Distribution of the number of messages by types of tariffs and months')\n",
    "ax.set(xlabel='Number of month', ylabel='Average number of messages');"
   ]
  },
  {
   "cell_type": "code",
   "execution_count": 43,
   "id": "d900ad19",
   "metadata": {},
   "outputs": [
    {
     "data": {
      "image/png": "[encoded data removed]",
      "text/plain": [
       "<Figure size 432x288 with 1 Axes>"
      ]
     },
     "metadata": {
      "needs_background": "light"
     },
     "output_type": "display_data"
    }
   ],
   "source": [
    "user_behavior[user_behavior['tariff'] =='smart']['messages'].hist(bins=35, alpha=0.5, color='green')\n",
    "user_behavior[user_behavior['tariff'] =='ultra']['messages'].hist(bins=35, alpha=0.5, color='blue');"
   ]
  },
  {
   "cell_type": "markdown",
   "id": "01c66b08",
   "metadata": {},
   "source": [
    "On average, Ultra tariff users send more messages - almost 20 messages more than Smart tariff users. The number of messages during the year on both tariffs is growing. The dynamics of sending messages is similar to the trends in terms of the duration of calls: in February, the smallest number of messages per year was noted, and users of the Ultra tariff also show non-linear positive dynamics."
   ]
  },
  {
   "cell_type": "markdown",
   "id": "96d9c09d",
   "metadata": {},
   "source": [
    "Distribution of the amount of spent traffic (Mb) by types of tariffs and months."
   ]
  },
  {
   "cell_type": "code",
   "execution_count": 44,
   "id": "414b27b0",
   "metadata": {},
   "outputs": [
    {
     "data": {
      "image/png": "[encoded data removed]",
      "text/plain": [
       "<Figure size 432x288 with 1 Axes>"
      ]
     },
     "metadata": {
      "needs_background": "light"
     },
     "output_type": "display_data"
    }
   ],
   "source": [
    "ax = sns.barplot(x='month',\n",
    "            y='sessions_mean',\n",
    "            hue=\"tariff\",\n",
    "            data=stats_df,\n",
    "            palette=['lightblue', 'blue']\n",
    ")\n",
    "\n",
    "ax.set_title('Distribution of the amount of spent traffic (Mb) by types of tariffs and months')\n",
    "ax.set(xlabel='Number of month', ylabel='Average number of megabytes');"
   ]
  },
  {
   "cell_type": "markdown",
   "id": "0eb07c5f",
   "metadata": {},
   "source": [
    "Comparison of megabytes spent among users of Smart and Ultra tariffs"
   ]
  },
  {
   "cell_type": "code",
   "execution_count": 45,
   "id": "f31b65c1",
   "metadata": {},
   "outputs": [
    {
     "data": {
      "image/png": "[encoded data removed]",
      "text/plain": [
       "<Figure size 432x288 with 1 Axes>"
      ]
     },
     "metadata": {
      "needs_background": "light"
     },
     "output_type": "display_data"
    }
   ],
   "source": [
    "user_behavior[user_behavior['tariff'] =='smart']['mb_used'].hist(bins=35, alpha=0.5, color='green')\n",
    "user_behavior[user_behavior['tariff'] =='ultra']['mb_used'].hist(bins=35, alpha=0.5, color='blue');"
   ]
  },
  {
   "cell_type": "markdown",
   "id": "75f803fb",
   "metadata": {},
   "source": [
    "Users used the Internet the least in January, February and April. Most often, subscribers of the Smart tariff plan spend 15-17 GB, and subscribers of the Ultra tariff plan - 19-21 GB."
   ]
  },
  {
   "cell_type": "markdown",
   "id": "618e022f",
   "metadata": {},
   "source": [
    "## 5. Hypothesis testing <a id='hypothesis_testing'> </a>"
   ]
  },
  {
   "cell_type": "markdown",
   "id": "3eaf743a",
   "metadata": {},
   "source": [
    "Hypothesis testing: the average revenue of users of the Ultra and Smart tariffs are different;\n",
    "\n",
    "```\n",
    "H_0: Revenue (total_cost) of \"Ultra\" users = revenue (total_cost) of \"Smart\" users`\n",
    "H_a: Revenue (total_cost) of \"Ultra\" users ≠ revenue (total_cost) of \"Smart\" users`\n",
    "alpha = 0.05\n",
    "```"
   ]
  },
  {
   "cell_type": "code",
   "execution_count": 46,
   "id": "de3f8d54",
   "metadata": {},
   "outputs": [
    {
     "name": "stdout",
     "output_type": "stream",
     "text": [
      "p-value: 4.2606313931076085e-250\n",
      "Rejecting the null hypothesis\n"
     ]
    }
   ],
   "source": [
    "results = st.ttest_ind(user_behavior\n",
    "                       .loc[user_behavior['tariff'] == 'smart', 'total_cost'],\n",
    "                      user_behavior.\n",
    "                      loc[user_behavior['tariff'] == 'ultra', 'total_cost'],\n",
    "                      equal_var=False)\n",
    "\n",
    "alpha = 0.05\n",
    "\n",
    "print('p-value:', results.pvalue)\n",
    "if results.pvalue < alpha:\n",
    "    print('Rejecting the null hypothesis')\n",
    "else:\n",
    "    print('Failed to reject the null hypothesis')"
   ]
  },
  {
   "cell_type": "markdown",
   "id": "127a6984",
   "metadata": {},
   "source": [
    "Hypothesis testing: the average revenue of Ultra tariff users is greater than the average revenue of Smart tariff users;\n",
    "\n",
    "```\n",
    "H_0: Revenue (total_cost) of \"Ultra\" users = revenue (total_cost) of \"Smart\" users`\n",
    "H_a: Revenue (total_cost) of \"Ultra\" users > revenue (total_cost) of \"Smart\" users`\n",
    "alpha = 0.05\n",
    "```"
   ]
  },
  {
   "cell_type": "code",
   "execution_count": 47,
   "id": "bce32194",
   "metadata": {},
   "outputs": [
    {
     "name": "stdout",
     "output_type": "stream",
     "text": [
      "p-value: 2.1303156965538042e-250\n",
      "Rejecting the null hypothesis\n"
     ]
    }
   ],
   "source": [
    "results = st.ttest_ind(user_behavior\n",
    "                       .loc[user_behavior['tariff'] == 'smart', 'total_cost'],\n",
    "                      user_behavior.\n",
    "                      loc[user_behavior['tariff'] == 'ultra', 'total_cost'],\n",
    "                      equal_var=False)\n",
    "\n",
    "alpha = 0.05\n",
    "\n",
    "print('p-value:', results.pvalue / 2)\n",
    "if (results.pvalue / 2 < alpha) and (user_behavior\n",
    "                       .loc[user_behavior['tariff'] == 'ultra', 'total_cost'].mean() > user_behavior\n",
    "                       .loc[user_behavior['tariff'] == 'smart', 'total_cost'].mean()):\n",
    "    print('Rejecting the null hypothesis')\n",
    "else:\n",
    "    print('Failed to reject the null hypothesis')"
   ]
  },
  {
   "cell_type": "markdown",
   "id": "96406192",
   "metadata": {},
   "source": [
    "Hypothesis testing: users from Moscow bring in more revenue than users from other cities;\n",
    "\n",
    "```\n",
    "H_0: Revenue (total_cost) of users from Moscow = revenue (total_cost) of users not from Moscow`\n",
    "H_1: Revenue (total_cost) of users from Moscow ≠ revenue (total_cost) of users not from Moscow`\n",
    "alpha = 0.05\n",
    "```"
   ]
  },
  {
   "cell_type": "code",
   "execution_count": 48,
   "id": "49fb9d11",
   "metadata": {},
   "outputs": [
    {
     "name": "stdout",
     "output_type": "stream",
     "text": [
      "p-value: 0.5257376663729298\n",
      "Failed to reject the null hypothesis\n"
     ]
    }
   ],
   "source": [
    "results = st.ttest_ind(user_behavior\n",
    "                       .loc[user_behavior['city'] == 'Москва', 'total_cost'],\n",
    "                      user_behavior\n",
    "                       .loc[user_behavior['city'] != 'Москва', 'total_cost'],\n",
    "                      equal_var=False)\n",
    "\n",
    "alpha = .05\n",
    "\n",
    "print('p-value:', results.pvalue)\n",
    "if results.pvalue < alpha:\n",
    "    print('Rejecting the null hypothesis')\n",
    "else:\n",
    "    print('Failed to reject the null hypothesis')"
   ]
  },
  {
   "cell_type": "markdown",
   "id": "cc56f173",
   "metadata": {},
   "source": [
    "## 6. Research results <a id='research_results'> </a>"
   ]
  },
  {
   "cell_type": "markdown",
   "id": "822a7931",
   "metadata": {},
   "source": [
    "1. The \"Ultra\" tariff brings in more revenue than the \"Smart\" tariff.\n",
    "2. Users from Moscow do not bring in more revenue than users from other cities."
   ]
  }
 ],
 "metadata": {
  "ExecuteTimeLog": [
   {
    "duration": 884,
    "start_time": "2022-07-30T19:31:17.503Z"
   },
   {
    "duration": 174,
    "start_time": "2022-07-30T19:31:23.997Z"
   },
   {
    "duration": 28,
    "start_time": "2022-07-30T19:31:32.415Z"
   },
   {
    "duration": 1092,
    "start_time": "2022-07-30T19:36:43.816Z"
   },
   {
    "duration": 162,
    "start_time": "2022-07-30T19:36:45.015Z"
   },
   {
    "duration": 24,
    "start_time": "2022-07-30T19:38:01.658Z"
   },
   {
    "duration": 453,
    "start_time": "2022-07-30T19:39:06.091Z"
   },
   {
    "duration": 281,
    "start_time": "2022-07-30T19:39:36.573Z"
   },
   {
    "duration": 158,
    "start_time": "2022-07-30T19:40:00.849Z"
   },
   {
    "duration": 171,
    "start_time": "2022-07-30T19:41:44.723Z"
   },
   {
    "duration": 20,
    "start_time": "2022-07-30T19:42:36.696Z"
   },
   {
    "duration": 151,
    "start_time": "2022-07-30T19:43:08.051Z"
   },
   {
    "duration": 120,
    "start_time": "2022-07-30T19:44:12.052Z"
   },
   {
    "duration": 19,
    "start_time": "2022-07-30T19:44:48.403Z"
   },
   {
    "duration": 32,
    "start_time": "2022-07-30T19:46:19.274Z"
   },
   {
    "duration": 13,
    "start_time": "2022-07-30T19:46:58.266Z"
   },
   {
    "duration": 51,
    "start_time": "2022-07-30T19:48:00.439Z"
   },
   {
    "duration": 19,
    "start_time": "2022-07-30T19:48:49.013Z"
   },
   {
    "duration": 89,
    "start_time": "2022-07-30T19:51:14.416Z"
   },
   {
    "duration": 6,
    "start_time": "2022-07-30T19:53:30.048Z"
   },
   {
    "duration": 9,
    "start_time": "2022-07-30T19:54:30.259Z"
   },
   {
    "duration": 25,
    "start_time": "2022-07-30T19:55:08.550Z"
   },
   {
    "duration": 16,
    "start_time": "2022-07-30T19:55:37.550Z"
   },
   {
    "duration": 19,
    "start_time": "2022-07-30T19:56:02.783Z"
   },
   {
    "duration": 27,
    "start_time": "2022-07-30T19:56:56.155Z"
   },
   {
    "duration": 8,
    "start_time": "2022-07-30T19:57:24.689Z"
   },
   {
    "duration": 28,
    "start_time": "2022-07-30T19:58:34.282Z"
   },
   {
    "duration": 10,
    "start_time": "2022-07-30T19:58:39.919Z"
   },
   {
    "duration": 20,
    "start_time": "2022-07-30T19:59:36.546Z"
   },
   {
    "duration": 17,
    "start_time": "2022-07-30T19:59:41.221Z"
   },
   {
    "duration": 20,
    "start_time": "2022-07-30T20:00:20.347Z"
   },
   {
    "duration": 11,
    "start_time": "2022-07-30T20:00:25.400Z"
   },
   {
    "duration": 6,
    "start_time": "2022-07-30T20:02:42.340Z"
   },
   {
    "duration": 41,
    "start_time": "2022-07-30T20:03:28.300Z"
   },
   {
    "duration": 9,
    "start_time": "2022-07-30T20:03:50.003Z"
   },
   {
    "duration": 63,
    "start_time": "2022-07-30T20:04:00.086Z"
   },
   {
    "duration": 6,
    "start_time": "2022-07-30T20:04:11.890Z"
   },
   {
    "duration": 3,
    "start_time": "2022-07-30T20:05:27.902Z"
   },
   {
    "duration": 8,
    "start_time": "2022-07-30T20:05:35.983Z"
   },
   {
    "duration": 12,
    "start_time": "2022-07-30T20:05:58.417Z"
   },
   {
    "duration": 56,
    "start_time": "2022-07-30T20:06:14.098Z"
   },
   {
    "duration": 5,
    "start_time": "2022-07-30T20:06:26.903Z"
   },
   {
    "duration": 58,
    "start_time": "2022-07-30T20:06:45.318Z"
   },
   {
    "duration": 7,
    "start_time": "2022-07-30T20:06:56.350Z"
   },
   {
    "duration": 55,
    "start_time": "2022-07-30T20:07:05.431Z"
   },
   {
    "duration": 5,
    "start_time": "2022-07-30T20:07:20.246Z"
   },
   {
    "duration": 55,
    "start_time": "2022-07-30T20:08:14.478Z"
   },
   {
    "duration": 91,
    "start_time": "2022-07-30T20:09:12.594Z"
   },
   {
    "duration": 389,
    "start_time": "2022-07-30T20:09:29.750Z"
   },
   {
    "duration": 353,
    "start_time": "2022-07-30T20:10:19.388Z"
   },
   {
    "duration": 378,
    "start_time": "2022-07-30T20:11:05.870Z"
   },
   {
    "duration": 231,
    "start_time": "2022-07-30T20:11:50.744Z"
   },
   {
    "duration": 48,
    "start_time": "2022-07-30T20:13:07.465Z"
   },
   {
    "duration": 284,
    "start_time": "2022-07-30T20:13:18.540Z"
   },
   {
    "duration": 217,
    "start_time": "2022-07-30T20:13:34.725Z"
   },
   {
    "duration": 327,
    "start_time": "2022-07-30T20:15:09.926Z"
   },
   {
    "duration": 322,
    "start_time": "2022-07-30T20:15:32.933Z"
   },
   {
    "duration": 8,
    "start_time": "2022-07-30T20:17:29.447Z"
   },
   {
    "duration": 7,
    "start_time": "2022-07-30T20:18:32.396Z"
   },
   {
    "duration": 9,
    "start_time": "2022-07-30T20:19:05.726Z"
   },
   {
    "duration": 12,
    "start_time": "2022-07-30T20:25:09.319Z"
   },
   {
    "duration": 6,
    "start_time": "2022-07-30T20:26:24.414Z"
   },
   {
    "duration": 5,
    "start_time": "2022-07-30T20:26:42.056Z"
   },
   {
    "duration": 1092,
    "start_time": "2022-07-30T20:27:28.004Z"
   },
   {
    "duration": 40,
    "start_time": "2022-07-30T20:27:29.099Z"
   },
   {
    "duration": 442,
    "start_time": "2022-07-30T20:27:29.141Z"
   },
   {
    "duration": 156,
    "start_time": "2022-07-30T20:27:29.585Z"
   },
   {
    "duration": 22,
    "start_time": "2022-07-30T20:27:29.743Z"
   },
   {
    "duration": 186,
    "start_time": "2022-07-30T20:27:29.768Z"
   },
   {
    "duration": 119,
    "start_time": "2022-07-30T20:27:29.955Z"
   },
   {
    "duration": 18,
    "start_time": "2022-07-30T20:27:30.076Z"
   },
   {
    "duration": 23,
    "start_time": "2022-07-30T20:27:30.096Z"
   },
   {
    "duration": 13,
    "start_time": "2022-07-30T20:27:30.122Z"
   },
   {
    "duration": 54,
    "start_time": "2022-07-30T20:27:30.136Z"
   },
   {
    "duration": 11,
    "start_time": "2022-07-30T20:27:30.191Z"
   },
   {
    "duration": 110,
    "start_time": "2022-07-30T20:27:30.204Z"
   },
   {
    "duration": 6,
    "start_time": "2022-07-30T20:27:30.316Z"
   },
   {
    "duration": 26,
    "start_time": "2022-07-30T20:27:30.323Z"
   },
   {
    "duration": 44,
    "start_time": "2022-07-30T20:27:30.351Z"
   },
   {
    "duration": 16,
    "start_time": "2022-07-30T20:27:30.396Z"
   },
   {
    "duration": 20,
    "start_time": "2022-07-30T20:27:30.414Z"
   },
   {
    "duration": 44,
    "start_time": "2022-07-30T20:27:30.438Z"
   },
   {
    "duration": 17,
    "start_time": "2022-07-30T20:27:30.484Z"
   },
   {
    "duration": 57,
    "start_time": "2022-07-30T20:27:30.503Z"
   },
   {
    "duration": 20,
    "start_time": "2022-07-30T20:27:30.561Z"
   },
   {
    "duration": 36,
    "start_time": "2022-07-30T20:27:30.582Z"
   },
   {
    "duration": 19,
    "start_time": "2022-07-30T20:27:30.620Z"
   },
   {
    "duration": 39,
    "start_time": "2022-07-30T20:27:30.641Z"
   },
   {
    "duration": 15,
    "start_time": "2022-07-30T20:27:30.681Z"
   },
   {
    "duration": 20,
    "start_time": "2022-07-30T20:27:30.698Z"
   },
   {
    "duration": 68,
    "start_time": "2022-07-30T20:27:30.723Z"
   },
   {
    "duration": 7,
    "start_time": "2022-07-30T20:27:30.793Z"
   },
   {
    "duration": 36,
    "start_time": "2022-07-30T20:27:30.802Z"
   },
   {
    "duration": 11,
    "start_time": "2022-07-30T20:27:30.839Z"
   },
   {
    "duration": 31,
    "start_time": "2022-07-30T20:27:30.852Z"
   },
   {
    "duration": 60,
    "start_time": "2022-07-30T20:27:30.885Z"
   },
   {
    "duration": 7,
    "start_time": "2022-07-30T20:27:30.947Z"
   },
   {
    "duration": 41,
    "start_time": "2022-07-30T20:27:30.956Z"
   },
   {
    "duration": 29,
    "start_time": "2022-07-30T20:27:30.998Z"
   },
   {
    "duration": 73,
    "start_time": "2022-07-30T20:27:31.029Z"
   },
   {
    "duration": 394,
    "start_time": "2022-07-30T20:27:31.103Z"
   },
   {
    "duration": 284,
    "start_time": "2022-07-30T20:27:31.499Z"
   },
   {
    "duration": 364,
    "start_time": "2022-07-30T20:27:31.785Z"
   },
   {
    "duration": 313,
    "start_time": "2022-07-30T20:27:32.151Z"
   },
   {
    "duration": 284,
    "start_time": "2022-07-30T20:27:32.465Z"
   },
   {
    "duration": 236,
    "start_time": "2022-07-30T20:27:32.751Z"
   },
   {
    "duration": 340,
    "start_time": "2022-07-30T20:27:32.988Z"
   },
   {
    "duration": 240,
    "start_time": "2022-07-30T20:27:33.329Z"
   },
   {
    "duration": 7,
    "start_time": "2022-07-30T20:27:33.571Z"
   },
   {
    "duration": 14,
    "start_time": "2022-07-30T20:27:33.580Z"
   },
   {
    "duration": 7,
    "start_time": "2022-07-30T20:27:33.595Z"
   },
   {
    "duration": 1049,
    "start_time": "2022-07-30T20:29:25.570Z"
   },
   {
    "duration": 30,
    "start_time": "2022-07-30T20:29:26.621Z"
   },
   {
    "duration": 441,
    "start_time": "2022-07-30T20:29:26.653Z"
   },
   {
    "duration": 151,
    "start_time": "2022-07-30T20:29:27.096Z"
   },
   {
    "duration": 20,
    "start_time": "2022-07-30T20:29:27.249Z"
   },
   {
    "duration": 173,
    "start_time": "2022-07-30T20:29:27.270Z"
   },
   {
    "duration": 112,
    "start_time": "2022-07-30T20:29:27.444Z"
   },
   {
    "duration": 21,
    "start_time": "2022-07-30T20:29:27.558Z"
   },
   {
    "duration": 24,
    "start_time": "2022-07-30T20:29:27.581Z"
   },
   {
    "duration": 31,
    "start_time": "2022-07-30T20:29:27.608Z"
   },
   {
    "duration": 43,
    "start_time": "2022-07-30T20:29:27.641Z"
   },
   {
    "duration": 11,
    "start_time": "2022-07-30T20:29:27.686Z"
   },
   {
    "duration": 87,
    "start_time": "2022-07-30T20:29:27.699Z"
   },
   {
    "duration": 6,
    "start_time": "2022-07-30T20:29:27.788Z"
   },
   {
    "duration": 11,
    "start_time": "2022-07-30T20:29:27.795Z"
   },
   {
    "duration": 33,
    "start_time": "2022-07-30T20:29:27.808Z"
   },
   {
    "duration": 16,
    "start_time": "2022-07-30T20:29:27.843Z"
   },
   {
    "duration": 19,
    "start_time": "2022-07-30T20:29:27.860Z"
   },
   {
    "duration": 42,
    "start_time": "2022-07-30T20:29:27.881Z"
   },
   {
    "duration": 12,
    "start_time": "2022-07-30T20:29:27.926Z"
   },
   {
    "duration": 32,
    "start_time": "2022-07-30T20:29:27.940Z"
   },
   {
    "duration": 8,
    "start_time": "2022-07-30T20:29:27.974Z"
   },
   {
    "duration": 22,
    "start_time": "2022-07-30T20:29:27.983Z"
   },
   {
    "duration": 34,
    "start_time": "2022-07-30T20:29:28.006Z"
   },
   {
    "duration": 44,
    "start_time": "2022-07-30T20:29:28.042Z"
   },
   {
    "duration": 20,
    "start_time": "2022-07-30T20:29:28.088Z"
   },
   {
    "duration": 31,
    "start_time": "2022-07-30T20:29:28.109Z"
   },
   {
    "duration": 54,
    "start_time": "2022-07-30T20:29:28.144Z"
   },
   {
    "duration": 8,
    "start_time": "2022-07-30T20:29:28.200Z"
   },
   {
    "duration": 29,
    "start_time": "2022-07-30T20:29:28.209Z"
   },
   {
    "duration": 37,
    "start_time": "2022-07-30T20:29:28.240Z"
   },
   {
    "duration": 43,
    "start_time": "2022-07-30T20:29:28.278Z"
   },
   {
    "duration": 30,
    "start_time": "2022-07-30T20:29:28.323Z"
   },
   {
    "duration": 4,
    "start_time": "2022-07-30T20:29:28.355Z"
   },
   {
    "duration": 9,
    "start_time": "2022-07-30T20:29:28.361Z"
   },
   {
    "duration": 7,
    "start_time": "2022-07-30T20:29:28.372Z"
   },
   {
    "duration": 51,
    "start_time": "2022-07-30T20:29:28.381Z"
   },
   {
    "duration": 380,
    "start_time": "2022-07-30T20:29:28.434Z"
   },
   {
    "duration": 333,
    "start_time": "2022-07-30T20:29:28.815Z"
   },
   {
    "duration": 373,
    "start_time": "2022-07-30T20:29:29.150Z"
   },
   {
    "duration": 336,
    "start_time": "2022-07-30T20:29:29.527Z"
   },
   {
    "duration": 310,
    "start_time": "2022-07-30T20:29:29.865Z"
   },
   {
    "duration": 235,
    "start_time": "2022-07-30T20:29:30.178Z"
   },
   {
    "duration": 339,
    "start_time": "2022-07-30T20:29:30.415Z"
   },
   {
    "duration": 243,
    "start_time": "2022-07-30T20:29:30.756Z"
   },
   {
    "duration": 7,
    "start_time": "2022-07-30T20:29:31.001Z"
   },
   {
    "duration": 27,
    "start_time": "2022-07-30T20:29:31.009Z"
   },
   {
    "duration": 19,
    "start_time": "2022-07-30T20:29:31.038Z"
   },
   {
    "duration": 989,
    "start_time": "2022-07-30T20:32:39.757Z"
   },
   {
    "duration": 23,
    "start_time": "2022-07-30T20:32:40.748Z"
   },
   {
    "duration": 435,
    "start_time": "2022-07-30T20:32:40.773Z"
   },
   {
    "duration": 142,
    "start_time": "2022-07-30T20:32:41.210Z"
   },
   {
    "duration": 20,
    "start_time": "2022-07-30T20:32:41.354Z"
   },
   {
    "duration": 172,
    "start_time": "2022-07-30T20:32:41.375Z"
   },
   {
    "duration": 102,
    "start_time": "2022-07-30T20:32:41.549Z"
   },
   {
    "duration": 17,
    "start_time": "2022-07-30T20:32:41.653Z"
   },
   {
    "duration": 31,
    "start_time": "2022-07-30T20:32:41.671Z"
   },
   {
    "duration": 10,
    "start_time": "2022-07-30T20:32:41.704Z"
   },
   {
    "duration": 40,
    "start_time": "2022-07-30T20:32:41.715Z"
   },
   {
    "duration": 12,
    "start_time": "2022-07-30T20:32:41.757Z"
   },
   {
    "duration": 82,
    "start_time": "2022-07-30T20:32:41.771Z"
   },
   {
    "duration": 6,
    "start_time": "2022-07-30T20:32:41.856Z"
   },
   {
    "duration": 8,
    "start_time": "2022-07-30T20:32:41.864Z"
   },
   {
    "duration": 27,
    "start_time": "2022-07-30T20:32:41.873Z"
   },
   {
    "duration": 32,
    "start_time": "2022-07-30T20:32:41.902Z"
   },
   {
    "duration": 19,
    "start_time": "2022-07-30T20:32:41.936Z"
   },
   {
    "duration": 24,
    "start_time": "2022-07-30T20:32:41.956Z"
   },
   {
    "duration": 8,
    "start_time": "2022-07-30T20:32:41.981Z"
   },
   {
    "duration": 57,
    "start_time": "2022-07-30T20:32:41.990Z"
   },
   {
    "duration": 8,
    "start_time": "2022-07-30T20:32:42.049Z"
   },
   {
    "duration": 21,
    "start_time": "2022-07-30T20:32:42.058Z"
   },
   {
    "duration": 8,
    "start_time": "2022-07-30T20:32:42.081Z"
   },
   {
    "duration": 46,
    "start_time": "2022-07-30T20:32:42.091Z"
   },
   {
    "duration": 10,
    "start_time": "2022-07-30T20:32:42.141Z"
   },
   {
    "duration": 6,
    "start_time": "2022-07-30T20:32:42.153Z"
   },
   {
    "duration": 37,
    "start_time": "2022-07-30T20:32:42.161Z"
   },
   {
    "duration": 24,
    "start_time": "2022-07-30T20:32:42.200Z"
   },
   {
    "duration": 7,
    "start_time": "2022-07-30T20:32:42.225Z"
   },
   {
    "duration": 10,
    "start_time": "2022-07-30T20:32:42.234Z"
   },
   {
    "duration": 19,
    "start_time": "2022-07-30T20:32:42.245Z"
   },
   {
    "duration": 9,
    "start_time": "2022-07-30T20:32:42.265Z"
   },
   {
    "duration": 8,
    "start_time": "2022-07-30T20:32:42.276Z"
   },
   {
    "duration": 9,
    "start_time": "2022-07-30T20:32:42.285Z"
   },
   {
    "duration": 12,
    "start_time": "2022-07-30T20:32:42.295Z"
   },
   {
    "duration": 57,
    "start_time": "2022-07-30T20:32:42.308Z"
   },
   {
    "duration": 404,
    "start_time": "2022-07-30T20:32:42.366Z"
   },
   {
    "duration": 294,
    "start_time": "2022-07-30T20:32:42.771Z"
   },
   {
    "duration": 339,
    "start_time": "2022-07-30T20:32:43.067Z"
   },
   {
    "duration": 317,
    "start_time": "2022-07-30T20:32:43.409Z"
   },
   {
    "duration": 292,
    "start_time": "2022-07-30T20:32:43.728Z"
   },
   {
    "duration": 232,
    "start_time": "2022-07-30T20:32:44.024Z"
   },
   {
    "duration": 324,
    "start_time": "2022-07-30T20:32:44.257Z"
   },
   {
    "duration": 243,
    "start_time": "2022-07-30T20:32:44.582Z"
   },
   {
    "duration": 8,
    "start_time": "2022-07-30T20:32:44.827Z"
   },
   {
    "duration": 20,
    "start_time": "2022-07-30T20:32:44.836Z"
   },
   {
    "duration": 7,
    "start_time": "2022-07-30T20:32:44.858Z"
   },
   {
    "duration": 404,
    "start_time": "2022-07-30T21:13:08.941Z"
   },
   {
    "duration": 364,
    "start_time": "2022-07-30T21:13:32.644Z"
   },
   {
    "duration": 328,
    "start_time": "2022-07-30T21:14:14.469Z"
   },
   {
    "duration": 285,
    "start_time": "2022-07-30T21:15:16.135Z"
   },
   {
    "duration": 455,
    "start_time": "2022-07-30T21:17:48.923Z"
   },
   {
    "duration": 7,
    "start_time": "2022-07-30T21:19:35.086Z"
   },
   {
    "duration": 10,
    "start_time": "2022-07-30T21:20:22.458Z"
   },
   {
    "duration": 1032,
    "start_time": "2022-07-30T21:21:49.138Z"
   },
   {
    "duration": 23,
    "start_time": "2022-07-30T21:21:50.172Z"
   },
   {
    "duration": 439,
    "start_time": "2022-07-30T21:21:50.197Z"
   },
   {
    "duration": 144,
    "start_time": "2022-07-30T21:21:50.638Z"
   },
   {
    "duration": 19,
    "start_time": "2022-07-30T21:21:50.784Z"
   },
   {
    "duration": 173,
    "start_time": "2022-07-30T21:21:50.804Z"
   },
   {
    "duration": 107,
    "start_time": "2022-07-30T21:21:50.980Z"
   },
   {
    "duration": 18,
    "start_time": "2022-07-30T21:21:51.088Z"
   },
   {
    "duration": 45,
    "start_time": "2022-07-30T21:21:51.107Z"
   },
   {
    "duration": 11,
    "start_time": "2022-07-30T21:21:51.153Z"
   },
   {
    "duration": 38,
    "start_time": "2022-07-30T21:21:51.165Z"
   },
   {
    "duration": 11,
    "start_time": "2022-07-30T21:21:51.205Z"
   },
   {
    "duration": 85,
    "start_time": "2022-07-30T21:21:51.218Z"
   },
   {
    "duration": 7,
    "start_time": "2022-07-30T21:21:51.306Z"
   },
   {
    "duration": 16,
    "start_time": "2022-07-30T21:21:51.314Z"
   },
   {
    "duration": 33,
    "start_time": "2022-07-30T21:21:51.341Z"
   },
   {
    "duration": 15,
    "start_time": "2022-07-30T21:21:51.376Z"
   },
   {
    "duration": 20,
    "start_time": "2022-07-30T21:21:51.393Z"
   },
   {
    "duration": 38,
    "start_time": "2022-07-30T21:21:51.414Z"
   },
   {
    "duration": 8,
    "start_time": "2022-07-30T21:21:51.454Z"
   },
   {
    "duration": 29,
    "start_time": "2022-07-30T21:21:51.464Z"
   },
   {
    "duration": 8,
    "start_time": "2022-07-30T21:21:51.495Z"
   },
   {
    "duration": 46,
    "start_time": "2022-07-30T21:21:51.504Z"
   },
   {
    "duration": 8,
    "start_time": "2022-07-30T21:21:51.552Z"
   },
   {
    "duration": 23,
    "start_time": "2022-07-30T21:21:51.561Z"
   },
   {
    "duration": 10,
    "start_time": "2022-07-30T21:21:51.586Z"
   },
   {
    "duration": 37,
    "start_time": "2022-07-30T21:21:51.597Z"
   },
   {
    "duration": 37,
    "start_time": "2022-07-30T21:21:51.636Z"
   },
   {
    "duration": 7,
    "start_time": "2022-07-30T21:21:51.675Z"
   },
   {
    "duration": 7,
    "start_time": "2022-07-30T21:21:51.684Z"
   },
   {
    "duration": 5,
    "start_time": "2022-07-30T21:21:51.692Z"
   },
   {
    "duration": 13,
    "start_time": "2022-07-30T21:21:51.699Z"
   },
   {
    "duration": 28,
    "start_time": "2022-07-30T21:21:51.714Z"
   },
   {
    "duration": 5,
    "start_time": "2022-07-30T21:21:51.744Z"
   },
   {
    "duration": 10,
    "start_time": "2022-07-30T21:21:51.751Z"
   },
   {
    "duration": 9,
    "start_time": "2022-07-30T21:21:51.763Z"
   },
   {
    "duration": 60,
    "start_time": "2022-07-30T21:21:51.774Z"
   },
   {
    "duration": 376,
    "start_time": "2022-07-30T21:21:51.836Z"
   },
   {
    "duration": 283,
    "start_time": "2022-07-30T21:21:52.214Z"
   },
   {
    "duration": 354,
    "start_time": "2022-07-30T21:21:52.499Z"
   },
   {
    "duration": 318,
    "start_time": "2022-07-30T21:21:52.857Z"
   },
   {
    "duration": 295,
    "start_time": "2022-07-30T21:21:53.177Z"
   },
   {
    "duration": 237,
    "start_time": "2022-07-30T21:21:53.473Z"
   },
   {
    "duration": 341,
    "start_time": "2022-07-30T21:21:53.712Z"
   },
   {
    "duration": 241,
    "start_time": "2022-07-30T21:21:54.055Z"
   },
   {
    "duration": 6,
    "start_time": "2022-07-30T21:21:54.298Z"
   },
   {
    "duration": 26,
    "start_time": "2022-07-30T21:21:54.306Z"
   },
   {
    "duration": 8,
    "start_time": "2022-07-30T21:21:54.334Z"
   }
  ],
  "kernelspec": {
   "display_name": "Python 3 (ipykernel)",
   "language": "python",
   "name": "python3"
  },
  "language_info": {
   "codemirror_mode": {
    "name": "ipython",
    "version": 3
   },
   "file_extension": ".py",
   "mimetype": "text/x-python",
   "name": "python",
   "nbconvert_exporter": "python",
   "pygments_lexer": "ipython3",
   "version": "3.9.5"
  },
  "toc": {
   "base_numbering": 1,
   "nav_menu": {},
   "number_sections": false,
   "sideBar": true,
   "skip_h1_title": true,
   "title_cell": "Table of Contents",
   "title_sidebar": "Contents",
   "toc_cell": false,
   "toc_position": {
    "height": "calc(100% - 180px)",
    "left": "10px",
    "top": "150px",
    "width": "341.484px"
   },
   "toc_section_display": true,
   "toc_window_display": true
  }
 },
 "nbformat": 4,
 "nbformat_minor": 5
}
