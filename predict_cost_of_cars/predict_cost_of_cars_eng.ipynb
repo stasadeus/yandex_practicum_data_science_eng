{
 "cells": [
  {
   "cell_type": "markdown",
   "metadata": {},
   "source": [
    "# Determining the cost of cars"
   ]
  },
  {
   "cell_type": "markdown",
   "metadata": {},
   "source": [
    "## Purpose of the study and work plan"
   ]
  },
  {
   "cell_type": "markdown",
   "metadata": {},
   "source": [
    "**Task**  \n",
    "\n",
    "A used car service is developing an app to attract new customers. In it, you can quickly find out the market value of your car. We have historical data at our disposal: technical characteristics, configurations and prices of cars. You need to build a model to determine the cost.  \n",
    "\n",
    "The customer is important:  \n",
    "\n",
    "- quality of prediction;  \n",
    "- prediction speed;  \n",
    "- studying time.  \n",
    "\n",
    "**Data**  \n",
    "\n",
    "*Features*  \n",
    "- DateCrawled - date of downloading the profile from the database  \n",
    "- VehicleType - type of car body  \n",
    "- RegistrationYear — year of car registration  \n",
    "- Gearbox - type of gearbox  \n",
    "- Power - power (hp)  \n",
    "- Model - car model  \n",
    "- Kilometer - mileage (km)  \n",
    "- RegistrationMonth — month of car registration  \n",
    "- FuelType — type of fuel  \n",
    "- Brand - car brand  \n",
    "- Repaired - was the car under repair or not  \n",
    "- DateCreated — date of creation of the questionnaire  \n",
    "- NumberOfPictures - the number of photos of the car  \n",
    "- PostalCode - postal code of the owner of the profile (user)  \n",
    "- LastSeen - date of last user activity  \n",
    "\n",
    "*Target feature*  \n",
    "- Price — price (euro)  \n",
    "\n",
    "**Work plan**\n",
    "\n",
    "1) Loading data.  \n",
    "2) Review and data preprocessing: fill in the missing values and process the anomalies in the columns. If among the signs there are non-informative ones, we will remove them.  \n",
    "3) Preparation of a sample for training models.  \n",
    "4) Training of different models, one of which is LightGBM, at least one is not boosting. For each model, let's try different hyperparameters.  \n",
    "5) Let's analyze the training time, the prediction time and the quality of the models.  \n",
    "6) Based on the criteria of the customer, we will choose the best model and check its quality on a test sample."
   ]
  },
  {
   "cell_type": "markdown",
   "metadata": {},
   "source": [
    "## Data preprocessing"
   ]
  },
  {
   "cell_type": "markdown",
   "metadata": {},
   "source": [
    "### Data overview"
   ]
  },
  {
   "cell_type": "markdown",
   "metadata": {},
   "source": [
    "We import the necessary libraries for the study."
   ]
  },
  {
   "cell_type": "code",
   "execution_count": 1,
   "metadata": {},
   "outputs": [],
   "source": [
    "import numpy as np\n",
    "import pandas as pd\n",
    "import missingno\n",
    "import seaborn as sns\n",
    "import matplotlib.pyplot as plt\n",
    "import warnings\n",
    "from sklearn.preprocessing import OrdinalEncoder\n",
    "from sklearn.model_selection import train_test_split\n",
    "from sklearn.preprocessing import StandardScaler\n",
    "from sklearn.linear_model import LinearRegression\n",
    "from sklearn.tree import DecisionTreeRegressor\n",
    "from sklearn.ensemble import RandomForestRegressor\n",
    "from lightgbm import LGBMRegressor\n",
    "from catboost import CatBoostRegressor\n",
    "from sklearn.metrics import mean_squared_error\n",
    "warnings.filterwarnings('ignore')"
   ]
  },
  {
   "cell_type": "markdown",
   "metadata": {},
   "source": [
    "Let's download and examine the data."
   ]
  },
  {
   "cell_type": "code",
   "execution_count": 2,
   "metadata": {
    "scrolled": false
   },
   "outputs": [
    {
     "data": {
      "text/html": [
       "<div>\n",
       "<style scoped>\n",
       "    .dataframe tbody tr th:only-of-type {\n",
       "        vertical-align: middle;\n",
       "    }\n",
       "\n",
       "    .dataframe tbody tr th {\n",
       "        vertical-align: top;\n",
       "    }\n",
       "\n",
       "    .dataframe thead th {\n",
       "        text-align: right;\n",
       "    }\n",
       "</style>\n",
       "<table border=\"1\" class=\"dataframe\">\n",
       "  <thead>\n",
       "    <tr style=\"text-align: right;\">\n",
       "      <th></th>\n",
       "      <th>DateCrawled</th>\n",
       "      <th>Price</th>\n",
       "      <th>VehicleType</th>\n",
       "      <th>RegistrationYear</th>\n",
       "      <th>Gearbox</th>\n",
       "      <th>Power</th>\n",
       "      <th>Model</th>\n",
       "      <th>Kilometer</th>\n",
       "      <th>RegistrationMonth</th>\n",
       "      <th>FuelType</th>\n",
       "      <th>Brand</th>\n",
       "      <th>Repaired</th>\n",
       "      <th>DateCreated</th>\n",
       "      <th>NumberOfPictures</th>\n",
       "      <th>PostalCode</th>\n",
       "      <th>LastSeen</th>\n",
       "    </tr>\n",
       "  </thead>\n",
       "  <tbody>\n",
       "    <tr>\n",
       "      <th>0</th>\n",
       "      <td>2016-03-24 11:52:17</td>\n",
       "      <td>480</td>\n",
       "      <td>NaN</td>\n",
       "      <td>1993</td>\n",
       "      <td>manual</td>\n",
       "      <td>0</td>\n",
       "      <td>golf</td>\n",
       "      <td>150000</td>\n",
       "      <td>0</td>\n",
       "      <td>petrol</td>\n",
       "      <td>volkswagen</td>\n",
       "      <td>NaN</td>\n",
       "      <td>2016-03-24 00:00:00</td>\n",
       "      <td>0</td>\n",
       "      <td>70435</td>\n",
       "      <td>2016-04-07 03:16:57</td>\n",
       "    </tr>\n",
       "    <tr>\n",
       "      <th>1</th>\n",
       "      <td>2016-03-24 10:58:45</td>\n",
       "      <td>18300</td>\n",
       "      <td>coupe</td>\n",
       "      <td>2011</td>\n",
       "      <td>manual</td>\n",
       "      <td>190</td>\n",
       "      <td>NaN</td>\n",
       "      <td>125000</td>\n",
       "      <td>5</td>\n",
       "      <td>gasoline</td>\n",
       "      <td>audi</td>\n",
       "      <td>yes</td>\n",
       "      <td>2016-03-24 00:00:00</td>\n",
       "      <td>0</td>\n",
       "      <td>66954</td>\n",
       "      <td>2016-04-07 01:46:50</td>\n",
       "    </tr>\n",
       "    <tr>\n",
       "      <th>2</th>\n",
       "      <td>2016-03-14 12:52:21</td>\n",
       "      <td>9800</td>\n",
       "      <td>suv</td>\n",
       "      <td>2004</td>\n",
       "      <td>auto</td>\n",
       "      <td>163</td>\n",
       "      <td>grand</td>\n",
       "      <td>125000</td>\n",
       "      <td>8</td>\n",
       "      <td>gasoline</td>\n",
       "      <td>jeep</td>\n",
       "      <td>NaN</td>\n",
       "      <td>2016-03-14 00:00:00</td>\n",
       "      <td>0</td>\n",
       "      <td>90480</td>\n",
       "      <td>2016-04-05 12:47:46</td>\n",
       "    </tr>\n",
       "    <tr>\n",
       "      <th>3</th>\n",
       "      <td>2016-03-17 16:54:04</td>\n",
       "      <td>1500</td>\n",
       "      <td>small</td>\n",
       "      <td>2001</td>\n",
       "      <td>manual</td>\n",
       "      <td>75</td>\n",
       "      <td>golf</td>\n",
       "      <td>150000</td>\n",
       "      <td>6</td>\n",
       "      <td>petrol</td>\n",
       "      <td>volkswagen</td>\n",
       "      <td>no</td>\n",
       "      <td>2016-03-17 00:00:00</td>\n",
       "      <td>0</td>\n",
       "      <td>91074</td>\n",
       "      <td>2016-03-17 17:40:17</td>\n",
       "    </tr>\n",
       "    <tr>\n",
       "      <th>4</th>\n",
       "      <td>2016-03-31 17:25:20</td>\n",
       "      <td>3600</td>\n",
       "      <td>small</td>\n",
       "      <td>2008</td>\n",
       "      <td>manual</td>\n",
       "      <td>69</td>\n",
       "      <td>fabia</td>\n",
       "      <td>90000</td>\n",
       "      <td>7</td>\n",
       "      <td>gasoline</td>\n",
       "      <td>skoda</td>\n",
       "      <td>no</td>\n",
       "      <td>2016-03-31 00:00:00</td>\n",
       "      <td>0</td>\n",
       "      <td>60437</td>\n",
       "      <td>2016-04-06 10:17:21</td>\n",
       "    </tr>\n",
       "  </tbody>\n",
       "</table>\n",
       "</div>"
      ],
      "text/plain": [
       "           DateCrawled  Price VehicleType  RegistrationYear Gearbox  Power  \\\n",
       "0  2016-03-24 11:52:17    480         NaN              1993  manual      0   \n",
       "1  2016-03-24 10:58:45  18300       coupe              2011  manual    190   \n",
       "2  2016-03-14 12:52:21   9800         suv              2004    auto    163   \n",
       "3  2016-03-17 16:54:04   1500       small              2001  manual     75   \n",
       "4  2016-03-31 17:25:20   3600       small              2008  manual     69   \n",
       "\n",
       "   Model  Kilometer  RegistrationMonth  FuelType       Brand Repaired  \\\n",
       "0   golf     150000                  0    petrol  volkswagen      NaN   \n",
       "1    NaN     125000                  5  gasoline        audi      yes   \n",
       "2  grand     125000                  8  gasoline        jeep      NaN   \n",
       "3   golf     150000                  6    petrol  volkswagen       no   \n",
       "4  fabia      90000                  7  gasoline       skoda       no   \n",
       "\n",
       "           DateCreated  NumberOfPictures  PostalCode             LastSeen  \n",
       "0  2016-03-24 00:00:00                 0       70435  2016-04-07 03:16:57  \n",
       "1  2016-03-24 00:00:00                 0       66954  2016-04-07 01:46:50  \n",
       "2  2016-03-14 00:00:00                 0       90480  2016-04-05 12:47:46  \n",
       "3  2016-03-17 00:00:00                 0       91074  2016-03-17 17:40:17  \n",
       "4  2016-03-31 00:00:00                 0       60437  2016-04-06 10:17:21  "
      ]
     },
     "execution_count": 2,
     "metadata": {},
     "output_type": "execute_result"
    }
   ],
   "source": [
    "df = pd.read_csv('autos.csv')\n",
    "df.head()"
   ]
  },
  {
   "cell_type": "code",
   "execution_count": 3,
   "metadata": {},
   "outputs": [
    {
     "data": {
      "text/plain": [
       "(354369, 16)"
      ]
     },
     "execution_count": 3,
     "metadata": {},
     "output_type": "execute_result"
    }
   ],
   "source": [
    "df.shape"
   ]
  },
  {
   "cell_type": "code",
   "execution_count": 4,
   "metadata": {
    "scrolled": false
   },
   "outputs": [
    {
     "name": "stdout",
     "output_type": "stream",
     "text": [
      "<class 'pandas.core.frame.DataFrame'>\n",
      "RangeIndex: 354369 entries, 0 to 354368\n",
      "Data columns (total 16 columns):\n",
      " #   Column             Non-Null Count   Dtype \n",
      "---  ------             --------------   ----- \n",
      " 0   DateCrawled        354369 non-null  object\n",
      " 1   Price              354369 non-null  int64 \n",
      " 2   VehicleType        316879 non-null  object\n",
      " 3   RegistrationYear   354369 non-null  int64 \n",
      " 4   Gearbox            334536 non-null  object\n",
      " 5   Power              354369 non-null  int64 \n",
      " 6   Model              334664 non-null  object\n",
      " 7   Kilometer          354369 non-null  int64 \n",
      " 8   RegistrationMonth  354369 non-null  int64 \n",
      " 9   FuelType           321474 non-null  object\n",
      " 10  Brand              354369 non-null  object\n",
      " 11  Repaired           283215 non-null  object\n",
      " 12  DateCreated        354369 non-null  object\n",
      " 13  NumberOfPictures   354369 non-null  int64 \n",
      " 14  PostalCode         354369 non-null  int64 \n",
      " 15  LastSeen           354369 non-null  object\n",
      "dtypes: int64(7), object(9)\n",
      "memory usage: 43.3+ MB\n"
     ]
    }
   ],
   "source": [
    "df.info()"
   ]
  },
  {
   "cell_type": "code",
   "execution_count": 5,
   "metadata": {
    "scrolled": true
   },
   "outputs": [
    {
     "data": {
      "text/html": [
       "<div>\n",
       "<style scoped>\n",
       "    .dataframe tbody tr th:only-of-type {\n",
       "        vertical-align: middle;\n",
       "    }\n",
       "\n",
       "    .dataframe tbody tr th {\n",
       "        vertical-align: top;\n",
       "    }\n",
       "\n",
       "    .dataframe thead th {\n",
       "        text-align: right;\n",
       "    }\n",
       "</style>\n",
       "<table border=\"1\" class=\"dataframe\">\n",
       "  <thead>\n",
       "    <tr style=\"text-align: right;\">\n",
       "      <th></th>\n",
       "      <th>DateCrawled</th>\n",
       "      <th>Price</th>\n",
       "      <th>VehicleType</th>\n",
       "      <th>RegistrationYear</th>\n",
       "      <th>Gearbox</th>\n",
       "      <th>Power</th>\n",
       "      <th>Model</th>\n",
       "      <th>Kilometer</th>\n",
       "      <th>RegistrationMonth</th>\n",
       "      <th>FuelType</th>\n",
       "      <th>Brand</th>\n",
       "      <th>Repaired</th>\n",
       "      <th>DateCreated</th>\n",
       "      <th>NumberOfPictures</th>\n",
       "      <th>PostalCode</th>\n",
       "      <th>LastSeen</th>\n",
       "    </tr>\n",
       "  </thead>\n",
       "  <tbody>\n",
       "    <tr>\n",
       "      <th>count</th>\n",
       "      <td>354369</td>\n",
       "      <td>354369.000000</td>\n",
       "      <td>316879</td>\n",
       "      <td>354369.000000</td>\n",
       "      <td>334536</td>\n",
       "      <td>354369.000000</td>\n",
       "      <td>334664</td>\n",
       "      <td>354369.000000</td>\n",
       "      <td>354369.000000</td>\n",
       "      <td>321474</td>\n",
       "      <td>354369</td>\n",
       "      <td>283215</td>\n",
       "      <td>354369</td>\n",
       "      <td>354369.0</td>\n",
       "      <td>354369.000000</td>\n",
       "      <td>354369</td>\n",
       "    </tr>\n",
       "    <tr>\n",
       "      <th>unique</th>\n",
       "      <td>271174</td>\n",
       "      <td>NaN</td>\n",
       "      <td>8</td>\n",
       "      <td>NaN</td>\n",
       "      <td>2</td>\n",
       "      <td>NaN</td>\n",
       "      <td>250</td>\n",
       "      <td>NaN</td>\n",
       "      <td>NaN</td>\n",
       "      <td>7</td>\n",
       "      <td>40</td>\n",
       "      <td>2</td>\n",
       "      <td>109</td>\n",
       "      <td>NaN</td>\n",
       "      <td>NaN</td>\n",
       "      <td>179150</td>\n",
       "    </tr>\n",
       "    <tr>\n",
       "      <th>top</th>\n",
       "      <td>2016-03-24 14:49:47</td>\n",
       "      <td>NaN</td>\n",
       "      <td>sedan</td>\n",
       "      <td>NaN</td>\n",
       "      <td>manual</td>\n",
       "      <td>NaN</td>\n",
       "      <td>golf</td>\n",
       "      <td>NaN</td>\n",
       "      <td>NaN</td>\n",
       "      <td>petrol</td>\n",
       "      <td>volkswagen</td>\n",
       "      <td>no</td>\n",
       "      <td>2016-04-03 00:00:00</td>\n",
       "      <td>NaN</td>\n",
       "      <td>NaN</td>\n",
       "      <td>2016-04-06 13:45:54</td>\n",
       "    </tr>\n",
       "    <tr>\n",
       "      <th>freq</th>\n",
       "      <td>7</td>\n",
       "      <td>NaN</td>\n",
       "      <td>91457</td>\n",
       "      <td>NaN</td>\n",
       "      <td>268251</td>\n",
       "      <td>NaN</td>\n",
       "      <td>29232</td>\n",
       "      <td>NaN</td>\n",
       "      <td>NaN</td>\n",
       "      <td>216352</td>\n",
       "      <td>77013</td>\n",
       "      <td>247161</td>\n",
       "      <td>13719</td>\n",
       "      <td>NaN</td>\n",
       "      <td>NaN</td>\n",
       "      <td>17</td>\n",
       "    </tr>\n",
       "    <tr>\n",
       "      <th>mean</th>\n",
       "      <td>NaN</td>\n",
       "      <td>4416.656776</td>\n",
       "      <td>NaN</td>\n",
       "      <td>2004.234448</td>\n",
       "      <td>NaN</td>\n",
       "      <td>110.094337</td>\n",
       "      <td>NaN</td>\n",
       "      <td>128211.172535</td>\n",
       "      <td>5.714645</td>\n",
       "      <td>NaN</td>\n",
       "      <td>NaN</td>\n",
       "      <td>NaN</td>\n",
       "      <td>NaN</td>\n",
       "      <td>0.0</td>\n",
       "      <td>50508.689087</td>\n",
       "      <td>NaN</td>\n",
       "    </tr>\n",
       "    <tr>\n",
       "      <th>std</th>\n",
       "      <td>NaN</td>\n",
       "      <td>4514.158514</td>\n",
       "      <td>NaN</td>\n",
       "      <td>90.227958</td>\n",
       "      <td>NaN</td>\n",
       "      <td>189.850405</td>\n",
       "      <td>NaN</td>\n",
       "      <td>37905.341530</td>\n",
       "      <td>3.726421</td>\n",
       "      <td>NaN</td>\n",
       "      <td>NaN</td>\n",
       "      <td>NaN</td>\n",
       "      <td>NaN</td>\n",
       "      <td>0.0</td>\n",
       "      <td>25783.096248</td>\n",
       "      <td>NaN</td>\n",
       "    </tr>\n",
       "    <tr>\n",
       "      <th>min</th>\n",
       "      <td>NaN</td>\n",
       "      <td>0.000000</td>\n",
       "      <td>NaN</td>\n",
       "      <td>1000.000000</td>\n",
       "      <td>NaN</td>\n",
       "      <td>0.000000</td>\n",
       "      <td>NaN</td>\n",
       "      <td>5000.000000</td>\n",
       "      <td>0.000000</td>\n",
       "      <td>NaN</td>\n",
       "      <td>NaN</td>\n",
       "      <td>NaN</td>\n",
       "      <td>NaN</td>\n",
       "      <td>0.0</td>\n",
       "      <td>1067.000000</td>\n",
       "      <td>NaN</td>\n",
       "    </tr>\n",
       "    <tr>\n",
       "      <th>25%</th>\n",
       "      <td>NaN</td>\n",
       "      <td>1050.000000</td>\n",
       "      <td>NaN</td>\n",
       "      <td>1999.000000</td>\n",
       "      <td>NaN</td>\n",
       "      <td>69.000000</td>\n",
       "      <td>NaN</td>\n",
       "      <td>125000.000000</td>\n",
       "      <td>3.000000</td>\n",
       "      <td>NaN</td>\n",
       "      <td>NaN</td>\n",
       "      <td>NaN</td>\n",
       "      <td>NaN</td>\n",
       "      <td>0.0</td>\n",
       "      <td>30165.000000</td>\n",
       "      <td>NaN</td>\n",
       "    </tr>\n",
       "    <tr>\n",
       "      <th>50%</th>\n",
       "      <td>NaN</td>\n",
       "      <td>2700.000000</td>\n",
       "      <td>NaN</td>\n",
       "      <td>2003.000000</td>\n",
       "      <td>NaN</td>\n",
       "      <td>105.000000</td>\n",
       "      <td>NaN</td>\n",
       "      <td>150000.000000</td>\n",
       "      <td>6.000000</td>\n",
       "      <td>NaN</td>\n",
       "      <td>NaN</td>\n",
       "      <td>NaN</td>\n",
       "      <td>NaN</td>\n",
       "      <td>0.0</td>\n",
       "      <td>49413.000000</td>\n",
       "      <td>NaN</td>\n",
       "    </tr>\n",
       "    <tr>\n",
       "      <th>75%</th>\n",
       "      <td>NaN</td>\n",
       "      <td>6400.000000</td>\n",
       "      <td>NaN</td>\n",
       "      <td>2008.000000</td>\n",
       "      <td>NaN</td>\n",
       "      <td>143.000000</td>\n",
       "      <td>NaN</td>\n",
       "      <td>150000.000000</td>\n",
       "      <td>9.000000</td>\n",
       "      <td>NaN</td>\n",
       "      <td>NaN</td>\n",
       "      <td>NaN</td>\n",
       "      <td>NaN</td>\n",
       "      <td>0.0</td>\n",
       "      <td>71083.000000</td>\n",
       "      <td>NaN</td>\n",
       "    </tr>\n",
       "    <tr>\n",
       "      <th>max</th>\n",
       "      <td>NaN</td>\n",
       "      <td>20000.000000</td>\n",
       "      <td>NaN</td>\n",
       "      <td>9999.000000</td>\n",
       "      <td>NaN</td>\n",
       "      <td>20000.000000</td>\n",
       "      <td>NaN</td>\n",
       "      <td>150000.000000</td>\n",
       "      <td>12.000000</td>\n",
       "      <td>NaN</td>\n",
       "      <td>NaN</td>\n",
       "      <td>NaN</td>\n",
       "      <td>NaN</td>\n",
       "      <td>0.0</td>\n",
       "      <td>99998.000000</td>\n",
       "      <td>NaN</td>\n",
       "    </tr>\n",
       "  </tbody>\n",
       "</table>\n",
       "</div>"
      ],
      "text/plain": [
       "                DateCrawled          Price VehicleType  RegistrationYear  \\\n",
       "count                354369  354369.000000      316879     354369.000000   \n",
       "unique               271174            NaN           8               NaN   \n",
       "top     2016-03-24 14:49:47            NaN       sedan               NaN   \n",
       "freq                      7            NaN       91457               NaN   \n",
       "mean                    NaN    4416.656776         NaN       2004.234448   \n",
       "std                     NaN    4514.158514         NaN         90.227958   \n",
       "min                     NaN       0.000000         NaN       1000.000000   \n",
       "25%                     NaN    1050.000000         NaN       1999.000000   \n",
       "50%                     NaN    2700.000000         NaN       2003.000000   \n",
       "75%                     NaN    6400.000000         NaN       2008.000000   \n",
       "max                     NaN   20000.000000         NaN       9999.000000   \n",
       "\n",
       "       Gearbox          Power   Model      Kilometer  RegistrationMonth  \\\n",
       "count   334536  354369.000000  334664  354369.000000      354369.000000   \n",
       "unique       2            NaN     250            NaN                NaN   \n",
       "top     manual            NaN    golf            NaN                NaN   \n",
       "freq    268251            NaN   29232            NaN                NaN   \n",
       "mean       NaN     110.094337     NaN  128211.172535           5.714645   \n",
       "std        NaN     189.850405     NaN   37905.341530           3.726421   \n",
       "min        NaN       0.000000     NaN    5000.000000           0.000000   \n",
       "25%        NaN      69.000000     NaN  125000.000000           3.000000   \n",
       "50%        NaN     105.000000     NaN  150000.000000           6.000000   \n",
       "75%        NaN     143.000000     NaN  150000.000000           9.000000   \n",
       "max        NaN   20000.000000     NaN  150000.000000          12.000000   \n",
       "\n",
       "       FuelType       Brand Repaired          DateCreated  NumberOfPictures  \\\n",
       "count    321474      354369   283215               354369          354369.0   \n",
       "unique        7          40        2                  109               NaN   \n",
       "top      petrol  volkswagen       no  2016-04-03 00:00:00               NaN   \n",
       "freq     216352       77013   247161                13719               NaN   \n",
       "mean        NaN         NaN      NaN                  NaN               0.0   \n",
       "std         NaN         NaN      NaN                  NaN               0.0   \n",
       "min         NaN         NaN      NaN                  NaN               0.0   \n",
       "25%         NaN         NaN      NaN                  NaN               0.0   \n",
       "50%         NaN         NaN      NaN                  NaN               0.0   \n",
       "75%         NaN         NaN      NaN                  NaN               0.0   \n",
       "max         NaN         NaN      NaN                  NaN               0.0   \n",
       "\n",
       "           PostalCode             LastSeen  \n",
       "count   354369.000000               354369  \n",
       "unique            NaN               179150  \n",
       "top               NaN  2016-04-06 13:45:54  \n",
       "freq              NaN                   17  \n",
       "mean     50508.689087                  NaN  \n",
       "std      25783.096248                  NaN  \n",
       "min       1067.000000                  NaN  \n",
       "25%      30165.000000                  NaN  \n",
       "50%      49413.000000                  NaN  \n",
       "75%      71083.000000                  NaN  \n",
       "max      99998.000000                  NaN  "
      ]
     },
     "execution_count": 5,
     "metadata": {},
     "output_type": "execute_result"
    }
   ],
   "source": [
    "df.describe(include='all')"
   ]
  },
  {
   "cell_type": "markdown",
   "metadata": {},
   "source": [
    "**Conclusion:**  \n",
    "1) In dataframe 354369 object, 15 features and target feature 'price'.  \n",
    "2) It is required to convert the names of all columns to lowercase and \"snake\" format.  \n",
    "3) Requires data type change in some columns.  \n",
    "4) There are gaps in some columns. Passes need to be processed.  \n",
    "5) It is necessary to check the feature values for duplicates and anomalies.  \n",
    "6) There are categorical features in the data. They need to be coded.  \n",
    "7) Significant features that affect the cost of the car include the following columns:  \n",
    "- VehicleType — vehicle body type;  \n",
    "- RegistrationYear - the age of the car in years affects the cost;  \n",
    "- Gearbox - type of gearbox;  \n",
    "- Power - power (hp);  \n",
    "- Model — car model;  \n",
    "- Kilometer — mileage (km);  \n",
    "- FuelType — type of fuel;  \n",
    "- Brand — car brand;  \n",
    "- Repaired - was the car under repair or not.  \n",
    "\n",
    "8) It is necessary to remove non-informative features and examine the sample for multicollinearity of features.  "
   ]
  },
  {
   "cell_type": "markdown",
   "metadata": {},
   "source": [
    "### Changing column names"
   ]
  },
  {
   "cell_type": "markdown",
   "metadata": {},
   "source": [
    "Feature names are incorrect. Let's bring the names of all columns to lowercase and \"snake\" format."
   ]
  },
  {
   "cell_type": "code",
   "execution_count": 6,
   "metadata": {},
   "outputs": [
    {
     "data": {
      "text/plain": [
       "Index(['date_crawled', 'price', 'vehicle_type', 'registration_year', 'gearbox',\n",
       "       'power', 'model', 'kilometer', 'registration_month', 'fuel_type',\n",
       "       'brand', 'repaired', 'date_created', 'number_of_pictures',\n",
       "       'postal_code', 'last_seen'],\n",
       "      dtype='object')"
      ]
     },
     "execution_count": 6,
     "metadata": {},
     "output_type": "execute_result"
    }
   ],
   "source": [
    "df.columns = df.columns.str.replace(r\"([A-Z])\", r\" \\1\").str.lower().str.replace(' ', '_').str[1:]\n",
    "df.columns"
   ]
  },
  {
   "cell_type": "markdown",
   "metadata": {},
   "source": [
    "### Data type conversion"
   ]
  },
  {
   "cell_type": "markdown",
   "metadata": {},
   "source": [
    "Convert the data type of the `date_crawled`, `date_created` and `last_seen` columns from *object* to *datetime*"
   ]
  },
  {
   "cell_type": "code",
   "execution_count": 7,
   "metadata": {
    "scrolled": true
   },
   "outputs": [
    {
     "data": {
      "text/plain": [
       "date_crawled    datetime64[ns]\n",
       "date_created    datetime64[ns]\n",
       "last_seen       datetime64[ns]\n",
       "dtype: object"
      ]
     },
     "execution_count": 7,
     "metadata": {},
     "output_type": "execute_result"
    }
   ],
   "source": [
    "df['date_crawled'] = pd.to_datetime(df['date_crawled'], format='%Y-%m-%d %H:%M:%S')\n",
    "df['date_created'] = pd.to_datetime(df['date_created'], format='%Y-%m-%d %H:%M:%S')\n",
    "df['last_seen'] = pd.to_datetime(df['last_seen'], format='%Y-%m-%d %H:%M:%S')\n",
    "df[['date_crawled', 'date_created', 'last_seen']].dtypes"
   ]
  },
  {
   "cell_type": "markdown",
   "metadata": {},
   "source": [
    "### Gaps handling"
   ]
  },
  {
   "cell_type": "markdown",
   "metadata": {},
   "source": [
    "We visualize the number of gaps in the columns."
   ]
  },
  {
   "cell_type": "code",
   "execution_count": 8,
   "metadata": {
    "scrolled": false
   },
   "outputs": [
    {
     "data": {
      "image/png": "[encoded data removed]",
      "text/plain": [
       "<Figure size 1000x500 with 3 Axes>"
      ]
     },
     "metadata": {},
     "output_type": "display_data"
    }
   ],
   "source": [
    "missingno.bar(df, color=\"dodgerblue\", sort=\"ascending\", figsize=(10,5), fontsize=12);"
   ]
  },
  {
   "cell_type": "markdown",
   "metadata": {},
   "source": [
    "Omissions are present in the features `repaired`, `vehicle_type`, `fuel_type`, `gearbox`, `model` important for model training."
   ]
  },
  {
   "cell_type": "markdown",
   "metadata": {},
   "source": [
    "- Column `repaired`"
   ]
  },
  {
   "cell_type": "code",
   "execution_count": 9,
   "metadata": {},
   "outputs": [
    {
     "data": {
      "text/plain": [
       "0.20079070121822168"
      ]
     },
     "execution_count": 9,
     "metadata": {},
     "output_type": "execute_result"
    }
   ],
   "source": [
    "df['repaired'].isna().sum() / len(df)"
   ]
  },
  {
   "cell_type": "markdown",
   "metadata": {},
   "source": [
    "The `repaired` column is missing 20% of the data - that's significant."
   ]
  },
  {
   "cell_type": "code",
   "execution_count": 10,
   "metadata": {},
   "outputs": [
    {
     "data": {
      "text/plain": [
       "no     0.872697\n",
       "yes    0.127303\n",
       "Name: repaired, dtype: float64"
      ]
     },
     "execution_count": 10,
     "metadata": {},
     "output_type": "execute_result"
    }
   ],
   "source": [
    "df['repaired'].value_counts(normalize=True)"
   ]
  },
  {
   "cell_type": "markdown",
   "metadata": {},
   "source": [
    "In 87% of objects, the `repaired` column is filled with the value `no`. Let's fill in the gaps with the most common `no` value, since there is no way to reliably recover the missing information based on other object parameters."
   ]
  },
  {
   "cell_type": "code",
   "execution_count": 11,
   "metadata": {},
   "outputs": [],
   "source": [
    "df['repaired'] = df['repaired'].fillna('no')"
   ]
  },
  {
   "cell_type": "markdown",
   "metadata": {},
   "source": [
    "- Columns `vehicle_type`, `fuel_type`, `gearbox`, `model`."
   ]
  },
  {
   "cell_type": "markdown",
   "metadata": {},
   "source": [
    "Since the `brand` column has no gaps, fill in the missing values of the `vehicle_type`, `fuel_type`, `gearbox`, `model` columns with the most frequently occurring brand value. Before filling, we will display the lines with gaps to check the result after filling."
   ]
  },
  {
   "cell_type": "code",
   "execution_count": 12,
   "metadata": {},
   "outputs": [
    {
     "data": {
      "text/html": [
       "<div>\n",
       "<style scoped>\n",
       "    .dataframe tbody tr th:only-of-type {\n",
       "        vertical-align: middle;\n",
       "    }\n",
       "\n",
       "    .dataframe tbody tr th {\n",
       "        vertical-align: top;\n",
       "    }\n",
       "\n",
       "    .dataframe thead th {\n",
       "        text-align: right;\n",
       "    }\n",
       "</style>\n",
       "<table border=\"1\" class=\"dataframe\">\n",
       "  <thead>\n",
       "    <tr style=\"text-align: right;\">\n",
       "      <th></th>\n",
       "      <th>vehicle_type</th>\n",
       "      <th>fuel_type</th>\n",
       "      <th>gearbox</th>\n",
       "      <th>model</th>\n",
       "    </tr>\n",
       "  </thead>\n",
       "  <tbody>\n",
       "    <tr>\n",
       "      <th>0</th>\n",
       "      <td>NaN</td>\n",
       "      <td>petrol</td>\n",
       "      <td>manual</td>\n",
       "      <td>golf</td>\n",
       "    </tr>\n",
       "    <tr>\n",
       "      <th>1</th>\n",
       "      <td>coupe</td>\n",
       "      <td>gasoline</td>\n",
       "      <td>manual</td>\n",
       "      <td>NaN</td>\n",
       "    </tr>\n",
       "    <tr>\n",
       "      <th>9</th>\n",
       "      <td>small</td>\n",
       "      <td>NaN</td>\n",
       "      <td>manual</td>\n",
       "      <td>golf</td>\n",
       "    </tr>\n",
       "    <tr>\n",
       "      <th>13</th>\n",
       "      <td>wagon</td>\n",
       "      <td>NaN</td>\n",
       "      <td>manual</td>\n",
       "      <td>passat</td>\n",
       "    </tr>\n",
       "    <tr>\n",
       "      <th>15</th>\n",
       "      <td>small</td>\n",
       "      <td>petrol</td>\n",
       "      <td>NaN</td>\n",
       "      <td>ka</td>\n",
       "    </tr>\n",
       "  </tbody>\n",
       "</table>\n",
       "</div>"
      ],
      "text/plain": [
       "   vehicle_type fuel_type gearbox   model\n",
       "0           NaN    petrol  manual    golf\n",
       "1         coupe  gasoline  manual     NaN\n",
       "9         small       NaN  manual    golf\n",
       "13        wagon       NaN  manual  passat\n",
       "15        small    petrol     NaN      ka"
      ]
     },
     "execution_count": 12,
     "metadata": {},
     "output_type": "execute_result"
    }
   ],
   "source": [
    "features_with_na = ['vehicle_type', 'fuel_type', 'gearbox', 'model'] # missing feature list\n",
    "missing_values_examples = df.loc[df.isna().any(axis=1), features_with_na].head()\n",
    "missing_values_examples"
   ]
  },
  {
   "cell_type": "code",
   "execution_count": 13,
   "metadata": {},
   "outputs": [],
   "source": [
    "for feature in features_with_na:\n",
    "    #for each feature, we create a pivot table with the number of each feature value for each brand\n",
    "    feature_by_brand = df.pivot_table(index='brand', columns=feature, values='price', aggfunc='count')\n",
    "    #for each brand, select dataframe rows by attribute and fill in the missing values with the most frequent attribute value by brand\n",
    "    for brand in feature_by_brand.index:\n",
    "        df.loc[df['brand'] == brand, feature] = df.loc[df['brand'] == brand, feature].fillna(feature_by_brand.loc[brand].idxmax())"
   ]
  },
  {
   "cell_type": "markdown",
   "metadata": {},
   "source": [
    "Let's look at the result of filling in the gaps."
   ]
  },
  {
   "cell_type": "code",
   "execution_count": 14,
   "metadata": {},
   "outputs": [
    {
     "data": {
      "text/html": [
       "<div>\n",
       "<style scoped>\n",
       "    .dataframe tbody tr th:only-of-type {\n",
       "        vertical-align: middle;\n",
       "    }\n",
       "\n",
       "    .dataframe tbody tr th {\n",
       "        vertical-align: top;\n",
       "    }\n",
       "\n",
       "    .dataframe thead th {\n",
       "        text-align: right;\n",
       "    }\n",
       "</style>\n",
       "<table border=\"1\" class=\"dataframe\">\n",
       "  <thead>\n",
       "    <tr style=\"text-align: right;\">\n",
       "      <th></th>\n",
       "      <th>vehicle_type</th>\n",
       "      <th>fuel_type</th>\n",
       "      <th>gearbox</th>\n",
       "      <th>model</th>\n",
       "    </tr>\n",
       "  </thead>\n",
       "  <tbody>\n",
       "    <tr>\n",
       "      <th>0</th>\n",
       "      <td>sedan</td>\n",
       "      <td>petrol</td>\n",
       "      <td>manual</td>\n",
       "      <td>golf</td>\n",
       "    </tr>\n",
       "    <tr>\n",
       "      <th>1</th>\n",
       "      <td>coupe</td>\n",
       "      <td>gasoline</td>\n",
       "      <td>manual</td>\n",
       "      <td>a4</td>\n",
       "    </tr>\n",
       "    <tr>\n",
       "      <th>9</th>\n",
       "      <td>small</td>\n",
       "      <td>petrol</td>\n",
       "      <td>manual</td>\n",
       "      <td>golf</td>\n",
       "    </tr>\n",
       "    <tr>\n",
       "      <th>13</th>\n",
       "      <td>wagon</td>\n",
       "      <td>petrol</td>\n",
       "      <td>manual</td>\n",
       "      <td>passat</td>\n",
       "    </tr>\n",
       "    <tr>\n",
       "      <th>15</th>\n",
       "      <td>small</td>\n",
       "      <td>petrol</td>\n",
       "      <td>manual</td>\n",
       "      <td>ka</td>\n",
       "    </tr>\n",
       "  </tbody>\n",
       "</table>\n",
       "</div>"
      ],
      "text/plain": [
       "   vehicle_type fuel_type gearbox   model\n",
       "0         sedan    petrol  manual    golf\n",
       "1         coupe  gasoline  manual      a4\n",
       "9         small    petrol  manual    golf\n",
       "13        wagon    petrol  manual  passat\n",
       "15        small    petrol  manual      ka"
      ]
     },
     "execution_count": 14,
     "metadata": {},
     "output_type": "execute_result"
    }
   ],
   "source": [
    "df.loc[missing_values_examples.index, features_with_na]"
   ]
  },
  {
   "cell_type": "code",
   "execution_count": 15,
   "metadata": {
    "scrolled": false
   },
   "outputs": [
    {
     "data": {
      "image/png": "[encoded data removed]",
      "text/plain": [
       "<Figure size 1000x500 with 3 Axes>"
      ]
     },
     "metadata": {},
     "output_type": "display_data"
    }
   ],
   "source": [
    "missingno.bar(df, color=\"dodgerblue\", sort=\"ascending\", figsize=(10,5), fontsize=12);"
   ]
  },
  {
   "cell_type": "markdown",
   "metadata": {},
   "source": [
    "The `model` column has empty values. Let's get rid of these lines with gaps."
   ]
  },
  {
   "cell_type": "code",
   "execution_count": 16,
   "metadata": {},
   "outputs": [
    {
     "data": {
      "text/plain": [
       "(350995, 16)"
      ]
     },
     "execution_count": 16,
     "metadata": {},
     "output_type": "execute_result"
    }
   ],
   "source": [
    "df = df.dropna()\n",
    "df.shape"
   ]
  },
  {
   "cell_type": "markdown",
   "metadata": {},
   "source": [
    "**Conclusion:**\n",
    "1) The gaps in the `repaired` column were filled with the most common value `no` ;  \n",
    "2) The gaps in the `vehicle_type`, `fuel_type`, `gearbox`, `model` columns were filled in with the most frequently occurring brand value.  \n",
    "3) 3374 rows with gaps in the `model` column that could not be filled were removed."
   ]
  },
  {
   "cell_type": "markdown",
   "metadata": {},
   "source": [
    "### Duplicate handling"
   ]
  },
  {
   "cell_type": "markdown",
   "metadata": {},
   "source": [
    "Check the dataframe for duplicate rows."
   ]
  },
  {
   "cell_type": "code",
   "execution_count": 17,
   "metadata": {},
   "outputs": [
    {
     "name": "stdout",
     "output_type": "stream",
     "text": [
      "The table has 5 duplicate rows.\n"
     ]
    }
   ],
   "source": [
    "print(f'The table has {df.duplicated().sum()} duplicate rows.')"
   ]
  },
  {
   "cell_type": "markdown",
   "metadata": {},
   "source": [
    "Remove duplicate lines."
   ]
  },
  {
   "cell_type": "code",
   "execution_count": 18,
   "metadata": {
    "scrolled": true
   },
   "outputs": [
    {
     "name": "stdout",
     "output_type": "stream",
     "text": [
      "The table has 0 duplicate rows.\n"
     ]
    }
   ],
   "source": [
    "df = df.drop_duplicates().reset_index(drop=True)\n",
    "print(f'The table has {df.duplicated().sum()} duplicate rows.')"
   ]
  },
  {
   "cell_type": "code",
   "execution_count": 19,
   "metadata": {},
   "outputs": [
    {
     "data": {
      "text/plain": [
       "(350990, 16)"
      ]
     },
     "execution_count": 19,
     "metadata": {},
     "output_type": "execute_result"
    }
   ],
   "source": [
    "df.shape"
   ]
  },
  {
   "cell_type": "markdown",
   "metadata": {},
   "source": [
    "Let's check the categorical features for the presence of explicit and implicit duplicates."
   ]
  },
  {
   "cell_type": "code",
   "execution_count": 20,
   "metadata": {
    "scrolled": false
   },
   "outputs": [
    {
     "name": "stdout",
     "output_type": "stream",
     "text": [
      "Unique values of feature vehicle_type:\n",
      "['bus', 'convertible', 'coupe', 'other', 'sedan', 'small', 'suv', 'wagon']\n",
      "\n",
      "Unique values of feature gearbox:\n",
      "['auto', 'manual']\n",
      "\n",
      "Unique values of feature model:\n",
      "['100', '145', '147', '156', '159', '1_reihe', '1er', '200', '2_reihe', '300c', '3_reihe', '3er', '4_reihe', '500', '5_reihe', '5er', '601', '6_reihe', '6er', '7er', '80', '850', '90', '900', '9000', '911', 'a1', 'a2', 'a3', 'a4', 'a5', 'a6', 'a8', 'a_klasse', 'accord', 'agila', 'alhambra', 'almera', 'altea', 'amarok', 'antara', 'arosa', 'astra', 'auris', 'avensis', 'aveo', 'aygo', 'b_klasse', 'b_max', 'beetle', 'berlingo', 'bora', 'boxster', 'bravo', 'c1', 'c2', 'c3', 'c4', 'c5', 'c_klasse', 'c_max', 'c_reihe', 'caddy', 'calibra', 'captiva', 'carisma', 'carnival', 'cayenne', 'cc', 'ceed', 'charade', 'cherokee', 'citigo', 'civic', 'cl', 'clio', 'clk', 'clubman', 'colt', 'combo', 'cooper', 'cordoba', 'corolla', 'corsa', 'cr_reihe', 'croma', 'crossfire', 'cuore', 'cx_reihe', 'defender', 'delta', 'discovery', 'doblo', 'ducato', 'duster', 'e_klasse', 'elefantino', 'eos', 'escort', 'espace', 'exeo', 'fabia', 'fiesta', 'focus', 'forester', 'forfour', 'fortwo', 'fox', 'freelander', 'fusion', 'g_klasse', 'galant', 'galaxy', 'getz', 'gl', 'glk', 'golf', 'grand', 'i3', 'i_reihe', 'ibiza', 'impreza', 'insignia', 'jazz', 'jetta', 'jimny', 'juke', 'justy', 'ka', 'kadett', 'kaefer', 'kalina', 'kalos', 'kangoo', 'kappa', 'kuga', 'laguna', 'lancer', 'lanos', 'legacy', 'leon', 'lodgy', 'logan', 'lupo', 'lybra', 'm_klasse', 'm_reihe', 'materia', 'matiz', 'megane', 'meriva', 'micra', 'mii', 'modus', 'mondeo', 'move', 'musa', 'mustang', 'mx_reihe', 'navara', 'niva', 'note', 'nubira', 'octavia', 'omega', 'one', 'other', 'outlander', 'pajero', 'panda', 'passat', 'phaeton', 'picanto', 'polo', 'primera', 'ptcruiser', 'punto', 'q3', 'q5', 'q7', 'qashqai', 'r19', 'range_rover', 'range_rover_evoque', 'range_rover_sport', 'rangerover', 'rav', 'rio', 'roadster', 'roomster', 'rx_reihe', 's60', 's_klasse', 's_max', 's_type', 'samara', 'sandero', 'santa', 'scenic', 'scirocco', 'seicento', 'serie_1', 'serie_2', 'serie_3', 'sharan', 'signum', 'sirion', 'sl', 'slk', 'sorento', 'spark', 'spider', 'sportage', 'sprinter', 'stilo', 'superb', 'swift', 'terios', 'tigra', 'tiguan', 'toledo', 'touareg', 'touran', 'transit', 'transporter', 'tt', 'tucson', 'twingo', 'up', 'v40', 'v50', 'v60', 'v70', 'v_klasse', 'vectra', 'verso', 'viano', 'vito', 'vivaro', 'voyager', 'wrangler', 'x_reihe', 'x_trail', 'x_type', 'xc_reihe', 'yaris', 'yeti', 'ypsilon', 'z_reihe', 'zafira']\n",
      "\n",
      "Unique values of feature fuel_type:\n",
      "['cng', 'electric', 'gasoline', 'hybrid', 'lpg', 'other', 'petrol']\n",
      "\n",
      "Unique values of feature brand:\n",
      "['alfa_romeo', 'audi', 'bmw', 'chevrolet', 'chrysler', 'citroen', 'dacia', 'daewoo', 'daihatsu', 'fiat', 'ford', 'honda', 'hyundai', 'jaguar', 'jeep', 'kia', 'lada', 'lancia', 'land_rover', 'mazda', 'mercedes_benz', 'mini', 'mitsubishi', 'nissan', 'opel', 'peugeot', 'porsche', 'renault', 'rover', 'saab', 'seat', 'skoda', 'smart', 'subaru', 'suzuki', 'toyota', 'trabant', 'volkswagen', 'volvo']\n",
      "\n",
      "Unique values of feature repaired:\n",
      "['no', 'yes']\n",
      "\n"
     ]
    }
   ],
   "source": [
    "cat_features = ['vehicle_type', 'gearbox', 'model', 'fuel_type', 'brand', 'repaired']\n",
    "for cat_feature in cat_features:\n",
    "    print(f'Unique values of feature {cat_feature}:')\n",
    "    print(sorted(df[cat_feature].astype('str').unique()))\n",
    "    print()"
   ]
  },
  {
   "cell_type": "markdown",
   "metadata": {},
   "source": [
    "There is an implicit duplicate in the `fuel_type` column: the values gasoline and petrol are the same. Let's replace all petrol values with gasoline."
   ]
  },
  {
   "cell_type": "code",
   "execution_count": 21,
   "metadata": {},
   "outputs": [
    {
     "data": {
      "text/plain": [
       "['cng', 'electric', 'gasoline', 'hybrid', 'lpg', 'other']"
      ]
     },
     "execution_count": 21,
     "metadata": {},
     "output_type": "execute_result"
    }
   ],
   "source": [
    "df['fuel_type'] = df['fuel_type'].replace(to_replace='petrol', value='gasoline')\n",
    "sorted(df['fuel_type'].unique())"
   ]
  },
  {
   "cell_type": "markdown",
   "metadata": {},
   "source": [
    "**Conclusion:**  \n",
    "1) Removed 5 duplicate rows from the table;  \n",
    "2) implicit duplicates were found and fixed in the `fuel_type` column."
   ]
  },
  {
   "cell_type": "markdown",
   "metadata": {},
   "source": [
    "### Handling anomalous values"
   ]
  },
  {
   "cell_type": "markdown",
   "metadata": {},
   "source": [
    "- Column `price`"
   ]
  },
  {
   "cell_type": "code",
   "execution_count": 22,
   "metadata": {},
   "outputs": [
    {
     "data": {
      "text/plain": [
       "count    350990.000000\n",
       "mean       4410.797533\n",
       "std        4503.346994\n",
       "min           0.000000\n",
       "25%        1099.000000\n",
       "50%        2700.000000\n",
       "75%        6399.000000\n",
       "max       20000.000000\n",
       "Name: price, dtype: float64"
      ]
     },
     "execution_count": 22,
     "metadata": {},
     "output_type": "execute_result"
    }
   ],
   "source": [
    "df['price'].describe()"
   ]
  },
  {
   "cell_type": "markdown",
   "metadata": {},
   "source": [
    "In the `price` column, the mean is shifted upwards relative to the median, which means there are anomalous outliers. We also see that the minimum price value is 0, which is also an anomaly."
   ]
  },
  {
   "cell_type": "code",
   "execution_count": 23,
   "metadata": {
    "scrolled": true
   },
   "outputs": [
    {
     "data": {
      "image/png": "[encoded data removed]",
      "text/plain": [
       "<Figure size 640x480 with 1 Axes>"
      ]
     },
     "metadata": {},
     "output_type": "display_data"
    }
   ],
   "source": [
    "sns.boxplot(data=df['price'])\n",
    "plt.suptitle('Price range chart', fontsize=15);"
   ]
  },
  {
   "cell_type": "code",
   "execution_count": 24,
   "metadata": {
    "scrolled": false
   },
   "outputs": [
    {
     "data": {
      "image/png": "[encoded data removed]",
      "text/plain": [
       "<Figure size 2000x1500 with 1 Axes>"
      ]
     },
     "metadata": {},
     "output_type": "display_data"
    }
   ],
   "source": [
    "plt.figure(figsize=(20,15))\n",
    "plt.title('Histogram of price column', fontsize=15);\n",
    "sns.histplot(data=df['price'], bins=30);"
   ]
  },
  {
   "cell_type": "markdown",
   "metadata": {},
   "source": [
    "Let us select such quantiles of the distribution of price values in order to cut off anomalous values and outliers."
   ]
  },
  {
   "cell_type": "code",
   "execution_count": 25,
   "metadata": {},
   "outputs": [],
   "source": [
    "def check_price_quantiles(q_lower, q_upper):\n",
    "    \"\"\"\n",
    "    The function takes the values of the upper and lower quantile and displays their values, filters the dataset,\n",
    "    clipping values below the lower and above the upper quantile, displays a range plot and characteristic values\n",
    "    the resulting dataset.\n",
    "    \"\"\"\n",
    "    price_quantiles = df['price'].quantile([q_lower, q_upper])\n",
    "    print(price_quantiles)\n",
    "    print()\n",
    "    df_filtered = df.loc[(df['price'] >= price_quantiles.loc[q_lower]) & (df['price'] <= price_quantiles.loc[q_upper])]\n",
    "    sns.boxplot(data=df_filtered['price'])\n",
    "    plt.suptitle('Price range chart', fontsize=15);\n",
    "    print(df_filtered['price'].describe())"
   ]
  },
  {
   "cell_type": "markdown",
   "metadata": {},
   "source": [
    "Let's look at the 5% and 95% quantiles."
   ]
  },
  {
   "cell_type": "code",
   "execution_count": 26,
   "metadata": {
    "scrolled": false
   },
   "outputs": [
    {
     "name": "stdout",
     "output_type": "stream",
     "text": [
      "0.05      200.0\n",
      "0.95    14500.0\n",
      "Name: price, dtype: float64\n",
      "\n",
      "count    316713.000000\n",
      "mean       3943.483346\n",
      "std        3504.649888\n",
      "min         200.000000\n",
      "25%        1200.000000\n",
      "50%        2700.000000\n",
      "75%        5850.000000\n",
      "max       14500.000000\n",
      "Name: price, dtype: float64\n"
     ]
    },
    {
     "data": {
      "image/png": "[encoded data removed]",
      "text/plain": [
       "<Figure size 640x480 with 1 Axes>"
      ]
     },
     "metadata": {},
     "output_type": "display_data"
    }
   ],
   "source": [
    "check_price_quantiles(.05, .95)"
   ]
  },
  {
   "cell_type": "markdown",
   "metadata": {},
   "source": [
    "The lower price limit of 200 euros seems adequate. The upper limit is 14,600 euros. The mean is still heavily skewed up. We choose such an upper bound to get rid of outliers in the distribution."
   ]
  },
  {
   "cell_type": "code",
   "execution_count": 27,
   "metadata": {
    "scrolled": false
   },
   "outputs": [
    {
     "name": "stdout",
     "output_type": "stream",
     "text": [
      "0.05      200.0\n",
      "0.90    11400.0\n",
      "Name: price, dtype: float64\n",
      "\n",
      "count    299228.000000\n",
      "mean       3420.435437\n",
      "std        2827.579207\n",
      "min         200.000000\n",
      "25%        1150.000000\n",
      "50%        2500.000000\n",
      "75%        5000.000000\n",
      "max       11400.000000\n",
      "Name: price, dtype: float64\n"
     ]
    },
    {
     "data": {
      "image/png": "[encoded data removed]",
      "text/plain": [
       "<Figure size 640x480 with 1 Axes>"
      ]
     },
     "metadata": {},
     "output_type": "display_data"
    }
   ],
   "source": [
    "check_price_quantiles(.05, .90)"
   ]
  },
  {
   "cell_type": "code",
   "execution_count": 28,
   "metadata": {
    "scrolled": false
   },
   "outputs": [
    {
     "name": "stdout",
     "output_type": "stream",
     "text": [
      "0.05     200.0\n",
      "0.85    9000.0\n",
      "Name: price, dtype: float64\n",
      "\n",
      "count    282137.000000\n",
      "mean       3011.710747\n",
      "std        2352.044128\n",
      "min         200.000000\n",
      "25%        1050.000000\n",
      "50%        2300.000000\n",
      "75%        4500.000000\n",
      "max        9000.000000\n",
      "Name: price, dtype: float64\n"
     ]
    },
    {
     "data": {
      "image/png": "[encoded data removed]",
      "text/plain": [
       "<Figure size 640x480 with 1 Axes>"
      ]
     },
     "metadata": {},
     "output_type": "display_data"
    }
   ],
   "source": [
    "check_price_quantiles(.05, .85)"
   ]
  },
  {
   "cell_type": "markdown",
   "metadata": {},
   "source": [
    "With an upper limit of 9,000 euros, distribution got rid of emissions. Let's filter our dataframe by the price value for the 5% and 85% quantiles."
   ]
  },
  {
   "cell_type": "code",
   "execution_count": 29,
   "metadata": {},
   "outputs": [
    {
     "data": {
      "image/png": "[encoded data removed]",
      "text/plain": [
       "<Figure size 2000x1500 with 1 Axes>"
      ]
     },
     "metadata": {},
     "output_type": "display_data"
    }
   ],
   "source": [
    "df = df.loc[(df['price'] >= df['price'].quantile([.05, .85]).loc[0.05]) & \n",
    "            (df['price'] <= df['price'].quantile([.05, .85]).loc[0.85])]\n",
    "plt.figure(figsize=(20,15))\n",
    "plt.title('Histogram of price column', fontsize=15);\n",
    "sns.histplot(data=df['price'], bins=30);"
   ]
  },
  {
   "cell_type": "code",
   "execution_count": 30,
   "metadata": {},
   "outputs": [
    {
     "data": {
      "text/plain": [
       "(282137, 16)"
      ]
     },
     "execution_count": 30,
     "metadata": {},
     "output_type": "execute_result"
    }
   ],
   "source": [
    "df.shape"
   ]
  },
  {
   "cell_type": "markdown",
   "metadata": {},
   "source": [
    "- Column `registration_year`"
   ]
  },
  {
   "cell_type": "markdown",
   "metadata": {},
   "source": [
    "Let's see for which years there are ads in the data by the `date_created` column."
   ]
  },
  {
   "cell_type": "code",
   "execution_count": 31,
   "metadata": {},
   "outputs": [
    {
     "data": {
      "text/plain": [
       "2016    282119\n",
       "2015        17\n",
       "2014         1\n",
       "Name: date_created, dtype: int64"
      ]
     },
     "execution_count": 31,
     "metadata": {},
     "output_type": "execute_result"
    }
   ],
   "source": [
    "pd.DatetimeIndex(df['date_created']).year.value_counts()"
   ]
  },
  {
   "cell_type": "markdown",
   "metadata": {},
   "source": [
    "Let's look at the characteristic values of the `registration_year` column."
   ]
  },
  {
   "cell_type": "code",
   "execution_count": 32,
   "metadata": {},
   "outputs": [
    {
     "data": {
      "text/plain": [
       "count    282137.000000\n",
       "mean       2002.935492\n",
       "std          58.163315\n",
       "min        1000.000000\n",
       "25%        1999.000000\n",
       "50%        2002.000000\n",
       "75%        2006.000000\n",
       "max        9999.000000\n",
       "Name: registration_year, dtype: float64"
      ]
     },
     "execution_count": 32,
     "metadata": {},
     "output_type": "execute_result"
    }
   ],
   "source": [
    "df['registration_year'].describe()"
   ]
  },
  {
   "cell_type": "code",
   "execution_count": 33,
   "metadata": {
    "scrolled": true
   },
   "outputs": [
    {
     "data": {
      "text/plain": [
       "[1000,\n",
       " 1001,\n",
       " 1039,\n",
       " 1111,\n",
       " 1234,\n",
       " 1300,\n",
       " 1400,\n",
       " 1500,\n",
       " 1600,\n",
       " 1602,\n",
       " 1800,\n",
       " 1910,\n",
       " 1923,\n",
       " 1928,\n",
       " 1930,\n",
       " 1931,\n",
       " 1932,\n",
       " 1934,\n",
       " 1936,\n",
       " 1937,\n",
       " 1938,\n",
       " 1942,\n",
       " 1943,\n",
       " 1945,\n",
       " 1950,\n",
       " 1951,\n",
       " 1952,\n",
       " 1953,\n",
       " 1954,\n",
       " 1955,\n",
       " 1956,\n",
       " 1957,\n",
       " 1958,\n",
       " 1959,\n",
       " 1960,\n",
       " 1961,\n",
       " 1962,\n",
       " 1963,\n",
       " 1964,\n",
       " 1965,\n",
       " 1966,\n",
       " 1967,\n",
       " 1968,\n",
       " 1969,\n",
       " 1970,\n",
       " 1971,\n",
       " 1972,\n",
       " 1973,\n",
       " 1974,\n",
       " 1975,\n",
       " 1976,\n",
       " 1977,\n",
       " 1978,\n",
       " 1979,\n",
       " 1980,\n",
       " 1981,\n",
       " 1982,\n",
       " 1983,\n",
       " 1984,\n",
       " 1985,\n",
       " 1986,\n",
       " 1987,\n",
       " 1988,\n",
       " 1989,\n",
       " 1990,\n",
       " 1991,\n",
       " 1992,\n",
       " 1993,\n",
       " 1994,\n",
       " 1995,\n",
       " 1996,\n",
       " 1997,\n",
       " 1998,\n",
       " 1999,\n",
       " 2000,\n",
       " 2001,\n",
       " 2002,\n",
       " 2003,\n",
       " 2004,\n",
       " 2005,\n",
       " 2006,\n",
       " 2007,\n",
       " 2008,\n",
       " 2009,\n",
       " 2010,\n",
       " 2011,\n",
       " 2012,\n",
       " 2013,\n",
       " 2014,\n",
       " 2015,\n",
       " 2016,\n",
       " 2017,\n",
       " 2018,\n",
       " 2019,\n",
       " 2066,\n",
       " 2200,\n",
       " 2290,\n",
       " 2500,\n",
       " 2800,\n",
       " 2900,\n",
       " 3000,\n",
       " 3700,\n",
       " 4000,\n",
       " 4500,\n",
       " 5000,\n",
       " 5555,\n",
       " 5900,\n",
       " 5911,\n",
       " 6000,\n",
       " 7100,\n",
       " 8200,\n",
       " 8500,\n",
       " 9000,\n",
       " 9999]"
      ]
     },
     "execution_count": 33,
     "metadata": {},
     "output_type": "execute_result"
    }
   ],
   "source": [
    "sorted(df['registration_year'].unique())"
   ]
  },
  {
   "cell_type": "markdown",
   "metadata": {},
   "source": [
    "We see that the `registration_year` column has many incorrect values for the year of registration. Let's look at the latest date of registration of the announcement."
   ]
  },
  {
   "cell_type": "code",
   "execution_count": 34,
   "metadata": {
    "scrolled": true
   },
   "outputs": [
    {
     "data": {
      "text/plain": [
       "Timestamp('2016-04-07 00:00:00')"
      ]
     },
     "execution_count": 34,
     "metadata": {},
     "output_type": "execute_result"
    }
   ],
   "source": [
    "df['date_created'].max()"
   ]
  },
  {
   "cell_type": "markdown",
   "metadata": {},
   "source": [
    "The date of registration of the car cannot be later than the date of creation of the questionnaire. Let's filter the dataset by the values of the year of registration from 1910 to 04.2016 and look at the resulting distribution of the values of the `registration_year` column."
   ]
  },
  {
   "cell_type": "code",
   "execution_count": 35,
   "metadata": {
    "scrolled": false
   },
   "outputs": [
    {
     "data": {
      "image/png": "[encoded data removed]",
      "text/plain": [
       "<Figure size 2000x1500 with 1 Axes>"
      ]
     },
     "metadata": {},
     "output_type": "display_data"
    }
   ],
   "source": [
    "df = df.loc[(df['registration_year'] >= 1910) & (df['registration_year'] < 2017)]\n",
    "plt.figure(figsize=(20,15))\n",
    "plt.title('Histogram of the registration_year column', fontsize=15);\n",
    "sns.histplot(data=df['registration_year']);"
   ]
  },
  {
   "cell_type": "markdown",
   "metadata": {},
   "source": [
    "We cut off all objects older than 1960."
   ]
  },
  {
   "cell_type": "code",
   "execution_count": 36,
   "metadata": {
    "scrolled": false
   },
   "outputs": [
    {
     "data": {
      "image/png": "[encoded data removed]",
      "text/plain": [
       "<Figure size 2000x1500 with 1 Axes>"
      ]
     },
     "metadata": {},
     "output_type": "display_data"
    }
   ],
   "source": [
    "df = df.loc[df['registration_year'] > 1960]\n",
    "plt.figure(figsize=(20,15))\n",
    "plt.title('Histogram of the registration_year column', fontsize=15);\n",
    "sns.histplot(data=df['registration_year'], bins=47);"
   ]
  },
  {
   "cell_type": "code",
   "execution_count": 37,
   "metadata": {},
   "outputs": [
    {
     "data": {
      "text/plain": [
       "(269453, 16)"
      ]
     },
     "execution_count": 37,
     "metadata": {},
     "output_type": "execute_result"
    }
   ],
   "source": [
    "df.shape"
   ]
  },
  {
   "cell_type": "markdown",
   "metadata": {},
   "source": [
    "- Column `kilometer`"
   ]
  },
  {
   "cell_type": "code",
   "execution_count": 38,
   "metadata": {
    "scrolled": true
   },
   "outputs": [
    {
     "data": {
      "text/plain": [
       "count    269453.000000\n",
       "mean     133561.363206\n",
       "std       32690.244665\n",
       "min        5000.000000\n",
       "25%      125000.000000\n",
       "50%      150000.000000\n",
       "75%      150000.000000\n",
       "max      150000.000000\n",
       "Name: kilometer, dtype: float64"
      ]
     },
     "execution_count": 38,
     "metadata": {},
     "output_type": "execute_result"
    }
   ],
   "source": [
    "df['kilometer'].describe()"
   ]
  },
  {
   "cell_type": "code",
   "execution_count": 39,
   "metadata": {
    "scrolled": true
   },
   "outputs": [
    {
     "data": {
      "image/png": "[encoded data removed]",
      "text/plain": [
       "<Figure size 640x480 with 1 Axes>"
      ]
     },
     "metadata": {},
     "output_type": "display_data"
    }
   ],
   "source": [
    "sns.boxplot(data=df['kilometer'])\n",
    "plt.suptitle('Range chart of kilometer column values', fontsize=15);"
   ]
  },
  {
   "cell_type": "markdown",
   "metadata": {},
   "source": [
    "We see that most of the objects have mileage of 150000. There are single outliers of values less than 90000, but they are few and these are adequate values."
   ]
  },
  {
   "cell_type": "markdown",
   "metadata": {},
   "source": [
    "- Column `power`"
   ]
  },
  {
   "cell_type": "code",
   "execution_count": 40,
   "metadata": {
    "scrolled": true
   },
   "outputs": [
    {
     "data": {
      "text/plain": [
       "count    269453.000000\n",
       "mean        102.994210\n",
       "std         176.749685\n",
       "min           0.000000\n",
       "25%          67.000000\n",
       "50%         101.000000\n",
       "75%         136.000000\n",
       "max       20000.000000\n",
       "Name: power, dtype: float64"
      ]
     },
     "execution_count": 40,
     "metadata": {},
     "output_type": "execute_result"
    }
   ],
   "source": [
    "df['power'].describe()"
   ]
  },
  {
   "cell_type": "code",
   "execution_count": 41,
   "metadata": {},
   "outputs": [
    {
     "data": {
      "image/png": "[encoded data removed]",
      "text/plain": [
       "<Figure size 640x480 with 1 Axes>"
      ]
     },
     "metadata": {},
     "output_type": "display_data"
    }
   ],
   "source": [
    "sns.boxplot(data=df['power'])\n",
    "plt.suptitle('Power column range chart', fontsize=15);"
   ]
  },
  {
   "cell_type": "code",
   "execution_count": 42,
   "metadata": {
    "scrolled": false
   },
   "outputs": [
    {
     "data": {
      "text/plain": [
       "0       27888\n",
       "75      21315\n",
       "60      14028\n",
       "101     12055\n",
       "150     11829\n",
       "        ...  \n",
       "700         1\n",
       "7515        1\n",
       "2461        1\n",
       "6006        1\n",
       "3           1\n",
       "Name: power, Length: 589, dtype: int64"
      ]
     },
     "execution_count": 42,
     "metadata": {},
     "output_type": "execute_result"
    }
   ],
   "source": [
    "df['power'].value_counts()"
   ]
  },
  {
   "cell_type": "markdown",
   "metadata": {},
   "source": [
    "The column contains a large number of 0 values and abnormally large engine power values. Objects with a null value will have to be removed from the dataset. Let's look at values greater than 1000. Perhaps the owner in the questionnaire attributed an extra zero or did not put a period in the number."
   ]
  },
  {
   "cell_type": "markdown",
   "metadata": {},
   "source": [
    "Let's look at values greater than 1000. Perhaps the owner in the questionnaire attributed an extra zero or did not put a period in the number."
   ]
  },
  {
   "cell_type": "code",
   "execution_count": 43,
   "metadata": {
    "scrolled": true
   },
   "outputs": [
    {
     "data": {
      "text/html": [
       "<div>\n",
       "<style scoped>\n",
       "    .dataframe tbody tr th:only-of-type {\n",
       "        vertical-align: middle;\n",
       "    }\n",
       "\n",
       "    .dataframe tbody tr th {\n",
       "        vertical-align: top;\n",
       "    }\n",
       "\n",
       "    .dataframe thead th {\n",
       "        text-align: right;\n",
       "    }\n",
       "</style>\n",
       "<table border=\"1\" class=\"dataframe\">\n",
       "  <thead>\n",
       "    <tr style=\"text-align: right;\">\n",
       "      <th></th>\n",
       "      <th>date_crawled</th>\n",
       "      <th>price</th>\n",
       "      <th>vehicle_type</th>\n",
       "      <th>registration_year</th>\n",
       "      <th>gearbox</th>\n",
       "      <th>power</th>\n",
       "      <th>model</th>\n",
       "      <th>kilometer</th>\n",
       "      <th>registration_month</th>\n",
       "      <th>fuel_type</th>\n",
       "      <th>brand</th>\n",
       "      <th>repaired</th>\n",
       "      <th>date_created</th>\n",
       "      <th>number_of_pictures</th>\n",
       "      <th>postal_code</th>\n",
       "      <th>last_seen</th>\n",
       "    </tr>\n",
       "  </thead>\n",
       "  <tbody>\n",
       "    <tr>\n",
       "      <th>1800</th>\n",
       "      <td>2016-03-22 20:52:00</td>\n",
       "      <td>3200</td>\n",
       "      <td>small</td>\n",
       "      <td>2004</td>\n",
       "      <td>manual</td>\n",
       "      <td>1398</td>\n",
       "      <td>corolla</td>\n",
       "      <td>5000</td>\n",
       "      <td>6</td>\n",
       "      <td>gasoline</td>\n",
       "      <td>toyota</td>\n",
       "      <td>no</td>\n",
       "      <td>2016-03-22</td>\n",
       "      <td>0</td>\n",
       "      <td>22043</td>\n",
       "      <td>2016-03-22 21:43:26</td>\n",
       "    </tr>\n",
       "    <tr>\n",
       "      <th>5278</th>\n",
       "      <td>2016-03-29 19:44:48</td>\n",
       "      <td>500</td>\n",
       "      <td>wagon</td>\n",
       "      <td>1999</td>\n",
       "      <td>manual</td>\n",
       "      <td>1001</td>\n",
       "      <td>astra</td>\n",
       "      <td>150000</td>\n",
       "      <td>7</td>\n",
       "      <td>gasoline</td>\n",
       "      <td>opel</td>\n",
       "      <td>no</td>\n",
       "      <td>2016-03-29</td>\n",
       "      <td>0</td>\n",
       "      <td>33154</td>\n",
       "      <td>2016-04-06 05:44:36</td>\n",
       "    </tr>\n",
       "    <tr>\n",
       "      <th>7589</th>\n",
       "      <td>2016-04-02 19:25:25</td>\n",
       "      <td>1499</td>\n",
       "      <td>small</td>\n",
       "      <td>1999</td>\n",
       "      <td>manual</td>\n",
       "      <td>7515</td>\n",
       "      <td>lupo</td>\n",
       "      <td>150000</td>\n",
       "      <td>4</td>\n",
       "      <td>gasoline</td>\n",
       "      <td>volkswagen</td>\n",
       "      <td>no</td>\n",
       "      <td>2016-04-02</td>\n",
       "      <td>0</td>\n",
       "      <td>65830</td>\n",
       "      <td>2016-04-06 11:46:49</td>\n",
       "    </tr>\n",
       "    <tr>\n",
       "      <th>7648</th>\n",
       "      <td>2016-04-02 11:48:54</td>\n",
       "      <td>1500</td>\n",
       "      <td>small</td>\n",
       "      <td>2000</td>\n",
       "      <td>manual</td>\n",
       "      <td>1400</td>\n",
       "      <td>civic</td>\n",
       "      <td>150000</td>\n",
       "      <td>0</td>\n",
       "      <td>gasoline</td>\n",
       "      <td>honda</td>\n",
       "      <td>no</td>\n",
       "      <td>2016-04-02</td>\n",
       "      <td>0</td>\n",
       "      <td>21509</td>\n",
       "      <td>2016-04-04 09:15:26</td>\n",
       "    </tr>\n",
       "    <tr>\n",
       "      <th>9577</th>\n",
       "      <td>2016-03-14 20:06:19</td>\n",
       "      <td>2599</td>\n",
       "      <td>small</td>\n",
       "      <td>2016</td>\n",
       "      <td>manual</td>\n",
       "      <td>1779</td>\n",
       "      <td>zafira</td>\n",
       "      <td>150000</td>\n",
       "      <td>0</td>\n",
       "      <td>gasoline</td>\n",
       "      <td>opel</td>\n",
       "      <td>no</td>\n",
       "      <td>2016-03-14</td>\n",
       "      <td>0</td>\n",
       "      <td>60326</td>\n",
       "      <td>2016-04-07 09:45:27</td>\n",
       "    </tr>\n",
       "  </tbody>\n",
       "</table>\n",
       "</div>"
      ],
      "text/plain": [
       "            date_crawled  price vehicle_type  registration_year gearbox  \\\n",
       "1800 2016-03-22 20:52:00   3200        small               2004  manual   \n",
       "5278 2016-03-29 19:44:48    500        wagon               1999  manual   \n",
       "7589 2016-04-02 19:25:25   1499        small               1999  manual   \n",
       "7648 2016-04-02 11:48:54   1500        small               2000  manual   \n",
       "9577 2016-03-14 20:06:19   2599        small               2016  manual   \n",
       "\n",
       "      power    model  kilometer  registration_month fuel_type       brand  \\\n",
       "1800   1398  corolla       5000                   6  gasoline      toyota   \n",
       "5278   1001    astra     150000                   7  gasoline        opel   \n",
       "7589   7515     lupo     150000                   4  gasoline  volkswagen   \n",
       "7648   1400    civic     150000                   0  gasoline       honda   \n",
       "9577   1779   zafira     150000                   0  gasoline        opel   \n",
       "\n",
       "     repaired date_created  number_of_pictures  postal_code  \\\n",
       "1800       no   2016-03-22                   0        22043   \n",
       "5278       no   2016-03-29                   0        33154   \n",
       "7589       no   2016-04-02                   0        65830   \n",
       "7648       no   2016-04-02                   0        21509   \n",
       "9577       no   2016-03-14                   0        60326   \n",
       "\n",
       "               last_seen  \n",
       "1800 2016-03-22 21:43:26  \n",
       "5278 2016-04-06 05:44:36  \n",
       "7589 2016-04-06 11:46:49  \n",
       "7648 2016-04-04 09:15:26  \n",
       "9577 2016-04-07 09:45:27  "
      ]
     },
     "execution_count": 43,
     "metadata": {},
     "output_type": "execute_result"
    }
   ],
   "source": [
    "df.query('power > 1000').head()"
   ]
  },
  {
   "cell_type": "markdown",
   "metadata": {},
   "source": [
    "Let's take the first object from the list and look at other objects from the dataset that match in the brand, model and vehicle_type fields."
   ]
  },
  {
   "cell_type": "code",
   "execution_count": 44,
   "metadata": {
    "scrolled": false
   },
   "outputs": [
    {
     "data": {
      "text/html": [
       "<div>\n",
       "<style scoped>\n",
       "    .dataframe tbody tr th:only-of-type {\n",
       "        vertical-align: middle;\n",
       "    }\n",
       "\n",
       "    .dataframe tbody tr th {\n",
       "        vertical-align: top;\n",
       "    }\n",
       "\n",
       "    .dataframe thead th {\n",
       "        text-align: right;\n",
       "    }\n",
       "</style>\n",
       "<table border=\"1\" class=\"dataframe\">\n",
       "  <thead>\n",
       "    <tr style=\"text-align: right;\">\n",
       "      <th></th>\n",
       "      <th>date_crawled</th>\n",
       "      <th>price</th>\n",
       "      <th>vehicle_type</th>\n",
       "      <th>registration_year</th>\n",
       "      <th>gearbox</th>\n",
       "      <th>power</th>\n",
       "      <th>model</th>\n",
       "      <th>kilometer</th>\n",
       "      <th>registration_month</th>\n",
       "      <th>fuel_type</th>\n",
       "      <th>brand</th>\n",
       "      <th>repaired</th>\n",
       "      <th>date_created</th>\n",
       "      <th>number_of_pictures</th>\n",
       "      <th>postal_code</th>\n",
       "      <th>last_seen</th>\n",
       "    </tr>\n",
       "  </thead>\n",
       "  <tbody>\n",
       "    <tr>\n",
       "      <th>1076</th>\n",
       "      <td>2016-03-30 07:37:04</td>\n",
       "      <td>1400</td>\n",
       "      <td>small</td>\n",
       "      <td>1989</td>\n",
       "      <td>manual</td>\n",
       "      <td>0</td>\n",
       "      <td>corolla</td>\n",
       "      <td>150000</td>\n",
       "      <td>0</td>\n",
       "      <td>gasoline</td>\n",
       "      <td>toyota</td>\n",
       "      <td>no</td>\n",
       "      <td>2016-03-30</td>\n",
       "      <td>0</td>\n",
       "      <td>73329</td>\n",
       "      <td>2016-04-07 00:15:54</td>\n",
       "    </tr>\n",
       "    <tr>\n",
       "      <th>1800</th>\n",
       "      <td>2016-03-22 20:52:00</td>\n",
       "      <td>3200</td>\n",
       "      <td>small</td>\n",
       "      <td>2004</td>\n",
       "      <td>manual</td>\n",
       "      <td>1398</td>\n",
       "      <td>corolla</td>\n",
       "      <td>5000</td>\n",
       "      <td>6</td>\n",
       "      <td>gasoline</td>\n",
       "      <td>toyota</td>\n",
       "      <td>no</td>\n",
       "      <td>2016-03-22</td>\n",
       "      <td>0</td>\n",
       "      <td>22043</td>\n",
       "      <td>2016-03-22 21:43:26</td>\n",
       "    </tr>\n",
       "    <tr>\n",
       "      <th>5175</th>\n",
       "      <td>2016-03-15 15:37:04</td>\n",
       "      <td>1000</td>\n",
       "      <td>small</td>\n",
       "      <td>2003</td>\n",
       "      <td>manual</td>\n",
       "      <td>97</td>\n",
       "      <td>corolla</td>\n",
       "      <td>150000</td>\n",
       "      <td>4</td>\n",
       "      <td>gasoline</td>\n",
       "      <td>toyota</td>\n",
       "      <td>yes</td>\n",
       "      <td>2016-03-15</td>\n",
       "      <td>0</td>\n",
       "      <td>60385</td>\n",
       "      <td>2016-04-06 07:16:59</td>\n",
       "    </tr>\n",
       "    <tr>\n",
       "      <th>10887</th>\n",
       "      <td>2016-03-27 14:54:10</td>\n",
       "      <td>2500</td>\n",
       "      <td>small</td>\n",
       "      <td>1996</td>\n",
       "      <td>manual</td>\n",
       "      <td>75</td>\n",
       "      <td>corolla</td>\n",
       "      <td>125000</td>\n",
       "      <td>8</td>\n",
       "      <td>gasoline</td>\n",
       "      <td>toyota</td>\n",
       "      <td>no</td>\n",
       "      <td>2016-03-27</td>\n",
       "      <td>0</td>\n",
       "      <td>15738</td>\n",
       "      <td>2016-03-27 14:54:10</td>\n",
       "    </tr>\n",
       "    <tr>\n",
       "      <th>18721</th>\n",
       "      <td>2016-03-20 17:52:32</td>\n",
       "      <td>2250</td>\n",
       "      <td>small</td>\n",
       "      <td>2000</td>\n",
       "      <td>manual</td>\n",
       "      <td>110</td>\n",
       "      <td>corolla</td>\n",
       "      <td>100000</td>\n",
       "      <td>12</td>\n",
       "      <td>gasoline</td>\n",
       "      <td>toyota</td>\n",
       "      <td>no</td>\n",
       "      <td>2016-03-20</td>\n",
       "      <td>0</td>\n",
       "      <td>1968</td>\n",
       "      <td>2016-04-07 00:46:22</td>\n",
       "    </tr>\n",
       "    <tr>\n",
       "      <th>...</th>\n",
       "      <td>...</td>\n",
       "      <td>...</td>\n",
       "      <td>...</td>\n",
       "      <td>...</td>\n",
       "      <td>...</td>\n",
       "      <td>...</td>\n",
       "      <td>...</td>\n",
       "      <td>...</td>\n",
       "      <td>...</td>\n",
       "      <td>...</td>\n",
       "      <td>...</td>\n",
       "      <td>...</td>\n",
       "      <td>...</td>\n",
       "      <td>...</td>\n",
       "      <td>...</td>\n",
       "      <td>...</td>\n",
       "    </tr>\n",
       "    <tr>\n",
       "      <th>325094</th>\n",
       "      <td>2016-03-12 02:36:54</td>\n",
       "      <td>1400</td>\n",
       "      <td>small</td>\n",
       "      <td>1997</td>\n",
       "      <td>manual</td>\n",
       "      <td>0</td>\n",
       "      <td>corolla</td>\n",
       "      <td>125000</td>\n",
       "      <td>3</td>\n",
       "      <td>gasoline</td>\n",
       "      <td>toyota</td>\n",
       "      <td>no</td>\n",
       "      <td>2016-03-12</td>\n",
       "      <td>0</td>\n",
       "      <td>47441</td>\n",
       "      <td>2016-04-05 20:46:07</td>\n",
       "    </tr>\n",
       "    <tr>\n",
       "      <th>340763</th>\n",
       "      <td>2016-03-23 14:47:22</td>\n",
       "      <td>950</td>\n",
       "      <td>small</td>\n",
       "      <td>2000</td>\n",
       "      <td>manual</td>\n",
       "      <td>63</td>\n",
       "      <td>corolla</td>\n",
       "      <td>150000</td>\n",
       "      <td>8</td>\n",
       "      <td>gasoline</td>\n",
       "      <td>toyota</td>\n",
       "      <td>no</td>\n",
       "      <td>2016-03-23</td>\n",
       "      <td>0</td>\n",
       "      <td>18109</td>\n",
       "      <td>2016-04-05 16:44:45</td>\n",
       "    </tr>\n",
       "    <tr>\n",
       "      <th>341739</th>\n",
       "      <td>2016-03-15 15:53:57</td>\n",
       "      <td>650</td>\n",
       "      <td>small</td>\n",
       "      <td>1995</td>\n",
       "      <td>manual</td>\n",
       "      <td>0</td>\n",
       "      <td>corolla</td>\n",
       "      <td>5000</td>\n",
       "      <td>0</td>\n",
       "      <td>gasoline</td>\n",
       "      <td>toyota</td>\n",
       "      <td>no</td>\n",
       "      <td>2016-03-15</td>\n",
       "      <td>0</td>\n",
       "      <td>28717</td>\n",
       "      <td>2016-03-17 11:18:44</td>\n",
       "    </tr>\n",
       "    <tr>\n",
       "      <th>347769</th>\n",
       "      <td>2016-03-14 19:41:19</td>\n",
       "      <td>4699</td>\n",
       "      <td>small</td>\n",
       "      <td>2006</td>\n",
       "      <td>manual</td>\n",
       "      <td>110</td>\n",
       "      <td>corolla</td>\n",
       "      <td>90000</td>\n",
       "      <td>4</td>\n",
       "      <td>gasoline</td>\n",
       "      <td>toyota</td>\n",
       "      <td>no</td>\n",
       "      <td>2016-03-14</td>\n",
       "      <td>0</td>\n",
       "      <td>57319</td>\n",
       "      <td>2016-03-28 04:46:53</td>\n",
       "    </tr>\n",
       "    <tr>\n",
       "      <th>348480</th>\n",
       "      <td>2016-03-19 17:50:40</td>\n",
       "      <td>2399</td>\n",
       "      <td>small</td>\n",
       "      <td>2004</td>\n",
       "      <td>manual</td>\n",
       "      <td>96</td>\n",
       "      <td>corolla</td>\n",
       "      <td>150000</td>\n",
       "      <td>1</td>\n",
       "      <td>gasoline</td>\n",
       "      <td>toyota</td>\n",
       "      <td>no</td>\n",
       "      <td>2016-03-19</td>\n",
       "      <td>0</td>\n",
       "      <td>26122</td>\n",
       "      <td>2016-03-20 20:17:11</td>\n",
       "    </tr>\n",
       "  </tbody>\n",
       "</table>\n",
       "<p>124 rows × 16 columns</p>\n",
       "</div>"
      ],
      "text/plain": [
       "              date_crawled  price vehicle_type  registration_year gearbox  \\\n",
       "1076   2016-03-30 07:37:04   1400        small               1989  manual   \n",
       "1800   2016-03-22 20:52:00   3200        small               2004  manual   \n",
       "5175   2016-03-15 15:37:04   1000        small               2003  manual   \n",
       "10887  2016-03-27 14:54:10   2500        small               1996  manual   \n",
       "18721  2016-03-20 17:52:32   2250        small               2000  manual   \n",
       "...                    ...    ...          ...                ...     ...   \n",
       "325094 2016-03-12 02:36:54   1400        small               1997  manual   \n",
       "340763 2016-03-23 14:47:22    950        small               2000  manual   \n",
       "341739 2016-03-15 15:53:57    650        small               1995  manual   \n",
       "347769 2016-03-14 19:41:19   4699        small               2006  manual   \n",
       "348480 2016-03-19 17:50:40   2399        small               2004  manual   \n",
       "\n",
       "        power    model  kilometer  registration_month fuel_type   brand  \\\n",
       "1076        0  corolla     150000                   0  gasoline  toyota   \n",
       "1800     1398  corolla       5000                   6  gasoline  toyota   \n",
       "5175       97  corolla     150000                   4  gasoline  toyota   \n",
       "10887      75  corolla     125000                   8  gasoline  toyota   \n",
       "18721     110  corolla     100000                  12  gasoline  toyota   \n",
       "...       ...      ...        ...                 ...       ...     ...   \n",
       "325094      0  corolla     125000                   3  gasoline  toyota   \n",
       "340763     63  corolla     150000                   8  gasoline  toyota   \n",
       "341739      0  corolla       5000                   0  gasoline  toyota   \n",
       "347769    110  corolla      90000                   4  gasoline  toyota   \n",
       "348480     96  corolla     150000                   1  gasoline  toyota   \n",
       "\n",
       "       repaired date_created  number_of_pictures  postal_code  \\\n",
       "1076         no   2016-03-30                   0        73329   \n",
       "1800         no   2016-03-22                   0        22043   \n",
       "5175        yes   2016-03-15                   0        60385   \n",
       "10887        no   2016-03-27                   0        15738   \n",
       "18721        no   2016-03-20                   0         1968   \n",
       "...         ...          ...                 ...          ...   \n",
       "325094       no   2016-03-12                   0        47441   \n",
       "340763       no   2016-03-23                   0        18109   \n",
       "341739       no   2016-03-15                   0        28717   \n",
       "347769       no   2016-03-14                   0        57319   \n",
       "348480       no   2016-03-19                   0        26122   \n",
       "\n",
       "                 last_seen  \n",
       "1076   2016-04-07 00:15:54  \n",
       "1800   2016-03-22 21:43:26  \n",
       "5175   2016-04-06 07:16:59  \n",
       "10887  2016-03-27 14:54:10  \n",
       "18721  2016-04-07 00:46:22  \n",
       "...                    ...  \n",
       "325094 2016-04-05 20:46:07  \n",
       "340763 2016-04-05 16:44:45  \n",
       "341739 2016-03-17 11:18:44  \n",
       "347769 2016-03-28 04:46:53  \n",
       "348480 2016-03-20 20:17:11  \n",
       "\n",
       "[124 rows x 16 columns]"
      ]
     },
     "execution_count": 44,
     "metadata": {},
     "output_type": "execute_result"
    }
   ],
   "source": [
    "df.query(\"brand == 'toyota' and model == 'corolla' and vehicle_type == 'small'\")"
   ]
  },
  {
   "cell_type": "markdown",
   "metadata": {},
   "source": [
    "Unfortunately, the anomalous value of engine power 1398 cannot be explained by an error in the digit capacity of the number. Such data will simply be deleted. Let's cut off objects with power < 11 and power > 500 and see the distribution."
   ]
  },
  {
   "cell_type": "code",
   "execution_count": 45,
   "metadata": {},
   "outputs": [],
   "source": [
    "df = df.loc[(df['power'] > 10) & (df['power'] <= 500)]"
   ]
  },
  {
   "cell_type": "code",
   "execution_count": 46,
   "metadata": {
    "scrolled": false
   },
   "outputs": [
    {
     "data": {
      "image/png": "[encoded data removed]",
      "text/plain": [
       "<Figure size 2000x1500 with 1 Axes>"
      ]
     },
     "metadata": {},
     "output_type": "display_data"
    }
   ],
   "source": [
    "plt.figure(figsize=(20,15))\n",
    "plt.title('Power column histogram', fontsize=15);\n",
    "sns.histplot(data=df['power']);"
   ]
  },
  {
   "cell_type": "code",
   "execution_count": 47,
   "metadata": {
    "scrolled": false
   },
   "outputs": [
    {
     "data": {
      "image/png": "[encoded data removed]",
      "text/plain": [
       "<Figure size 640x480 with 1 Axes>"
      ]
     },
     "metadata": {},
     "output_type": "display_data"
    }
   ],
   "source": [
    "#df.boxplot('power')\n",
    "sns.boxplot(df['power'])\n",
    "plt.suptitle('Power column range chart', fontsize=15);"
   ]
  },
  {
   "cell_type": "code",
   "execution_count": 48,
   "metadata": {},
   "outputs": [
    {
     "data": {
      "text/plain": [
       "count    241210.000000\n",
       "mean        111.217002\n",
       "std          45.768751\n",
       "min          11.000000\n",
       "25%          75.000000\n",
       "50%         105.000000\n",
       "75%         140.000000\n",
       "max         500.000000\n",
       "Name: power, dtype: float64"
      ]
     },
     "execution_count": 48,
     "metadata": {},
     "output_type": "execute_result"
    }
   ],
   "source": [
    "df['power'].describe()"
   ]
  },
  {
   "cell_type": "markdown",
   "metadata": {},
   "source": [
    "Let's look at objects with a power of 300 to 500 hp."
   ]
  },
  {
   "cell_type": "code",
   "execution_count": 49,
   "metadata": {
    "scrolled": false
   },
   "outputs": [
    {
     "data": {
      "text/html": [
       "<div>\n",
       "<style scoped>\n",
       "    .dataframe tbody tr th:only-of-type {\n",
       "        vertical-align: middle;\n",
       "    }\n",
       "\n",
       "    .dataframe tbody tr th {\n",
       "        vertical-align: top;\n",
       "    }\n",
       "\n",
       "    .dataframe thead th {\n",
       "        text-align: right;\n",
       "    }\n",
       "</style>\n",
       "<table border=\"1\" class=\"dataframe\">\n",
       "  <thead>\n",
       "    <tr style=\"text-align: right;\">\n",
       "      <th></th>\n",
       "      <th>date_crawled</th>\n",
       "      <th>price</th>\n",
       "      <th>vehicle_type</th>\n",
       "      <th>registration_year</th>\n",
       "      <th>gearbox</th>\n",
       "      <th>power</th>\n",
       "      <th>model</th>\n",
       "      <th>kilometer</th>\n",
       "      <th>registration_month</th>\n",
       "      <th>fuel_type</th>\n",
       "      <th>brand</th>\n",
       "      <th>repaired</th>\n",
       "      <th>date_created</th>\n",
       "      <th>number_of_pictures</th>\n",
       "      <th>postal_code</th>\n",
       "      <th>last_seen</th>\n",
       "    </tr>\n",
       "  </thead>\n",
       "  <tbody>\n",
       "    <tr>\n",
       "      <th>41</th>\n",
       "      <td>2016-03-30 20:38:20</td>\n",
       "      <td>7500</td>\n",
       "      <td>sedan</td>\n",
       "      <td>2002</td>\n",
       "      <td>auto</td>\n",
       "      <td>306</td>\n",
       "      <td>e_klasse</td>\n",
       "      <td>150000</td>\n",
       "      <td>4</td>\n",
       "      <td>gasoline</td>\n",
       "      <td>mercedes_benz</td>\n",
       "      <td>no</td>\n",
       "      <td>2016-03-30</td>\n",
       "      <td>0</td>\n",
       "      <td>33649</td>\n",
       "      <td>2016-04-03 11:44:49</td>\n",
       "    </tr>\n",
       "    <tr>\n",
       "      <th>391</th>\n",
       "      <td>2016-04-01 19:49:57</td>\n",
       "      <td>6250</td>\n",
       "      <td>small</td>\n",
       "      <td>2016</td>\n",
       "      <td>manual</td>\n",
       "      <td>310</td>\n",
       "      <td>astra</td>\n",
       "      <td>150000</td>\n",
       "      <td>0</td>\n",
       "      <td>gasoline</td>\n",
       "      <td>opel</td>\n",
       "      <td>no</td>\n",
       "      <td>2016-04-01</td>\n",
       "      <td>0</td>\n",
       "      <td>58809</td>\n",
       "      <td>2016-04-03 16:47:23</td>\n",
       "    </tr>\n",
       "    <tr>\n",
       "      <th>444</th>\n",
       "      <td>2016-04-01 22:51:18</td>\n",
       "      <td>8500</td>\n",
       "      <td>sedan</td>\n",
       "      <td>2003</td>\n",
       "      <td>manual</td>\n",
       "      <td>300</td>\n",
       "      <td>a4</td>\n",
       "      <td>150000</td>\n",
       "      <td>3</td>\n",
       "      <td>gasoline</td>\n",
       "      <td>audi</td>\n",
       "      <td>no</td>\n",
       "      <td>2016-04-01</td>\n",
       "      <td>0</td>\n",
       "      <td>18573</td>\n",
       "      <td>2016-04-05 21:45:11</td>\n",
       "    </tr>\n",
       "    <tr>\n",
       "      <th>1185</th>\n",
       "      <td>2016-03-26 19:37:50</td>\n",
       "      <td>5800</td>\n",
       "      <td>sedan</td>\n",
       "      <td>2000</td>\n",
       "      <td>auto</td>\n",
       "      <td>326</td>\n",
       "      <td>7er</td>\n",
       "      <td>150000</td>\n",
       "      <td>3</td>\n",
       "      <td>gasoline</td>\n",
       "      <td>bmw</td>\n",
       "      <td>yes</td>\n",
       "      <td>2016-03-26</td>\n",
       "      <td>0</td>\n",
       "      <td>45549</td>\n",
       "      <td>2016-04-02 11:18:22</td>\n",
       "    </tr>\n",
       "    <tr>\n",
       "      <th>1235</th>\n",
       "      <td>2016-03-29 15:53:54</td>\n",
       "      <td>4490</td>\n",
       "      <td>coupe</td>\n",
       "      <td>1984</td>\n",
       "      <td>auto</td>\n",
       "      <td>310</td>\n",
       "      <td>other</td>\n",
       "      <td>150000</td>\n",
       "      <td>4</td>\n",
       "      <td>gasoline</td>\n",
       "      <td>porsche</td>\n",
       "      <td>no</td>\n",
       "      <td>2016-03-29</td>\n",
       "      <td>0</td>\n",
       "      <td>85777</td>\n",
       "      <td>2016-03-29 16:41:57</td>\n",
       "    </tr>\n",
       "    <tr>\n",
       "      <th>...</th>\n",
       "      <td>...</td>\n",
       "      <td>...</td>\n",
       "      <td>...</td>\n",
       "      <td>...</td>\n",
       "      <td>...</td>\n",
       "      <td>...</td>\n",
       "      <td>...</td>\n",
       "      <td>...</td>\n",
       "      <td>...</td>\n",
       "      <td>...</td>\n",
       "      <td>...</td>\n",
       "      <td>...</td>\n",
       "      <td>...</td>\n",
       "      <td>...</td>\n",
       "      <td>...</td>\n",
       "      <td>...</td>\n",
       "    </tr>\n",
       "    <tr>\n",
       "      <th>349347</th>\n",
       "      <td>2016-03-28 12:38:50</td>\n",
       "      <td>6666</td>\n",
       "      <td>sedan</td>\n",
       "      <td>2002</td>\n",
       "      <td>auto</td>\n",
       "      <td>333</td>\n",
       "      <td>7er</td>\n",
       "      <td>150000</td>\n",
       "      <td>8</td>\n",
       "      <td>gasoline</td>\n",
       "      <td>bmw</td>\n",
       "      <td>no</td>\n",
       "      <td>2016-03-28</td>\n",
       "      <td>0</td>\n",
       "      <td>24534</td>\n",
       "      <td>2016-03-31 20:18:54</td>\n",
       "    </tr>\n",
       "    <tr>\n",
       "      <th>349732</th>\n",
       "      <td>2016-03-18 12:47:25</td>\n",
       "      <td>8000</td>\n",
       "      <td>sedan</td>\n",
       "      <td>2002</td>\n",
       "      <td>auto</td>\n",
       "      <td>306</td>\n",
       "      <td>c_klasse</td>\n",
       "      <td>150000</td>\n",
       "      <td>12</td>\n",
       "      <td>gasoline</td>\n",
       "      <td>mercedes_benz</td>\n",
       "      <td>no</td>\n",
       "      <td>2016-03-18</td>\n",
       "      <td>0</td>\n",
       "      <td>78239</td>\n",
       "      <td>2016-04-05 22:16:52</td>\n",
       "    </tr>\n",
       "    <tr>\n",
       "      <th>350287</th>\n",
       "      <td>2016-04-04 21:55:50</td>\n",
       "      <td>6995</td>\n",
       "      <td>wagon</td>\n",
       "      <td>2004</td>\n",
       "      <td>auto</td>\n",
       "      <td>306</td>\n",
       "      <td>e_klasse</td>\n",
       "      <td>150000</td>\n",
       "      <td>11</td>\n",
       "      <td>lpg</td>\n",
       "      <td>mercedes_benz</td>\n",
       "      <td>no</td>\n",
       "      <td>2016-04-04</td>\n",
       "      <td>0</td>\n",
       "      <td>42489</td>\n",
       "      <td>2016-04-07 00:45:17</td>\n",
       "    </tr>\n",
       "    <tr>\n",
       "      <th>350306</th>\n",
       "      <td>2016-03-28 23:45:59</td>\n",
       "      <td>5800</td>\n",
       "      <td>sedan</td>\n",
       "      <td>2000</td>\n",
       "      <td>auto</td>\n",
       "      <td>326</td>\n",
       "      <td>7er</td>\n",
       "      <td>150000</td>\n",
       "      <td>3</td>\n",
       "      <td>gasoline</td>\n",
       "      <td>bmw</td>\n",
       "      <td>yes</td>\n",
       "      <td>2016-03-28</td>\n",
       "      <td>0</td>\n",
       "      <td>45549</td>\n",
       "      <td>2016-04-07 09:45:20</td>\n",
       "    </tr>\n",
       "    <tr>\n",
       "      <th>350664</th>\n",
       "      <td>2016-04-03 01:57:21</td>\n",
       "      <td>7499</td>\n",
       "      <td>sedan</td>\n",
       "      <td>2003</td>\n",
       "      <td>auto</td>\n",
       "      <td>333</td>\n",
       "      <td>5er</td>\n",
       "      <td>150000</td>\n",
       "      <td>11</td>\n",
       "      <td>gasoline</td>\n",
       "      <td>bmw</td>\n",
       "      <td>no</td>\n",
       "      <td>2016-04-03</td>\n",
       "      <td>0</td>\n",
       "      <td>48432</td>\n",
       "      <td>2016-04-03 08:48:45</td>\n",
       "    </tr>\n",
       "  </tbody>\n",
       "</table>\n",
       "<p>900 rows × 16 columns</p>\n",
       "</div>"
      ],
      "text/plain": [
       "              date_crawled  price vehicle_type  registration_year gearbox  \\\n",
       "41     2016-03-30 20:38:20   7500        sedan               2002    auto   \n",
       "391    2016-04-01 19:49:57   6250        small               2016  manual   \n",
       "444    2016-04-01 22:51:18   8500        sedan               2003  manual   \n",
       "1185   2016-03-26 19:37:50   5800        sedan               2000    auto   \n",
       "1235   2016-03-29 15:53:54   4490        coupe               1984    auto   \n",
       "...                    ...    ...          ...                ...     ...   \n",
       "349347 2016-03-28 12:38:50   6666        sedan               2002    auto   \n",
       "349732 2016-03-18 12:47:25   8000        sedan               2002    auto   \n",
       "350287 2016-04-04 21:55:50   6995        wagon               2004    auto   \n",
       "350306 2016-03-28 23:45:59   5800        sedan               2000    auto   \n",
       "350664 2016-04-03 01:57:21   7499        sedan               2003    auto   \n",
       "\n",
       "        power     model  kilometer  registration_month fuel_type  \\\n",
       "41        306  e_klasse     150000                   4  gasoline   \n",
       "391       310     astra     150000                   0  gasoline   \n",
       "444       300        a4     150000                   3  gasoline   \n",
       "1185      326       7er     150000                   3  gasoline   \n",
       "1235      310     other     150000                   4  gasoline   \n",
       "...       ...       ...        ...                 ...       ...   \n",
       "349347    333       7er     150000                   8  gasoline   \n",
       "349732    306  c_klasse     150000                  12  gasoline   \n",
       "350287    306  e_klasse     150000                  11       lpg   \n",
       "350306    326       7er     150000                   3  gasoline   \n",
       "350664    333       5er     150000                  11  gasoline   \n",
       "\n",
       "                brand repaired date_created  number_of_pictures  postal_code  \\\n",
       "41      mercedes_benz       no   2016-03-30                   0        33649   \n",
       "391              opel       no   2016-04-01                   0        58809   \n",
       "444              audi       no   2016-04-01                   0        18573   \n",
       "1185              bmw      yes   2016-03-26                   0        45549   \n",
       "1235          porsche       no   2016-03-29                   0        85777   \n",
       "...               ...      ...          ...                 ...          ...   \n",
       "349347            bmw       no   2016-03-28                   0        24534   \n",
       "349732  mercedes_benz       no   2016-03-18                   0        78239   \n",
       "350287  mercedes_benz       no   2016-04-04                   0        42489   \n",
       "350306            bmw      yes   2016-03-28                   0        45549   \n",
       "350664            bmw       no   2016-04-03                   0        48432   \n",
       "\n",
       "                 last_seen  \n",
       "41     2016-04-03 11:44:49  \n",
       "391    2016-04-03 16:47:23  \n",
       "444    2016-04-05 21:45:11  \n",
       "1185   2016-04-02 11:18:22  \n",
       "1235   2016-03-29 16:41:57  \n",
       "...                    ...  \n",
       "349347 2016-03-31 20:18:54  \n",
       "349732 2016-04-05 22:16:52  \n",
       "350287 2016-04-07 00:45:17  \n",
       "350306 2016-04-07 09:45:20  \n",
       "350664 2016-04-03 08:48:45  \n",
       "\n",
       "[900 rows x 16 columns]"
      ]
     },
     "execution_count": 49,
     "metadata": {},
     "output_type": "execute_result"
    }
   ],
   "source": [
    "df.query('300<=power<=500')"
   ]
  },
  {
   "cell_type": "markdown",
   "metadata": {},
   "source": [
    "The data looks plausible. Many models of Mercedez, BMW, Audi brands have engine power up to 500 hp."
   ]
  },
  {
   "cell_type": "code",
   "execution_count": 50,
   "metadata": {},
   "outputs": [
    {
     "data": {
      "text/plain": [
       "(241210, 16)"
      ]
     },
     "execution_count": 50,
     "metadata": {},
     "output_type": "execute_result"
    }
   ],
   "source": [
    "df.shape"
   ]
  },
  {
   "cell_type": "markdown",
   "metadata": {},
   "source": [
    "**Conclusion:** as a result of processing anomalous values in the `price`, `registration_year`, `power` columns, 112099 objects were removed from the dataset."
   ]
  },
  {
   "cell_type": "markdown",
   "metadata": {},
   "source": [
    "### Features preparation"
   ]
  },
  {
   "cell_type": "markdown",
   "metadata": {},
   "source": [
    "Remove non-informative features `date_crawled`, `registration_month`, `date_created`, `number_of_pictures`, `postal_code`, `last_seen` from the dataset."
   ]
  },
  {
   "cell_type": "code",
   "execution_count": 51,
   "metadata": {},
   "outputs": [],
   "source": [
    "df = df.drop(['date_crawled', 'registration_month', \n",
    "              'date_created', 'number_of_pictures', \n",
    "              'postal_code', 'last_seen'], axis=1)"
   ]
  },
  {
   "cell_type": "code",
   "execution_count": 52,
   "metadata": {},
   "outputs": [
    {
     "data": {
      "text/plain": [
       "(241210, 10)"
      ]
     },
     "execution_count": 52,
     "metadata": {},
     "output_type": "execute_result"
    }
   ],
   "source": [
    "df.shape"
   ]
  },
  {
   "cell_type": "code",
   "execution_count": 53,
   "metadata": {
    "scrolled": true
   },
   "outputs": [
    {
     "name": "stdout",
     "output_type": "stream",
     "text": [
      "<class 'pandas.core.frame.DataFrame'>\n",
      "Int64Index: 241210 entries, 3 to 350989\n",
      "Data columns (total 10 columns):\n",
      " #   Column             Non-Null Count   Dtype \n",
      "---  ------             --------------   ----- \n",
      " 0   price              241210 non-null  int64 \n",
      " 1   vehicle_type       241210 non-null  object\n",
      " 2   registration_year  241210 non-null  int64 \n",
      " 3   gearbox            241210 non-null  object\n",
      " 4   power              241210 non-null  int64 \n",
      " 5   model              241210 non-null  object\n",
      " 6   kilometer          241210 non-null  int64 \n",
      " 7   fuel_type          241210 non-null  object\n",
      " 8   brand              241210 non-null  object\n",
      " 9   repaired           241210 non-null  object\n",
      "dtypes: int64(4), object(6)\n",
      "memory usage: 20.2+ MB\n"
     ]
    }
   ],
   "source": [
    "df.info()"
   ]
  },
  {
   "cell_type": "markdown",
   "metadata": {},
   "source": [
    "Let's study the sample for multicollinearity of quantitative features."
   ]
  },
  {
   "cell_type": "code",
   "execution_count": 54,
   "metadata": {
    "scrolled": false
   },
   "outputs": [
    {
     "data": {
      "image/png": "[encoded data removed]",
      "text/plain": [
       "<Figure size 1000x1000 with 2 Axes>"
      ]
     },
     "metadata": {},
     "output_type": "display_data"
    }
   ],
   "source": [
    "df_corr = df.corr()\n",
    "mask = np.zeros_like(df_corr)\n",
    "mask[np.triu_indices_from(mask)] = True\n",
    "with sns.axes_style(\"white\"):\n",
    "    f, ax = plt.subplots(figsize=(10, 10))\n",
    "    plt.suptitle('Feature correlation matrix', fontsize=15);\n",
    "    ax = sns.heatmap(df_corr, mask=mask, square=True, annot=True, linewidths=3, linecolor='white')"
   ]
  },
  {
   "cell_type": "markdown",
   "metadata": {},
   "source": [
    "As you can see, there is no close relationship of signs. The Pearson correlation coefficient for features does not exceed 0.21. It can be noted that there is a weak relationship between features and the target feature `price`. For example, a direct linear relationship between `registration_year` and `price` (the older the year, i.e. the newer the car, the higher the price), `power` and `price`, a negative linear relationship between mileage and price."
   ]
  },
  {
   "cell_type": "code",
   "execution_count": 55,
   "metadata": {},
   "outputs": [],
   "source": [
    "df = df.reset_index(drop=True)"
   ]
  },
  {
   "cell_type": "markdown",
   "metadata": {},
   "source": [
    "We divide the sample into features and the target feature."
   ]
  },
  {
   "cell_type": "code",
   "execution_count": 56,
   "metadata": {},
   "outputs": [],
   "source": [
    "features = df.drop('price', axis=1)\n",
    "target = df['price']"
   ]
  },
  {
   "cell_type": "markdown",
   "metadata": {},
   "source": [
    "We divide the initial data into training, validation and test sets in the ratio of 60% / 20% / 20%, respectively. We will use the validation sample to analyze the models, and we will check the quality of the best model on the test sample."
   ]
  },
  {
   "cell_type": "code",
   "execution_count": 57,
   "metadata": {},
   "outputs": [],
   "source": [
    "features_train, features_other, target_train, target_other = train_test_split(features, target, test_size=0.4, random_state=12345)\n",
    "features_valid, features_test, target_valid, target_test = train_test_split(features_other, target_other, test_size=0.5, random_state=12345)\n"
   ]
  },
  {
   "cell_type": "code",
   "execution_count": 58,
   "metadata": {},
   "outputs": [
    {
     "data": {
      "text/plain": [
       "((144726, 9), (48242, 9), (48242, 9))"
      ]
     },
     "execution_count": 58,
     "metadata": {},
     "output_type": "execute_result"
    }
   ],
   "source": [
    "features_train.shape, features_valid.shape, features_test.shape"
   ]
  },
  {
   "cell_type": "markdown",
   "metadata": {},
   "source": [
    "Let's encode categorical features with two different techniques, since the data will be used to train different models:  \n",
    "1) OHE direct coding for linear regression  \n",
    "2) OE order coding for decision tree, random forest, LightGBM  \n",
    "3) categorical data without coding for CatBoost  \n",
    "<a name=\"example\"></a>"
   ]
  },
  {
   "cell_type": "code",
   "execution_count": 59,
   "metadata": {},
   "outputs": [],
   "source": [
    "# direct coding technique OHE for linear regression\n",
    "features_ohe = pd.get_dummies(features, drop_first=True)\n",
    "features_train_ohe = features_ohe.loc[features_train.index, :]\n",
    "features_valid_ohe = features_ohe.loc[features_valid.index, :]\n",
    "features_test_ohe = features_ohe.loc[features_test.index, :]\n",
    "\n",
    "\n",
    "# OE order coding technique for decision tree, random forest and LightGBM.\n",
    "encoder = OrdinalEncoder()\n",
    "categorial_features = features[cat_features]\n",
    "categorial_features = pd.DataFrame(encoder.fit_transform(categorial_features),\n",
    "                                   columns=categorial_features.columns, \n",
    "                                   index=categorial_features.index)\n",
    "features_oe = features.copy()\n",
    "for column in cat_features:\n",
    "    features_oe[column] = categorial_features[column]\n",
    "    \n",
    "features_train_oe = features_oe.loc[features_train.index, :]\n",
    "features_valid_oe = features_oe.loc[features_valid.index, :]\n",
    "features_test_oe = features_oe.loc[features_test.index, :]"
   ]
  },
  {
   "cell_type": "code",
   "execution_count": 60,
   "metadata": {},
   "outputs": [
    {
     "data": {
      "text/plain": [
       "((144726, 301), (48242, 301), (48242, 301))"
      ]
     },
     "execution_count": 60,
     "metadata": {},
     "output_type": "execute_result"
    }
   ],
   "source": [
    "features_train_ohe.shape, features_valid_ohe.shape, features_test_ohe.shape"
   ]
  },
  {
   "cell_type": "code",
   "execution_count": 61,
   "metadata": {},
   "outputs": [
    {
     "data": {
      "text/html": [
       "<div>\n",
       "<style scoped>\n",
       "    .dataframe tbody tr th:only-of-type {\n",
       "        vertical-align: middle;\n",
       "    }\n",
       "\n",
       "    .dataframe tbody tr th {\n",
       "        vertical-align: top;\n",
       "    }\n",
       "\n",
       "    .dataframe thead th {\n",
       "        text-align: right;\n",
       "    }\n",
       "</style>\n",
       "<table border=\"1\" class=\"dataframe\">\n",
       "  <thead>\n",
       "    <tr style=\"text-align: right;\">\n",
       "      <th></th>\n",
       "      <th>vehicle_type</th>\n",
       "      <th>registration_year</th>\n",
       "      <th>gearbox</th>\n",
       "      <th>power</th>\n",
       "      <th>model</th>\n",
       "      <th>kilometer</th>\n",
       "      <th>fuel_type</th>\n",
       "      <th>brand</th>\n",
       "      <th>repaired</th>\n",
       "    </tr>\n",
       "  </thead>\n",
       "  <tbody>\n",
       "    <tr>\n",
       "      <th>113709</th>\n",
       "      <td>5.0</td>\n",
       "      <td>2004</td>\n",
       "      <td>1.0</td>\n",
       "      <td>85</td>\n",
       "      <td>122.0</td>\n",
       "      <td>125000</td>\n",
       "      <td>2.0</td>\n",
       "      <td>11.0</td>\n",
       "      <td>0.0</td>\n",
       "    </tr>\n",
       "    <tr>\n",
       "      <th>116200</th>\n",
       "      <td>5.0</td>\n",
       "      <td>2004</td>\n",
       "      <td>1.0</td>\n",
       "      <td>75</td>\n",
       "      <td>119.0</td>\n",
       "      <td>150000</td>\n",
       "      <td>2.0</td>\n",
       "      <td>30.0</td>\n",
       "      <td>0.0</td>\n",
       "    </tr>\n",
       "    <tr>\n",
       "      <th>105648</th>\n",
       "      <td>4.0</td>\n",
       "      <td>1994</td>\n",
       "      <td>0.0</td>\n",
       "      <td>286</td>\n",
       "      <td>19.0</td>\n",
       "      <td>150000</td>\n",
       "      <td>4.0</td>\n",
       "      <td>2.0</td>\n",
       "      <td>0.0</td>\n",
       "    </tr>\n",
       "    <tr>\n",
       "      <th>114019</th>\n",
       "      <td>4.0</td>\n",
       "      <td>2003</td>\n",
       "      <td>0.0</td>\n",
       "      <td>145</td>\n",
       "      <td>153.0</td>\n",
       "      <td>125000</td>\n",
       "      <td>2.0</td>\n",
       "      <td>10.0</td>\n",
       "      <td>0.0</td>\n",
       "    </tr>\n",
       "    <tr>\n",
       "      <th>21904</th>\n",
       "      <td>7.0</td>\n",
       "      <td>2000</td>\n",
       "      <td>1.0</td>\n",
       "      <td>204</td>\n",
       "      <td>95.0</td>\n",
       "      <td>150000</td>\n",
       "      <td>2.0</td>\n",
       "      <td>20.0</td>\n",
       "      <td>1.0</td>\n",
       "    </tr>\n",
       "  </tbody>\n",
       "</table>\n",
       "</div>"
      ],
      "text/plain": [
       "        vehicle_type  registration_year  gearbox  power  model  kilometer  \\\n",
       "113709           5.0               2004      1.0     85  122.0     125000   \n",
       "116200           5.0               2004      1.0     75  119.0     150000   \n",
       "105648           4.0               1994      0.0    286   19.0     150000   \n",
       "114019           4.0               2003      0.0    145  153.0     125000   \n",
       "21904            7.0               2000      1.0    204   95.0     150000   \n",
       "\n",
       "        fuel_type  brand  repaired  \n",
       "113709        2.0   11.0       0.0  \n",
       "116200        2.0   30.0       0.0  \n",
       "105648        4.0    2.0       0.0  \n",
       "114019        2.0   10.0       0.0  \n",
       "21904         2.0   20.0       1.0  "
      ]
     },
     "execution_count": 61,
     "metadata": {},
     "output_type": "execute_result"
    }
   ],
   "source": [
    "features_train_oe.head()"
   ]
  },
  {
   "cell_type": "markdown",
   "metadata": {},
   "source": [
    "## Model training"
   ]
  },
  {
   "cell_type": "markdown",
   "metadata": {},
   "source": [
    "Let's choose the following models for comparison:\n",
    "\n",
    "1) Linear Regression\n",
    "2) DecisionTreeRegressor\n",
    "3) RandomForestRegressor\n",
    "4) CatBoostRegressor\n",
    "5) LGBMRegressor"
   ]
  },
  {
   "cell_type": "markdown",
   "metadata": {},
   "source": [
    "We will fix the training time, the prediction time and the quality of the models with the RMSE metric."
   ]
  },
  {
   "cell_type": "markdown",
   "metadata": {},
   "source": [
    "### LinearRegression "
   ]
  },
  {
   "cell_type": "markdown",
   "metadata": {},
   "source": [
    "We bring the numerical features to the same scale, train the model and get the quality metric on the validation set."
   ]
  },
  {
   "cell_type": "code",
   "execution_count": 62,
   "metadata": {},
   "outputs": [],
   "source": [
    "numeric = ['registration_year', 'power', 'kilometer']\n",
    "scaler = StandardScaler()\n",
    "scaler.fit(features_train_ohe[numeric])\n",
    "features_train_ohe[numeric] = scaler.transform(features_train_ohe[numeric])\n",
    "features_valid_ohe[numeric] = scaler.transform(features_valid_ohe[numeric])\n",
    "features_test_ohe[numeric] = scaler.transform(features_test_ohe[numeric])"
   ]
  },
  {
   "cell_type": "code",
   "execution_count": 63,
   "metadata": {},
   "outputs": [
    {
     "name": "stdout",
     "output_type": "stream",
     "text": [
      "CPU times: total: 7.47 s\n",
      "Wall time: 4.82 s\n"
     ]
    },
    {
     "data": {
      "text/html": [
       "<style>#sk-container-id-1 {color: black;background-color: white;}#sk-container-id-1 pre{padding: 0;}#sk-container-id-1 div.sk-toggleable {background-color: white;}#sk-container-id-1 label.sk-toggleable__label {cursor: pointer;display: block;width: 100%;margin-bottom: 0;padding: 0.3em;box-sizing: border-box;text-align: center;}#sk-container-id-1 label.sk-toggleable__label-arrow:before {content: \"▸\";float: left;margin-right: 0.25em;color: #696969;}#sk-container-id-1 label.sk-toggleable__label-arrow:hover:before {color: black;}#sk-container-id-1 div.sk-estimator:hover label.sk-toggleable__label-arrow:before {color: black;}#sk-container-id-1 div.sk-toggleable__content {max-height: 0;max-width: 0;overflow: hidden;text-align: left;background-color: #f0f8ff;}#sk-container-id-1 div.sk-toggleable__content pre {margin: 0.2em;color: black;border-radius: 0.25em;background-color: #f0f8ff;}#sk-container-id-1 input.sk-toggleable__control:checked~div.sk-toggleable__content {max-height: 200px;max-width: 100%;overflow: auto;}#sk-container-id-1 input.sk-toggleable__control:checked~label.sk-toggleable__label-arrow:before {content: \"▾\";}#sk-container-id-1 div.sk-estimator input.sk-toggleable__control:checked~label.sk-toggleable__label {background-color: #d4ebff;}#sk-container-id-1 div.sk-label input.sk-toggleable__control:checked~label.sk-toggleable__label {background-color: #d4ebff;}#sk-container-id-1 input.sk-hidden--visually {border: 0;clip: rect(1px 1px 1px 1px);clip: rect(1px, 1px, 1px, 1px);height: 1px;margin: -1px;overflow: hidden;padding: 0;position: absolute;width: 1px;}#sk-container-id-1 div.sk-estimator {font-family: monospace;background-color: #f0f8ff;border: 1px dotted black;border-radius: 0.25em;box-sizing: border-box;margin-bottom: 0.5em;}#sk-container-id-1 div.sk-estimator:hover {background-color: #d4ebff;}#sk-container-id-1 div.sk-parallel-item::after {content: \"\";width: 100%;border-bottom: 1px solid gray;flex-grow: 1;}#sk-container-id-1 div.sk-label:hover label.sk-toggleable__label {background-color: #d4ebff;}#sk-container-id-1 div.sk-serial::before {content: \"\";position: absolute;border-left: 1px solid gray;box-sizing: border-box;top: 0;bottom: 0;left: 50%;z-index: 0;}#sk-container-id-1 div.sk-serial {display: flex;flex-direction: column;align-items: center;background-color: white;padding-right: 0.2em;padding-left: 0.2em;position: relative;}#sk-container-id-1 div.sk-item {position: relative;z-index: 1;}#sk-container-id-1 div.sk-parallel {display: flex;align-items: stretch;justify-content: center;background-color: white;position: relative;}#sk-container-id-1 div.sk-item::before, #sk-container-id-1 div.sk-parallel-item::before {content: \"\";position: absolute;border-left: 1px solid gray;box-sizing: border-box;top: 0;bottom: 0;left: 50%;z-index: -1;}#sk-container-id-1 div.sk-parallel-item {display: flex;flex-direction: column;z-index: 1;position: relative;background-color: white;}#sk-container-id-1 div.sk-parallel-item:first-child::after {align-self: flex-end;width: 50%;}#sk-container-id-1 div.sk-parallel-item:last-child::after {align-self: flex-start;width: 50%;}#sk-container-id-1 div.sk-parallel-item:only-child::after {width: 0;}#sk-container-id-1 div.sk-dashed-wrapped {border: 1px dashed gray;margin: 0 0.4em 0.5em 0.4em;box-sizing: border-box;padding-bottom: 0.4em;background-color: white;}#sk-container-id-1 div.sk-label label {font-family: monospace;font-weight: bold;display: inline-block;line-height: 1.2em;}#sk-container-id-1 div.sk-label-container {text-align: center;}#sk-container-id-1 div.sk-container {/* jupyter's `normalize.less` sets `[hidden] { display: none; }` but bootstrap.min.css set `[hidden] { display: none !important; }` so we also need the `!important` here to be able to override the default hidden behavior on the sphinx rendered scikit-learn.org. See: https://github.com/scikit-learn/scikit-learn/issues/21755 */display: inline-block !important;position: relative;}#sk-container-id-1 div.sk-text-repr-fallback {display: none;}</style><div id=\"sk-container-id-1\" class=\"sk-top-container\"><div class=\"sk-text-repr-fallback\"><pre>LinearRegression()</pre><b>In a Jupyter environment, please rerun this cell to show the HTML representation or trust the notebook. <br />On GitHub, the HTML representation is unable to render, please try loading this page with nbviewer.org.</b></div><div class=\"sk-container\" hidden><div class=\"sk-item\"><div class=\"sk-estimator sk-toggleable\"><input class=\"sk-toggleable__control sk-hidden--visually\" id=\"sk-estimator-id-1\" type=\"checkbox\" checked><label for=\"sk-estimator-id-1\" class=\"sk-toggleable__label sk-toggleable__label-arrow\">LinearRegression</label><div class=\"sk-toggleable__content\"><pre>LinearRegression()</pre></div></div></div></div></div>"
      ],
      "text/plain": [
       "LinearRegression()"
      ]
     },
     "execution_count": 63,
     "metadata": {},
     "output_type": "execute_result"
    }
   ],
   "source": [
    "%%time\n",
    "\n",
    "model = LinearRegression()\n",
    "model.fit(features_train_ohe, target_train)"
   ]
  },
  {
   "cell_type": "code",
   "execution_count": 64,
   "metadata": {},
   "outputs": [
    {
     "data": {
      "text/plain": [
       "(48242, 301)"
      ]
     },
     "execution_count": 64,
     "metadata": {},
     "output_type": "execute_result"
    }
   ],
   "source": [
    "features_valid_ohe.shape"
   ]
  },
  {
   "cell_type": "code",
   "execution_count": 65,
   "metadata": {
    "scrolled": false
   },
   "outputs": [
    {
     "name": "stdout",
     "output_type": "stream",
     "text": [
      "RMSE of linear regression model on the validation set: 1581.1182551040408\n",
      "CPU times: total: 125 ms\n",
      "Wall time: 99.6 ms\n"
     ]
    }
   ],
   "source": [
    "%%time\n",
    "\n",
    "predict_LR = model.predict(features_valid_ohe)\n",
    "rmse_LR = mean_squared_error(target_valid, predict_LR) ** 0.5\n",
    "print(f'RMSE of linear regression model on the validation set: {rmse_LR}')"
   ]
  },
  {
   "cell_type": "markdown",
   "metadata": {},
   "source": [
    "### DecisionTreeRegressor "
   ]
  },
  {
   "cell_type": "markdown",
   "metadata": {},
   "source": [
    "Let's select the `max_depth` hyperparameter for the DecisionTreeRegressor model."
   ]
  },
  {
   "cell_type": "code",
   "execution_count": 66,
   "metadata": {},
   "outputs": [
    {
     "name": "stdout",
     "output_type": "stream",
     "text": [
      "RMSE of the best model on the validation set: 1146.8093495853225\n",
      "max_depth: 15\n",
      "CPU times: total: 3.64 s\n",
      "Wall time: 3.82 s\n"
     ]
    }
   ],
   "source": [
    "%%time\n",
    "\n",
    "best_result = 10000\n",
    "best_max_depth = 0\n",
    "for max_depth in range(2, 21):\n",
    "    model = DecisionTreeRegressor(random_state=12345, max_depth=max_depth)\n",
    "    model.fit(features_train_oe, target_train)\n",
    "    predictions_valid = model.predict(features_valid_oe)\n",
    "    result = mean_squared_error(target_valid, predictions_valid) ** 0.5\n",
    "    if result < best_result:\n",
    "        best_max_depth = max_depth\n",
    "        best_result = result\n",
    "print(f'RMSE of the best model on the validation set: {best_result}')\n",
    "print(f'max_depth: {best_max_depth}')"
   ]
  },
  {
   "cell_type": "markdown",
   "metadata": {},
   "source": [
    "Let's measure the training and prediction time."
   ]
  },
  {
   "cell_type": "code",
   "execution_count": 67,
   "metadata": {},
   "outputs": [
    {
     "name": "stdout",
     "output_type": "stream",
     "text": [
      "CPU times: total: 188 ms\n",
      "Wall time: 244 ms\n"
     ]
    },
    {
     "data": {
      "text/html": [
       "<style>#sk-container-id-2 {color: black;background-color: white;}#sk-container-id-2 pre{padding: 0;}#sk-container-id-2 div.sk-toggleable {background-color: white;}#sk-container-id-2 label.sk-toggleable__label {cursor: pointer;display: block;width: 100%;margin-bottom: 0;padding: 0.3em;box-sizing: border-box;text-align: center;}#sk-container-id-2 label.sk-toggleable__label-arrow:before {content: \"▸\";float: left;margin-right: 0.25em;color: #696969;}#sk-container-id-2 label.sk-toggleable__label-arrow:hover:before {color: black;}#sk-container-id-2 div.sk-estimator:hover label.sk-toggleable__label-arrow:before {color: black;}#sk-container-id-2 div.sk-toggleable__content {max-height: 0;max-width: 0;overflow: hidden;text-align: left;background-color: #f0f8ff;}#sk-container-id-2 div.sk-toggleable__content pre {margin: 0.2em;color: black;border-radius: 0.25em;background-color: #f0f8ff;}#sk-container-id-2 input.sk-toggleable__control:checked~div.sk-toggleable__content {max-height: 200px;max-width: 100%;overflow: auto;}#sk-container-id-2 input.sk-toggleable__control:checked~label.sk-toggleable__label-arrow:before {content: \"▾\";}#sk-container-id-2 div.sk-estimator input.sk-toggleable__control:checked~label.sk-toggleable__label {background-color: #d4ebff;}#sk-container-id-2 div.sk-label input.sk-toggleable__control:checked~label.sk-toggleable__label {background-color: #d4ebff;}#sk-container-id-2 input.sk-hidden--visually {border: 0;clip: rect(1px 1px 1px 1px);clip: rect(1px, 1px, 1px, 1px);height: 1px;margin: -1px;overflow: hidden;padding: 0;position: absolute;width: 1px;}#sk-container-id-2 div.sk-estimator {font-family: monospace;background-color: #f0f8ff;border: 1px dotted black;border-radius: 0.25em;box-sizing: border-box;margin-bottom: 0.5em;}#sk-container-id-2 div.sk-estimator:hover {background-color: #d4ebff;}#sk-container-id-2 div.sk-parallel-item::after {content: \"\";width: 100%;border-bottom: 1px solid gray;flex-grow: 1;}#sk-container-id-2 div.sk-label:hover label.sk-toggleable__label {background-color: #d4ebff;}#sk-container-id-2 div.sk-serial::before {content: \"\";position: absolute;border-left: 1px solid gray;box-sizing: border-box;top: 0;bottom: 0;left: 50%;z-index: 0;}#sk-container-id-2 div.sk-serial {display: flex;flex-direction: column;align-items: center;background-color: white;padding-right: 0.2em;padding-left: 0.2em;position: relative;}#sk-container-id-2 div.sk-item {position: relative;z-index: 1;}#sk-container-id-2 div.sk-parallel {display: flex;align-items: stretch;justify-content: center;background-color: white;position: relative;}#sk-container-id-2 div.sk-item::before, #sk-container-id-2 div.sk-parallel-item::before {content: \"\";position: absolute;border-left: 1px solid gray;box-sizing: border-box;top: 0;bottom: 0;left: 50%;z-index: -1;}#sk-container-id-2 div.sk-parallel-item {display: flex;flex-direction: column;z-index: 1;position: relative;background-color: white;}#sk-container-id-2 div.sk-parallel-item:first-child::after {align-self: flex-end;width: 50%;}#sk-container-id-2 div.sk-parallel-item:last-child::after {align-self: flex-start;width: 50%;}#sk-container-id-2 div.sk-parallel-item:only-child::after {width: 0;}#sk-container-id-2 div.sk-dashed-wrapped {border: 1px dashed gray;margin: 0 0.4em 0.5em 0.4em;box-sizing: border-box;padding-bottom: 0.4em;background-color: white;}#sk-container-id-2 div.sk-label label {font-family: monospace;font-weight: bold;display: inline-block;line-height: 1.2em;}#sk-container-id-2 div.sk-label-container {text-align: center;}#sk-container-id-2 div.sk-container {/* jupyter's `normalize.less` sets `[hidden] { display: none; }` but bootstrap.min.css set `[hidden] { display: none !important; }` so we also need the `!important` here to be able to override the default hidden behavior on the sphinx rendered scikit-learn.org. See: https://github.com/scikit-learn/scikit-learn/issues/21755 */display: inline-block !important;position: relative;}#sk-container-id-2 div.sk-text-repr-fallback {display: none;}</style><div id=\"sk-container-id-2\" class=\"sk-top-container\"><div class=\"sk-text-repr-fallback\"><pre>DecisionTreeRegressor(max_depth=15, random_state=12345)</pre><b>In a Jupyter environment, please rerun this cell to show the HTML representation or trust the notebook. <br />On GitHub, the HTML representation is unable to render, please try loading this page with nbviewer.org.</b></div><div class=\"sk-container\" hidden><div class=\"sk-item\"><div class=\"sk-estimator sk-toggleable\"><input class=\"sk-toggleable__control sk-hidden--visually\" id=\"sk-estimator-id-2\" type=\"checkbox\" checked><label for=\"sk-estimator-id-2\" class=\"sk-toggleable__label sk-toggleable__label-arrow\">DecisionTreeRegressor</label><div class=\"sk-toggleable__content\"><pre>DecisionTreeRegressor(max_depth=15, random_state=12345)</pre></div></div></div></div></div>"
      ],
      "text/plain": [
       "DecisionTreeRegressor(max_depth=15, random_state=12345)"
      ]
     },
     "execution_count": 67,
     "metadata": {},
     "output_type": "execute_result"
    }
   ],
   "source": [
    "%%time\n",
    "\n",
    "model = DecisionTreeRegressor(random_state=12345, max_depth=best_max_depth)\n",
    "model.fit(features_train_oe, target_train)"
   ]
  },
  {
   "cell_type": "code",
   "execution_count": 68,
   "metadata": {
    "scrolled": false
   },
   "outputs": [
    {
     "name": "stdout",
     "output_type": "stream",
     "text": [
      "RMSE of the best decision tree model on the validation Set: 1146.8093495853225\n",
      "CPU times: total: 0 ns\n",
      "Wall time: 18 ms\n"
     ]
    }
   ],
   "source": [
    "%%time\n",
    "\n",
    "predict_DT = model.predict(features_valid_oe)\n",
    "rmse_DT = mean_squared_error(target_valid, predict_DT) ** 0.5\n",
    "print(f'RMSE of the best decision tree model on the validation Set: {rmse_DT}')"
   ]
  },
  {
   "cell_type": "markdown",
   "metadata": {},
   "source": [
    "### RandomForestRegressor"
   ]
  },
  {
   "cell_type": "markdown",
   "metadata": {},
   "source": [
    "Let's select the `max_depth` and `n_estimators` hyperparameters for the RandomForestRegressor model."
   ]
  },
  {
   "cell_type": "code",
   "execution_count": 69,
   "metadata": {},
   "outputs": [
    {
     "name": "stdout",
     "output_type": "stream",
     "text": [
      "RMSE of the best model on the validation set: 1026.9766657128966\n",
      "n_estimators: 50\n",
      "max_depth: 18\n",
      "CPU times: total: 5min 44s\n",
      "Wall time: 6min 14s\n"
     ]
    }
   ],
   "source": [
    "%%time\n",
    "\n",
    "best_result = 10000\n",
    "best_max_depth = 0\n",
    "best_n_estimators = 0\n",
    "for est in range(10, 51, 10):\n",
    "    for max_depth in range(2, 21):\n",
    "        model = RandomForestRegressor(random_state=12345, max_depth=max_depth, n_estimators=est)\n",
    "        model.fit(features_train_oe, target_train)\n",
    "        predictions_valid = model.predict(features_valid_oe)\n",
    "        result = mean_squared_error(target_valid, predictions_valid) ** 0.5\n",
    "        if result < best_result:\n",
    "            best_max_depth = max_depth\n",
    "            best_n_estimators = est\n",
    "            best_result = result\n",
    "print(f'RMSE of the best model on the validation set: {best_result}')\n",
    "print(f'n_estimators: {best_n_estimators}')\n",
    "print(f'max_depth: {best_max_depth}')"
   ]
  },
  {
   "cell_type": "markdown",
   "metadata": {},
   "source": [
    "Let's measure the training and prediction time."
   ]
  },
  {
   "cell_type": "code",
   "execution_count": 70,
   "metadata": {
    "scrolled": true
   },
   "outputs": [
    {
     "name": "stdout",
     "output_type": "stream",
     "text": [
      "CPU times: total: 8.52 s\n",
      "Wall time: 8.83 s\n"
     ]
    },
    {
     "data": {
      "text/html": [
       "<style>#sk-container-id-3 {color: black;background-color: white;}#sk-container-id-3 pre{padding: 0;}#sk-container-id-3 div.sk-toggleable {background-color: white;}#sk-container-id-3 label.sk-toggleable__label {cursor: pointer;display: block;width: 100%;margin-bottom: 0;padding: 0.3em;box-sizing: border-box;text-align: center;}#sk-container-id-3 label.sk-toggleable__label-arrow:before {content: \"▸\";float: left;margin-right: 0.25em;color: #696969;}#sk-container-id-3 label.sk-toggleable__label-arrow:hover:before {color: black;}#sk-container-id-3 div.sk-estimator:hover label.sk-toggleable__label-arrow:before {color: black;}#sk-container-id-3 div.sk-toggleable__content {max-height: 0;max-width: 0;overflow: hidden;text-align: left;background-color: #f0f8ff;}#sk-container-id-3 div.sk-toggleable__content pre {margin: 0.2em;color: black;border-radius: 0.25em;background-color: #f0f8ff;}#sk-container-id-3 input.sk-toggleable__control:checked~div.sk-toggleable__content {max-height: 200px;max-width: 100%;overflow: auto;}#sk-container-id-3 input.sk-toggleable__control:checked~label.sk-toggleable__label-arrow:before {content: \"▾\";}#sk-container-id-3 div.sk-estimator input.sk-toggleable__control:checked~label.sk-toggleable__label {background-color: #d4ebff;}#sk-container-id-3 div.sk-label input.sk-toggleable__control:checked~label.sk-toggleable__label {background-color: #d4ebff;}#sk-container-id-3 input.sk-hidden--visually {border: 0;clip: rect(1px 1px 1px 1px);clip: rect(1px, 1px, 1px, 1px);height: 1px;margin: -1px;overflow: hidden;padding: 0;position: absolute;width: 1px;}#sk-container-id-3 div.sk-estimator {font-family: monospace;background-color: #f0f8ff;border: 1px dotted black;border-radius: 0.25em;box-sizing: border-box;margin-bottom: 0.5em;}#sk-container-id-3 div.sk-estimator:hover {background-color: #d4ebff;}#sk-container-id-3 div.sk-parallel-item::after {content: \"\";width: 100%;border-bottom: 1px solid gray;flex-grow: 1;}#sk-container-id-3 div.sk-label:hover label.sk-toggleable__label {background-color: #d4ebff;}#sk-container-id-3 div.sk-serial::before {content: \"\";position: absolute;border-left: 1px solid gray;box-sizing: border-box;top: 0;bottom: 0;left: 50%;z-index: 0;}#sk-container-id-3 div.sk-serial {display: flex;flex-direction: column;align-items: center;background-color: white;padding-right: 0.2em;padding-left: 0.2em;position: relative;}#sk-container-id-3 div.sk-item {position: relative;z-index: 1;}#sk-container-id-3 div.sk-parallel {display: flex;align-items: stretch;justify-content: center;background-color: white;position: relative;}#sk-container-id-3 div.sk-item::before, #sk-container-id-3 div.sk-parallel-item::before {content: \"\";position: absolute;border-left: 1px solid gray;box-sizing: border-box;top: 0;bottom: 0;left: 50%;z-index: -1;}#sk-container-id-3 div.sk-parallel-item {display: flex;flex-direction: column;z-index: 1;position: relative;background-color: white;}#sk-container-id-3 div.sk-parallel-item:first-child::after {align-self: flex-end;width: 50%;}#sk-container-id-3 div.sk-parallel-item:last-child::after {align-self: flex-start;width: 50%;}#sk-container-id-3 div.sk-parallel-item:only-child::after {width: 0;}#sk-container-id-3 div.sk-dashed-wrapped {border: 1px dashed gray;margin: 0 0.4em 0.5em 0.4em;box-sizing: border-box;padding-bottom: 0.4em;background-color: white;}#sk-container-id-3 div.sk-label label {font-family: monospace;font-weight: bold;display: inline-block;line-height: 1.2em;}#sk-container-id-3 div.sk-label-container {text-align: center;}#sk-container-id-3 div.sk-container {/* jupyter's `normalize.less` sets `[hidden] { display: none; }` but bootstrap.min.css set `[hidden] { display: none !important; }` so we also need the `!important` here to be able to override the default hidden behavior on the sphinx rendered scikit-learn.org. See: https://github.com/scikit-learn/scikit-learn/issues/21755 */display: inline-block !important;position: relative;}#sk-container-id-3 div.sk-text-repr-fallback {display: none;}</style><div id=\"sk-container-id-3\" class=\"sk-top-container\"><div class=\"sk-text-repr-fallback\"><pre>RandomForestRegressor(max_depth=18, n_estimators=50, random_state=12345)</pre><b>In a Jupyter environment, please rerun this cell to show the HTML representation or trust the notebook. <br />On GitHub, the HTML representation is unable to render, please try loading this page with nbviewer.org.</b></div><div class=\"sk-container\" hidden><div class=\"sk-item\"><div class=\"sk-estimator sk-toggleable\"><input class=\"sk-toggleable__control sk-hidden--visually\" id=\"sk-estimator-id-3\" type=\"checkbox\" checked><label for=\"sk-estimator-id-3\" class=\"sk-toggleable__label sk-toggleable__label-arrow\">RandomForestRegressor</label><div class=\"sk-toggleable__content\"><pre>RandomForestRegressor(max_depth=18, n_estimators=50, random_state=12345)</pre></div></div></div></div></div>"
      ],
      "text/plain": [
       "RandomForestRegressor(max_depth=18, n_estimators=50, random_state=12345)"
      ]
     },
     "execution_count": 70,
     "metadata": {},
     "output_type": "execute_result"
    }
   ],
   "source": [
    "%%time\n",
    "\n",
    "model = RandomForestRegressor(random_state=12345, max_depth=best_max_depth, n_estimators=best_n_estimators)\n",
    "model.fit(features_train_oe, target_train)"
   ]
  },
  {
   "cell_type": "code",
   "execution_count": 71,
   "metadata": {},
   "outputs": [
    {
     "name": "stdout",
     "output_type": "stream",
     "text": [
      "RMSE of the best random forest model on the validation set: 1026.9766657128966\n",
      "CPU times: total: 297 ms\n",
      "Wall time: 381 ms\n"
     ]
    }
   ],
   "source": [
    "%%time\n",
    "\n",
    "predict_RF = model.predict(features_valid_oe)\n",
    "rmse_RF = mean_squared_error(target_valid, predict_RF) ** 0.5\n",
    "print(f'RMSE of the best random forest model on the validation set: {rmse_RF}')"
   ]
  },
  {
   "cell_type": "markdown",
   "metadata": {},
   "source": [
    "### CatBoostRegressor"
   ]
  },
  {
   "cell_type": "markdown",
   "metadata": {},
   "source": [
    "Let's select the `learning_rate` and `depth` hyperparameters for the CatBoostRegressor model."
   ]
  },
  {
   "cell_type": "code",
   "execution_count": 72,
   "metadata": {},
   "outputs": [
    {
     "name": "stdout",
     "output_type": "stream",
     "text": [
      "RMSE of the best model on the validation set: 1071.315485190527\n",
      "learning_rate: 0.5000000000000001\n",
      "CPU times: total: 53.3 s\n",
      "Wall time: 1min 19s\n"
     ]
    }
   ],
   "source": [
    "%%time\n",
    "\n",
    "best_result = 10000\n",
    "best_learning_rate = 0\n",
    "for learning_rate in np.arange(0.1, 0.6, 0.2):\n",
    "    model = CatBoostRegressor(loss_function='RMSE', random_state=12345, depth=2, learning_rate=learning_rate)\n",
    "    model.fit(features_train, target_train, cat_features=cat_features, verbose=False)\n",
    "    predictions_valid = model.predict(features_valid)\n",
    "    result = mean_squared_error(target_valid, predictions_valid) ** 0.5\n",
    "    if result < best_result:\n",
    "        best_learning_rate = learning_rate\n",
    "        best_result = result\n",
    "print(f'RMSE of the best model on the validation set: {best_result}')\n",
    "print(f'learning_rate: {best_learning_rate}')"
   ]
  },
  {
   "cell_type": "code",
   "execution_count": 73,
   "metadata": {},
   "outputs": [
    {
     "name": "stdout",
     "output_type": "stream",
     "text": [
      "RMSE of the best model on the validation set: 1013.5656705692915\n",
      "depth: 7\n",
      "CPU times: total: 17min 17s\n",
      "Wall time: 15min 34s\n"
     ]
    }
   ],
   "source": [
    "%%time\n",
    "\n",
    "best_result = 10000\n",
    "best_depth = 0\n",
    "for depth in range(5, 11):\n",
    "    model = CatBoostRegressor(loss_function='RMSE', random_state=12345, depth=depth, learning_rate=best_learning_rate)\n",
    "    model.fit(features_train, target_train, cat_features=cat_features, verbose=False)\n",
    "    predictions_valid = model.predict(features_valid)\n",
    "    result = mean_squared_error(target_valid, predictions_valid) ** 0.5\n",
    "    if result < best_result:\n",
    "        best_depth = depth\n",
    "        best_result = result\n",
    "print(f'RMSE of the best model on the validation set: {best_result}')\n",
    "print(f'depth: {best_depth}')"
   ]
  },
  {
   "cell_type": "markdown",
   "metadata": {},
   "source": [
    "Let's measure the training and prediction time of the model with the best hyperparameters."
   ]
  },
  {
   "cell_type": "code",
   "execution_count": 74,
   "metadata": {},
   "outputs": [
    {
     "name": "stdout",
     "output_type": "stream",
     "text": [
      "CPU times: total: 2min 38s\n",
      "Wall time: 2min 14s\n"
     ]
    },
    {
     "data": {
      "text/plain": [
       "<catboost.core.CatBoostRegressor at 0x2550d540a00>"
      ]
     },
     "execution_count": 74,
     "metadata": {},
     "output_type": "execute_result"
    }
   ],
   "source": [
    "%%time\n",
    "\n",
    "model = CatBoostRegressor(loss_function='RMSE', random_state=12345, depth=best_depth, learning_rate=best_learning_rate)\n",
    "model.fit(features_train, target_train, cat_features=cat_features, verbose=False)"
   ]
  },
  {
   "cell_type": "code",
   "execution_count": 75,
   "metadata": {},
   "outputs": [
    {
     "name": "stdout",
     "output_type": "stream",
     "text": [
      "RMSE of the CatBoost model on the validation set: 1013.5656705692915\n",
      "CPU times: total: 969 ms\n",
      "Wall time: 271 ms\n"
     ]
    }
   ],
   "source": [
    "%%time\n",
    "\n",
    "predict_CB = model.predict(features_valid)\n",
    "rmse_CB = mean_squared_error(target_valid, predict_CB) ** 0.5\n",
    "print(f'RMSE of the CatBoost model on the validation set: {rmse_CB}')"
   ]
  },
  {
   "cell_type": "markdown",
   "metadata": {},
   "source": [
    "Let's look at the quality of the model on the training set to see if the model has overfitted."
   ]
  },
  {
   "cell_type": "code",
   "execution_count": 76,
   "metadata": {},
   "outputs": [
    {
     "name": "stdout",
     "output_type": "stream",
     "text": [
      "RMSE of the CatBoost model on the training set: 918.2931330764194\n",
      "CPU times: total: 2.28 s\n",
      "Wall time: 681 ms\n"
     ]
    }
   ],
   "source": [
    "%%time\n",
    "\n",
    "predict_CB_train = model.predict(features_train)\n",
    "rmse_CB_train = mean_squared_error(target_train, predict_CB_train) ** 0.5\n",
    "print(f'RMSE of the CatBoost model on the training set: {rmse_CB_train}')"
   ]
  },
  {
   "cell_type": "markdown",
   "metadata": {},
   "source": [
    "### LGBMRegressor"
   ]
  },
  {
   "cell_type": "markdown",
   "metadata": {},
   "source": [
    "Let's select the `learning_rate` and `max_depth` hyperparameters for the LGBMRegressor model."
   ]
  },
  {
   "cell_type": "code",
   "execution_count": 77,
   "metadata": {
    "scrolled": false
   },
   "outputs": [
    {
     "name": "stdout",
     "output_type": "stream",
     "text": [
      "RMSE of the best model on the validation set: 1046.7193023247362\n",
      "learning_rate: 0.5\n",
      "max_depth: 5\n",
      "CPU times: total: 7.38 s\n",
      "Wall time: 1.47 s\n"
     ]
    }
   ],
   "source": [
    "%%time\n",
    "\n",
    "best_result = 10000\n",
    "best_max_depth = 0\n",
    "best_learning_rate = 0\n",
    "for learning_rate in [0.1, 0.5]:\n",
    "    for depth in [2, 5]:\n",
    "        model = LGBMRegressor(random_state=12345, max_depth=depth, learning_rate=learning_rate)\n",
    "        model.fit(features_train_oe, target_train)\n",
    "        predictions_valid = model.predict(features_valid_oe)\n",
    "        result = mean_squared_error(target_valid, predictions_valid) ** 0.5\n",
    "        if result < best_result:\n",
    "            best_max_depth = depth\n",
    "            best_learning_rate = learning_rate\n",
    "            best_result = result\n",
    "print(f'RMSE of the best model on the validation set: {best_result}')\n",
    "print(f'learning_rate: {best_learning_rate}')\n",
    "print(f'max_depth: {best_max_depth}')"
   ]
  },
  {
   "cell_type": "markdown",
   "metadata": {},
   "source": [
    "Let's measure the training and prediction time."
   ]
  },
  {
   "cell_type": "code",
   "execution_count": 78,
   "metadata": {},
   "outputs": [
    {
     "name": "stdout",
     "output_type": "stream",
     "text": [
      "CPU times: total: 1.72 s\n",
      "Wall time: 303 ms\n"
     ]
    },
    {
     "data": {
      "text/html": [
       "<style>#sk-container-id-4 {color: black;background-color: white;}#sk-container-id-4 pre{padding: 0;}#sk-container-id-4 div.sk-toggleable {background-color: white;}#sk-container-id-4 label.sk-toggleable__label {cursor: pointer;display: block;width: 100%;margin-bottom: 0;padding: 0.3em;box-sizing: border-box;text-align: center;}#sk-container-id-4 label.sk-toggleable__label-arrow:before {content: \"▸\";float: left;margin-right: 0.25em;color: #696969;}#sk-container-id-4 label.sk-toggleable__label-arrow:hover:before {color: black;}#sk-container-id-4 div.sk-estimator:hover label.sk-toggleable__label-arrow:before {color: black;}#sk-container-id-4 div.sk-toggleable__content {max-height: 0;max-width: 0;overflow: hidden;text-align: left;background-color: #f0f8ff;}#sk-container-id-4 div.sk-toggleable__content pre {margin: 0.2em;color: black;border-radius: 0.25em;background-color: #f0f8ff;}#sk-container-id-4 input.sk-toggleable__control:checked~div.sk-toggleable__content {max-height: 200px;max-width: 100%;overflow: auto;}#sk-container-id-4 input.sk-toggleable__control:checked~label.sk-toggleable__label-arrow:before {content: \"▾\";}#sk-container-id-4 div.sk-estimator input.sk-toggleable__control:checked~label.sk-toggleable__label {background-color: #d4ebff;}#sk-container-id-4 div.sk-label input.sk-toggleable__control:checked~label.sk-toggleable__label {background-color: #d4ebff;}#sk-container-id-4 input.sk-hidden--visually {border: 0;clip: rect(1px 1px 1px 1px);clip: rect(1px, 1px, 1px, 1px);height: 1px;margin: -1px;overflow: hidden;padding: 0;position: absolute;width: 1px;}#sk-container-id-4 div.sk-estimator {font-family: monospace;background-color: #f0f8ff;border: 1px dotted black;border-radius: 0.25em;box-sizing: border-box;margin-bottom: 0.5em;}#sk-container-id-4 div.sk-estimator:hover {background-color: #d4ebff;}#sk-container-id-4 div.sk-parallel-item::after {content: \"\";width: 100%;border-bottom: 1px solid gray;flex-grow: 1;}#sk-container-id-4 div.sk-label:hover label.sk-toggleable__label {background-color: #d4ebff;}#sk-container-id-4 div.sk-serial::before {content: \"\";position: absolute;border-left: 1px solid gray;box-sizing: border-box;top: 0;bottom: 0;left: 50%;z-index: 0;}#sk-container-id-4 div.sk-serial {display: flex;flex-direction: column;align-items: center;background-color: white;padding-right: 0.2em;padding-left: 0.2em;position: relative;}#sk-container-id-4 div.sk-item {position: relative;z-index: 1;}#sk-container-id-4 div.sk-parallel {display: flex;align-items: stretch;justify-content: center;background-color: white;position: relative;}#sk-container-id-4 div.sk-item::before, #sk-container-id-4 div.sk-parallel-item::before {content: \"\";position: absolute;border-left: 1px solid gray;box-sizing: border-box;top: 0;bottom: 0;left: 50%;z-index: -1;}#sk-container-id-4 div.sk-parallel-item {display: flex;flex-direction: column;z-index: 1;position: relative;background-color: white;}#sk-container-id-4 div.sk-parallel-item:first-child::after {align-self: flex-end;width: 50%;}#sk-container-id-4 div.sk-parallel-item:last-child::after {align-self: flex-start;width: 50%;}#sk-container-id-4 div.sk-parallel-item:only-child::after {width: 0;}#sk-container-id-4 div.sk-dashed-wrapped {border: 1px dashed gray;margin: 0 0.4em 0.5em 0.4em;box-sizing: border-box;padding-bottom: 0.4em;background-color: white;}#sk-container-id-4 div.sk-label label {font-family: monospace;font-weight: bold;display: inline-block;line-height: 1.2em;}#sk-container-id-4 div.sk-label-container {text-align: center;}#sk-container-id-4 div.sk-container {/* jupyter's `normalize.less` sets `[hidden] { display: none; }` but bootstrap.min.css set `[hidden] { display: none !important; }` so we also need the `!important` here to be able to override the default hidden behavior on the sphinx rendered scikit-learn.org. See: https://github.com/scikit-learn/scikit-learn/issues/21755 */display: inline-block !important;position: relative;}#sk-container-id-4 div.sk-text-repr-fallback {display: none;}</style><div id=\"sk-container-id-4\" class=\"sk-top-container\"><div class=\"sk-text-repr-fallback\"><pre>LGBMRegressor(learning_rate=0.5, max_depth=5, random_state=12345)</pre><b>In a Jupyter environment, please rerun this cell to show the HTML representation or trust the notebook. <br />On GitHub, the HTML representation is unable to render, please try loading this page with nbviewer.org.</b></div><div class=\"sk-container\" hidden><div class=\"sk-item\"><div class=\"sk-estimator sk-toggleable\"><input class=\"sk-toggleable__control sk-hidden--visually\" id=\"sk-estimator-id-4\" type=\"checkbox\" checked><label for=\"sk-estimator-id-4\" class=\"sk-toggleable__label sk-toggleable__label-arrow\">LGBMRegressor</label><div class=\"sk-toggleable__content\"><pre>LGBMRegressor(learning_rate=0.5, max_depth=5, random_state=12345)</pre></div></div></div></div></div>"
      ],
      "text/plain": [
       "LGBMRegressor(learning_rate=0.5, max_depth=5, random_state=12345)"
      ]
     },
     "execution_count": 78,
     "metadata": {},
     "output_type": "execute_result"
    }
   ],
   "source": [
    "%%time\n",
    "\n",
    "model = LGBMRegressor(random_state=12345, max_depth=best_max_depth, learning_rate=best_learning_rate)\n",
    "model.fit(features_train_oe, target_train)"
   ]
  },
  {
   "cell_type": "code",
   "execution_count": 79,
   "metadata": {},
   "outputs": [
    {
     "name": "stdout",
     "output_type": "stream",
     "text": [
      "RMSE of the LGBMRegressor model on the validation set: 1046.7193023247362\n",
      "CPU times: total: 344 ms\n",
      "Wall time: 63.7 ms\n"
     ]
    }
   ],
   "source": [
    "%%time\n",
    "\n",
    "predict_LGBMR = model.predict(features_valid_oe)\n",
    "rmse_LGBMR  = mean_squared_error(target_valid, predict_LGBMR) ** 0.5\n",
    "print(f'RMSE of the LGBMRegressor model on the validation set: {rmse_LGBMR}')"
   ]
  },
  {
   "cell_type": "markdown",
   "metadata": {},
   "source": [
    "Let's look at the quality of the model on the training set to see if the model has overfitted."
   ]
  },
  {
   "cell_type": "code",
   "execution_count": 80,
   "metadata": {},
   "outputs": [
    {
     "name": "stdout",
     "output_type": "stream",
     "text": [
      "RMSE of the LGBMRegressor model on the training set: 1001.9430304383449\n",
      "CPU times: total: 1.27 s\n",
      "Wall time: 189 ms\n"
     ]
    }
   ],
   "source": [
    "%%time\n",
    "\n",
    "predict_LGBMR_train = model.predict(features_train_oe)\n",
    "rmse_LGBMR_train = mean_squared_error(target_train, predict_LGBMR_train) ** 0.5\n",
    "print(f'RMSE of the LGBMRegressor model on the training set: {rmse_LGBMR_train}')"
   ]
  },
  {
   "cell_type": "markdown",
   "metadata": {},
   "source": [
    "## Model analysis"
   ]
  },
  {
   "cell_type": "markdown",
   "metadata": {},
   "source": [
    "Let's summarize the results of training time, prediction and model quality in a table. The quality of prediction, prediction speed and training time are equally important for the customer. Let's give each of these parameters a rating from 1 to 5, where 5 is the best indicator, and 1 is the worst, and find the overall rating as the sum of the ratings of the three indicators."
   ]
  },
  {
   "cell_type": "code",
   "execution_count": 84,
   "metadata": {},
   "outputs": [
    {
     "data": {
      "text/html": [
       "<div>\n",
       "<style scoped>\n",
       "    .dataframe tbody tr th:only-of-type {\n",
       "        vertical-align: middle;\n",
       "    }\n",
       "\n",
       "    .dataframe tbody tr th {\n",
       "        vertical-align: top;\n",
       "    }\n",
       "\n",
       "    .dataframe thead th {\n",
       "        text-align: right;\n",
       "    }\n",
       "</style>\n",
       "<table border=\"1\" class=\"dataframe\">\n",
       "  <thead>\n",
       "    <tr style=\"text-align: right;\">\n",
       "      <th></th>\n",
       "      <th>RMSE_on_validation_set</th>\n",
       "      <th>Fit_time(s)</th>\n",
       "      <th>Predict_time(s)</th>\n",
       "      <th>RMSE_on_validation_set_rating</th>\n",
       "      <th>Fit_time(s)_rating</th>\n",
       "      <th>Predict_time(s)_rating</th>\n",
       "      <th>Final_rating</th>\n",
       "    </tr>\n",
       "  </thead>\n",
       "  <tbody>\n",
       "    <tr>\n",
       "      <th>DecisionTreeRegressor</th>\n",
       "      <td>1146.809350</td>\n",
       "      <td>0.244</td>\n",
       "      <td>0.018</td>\n",
       "      <td>2</td>\n",
       "      <td>5</td>\n",
       "      <td>5</td>\n",
       "      <td>12</td>\n",
       "    </tr>\n",
       "    <tr>\n",
       "      <th>LGBMRegressor</th>\n",
       "      <td>1046.719302</td>\n",
       "      <td>0.303</td>\n",
       "      <td>0.063</td>\n",
       "      <td>3</td>\n",
       "      <td>4</td>\n",
       "      <td>4</td>\n",
       "      <td>11</td>\n",
       "    </tr>\n",
       "    <tr>\n",
       "      <th>CatBoostRegressor</th>\n",
       "      <td>1013.565671</td>\n",
       "      <td>134.000</td>\n",
       "      <td>0.271</td>\n",
       "      <td>5</td>\n",
       "      <td>1</td>\n",
       "      <td>3</td>\n",
       "      <td>9</td>\n",
       "    </tr>\n",
       "    <tr>\n",
       "      <th>RandomForestRegressor</th>\n",
       "      <td>1026.976666</td>\n",
       "      <td>8.830</td>\n",
       "      <td>0.381</td>\n",
       "      <td>4</td>\n",
       "      <td>2</td>\n",
       "      <td>2</td>\n",
       "      <td>8</td>\n",
       "    </tr>\n",
       "    <tr>\n",
       "      <th>LinearRegression</th>\n",
       "      <td>1581.118255</td>\n",
       "      <td>4.820</td>\n",
       "      <td>0.996</td>\n",
       "      <td>1</td>\n",
       "      <td>3</td>\n",
       "      <td>1</td>\n",
       "      <td>5</td>\n",
       "    </tr>\n",
       "  </tbody>\n",
       "</table>\n",
       "</div>"
      ],
      "text/plain": [
       "                       RMSE_on_validation_set  Fit_time(s)  Predict_time(s)  \\\n",
       "DecisionTreeRegressor             1146.809350        0.244            0.018   \n",
       "LGBMRegressor                     1046.719302        0.303            0.063   \n",
       "CatBoostRegressor                 1013.565671      134.000            0.271   \n",
       "RandomForestRegressor             1026.976666        8.830            0.381   \n",
       "LinearRegression                  1581.118255        4.820            0.996   \n",
       "\n",
       "                       RMSE_on_validation_set_rating  Fit_time(s)_rating  \\\n",
       "DecisionTreeRegressor                              2                   5   \n",
       "LGBMRegressor                                      3                   4   \n",
       "CatBoostRegressor                                  5                   1   \n",
       "RandomForestRegressor                              4                   2   \n",
       "LinearRegression                                   1                   3   \n",
       "\n",
       "                       Predict_time(s)_rating  Final_rating  \n",
       "DecisionTreeRegressor                       5            12  \n",
       "LGBMRegressor                               4            11  \n",
       "CatBoostRegressor                           3             9  \n",
       "RandomForestRegressor                       2             8  \n",
       "LinearRegression                            1             5  "
      ]
     },
     "execution_count": 84,
     "metadata": {},
     "output_type": "execute_result"
    }
   ],
   "source": [
    "index = ['LinearRegression',\n",
    "         'DecisionTreeRegressor',\n",
    "         'RandomForestRegressor',\n",
    "         'CatBoostRegressor',\n",
    "         'LGBMRegressor']\n",
    "data = {'RMSE_on_validation_set':[rmse_LR,\n",
    "                                  rmse_DT,\n",
    "                                  rmse_RF,\n",
    "                                  rmse_CB,\n",
    "                                  rmse_LGBMR],\n",
    "        'Fit_time(s)':[4.82,\n",
    "                       0.244,\n",
    "                       8.83,\n",
    "                       134,\n",
    "                       0.303],\n",
    "        'Predict_time(s)':[0.996,\n",
    "                           0.018,\n",
    "                           0.381,\n",
    "                           0.271,\n",
    "                           0.063]\n",
    "       }\n",
    "\n",
    "scores_data = pd.DataFrame(data=data, index=index)\n",
    "\n",
    "def set_rating(df, column):\n",
    "    df = df.sort_values(by=column, ascending=False)\n",
    "    name = column + '_rating'\n",
    "    df[name] = [1, 2, 3, 4, 5]\n",
    "    return df\n",
    "\n",
    "scores_data = set_rating(scores_data, 'RMSE_on_validation_set')\n",
    "scores_data = set_rating(scores_data, 'Fit_time(s)')\n",
    "scores_data = set_rating(scores_data, 'Predict_time(s)')\n",
    "scores_data['Final_rating'] = (scores_data['RMSE_on_validation_set_rating'] +\n",
    "                               scores_data['Fit_time(s)_rating'] +\n",
    "                               scores_data['Predict_time(s)_rating']).round(2)\n",
    "scores_data = scores_data.sort_values(by='Final_rating', ascending=False)\n",
    "\n",
    "scores_data"
   ]
  },
  {
   "cell_type": "markdown",
   "metadata": {},
   "source": [
    "Based on the criteria of the customer, the best model is the decision tree model (DecisionTreeRegressor). It is a leader in learning and prediction speed, and is not significantly inferior in quality to gradient boosting models.\n",
    "Let's check the quality of the best model on a test sample."
   ]
  },
  {
   "cell_type": "code",
   "execution_count": 82,
   "metadata": {
    "scrolled": true
   },
   "outputs": [
    {
     "name": "stdout",
     "output_type": "stream",
     "text": [
      "CPU times: total: 281 ms\n",
      "Wall time: 522 ms\n"
     ]
    },
    {
     "data": {
      "text/html": [
       "<style>#sk-container-id-5 {color: black;background-color: white;}#sk-container-id-5 pre{padding: 0;}#sk-container-id-5 div.sk-toggleable {background-color: white;}#sk-container-id-5 label.sk-toggleable__label {cursor: pointer;display: block;width: 100%;margin-bottom: 0;padding: 0.3em;box-sizing: border-box;text-align: center;}#sk-container-id-5 label.sk-toggleable__label-arrow:before {content: \"▸\";float: left;margin-right: 0.25em;color: #696969;}#sk-container-id-5 label.sk-toggleable__label-arrow:hover:before {color: black;}#sk-container-id-5 div.sk-estimator:hover label.sk-toggleable__label-arrow:before {color: black;}#sk-container-id-5 div.sk-toggleable__content {max-height: 0;max-width: 0;overflow: hidden;text-align: left;background-color: #f0f8ff;}#sk-container-id-5 div.sk-toggleable__content pre {margin: 0.2em;color: black;border-radius: 0.25em;background-color: #f0f8ff;}#sk-container-id-5 input.sk-toggleable__control:checked~div.sk-toggleable__content {max-height: 200px;max-width: 100%;overflow: auto;}#sk-container-id-5 input.sk-toggleable__control:checked~label.sk-toggleable__label-arrow:before {content: \"▾\";}#sk-container-id-5 div.sk-estimator input.sk-toggleable__control:checked~label.sk-toggleable__label {background-color: #d4ebff;}#sk-container-id-5 div.sk-label input.sk-toggleable__control:checked~label.sk-toggleable__label {background-color: #d4ebff;}#sk-container-id-5 input.sk-hidden--visually {border: 0;clip: rect(1px 1px 1px 1px);clip: rect(1px, 1px, 1px, 1px);height: 1px;margin: -1px;overflow: hidden;padding: 0;position: absolute;width: 1px;}#sk-container-id-5 div.sk-estimator {font-family: monospace;background-color: #f0f8ff;border: 1px dotted black;border-radius: 0.25em;box-sizing: border-box;margin-bottom: 0.5em;}#sk-container-id-5 div.sk-estimator:hover {background-color: #d4ebff;}#sk-container-id-5 div.sk-parallel-item::after {content: \"\";width: 100%;border-bottom: 1px solid gray;flex-grow: 1;}#sk-container-id-5 div.sk-label:hover label.sk-toggleable__label {background-color: #d4ebff;}#sk-container-id-5 div.sk-serial::before {content: \"\";position: absolute;border-left: 1px solid gray;box-sizing: border-box;top: 0;bottom: 0;left: 50%;z-index: 0;}#sk-container-id-5 div.sk-serial {display: flex;flex-direction: column;align-items: center;background-color: white;padding-right: 0.2em;padding-left: 0.2em;position: relative;}#sk-container-id-5 div.sk-item {position: relative;z-index: 1;}#sk-container-id-5 div.sk-parallel {display: flex;align-items: stretch;justify-content: center;background-color: white;position: relative;}#sk-container-id-5 div.sk-item::before, #sk-container-id-5 div.sk-parallel-item::before {content: \"\";position: absolute;border-left: 1px solid gray;box-sizing: border-box;top: 0;bottom: 0;left: 50%;z-index: -1;}#sk-container-id-5 div.sk-parallel-item {display: flex;flex-direction: column;z-index: 1;position: relative;background-color: white;}#sk-container-id-5 div.sk-parallel-item:first-child::after {align-self: flex-end;width: 50%;}#sk-container-id-5 div.sk-parallel-item:last-child::after {align-self: flex-start;width: 50%;}#sk-container-id-5 div.sk-parallel-item:only-child::after {width: 0;}#sk-container-id-5 div.sk-dashed-wrapped {border: 1px dashed gray;margin: 0 0.4em 0.5em 0.4em;box-sizing: border-box;padding-bottom: 0.4em;background-color: white;}#sk-container-id-5 div.sk-label label {font-family: monospace;font-weight: bold;display: inline-block;line-height: 1.2em;}#sk-container-id-5 div.sk-label-container {text-align: center;}#sk-container-id-5 div.sk-container {/* jupyter's `normalize.less` sets `[hidden] { display: none; }` but bootstrap.min.css set `[hidden] { display: none !important; }` so we also need the `!important` here to be able to override the default hidden behavior on the sphinx rendered scikit-learn.org. See: https://github.com/scikit-learn/scikit-learn/issues/21755 */display: inline-block !important;position: relative;}#sk-container-id-5 div.sk-text-repr-fallback {display: none;}</style><div id=\"sk-container-id-5\" class=\"sk-top-container\"><div class=\"sk-text-repr-fallback\"><pre>DecisionTreeRegressor(max_depth=15, random_state=12345)</pre><b>In a Jupyter environment, please rerun this cell to show the HTML representation or trust the notebook. <br />On GitHub, the HTML representation is unable to render, please try loading this page with nbviewer.org.</b></div><div class=\"sk-container\" hidden><div class=\"sk-item\"><div class=\"sk-estimator sk-toggleable\"><input class=\"sk-toggleable__control sk-hidden--visually\" id=\"sk-estimator-id-5\" type=\"checkbox\" checked><label for=\"sk-estimator-id-5\" class=\"sk-toggleable__label sk-toggleable__label-arrow\">DecisionTreeRegressor</label><div class=\"sk-toggleable__content\"><pre>DecisionTreeRegressor(max_depth=15, random_state=12345)</pre></div></div></div></div></div>"
      ],
      "text/plain": [
       "DecisionTreeRegressor(max_depth=15, random_state=12345)"
      ]
     },
     "execution_count": 82,
     "metadata": {},
     "output_type": "execute_result"
    }
   ],
   "source": [
    "%%time\n",
    "\n",
    "model = DecisionTreeRegressor(random_state=12345, max_depth=15)\n",
    "model.fit(features_train_oe, target_train)"
   ]
  },
  {
   "cell_type": "code",
   "execution_count": 83,
   "metadata": {},
   "outputs": [
    {
     "name": "stdout",
     "output_type": "stream",
     "text": [
      "RMSE decision tree model on test set: 1152.2956029347688\n",
      "CPU times: total: 0 ns\n",
      "Wall time: 38.1 ms\n"
     ]
    }
   ],
   "source": [
    "%%time\n",
    "\n",
    "predict_DT_test = model.predict(features_test_oe)\n",
    "rmse_DT_test = mean_squared_error(target_test, predict_DT_test) ** 0.5\n",
    "print(f'RMSE decision tree model on test set: {rmse_DT_test}')"
   ]
  },
  {
   "cell_type": "markdown",
   "metadata": {},
   "source": [
    "## Results of the study and general conclusion"
   ]
  },
  {
   "cell_type": "markdown",
   "metadata": {},
   "source": [
    "In this work, a model was built to determine the market value of a car based on data on the technical characteristics, equipment and prices of other cars.  \n",
    "The following model criteria were important for the customer:  \n",
    "- quality of prediction;  \n",
    "- model training time;  \n",
    "- model prediction time.  \n",
    "\n",
    "We were provided with the original dataset. We conducted a review and pre-preparation of the data, as a result of which the data was:  \n",
    "1) the names of features have been changed to \"snake\" format;  \n",
    "2) the data type of the columns `date_crawled`, `date_created` and `last_seen` was converted from *object* to *datetime* ;  \n",
    "3) filled in the gaps in the `repaired` columns with the most common value `no` ;  \n",
    "4) filled in the gaps in the columns `vehicle_type`, `fuel_type`, `gearbox`, `model` with the most common brand value;  \n",
    "5) 3374 rows with gaps in the `model` column that could not be filled were removed;  \n",
    "6) removed 5 duplicate lines;  \n",
    "7) implicit duplicates in the `fuel_type` column were found and fixed;  \n",
    "8) 112099 objects were deleted as a result of processing abnormal values in the columns `price`, `registration_year`, `power`.\n",
    "\n",
    "Next, we selected 5 models to compare quality by RMSE metric, training time, and model prediction:  \n",
    "\n",
    "1) LinearRegression  \n",
    "2) DecisionTreeRegressor  \n",
    "3) RandomForestRegressor  \n",
    "4) CatBoostRegressor  \n",
    "5) LGBMRegressor\n",
    "\n",
    "Comparative analysis showed that the decision tree model (DecisionTreeRegressor), which is the leader in learning and prediction speed, and slightly inferior in quality to gradient boosting models, satisfies the customer's criteria best of all. The model showed an acceptable quality result on the test sample."
   ]
  }
 ],
 "metadata": {
  "ExecuteTimeLog": [
   {
    "duration": 1422,
    "start_time": "2022-11-06T20:34:39.647Z"
   },
   {
    "duration": 635,
    "start_time": "2022-11-06T20:35:02.390Z"
   },
   {
    "duration": 2383,
    "start_time": "2022-11-06T20:37:31.444Z"
   },
   {
    "duration": 9,
    "start_time": "2022-11-06T20:37:35.735Z"
   },
   {
    "duration": 97,
    "start_time": "2022-11-06T20:38:48.191Z"
   },
   {
    "duration": 2846,
    "start_time": "2022-11-06T20:38:53.999Z"
   },
   {
    "duration": 6,
    "start_time": "2022-11-06T20:41:42.844Z"
   },
   {
    "duration": 11,
    "start_time": "2022-11-06T21:30:53.808Z"
   },
   {
    "duration": 105,
    "start_time": "2022-11-06T21:30:59.599Z"
   },
   {
    "duration": 1749,
    "start_time": "2022-11-06T21:32:00.378Z"
   },
   {
    "duration": 1226,
    "start_time": "2022-11-06T21:32:02.129Z"
   },
   {
    "duration": 693,
    "start_time": "2022-11-06T21:32:03.356Z"
   },
   {
    "duration": 3,
    "start_time": "2022-11-06T21:32:04.051Z"
   },
   {
    "duration": 104,
    "start_time": "2022-11-06T21:32:04.055Z"
   },
   {
    "duration": 5,
    "start_time": "2022-11-06T21:32:04.161Z"
   },
   {
    "duration": 1745,
    "start_time": "2022-11-06T21:38:38.371Z"
   },
   {
    "duration": 1238,
    "start_time": "2022-11-06T21:38:40.117Z"
   },
   {
    "duration": 720,
    "start_time": "2022-11-06T21:38:41.357Z"
   },
   {
    "duration": 3,
    "start_time": "2022-11-06T21:38:42.078Z"
   },
   {
    "duration": 116,
    "start_time": "2022-11-06T21:38:42.083Z"
   },
   {
    "duration": 83,
    "start_time": "2022-11-06T21:38:42.201Z"
   },
   {
    "duration": 6,
    "start_time": "2022-11-06T21:38:42.285Z"
   },
   {
    "duration": 20,
    "start_time": "2022-11-06T22:01:29.889Z"
   },
   {
    "duration": 106,
    "start_time": "2022-11-06T22:03:13.729Z"
   },
   {
    "duration": 553,
    "start_time": "2022-11-06T22:05:04.840Z"
   },
   {
    "duration": 179,
    "start_time": "2022-11-06T22:06:27.224Z"
   },
   {
    "duration": 22,
    "start_time": "2022-11-06T22:07:13.653Z"
   },
   {
    "duration": 14,
    "start_time": "2022-11-06T22:07:38.804Z"
   },
   {
    "duration": 97,
    "start_time": "2022-11-06T22:07:54.316Z"
   },
   {
    "duration": 158,
    "start_time": "2022-11-06T22:08:12.385Z"
   },
   {
    "duration": 180,
    "start_time": "2022-11-06T22:08:28.706Z"
   },
   {
    "duration": 102,
    "start_time": "2022-11-06T22:12:02.877Z"
   },
   {
    "duration": 38,
    "start_time": "2022-11-06T22:12:19.850Z"
   },
   {
    "duration": 40,
    "start_time": "2022-11-06T22:12:23.673Z"
   },
   {
    "duration": 99,
    "start_time": "2022-11-06T22:12:28.716Z"
   },
   {
    "duration": 40,
    "start_time": "2022-11-06T22:12:31.643Z"
   },
   {
    "duration": 35,
    "start_time": "2022-11-06T22:13:04.017Z"
   },
   {
    "duration": 597,
    "start_time": "2022-11-06T22:18:01.803Z"
   },
   {
    "duration": 16,
    "start_time": "2022-11-06T22:18:58.156Z"
   },
   {
    "duration": 763,
    "start_time": "2022-11-06T22:19:39.884Z"
   },
   {
    "duration": 1260,
    "start_time": "2022-11-06T22:23:15.121Z"
   },
   {
    "duration": 3207,
    "start_time": "2022-11-06T22:29:37.456Z"
   },
   {
    "duration": 2882,
    "start_time": "2022-11-06T22:30:15.152Z"
   },
   {
    "duration": 2560,
    "start_time": "2022-11-06T22:31:28.055Z"
   },
   {
    "duration": 1719,
    "start_time": "2022-11-06T22:32:03.137Z"
   },
   {
    "duration": 1220,
    "start_time": "2022-11-06T22:32:04.857Z"
   },
   {
    "duration": 709,
    "start_time": "2022-11-06T22:32:06.078Z"
   },
   {
    "duration": 3,
    "start_time": "2022-11-06T22:32:06.789Z"
   },
   {
    "duration": 138,
    "start_time": "2022-11-06T22:32:06.793Z"
   },
   {
    "duration": 96,
    "start_time": "2022-11-06T22:32:06.933Z"
   },
   {
    "duration": 5,
    "start_time": "2022-11-06T22:32:07.030Z"
   },
   {
    "duration": 258,
    "start_time": "2022-11-06T22:32:07.037Z"
   },
   {
    "duration": 4960,
    "start_time": "2022-11-06T22:32:07.297Z"
   },
   {
    "duration": 5348,
    "start_time": "2022-11-06T22:32:30.297Z"
   },
   {
    "duration": 6213,
    "start_time": "2022-11-06T22:33:35.784Z"
   },
   {
    "duration": 1088,
    "start_time": "2022-11-06T22:38:47.421Z"
   },
   {
    "duration": 16,
    "start_time": "2022-11-06T22:58:46.904Z"
   },
   {
    "duration": 14,
    "start_time": "2022-11-06T22:59:21.140Z"
   },
   {
    "duration": 27,
    "start_time": "2022-11-06T23:01:26.224Z"
   },
   {
    "duration": 25,
    "start_time": "2022-11-06T23:01:44.132Z"
   },
   {
    "duration": 13,
    "start_time": "2022-11-06T23:04:35.576Z"
   },
   {
    "duration": 1725,
    "start_time": "2022-11-06T23:08:29.854Z"
   },
   {
    "duration": 1295,
    "start_time": "2022-11-06T23:08:31.581Z"
   },
   {
    "duration": 690,
    "start_time": "2022-11-06T23:08:32.877Z"
   },
   {
    "duration": 4,
    "start_time": "2022-11-06T23:08:33.568Z"
   },
   {
    "duration": 115,
    "start_time": "2022-11-06T23:08:33.573Z"
   },
   {
    "duration": 85,
    "start_time": "2022-11-06T23:08:33.689Z"
   },
   {
    "duration": 6,
    "start_time": "2022-11-06T23:08:33.775Z"
   },
   {
    "duration": 254,
    "start_time": "2022-11-06T23:08:33.782Z"
   },
   {
    "duration": 1585,
    "start_time": "2022-11-06T23:08:34.037Z"
   },
   {
    "duration": 13,
    "start_time": "2022-11-06T23:08:35.624Z"
   },
   {
    "duration": 80,
    "start_time": "2022-11-06T23:08:35.638Z"
   },
   {
    "duration": 17,
    "start_time": "2022-11-06T23:08:35.720Z"
   },
   {
    "duration": 3,
    "start_time": "2022-11-06T23:08:35.738Z"
   },
   {
    "duration": 19,
    "start_time": "2022-11-06T23:11:14.926Z"
   },
   {
    "duration": 17,
    "start_time": "2022-11-06T23:11:22.925Z"
   },
   {
    "duration": 4,
    "start_time": "2022-11-06T23:13:45.466Z"
   },
   {
    "duration": 108,
    "start_time": "2022-11-06T23:17:24.759Z"
   },
   {
    "duration": 2093,
    "start_time": "2022-11-06T23:18:23.858Z"
   },
   {
    "duration": 2177,
    "start_time": "2022-11-06T23:22:27.265Z"
   },
   {
    "duration": 22,
    "start_time": "2022-11-06T23:24:39.452Z"
   },
   {
    "duration": 220,
    "start_time": "2022-11-06T23:24:45.524Z"
   },
   {
    "duration": 50,
    "start_time": "2022-11-06T23:25:48.360Z"
   },
   {
    "duration": 8,
    "start_time": "2022-11-06T23:26:08.736Z"
   },
   {
    "duration": 24,
    "start_time": "2022-11-06T23:26:14.592Z"
   },
   {
    "duration": 91,
    "start_time": "2022-11-06T23:26:33.778Z"
   },
   {
    "duration": 72,
    "start_time": "2022-11-06T23:36:04.610Z"
   },
   {
    "duration": 104,
    "start_time": "2022-11-06T23:36:21.135Z"
   },
   {
    "duration": 82,
    "start_time": "2022-11-06T23:36:36.881Z"
   },
   {
    "duration": 77,
    "start_time": "2022-11-06T23:37:08.540Z"
   },
   {
    "duration": 82,
    "start_time": "2022-11-06T23:39:15.069Z"
   },
   {
    "duration": 37,
    "start_time": "2022-11-06T23:42:31.524Z"
   },
   {
    "duration": 1371,
    "start_time": "2022-11-06T23:45:12.420Z"
   },
   {
    "duration": 2655,
    "start_time": "2022-11-06T23:46:39.621Z"
   },
   {
    "duration": 1820,
    "start_time": "2022-11-06T23:58:18.499Z"
   },
   {
    "duration": 1258,
    "start_time": "2022-11-06T23:58:20.321Z"
   },
   {
    "duration": 738,
    "start_time": "2022-11-06T23:58:21.581Z"
   },
   {
    "duration": 4,
    "start_time": "2022-11-06T23:58:22.321Z"
   },
   {
    "duration": 117,
    "start_time": "2022-11-06T23:58:22.326Z"
   },
   {
    "duration": 91,
    "start_time": "2022-11-06T23:58:22.444Z"
   },
   {
    "duration": 5,
    "start_time": "2022-11-06T23:58:22.536Z"
   },
   {
    "duration": 260,
    "start_time": "2022-11-06T23:58:22.543Z"
   },
   {
    "duration": 1123,
    "start_time": "2022-11-06T23:58:22.804Z"
   },
   {
    "duration": 14,
    "start_time": "2022-11-06T23:58:23.929Z"
   },
   {
    "duration": 25,
    "start_time": "2022-11-06T23:58:23.944Z"
   },
   {
    "duration": 36,
    "start_time": "2022-11-06T23:58:23.970Z"
   },
   {
    "duration": 155,
    "start_time": "2022-11-06T23:58:24.007Z"
   },
   {
    "duration": 0,
    "start_time": "2022-11-06T23:58:24.163Z"
   },
   {
    "duration": 81,
    "start_time": "2022-11-06T23:58:42.623Z"
   },
   {
    "duration": 11264,
    "start_time": "2022-11-06T23:59:33.103Z"
   },
   {
    "duration": 1021,
    "start_time": "2022-11-07T00:00:36.507Z"
   },
   {
    "duration": 1766,
    "start_time": "2022-11-07T00:02:59.974Z"
   },
   {
    "duration": 1225,
    "start_time": "2022-11-07T00:03:01.742Z"
   },
   {
    "duration": 737,
    "start_time": "2022-11-07T00:03:02.968Z"
   },
   {
    "duration": 4,
    "start_time": "2022-11-07T00:03:03.706Z"
   },
   {
    "duration": 203,
    "start_time": "2022-11-07T00:03:03.711Z"
   },
   {
    "duration": 134,
    "start_time": "2022-11-07T00:03:03.915Z"
   },
   {
    "duration": 56,
    "start_time": "2022-11-07T00:03:04.051Z"
   },
   {
    "duration": 437,
    "start_time": "2022-11-07T00:03:04.109Z"
   },
   {
    "duration": 1483,
    "start_time": "2022-11-07T00:03:04.547Z"
   },
   {
    "duration": 13,
    "start_time": "2022-11-07T00:03:06.032Z"
   },
   {
    "duration": 24,
    "start_time": "2022-11-07T00:03:06.046Z"
   },
   {
    "duration": 38,
    "start_time": "2022-11-07T00:03:06.071Z"
   },
   {
    "duration": 3271,
    "start_time": "2022-11-07T00:03:06.111Z"
   },
   {
    "duration": 1143,
    "start_time": "2022-11-07T00:03:09.384Z"
   },
   {
    "duration": 4,
    "start_time": "2022-11-07T00:03:10.528Z"
   },
   {
    "duration": 1713,
    "start_time": "2022-11-07T00:03:50.136Z"
   },
   {
    "duration": 1211,
    "start_time": "2022-11-07T00:03:51.850Z"
   },
   {
    "duration": 693,
    "start_time": "2022-11-07T00:03:53.063Z"
   },
   {
    "duration": 4,
    "start_time": "2022-11-07T00:03:53.757Z"
   },
   {
    "duration": 112,
    "start_time": "2022-11-07T00:03:53.762Z"
   },
   {
    "duration": 88,
    "start_time": "2022-11-07T00:03:53.875Z"
   },
   {
    "duration": 5,
    "start_time": "2022-11-07T00:03:53.965Z"
   },
   {
    "duration": 251,
    "start_time": "2022-11-07T00:03:53.972Z"
   },
   {
    "duration": 1184,
    "start_time": "2022-11-07T00:03:54.224Z"
   },
   {
    "duration": 14,
    "start_time": "2022-11-07T00:03:55.410Z"
   },
   {
    "duration": 30,
    "start_time": "2022-11-07T00:03:55.425Z"
   },
   {
    "duration": 16,
    "start_time": "2022-11-07T00:03:55.457Z"
   },
   {
    "duration": 11508,
    "start_time": "2022-11-07T00:03:55.475Z"
   },
   {
    "duration": 1019,
    "start_time": "2022-11-07T00:04:06.984Z"
   },
   {
    "duration": 2,
    "start_time": "2022-11-07T00:04:08.005Z"
   },
   {
    "duration": 1913,
    "start_time": "2022-11-07T00:09:44.081Z"
   },
   {
    "duration": 1424,
    "start_time": "2022-11-07T00:09:45.996Z"
   },
   {
    "duration": 739,
    "start_time": "2022-11-07T00:09:47.422Z"
   },
   {
    "duration": 4,
    "start_time": "2022-11-07T00:09:48.162Z"
   },
   {
    "duration": 108,
    "start_time": "2022-11-07T00:09:48.168Z"
   },
   {
    "duration": 119,
    "start_time": "2022-11-07T00:09:48.277Z"
   },
   {
    "duration": 9,
    "start_time": "2022-11-07T00:09:48.398Z"
   },
   {
    "duration": 260,
    "start_time": "2022-11-07T00:09:48.408Z"
   },
   {
    "duration": 1145,
    "start_time": "2022-11-07T00:09:48.670Z"
   },
   {
    "duration": 14,
    "start_time": "2022-11-07T00:09:49.816Z"
   },
   {
    "duration": 32,
    "start_time": "2022-11-07T00:09:49.831Z"
   },
   {
    "duration": 23,
    "start_time": "2022-11-07T00:09:49.864Z"
   },
   {
    "duration": 71,
    "start_time": "2022-11-07T00:09:49.889Z"
   },
   {
    "duration": 0,
    "start_time": "2022-11-07T00:09:49.961Z"
   },
   {
    "duration": 0,
    "start_time": "2022-11-07T00:09:49.962Z"
   },
   {
    "duration": 5137,
    "start_time": "2022-11-07T00:10:27.174Z"
   },
   {
    "duration": 1016,
    "start_time": "2022-11-07T00:12:22.903Z"
   },
   {
    "duration": 12,
    "start_time": "2022-11-07T00:12:35.428Z"
   },
   {
    "duration": 15,
    "start_time": "2022-11-07T00:13:52.903Z"
   },
   {
    "duration": 1708,
    "start_time": "2022-11-07T00:15:39.519Z"
   },
   {
    "duration": 1683,
    "start_time": "2022-11-07T00:15:41.229Z"
   },
   {
    "duration": 959,
    "start_time": "2022-11-07T00:15:42.913Z"
   },
   {
    "duration": 4,
    "start_time": "2022-11-07T00:15:43.873Z"
   },
   {
    "duration": 111,
    "start_time": "2022-11-07T00:15:43.878Z"
   },
   {
    "duration": 82,
    "start_time": "2022-11-07T00:15:43.990Z"
   },
   {
    "duration": 6,
    "start_time": "2022-11-07T00:15:44.073Z"
   },
   {
    "duration": 255,
    "start_time": "2022-11-07T00:15:44.080Z"
   },
   {
    "duration": 1181,
    "start_time": "2022-11-07T00:15:44.336Z"
   },
   {
    "duration": 17,
    "start_time": "2022-11-07T00:15:45.519Z"
   },
   {
    "duration": 71,
    "start_time": "2022-11-07T00:15:45.537Z"
   },
   {
    "duration": 28,
    "start_time": "2022-11-07T00:15:45.610Z"
   },
   {
    "duration": 6106,
    "start_time": "2022-11-07T00:15:45.639Z"
   },
   {
    "duration": 3,
    "start_time": "2022-11-07T00:15:51.747Z"
   },
   {
    "duration": 18,
    "start_time": "2022-11-07T00:15:51.751Z"
   },
   {
    "duration": 5,
    "start_time": "2022-11-07T00:15:51.770Z"
   },
   {
    "duration": 1700,
    "start_time": "2022-11-07T00:19:26.064Z"
   },
   {
    "duration": 1164,
    "start_time": "2022-11-07T00:19:27.766Z"
   },
   {
    "duration": 693,
    "start_time": "2022-11-07T00:19:28.931Z"
   },
   {
    "duration": 4,
    "start_time": "2022-11-07T00:19:29.625Z"
   },
   {
    "duration": 113,
    "start_time": "2022-11-07T00:19:29.631Z"
   },
   {
    "duration": 87,
    "start_time": "2022-11-07T00:19:29.745Z"
   },
   {
    "duration": 6,
    "start_time": "2022-11-07T00:19:29.834Z"
   },
   {
    "duration": 254,
    "start_time": "2022-11-07T00:19:29.842Z"
   },
   {
    "duration": 1030,
    "start_time": "2022-11-07T00:19:30.098Z"
   },
   {
    "duration": 77,
    "start_time": "2022-11-07T00:19:31.130Z"
   },
   {
    "duration": 31,
    "start_time": "2022-11-07T00:19:31.209Z"
   },
   {
    "duration": 31,
    "start_time": "2022-11-07T00:19:31.242Z"
   },
   {
    "duration": 5869,
    "start_time": "2022-11-07T00:19:31.274Z"
   },
   {
    "duration": 1060,
    "start_time": "2022-11-07T00:19:37.145Z"
   },
   {
    "duration": 13,
    "start_time": "2022-11-07T00:19:38.206Z"
   },
   {
    "duration": 34,
    "start_time": "2022-11-07T00:19:38.221Z"
   },
   {
    "duration": 1695,
    "start_time": "2022-11-07T00:23:33.272Z"
   },
   {
    "duration": 1204,
    "start_time": "2022-11-07T00:23:34.969Z"
   },
   {
    "duration": 706,
    "start_time": "2022-11-07T00:23:36.175Z"
   },
   {
    "duration": 4,
    "start_time": "2022-11-07T00:23:36.884Z"
   },
   {
    "duration": 119,
    "start_time": "2022-11-07T00:23:36.889Z"
   },
   {
    "duration": 93,
    "start_time": "2022-11-07T00:23:37.010Z"
   },
   {
    "duration": 6,
    "start_time": "2022-11-07T00:23:37.105Z"
   },
   {
    "duration": 252,
    "start_time": "2022-11-07T00:23:37.112Z"
   },
   {
    "duration": 967,
    "start_time": "2022-11-07T00:23:37.366Z"
   },
   {
    "duration": 14,
    "start_time": "2022-11-07T00:23:38.403Z"
   },
   {
    "duration": 25,
    "start_time": "2022-11-07T00:23:38.418Z"
   },
   {
    "duration": 17,
    "start_time": "2022-11-07T00:23:38.444Z"
   },
   {
    "duration": 10935,
    "start_time": "2022-11-07T00:23:38.462Z"
   },
   {
    "duration": 1019,
    "start_time": "2022-11-07T00:23:49.398Z"
   },
   {
    "duration": 12,
    "start_time": "2022-11-07T00:23:50.418Z"
   },
   {
    "duration": 8,
    "start_time": "2022-11-07T00:23:50.432Z"
   },
   {
    "duration": 1698,
    "start_time": "2022-11-07T00:24:55.082Z"
   },
   {
    "duration": 1244,
    "start_time": "2022-11-07T00:24:56.782Z"
   },
   {
    "duration": 695,
    "start_time": "2022-11-07T00:24:58.027Z"
   },
   {
    "duration": 4,
    "start_time": "2022-11-07T00:24:58.723Z"
   },
   {
    "duration": 111,
    "start_time": "2022-11-07T00:24:58.728Z"
   },
   {
    "duration": 92,
    "start_time": "2022-11-07T00:24:58.840Z"
   },
   {
    "duration": 6,
    "start_time": "2022-11-07T00:24:58.933Z"
   },
   {
    "duration": 245,
    "start_time": "2022-11-07T00:24:58.940Z"
   },
   {
    "duration": 1042,
    "start_time": "2022-11-07T00:24:59.187Z"
   },
   {
    "duration": 13,
    "start_time": "2022-11-07T00:25:00.230Z"
   },
   {
    "duration": 27,
    "start_time": "2022-11-07T00:25:00.244Z"
   },
   {
    "duration": 31,
    "start_time": "2022-11-07T00:25:00.272Z"
   },
   {
    "duration": 5854,
    "start_time": "2022-11-07T00:25:00.304Z"
   },
   {
    "duration": 1043,
    "start_time": "2022-11-07T00:25:06.160Z"
   },
   {
    "duration": 12,
    "start_time": "2022-11-07T00:25:07.205Z"
   },
   {
    "duration": 3,
    "start_time": "2022-11-07T00:25:07.219Z"
   },
   {
    "duration": 1714,
    "start_time": "2022-11-07T00:26:35.767Z"
   },
   {
    "duration": 1729,
    "start_time": "2022-11-07T00:26:37.483Z"
   },
   {
    "duration": 903,
    "start_time": "2022-11-07T00:26:39.213Z"
   },
   {
    "duration": 3,
    "start_time": "2022-11-07T00:26:40.118Z"
   },
   {
    "duration": 103,
    "start_time": "2022-11-07T00:26:40.122Z"
   },
   {
    "duration": 87,
    "start_time": "2022-11-07T00:26:40.227Z"
   },
   {
    "duration": 6,
    "start_time": "2022-11-07T00:26:40.315Z"
   },
   {
    "duration": 247,
    "start_time": "2022-11-07T00:26:40.322Z"
   },
   {
    "duration": 1054,
    "start_time": "2022-11-07T00:26:40.570Z"
   },
   {
    "duration": 77,
    "start_time": "2022-11-07T00:26:41.627Z"
   },
   {
    "duration": 12,
    "start_time": "2022-11-07T00:26:41.705Z"
   },
   {
    "duration": 30,
    "start_time": "2022-11-07T00:26:41.719Z"
   },
   {
    "duration": 18,
    "start_time": "2022-11-07T00:26:41.750Z"
   },
   {
    "duration": 5550,
    "start_time": "2022-11-07T00:26:41.769Z"
   },
   {
    "duration": 1087,
    "start_time": "2022-11-07T00:26:47.321Z"
   },
   {
    "duration": 13,
    "start_time": "2022-11-07T00:26:48.409Z"
   },
   {
    "duration": 15,
    "start_time": "2022-11-07T00:26:48.424Z"
   },
   {
    "duration": 1701,
    "start_time": "2022-11-07T00:28:37.437Z"
   },
   {
    "duration": 1770,
    "start_time": "2022-11-07T00:28:39.140Z"
   },
   {
    "duration": 689,
    "start_time": "2022-11-07T00:28:40.911Z"
   },
   {
    "duration": 3,
    "start_time": "2022-11-07T00:28:41.602Z"
   },
   {
    "duration": 105,
    "start_time": "2022-11-07T00:28:41.606Z"
   },
   {
    "duration": 80,
    "start_time": "2022-11-07T00:28:41.713Z"
   },
   {
    "duration": 6,
    "start_time": "2022-11-07T00:28:41.803Z"
   },
   {
    "duration": 257,
    "start_time": "2022-11-07T00:28:41.810Z"
   },
   {
    "duration": 1064,
    "start_time": "2022-11-07T00:28:42.069Z"
   },
   {
    "duration": 172,
    "start_time": "2022-11-07T00:28:43.135Z"
   },
   {
    "duration": 13,
    "start_time": "2022-11-07T00:28:43.308Z"
   },
   {
    "duration": 25,
    "start_time": "2022-11-07T00:28:43.322Z"
   },
   {
    "duration": 19,
    "start_time": "2022-11-07T00:28:43.348Z"
   },
   {
    "duration": 5177,
    "start_time": "2022-11-07T00:28:43.368Z"
   },
   {
    "duration": 982,
    "start_time": "2022-11-07T00:28:48.546Z"
   },
   {
    "duration": 80,
    "start_time": "2022-11-07T00:28:49.530Z"
   },
   {
    "duration": 3,
    "start_time": "2022-11-07T00:28:49.612Z"
   },
   {
    "duration": 3502,
    "start_time": "2022-11-07T00:32:33.919Z"
   },
   {
    "duration": 1711,
    "start_time": "2022-11-07T00:33:00.281Z"
   },
   {
    "duration": 1842,
    "start_time": "2022-11-07T00:33:01.994Z"
   },
   {
    "duration": 725,
    "start_time": "2022-11-07T00:33:03.837Z"
   },
   {
    "duration": 4,
    "start_time": "2022-11-07T00:33:04.563Z"
   },
   {
    "duration": 108,
    "start_time": "2022-11-07T00:33:04.568Z"
   },
   {
    "duration": 87,
    "start_time": "2022-11-07T00:33:04.678Z"
   },
   {
    "duration": 5,
    "start_time": "2022-11-07T00:33:04.767Z"
   },
   {
    "duration": 251,
    "start_time": "2022-11-07T00:33:04.774Z"
   },
   {
    "duration": 999,
    "start_time": "2022-11-07T00:33:05.027Z"
   },
   {
    "duration": 3556,
    "start_time": "2022-11-07T00:33:06.028Z"
   },
   {
    "duration": 19,
    "start_time": "2022-11-07T00:33:09.585Z"
   },
   {
    "duration": 24,
    "start_time": "2022-11-07T00:33:09.605Z"
   },
   {
    "duration": 18,
    "start_time": "2022-11-07T00:33:09.631Z"
   },
   {
    "duration": 5352,
    "start_time": "2022-11-07T00:33:09.651Z"
   },
   {
    "duration": 1101,
    "start_time": "2022-11-07T00:33:15.005Z"
   },
   {
    "duration": 12,
    "start_time": "2022-11-07T00:33:16.108Z"
   },
   {
    "duration": 8,
    "start_time": "2022-11-07T00:33:16.122Z"
   },
   {
    "duration": 1708,
    "start_time": "2022-11-07T00:43:05.954Z"
   },
   {
    "duration": 1208,
    "start_time": "2022-11-07T00:43:07.664Z"
   },
   {
    "duration": 960,
    "start_time": "2022-11-07T00:43:08.873Z"
   },
   {
    "duration": 3,
    "start_time": "2022-11-07T00:43:09.834Z"
   },
   {
    "duration": 202,
    "start_time": "2022-11-07T00:43:09.839Z"
   },
   {
    "duration": 184,
    "start_time": "2022-11-07T00:43:10.042Z"
   },
   {
    "duration": 6,
    "start_time": "2022-11-07T00:43:10.227Z"
   },
   {
    "duration": 488,
    "start_time": "2022-11-07T00:43:10.234Z"
   },
   {
    "duration": 1180,
    "start_time": "2022-11-07T00:43:10.725Z"
   },
   {
    "duration": 14,
    "start_time": "2022-11-07T00:43:11.906Z"
   },
   {
    "duration": 26,
    "start_time": "2022-11-07T00:43:11.921Z"
   },
   {
    "duration": 20,
    "start_time": "2022-11-07T00:43:11.948Z"
   },
   {
    "duration": 138,
    "start_time": "2022-11-07T00:43:11.969Z"
   },
   {
    "duration": 0,
    "start_time": "2022-11-07T00:43:12.109Z"
   },
   {
    "duration": 0,
    "start_time": "2022-11-07T00:43:12.110Z"
   },
   {
    "duration": 0,
    "start_time": "2022-11-07T00:43:12.111Z"
   },
   {
    "duration": 0,
    "start_time": "2022-11-07T00:43:12.112Z"
   },
   {
    "duration": 1717,
    "start_time": "2022-11-07T00:43:56.617Z"
   },
   {
    "duration": 1406,
    "start_time": "2022-11-07T00:43:58.336Z"
   },
   {
    "duration": 1294,
    "start_time": "2022-11-07T00:43:59.743Z"
   },
   {
    "duration": 3,
    "start_time": "2022-11-07T00:44:01.039Z"
   },
   {
    "duration": 123,
    "start_time": "2022-11-07T00:44:01.044Z"
   },
   {
    "duration": 82,
    "start_time": "2022-11-07T00:44:01.168Z"
   },
   {
    "duration": 6,
    "start_time": "2022-11-07T00:44:01.251Z"
   },
   {
    "duration": 248,
    "start_time": "2022-11-07T00:44:01.258Z"
   },
   {
    "duration": 1016,
    "start_time": "2022-11-07T00:44:01.508Z"
   },
   {
    "duration": 13,
    "start_time": "2022-11-07T00:44:02.526Z"
   },
   {
    "duration": 39,
    "start_time": "2022-11-07T00:44:02.540Z"
   },
   {
    "duration": 25,
    "start_time": "2022-11-07T00:44:02.581Z"
   },
   {
    "duration": 116,
    "start_time": "2022-11-07T00:44:02.607Z"
   },
   {
    "duration": 0,
    "start_time": "2022-11-07T00:44:02.724Z"
   },
   {
    "duration": 0,
    "start_time": "2022-11-07T00:44:02.725Z"
   },
   {
    "duration": 0,
    "start_time": "2022-11-07T00:44:02.726Z"
   },
   {
    "duration": 0,
    "start_time": "2022-11-07T00:44:02.727Z"
   },
   {
    "duration": 1681,
    "start_time": "2022-11-07T00:45:20.372Z"
   },
   {
    "duration": 1554,
    "start_time": "2022-11-07T00:45:22.055Z"
   },
   {
    "duration": 949,
    "start_time": "2022-11-07T00:45:23.610Z"
   },
   {
    "duration": 3,
    "start_time": "2022-11-07T00:45:24.560Z"
   },
   {
    "duration": 109,
    "start_time": "2022-11-07T00:45:24.564Z"
   },
   {
    "duration": 89,
    "start_time": "2022-11-07T00:45:24.674Z"
   },
   {
    "duration": 5,
    "start_time": "2022-11-07T00:45:24.764Z"
   },
   {
    "duration": 249,
    "start_time": "2022-11-07T00:45:24.771Z"
   },
   {
    "duration": 1008,
    "start_time": "2022-11-07T00:45:25.021Z"
   },
   {
    "duration": 13,
    "start_time": "2022-11-07T00:45:26.030Z"
   },
   {
    "duration": 26,
    "start_time": "2022-11-07T00:45:26.045Z"
   },
   {
    "duration": 33,
    "start_time": "2022-11-07T00:45:26.073Z"
   },
   {
    "duration": 81,
    "start_time": "2022-11-07T00:45:26.107Z"
   },
   {
    "duration": 5194,
    "start_time": "2022-11-07T00:45:26.190Z"
   },
   {
    "duration": 943,
    "start_time": "2022-11-07T00:45:31.385Z"
   },
   {
    "duration": 81,
    "start_time": "2022-11-07T00:45:32.329Z"
   },
   {
    "duration": 3,
    "start_time": "2022-11-07T00:45:32.411Z"
   },
   {
    "duration": 1696,
    "start_time": "2022-11-07T00:46:29.422Z"
   },
   {
    "duration": 1234,
    "start_time": "2022-11-07T00:46:31.120Z"
   },
   {
    "duration": 687,
    "start_time": "2022-11-07T00:46:32.356Z"
   },
   {
    "duration": 3,
    "start_time": "2022-11-07T00:46:33.044Z"
   },
   {
    "duration": 116,
    "start_time": "2022-11-07T00:46:33.049Z"
   },
   {
    "duration": 82,
    "start_time": "2022-11-07T00:46:33.166Z"
   },
   {
    "duration": 5,
    "start_time": "2022-11-07T00:46:33.249Z"
   },
   {
    "duration": 252,
    "start_time": "2022-11-07T00:46:33.256Z"
   },
   {
    "duration": 1095,
    "start_time": "2022-11-07T00:46:33.510Z"
   },
   {
    "duration": 14,
    "start_time": "2022-11-07T00:46:34.607Z"
   },
   {
    "duration": 36,
    "start_time": "2022-11-07T00:46:34.622Z"
   },
   {
    "duration": 35,
    "start_time": "2022-11-07T00:46:34.660Z"
   },
   {
    "duration": 82,
    "start_time": "2022-11-07T00:46:34.697Z"
   },
   {
    "duration": 5416,
    "start_time": "2022-11-07T00:46:34.781Z"
   },
   {
    "duration": 1141,
    "start_time": "2022-11-07T00:46:40.199Z"
   },
   {
    "duration": 64,
    "start_time": "2022-11-07T00:46:41.341Z"
   },
   {
    "duration": 33,
    "start_time": "2022-11-07T00:46:41.406Z"
   },
   {
    "duration": 1724,
    "start_time": "2022-11-07T00:48:43.062Z"
   },
   {
    "duration": 1940,
    "start_time": "2022-11-07T00:48:44.789Z"
   },
   {
    "duration": 968,
    "start_time": "2022-11-07T00:48:46.731Z"
   },
   {
    "duration": 4,
    "start_time": "2022-11-07T00:48:47.703Z"
   },
   {
    "duration": 123,
    "start_time": "2022-11-07T00:48:47.709Z"
   },
   {
    "duration": 97,
    "start_time": "2022-11-07T00:48:47.833Z"
   },
   {
    "duration": 5,
    "start_time": "2022-11-07T00:48:47.932Z"
   },
   {
    "duration": 276,
    "start_time": "2022-11-07T00:48:47.939Z"
   },
   {
    "duration": 1109,
    "start_time": "2022-11-07T00:48:48.217Z"
   },
   {
    "duration": 14,
    "start_time": "2022-11-07T00:48:49.328Z"
   },
   {
    "duration": 27,
    "start_time": "2022-11-07T00:48:49.344Z"
   },
   {
    "duration": 37,
    "start_time": "2022-11-07T00:48:49.373Z"
   },
   {
    "duration": 92,
    "start_time": "2022-11-07T00:48:49.411Z"
   },
   {
    "duration": 5294,
    "start_time": "2022-11-07T00:48:49.506Z"
   },
   {
    "duration": 1009,
    "start_time": "2022-11-07T00:48:54.803Z"
   },
   {
    "duration": 14,
    "start_time": "2022-11-07T00:48:55.814Z"
   },
   {
    "duration": 4,
    "start_time": "2022-11-07T00:48:55.829Z"
   },
   {
    "duration": 1710,
    "start_time": "2022-11-07T00:52:38.889Z"
   },
   {
    "duration": 1260,
    "start_time": "2022-11-07T00:52:40.601Z"
   },
   {
    "duration": 698,
    "start_time": "2022-11-07T00:52:41.862Z"
   },
   {
    "duration": 3,
    "start_time": "2022-11-07T00:52:42.562Z"
   },
   {
    "duration": 118,
    "start_time": "2022-11-07T00:52:42.567Z"
   },
   {
    "duration": 90,
    "start_time": "2022-11-07T00:52:42.687Z"
   },
   {
    "duration": 6,
    "start_time": "2022-11-07T00:52:42.779Z"
   },
   {
    "duration": 253,
    "start_time": "2022-11-07T00:52:42.787Z"
   },
   {
    "duration": 1065,
    "start_time": "2022-11-07T00:52:43.042Z"
   },
   {
    "duration": 14,
    "start_time": "2022-11-07T00:52:44.109Z"
   },
   {
    "duration": 33,
    "start_time": "2022-11-07T00:52:44.125Z"
   },
   {
    "duration": 26,
    "start_time": "2022-11-07T00:52:44.160Z"
   },
   {
    "duration": 707,
    "start_time": "2022-11-07T00:52:44.187Z"
   },
   {
    "duration": 0,
    "start_time": "2022-11-07T00:52:44.896Z"
   },
   {
    "duration": 0,
    "start_time": "2022-11-07T00:52:44.897Z"
   },
   {
    "duration": 0,
    "start_time": "2022-11-07T00:52:44.899Z"
   },
   {
    "duration": 0,
    "start_time": "2022-11-07T00:52:44.900Z"
   },
   {
    "duration": 1685,
    "start_time": "2022-11-07T00:53:29.510Z"
   },
   {
    "duration": 1261,
    "start_time": "2022-11-07T00:53:31.196Z"
   },
   {
    "duration": 678,
    "start_time": "2022-11-07T00:53:32.458Z"
   },
   {
    "duration": 3,
    "start_time": "2022-11-07T00:53:33.139Z"
   },
   {
    "duration": 108,
    "start_time": "2022-11-07T00:53:33.144Z"
   },
   {
    "duration": 111,
    "start_time": "2022-11-07T00:53:33.254Z"
   },
   {
    "duration": 7,
    "start_time": "2022-11-07T00:53:33.367Z"
   },
   {
    "duration": 265,
    "start_time": "2022-11-07T00:53:33.375Z"
   },
   {
    "duration": 991,
    "start_time": "2022-11-07T00:53:33.642Z"
   },
   {
    "duration": 16,
    "start_time": "2022-11-07T00:53:34.702Z"
   },
   {
    "duration": 26,
    "start_time": "2022-11-07T00:53:34.719Z"
   },
   {
    "duration": 64,
    "start_time": "2022-11-07T00:53:34.746Z"
   },
   {
    "duration": 119,
    "start_time": "2022-11-07T00:53:34.811Z"
   },
   {
    "duration": 5761,
    "start_time": "2022-11-07T00:53:34.931Z"
   },
   {
    "duration": 1027,
    "start_time": "2022-11-07T00:53:40.694Z"
   },
   {
    "duration": 13,
    "start_time": "2022-11-07T00:53:41.722Z"
   },
   {
    "duration": 3,
    "start_time": "2022-11-07T00:53:41.737Z"
   },
   {
    "duration": 1702,
    "start_time": "2022-11-07T00:53:55.225Z"
   },
   {
    "duration": 1211,
    "start_time": "2022-11-07T00:53:56.929Z"
   },
   {
    "duration": 690,
    "start_time": "2022-11-07T00:53:58.142Z"
   },
   {
    "duration": 3,
    "start_time": "2022-11-07T00:53:58.834Z"
   },
   {
    "duration": 110,
    "start_time": "2022-11-07T00:53:58.839Z"
   },
   {
    "duration": 86,
    "start_time": "2022-11-07T00:53:58.950Z"
   },
   {
    "duration": 6,
    "start_time": "2022-11-07T00:53:59.038Z"
   },
   {
    "duration": 258,
    "start_time": "2022-11-07T00:53:59.045Z"
   },
   {
    "duration": 1098,
    "start_time": "2022-11-07T00:53:59.305Z"
   },
   {
    "duration": 13,
    "start_time": "2022-11-07T00:54:00.405Z"
   },
   {
    "duration": 32,
    "start_time": "2022-11-07T00:54:00.420Z"
   },
   {
    "duration": 17,
    "start_time": "2022-11-07T00:54:00.504Z"
   },
   {
    "duration": 184,
    "start_time": "2022-11-07T00:54:00.522Z"
   },
   {
    "duration": 5724,
    "start_time": "2022-11-07T00:54:00.709Z"
   },
   {
    "duration": 995,
    "start_time": "2022-11-07T00:54:06.434Z"
   },
   {
    "duration": 78,
    "start_time": "2022-11-07T00:54:07.431Z"
   },
   {
    "duration": 3,
    "start_time": "2022-11-07T00:54:07.510Z"
   },
   {
    "duration": 1824,
    "start_time": "2022-11-07T00:54:43.810Z"
   },
   {
    "duration": 1295,
    "start_time": "2022-11-07T00:54:45.637Z"
   },
   {
    "duration": 791,
    "start_time": "2022-11-07T00:54:46.933Z"
   },
   {
    "duration": 4,
    "start_time": "2022-11-07T00:54:47.725Z"
   },
   {
    "duration": 122,
    "start_time": "2022-11-07T00:54:47.731Z"
   },
   {
    "duration": 96,
    "start_time": "2022-11-07T00:54:47.855Z"
   },
   {
    "duration": 6,
    "start_time": "2022-11-07T00:54:47.952Z"
   },
   {
    "duration": 276,
    "start_time": "2022-11-07T00:54:47.960Z"
   },
   {
    "duration": 1180,
    "start_time": "2022-11-07T00:54:48.238Z"
   },
   {
    "duration": 15,
    "start_time": "2022-11-07T00:54:49.420Z"
   },
   {
    "duration": 28,
    "start_time": "2022-11-07T00:54:49.436Z"
   },
   {
    "duration": 38,
    "start_time": "2022-11-07T00:54:49.465Z"
   },
   {
    "duration": 74,
    "start_time": "2022-11-07T00:54:49.504Z"
   },
   {
    "duration": 5966,
    "start_time": "2022-11-07T00:54:49.580Z"
   },
   {
    "duration": 1078,
    "start_time": "2022-11-07T00:54:55.548Z"
   },
   {
    "duration": 20,
    "start_time": "2022-11-07T00:54:56.627Z"
   },
   {
    "duration": 6,
    "start_time": "2022-11-07T00:54:56.648Z"
   },
   {
    "duration": 1698,
    "start_time": "2022-11-07T00:56:47.550Z"
   },
   {
    "duration": 1186,
    "start_time": "2022-11-07T00:56:49.250Z"
   },
   {
    "duration": 690,
    "start_time": "2022-11-07T00:56:50.438Z"
   },
   {
    "duration": 3,
    "start_time": "2022-11-07T00:56:51.130Z"
   },
   {
    "duration": 116,
    "start_time": "2022-11-07T00:56:51.135Z"
   },
   {
    "duration": 88,
    "start_time": "2022-11-07T00:56:51.252Z"
   },
   {
    "duration": 5,
    "start_time": "2022-11-07T00:56:51.341Z"
   },
   {
    "duration": 249,
    "start_time": "2022-11-07T00:56:51.348Z"
   },
   {
    "duration": 1535,
    "start_time": "2022-11-07T00:56:51.599Z"
   },
   {
    "duration": 14,
    "start_time": "2022-11-07T00:56:53.136Z"
   },
   {
    "duration": 76,
    "start_time": "2022-11-07T00:56:53.152Z"
   },
   {
    "duration": 23,
    "start_time": "2022-11-07T00:56:53.229Z"
   },
   {
    "duration": 171,
    "start_time": "2022-11-07T00:56:53.253Z"
   },
   {
    "duration": 5389,
    "start_time": "2022-11-07T00:56:53.425Z"
   },
   {
    "duration": 15,
    "start_time": "2022-11-07T00:56:58.815Z"
   },
   {
    "duration": 993,
    "start_time": "2022-11-07T00:56:58.832Z"
   },
   {
    "duration": 2,
    "start_time": "2022-11-07T00:56:59.826Z"
   },
   {
    "duration": 241,
    "start_time": "2022-11-07T07:35:47.949Z"
   },
   {
    "duration": 479,
    "start_time": "2022-11-07T07:40:58.104Z"
   },
   {
    "duration": 17,
    "start_time": "2022-11-07T07:47:42.161Z"
   },
   {
    "duration": 18,
    "start_time": "2022-11-07T07:50:07.789Z"
   },
   {
    "duration": 83,
    "start_time": "2022-11-07T07:53:31.482Z"
   },
   {
    "duration": 86,
    "start_time": "2022-11-07T07:53:44.445Z"
   },
   {
    "duration": 107,
    "start_time": "2022-11-07T07:54:34.501Z"
   },
   {
    "duration": 21,
    "start_time": "2022-11-07T07:54:55.778Z"
   },
   {
    "duration": 96,
    "start_time": "2022-11-07T07:55:14.036Z"
   },
   {
    "duration": 10,
    "start_time": "2022-11-07T07:55:24.431Z"
   },
   {
    "duration": 50,
    "start_time": "2022-11-07T07:55:29.707Z"
   },
   {
    "duration": 49,
    "start_time": "2022-11-07T07:56:28.128Z"
   },
   {
    "duration": 20,
    "start_time": "2022-11-07T07:57:12.961Z"
   },
   {
    "duration": 18,
    "start_time": "2022-11-07T07:57:22.261Z"
   },
   {
    "duration": 19,
    "start_time": "2022-11-07T07:57:30.659Z"
   },
   {
    "duration": 18,
    "start_time": "2022-11-07T07:57:39.586Z"
   },
   {
    "duration": 16,
    "start_time": "2022-11-07T07:57:50.618Z"
   },
   {
    "duration": 53,
    "start_time": "2022-11-07T08:45:49.615Z"
   },
   {
    "duration": 3,
    "start_time": "2022-11-07T08:48:22.040Z"
   },
   {
    "duration": 49,
    "start_time": "2022-11-07T08:48:43.898Z"
   },
   {
    "duration": 64,
    "start_time": "2022-11-07T08:49:37.989Z"
   },
   {
    "duration": 25,
    "start_time": "2022-11-07T08:50:17.670Z"
   },
   {
    "duration": 63,
    "start_time": "2022-11-07T08:50:25.444Z"
   },
   {
    "duration": 22,
    "start_time": "2022-11-07T08:50:38.916Z"
   },
   {
    "duration": 63,
    "start_time": "2022-11-07T08:50:57.105Z"
   },
   {
    "duration": 22,
    "start_time": "2022-11-07T08:51:19.648Z"
   },
   {
    "duration": 76,
    "start_time": "2022-11-07T08:53:13.791Z"
   },
   {
    "duration": 138,
    "start_time": "2022-11-07T08:53:29.181Z"
   },
   {
    "duration": 117,
    "start_time": "2022-11-07T08:53:55.916Z"
   },
   {
    "duration": 119,
    "start_time": "2022-11-07T08:57:17.147Z"
   },
   {
    "duration": 118,
    "start_time": "2022-11-07T08:57:25.542Z"
   },
   {
    "duration": 119,
    "start_time": "2022-11-07T08:57:38.751Z"
   },
   {
    "duration": 31,
    "start_time": "2022-11-07T09:06:06.383Z"
   },
   {
    "duration": 24,
    "start_time": "2022-11-07T09:09:11.151Z"
   },
   {
    "duration": 25,
    "start_time": "2022-11-07T09:09:19.608Z"
   },
   {
    "duration": 1714,
    "start_time": "2022-11-07T09:09:36.153Z"
   },
   {
    "duration": 1961,
    "start_time": "2022-11-07T09:09:37.869Z"
   },
   {
    "duration": 741,
    "start_time": "2022-11-07T09:09:39.832Z"
   },
   {
    "duration": 4,
    "start_time": "2022-11-07T09:09:40.575Z"
   },
   {
    "duration": 129,
    "start_time": "2022-11-07T09:09:40.580Z"
   },
   {
    "duration": 98,
    "start_time": "2022-11-07T09:09:40.711Z"
   },
   {
    "duration": 6,
    "start_time": "2022-11-07T09:09:40.810Z"
   },
   {
    "duration": 255,
    "start_time": "2022-11-07T09:09:40.817Z"
   },
   {
    "duration": 1136,
    "start_time": "2022-11-07T09:09:41.073Z"
   },
   {
    "duration": 14,
    "start_time": "2022-11-07T09:09:42.211Z"
   },
   {
    "duration": 47,
    "start_time": "2022-11-07T09:09:42.227Z"
   },
   {
    "duration": 36,
    "start_time": "2022-11-07T09:09:42.276Z"
   },
   {
    "duration": 88,
    "start_time": "2022-11-07T09:09:42.314Z"
   },
   {
    "duration": 5901,
    "start_time": "2022-11-07T09:09:42.404Z"
   },
   {
    "duration": 17,
    "start_time": "2022-11-07T09:09:48.307Z"
   },
   {
    "duration": 1701,
    "start_time": "2022-11-07T09:09:48.325Z"
   },
   {
    "duration": 247,
    "start_time": "2022-11-07T09:09:50.028Z"
   },
   {
    "duration": 511,
    "start_time": "2022-11-07T09:09:50.277Z"
   },
   {
    "duration": 132,
    "start_time": "2022-11-07T09:09:50.789Z"
   },
   {
    "duration": 29,
    "start_time": "2022-11-07T09:09:50.922Z"
   },
   {
    "duration": 2,
    "start_time": "2022-11-07T09:09:50.953Z"
   },
   {
    "duration": 1695,
    "start_time": "2022-11-07T09:10:03.841Z"
   },
   {
    "duration": 1235,
    "start_time": "2022-11-07T09:10:05.538Z"
   },
   {
    "duration": 707,
    "start_time": "2022-11-07T09:10:06.774Z"
   },
   {
    "duration": 2,
    "start_time": "2022-11-07T09:10:07.483Z"
   },
   {
    "duration": 111,
    "start_time": "2022-11-07T09:10:07.487Z"
   },
   {
    "duration": 83,
    "start_time": "2022-11-07T09:10:07.599Z"
   },
   {
    "duration": 6,
    "start_time": "2022-11-07T09:10:07.683Z"
   },
   {
    "duration": 254,
    "start_time": "2022-11-07T09:10:07.690Z"
   },
   {
    "duration": 984,
    "start_time": "2022-11-07T09:10:07.946Z"
   },
   {
    "duration": 13,
    "start_time": "2022-11-07T09:10:08.932Z"
   },
   {
    "duration": 25,
    "start_time": "2022-11-07T09:10:08.946Z"
   },
   {
    "duration": 33,
    "start_time": "2022-11-07T09:10:08.973Z"
   },
   {
    "duration": 72,
    "start_time": "2022-11-07T09:10:09.007Z"
   },
   {
    "duration": 6288,
    "start_time": "2022-11-07T09:10:09.081Z"
   },
   {
    "duration": 16,
    "start_time": "2022-11-07T09:10:15.371Z"
   },
   {
    "duration": 1117,
    "start_time": "2022-11-07T09:10:15.388Z"
   },
   {
    "duration": 248,
    "start_time": "2022-11-07T09:10:16.507Z"
   },
   {
    "duration": 521,
    "start_time": "2022-11-07T09:10:16.757Z"
   },
   {
    "duration": 131,
    "start_time": "2022-11-07T09:10:17.280Z"
   },
   {
    "duration": 33,
    "start_time": "2022-11-07T09:10:17.413Z"
   },
   {
    "duration": 2,
    "start_time": "2022-11-07T09:10:17.448Z"
   },
   {
    "duration": 117,
    "start_time": "2022-11-07T09:19:47.358Z"
   },
   {
    "duration": 229,
    "start_time": "2022-11-07T09:21:02.336Z"
   },
   {
    "duration": 32,
    "start_time": "2022-11-07T09:21:48.830Z"
   },
   {
    "duration": 31,
    "start_time": "2022-11-07T09:22:20.446Z"
   },
   {
    "duration": 32,
    "start_time": "2022-11-07T09:22:30.146Z"
   },
   {
    "duration": 32,
    "start_time": "2022-11-07T09:22:41.919Z"
   },
   {
    "duration": 11,
    "start_time": "2022-11-07T09:34:29.616Z"
   },
   {
    "duration": 241,
    "start_time": "2022-11-07T09:35:02.364Z"
   },
   {
    "duration": 423,
    "start_time": "2022-11-07T09:35:39.220Z"
   },
   {
    "duration": 409,
    "start_time": "2022-11-07T09:36:13.566Z"
   },
   {
    "duration": 402,
    "start_time": "2022-11-07T09:39:27.161Z"
   },
   {
    "duration": 247,
    "start_time": "2022-11-07T09:40:19.494Z"
   },
   {
    "duration": 447,
    "start_time": "2022-11-07T09:41:21.318Z"
   },
   {
    "duration": 546,
    "start_time": "2022-11-07T09:41:39.890Z"
   },
   {
    "duration": 467,
    "start_time": "2022-11-07T09:42:16.371Z"
   },
   {
    "duration": 123,
    "start_time": "2022-11-07T09:43:56.759Z"
   },
   {
    "duration": 1746,
    "start_time": "2022-11-07T09:44:57.849Z"
   },
   {
    "duration": 1316,
    "start_time": "2022-11-07T09:44:59.597Z"
   },
   {
    "duration": 719,
    "start_time": "2022-11-07T09:45:00.914Z"
   },
   {
    "duration": 4,
    "start_time": "2022-11-07T09:45:01.634Z"
   },
   {
    "duration": 120,
    "start_time": "2022-11-07T09:45:01.639Z"
   },
   {
    "duration": 109,
    "start_time": "2022-11-07T09:45:01.760Z"
   },
   {
    "duration": 6,
    "start_time": "2022-11-07T09:45:01.870Z"
   },
   {
    "duration": 279,
    "start_time": "2022-11-07T09:45:01.877Z"
   },
   {
    "duration": 1049,
    "start_time": "2022-11-07T09:45:02.158Z"
   },
   {
    "duration": 13,
    "start_time": "2022-11-07T09:45:03.209Z"
   },
   {
    "duration": 25,
    "start_time": "2022-11-07T09:45:03.224Z"
   },
   {
    "duration": 17,
    "start_time": "2022-11-07T09:45:03.250Z"
   },
   {
    "duration": 90,
    "start_time": "2022-11-07T09:45:03.268Z"
   },
   {
    "duration": 5840,
    "start_time": "2022-11-07T09:45:03.359Z"
   },
   {
    "duration": 15,
    "start_time": "2022-11-07T09:45:09.202Z"
   },
   {
    "duration": 1088,
    "start_time": "2022-11-07T09:45:09.219Z"
   },
   {
    "duration": 245,
    "start_time": "2022-11-07T09:45:10.308Z"
   },
   {
    "duration": 518,
    "start_time": "2022-11-07T09:45:10.554Z"
   },
   {
    "duration": 125,
    "start_time": "2022-11-07T09:45:11.073Z"
   },
   {
    "duration": 32,
    "start_time": "2022-11-07T09:45:11.203Z"
   },
   {
    "duration": 15,
    "start_time": "2022-11-07T09:45:11.236Z"
   },
   {
    "duration": 586,
    "start_time": "2022-11-07T09:45:11.252Z"
   },
   {
    "duration": 140,
    "start_time": "2022-11-07T09:45:11.839Z"
   },
   {
    "duration": 39,
    "start_time": "2022-11-07T09:45:11.981Z"
   },
   {
    "duration": 3,
    "start_time": "2022-11-07T09:45:12.023Z"
   },
   {
    "duration": 121,
    "start_time": "2022-11-07T09:45:31.109Z"
   },
   {
    "duration": 131,
    "start_time": "2022-11-07T09:47:13.919Z"
   },
   {
    "duration": 475,
    "start_time": "2022-11-07T09:47:25.819Z"
   },
   {
    "duration": 467,
    "start_time": "2022-11-07T09:47:43.033Z"
   },
   {
    "duration": 488,
    "start_time": "2022-11-07T09:47:49.989Z"
   },
   {
    "duration": 570,
    "start_time": "2022-11-07T09:48:21.862Z"
   },
   {
    "duration": 95,
    "start_time": "2022-11-07T09:48:43.064Z"
   },
   {
    "duration": 475,
    "start_time": "2022-11-07T09:48:49.094Z"
   },
   {
    "duration": 11,
    "start_time": "2022-11-07T09:49:47.316Z"
   },
   {
    "duration": 9,
    "start_time": "2022-11-07T09:50:12.724Z"
   },
   {
    "duration": 8,
    "start_time": "2022-11-07T09:50:40.774Z"
   },
   {
    "duration": 11,
    "start_time": "2022-11-07T09:51:27.213Z"
   },
   {
    "duration": 8,
    "start_time": "2022-11-07T09:52:30.161Z"
   },
   {
    "duration": 9,
    "start_time": "2022-11-07T09:52:42.607Z"
   },
   {
    "duration": 14,
    "start_time": "2022-11-07T09:52:49.701Z"
   },
   {
    "duration": 8,
    "start_time": "2022-11-07T09:52:53.773Z"
   },
   {
    "duration": 15,
    "start_time": "2022-11-07T09:53:24.498Z"
   },
   {
    "duration": 18,
    "start_time": "2022-11-07T09:53:47.375Z"
   },
   {
    "duration": 12,
    "start_time": "2022-11-07T09:53:55.820Z"
   },
   {
    "duration": 10,
    "start_time": "2022-11-07T09:54:17.034Z"
   },
   {
    "duration": 132,
    "start_time": "2022-11-07T10:03:26.359Z"
   },
   {
    "duration": 400,
    "start_time": "2022-11-07T10:03:50.858Z"
   },
   {
    "duration": 378,
    "start_time": "2022-11-07T10:04:29.011Z"
   },
   {
    "duration": 481,
    "start_time": "2022-11-07T10:05:11.117Z"
   },
   {
    "duration": 464,
    "start_time": "2022-11-07T10:05:23.465Z"
   },
   {
    "duration": 466,
    "start_time": "2022-11-07T10:05:29.314Z"
   },
   {
    "duration": 496,
    "start_time": "2022-11-07T10:05:47.093Z"
   },
   {
    "duration": 370,
    "start_time": "2022-11-07T10:06:03.381Z"
   },
   {
    "duration": 1174,
    "start_time": "2022-11-07T10:07:33.830Z"
   },
   {
    "duration": 10,
    "start_time": "2022-11-07T10:07:43.185Z"
   },
   {
    "duration": 11,
    "start_time": "2022-11-07T10:07:54.355Z"
   },
   {
    "duration": 11,
    "start_time": "2022-11-07T10:08:18.493Z"
   },
   {
    "duration": 10,
    "start_time": "2022-11-07T10:08:24.588Z"
   },
   {
    "duration": 11,
    "start_time": "2022-11-07T10:08:28.394Z"
   },
   {
    "duration": 10,
    "start_time": "2022-11-07T10:08:32.287Z"
   },
   {
    "duration": 11,
    "start_time": "2022-11-07T10:08:38.320Z"
   },
   {
    "duration": 10,
    "start_time": "2022-11-07T10:10:02.355Z"
   },
   {
    "duration": 152,
    "start_time": "2022-11-07T10:10:25.231Z"
   },
   {
    "duration": 159,
    "start_time": "2022-11-07T10:11:00.321Z"
   },
   {
    "duration": 149,
    "start_time": "2022-11-07T10:11:21.319Z"
   },
   {
    "duration": 155,
    "start_time": "2022-11-07T10:11:31.053Z"
   },
   {
    "duration": 10,
    "start_time": "2022-11-07T10:12:09.226Z"
   },
   {
    "duration": 9,
    "start_time": "2022-11-07T10:14:50.698Z"
   },
   {
    "duration": 11,
    "start_time": "2022-11-07T10:15:00.504Z"
   },
   {
    "duration": 1772,
    "start_time": "2022-11-07T10:16:07.647Z"
   },
   {
    "duration": 1249,
    "start_time": "2022-11-07T10:16:09.420Z"
   },
   {
    "duration": 766,
    "start_time": "2022-11-07T10:16:10.670Z"
   },
   {
    "duration": 4,
    "start_time": "2022-11-07T10:16:11.438Z"
   },
   {
    "duration": 135,
    "start_time": "2022-11-07T10:16:11.444Z"
   },
   {
    "duration": 105,
    "start_time": "2022-11-07T10:16:11.581Z"
   },
   {
    "duration": 15,
    "start_time": "2022-11-07T10:16:11.688Z"
   },
   {
    "duration": 299,
    "start_time": "2022-11-07T10:16:11.705Z"
   },
   {
    "duration": 1327,
    "start_time": "2022-11-07T10:16:12.006Z"
   },
   {
    "duration": 71,
    "start_time": "2022-11-07T10:16:13.335Z"
   },
   {
    "duration": 43,
    "start_time": "2022-11-07T10:16:13.408Z"
   },
   {
    "duration": 64,
    "start_time": "2022-11-07T10:16:13.452Z"
   },
   {
    "duration": 124,
    "start_time": "2022-11-07T10:16:13.517Z"
   },
   {
    "duration": 5704,
    "start_time": "2022-11-07T10:16:13.644Z"
   },
   {
    "duration": 14,
    "start_time": "2022-11-07T10:16:19.349Z"
   },
   {
    "duration": 1040,
    "start_time": "2022-11-07T10:16:19.365Z"
   },
   {
    "duration": 255,
    "start_time": "2022-11-07T10:16:20.407Z"
   },
   {
    "duration": 492,
    "start_time": "2022-11-07T10:16:20.664Z"
   },
   {
    "duration": 126,
    "start_time": "2022-11-07T10:16:21.157Z"
   },
   {
    "duration": 33,
    "start_time": "2022-11-07T10:16:21.285Z"
   },
   {
    "duration": 14,
    "start_time": "2022-11-07T10:16:21.319Z"
   },
   {
    "duration": 206,
    "start_time": "2022-11-07T10:16:21.334Z"
   },
   {
    "duration": 348,
    "start_time": "2022-11-07T10:16:21.542Z"
   },
   {
    "duration": 17,
    "start_time": "2022-11-07T10:16:21.892Z"
   },
   {
    "duration": 169,
    "start_time": "2022-11-07T10:16:21.911Z"
   },
   {
    "duration": 35,
    "start_time": "2022-11-07T10:16:22.081Z"
   },
   {
    "duration": 2,
    "start_time": "2022-11-07T10:16:22.117Z"
   },
   {
    "duration": 1760,
    "start_time": "2022-11-07T10:16:40.147Z"
   },
   {
    "duration": 1286,
    "start_time": "2022-11-07T10:16:41.909Z"
   },
   {
    "duration": 737,
    "start_time": "2022-11-07T10:16:43.196Z"
   },
   {
    "duration": 3,
    "start_time": "2022-11-07T10:16:43.934Z"
   },
   {
    "duration": 113,
    "start_time": "2022-11-07T10:16:43.939Z"
   },
   {
    "duration": 90,
    "start_time": "2022-11-07T10:16:44.054Z"
   },
   {
    "duration": 6,
    "start_time": "2022-11-07T10:16:44.146Z"
   },
   {
    "duration": 251,
    "start_time": "2022-11-07T10:16:44.153Z"
   },
   {
    "duration": 1198,
    "start_time": "2022-11-07T10:16:44.405Z"
   },
   {
    "duration": 13,
    "start_time": "2022-11-07T10:16:45.605Z"
   },
   {
    "duration": 86,
    "start_time": "2022-11-07T10:16:45.620Z"
   },
   {
    "duration": 16,
    "start_time": "2022-11-07T10:16:45.708Z"
   },
   {
    "duration": 126,
    "start_time": "2022-11-07T10:16:45.725Z"
   },
   {
    "duration": 5859,
    "start_time": "2022-11-07T10:16:45.904Z"
   },
   {
    "duration": 15,
    "start_time": "2022-11-07T10:16:51.765Z"
   },
   {
    "duration": 1132,
    "start_time": "2022-11-07T10:16:51.781Z"
   },
   {
    "duration": 237,
    "start_time": "2022-11-07T10:16:52.914Z"
   },
   {
    "duration": 486,
    "start_time": "2022-11-07T10:16:53.154Z"
   },
   {
    "duration": 129,
    "start_time": "2022-11-07T10:16:53.642Z"
   },
   {
    "duration": 37,
    "start_time": "2022-11-07T10:16:53.772Z"
   },
   {
    "duration": 14,
    "start_time": "2022-11-07T10:16:53.811Z"
   },
   {
    "duration": 215,
    "start_time": "2022-11-07T10:16:53.827Z"
   },
   {
    "duration": 341,
    "start_time": "2022-11-07T10:16:54.044Z"
   },
   {
    "duration": 18,
    "start_time": "2022-11-07T10:16:54.386Z"
   },
   {
    "duration": 154,
    "start_time": "2022-11-07T10:16:54.406Z"
   },
   {
    "duration": 26,
    "start_time": "2022-11-07T10:16:54.561Z"
   },
   {
    "duration": 15,
    "start_time": "2022-11-07T10:16:54.588Z"
   },
   {
    "duration": 1778,
    "start_time": "2022-11-07T10:17:17.792Z"
   },
   {
    "duration": 1217,
    "start_time": "2022-11-07T10:17:19.572Z"
   },
   {
    "duration": 702,
    "start_time": "2022-11-07T10:17:20.790Z"
   },
   {
    "duration": 3,
    "start_time": "2022-11-07T10:17:21.494Z"
   },
   {
    "duration": 113,
    "start_time": "2022-11-07T10:17:21.503Z"
   },
   {
    "duration": 87,
    "start_time": "2022-11-07T10:17:21.617Z"
   },
   {
    "duration": 6,
    "start_time": "2022-11-07T10:17:21.706Z"
   },
   {
    "duration": 264,
    "start_time": "2022-11-07T10:17:21.713Z"
   },
   {
    "duration": 1130,
    "start_time": "2022-11-07T10:17:21.978Z"
   },
   {
    "duration": 19,
    "start_time": "2022-11-07T10:17:23.111Z"
   },
   {
    "duration": 35,
    "start_time": "2022-11-07T10:17:23.132Z"
   },
   {
    "duration": 31,
    "start_time": "2022-11-07T10:17:23.169Z"
   },
   {
    "duration": 90,
    "start_time": "2022-11-07T10:17:23.201Z"
   },
   {
    "duration": 6670,
    "start_time": "2022-11-07T10:17:23.292Z"
   },
   {
    "duration": 15,
    "start_time": "2022-11-07T10:17:29.963Z"
   },
   {
    "duration": 1126,
    "start_time": "2022-11-07T10:17:29.979Z"
   },
   {
    "duration": 241,
    "start_time": "2022-11-07T10:17:31.107Z"
   },
   {
    "duration": 478,
    "start_time": "2022-11-07T10:17:31.349Z"
   },
   {
    "duration": 133,
    "start_time": "2022-11-07T10:17:31.829Z"
   },
   {
    "duration": 41,
    "start_time": "2022-11-07T10:17:31.963Z"
   },
   {
    "duration": 17,
    "start_time": "2022-11-07T10:17:32.005Z"
   },
   {
    "duration": 202,
    "start_time": "2022-11-07T10:17:32.024Z"
   },
   {
    "duration": 346,
    "start_time": "2022-11-07T10:17:32.228Z"
   },
   {
    "duration": 11,
    "start_time": "2022-11-07T10:17:32.575Z"
   },
   {
    "duration": 133,
    "start_time": "2022-11-07T10:17:32.587Z"
   },
   {
    "duration": 27,
    "start_time": "2022-11-07T10:17:32.722Z"
   },
   {
    "duration": 10,
    "start_time": "2022-11-07T10:17:32.751Z"
   },
   {
    "duration": 1817,
    "start_time": "2022-11-07T10:18:06.929Z"
   },
   {
    "duration": 1236,
    "start_time": "2022-11-07T10:18:08.748Z"
   },
   {
    "duration": 719,
    "start_time": "2022-11-07T10:18:09.985Z"
   },
   {
    "duration": 3,
    "start_time": "2022-11-07T10:18:10.705Z"
   },
   {
    "duration": 118,
    "start_time": "2022-11-07T10:18:10.711Z"
   },
   {
    "duration": 83,
    "start_time": "2022-11-07T10:18:10.830Z"
   },
   {
    "duration": 5,
    "start_time": "2022-11-07T10:18:10.915Z"
   },
   {
    "duration": 258,
    "start_time": "2022-11-07T10:18:10.921Z"
   },
   {
    "duration": 1144,
    "start_time": "2022-11-07T10:18:11.181Z"
   },
   {
    "duration": 13,
    "start_time": "2022-11-07T10:18:12.327Z"
   },
   {
    "duration": 27,
    "start_time": "2022-11-07T10:18:12.341Z"
   },
   {
    "duration": 34,
    "start_time": "2022-11-07T10:18:12.369Z"
   },
   {
    "duration": 77,
    "start_time": "2022-11-07T10:18:12.404Z"
   },
   {
    "duration": 6644,
    "start_time": "2022-11-07T10:18:12.483Z"
   },
   {
    "duration": 16,
    "start_time": "2022-11-07T10:18:19.128Z"
   },
   {
    "duration": 1172,
    "start_time": "2022-11-07T10:18:19.145Z"
   },
   {
    "duration": 253,
    "start_time": "2022-11-07T10:18:20.318Z"
   },
   {
    "duration": 524,
    "start_time": "2022-11-07T10:18:20.572Z"
   },
   {
    "duration": 132,
    "start_time": "2022-11-07T10:18:21.098Z"
   },
   {
    "duration": 31,
    "start_time": "2022-11-07T10:18:21.231Z"
   },
   {
    "duration": 15,
    "start_time": "2022-11-07T10:18:21.264Z"
   },
   {
    "duration": 225,
    "start_time": "2022-11-07T10:18:21.281Z"
   },
   {
    "duration": 357,
    "start_time": "2022-11-07T10:18:21.508Z"
   },
   {
    "duration": 13,
    "start_time": "2022-11-07T10:18:21.866Z"
   },
   {
    "duration": 165,
    "start_time": "2022-11-07T10:18:21.880Z"
   },
   {
    "duration": 25,
    "start_time": "2022-11-07T10:18:22.047Z"
   },
   {
    "duration": 2,
    "start_time": "2022-11-07T10:18:22.073Z"
   },
   {
    "duration": 1773,
    "start_time": "2022-11-07T10:19:50.728Z"
   },
   {
    "duration": 1286,
    "start_time": "2022-11-07T10:19:52.503Z"
   },
   {
    "duration": 707,
    "start_time": "2022-11-07T10:19:53.791Z"
   },
   {
    "duration": 4,
    "start_time": "2022-11-07T10:19:54.502Z"
   },
   {
    "duration": 116,
    "start_time": "2022-11-07T10:19:54.507Z"
   },
   {
    "duration": 90,
    "start_time": "2022-11-07T10:19:54.625Z"
   },
   {
    "duration": 6,
    "start_time": "2022-11-07T10:19:54.716Z"
   },
   {
    "duration": 255,
    "start_time": "2022-11-07T10:19:54.723Z"
   },
   {
    "duration": 1051,
    "start_time": "2022-11-07T10:19:54.980Z"
   },
   {
    "duration": 14,
    "start_time": "2022-11-07T10:19:56.033Z"
   },
   {
    "duration": 26,
    "start_time": "2022-11-07T10:19:56.048Z"
   },
   {
    "duration": 34,
    "start_time": "2022-11-07T10:19:56.075Z"
   },
   {
    "duration": 76,
    "start_time": "2022-11-07T10:19:56.110Z"
   },
   {
    "duration": 5316,
    "start_time": "2022-11-07T10:19:56.187Z"
   },
   {
    "duration": 15,
    "start_time": "2022-11-07T10:20:01.504Z"
   },
   {
    "duration": 1011,
    "start_time": "2022-11-07T10:20:01.520Z"
   },
   {
    "duration": 309,
    "start_time": "2022-11-07T10:20:02.533Z"
   },
   {
    "duration": 483,
    "start_time": "2022-11-07T10:20:02.844Z"
   },
   {
    "duration": 127,
    "start_time": "2022-11-07T10:20:03.329Z"
   },
   {
    "duration": 30,
    "start_time": "2022-11-07T10:20:03.457Z"
   },
   {
    "duration": 15,
    "start_time": "2022-11-07T10:20:03.503Z"
   },
   {
    "duration": 199,
    "start_time": "2022-11-07T10:20:03.520Z"
   },
   {
    "duration": 339,
    "start_time": "2022-11-07T10:20:03.721Z"
   },
   {
    "duration": 11,
    "start_time": "2022-11-07T10:20:04.061Z"
   },
   {
    "duration": 174,
    "start_time": "2022-11-07T10:20:04.074Z"
   },
   {
    "duration": 27,
    "start_time": "2022-11-07T10:20:04.249Z"
   },
   {
    "duration": 2,
    "start_time": "2022-11-07T10:20:04.278Z"
   },
   {
    "duration": 1813,
    "start_time": "2022-11-07T10:24:55.474Z"
   },
   {
    "duration": 1302,
    "start_time": "2022-11-07T10:24:57.289Z"
   },
   {
    "duration": 106,
    "start_time": "2022-11-07T10:24:58.593Z"
   },
   {
    "duration": 0,
    "start_time": "2022-11-07T10:24:58.703Z"
   },
   {
    "duration": 0,
    "start_time": "2022-11-07T10:24:58.705Z"
   },
   {
    "duration": 0,
    "start_time": "2022-11-07T10:24:58.707Z"
   },
   {
    "duration": 0,
    "start_time": "2022-11-07T10:24:58.708Z"
   },
   {
    "duration": 0,
    "start_time": "2022-11-07T10:24:58.709Z"
   },
   {
    "duration": 0,
    "start_time": "2022-11-07T10:24:58.710Z"
   },
   {
    "duration": 0,
    "start_time": "2022-11-07T10:24:58.711Z"
   },
   {
    "duration": 0,
    "start_time": "2022-11-07T10:24:58.712Z"
   },
   {
    "duration": 0,
    "start_time": "2022-11-07T10:24:58.713Z"
   },
   {
    "duration": 0,
    "start_time": "2022-11-07T10:24:58.714Z"
   },
   {
    "duration": 0,
    "start_time": "2022-11-07T10:24:58.715Z"
   },
   {
    "duration": 0,
    "start_time": "2022-11-07T10:24:58.717Z"
   },
   {
    "duration": 0,
    "start_time": "2022-11-07T10:24:58.718Z"
   },
   {
    "duration": 0,
    "start_time": "2022-11-07T10:24:58.719Z"
   },
   {
    "duration": 0,
    "start_time": "2022-11-07T10:24:58.720Z"
   },
   {
    "duration": 0,
    "start_time": "2022-11-07T10:24:58.722Z"
   },
   {
    "duration": 0,
    "start_time": "2022-11-07T10:24:58.723Z"
   },
   {
    "duration": 0,
    "start_time": "2022-11-07T10:24:58.724Z"
   },
   {
    "duration": 0,
    "start_time": "2022-11-07T10:24:58.726Z"
   },
   {
    "duration": 0,
    "start_time": "2022-11-07T10:24:58.727Z"
   },
   {
    "duration": 0,
    "start_time": "2022-11-07T10:24:58.728Z"
   },
   {
    "duration": 0,
    "start_time": "2022-11-07T10:24:58.729Z"
   },
   {
    "duration": 0,
    "start_time": "2022-11-07T10:24:58.730Z"
   },
   {
    "duration": 0,
    "start_time": "2022-11-07T10:24:58.732Z"
   },
   {
    "duration": 1794,
    "start_time": "2022-11-07T10:25:47.312Z"
   },
   {
    "duration": 2024,
    "start_time": "2022-11-07T10:25:49.108Z"
   },
   {
    "duration": 105,
    "start_time": "2022-11-07T10:25:51.133Z"
   },
   {
    "duration": 0,
    "start_time": "2022-11-07T10:25:51.241Z"
   },
   {
    "duration": 0,
    "start_time": "2022-11-07T10:25:51.242Z"
   },
   {
    "duration": 0,
    "start_time": "2022-11-07T10:25:51.244Z"
   },
   {
    "duration": 0,
    "start_time": "2022-11-07T10:25:51.246Z"
   },
   {
    "duration": 0,
    "start_time": "2022-11-07T10:25:51.247Z"
   },
   {
    "duration": 0,
    "start_time": "2022-11-07T10:25:51.249Z"
   },
   {
    "duration": 0,
    "start_time": "2022-11-07T10:25:51.250Z"
   },
   {
    "duration": 0,
    "start_time": "2022-11-07T10:25:51.251Z"
   },
   {
    "duration": 0,
    "start_time": "2022-11-07T10:25:51.253Z"
   },
   {
    "duration": 0,
    "start_time": "2022-11-07T10:25:51.254Z"
   },
   {
    "duration": 0,
    "start_time": "2022-11-07T10:25:51.256Z"
   },
   {
    "duration": 0,
    "start_time": "2022-11-07T10:25:51.257Z"
   },
   {
    "duration": 0,
    "start_time": "2022-11-07T10:25:51.258Z"
   },
   {
    "duration": 0,
    "start_time": "2022-11-07T10:25:51.259Z"
   },
   {
    "duration": 0,
    "start_time": "2022-11-07T10:25:51.261Z"
   },
   {
    "duration": 0,
    "start_time": "2022-11-07T10:25:51.262Z"
   },
   {
    "duration": 0,
    "start_time": "2022-11-07T10:25:51.303Z"
   },
   {
    "duration": 0,
    "start_time": "2022-11-07T10:25:51.305Z"
   },
   {
    "duration": 0,
    "start_time": "2022-11-07T10:25:51.306Z"
   },
   {
    "duration": 0,
    "start_time": "2022-11-07T10:25:51.308Z"
   },
   {
    "duration": 1,
    "start_time": "2022-11-07T10:25:51.309Z"
   },
   {
    "duration": 0,
    "start_time": "2022-11-07T10:25:51.311Z"
   },
   {
    "duration": 0,
    "start_time": "2022-11-07T10:25:51.313Z"
   },
   {
    "duration": 0,
    "start_time": "2022-11-07T10:25:51.314Z"
   },
   {
    "duration": 1712,
    "start_time": "2022-11-07T10:26:32.950Z"
   },
   {
    "duration": 1587,
    "start_time": "2022-11-07T10:26:34.664Z"
   },
   {
    "duration": 194,
    "start_time": "2022-11-07T10:26:36.253Z"
   },
   {
    "duration": 0,
    "start_time": "2022-11-07T10:26:36.448Z"
   },
   {
    "duration": 0,
    "start_time": "2022-11-07T10:26:36.449Z"
   },
   {
    "duration": 0,
    "start_time": "2022-11-07T10:26:36.504Z"
   },
   {
    "duration": 0,
    "start_time": "2022-11-07T10:26:36.504Z"
   },
   {
    "duration": 0,
    "start_time": "2022-11-07T10:26:36.505Z"
   },
   {
    "duration": 0,
    "start_time": "2022-11-07T10:26:36.506Z"
   },
   {
    "duration": 0,
    "start_time": "2022-11-07T10:26:36.507Z"
   },
   {
    "duration": 0,
    "start_time": "2022-11-07T10:26:36.507Z"
   },
   {
    "duration": 0,
    "start_time": "2022-11-07T10:26:36.508Z"
   },
   {
    "duration": 0,
    "start_time": "2022-11-07T10:26:36.509Z"
   },
   {
    "duration": 0,
    "start_time": "2022-11-07T10:26:36.510Z"
   },
   {
    "duration": 0,
    "start_time": "2022-11-07T10:26:36.511Z"
   },
   {
    "duration": 0,
    "start_time": "2022-11-07T10:26:36.512Z"
   },
   {
    "duration": 0,
    "start_time": "2022-11-07T10:26:36.513Z"
   },
   {
    "duration": 0,
    "start_time": "2022-11-07T10:26:36.514Z"
   },
   {
    "duration": 0,
    "start_time": "2022-11-07T10:26:36.515Z"
   },
   {
    "duration": 0,
    "start_time": "2022-11-07T10:26:36.515Z"
   },
   {
    "duration": 0,
    "start_time": "2022-11-07T10:26:36.517Z"
   },
   {
    "duration": 0,
    "start_time": "2022-11-07T10:26:36.517Z"
   },
   {
    "duration": 0,
    "start_time": "2022-11-07T10:26:36.518Z"
   },
   {
    "duration": 0,
    "start_time": "2022-11-07T10:26:36.519Z"
   },
   {
    "duration": 0,
    "start_time": "2022-11-07T10:26:36.520Z"
   },
   {
    "duration": 0,
    "start_time": "2022-11-07T10:26:36.521Z"
   },
   {
    "duration": 0,
    "start_time": "2022-11-07T10:26:36.522Z"
   },
   {
    "duration": 4455,
    "start_time": "2022-11-08T00:37:15.594Z"
   },
   {
    "duration": 2128,
    "start_time": "2022-11-08T00:37:20.051Z"
   },
   {
    "duration": 971,
    "start_time": "2022-11-08T00:37:22.181Z"
   },
   {
    "duration": 4,
    "start_time": "2022-11-08T00:37:23.154Z"
   },
   {
    "duration": 125,
    "start_time": "2022-11-08T00:37:23.160Z"
   },
   {
    "duration": 114,
    "start_time": "2022-11-08T00:37:23.287Z"
   },
   {
    "duration": 5,
    "start_time": "2022-11-08T00:37:23.403Z"
   },
   {
    "duration": 266,
    "start_time": "2022-11-08T00:37:23.409Z"
   },
   {
    "duration": 1219,
    "start_time": "2022-11-08T00:37:23.677Z"
   },
   {
    "duration": 15,
    "start_time": "2022-11-08T00:37:24.899Z"
   },
   {
    "duration": 32,
    "start_time": "2022-11-08T00:37:24.916Z"
   },
   {
    "duration": 24,
    "start_time": "2022-11-08T00:37:24.949Z"
   },
   {
    "duration": 89,
    "start_time": "2022-11-08T00:37:24.986Z"
   },
   {
    "duration": 6029,
    "start_time": "2022-11-08T00:37:25.077Z"
   },
   {
    "duration": 16,
    "start_time": "2022-11-08T00:37:31.108Z"
   },
   {
    "duration": 1169,
    "start_time": "2022-11-08T00:37:31.125Z"
   },
   {
    "duration": 226,
    "start_time": "2022-11-08T00:37:32.296Z"
   },
   {
    "duration": 516,
    "start_time": "2022-11-08T00:37:32.523Z"
   },
   {
    "duration": 140,
    "start_time": "2022-11-08T00:37:33.041Z"
   },
   {
    "duration": 32,
    "start_time": "2022-11-08T00:37:33.185Z"
   },
   {
    "duration": 15,
    "start_time": "2022-11-08T00:37:33.218Z"
   },
   {
    "duration": 150,
    "start_time": "2022-11-08T00:37:33.235Z"
   },
   {
    "duration": 365,
    "start_time": "2022-11-08T00:37:33.386Z"
   },
   {
    "duration": 4,
    "start_time": "2022-11-08T00:37:33.752Z"
   },
   {
    "duration": 180,
    "start_time": "2022-11-08T00:37:33.757Z"
   },
   {
    "duration": 31,
    "start_time": "2022-11-08T00:37:33.939Z"
   },
   {
    "duration": 2,
    "start_time": "2022-11-08T00:37:33.985Z"
   },
   {
    "duration": 5,
    "start_time": "2022-11-08T00:38:24.849Z"
   },
   {
    "duration": 175,
    "start_time": "2022-11-08T00:38:37.213Z"
   },
   {
    "duration": 151,
    "start_time": "2022-11-08T00:38:55.210Z"
   },
   {
    "duration": 129,
    "start_time": "2022-11-08T00:39:12.874Z"
   },
   {
    "duration": 3128,
    "start_time": "2022-11-08T09:00:43.985Z"
   },
   {
    "duration": 2414,
    "start_time": "2022-11-08T09:00:47.115Z"
   },
   {
    "duration": 3146,
    "start_time": "2022-11-08T09:00:49.531Z"
   },
   {
    "duration": 4,
    "start_time": "2022-11-08T09:00:52.679Z"
   },
   {
    "duration": 165,
    "start_time": "2022-11-08T09:00:52.685Z"
   },
   {
    "duration": 99,
    "start_time": "2022-11-08T09:00:52.851Z"
   },
   {
    "duration": 7,
    "start_time": "2022-11-08T09:00:52.951Z"
   },
   {
    "duration": 283,
    "start_time": "2022-11-08T09:00:52.959Z"
   },
   {
    "duration": 1531,
    "start_time": "2022-11-08T09:00:53.244Z"
   },
   {
    "duration": 31,
    "start_time": "2022-11-08T09:00:54.779Z"
   },
   {
    "duration": 54,
    "start_time": "2022-11-08T09:00:54.811Z"
   },
   {
    "duration": 23,
    "start_time": "2022-11-08T09:00:54.867Z"
   },
   {
    "duration": 102,
    "start_time": "2022-11-08T09:00:54.892Z"
   },
   {
    "duration": 6857,
    "start_time": "2022-11-08T09:00:54.996Z"
   },
   {
    "duration": 16,
    "start_time": "2022-11-08T09:01:01.855Z"
   },
   {
    "duration": 1296,
    "start_time": "2022-11-08T09:01:01.873Z"
   },
   {
    "duration": 298,
    "start_time": "2022-11-08T09:01:03.171Z"
   },
   {
    "duration": 607,
    "start_time": "2022-11-08T09:01:03.471Z"
   },
   {
    "duration": 153,
    "start_time": "2022-11-08T09:01:04.080Z"
   },
   {
    "duration": 35,
    "start_time": "2022-11-08T09:01:04.235Z"
   },
   {
    "duration": 15,
    "start_time": "2022-11-08T09:01:04.272Z"
   },
   {
    "duration": 229,
    "start_time": "2022-11-08T09:01:04.289Z"
   },
   {
    "duration": 414,
    "start_time": "2022-11-08T09:01:04.520Z"
   },
   {
    "duration": 5,
    "start_time": "2022-11-08T09:01:04.936Z"
   },
   {
    "duration": 186,
    "start_time": "2022-11-08T09:01:04.943Z"
   },
   {
    "duration": 162,
    "start_time": "2022-11-08T09:01:05.130Z"
   },
   {
    "duration": 149,
    "start_time": "2022-11-08T09:01:05.294Z"
   },
   {
    "duration": 34,
    "start_time": "2022-11-08T09:01:05.446Z"
   },
   {
    "duration": 3,
    "start_time": "2022-11-08T09:01:05.481Z"
   },
   {
    "duration": 109,
    "start_time": "2022-11-08T09:13:01.360Z"
   },
   {
    "duration": 11,
    "start_time": "2022-11-08T09:15:15.008Z"
   },
   {
    "duration": 16,
    "start_time": "2022-11-08T09:16:33.790Z"
   },
   {
    "duration": 11,
    "start_time": "2022-11-08T09:17:06.317Z"
   },
   {
    "duration": 940,
    "start_time": "2022-11-08T09:17:14.426Z"
   },
   {
    "duration": 823,
    "start_time": "2022-11-08T09:17:25.290Z"
   },
   {
    "duration": 12,
    "start_time": "2022-11-08T09:17:41.896Z"
   },
   {
    "duration": 16,
    "start_time": "2022-11-08T09:18:06.141Z"
   },
   {
    "duration": 11,
    "start_time": "2022-11-08T09:18:46.539Z"
   },
   {
    "duration": 288,
    "start_time": "2022-11-08T09:19:13.927Z"
   },
   {
    "duration": 380,
    "start_time": "2022-11-08T09:19:30.456Z"
   },
   {
    "duration": 2079,
    "start_time": "2022-11-08T09:19:47.239Z"
   },
   {
    "duration": 2173,
    "start_time": "2022-11-08T09:19:49.320Z"
   },
   {
    "duration": 775,
    "start_time": "2022-11-08T09:19:51.495Z"
   },
   {
    "duration": 3,
    "start_time": "2022-11-08T09:19:52.272Z"
   },
   {
    "duration": 154,
    "start_time": "2022-11-08T09:19:52.277Z"
   },
   {
    "duration": 92,
    "start_time": "2022-11-08T09:19:52.432Z"
   },
   {
    "duration": 6,
    "start_time": "2022-11-08T09:19:52.532Z"
   },
   {
    "duration": 283,
    "start_time": "2022-11-08T09:19:52.539Z"
   },
   {
    "duration": 1231,
    "start_time": "2022-11-08T09:19:52.824Z"
   },
   {
    "duration": 17,
    "start_time": "2022-11-08T09:19:54.058Z"
   },
   {
    "duration": 38,
    "start_time": "2022-11-08T09:19:54.077Z"
   },
   {
    "duration": 24,
    "start_time": "2022-11-08T09:19:54.132Z"
   },
   {
    "duration": 133,
    "start_time": "2022-11-08T09:19:54.158Z"
   },
   {
    "duration": 7672,
    "start_time": "2022-11-08T09:19:54.293Z"
   },
   {
    "duration": 16,
    "start_time": "2022-11-08T09:20:01.967Z"
   },
   {
    "duration": 1274,
    "start_time": "2022-11-08T09:20:01.984Z"
   },
   {
    "duration": 279,
    "start_time": "2022-11-08T09:20:03.260Z"
   },
   {
    "duration": 562,
    "start_time": "2022-11-08T09:20:03.541Z"
   },
   {
    "duration": 161,
    "start_time": "2022-11-08T09:20:04.105Z"
   },
   {
    "duration": 36,
    "start_time": "2022-11-08T09:20:04.268Z"
   },
   {
    "duration": 29,
    "start_time": "2022-11-08T09:20:04.306Z"
   },
   {
    "duration": 216,
    "start_time": "2022-11-08T09:20:04.337Z"
   },
   {
    "duration": 401,
    "start_time": "2022-11-08T09:20:04.554Z"
   },
   {
    "duration": 4,
    "start_time": "2022-11-08T09:20:04.957Z"
   },
   {
    "duration": 186,
    "start_time": "2022-11-08T09:20:04.963Z"
   },
   {
    "duration": 184,
    "start_time": "2022-11-08T09:20:05.151Z"
   },
   {
    "duration": 154,
    "start_time": "2022-11-08T09:20:05.336Z"
   },
   {
    "duration": 399,
    "start_time": "2022-11-08T09:20:05.494Z"
   },
   {
    "duration": 10,
    "start_time": "2022-11-08T09:20:05.895Z"
   },
   {
    "duration": 2,
    "start_time": "2022-11-08T09:20:05.907Z"
   },
   {
    "duration": 2058,
    "start_time": "2022-11-08T09:20:33.418Z"
   },
   {
    "duration": 1427,
    "start_time": "2022-11-08T09:20:35.478Z"
   },
   {
    "duration": 1273,
    "start_time": "2022-11-08T09:20:36.906Z"
   },
   {
    "duration": 3,
    "start_time": "2022-11-08T09:20:38.234Z"
   },
   {
    "duration": 235,
    "start_time": "2022-11-08T09:20:38.239Z"
   },
   {
    "duration": 196,
    "start_time": "2022-11-08T09:20:38.476Z"
   },
   {
    "duration": 61,
    "start_time": "2022-11-08T09:20:38.674Z"
   },
   {
    "duration": 371,
    "start_time": "2022-11-08T09:20:38.736Z"
   },
   {
    "duration": 1245,
    "start_time": "2022-11-08T09:20:39.109Z"
   },
   {
    "duration": 17,
    "start_time": "2022-11-08T09:20:40.356Z"
   },
   {
    "duration": 45,
    "start_time": "2022-11-08T09:20:40.374Z"
   },
   {
    "duration": 30,
    "start_time": "2022-11-08T09:20:40.421Z"
   },
   {
    "duration": 108,
    "start_time": "2022-11-08T09:20:40.453Z"
   },
   {
    "duration": 8618,
    "start_time": "2022-11-08T09:20:40.562Z"
   },
   {
    "duration": 16,
    "start_time": "2022-11-08T09:20:49.182Z"
   },
   {
    "duration": 1253,
    "start_time": "2022-11-08T09:20:49.200Z"
   },
   {
    "duration": 327,
    "start_time": "2022-11-08T09:20:50.455Z"
   },
   {
    "duration": 574,
    "start_time": "2022-11-08T09:20:50.784Z"
   },
   {
    "duration": 155,
    "start_time": "2022-11-08T09:20:51.360Z"
   },
   {
    "duration": 42,
    "start_time": "2022-11-08T09:20:51.516Z"
   },
   {
    "duration": 16,
    "start_time": "2022-11-08T09:20:51.560Z"
   },
   {
    "duration": 216,
    "start_time": "2022-11-08T09:20:51.578Z"
   },
   {
    "duration": 394,
    "start_time": "2022-11-08T09:20:51.796Z"
   },
   {
    "duration": 4,
    "start_time": "2022-11-08T09:20:52.192Z"
   },
   {
    "duration": 190,
    "start_time": "2022-11-08T09:20:52.197Z"
   },
   {
    "duration": 165,
    "start_time": "2022-11-08T09:20:52.388Z"
   },
   {
    "duration": 159,
    "start_time": "2022-11-08T09:20:52.555Z"
   },
   {
    "duration": 474,
    "start_time": "2022-11-08T09:20:52.718Z"
   },
   {
    "duration": 29,
    "start_time": "2022-11-08T09:20:53.193Z"
   },
   {
    "duration": 2,
    "start_time": "2022-11-08T09:20:53.232Z"
   },
   {
    "duration": 2055,
    "start_time": "2022-11-08T09:21:36.704Z"
   },
   {
    "duration": 1316,
    "start_time": "2022-11-08T09:21:38.761Z"
   },
   {
    "duration": 798,
    "start_time": "2022-11-08T09:21:40.078Z"
   },
   {
    "duration": 4,
    "start_time": "2022-11-08T09:21:40.877Z"
   },
   {
    "duration": 149,
    "start_time": "2022-11-08T09:21:40.883Z"
   },
   {
    "duration": 100,
    "start_time": "2022-11-08T09:21:41.034Z"
   },
   {
    "duration": 6,
    "start_time": "2022-11-08T09:21:41.135Z"
   },
   {
    "duration": 272,
    "start_time": "2022-11-08T09:21:41.142Z"
   },
   {
    "duration": 1225,
    "start_time": "2022-11-08T09:21:41.416Z"
   },
   {
    "duration": 18,
    "start_time": "2022-11-08T09:21:42.642Z"
   },
   {
    "duration": 54,
    "start_time": "2022-11-08T09:21:42.661Z"
   },
   {
    "duration": 30,
    "start_time": "2022-11-08T09:21:42.716Z"
   },
   {
    "duration": 99,
    "start_time": "2022-11-08T09:21:42.747Z"
   },
   {
    "duration": 7519,
    "start_time": "2022-11-08T09:21:42.849Z"
   },
   {
    "duration": 17,
    "start_time": "2022-11-08T09:21:50.370Z"
   },
   {
    "duration": 1256,
    "start_time": "2022-11-08T09:21:50.389Z"
   },
   {
    "duration": 275,
    "start_time": "2022-11-08T09:21:51.646Z"
   },
   {
    "duration": 536,
    "start_time": "2022-11-08T09:21:51.922Z"
   },
   {
    "duration": 156,
    "start_time": "2022-11-08T09:21:52.460Z"
   },
   {
    "duration": 37,
    "start_time": "2022-11-08T09:21:52.618Z"
   },
   {
    "duration": 17,
    "start_time": "2022-11-08T09:21:52.656Z"
   },
   {
    "duration": 227,
    "start_time": "2022-11-08T09:21:52.675Z"
   },
   {
    "duration": 384,
    "start_time": "2022-11-08T09:21:52.903Z"
   },
   {
    "duration": 4,
    "start_time": "2022-11-08T09:21:53.289Z"
   },
   {
    "duration": 186,
    "start_time": "2022-11-08T09:21:53.295Z"
   },
   {
    "duration": 168,
    "start_time": "2022-11-08T09:21:53.482Z"
   },
   {
    "duration": 146,
    "start_time": "2022-11-08T09:21:53.652Z"
   },
   {
    "duration": 381,
    "start_time": "2022-11-08T09:21:53.800Z"
   },
   {
    "duration": 27,
    "start_time": "2022-11-08T09:21:54.183Z"
   },
   {
    "duration": 3,
    "start_time": "2022-11-08T09:21:54.211Z"
   },
   {
    "duration": 16,
    "start_time": "2022-11-08T09:29:23.879Z"
   },
   {
    "duration": 6,
    "start_time": "2022-11-08T09:29:51.618Z"
   },
   {
    "duration": 6,
    "start_time": "2022-11-08T09:30:06.933Z"
   },
   {
    "duration": 5,
    "start_time": "2022-11-08T09:33:26.190Z"
   },
   {
    "duration": 32,
    "start_time": "2022-11-08T09:37:18.126Z"
   },
   {
    "duration": 43,
    "start_time": "2022-11-08T09:41:57.315Z"
   },
   {
    "duration": 22,
    "start_time": "2022-11-08T09:53:17.278Z"
   },
   {
    "duration": 1047,
    "start_time": "2022-11-08T09:53:41.855Z"
   },
   {
    "duration": 933,
    "start_time": "2022-11-08T09:55:17.308Z"
   },
   {
    "duration": 1035,
    "start_time": "2022-11-08T09:55:27.716Z"
   },
   {
    "duration": 412,
    "start_time": "2022-11-08T09:57:25.867Z"
   },
   {
    "duration": 378,
    "start_time": "2022-11-08T09:58:30.060Z"
   },
   {
    "duration": 370,
    "start_time": "2022-11-08T10:00:33.352Z"
   },
   {
    "duration": 2612,
    "start_time": "2022-11-08T10:01:25.554Z"
   },
   {
    "duration": 1511,
    "start_time": "2022-11-08T10:01:28.170Z"
   },
   {
    "duration": 968,
    "start_time": "2022-11-08T10:01:29.683Z"
   },
   {
    "duration": 5,
    "start_time": "2022-11-08T10:01:30.653Z"
   },
   {
    "duration": 204,
    "start_time": "2022-11-08T10:01:30.660Z"
   },
   {
    "duration": 116,
    "start_time": "2022-11-08T10:01:30.866Z"
   },
   {
    "duration": 8,
    "start_time": "2022-11-08T10:01:30.984Z"
   },
   {
    "duration": 445,
    "start_time": "2022-11-08T10:01:30.994Z"
   },
   {
    "duration": 2329,
    "start_time": "2022-11-08T10:01:31.440Z"
   },
   {
    "duration": 29,
    "start_time": "2022-11-08T10:01:33.771Z"
   },
   {
    "duration": 48,
    "start_time": "2022-11-08T10:01:33.802Z"
   },
   {
    "duration": 42,
    "start_time": "2022-11-08T10:01:33.852Z"
   },
   {
    "duration": 101,
    "start_time": "2022-11-08T10:01:33.896Z"
   },
   {
    "duration": 7206,
    "start_time": "2022-11-08T10:01:34.001Z"
   },
   {
    "duration": 25,
    "start_time": "2022-11-08T10:01:41.209Z"
   },
   {
    "duration": 1297,
    "start_time": "2022-11-08T10:01:41.236Z"
   },
   {
    "duration": 300,
    "start_time": "2022-11-08T10:01:42.534Z"
   },
   {
    "duration": 611,
    "start_time": "2022-11-08T10:01:42.836Z"
   },
   {
    "duration": 161,
    "start_time": "2022-11-08T10:01:43.449Z"
   },
   {
    "duration": 46,
    "start_time": "2022-11-08T10:01:43.612Z"
   },
   {
    "duration": 17,
    "start_time": "2022-11-08T10:01:43.660Z"
   },
   {
    "duration": 233,
    "start_time": "2022-11-08T10:01:43.679Z"
   },
   {
    "duration": 424,
    "start_time": "2022-11-08T10:01:43.914Z"
   },
   {
    "duration": 4,
    "start_time": "2022-11-08T10:01:44.341Z"
   },
   {
    "duration": 201,
    "start_time": "2022-11-08T10:01:44.347Z"
   },
   {
    "duration": 185,
    "start_time": "2022-11-08T10:01:44.551Z"
   },
   {
    "duration": 160,
    "start_time": "2022-11-08T10:01:44.738Z"
   },
   {
    "duration": 420,
    "start_time": "2022-11-08T10:01:44.900Z"
   },
   {
    "duration": 35,
    "start_time": "2022-11-08T10:01:45.322Z"
   },
   {
    "duration": 16,
    "start_time": "2022-11-08T10:01:45.359Z"
   },
   {
    "duration": 10,
    "start_time": "2022-11-08T10:01:45.377Z"
   },
   {
    "duration": 8,
    "start_time": "2022-11-08T10:01:45.389Z"
   },
   {
    "duration": 1112,
    "start_time": "2022-11-08T10:01:45.399Z"
   },
   {
    "duration": 421,
    "start_time": "2022-11-08T10:01:46.513Z"
   },
   {
    "duration": 3,
    "start_time": "2022-11-08T10:01:46.936Z"
   },
   {
    "duration": 451,
    "start_time": "2022-11-08T10:06:52.616Z"
   },
   {
    "duration": 12,
    "start_time": "2022-11-08T10:07:47.734Z"
   },
   {
    "duration": 13,
    "start_time": "2022-11-08T10:07:53.636Z"
   },
   {
    "duration": 14,
    "start_time": "2022-11-08T10:08:33.317Z"
   },
   {
    "duration": 174,
    "start_time": "2022-11-08T10:09:10.637Z"
   },
   {
    "duration": 177,
    "start_time": "2022-11-08T10:09:49.830Z"
   },
   {
    "duration": 16,
    "start_time": "2022-11-08T10:13:12.458Z"
   },
   {
    "duration": 131,
    "start_time": "2022-11-08T10:13:50.185Z"
   },
   {
    "duration": 9,
    "start_time": "2022-11-08T10:15:42.300Z"
   },
   {
    "duration": 36,
    "start_time": "2022-11-08T10:20:09.637Z"
   },
   {
    "duration": 24,
    "start_time": "2022-11-08T10:20:26.994Z"
   },
   {
    "duration": 152,
    "start_time": "2022-11-08T10:22:15.044Z"
   },
   {
    "duration": 44,
    "start_time": "2022-11-08T10:24:17.563Z"
   },
   {
    "duration": 45,
    "start_time": "2022-11-08T10:25:20.319Z"
   },
   {
    "duration": 43,
    "start_time": "2022-11-08T10:26:29.218Z"
   },
   {
    "duration": 42,
    "start_time": "2022-11-08T10:27:04.487Z"
   },
   {
    "duration": 18,
    "start_time": "2022-11-08T10:29:02.217Z"
   },
   {
    "duration": 41,
    "start_time": "2022-11-08T10:30:41.389Z"
   },
   {
    "duration": 12984,
    "start_time": "2022-11-08T10:33:14.397Z"
   },
   {
    "duration": 2110,
    "start_time": "2022-11-08T10:33:32.284Z"
   },
   {
    "duration": 2141,
    "start_time": "2022-11-08T10:33:34.397Z"
   },
   {
    "duration": 793,
    "start_time": "2022-11-08T10:33:36.539Z"
   },
   {
    "duration": 3,
    "start_time": "2022-11-08T10:33:37.334Z"
   },
   {
    "duration": 140,
    "start_time": "2022-11-08T10:33:37.339Z"
   },
   {
    "duration": 97,
    "start_time": "2022-11-08T10:33:37.481Z"
   },
   {
    "duration": 6,
    "start_time": "2022-11-08T10:33:37.579Z"
   },
   {
    "duration": 280,
    "start_time": "2022-11-08T10:33:37.586Z"
   },
   {
    "duration": 1194,
    "start_time": "2022-11-08T10:33:37.867Z"
   },
   {
    "duration": 18,
    "start_time": "2022-11-08T10:33:39.063Z"
   },
   {
    "duration": 51,
    "start_time": "2022-11-08T10:33:39.083Z"
   },
   {
    "duration": 24,
    "start_time": "2022-11-08T10:33:39.136Z"
   },
   {
    "duration": 112,
    "start_time": "2022-11-08T10:33:39.162Z"
   },
   {
    "duration": 7545,
    "start_time": "2022-11-08T10:33:39.278Z"
   },
   {
    "duration": 17,
    "start_time": "2022-11-08T10:33:46.824Z"
   },
   {
    "duration": 1225,
    "start_time": "2022-11-08T10:33:46.842Z"
   },
   {
    "duration": 306,
    "start_time": "2022-11-08T10:33:48.069Z"
   },
   {
    "duration": 564,
    "start_time": "2022-11-08T10:33:48.377Z"
   },
   {
    "duration": 152,
    "start_time": "2022-11-08T10:33:48.942Z"
   },
   {
    "duration": 45,
    "start_time": "2022-11-08T10:33:49.096Z"
   },
   {
    "duration": 16,
    "start_time": "2022-11-08T10:33:49.143Z"
   },
   {
    "duration": 240,
    "start_time": "2022-11-08T10:33:49.161Z"
   },
   {
    "duration": 396,
    "start_time": "2022-11-08T10:33:49.403Z"
   },
   {
    "duration": 5,
    "start_time": "2022-11-08T10:33:49.800Z"
   },
   {
    "duration": 186,
    "start_time": "2022-11-08T10:33:49.807Z"
   },
   {
    "duration": 174,
    "start_time": "2022-11-08T10:33:49.994Z"
   },
   {
    "duration": 151,
    "start_time": "2022-11-08T10:33:50.170Z"
   },
   {
    "duration": 402,
    "start_time": "2022-11-08T10:33:50.323Z"
   },
   {
    "duration": 33,
    "start_time": "2022-11-08T10:33:50.732Z"
   },
   {
    "duration": 14,
    "start_time": "2022-11-08T10:33:50.766Z"
   },
   {
    "duration": 20,
    "start_time": "2022-11-08T10:33:50.782Z"
   },
   {
    "duration": 9,
    "start_time": "2022-11-08T10:33:50.804Z"
   },
   {
    "duration": 1624,
    "start_time": "2022-11-08T10:33:50.814Z"
   },
   {
    "duration": 647,
    "start_time": "2022-11-08T10:33:52.439Z"
   },
   {
    "duration": 12,
    "start_time": "2022-11-08T10:33:53.088Z"
   },
   {
    "duration": 171,
    "start_time": "2022-11-08T10:33:53.102Z"
   },
   {
    "duration": 15,
    "start_time": "2022-11-08T10:33:53.275Z"
   },
   {
    "duration": 132,
    "start_time": "2022-11-08T10:33:53.291Z"
   },
   {
    "duration": 13261,
    "start_time": "2022-11-08T10:33:53.425Z"
   },
   {
    "duration": 19,
    "start_time": "2022-11-08T10:34:06.688Z"
   },
   {
    "duration": 51,
    "start_time": "2022-11-08T10:34:06.711Z"
   },
   {
    "duration": 2,
    "start_time": "2022-11-08T10:34:06.764Z"
   },
   {
    "duration": 2140,
    "start_time": "2022-11-08T10:34:35.691Z"
   },
   {
    "duration": 2014,
    "start_time": "2022-11-08T10:34:37.834Z"
   },
   {
    "duration": 917,
    "start_time": "2022-11-08T10:34:39.849Z"
   },
   {
    "duration": 5,
    "start_time": "2022-11-08T10:34:40.769Z"
   },
   {
    "duration": 147,
    "start_time": "2022-11-08T10:34:40.776Z"
   },
   {
    "duration": 94,
    "start_time": "2022-11-08T10:34:40.925Z"
   },
   {
    "duration": 16,
    "start_time": "2022-11-08T10:34:41.020Z"
   },
   {
    "duration": 281,
    "start_time": "2022-11-08T10:34:41.038Z"
   },
   {
    "duration": 1221,
    "start_time": "2022-11-08T10:34:41.321Z"
   },
   {
    "duration": 17,
    "start_time": "2022-11-08T10:34:42.544Z"
   },
   {
    "duration": 32,
    "start_time": "2022-11-08T10:34:42.563Z"
   },
   {
    "duration": 39,
    "start_time": "2022-11-08T10:34:42.596Z"
   },
   {
    "duration": 99,
    "start_time": "2022-11-08T10:34:42.637Z"
   },
   {
    "duration": 6647,
    "start_time": "2022-11-08T10:34:42.738Z"
   },
   {
    "duration": 17,
    "start_time": "2022-11-08T10:34:49.386Z"
   },
   {
    "duration": 1172,
    "start_time": "2022-11-08T10:34:49.405Z"
   },
   {
    "duration": 318,
    "start_time": "2022-11-08T10:34:50.578Z"
   },
   {
    "duration": 583,
    "start_time": "2022-11-08T10:34:50.898Z"
   },
   {
    "duration": 155,
    "start_time": "2022-11-08T10:34:51.483Z"
   },
   {
    "duration": 36,
    "start_time": "2022-11-08T10:34:51.640Z"
   },
   {
    "duration": 17,
    "start_time": "2022-11-08T10:34:51.677Z"
   },
   {
    "duration": 234,
    "start_time": "2022-11-08T10:34:51.696Z"
   },
   {
    "duration": 389,
    "start_time": "2022-11-08T10:34:51.933Z"
   },
   {
    "duration": 4,
    "start_time": "2022-11-08T10:34:52.324Z"
   },
   {
    "duration": 192,
    "start_time": "2022-11-08T10:34:52.332Z"
   },
   {
    "duration": 178,
    "start_time": "2022-11-08T10:34:52.526Z"
   },
   {
    "duration": 162,
    "start_time": "2022-11-08T10:34:52.706Z"
   },
   {
    "duration": 400,
    "start_time": "2022-11-08T10:34:52.872Z"
   },
   {
    "duration": 33,
    "start_time": "2022-11-08T10:34:53.274Z"
   },
   {
    "duration": 33,
    "start_time": "2022-11-08T10:34:53.309Z"
   },
   {
    "duration": 7,
    "start_time": "2022-11-08T10:34:53.344Z"
   },
   {
    "duration": 9,
    "start_time": "2022-11-08T10:34:53.353Z"
   },
   {
    "duration": 1070,
    "start_time": "2022-11-08T10:34:53.364Z"
   },
   {
    "duration": 391,
    "start_time": "2022-11-08T10:34:54.436Z"
   },
   {
    "duration": 14,
    "start_time": "2022-11-08T10:34:54.829Z"
   },
   {
    "duration": 167,
    "start_time": "2022-11-08T10:34:54.844Z"
   },
   {
    "duration": 20,
    "start_time": "2022-11-08T10:34:55.013Z"
   },
   {
    "duration": 124,
    "start_time": "2022-11-08T10:34:55.035Z"
   },
   {
    "duration": 13747,
    "start_time": "2022-11-08T10:34:55.161Z"
   },
   {
    "duration": 24,
    "start_time": "2022-11-08T10:35:08.910Z"
   },
   {
    "duration": 45,
    "start_time": "2022-11-08T10:35:08.939Z"
   },
   {
    "duration": 2,
    "start_time": "2022-11-08T10:35:08.986Z"
   },
   {
    "duration": 12,
    "start_time": "2022-11-08T10:38:57.888Z"
   },
   {
    "duration": 883,
    "start_time": "2022-11-08T10:46:21.911Z"
   },
   {
    "duration": 13,
    "start_time": "2022-11-08T10:46:37.151Z"
   },
   {
    "duration": 4,
    "start_time": "2022-11-08T10:47:05.371Z"
   },
   {
    "duration": 74,
    "start_time": "2022-11-08T10:47:13.009Z"
   },
   {
    "duration": 2289,
    "start_time": "2022-11-08T10:48:18.814Z"
   },
   {
    "duration": 1404,
    "start_time": "2022-11-08T10:48:21.105Z"
   },
   {
    "duration": 908,
    "start_time": "2022-11-08T10:48:22.510Z"
   },
   {
    "duration": 4,
    "start_time": "2022-11-08T10:48:23.419Z"
   },
   {
    "duration": 166,
    "start_time": "2022-11-08T10:48:23.434Z"
   },
   {
    "duration": 121,
    "start_time": "2022-11-08T10:48:23.602Z"
   },
   {
    "duration": 14,
    "start_time": "2022-11-08T10:48:23.725Z"
   },
   {
    "duration": 287,
    "start_time": "2022-11-08T10:48:23.744Z"
   },
   {
    "duration": 1358,
    "start_time": "2022-11-08T10:48:24.033Z"
   },
   {
    "duration": 60,
    "start_time": "2022-11-08T10:48:25.392Z"
   },
   {
    "duration": 35,
    "start_time": "2022-11-08T10:48:25.454Z"
   },
   {
    "duration": 23,
    "start_time": "2022-11-08T10:48:25.491Z"
   },
   {
    "duration": 127,
    "start_time": "2022-11-08T10:48:25.532Z"
   },
   {
    "duration": 11848,
    "start_time": "2022-11-08T10:48:25.662Z"
   },
   {
    "duration": 23,
    "start_time": "2022-11-08T10:48:37.511Z"
   },
   {
    "duration": 1221,
    "start_time": "2022-11-08T10:48:37.537Z"
   },
   {
    "duration": 267,
    "start_time": "2022-11-08T10:48:38.760Z"
   },
   {
    "duration": 637,
    "start_time": "2022-11-08T10:48:39.033Z"
   },
   {
    "duration": 166,
    "start_time": "2022-11-08T10:48:39.672Z"
   },
   {
    "duration": 40,
    "start_time": "2022-11-08T10:48:39.841Z"
   },
   {
    "duration": 16,
    "start_time": "2022-11-08T10:48:39.882Z"
   },
   {
    "duration": 257,
    "start_time": "2022-11-08T10:48:39.900Z"
   },
   {
    "duration": 416,
    "start_time": "2022-11-08T10:48:40.159Z"
   },
   {
    "duration": 4,
    "start_time": "2022-11-08T10:48:40.577Z"
   },
   {
    "duration": 213,
    "start_time": "2022-11-08T10:48:40.583Z"
   },
   {
    "duration": 188,
    "start_time": "2022-11-08T10:48:40.798Z"
   },
   {
    "duration": 179,
    "start_time": "2022-11-08T10:48:40.987Z"
   },
   {
    "duration": 458,
    "start_time": "2022-11-08T10:48:41.168Z"
   },
   {
    "duration": 37,
    "start_time": "2022-11-08T10:48:41.627Z"
   },
   {
    "duration": 15,
    "start_time": "2022-11-08T10:48:41.665Z"
   },
   {
    "duration": 8,
    "start_time": "2022-11-08T10:48:41.681Z"
   },
   {
    "duration": 6,
    "start_time": "2022-11-08T10:48:41.690Z"
   },
   {
    "duration": 1172,
    "start_time": "2022-11-08T10:48:41.697Z"
   },
   {
    "duration": 414,
    "start_time": "2022-11-08T10:48:42.871Z"
   },
   {
    "duration": 13,
    "start_time": "2022-11-08T10:48:43.287Z"
   },
   {
    "duration": 188,
    "start_time": "2022-11-08T10:48:43.301Z"
   },
   {
    "duration": 15,
    "start_time": "2022-11-08T10:48:43.490Z"
   },
   {
    "duration": 149,
    "start_time": "2022-11-08T10:48:43.507Z"
   },
   {
    "duration": 7,
    "start_time": "2022-11-08T10:48:43.657Z"
   },
   {
    "duration": 22,
    "start_time": "2022-11-08T10:48:43.666Z"
   },
   {
    "duration": 62,
    "start_time": "2022-11-08T10:48:43.691Z"
   },
   {
    "duration": 25,
    "start_time": "2022-11-08T10:48:43.755Z"
   },
   {
    "duration": 79,
    "start_time": "2022-11-08T10:48:43.782Z"
   },
   {
    "duration": 3,
    "start_time": "2022-11-08T10:48:43.862Z"
   },
   {
    "duration": 919,
    "start_time": "2022-11-08T10:52:10.239Z"
   },
   {
    "duration": 52,
    "start_time": "2022-11-08T10:52:19.222Z"
   },
   {
    "duration": 81,
    "start_time": "2022-11-08T10:52:46.946Z"
   },
   {
    "duration": 79,
    "start_time": "2022-11-08T10:53:10.524Z"
   },
   {
    "duration": 78,
    "start_time": "2022-11-08T10:53:46.001Z"
   },
   {
    "duration": 53,
    "start_time": "2022-11-08T10:54:08.314Z"
   },
   {
    "duration": 52,
    "start_time": "2022-11-08T10:54:23.650Z"
   },
   {
    "duration": 823,
    "start_time": "2022-11-08T10:55:11.421Z"
   },
   {
    "duration": 2414,
    "start_time": "2022-11-08T10:56:41.762Z"
   },
   {
    "duration": 1692,
    "start_time": "2022-11-08T10:56:44.178Z"
   },
   {
    "duration": 1288,
    "start_time": "2022-11-08T10:56:45.872Z"
   },
   {
    "duration": 3,
    "start_time": "2022-11-08T10:56:47.162Z"
   },
   {
    "duration": 279,
    "start_time": "2022-11-08T10:56:47.167Z"
   },
   {
    "duration": 286,
    "start_time": "2022-11-08T10:56:47.448Z"
   },
   {
    "duration": 9,
    "start_time": "2022-11-08T10:56:47.736Z"
   },
   {
    "duration": 474,
    "start_time": "2022-11-08T10:56:47.747Z"
   },
   {
    "duration": 1442,
    "start_time": "2022-11-08T10:56:48.222Z"
   },
   {
    "duration": 67,
    "start_time": "2022-11-08T10:56:49.666Z"
   },
   {
    "duration": 31,
    "start_time": "2022-11-08T10:56:49.735Z"
   },
   {
    "duration": 72,
    "start_time": "2022-11-08T10:56:49.768Z"
   },
   {
    "duration": 199,
    "start_time": "2022-11-08T10:56:49.842Z"
   },
   {
    "duration": 8874,
    "start_time": "2022-11-08T10:56:50.044Z"
   },
   {
    "duration": 16,
    "start_time": "2022-11-08T10:56:58.920Z"
   },
   {
    "duration": 1217,
    "start_time": "2022-11-08T10:56:58.938Z"
   },
   {
    "duration": 265,
    "start_time": "2022-11-08T10:57:00.157Z"
   },
   {
    "duration": 590,
    "start_time": "2022-11-08T10:57:00.423Z"
   },
   {
    "duration": 165,
    "start_time": "2022-11-08T10:57:01.015Z"
   },
   {
    "duration": 51,
    "start_time": "2022-11-08T10:57:01.182Z"
   },
   {
    "duration": 16,
    "start_time": "2022-11-08T10:57:01.235Z"
   },
   {
    "duration": 232,
    "start_time": "2022-11-08T10:57:01.252Z"
   },
   {
    "duration": 381,
    "start_time": "2022-11-08T10:57:01.486Z"
   },
   {
    "duration": 4,
    "start_time": "2022-11-08T10:57:01.869Z"
   },
   {
    "duration": 210,
    "start_time": "2022-11-08T10:57:01.874Z"
   },
   {
    "duration": 172,
    "start_time": "2022-11-08T10:57:02.087Z"
   },
   {
    "duration": 157,
    "start_time": "2022-11-08T10:57:02.261Z"
   },
   {
    "duration": 523,
    "start_time": "2022-11-08T10:57:02.420Z"
   },
   {
    "duration": 34,
    "start_time": "2022-11-08T10:57:02.945Z"
   },
   {
    "duration": 15,
    "start_time": "2022-11-08T10:57:03.038Z"
   },
   {
    "duration": 27,
    "start_time": "2022-11-08T10:57:03.054Z"
   },
   {
    "duration": 50,
    "start_time": "2022-11-08T10:57:03.083Z"
   },
   {
    "duration": 1711,
    "start_time": "2022-11-08T10:57:03.134Z"
   },
   {
    "duration": 406,
    "start_time": "2022-11-08T10:57:04.846Z"
   },
   {
    "duration": 13,
    "start_time": "2022-11-08T10:57:05.254Z"
   },
   {
    "duration": 185,
    "start_time": "2022-11-08T10:57:05.269Z"
   },
   {
    "duration": 15,
    "start_time": "2022-11-08T10:57:05.455Z"
   },
   {
    "duration": 129,
    "start_time": "2022-11-08T10:57:05.472Z"
   },
   {
    "duration": 8,
    "start_time": "2022-11-08T10:57:05.603Z"
   },
   {
    "duration": 26,
    "start_time": "2022-11-08T10:57:05.613Z"
   },
   {
    "duration": 40,
    "start_time": "2022-11-08T10:57:05.642Z"
   },
   {
    "duration": 26,
    "start_time": "2022-11-08T10:57:05.684Z"
   },
   {
    "duration": 567,
    "start_time": "2022-11-08T10:57:05.712Z"
   },
   {
    "duration": 66,
    "start_time": "2022-11-08T10:57:06.281Z"
   },
   {
    "duration": 3,
    "start_time": "2022-11-08T10:57:06.349Z"
   },
   {
    "duration": 14,
    "start_time": "2022-11-08T10:57:51.516Z"
   },
   {
    "duration": 108,
    "start_time": "2022-11-08T10:58:45.831Z"
   },
   {
    "duration": 5,
    "start_time": "2022-11-08T10:59:53.233Z"
   },
   {
    "duration": 2374,
    "start_time": "2022-11-08T10:59:59.597Z"
   },
   {
    "duration": 1421,
    "start_time": "2022-11-08T11:00:01.973Z"
   },
   {
    "duration": 871,
    "start_time": "2022-11-08T11:00:03.396Z"
   },
   {
    "duration": 3,
    "start_time": "2022-11-08T11:00:04.270Z"
   },
   {
    "duration": 160,
    "start_time": "2022-11-08T11:00:04.275Z"
   },
   {
    "duration": 108,
    "start_time": "2022-11-08T11:00:04.437Z"
   },
   {
    "duration": 7,
    "start_time": "2022-11-08T11:00:04.547Z"
   },
   {
    "duration": 296,
    "start_time": "2022-11-08T11:00:04.555Z"
   },
   {
    "duration": 1384,
    "start_time": "2022-11-08T11:00:04.853Z"
   },
   {
    "duration": 17,
    "start_time": "2022-11-08T11:00:06.240Z"
   },
   {
    "duration": 36,
    "start_time": "2022-11-08T11:00:06.259Z"
   },
   {
    "duration": 42,
    "start_time": "2022-11-08T11:00:06.297Z"
   },
   {
    "duration": 123,
    "start_time": "2022-11-08T11:00:06.341Z"
   },
   {
    "duration": 7668,
    "start_time": "2022-11-08T11:00:06.466Z"
   },
   {
    "duration": 17,
    "start_time": "2022-11-08T11:00:14.136Z"
   },
   {
    "duration": 1208,
    "start_time": "2022-11-08T11:00:14.154Z"
   },
   {
    "duration": 289,
    "start_time": "2022-11-08T11:00:15.363Z"
   },
   {
    "duration": 594,
    "start_time": "2022-11-08T11:00:15.654Z"
   },
   {
    "duration": 194,
    "start_time": "2022-11-08T11:00:16.250Z"
   },
   {
    "duration": 44,
    "start_time": "2022-11-08T11:00:16.445Z"
   },
   {
    "duration": 21,
    "start_time": "2022-11-08T11:00:16.491Z"
   },
   {
    "duration": 242,
    "start_time": "2022-11-08T11:00:16.533Z"
   },
   {
    "duration": 404,
    "start_time": "2022-11-08T11:00:16.777Z"
   },
   {
    "duration": 5,
    "start_time": "2022-11-08T11:00:17.183Z"
   },
   {
    "duration": 182,
    "start_time": "2022-11-08T11:00:17.190Z"
   },
   {
    "duration": 164,
    "start_time": "2022-11-08T11:00:17.374Z"
   },
   {
    "duration": 150,
    "start_time": "2022-11-08T11:00:17.540Z"
   },
   {
    "duration": 414,
    "start_time": "2022-11-08T11:00:17.693Z"
   },
   {
    "duration": 34,
    "start_time": "2022-11-08T11:00:18.108Z"
   },
   {
    "duration": 14,
    "start_time": "2022-11-08T11:00:18.143Z"
   },
   {
    "duration": 7,
    "start_time": "2022-11-08T11:00:18.158Z"
   },
   {
    "duration": 7,
    "start_time": "2022-11-08T11:00:18.166Z"
   },
   {
    "duration": 1046,
    "start_time": "2022-11-08T11:00:18.174Z"
   },
   {
    "duration": 395,
    "start_time": "2022-11-08T11:00:19.222Z"
   },
   {
    "duration": 22,
    "start_time": "2022-11-08T11:00:19.619Z"
   },
   {
    "duration": 167,
    "start_time": "2022-11-08T11:00:19.643Z"
   },
   {
    "duration": 22,
    "start_time": "2022-11-08T11:00:19.812Z"
   },
   {
    "duration": 128,
    "start_time": "2022-11-08T11:00:19.836Z"
   },
   {
    "duration": 7,
    "start_time": "2022-11-08T11:00:19.966Z"
   },
   {
    "duration": 17,
    "start_time": "2022-11-08T11:00:19.975Z"
   },
   {
    "duration": 61,
    "start_time": "2022-11-08T11:00:19.993Z"
   },
   {
    "duration": 22,
    "start_time": "2022-11-08T11:00:20.056Z"
   },
   {
    "duration": 578,
    "start_time": "2022-11-08T11:00:20.080Z"
   },
   {
    "duration": 122,
    "start_time": "2022-11-08T11:00:20.660Z"
   },
   {
    "duration": 3,
    "start_time": "2022-11-08T11:00:20.784Z"
   },
   {
    "duration": 11,
    "start_time": "2022-11-08T11:00:20.789Z"
   },
   {
    "duration": 119509,
    "start_time": "2022-11-08T11:03:33.866Z"
   },
   {
    "duration": 14,
    "start_time": "2022-11-08T11:06:17.769Z"
   },
   {
    "duration": 906986,
    "start_time": "2022-11-08T11:06:22.039Z"
   },
   {
    "duration": 2211,
    "start_time": "2022-11-08T11:23:05.150Z"
   },
   {
    "duration": 1303,
    "start_time": "2022-11-08T11:23:07.363Z"
   },
   {
    "duration": 1376,
    "start_time": "2022-11-08T11:23:08.674Z"
   },
   {
    "duration": 4,
    "start_time": "2022-11-08T11:23:10.052Z"
   },
   {
    "duration": 290,
    "start_time": "2022-11-08T11:23:10.058Z"
   },
   {
    "duration": 201,
    "start_time": "2022-11-08T11:23:10.349Z"
   },
   {
    "duration": 6,
    "start_time": "2022-11-08T11:23:10.552Z"
   },
   {
    "duration": 426,
    "start_time": "2022-11-08T11:23:10.560Z"
   },
   {
    "duration": 1377,
    "start_time": "2022-11-08T11:23:10.988Z"
   },
   {
    "duration": 19,
    "start_time": "2022-11-08T11:23:12.368Z"
   },
   {
    "duration": 52,
    "start_time": "2022-11-08T11:23:12.389Z"
   },
   {
    "duration": 24,
    "start_time": "2022-11-08T11:23:12.442Z"
   },
   {
    "duration": 114,
    "start_time": "2022-11-08T11:23:12.468Z"
   },
   {
    "duration": 6733,
    "start_time": "2022-11-08T11:23:12.584Z"
   },
   {
    "duration": 21,
    "start_time": "2022-11-08T11:23:19.318Z"
   },
   {
    "duration": 1296,
    "start_time": "2022-11-08T11:23:19.340Z"
   },
   {
    "duration": 270,
    "start_time": "2022-11-08T11:23:20.638Z"
   },
   {
    "duration": 583,
    "start_time": "2022-11-08T11:23:20.910Z"
   },
   {
    "duration": 157,
    "start_time": "2022-11-08T11:23:21.495Z"
   },
   {
    "duration": 37,
    "start_time": "2022-11-08T11:23:21.654Z"
   },
   {
    "duration": 17,
    "start_time": "2022-11-08T11:23:21.692Z"
   },
   {
    "duration": 248,
    "start_time": "2022-11-08T11:23:21.711Z"
   },
   {
    "duration": 392,
    "start_time": "2022-11-08T11:23:21.961Z"
   },
   {
    "duration": 4,
    "start_time": "2022-11-08T11:23:22.354Z"
   },
   {
    "duration": 187,
    "start_time": "2022-11-08T11:23:22.360Z"
   },
   {
    "duration": 173,
    "start_time": "2022-11-08T11:23:22.548Z"
   },
   {
    "duration": 162,
    "start_time": "2022-11-08T11:23:22.723Z"
   },
   {
    "duration": 399,
    "start_time": "2022-11-08T11:23:22.888Z"
   },
   {
    "duration": 31,
    "start_time": "2022-11-08T11:23:23.289Z"
   },
   {
    "duration": 24,
    "start_time": "2022-11-08T11:23:23.322Z"
   },
   {
    "duration": 10,
    "start_time": "2022-11-08T11:23:23.347Z"
   },
   {
    "duration": 23,
    "start_time": "2022-11-08T11:23:23.358Z"
   },
   {
    "duration": 1182,
    "start_time": "2022-11-08T11:23:23.383Z"
   },
   {
    "duration": 444,
    "start_time": "2022-11-08T11:23:24.567Z"
   },
   {
    "duration": 22,
    "start_time": "2022-11-08T11:23:25.013Z"
   },
   {
    "duration": 164,
    "start_time": "2022-11-08T11:23:25.036Z"
   },
   {
    "duration": 16,
    "start_time": "2022-11-08T11:23:25.202Z"
   },
   {
    "duration": 123,
    "start_time": "2022-11-08T11:23:25.232Z"
   },
   {
    "duration": 7,
    "start_time": "2022-11-08T11:23:25.356Z"
   },
   {
    "duration": 30,
    "start_time": "2022-11-08T11:23:25.364Z"
   },
   {
    "duration": 42,
    "start_time": "2022-11-08T11:23:25.396Z"
   },
   {
    "duration": 25,
    "start_time": "2022-11-08T11:23:25.439Z"
   },
   {
    "duration": 606,
    "start_time": "2022-11-08T11:23:25.466Z"
   },
   {
    "duration": 112,
    "start_time": "2022-11-08T11:23:26.074Z"
   },
   {
    "duration": 26,
    "start_time": "2022-11-08T11:23:26.188Z"
   },
   {
    "duration": 51529,
    "start_time": "2022-11-08T11:23:26.216Z"
   },
   {
    "duration": 0,
    "start_time": "2022-11-08T11:24:17.747Z"
   },
   {
    "duration": 15,
    "start_time": "2022-11-08T11:24:30.012Z"
   },
   {
    "duration": 129329,
    "start_time": "2022-11-08T11:24:34.616Z"
   },
   {
    "duration": 48,
    "start_time": "2022-11-08T11:27:21.934Z"
   },
   {
    "duration": 56,
    "start_time": "2022-11-08T11:27:55.460Z"
   },
   {
    "duration": 1243,
    "start_time": "2022-11-08T11:27:59.312Z"
   },
   {
    "duration": 15,
    "start_time": "2022-11-08T11:28:45.627Z"
   },
   {
    "duration": 2774,
    "start_time": "2022-11-08T14:38:17.373Z"
   },
   {
    "duration": 1507,
    "start_time": "2022-11-08T14:38:20.150Z"
   },
   {
    "duration": 2710,
    "start_time": "2022-11-08T14:38:21.659Z"
   },
   {
    "duration": 4,
    "start_time": "2022-11-08T14:38:24.372Z"
   },
   {
    "duration": 148,
    "start_time": "2022-11-08T14:38:24.378Z"
   },
   {
    "duration": 103,
    "start_time": "2022-11-08T14:38:24.527Z"
   },
   {
    "duration": 6,
    "start_time": "2022-11-08T14:38:24.632Z"
   },
   {
    "duration": 290,
    "start_time": "2022-11-08T14:38:24.639Z"
   },
   {
    "duration": 1334,
    "start_time": "2022-11-08T14:38:24.930Z"
   },
   {
    "duration": 16,
    "start_time": "2022-11-08T14:38:26.266Z"
   },
   {
    "duration": 46,
    "start_time": "2022-11-08T14:38:26.283Z"
   },
   {
    "duration": 36,
    "start_time": "2022-11-08T14:38:26.330Z"
   },
   {
    "duration": 99,
    "start_time": "2022-11-08T14:38:26.368Z"
   },
   {
    "duration": 6603,
    "start_time": "2022-11-08T14:38:26.468Z"
   },
   {
    "duration": 18,
    "start_time": "2022-11-08T14:38:33.073Z"
   },
   {
    "duration": 1267,
    "start_time": "2022-11-08T14:38:33.093Z"
   },
   {
    "duration": 333,
    "start_time": "2022-11-08T14:38:34.362Z"
   },
   {
    "duration": 587,
    "start_time": "2022-11-08T14:38:34.697Z"
   },
   {
    "duration": 148,
    "start_time": "2022-11-08T14:38:35.286Z"
   },
   {
    "duration": 35,
    "start_time": "2022-11-08T14:38:35.436Z"
   },
   {
    "duration": 17,
    "start_time": "2022-11-08T14:38:35.473Z"
   },
   {
    "duration": 167,
    "start_time": "2022-11-08T14:38:35.492Z"
   },
   {
    "duration": 393,
    "start_time": "2022-11-08T14:38:35.661Z"
   },
   {
    "duration": 4,
    "start_time": "2022-11-08T14:38:36.056Z"
   },
   {
    "duration": 202,
    "start_time": "2022-11-08T14:38:36.062Z"
   },
   {
    "duration": 189,
    "start_time": "2022-11-08T14:38:36.266Z"
   },
   {
    "duration": 159,
    "start_time": "2022-11-08T14:38:36.457Z"
   },
   {
    "duration": 395,
    "start_time": "2022-11-08T14:38:36.619Z"
   },
   {
    "duration": 35,
    "start_time": "2022-11-08T14:38:37.016Z"
   },
   {
    "duration": 15,
    "start_time": "2022-11-08T14:38:37.052Z"
   },
   {
    "duration": 6,
    "start_time": "2022-11-08T14:38:37.069Z"
   },
   {
    "duration": 5,
    "start_time": "2022-11-08T14:38:37.077Z"
   },
   {
    "duration": 1057,
    "start_time": "2022-11-08T14:38:37.083Z"
   },
   {
    "duration": 475,
    "start_time": "2022-11-08T14:38:38.142Z"
   },
   {
    "duration": 18,
    "start_time": "2022-11-08T14:38:38.618Z"
   },
   {
    "duration": 201,
    "start_time": "2022-11-08T14:38:38.638Z"
   },
   {
    "duration": 17,
    "start_time": "2022-11-08T14:38:38.841Z"
   },
   {
    "duration": 141,
    "start_time": "2022-11-08T14:38:38.860Z"
   },
   {
    "duration": 8,
    "start_time": "2022-11-08T14:38:39.003Z"
   },
   {
    "duration": 19,
    "start_time": "2022-11-08T14:38:39.027Z"
   },
   {
    "duration": 43,
    "start_time": "2022-11-08T14:38:39.047Z"
   },
   {
    "duration": 44,
    "start_time": "2022-11-08T14:38:39.091Z"
   },
   {
    "duration": 619,
    "start_time": "2022-11-08T14:38:39.137Z"
   },
   {
    "duration": 122,
    "start_time": "2022-11-08T14:38:39.757Z"
   },
   {
    "duration": 4,
    "start_time": "2022-11-08T14:38:39.881Z"
   },
   {
    "duration": 2737,
    "start_time": "2022-11-08T14:38:39.887Z"
   },
   {
    "duration": 0,
    "start_time": "2022-11-08T14:38:42.627Z"
   },
   {
    "duration": 5,
    "start_time": "2022-11-08T14:38:58.415Z"
   },
   {
    "duration": 2301,
    "start_time": "2022-11-08T14:39:02.371Z"
   },
   {
    "duration": 4,
    "start_time": "2022-11-08T14:39:13.121Z"
   },
   {
    "duration": 222065,
    "start_time": "2022-11-08T14:39:15.410Z"
   },
   {
    "duration": 0,
    "start_time": "2022-11-08T14:42:57.477Z"
   },
   {
    "duration": 49,
    "start_time": "2022-11-08T14:43:00.762Z"
   },
   {
    "duration": 47,
    "start_time": "2022-11-08T14:43:23.011Z"
   },
   {
    "duration": 60,
    "start_time": "2022-11-08T14:43:28.854Z"
   },
   {
    "duration": 45,
    "start_time": "2022-11-08T14:43:34.181Z"
   },
   {
    "duration": 4,
    "start_time": "2022-11-08T14:44:48.028Z"
   },
   {
    "duration": 3688,
    "start_time": "2022-11-08T14:45:02.007Z"
   },
   {
    "duration": 4,
    "start_time": "2022-11-08T14:47:19.508Z"
   },
   {
    "duration": 2598,
    "start_time": "2022-11-08T14:47:23.780Z"
   },
   {
    "duration": 4,
    "start_time": "2022-11-08T14:47:59.970Z"
   },
   {
    "duration": 130538,
    "start_time": "2022-11-08T14:48:02.859Z"
   },
   {
    "duration": 73,
    "start_time": "2022-11-08T14:51:06.136Z"
   },
   {
    "duration": 45,
    "start_time": "2022-11-08T14:51:12.022Z"
   },
   {
    "duration": 4,
    "start_time": "2022-11-08T14:51:28.015Z"
   },
   {
    "duration": 13,
    "start_time": "2022-11-08T14:53:28.878Z"
   },
   {
    "duration": 4,
    "start_time": "2022-11-08T14:53:33.804Z"
   },
   {
    "duration": 0,
    "start_time": "2022-11-08T15:12:16.807Z"
   },
   {
    "duration": 2201,
    "start_time": "2022-11-08T15:12:27.959Z"
   },
   {
    "duration": 1484,
    "start_time": "2022-11-08T15:12:30.163Z"
   },
   {
    "duration": 994,
    "start_time": "2022-11-08T15:12:31.649Z"
   },
   {
    "duration": 4,
    "start_time": "2022-11-08T15:12:32.646Z"
   },
   {
    "duration": 200,
    "start_time": "2022-11-08T15:12:32.652Z"
   },
   {
    "duration": 119,
    "start_time": "2022-11-08T15:12:32.854Z"
   },
   {
    "duration": 7,
    "start_time": "2022-11-08T15:12:32.975Z"
   },
   {
    "duration": 357,
    "start_time": "2022-11-08T15:12:32.984Z"
   },
   {
    "duration": 1310,
    "start_time": "2022-11-08T15:12:33.344Z"
   },
   {
    "duration": 18,
    "start_time": "2022-11-08T15:12:34.658Z"
   },
   {
    "duration": 61,
    "start_time": "2022-11-08T15:12:34.678Z"
   },
   {
    "duration": 56,
    "start_time": "2022-11-08T15:12:34.742Z"
   },
   {
    "duration": 120,
    "start_time": "2022-11-08T15:12:34.801Z"
   },
   {
    "duration": 6587,
    "start_time": "2022-11-08T15:12:34.923Z"
   },
   {
    "duration": 26,
    "start_time": "2022-11-08T15:12:41.512Z"
   },
   {
    "duration": 1214,
    "start_time": "2022-11-08T15:12:41.540Z"
   },
   {
    "duration": 313,
    "start_time": "2022-11-08T15:12:42.756Z"
   },
   {
    "duration": 622,
    "start_time": "2022-11-08T15:12:43.072Z"
   },
   {
    "duration": 154,
    "start_time": "2022-11-08T15:12:43.696Z"
   },
   {
    "duration": 37,
    "start_time": "2022-11-08T15:12:43.851Z"
   },
   {
    "duration": 37,
    "start_time": "2022-11-08T15:12:43.890Z"
   },
   {
    "duration": 246,
    "start_time": "2022-11-08T15:12:43.930Z"
   },
   {
    "duration": 437,
    "start_time": "2022-11-08T15:12:44.179Z"
   },
   {
    "duration": 8,
    "start_time": "2022-11-08T15:12:44.619Z"
   },
   {
    "duration": 190,
    "start_time": "2022-11-08T15:12:44.628Z"
   },
   {
    "duration": 184,
    "start_time": "2022-11-08T15:12:44.820Z"
   },
   {
    "duration": 180,
    "start_time": "2022-11-08T15:12:45.007Z"
   },
   {
    "duration": 442,
    "start_time": "2022-11-08T15:12:45.192Z"
   },
   {
    "duration": 32,
    "start_time": "2022-11-08T15:12:45.636Z"
   },
   {
    "duration": 17,
    "start_time": "2022-11-08T15:12:45.670Z"
   },
   {
    "duration": 8,
    "start_time": "2022-11-08T15:12:45.689Z"
   },
   {
    "duration": 6,
    "start_time": "2022-11-08T15:12:45.728Z"
   },
   {
    "duration": 1093,
    "start_time": "2022-11-08T15:12:45.736Z"
   },
   {
    "duration": 409,
    "start_time": "2022-11-08T15:12:46.831Z"
   },
   {
    "duration": 14,
    "start_time": "2022-11-08T15:12:47.242Z"
   },
   {
    "duration": 184,
    "start_time": "2022-11-08T15:12:47.258Z"
   },
   {
    "duration": 16,
    "start_time": "2022-11-08T15:12:47.443Z"
   },
   {
    "duration": 148,
    "start_time": "2022-11-08T15:12:47.460Z"
   },
   {
    "duration": 8,
    "start_time": "2022-11-08T15:12:47.609Z"
   },
   {
    "duration": 22,
    "start_time": "2022-11-08T15:12:47.628Z"
   },
   {
    "duration": 46,
    "start_time": "2022-11-08T15:12:47.652Z"
   },
   {
    "duration": 50,
    "start_time": "2022-11-08T15:12:47.699Z"
   },
   {
    "duration": 614,
    "start_time": "2022-11-08T15:12:47.751Z"
   },
   {
    "duration": 156,
    "start_time": "2022-11-08T15:12:48.368Z"
   },
   {
    "duration": 32,
    "start_time": "2022-11-08T15:12:48.527Z"
   },
   {
    "duration": 3,
    "start_time": "2022-11-08T15:12:48.561Z"
   },
   {
    "duration": 52,
    "start_time": "2022-11-08T20:35:08.902Z"
   },
   {
    "duration": 3124,
    "start_time": "2022-11-08T20:35:19.622Z"
   },
   {
    "duration": 1711,
    "start_time": "2022-11-08T20:35:22.748Z"
   },
   {
    "duration": 1142,
    "start_time": "2022-11-08T20:35:24.461Z"
   },
   {
    "duration": 4,
    "start_time": "2022-11-08T20:35:25.606Z"
   },
   {
    "duration": 165,
    "start_time": "2022-11-08T20:35:25.611Z"
   },
   {
    "duration": 103,
    "start_time": "2022-11-08T20:35:25.778Z"
   },
   {
    "duration": 7,
    "start_time": "2022-11-08T20:35:25.882Z"
   },
   {
    "duration": 316,
    "start_time": "2022-11-08T20:35:25.890Z"
   },
   {
    "duration": 1511,
    "start_time": "2022-11-08T20:35:26.207Z"
   },
   {
    "duration": 18,
    "start_time": "2022-11-08T20:35:27.721Z"
   },
   {
    "duration": 36,
    "start_time": "2022-11-08T20:35:27.741Z"
   },
   {
    "duration": 38,
    "start_time": "2022-11-08T20:35:27.779Z"
   },
   {
    "duration": 110,
    "start_time": "2022-11-08T20:35:27.819Z"
   },
   {
    "duration": 7299,
    "start_time": "2022-11-08T20:35:27.931Z"
   },
   {
    "duration": 23,
    "start_time": "2022-11-08T20:35:35.233Z"
   },
   {
    "duration": 1788,
    "start_time": "2022-11-08T20:35:35.258Z"
   },
   {
    "duration": 666,
    "start_time": "2022-11-08T20:35:37.048Z"
   },
   {
    "duration": 1304,
    "start_time": "2022-11-08T20:35:37.716Z"
   },
   {
    "duration": 321,
    "start_time": "2022-11-08T20:35:39.022Z"
   },
   {
    "duration": 94,
    "start_time": "2022-11-08T20:35:39.345Z"
   },
   {
    "duration": 17,
    "start_time": "2022-11-08T20:35:39.441Z"
   },
   {
    "duration": 371,
    "start_time": "2022-11-08T20:35:39.460Z"
   },
   {
    "duration": 884,
    "start_time": "2022-11-08T20:35:39.833Z"
   },
   {
    "duration": 4,
    "start_time": "2022-11-08T20:35:40.719Z"
   },
   {
    "duration": 399,
    "start_time": "2022-11-08T20:35:40.725Z"
   },
   {
    "duration": 387,
    "start_time": "2022-11-08T20:35:41.126Z"
   },
   {
    "duration": 304,
    "start_time": "2022-11-08T20:35:41.515Z"
   },
   {
    "duration": 735,
    "start_time": "2022-11-08T20:35:41.822Z"
   },
   {
    "duration": 31,
    "start_time": "2022-11-08T20:35:42.614Z"
   },
   {
    "duration": 68,
    "start_time": "2022-11-08T20:35:42.647Z"
   },
   {
    "duration": 8,
    "start_time": "2022-11-08T20:35:42.717Z"
   },
   {
    "duration": 11,
    "start_time": "2022-11-08T20:35:42.727Z"
   },
   {
    "duration": 1960,
    "start_time": "2022-11-08T20:35:42.741Z"
   },
   {
    "duration": 434,
    "start_time": "2022-11-08T20:35:44.702Z"
   },
   {
    "duration": 15,
    "start_time": "2022-11-08T20:35:45.138Z"
   },
   {
    "duration": 195,
    "start_time": "2022-11-08T20:35:45.155Z"
   },
   {
    "duration": 17,
    "start_time": "2022-11-08T20:35:45.352Z"
   },
   {
    "duration": 149,
    "start_time": "2022-11-08T20:35:45.371Z"
   },
   {
    "duration": 9,
    "start_time": "2022-11-08T20:35:45.522Z"
   },
   {
    "duration": 19,
    "start_time": "2022-11-08T20:35:45.533Z"
   },
   {
    "duration": 72,
    "start_time": "2022-11-08T20:35:45.554Z"
   },
   {
    "duration": 25,
    "start_time": "2022-11-08T20:35:45.628Z"
   },
   {
    "duration": 629,
    "start_time": "2022-11-08T20:35:45.655Z"
   },
   {
    "duration": 127,
    "start_time": "2022-11-08T20:35:46.286Z"
   },
   {
    "duration": 145,
    "start_time": "2022-11-08T20:35:46.415Z"
   },
   {
    "duration": 1,
    "start_time": "2022-11-08T20:35:46.561Z"
   },
   {
    "duration": 1784,
    "start_time": "2022-11-08T20:38:38.293Z"
   },
   {
    "duration": 1945,
    "start_time": "2022-11-08T20:40:06.821Z"
   },
   {
    "duration": 19,
    "start_time": "2022-11-08T20:41:07.299Z"
   },
   {
    "duration": 5,
    "start_time": "2022-11-08T20:42:53.181Z"
   },
   {
    "duration": 29,
    "start_time": "2022-11-08T20:43:19.200Z"
   },
   {
    "duration": 1087,
    "start_time": "2022-11-08T20:43:39.427Z"
   },
   {
    "duration": 7,
    "start_time": "2022-11-08T20:43:55.584Z"
   },
   {
    "duration": 17,
    "start_time": "2022-11-08T20:44:10.448Z"
   },
   {
    "duration": 71,
    "start_time": "2022-11-08T20:44:22.967Z"
   },
   {
    "duration": 74,
    "start_time": "2022-11-08T20:44:29.104Z"
   },
   {
    "duration": 7,
    "start_time": "2022-11-08T20:44:32.941Z"
   },
   {
    "duration": 11,
    "start_time": "2022-11-08T20:44:51.471Z"
   },
   {
    "duration": 8,
    "start_time": "2022-11-08T20:45:04.600Z"
   },
   {
    "duration": 16,
    "start_time": "2022-11-08T20:45:26.895Z"
   },
   {
    "duration": 16,
    "start_time": "2022-11-08T20:46:11.427Z"
   },
   {
    "duration": 7,
    "start_time": "2022-11-08T20:46:32.118Z"
   },
   {
    "duration": 11,
    "start_time": "2022-11-08T20:46:48.797Z"
   },
   {
    "duration": 7,
    "start_time": "2022-11-08T20:47:02.812Z"
   },
   {
    "duration": 6,
    "start_time": "2022-11-08T20:47:19.366Z"
   },
   {
    "duration": 6,
    "start_time": "2022-11-08T20:47:50.142Z"
   },
   {
    "duration": 74,
    "start_time": "2022-11-08T20:50:04.881Z"
   },
   {
    "duration": 4,
    "start_time": "2022-11-08T20:50:12.149Z"
   },
   {
    "duration": 1107,
    "start_time": "2022-11-08T20:51:22.135Z"
   },
   {
    "duration": 1182,
    "start_time": "2022-11-08T20:53:23.870Z"
   },
   {
    "duration": 1107,
    "start_time": "2022-11-08T20:54:02.220Z"
   },
   {
    "duration": 2322,
    "start_time": "2022-11-08T20:54:13.034Z"
   },
   {
    "duration": 1468,
    "start_time": "2022-11-08T20:54:15.359Z"
   },
   {
    "duration": 968,
    "start_time": "2022-11-08T20:54:16.829Z"
   },
   {
    "duration": 4,
    "start_time": "2022-11-08T20:54:17.800Z"
   },
   {
    "duration": 156,
    "start_time": "2022-11-08T20:54:17.813Z"
   },
   {
    "duration": 118,
    "start_time": "2022-11-08T20:54:17.971Z"
   },
   {
    "duration": 7,
    "start_time": "2022-11-08T20:54:18.091Z"
   },
   {
    "duration": 335,
    "start_time": "2022-11-08T20:54:18.099Z"
   },
   {
    "duration": 1483,
    "start_time": "2022-11-08T20:54:18.436Z"
   },
   {
    "duration": 19,
    "start_time": "2022-11-08T20:54:19.922Z"
   },
   {
    "duration": 37,
    "start_time": "2022-11-08T20:54:19.942Z"
   },
   {
    "duration": 44,
    "start_time": "2022-11-08T20:54:19.981Z"
   },
   {
    "duration": 111,
    "start_time": "2022-11-08T20:54:20.027Z"
   },
   {
    "duration": 7255,
    "start_time": "2022-11-08T20:54:20.140Z"
   },
   {
    "duration": 21,
    "start_time": "2022-11-08T20:54:27.397Z"
   },
   {
    "duration": 1297,
    "start_time": "2022-11-08T20:54:27.420Z"
   },
   {
    "duration": 336,
    "start_time": "2022-11-08T20:54:28.719Z"
   },
   {
    "duration": 684,
    "start_time": "2022-11-08T20:54:29.056Z"
   },
   {
    "duration": 179,
    "start_time": "2022-11-08T20:54:29.742Z"
   },
   {
    "duration": 39,
    "start_time": "2022-11-08T20:54:29.923Z"
   },
   {
    "duration": 19,
    "start_time": "2022-11-08T20:54:29.965Z"
   },
   {
    "duration": 269,
    "start_time": "2022-11-08T20:54:29.986Z"
   },
   {
    "duration": 440,
    "start_time": "2022-11-08T20:54:30.257Z"
   },
   {
    "duration": 5,
    "start_time": "2022-11-08T20:54:30.699Z"
   },
   {
    "duration": 216,
    "start_time": "2022-11-08T20:54:30.705Z"
   },
   {
    "duration": 199,
    "start_time": "2022-11-08T20:54:30.923Z"
   },
   {
    "duration": 165,
    "start_time": "2022-11-08T20:54:31.124Z"
   },
   {
    "duration": 435,
    "start_time": "2022-11-08T20:54:31.293Z"
   },
   {
    "duration": 31,
    "start_time": "2022-11-08T20:54:31.729Z"
   },
   {
    "duration": 16,
    "start_time": "2022-11-08T20:54:31.761Z"
   },
   {
    "duration": 7,
    "start_time": "2022-11-08T20:54:31.778Z"
   },
   {
    "duration": 5,
    "start_time": "2022-11-08T20:54:31.814Z"
   },
   {
    "duration": 1119,
    "start_time": "2022-11-08T20:54:31.821Z"
   },
   {
    "duration": 471,
    "start_time": "2022-11-08T20:54:32.942Z"
   },
   {
    "duration": 17,
    "start_time": "2022-11-08T20:54:33.415Z"
   },
   {
    "duration": 215,
    "start_time": "2022-11-08T20:54:33.434Z"
   },
   {
    "duration": 16,
    "start_time": "2022-11-08T20:54:33.651Z"
   },
   {
    "duration": 153,
    "start_time": "2022-11-08T20:54:33.669Z"
   },
   {
    "duration": 9,
    "start_time": "2022-11-08T20:54:33.824Z"
   },
   {
    "duration": 19,
    "start_time": "2022-11-08T20:54:33.835Z"
   },
   {
    "duration": 67,
    "start_time": "2022-11-08T20:54:33.856Z"
   },
   {
    "duration": 26,
    "start_time": "2022-11-08T20:54:33.925Z"
   },
   {
    "duration": 638,
    "start_time": "2022-11-08T20:54:33.953Z"
   },
   {
    "duration": 130,
    "start_time": "2022-11-08T20:54:34.593Z"
   },
   {
    "duration": 6,
    "start_time": "2022-11-08T20:54:34.725Z"
   },
   {
    "duration": 9,
    "start_time": "2022-11-08T20:54:34.733Z"
   },
   {
    "duration": 3249,
    "start_time": "2022-11-08T20:54:34.744Z"
   },
   {
    "duration": 0,
    "start_time": "2022-11-08T20:54:37.995Z"
   },
   {
    "duration": 4,
    "start_time": "2022-11-08T20:55:24.734Z"
   },
   {
    "duration": 2776,
    "start_time": "2022-11-08T20:55:28.611Z"
   },
   {
    "duration": 2396,
    "start_time": "2022-11-08T21:05:36.367Z"
   },
   {
    "duration": 2393,
    "start_time": "2022-11-08T21:05:38.766Z"
   },
   {
    "duration": 953,
    "start_time": "2022-11-08T21:05:41.161Z"
   },
   {
    "duration": 4,
    "start_time": "2022-11-08T21:05:42.116Z"
   },
   {
    "duration": 155,
    "start_time": "2022-11-08T21:05:42.122Z"
   },
   {
    "duration": 108,
    "start_time": "2022-11-08T21:05:42.279Z"
   },
   {
    "duration": 7,
    "start_time": "2022-11-08T21:05:42.389Z"
   },
   {
    "duration": 311,
    "start_time": "2022-11-08T21:05:42.413Z"
   },
   {
    "duration": 1325,
    "start_time": "2022-11-08T21:05:42.726Z"
   },
   {
    "duration": 67,
    "start_time": "2022-11-08T21:05:44.053Z"
   },
   {
    "duration": 34,
    "start_time": "2022-11-08T21:05:44.122Z"
   },
   {
    "duration": 82,
    "start_time": "2022-11-08T21:05:44.157Z"
   },
   {
    "duration": 213,
    "start_time": "2022-11-08T21:05:44.241Z"
   },
   {
    "duration": 11357,
    "start_time": "2022-11-08T21:05:44.456Z"
   },
   {
    "duration": 19,
    "start_time": "2022-11-08T21:05:55.814Z"
   },
   {
    "duration": 1320,
    "start_time": "2022-11-08T21:05:55.835Z"
   },
   {
    "duration": 328,
    "start_time": "2022-11-08T21:05:57.157Z"
   },
   {
    "duration": 665,
    "start_time": "2022-11-08T21:05:57.487Z"
   },
   {
    "duration": 169,
    "start_time": "2022-11-08T21:05:58.154Z"
   },
   {
    "duration": 44,
    "start_time": "2022-11-08T21:05:58.325Z"
   },
   {
    "duration": 20,
    "start_time": "2022-11-08T21:05:58.371Z"
   },
   {
    "duration": 245,
    "start_time": "2022-11-08T21:05:58.413Z"
   },
   {
    "duration": 481,
    "start_time": "2022-11-08T21:05:58.660Z"
   },
   {
    "duration": 5,
    "start_time": "2022-11-08T21:05:59.143Z"
   },
   {
    "duration": 206,
    "start_time": "2022-11-08T21:05:59.150Z"
   },
   {
    "duration": 181,
    "start_time": "2022-11-08T21:05:59.357Z"
   },
   {
    "duration": 170,
    "start_time": "2022-11-08T21:05:59.539Z"
   },
   {
    "duration": 434,
    "start_time": "2022-11-08T21:05:59.712Z"
   },
   {
    "duration": 31,
    "start_time": "2022-11-08T21:06:00.148Z"
   },
   {
    "duration": 34,
    "start_time": "2022-11-08T21:06:00.180Z"
   },
   {
    "duration": 7,
    "start_time": "2022-11-08T21:06:00.216Z"
   },
   {
    "duration": 6,
    "start_time": "2022-11-08T21:06:00.225Z"
   },
   {
    "duration": 1485,
    "start_time": "2022-11-08T21:06:00.233Z"
   },
   {
    "duration": 896,
    "start_time": "2022-11-08T21:06:01.720Z"
   },
   {
    "duration": 18,
    "start_time": "2022-11-08T21:06:02.618Z"
   },
   {
    "duration": 339,
    "start_time": "2022-11-08T21:06:02.638Z"
   },
   {
    "duration": 48,
    "start_time": "2022-11-08T21:06:02.979Z"
   },
   {
    "duration": 147,
    "start_time": "2022-11-08T21:06:03.029Z"
   },
   {
    "duration": 9,
    "start_time": "2022-11-08T21:06:03.177Z"
   },
   {
    "duration": 33,
    "start_time": "2022-11-08T21:06:03.187Z"
   },
   {
    "duration": 41,
    "start_time": "2022-11-08T21:06:03.222Z"
   },
   {
    "duration": 24,
    "start_time": "2022-11-08T21:06:03.264Z"
   },
   {
    "duration": 646,
    "start_time": "2022-11-08T21:06:03.289Z"
   },
   {
    "duration": 1774,
    "start_time": "2022-11-08T21:06:03.937Z"
   },
   {
    "duration": 0,
    "start_time": "2022-11-08T21:06:05.713Z"
   },
   {
    "duration": 1243,
    "start_time": "2022-11-08T21:07:18.355Z"
   },
   {
    "duration": 32,
    "start_time": "2022-11-08T21:11:29.806Z"
   },
   {
    "duration": 30,
    "start_time": "2022-11-08T21:12:13.835Z"
   },
   {
    "duration": 2290,
    "start_time": "2022-11-08T21:13:03.665Z"
   },
   {
    "duration": 1441,
    "start_time": "2022-11-08T21:13:05.958Z"
   },
   {
    "duration": 892,
    "start_time": "2022-11-08T21:13:07.401Z"
   },
   {
    "duration": 3,
    "start_time": "2022-11-08T21:13:08.296Z"
   },
   {
    "duration": 174,
    "start_time": "2022-11-08T21:13:08.301Z"
   },
   {
    "duration": 104,
    "start_time": "2022-11-08T21:13:08.477Z"
   },
   {
    "duration": 7,
    "start_time": "2022-11-08T21:13:08.583Z"
   },
   {
    "duration": 347,
    "start_time": "2022-11-08T21:13:08.591Z"
   },
   {
    "duration": 1586,
    "start_time": "2022-11-08T21:13:08.940Z"
   },
   {
    "duration": 19,
    "start_time": "2022-11-08T21:13:10.530Z"
   },
   {
    "duration": 43,
    "start_time": "2022-11-08T21:13:10.551Z"
   },
   {
    "duration": 38,
    "start_time": "2022-11-08T21:13:10.597Z"
   },
   {
    "duration": 123,
    "start_time": "2022-11-08T21:13:10.637Z"
   },
   {
    "duration": 8331,
    "start_time": "2022-11-08T21:13:10.762Z"
   },
   {
    "duration": 29,
    "start_time": "2022-11-08T21:13:19.095Z"
   },
   {
    "duration": 1322,
    "start_time": "2022-11-08T21:13:19.126Z"
   },
   {
    "duration": 331,
    "start_time": "2022-11-08T21:13:20.450Z"
   },
   {
    "duration": 662,
    "start_time": "2022-11-08T21:13:20.783Z"
   },
   {
    "duration": 172,
    "start_time": "2022-11-08T21:13:21.447Z"
   },
   {
    "duration": 42,
    "start_time": "2022-11-08T21:13:21.620Z"
   },
   {
    "duration": 19,
    "start_time": "2022-11-08T21:13:21.664Z"
   },
   {
    "duration": 265,
    "start_time": "2022-11-08T21:13:21.685Z"
   },
   {
    "duration": 425,
    "start_time": "2022-11-08T21:13:21.952Z"
   },
   {
    "duration": 4,
    "start_time": "2022-11-08T21:13:22.380Z"
   },
   {
    "duration": 215,
    "start_time": "2022-11-08T21:13:22.386Z"
   },
   {
    "duration": 210,
    "start_time": "2022-11-08T21:13:22.603Z"
   },
   {
    "duration": 170,
    "start_time": "2022-11-08T21:13:22.815Z"
   },
   {
    "duration": 433,
    "start_time": "2022-11-08T21:13:22.989Z"
   },
   {
    "duration": 31,
    "start_time": "2022-11-08T21:13:23.423Z"
   },
   {
    "duration": 17,
    "start_time": "2022-11-08T21:13:23.456Z"
   },
   {
    "duration": 8,
    "start_time": "2022-11-08T21:13:23.475Z"
   },
   {
    "duration": 5,
    "start_time": "2022-11-08T21:13:23.514Z"
   },
   {
    "duration": 1108,
    "start_time": "2022-11-08T21:13:23.521Z"
   },
   {
    "duration": 429,
    "start_time": "2022-11-08T21:13:24.631Z"
   },
   {
    "duration": 14,
    "start_time": "2022-11-08T21:13:25.062Z"
   },
   {
    "duration": 186,
    "start_time": "2022-11-08T21:13:25.078Z"
   },
   {
    "duration": 15,
    "start_time": "2022-11-08T21:13:25.266Z"
   },
   {
    "duration": 144,
    "start_time": "2022-11-08T21:13:25.282Z"
   },
   {
    "duration": 9,
    "start_time": "2022-11-08T21:13:25.427Z"
   },
   {
    "duration": 21,
    "start_time": "2022-11-08T21:13:25.437Z"
   },
   {
    "duration": 59,
    "start_time": "2022-11-08T21:13:25.460Z"
   },
   {
    "duration": 24,
    "start_time": "2022-11-08T21:13:25.521Z"
   },
   {
    "duration": 608,
    "start_time": "2022-11-08T21:13:25.547Z"
   },
   {
    "duration": 1800,
    "start_time": "2022-11-08T21:13:26.157Z"
   },
   {
    "duration": 0,
    "start_time": "2022-11-08T21:13:27.959Z"
   },
   {
    "duration": 1507,
    "start_time": "2022-11-08T21:14:49.807Z"
   },
   {
    "duration": 136,
    "start_time": "2022-11-08T21:15:06.773Z"
   },
   {
    "duration": 13,
    "start_time": "2022-11-08T21:15:53.802Z"
   },
   {
    "duration": 271,
    "start_time": "2022-11-08T21:16:31.305Z"
   },
   {
    "duration": 291,
    "start_time": "2022-11-08T21:16:44.168Z"
   },
   {
    "duration": 110,
    "start_time": "2022-11-08T21:17:16.875Z"
   },
   {
    "duration": 1212,
    "start_time": "2022-11-08T21:17:36.666Z"
   },
   {
    "duration": 267,
    "start_time": "2022-11-08T21:18:06.204Z"
   },
   {
    "duration": 30,
    "start_time": "2022-11-08T21:19:02.405Z"
   },
   {
    "duration": 26,
    "start_time": "2022-11-08T21:19:34.315Z"
   },
   {
    "duration": 2369,
    "start_time": "2022-11-08T21:21:28.111Z"
   },
   {
    "duration": 1535,
    "start_time": "2022-11-08T21:21:30.483Z"
   },
   {
    "duration": 950,
    "start_time": "2022-11-08T21:21:32.019Z"
   },
   {
    "duration": 4,
    "start_time": "2022-11-08T21:21:32.971Z"
   },
   {
    "duration": 166,
    "start_time": "2022-11-08T21:21:32.977Z"
   },
   {
    "duration": 109,
    "start_time": "2022-11-08T21:21:33.145Z"
   },
   {
    "duration": 7,
    "start_time": "2022-11-08T21:21:33.256Z"
   },
   {
    "duration": 322,
    "start_time": "2022-11-08T21:21:33.265Z"
   },
   {
    "duration": 1336,
    "start_time": "2022-11-08T21:21:33.589Z"
   },
   {
    "duration": 19,
    "start_time": "2022-11-08T21:21:34.927Z"
   },
   {
    "duration": 44,
    "start_time": "2022-11-08T21:21:34.948Z"
   },
   {
    "duration": 37,
    "start_time": "2022-11-08T21:21:34.994Z"
   },
   {
    "duration": 116,
    "start_time": "2022-11-08T21:21:35.033Z"
   },
   {
    "duration": 7169,
    "start_time": "2022-11-08T21:21:35.151Z"
   },
   {
    "duration": 19,
    "start_time": "2022-11-08T21:21:42.322Z"
   },
   {
    "duration": 1392,
    "start_time": "2022-11-08T21:21:42.343Z"
   },
   {
    "duration": 325,
    "start_time": "2022-11-08T21:21:43.737Z"
   },
   {
    "duration": 628,
    "start_time": "2022-11-08T21:21:44.064Z"
   },
   {
    "duration": 163,
    "start_time": "2022-11-08T21:21:44.694Z"
   },
   {
    "duration": 37,
    "start_time": "2022-11-08T21:21:44.859Z"
   },
   {
    "duration": 30,
    "start_time": "2022-11-08T21:21:44.898Z"
   },
   {
    "duration": 252,
    "start_time": "2022-11-08T21:21:44.930Z"
   },
   {
    "duration": 418,
    "start_time": "2022-11-08T21:21:45.183Z"
   },
   {
    "duration": 10,
    "start_time": "2022-11-08T21:21:45.603Z"
   },
   {
    "duration": 225,
    "start_time": "2022-11-08T21:21:45.615Z"
   },
   {
    "duration": 186,
    "start_time": "2022-11-08T21:21:45.842Z"
   },
   {
    "duration": 172,
    "start_time": "2022-11-08T21:21:46.029Z"
   },
   {
    "duration": 430,
    "start_time": "2022-11-08T21:21:46.204Z"
   },
   {
    "duration": 30,
    "start_time": "2022-11-08T21:21:46.636Z"
   },
   {
    "duration": 16,
    "start_time": "2022-11-08T21:21:46.667Z"
   },
   {
    "duration": 29,
    "start_time": "2022-11-08T21:21:46.685Z"
   },
   {
    "duration": 19,
    "start_time": "2022-11-08T21:21:46.716Z"
   },
   {
    "duration": 1183,
    "start_time": "2022-11-08T21:21:46.736Z"
   },
   {
    "duration": 917,
    "start_time": "2022-11-08T21:21:47.922Z"
   },
   {
    "duration": 74,
    "start_time": "2022-11-08T21:21:48.841Z"
   },
   {
    "duration": 338,
    "start_time": "2022-11-08T21:21:48.918Z"
   },
   {
    "duration": 17,
    "start_time": "2022-11-08T21:21:49.314Z"
   },
   {
    "duration": 288,
    "start_time": "2022-11-08T21:21:49.333Z"
   },
   {
    "duration": 8,
    "start_time": "2022-11-08T21:21:49.623Z"
   },
   {
    "duration": 21,
    "start_time": "2022-11-08T21:21:49.633Z"
   },
   {
    "duration": 98,
    "start_time": "2022-11-08T21:21:49.655Z"
   },
   {
    "duration": 71,
    "start_time": "2022-11-08T21:21:49.755Z"
   },
   {
    "duration": 1293,
    "start_time": "2022-11-08T21:21:49.828Z"
   },
   {
    "duration": 227,
    "start_time": "2022-11-08T21:21:51.123Z"
   },
   {
    "duration": 64,
    "start_time": "2022-11-08T21:21:51.352Z"
   },
   {
    "duration": 28,
    "start_time": "2022-11-08T21:21:51.418Z"
   },
   {
    "duration": 2,
    "start_time": "2022-11-08T21:21:51.448Z"
   },
   {
    "duration": 2461,
    "start_time": "2022-11-08T21:22:17.059Z"
   },
   {
    "duration": 1531,
    "start_time": "2022-11-08T21:22:19.523Z"
   },
   {
    "duration": 911,
    "start_time": "2022-11-08T21:22:21.055Z"
   },
   {
    "duration": 5,
    "start_time": "2022-11-08T21:22:21.968Z"
   },
   {
    "duration": 159,
    "start_time": "2022-11-08T21:22:21.975Z"
   },
   {
    "duration": 153,
    "start_time": "2022-11-08T21:22:22.135Z"
   },
   {
    "duration": 7,
    "start_time": "2022-11-08T21:22:22.290Z"
   },
   {
    "duration": 320,
    "start_time": "2022-11-08T21:22:22.298Z"
   },
   {
    "duration": 1341,
    "start_time": "2022-11-08T21:22:22.619Z"
   },
   {
    "duration": 56,
    "start_time": "2022-11-08T21:22:23.963Z"
   },
   {
    "duration": 36,
    "start_time": "2022-11-08T21:22:24.021Z"
   },
   {
    "duration": 30,
    "start_time": "2022-11-08T21:22:24.059Z"
   },
   {
    "duration": 132,
    "start_time": "2022-11-08T21:22:24.091Z"
   },
   {
    "duration": 7304,
    "start_time": "2022-11-08T21:22:24.224Z"
   },
   {
    "duration": 18,
    "start_time": "2022-11-08T21:22:31.530Z"
   },
   {
    "duration": 1369,
    "start_time": "2022-11-08T21:22:31.549Z"
   },
   {
    "duration": 300,
    "start_time": "2022-11-08T21:22:32.920Z"
   },
   {
    "duration": 654,
    "start_time": "2022-11-08T21:22:33.222Z"
   },
   {
    "duration": 172,
    "start_time": "2022-11-08T21:22:33.878Z"
   },
   {
    "duration": 38,
    "start_time": "2022-11-08T21:22:34.052Z"
   },
   {
    "duration": 34,
    "start_time": "2022-11-08T21:22:34.092Z"
   },
   {
    "duration": 251,
    "start_time": "2022-11-08T21:22:34.128Z"
   },
   {
    "duration": 424,
    "start_time": "2022-11-08T21:22:34.381Z"
   },
   {
    "duration": 10,
    "start_time": "2022-11-08T21:22:34.806Z"
   },
   {
    "duration": 197,
    "start_time": "2022-11-08T21:22:34.817Z"
   },
   {
    "duration": 182,
    "start_time": "2022-11-08T21:22:35.016Z"
   },
   {
    "duration": 165,
    "start_time": "2022-11-08T21:22:35.200Z"
   },
   {
    "duration": 433,
    "start_time": "2022-11-08T21:22:35.369Z"
   },
   {
    "duration": 34,
    "start_time": "2022-11-08T21:22:35.804Z"
   },
   {
    "duration": 17,
    "start_time": "2022-11-08T21:22:35.839Z"
   },
   {
    "duration": 7,
    "start_time": "2022-11-08T21:22:35.858Z"
   },
   {
    "duration": 5,
    "start_time": "2022-11-08T21:22:35.867Z"
   },
   {
    "duration": 1139,
    "start_time": "2022-11-08T21:22:35.874Z"
   },
   {
    "duration": 450,
    "start_time": "2022-11-08T21:22:37.015Z"
   },
   {
    "duration": 17,
    "start_time": "2022-11-08T21:22:37.468Z"
   },
   {
    "duration": 201,
    "start_time": "2022-11-08T21:22:37.487Z"
   },
   {
    "duration": 25,
    "start_time": "2022-11-08T21:22:37.689Z"
   },
   {
    "duration": 143,
    "start_time": "2022-11-08T21:22:37.716Z"
   },
   {
    "duration": 8,
    "start_time": "2022-11-08T21:22:37.861Z"
   },
   {
    "duration": 19,
    "start_time": "2022-11-08T21:22:37.871Z"
   },
   {
    "duration": 56,
    "start_time": "2022-11-08T21:22:37.892Z"
   },
   {
    "duration": 23,
    "start_time": "2022-11-08T21:22:37.949Z"
   },
   {
    "duration": 967,
    "start_time": "2022-11-08T21:22:37.973Z"
   },
   {
    "duration": 141,
    "start_time": "2022-11-08T21:22:38.942Z"
   },
   {
    "duration": 15,
    "start_time": "2022-11-08T21:22:39.085Z"
   },
   {
    "duration": 28,
    "start_time": "2022-11-08T21:22:39.112Z"
   },
   {
    "duration": 2,
    "start_time": "2022-11-08T21:22:39.142Z"
   },
   {
    "duration": 42,
    "start_time": "2022-11-08T21:23:03.603Z"
   },
   {
    "duration": 2422,
    "start_time": "2022-11-08T21:26:16.273Z"
   },
   {
    "duration": 1561,
    "start_time": "2022-11-08T21:26:18.697Z"
   },
   {
    "duration": 1873,
    "start_time": "2022-11-08T21:26:20.260Z"
   },
   {
    "duration": 4,
    "start_time": "2022-11-08T21:26:22.135Z"
   },
   {
    "duration": 144,
    "start_time": "2022-11-08T21:26:22.141Z"
   },
   {
    "duration": 118,
    "start_time": "2022-11-08T21:26:22.287Z"
   },
   {
    "duration": 8,
    "start_time": "2022-11-08T21:26:22.407Z"
   },
   {
    "duration": 313,
    "start_time": "2022-11-08T21:26:22.417Z"
   },
   {
    "duration": 1505,
    "start_time": "2022-11-08T21:26:22.733Z"
   },
   {
    "duration": 19,
    "start_time": "2022-11-08T21:26:24.240Z"
   },
   {
    "duration": 54,
    "start_time": "2022-11-08T21:26:24.261Z"
   },
   {
    "duration": 38,
    "start_time": "2022-11-08T21:26:24.318Z"
   },
   {
    "duration": 156,
    "start_time": "2022-11-08T21:26:24.358Z"
   },
   {
    "duration": 9105,
    "start_time": "2022-11-08T21:26:24.516Z"
   },
   {
    "duration": 19,
    "start_time": "2022-11-08T21:26:33.623Z"
   },
   {
    "duration": 1895,
    "start_time": "2022-11-08T21:26:33.644Z"
   },
   {
    "duration": 334,
    "start_time": "2022-11-08T21:26:35.540Z"
   },
   {
    "duration": 659,
    "start_time": "2022-11-08T21:26:35.876Z"
   },
   {
    "duration": 173,
    "start_time": "2022-11-08T21:26:36.536Z"
   },
   {
    "duration": 42,
    "start_time": "2022-11-08T21:26:36.714Z"
   },
   {
    "duration": 18,
    "start_time": "2022-11-08T21:26:36.758Z"
   },
   {
    "duration": 269,
    "start_time": "2022-11-08T21:26:36.778Z"
   },
   {
    "duration": 426,
    "start_time": "2022-11-08T21:26:37.048Z"
   },
   {
    "duration": 5,
    "start_time": "2022-11-08T21:26:37.476Z"
   },
   {
    "duration": 213,
    "start_time": "2022-11-08T21:26:37.483Z"
   },
   {
    "duration": 185,
    "start_time": "2022-11-08T21:26:37.698Z"
   },
   {
    "duration": 185,
    "start_time": "2022-11-08T21:26:37.885Z"
   },
   {
    "duration": 453,
    "start_time": "2022-11-08T21:26:38.073Z"
   },
   {
    "duration": 32,
    "start_time": "2022-11-08T21:26:38.528Z"
   },
   {
    "duration": 16,
    "start_time": "2022-11-08T21:26:38.562Z"
   },
   {
    "duration": 36,
    "start_time": "2022-11-08T21:26:38.580Z"
   },
   {
    "duration": 5,
    "start_time": "2022-11-08T21:26:38.618Z"
   },
   {
    "duration": 2342,
    "start_time": "2022-11-08T21:26:38.626Z"
   },
   {
    "duration": 947,
    "start_time": "2022-11-08T21:26:40.969Z"
   },
   {
    "duration": 18,
    "start_time": "2022-11-08T21:26:41.918Z"
   },
   {
    "duration": 380,
    "start_time": "2022-11-08T21:26:41.938Z"
   },
   {
    "duration": 17,
    "start_time": "2022-11-08T21:26:42.319Z"
   },
   {
    "duration": 297,
    "start_time": "2022-11-08T21:26:42.337Z"
   },
   {
    "duration": 10,
    "start_time": "2022-11-08T21:26:42.636Z"
   },
   {
    "duration": 79,
    "start_time": "2022-11-08T21:26:42.648Z"
   },
   {
    "duration": 100,
    "start_time": "2022-11-08T21:26:42.730Z"
   },
   {
    "duration": 86,
    "start_time": "2022-11-08T21:26:42.832Z"
   },
   {
    "duration": 637,
    "start_time": "2022-11-08T21:26:42.920Z"
   },
   {
    "duration": 134,
    "start_time": "2022-11-08T21:26:43.559Z"
   },
   {
    "duration": 20,
    "start_time": "2022-11-08T21:26:43.695Z"
   },
   {
    "duration": 30,
    "start_time": "2022-11-08T21:26:43.717Z"
   },
   {
    "duration": 3,
    "start_time": "2022-11-08T21:26:43.749Z"
   },
   {
    "duration": 94,
    "start_time": "2022-11-08T21:34:42.290Z"
   },
   {
    "duration": 2387,
    "start_time": "2022-11-08T21:41:08.348Z"
   },
   {
    "duration": 1464,
    "start_time": "2022-11-08T21:41:10.737Z"
   },
   {
    "duration": 939,
    "start_time": "2022-11-08T21:41:12.203Z"
   },
   {
    "duration": 4,
    "start_time": "2022-11-08T21:41:13.145Z"
   },
   {
    "duration": 163,
    "start_time": "2022-11-08T21:41:13.150Z"
   },
   {
    "duration": 110,
    "start_time": "2022-11-08T21:41:13.315Z"
   },
   {
    "duration": 6,
    "start_time": "2022-11-08T21:41:13.427Z"
   },
   {
    "duration": 309,
    "start_time": "2022-11-08T21:41:13.435Z"
   },
   {
    "duration": 1475,
    "start_time": "2022-11-08T21:41:13.746Z"
   },
   {
    "duration": 19,
    "start_time": "2022-11-08T21:41:15.225Z"
   },
   {
    "duration": 35,
    "start_time": "2022-11-08T21:41:15.246Z"
   },
   {
    "duration": 50,
    "start_time": "2022-11-08T21:41:15.283Z"
   },
   {
    "duration": 109,
    "start_time": "2022-11-08T21:41:15.336Z"
   },
   {
    "duration": 7226,
    "start_time": "2022-11-08T21:41:15.447Z"
   },
   {
    "duration": 18,
    "start_time": "2022-11-08T21:41:22.675Z"
   },
   {
    "duration": 1336,
    "start_time": "2022-11-08T21:41:22.695Z"
   },
   {
    "duration": 338,
    "start_time": "2022-11-08T21:41:24.033Z"
   },
   {
    "duration": 649,
    "start_time": "2022-11-08T21:41:24.373Z"
   },
   {
    "duration": 122,
    "start_time": "2022-11-08T21:41:25.024Z"
   },
   {
    "duration": 0,
    "start_time": "2022-11-08T21:41:25.234Z"
   },
   {
    "duration": 0,
    "start_time": "2022-11-08T21:41:25.235Z"
   },
   {
    "duration": 0,
    "start_time": "2022-11-08T21:41:25.236Z"
   },
   {
    "duration": 0,
    "start_time": "2022-11-08T21:41:25.237Z"
   },
   {
    "duration": 0,
    "start_time": "2022-11-08T21:41:25.238Z"
   },
   {
    "duration": 1,
    "start_time": "2022-11-08T21:41:25.238Z"
   },
   {
    "duration": 0,
    "start_time": "2022-11-08T21:41:25.240Z"
   },
   {
    "duration": 0,
    "start_time": "2022-11-08T21:41:25.241Z"
   },
   {
    "duration": 0,
    "start_time": "2022-11-08T21:41:25.242Z"
   },
   {
    "duration": 0,
    "start_time": "2022-11-08T21:41:25.243Z"
   },
   {
    "duration": 0,
    "start_time": "2022-11-08T21:41:25.244Z"
   },
   {
    "duration": 0,
    "start_time": "2022-11-08T21:41:25.245Z"
   },
   {
    "duration": 0,
    "start_time": "2022-11-08T21:41:25.246Z"
   },
   {
    "duration": 0,
    "start_time": "2022-11-08T21:41:25.247Z"
   },
   {
    "duration": 0,
    "start_time": "2022-11-08T21:41:25.248Z"
   },
   {
    "duration": 0,
    "start_time": "2022-11-08T21:41:25.249Z"
   },
   {
    "duration": 0,
    "start_time": "2022-11-08T21:41:25.250Z"
   },
   {
    "duration": 0,
    "start_time": "2022-11-08T21:41:25.251Z"
   },
   {
    "duration": 0,
    "start_time": "2022-11-08T21:41:25.252Z"
   },
   {
    "duration": 0,
    "start_time": "2022-11-08T21:41:25.254Z"
   },
   {
    "duration": 0,
    "start_time": "2022-11-08T21:41:25.255Z"
   },
   {
    "duration": 0,
    "start_time": "2022-11-08T21:41:25.256Z"
   },
   {
    "duration": 0,
    "start_time": "2022-11-08T21:41:25.257Z"
   },
   {
    "duration": 0,
    "start_time": "2022-11-08T21:41:25.257Z"
   },
   {
    "duration": 0,
    "start_time": "2022-11-08T21:41:25.258Z"
   },
   {
    "duration": 0,
    "start_time": "2022-11-08T21:41:25.259Z"
   },
   {
    "duration": 0,
    "start_time": "2022-11-08T21:41:25.260Z"
   },
   {
    "duration": 0,
    "start_time": "2022-11-08T21:41:25.261Z"
   },
   {
    "duration": 0,
    "start_time": "2022-11-08T21:41:25.262Z"
   },
   {
    "duration": 1,
    "start_time": "2022-11-08T21:41:25.263Z"
   },
   {
    "duration": 0,
    "start_time": "2022-11-08T21:41:25.313Z"
   },
   {
    "duration": 0,
    "start_time": "2022-11-08T21:41:25.314Z"
   },
   {
    "duration": 0,
    "start_time": "2022-11-08T21:41:25.315Z"
   },
   {
    "duration": 2372,
    "start_time": "2022-11-08T21:41:58.037Z"
   },
   {
    "duration": 1511,
    "start_time": "2022-11-08T21:42:00.412Z"
   },
   {
    "duration": 917,
    "start_time": "2022-11-08T21:42:01.925Z"
   },
   {
    "duration": 4,
    "start_time": "2022-11-08T21:42:02.845Z"
   },
   {
    "duration": 158,
    "start_time": "2022-11-08T21:42:02.851Z"
   },
   {
    "duration": 157,
    "start_time": "2022-11-08T21:42:03.013Z"
   },
   {
    "duration": 7,
    "start_time": "2022-11-08T21:42:03.172Z"
   },
   {
    "duration": 314,
    "start_time": "2022-11-08T21:42:03.181Z"
   },
   {
    "duration": 1331,
    "start_time": "2022-11-08T21:42:03.498Z"
   },
   {
    "duration": 19,
    "start_time": "2022-11-08T21:42:04.832Z"
   },
   {
    "duration": 36,
    "start_time": "2022-11-08T21:42:04.853Z"
   },
   {
    "duration": 44,
    "start_time": "2022-11-08T21:42:04.890Z"
   },
   {
    "duration": 112,
    "start_time": "2022-11-08T21:42:04.936Z"
   },
   {
    "duration": 7153,
    "start_time": "2022-11-08T21:42:05.049Z"
   },
   {
    "duration": 25,
    "start_time": "2022-11-08T21:42:12.204Z"
   },
   {
    "duration": 1322,
    "start_time": "2022-11-08T21:42:12.231Z"
   },
   {
    "duration": 328,
    "start_time": "2022-11-08T21:42:13.555Z"
   },
   {
    "duration": 653,
    "start_time": "2022-11-08T21:42:13.885Z"
   },
   {
    "duration": 5,
    "start_time": "2022-11-08T21:42:14.540Z"
   },
   {
    "duration": 180,
    "start_time": "2022-11-08T21:42:14.547Z"
   },
   {
    "duration": 40,
    "start_time": "2022-11-08T21:42:14.730Z"
   },
   {
    "duration": 42,
    "start_time": "2022-11-08T21:42:14.772Z"
   },
   {
    "duration": 258,
    "start_time": "2022-11-08T21:42:14.816Z"
   },
   {
    "duration": 425,
    "start_time": "2022-11-08T21:42:15.076Z"
   },
   {
    "duration": 9,
    "start_time": "2022-11-08T21:42:15.504Z"
   },
   {
    "duration": 205,
    "start_time": "2022-11-08T21:42:15.515Z"
   },
   {
    "duration": 196,
    "start_time": "2022-11-08T21:42:15.722Z"
   },
   {
    "duration": 169,
    "start_time": "2022-11-08T21:42:15.923Z"
   },
   {
    "duration": 428,
    "start_time": "2022-11-08T21:42:16.094Z"
   },
   {
    "duration": 5,
    "start_time": "2022-11-08T21:42:16.524Z"
   },
   {
    "duration": 37,
    "start_time": "2022-11-08T21:42:16.531Z"
   },
   {
    "duration": 17,
    "start_time": "2022-11-08T21:42:16.569Z"
   },
   {
    "duration": 28,
    "start_time": "2022-11-08T21:42:16.588Z"
   },
   {
    "duration": 5,
    "start_time": "2022-11-08T21:42:16.618Z"
   },
   {
    "duration": 1103,
    "start_time": "2022-11-08T21:42:16.624Z"
   },
   {
    "duration": 457,
    "start_time": "2022-11-08T21:42:17.729Z"
   },
   {
    "duration": 4,
    "start_time": "2022-11-08T21:42:18.188Z"
   },
   {
    "duration": 27,
    "start_time": "2022-11-08T21:42:18.194Z"
   },
   {
    "duration": 197,
    "start_time": "2022-11-08T21:42:18.223Z"
   },
   {
    "duration": 5,
    "start_time": "2022-11-08T21:42:18.422Z"
   },
   {
    "duration": 18,
    "start_time": "2022-11-08T21:42:18.428Z"
   },
   {
    "duration": 151,
    "start_time": "2022-11-08T21:42:18.448Z"
   },
   {
    "duration": 13,
    "start_time": "2022-11-08T21:42:18.601Z"
   },
   {
    "duration": 20,
    "start_time": "2022-11-08T21:42:18.615Z"
   },
   {
    "duration": 45,
    "start_time": "2022-11-08T21:42:18.637Z"
   },
   {
    "duration": 48,
    "start_time": "2022-11-08T21:42:18.683Z"
   },
   {
    "duration": 1298,
    "start_time": "2022-11-08T21:42:18.732Z"
   },
   {
    "duration": 220,
    "start_time": "2022-11-08T21:42:20.032Z"
   },
   {
    "duration": 68,
    "start_time": "2022-11-08T21:42:20.254Z"
   },
   {
    "duration": 31,
    "start_time": "2022-11-08T21:42:20.323Z"
   },
   {
    "duration": 59,
    "start_time": "2022-11-08T21:42:20.355Z"
   },
   {
    "duration": 5,
    "start_time": "2022-11-08T21:42:20.416Z"
   },
   {
    "duration": 17,
    "start_time": "2022-11-08T21:50:40.326Z"
   },
   {
    "duration": 4,
    "start_time": "2022-11-08T21:50:45.895Z"
   },
   {
    "duration": 18,
    "start_time": "2022-11-08T21:52:25.889Z"
   },
   {
    "duration": 2446,
    "start_time": "2022-11-08T22:20:59.277Z"
   },
   {
    "duration": 2205,
    "start_time": "2022-11-08T22:21:01.726Z"
   },
   {
    "duration": 933,
    "start_time": "2022-11-08T22:21:03.933Z"
   },
   {
    "duration": 4,
    "start_time": "2022-11-08T22:21:04.868Z"
   },
   {
    "duration": 154,
    "start_time": "2022-11-08T22:21:04.874Z"
   },
   {
    "duration": 114,
    "start_time": "2022-11-08T22:21:05.030Z"
   },
   {
    "duration": 8,
    "start_time": "2022-11-08T22:21:05.146Z"
   },
   {
    "duration": 315,
    "start_time": "2022-11-08T22:21:05.156Z"
   },
   {
    "duration": 1346,
    "start_time": "2022-11-08T22:21:05.473Z"
   },
   {
    "duration": 19,
    "start_time": "2022-11-08T22:21:06.822Z"
   },
   {
    "duration": 39,
    "start_time": "2022-11-08T22:21:06.843Z"
   },
   {
    "duration": 45,
    "start_time": "2022-11-08T22:21:06.884Z"
   },
   {
    "duration": 106,
    "start_time": "2022-11-08T22:21:06.930Z"
   },
   {
    "duration": 7079,
    "start_time": "2022-11-08T22:21:07.038Z"
   },
   {
    "duration": 18,
    "start_time": "2022-11-08T22:21:14.118Z"
   },
   {
    "duration": 1376,
    "start_time": "2022-11-08T22:21:14.137Z"
   },
   {
    "duration": 312,
    "start_time": "2022-11-08T22:21:15.515Z"
   },
   {
    "duration": 629,
    "start_time": "2022-11-08T22:21:15.828Z"
   },
   {
    "duration": 3,
    "start_time": "2022-11-08T22:21:16.459Z"
   },
   {
    "duration": 177,
    "start_time": "2022-11-08T22:21:16.464Z"
   },
   {
    "duration": 38,
    "start_time": "2022-11-08T22:21:16.643Z"
   },
   {
    "duration": 35,
    "start_time": "2022-11-08T22:21:16.683Z"
   },
   {
    "duration": 251,
    "start_time": "2022-11-08T22:21:16.719Z"
   },
   {
    "duration": 409,
    "start_time": "2022-11-08T22:21:16.971Z"
   },
   {
    "duration": 4,
    "start_time": "2022-11-08T22:21:17.382Z"
   },
   {
    "duration": 200,
    "start_time": "2022-11-08T22:21:17.388Z"
   },
   {
    "duration": 192,
    "start_time": "2022-11-08T22:21:17.589Z"
   },
   {
    "duration": 185,
    "start_time": "2022-11-08T22:21:17.786Z"
   },
   {
    "duration": 429,
    "start_time": "2022-11-08T22:21:17.973Z"
   },
   {
    "duration": 10,
    "start_time": "2022-11-08T22:21:18.404Z"
   },
   {
    "duration": 33,
    "start_time": "2022-11-08T22:21:18.416Z"
   },
   {
    "duration": 15,
    "start_time": "2022-11-08T22:21:18.451Z"
   },
   {
    "duration": 7,
    "start_time": "2022-11-08T22:21:18.468Z"
   },
   {
    "duration": 5,
    "start_time": "2022-11-08T22:21:18.477Z"
   },
   {
    "duration": 1161,
    "start_time": "2022-11-08T22:21:18.483Z"
   },
   {
    "duration": 423,
    "start_time": "2022-11-08T22:21:19.645Z"
   },
   {
    "duration": 4,
    "start_time": "2022-11-08T22:21:20.070Z"
   },
   {
    "duration": 18,
    "start_time": "2022-11-08T22:21:20.075Z"
   },
   {
    "duration": 184,
    "start_time": "2022-11-08T22:21:20.095Z"
   },
   {
    "duration": 15,
    "start_time": "2022-11-08T22:21:20.281Z"
   },
   {
    "duration": 158,
    "start_time": "2022-11-08T22:21:20.298Z"
   },
   {
    "duration": 7,
    "start_time": "2022-11-08T22:21:20.458Z"
   },
   {
    "duration": 18,
    "start_time": "2022-11-08T22:21:20.467Z"
   },
   {
    "duration": 60,
    "start_time": "2022-11-08T22:21:20.487Z"
   },
   {
    "duration": 23,
    "start_time": "2022-11-08T22:21:20.549Z"
   },
   {
    "duration": 607,
    "start_time": "2022-11-08T22:21:20.574Z"
   },
   {
    "duration": 121,
    "start_time": "2022-11-08T22:21:21.183Z"
   },
   {
    "duration": 15,
    "start_time": "2022-11-08T22:21:21.312Z"
   },
   {
    "duration": 29,
    "start_time": "2022-11-08T22:21:21.329Z"
   },
   {
    "duration": 4,
    "start_time": "2022-11-08T22:21:21.359Z"
   },
   {
    "duration": 20,
    "start_time": "2022-11-08T22:21:21.364Z"
   },
   {
    "duration": 29,
    "start_time": "2022-11-08T22:21:21.385Z"
   },
   {
    "duration": 66,
    "start_time": "2022-11-08T22:21:21.416Z"
   },
   {
    "duration": 2,
    "start_time": "2022-11-08T22:21:21.484Z"
   },
   {
    "duration": 5,
    "start_time": "2022-11-08T22:21:21.487Z"
   },
   {
    "duration": 122,
    "start_time": "2022-11-08T22:22:52.772Z"
   },
   {
    "duration": 4,
    "start_time": "2022-11-08T22:23:12.809Z"
   },
   {
    "duration": 4,
    "start_time": "2022-11-08T22:23:41.902Z"
   },
   {
    "duration": 4,
    "start_time": "2022-11-08T22:23:49.233Z"
   },
   {
    "duration": 1164,
    "start_time": "2022-11-08T22:24:12.207Z"
   },
   {
    "duration": 471,
    "start_time": "2022-11-08T22:24:38.131Z"
   },
   {
    "duration": 4,
    "start_time": "2022-11-08T22:24:41.484Z"
   },
   {
    "duration": 16,
    "start_time": "2022-11-08T22:24:57.167Z"
   },
   {
    "duration": 495,
    "start_time": "2022-11-08T22:26:05.755Z"
   },
   {
    "duration": 4,
    "start_time": "2022-11-08T22:26:07.741Z"
   },
   {
    "duration": 149,
    "start_time": "2022-11-08T22:26:15.216Z"
   },
   {
    "duration": 300,
    "start_time": "2022-11-08T22:34:36.326Z"
   },
   {
    "duration": 2259,
    "start_time": "2022-11-08T22:44:04.119Z"
   },
   {
    "duration": 1478,
    "start_time": "2022-11-08T22:44:06.381Z"
   },
   {
    "duration": 925,
    "start_time": "2022-11-08T22:44:07.861Z"
   },
   {
    "duration": 4,
    "start_time": "2022-11-08T22:44:08.789Z"
   },
   {
    "duration": 192,
    "start_time": "2022-11-08T22:44:08.795Z"
   },
   {
    "duration": 148,
    "start_time": "2022-11-08T22:44:08.989Z"
   },
   {
    "duration": 7,
    "start_time": "2022-11-08T22:44:09.139Z"
   },
   {
    "duration": 317,
    "start_time": "2022-11-08T22:44:09.149Z"
   },
   {
    "duration": 1280,
    "start_time": "2022-11-08T22:44:09.468Z"
   },
   {
    "duration": 20,
    "start_time": "2022-11-08T22:44:10.752Z"
   },
   {
    "duration": 56,
    "start_time": "2022-11-08T22:44:10.774Z"
   },
   {
    "duration": 23,
    "start_time": "2022-11-08T22:44:10.832Z"
   },
   {
    "duration": 117,
    "start_time": "2022-11-08T22:44:10.857Z"
   },
   {
    "duration": 7093,
    "start_time": "2022-11-08T22:44:10.976Z"
   },
   {
    "duration": 19,
    "start_time": "2022-11-08T22:44:18.071Z"
   },
   {
    "duration": 1427,
    "start_time": "2022-11-08T22:44:18.092Z"
   },
   {
    "duration": 285,
    "start_time": "2022-11-08T22:44:19.520Z"
   },
   {
    "duration": 618,
    "start_time": "2022-11-08T22:44:19.812Z"
   },
   {
    "duration": 5,
    "start_time": "2022-11-08T22:44:20.432Z"
   },
   {
    "duration": 175,
    "start_time": "2022-11-08T22:44:20.438Z"
   },
   {
    "duration": 39,
    "start_time": "2022-11-08T22:44:20.615Z"
   },
   {
    "duration": 18,
    "start_time": "2022-11-08T22:44:20.656Z"
   },
   {
    "duration": 172,
    "start_time": "2022-11-08T22:44:20.676Z"
   },
   {
    "duration": 409,
    "start_time": "2022-11-08T22:44:20.850Z"
   },
   {
    "duration": 5,
    "start_time": "2022-11-08T22:44:21.260Z"
   },
   {
    "duration": 196,
    "start_time": "2022-11-08T22:44:21.267Z"
   },
   {
    "duration": 187,
    "start_time": "2022-11-08T22:44:21.465Z"
   },
   {
    "duration": 169,
    "start_time": "2022-11-08T22:44:21.655Z"
   },
   {
    "duration": 417,
    "start_time": "2022-11-08T22:44:21.827Z"
   },
   {
    "duration": 5,
    "start_time": "2022-11-08T22:44:22.246Z"
   },
   {
    "duration": 36,
    "start_time": "2022-11-08T22:44:22.253Z"
   },
   {
    "duration": 34,
    "start_time": "2022-11-08T22:44:22.291Z"
   },
   {
    "duration": 8,
    "start_time": "2022-11-08T22:44:22.327Z"
   },
   {
    "duration": 4,
    "start_time": "2022-11-08T22:44:22.337Z"
   },
   {
    "duration": 1115,
    "start_time": "2022-11-08T22:44:22.343Z"
   },
   {
    "duration": 417,
    "start_time": "2022-11-08T22:44:23.460Z"
   },
   {
    "duration": 4,
    "start_time": "2022-11-08T22:44:23.878Z"
   },
   {
    "duration": 17,
    "start_time": "2022-11-08T22:44:23.884Z"
   },
   {
    "duration": 185,
    "start_time": "2022-11-08T22:44:23.903Z"
   },
   {
    "duration": 25,
    "start_time": "2022-11-08T22:44:24.090Z"
   },
   {
    "duration": 132,
    "start_time": "2022-11-08T22:44:24.117Z"
   },
   {
    "duration": 10,
    "start_time": "2022-11-08T22:44:24.251Z"
   },
   {
    "duration": 18,
    "start_time": "2022-11-08T22:44:24.263Z"
   },
   {
    "duration": 63,
    "start_time": "2022-11-08T22:44:24.284Z"
   },
   {
    "duration": 25,
    "start_time": "2022-11-08T22:44:24.349Z"
   },
   {
    "duration": 618,
    "start_time": "2022-11-08T22:44:24.376Z"
   },
   {
    "duration": 124,
    "start_time": "2022-11-08T22:44:24.996Z"
   },
   {
    "duration": 15,
    "start_time": "2022-11-08T22:44:25.122Z"
   },
   {
    "duration": 28,
    "start_time": "2022-11-08T22:44:25.138Z"
   },
   {
    "duration": 4,
    "start_time": "2022-11-08T22:44:25.168Z"
   },
   {
    "duration": 44,
    "start_time": "2022-11-08T22:44:25.174Z"
   },
   {
    "duration": 5,
    "start_time": "2022-11-08T22:44:25.220Z"
   },
   {
    "duration": 67,
    "start_time": "2022-11-08T22:44:25.227Z"
   },
   {
    "duration": 351,
    "start_time": "2022-11-08T22:44:25.313Z"
   },
   {
    "duration": 464,
    "start_time": "2022-11-08T22:44:25.666Z"
   },
   {
    "duration": 5,
    "start_time": "2022-11-08T22:44:26.132Z"
   },
   {
    "duration": 156,
    "start_time": "2022-11-08T22:44:26.139Z"
   },
   {
    "duration": 306,
    "start_time": "2022-11-08T22:44:26.297Z"
   },
   {
    "duration": 288529,
    "start_time": "2022-11-08T22:48:40.917Z"
   },
   {
    "duration": 2266,
    "start_time": "2022-11-08T23:18:47.046Z"
   },
   {
    "duration": 1539,
    "start_time": "2022-11-08T23:18:49.315Z"
   },
   {
    "duration": 868,
    "start_time": "2022-11-08T23:18:50.856Z"
   },
   {
    "duration": 3,
    "start_time": "2022-11-08T23:18:51.726Z"
   },
   {
    "duration": 148,
    "start_time": "2022-11-08T23:18:51.731Z"
   },
   {
    "duration": 105,
    "start_time": "2022-11-08T23:18:51.880Z"
   },
   {
    "duration": 6,
    "start_time": "2022-11-08T23:18:51.987Z"
   },
   {
    "duration": 296,
    "start_time": "2022-11-08T23:18:51.994Z"
   },
   {
    "duration": 1337,
    "start_time": "2022-11-08T23:18:52.291Z"
   },
   {
    "duration": 19,
    "start_time": "2022-11-08T23:18:53.630Z"
   },
   {
    "duration": 34,
    "start_time": "2022-11-08T23:18:53.650Z"
   },
   {
    "duration": 44,
    "start_time": "2022-11-08T23:18:53.686Z"
   },
   {
    "duration": 110,
    "start_time": "2022-11-08T23:18:53.732Z"
   },
   {
    "duration": 7910,
    "start_time": "2022-11-08T23:18:53.844Z"
   },
   {
    "duration": 73,
    "start_time": "2022-11-08T23:19:01.756Z"
   },
   {
    "duration": 1513,
    "start_time": "2022-11-08T23:19:01.830Z"
   },
   {
    "duration": 603,
    "start_time": "2022-11-08T23:19:03.345Z"
   },
   {
    "duration": 1275,
    "start_time": "2022-11-08T23:19:03.950Z"
   },
   {
    "duration": 4,
    "start_time": "2022-11-08T23:19:05.226Z"
   },
   {
    "duration": 166,
    "start_time": "2022-11-08T23:19:05.232Z"
   },
   {
    "duration": 47,
    "start_time": "2022-11-08T23:19:05.400Z"
   },
   {
    "duration": 17,
    "start_time": "2022-11-08T23:19:05.449Z"
   },
   {
    "duration": 170,
    "start_time": "2022-11-08T23:19:05.468Z"
   },
   {
    "duration": 422,
    "start_time": "2022-11-08T23:19:05.640Z"
   },
   {
    "duration": 5,
    "start_time": "2022-11-08T23:19:06.063Z"
   },
   {
    "duration": 204,
    "start_time": "2022-11-08T23:19:06.069Z"
   },
   {
    "duration": 187,
    "start_time": "2022-11-08T23:19:06.275Z"
   },
   {
    "duration": 169,
    "start_time": "2022-11-08T23:19:06.466Z"
   },
   {
    "duration": 423,
    "start_time": "2022-11-08T23:19:06.637Z"
   },
   {
    "duration": 4,
    "start_time": "2022-11-08T23:19:07.061Z"
   },
   {
    "duration": 31,
    "start_time": "2022-11-08T23:19:07.067Z"
   },
   {
    "duration": 16,
    "start_time": "2022-11-08T23:19:07.112Z"
   },
   {
    "duration": 7,
    "start_time": "2022-11-08T23:19:07.130Z"
   },
   {
    "duration": 5,
    "start_time": "2022-11-08T23:19:07.138Z"
   },
   {
    "duration": 1123,
    "start_time": "2022-11-08T23:19:07.145Z"
   },
   {
    "duration": 430,
    "start_time": "2022-11-08T23:19:08.270Z"
   },
   {
    "duration": 11,
    "start_time": "2022-11-08T23:19:08.702Z"
   },
   {
    "duration": 14,
    "start_time": "2022-11-08T23:19:08.714Z"
   },
   {
    "duration": 209,
    "start_time": "2022-11-08T23:19:08.730Z"
   },
   {
    "duration": 16,
    "start_time": "2022-11-08T23:19:08.940Z"
   },
   {
    "duration": 144,
    "start_time": "2022-11-08T23:19:08.958Z"
   },
   {
    "duration": 13,
    "start_time": "2022-11-08T23:19:09.105Z"
   },
   {
    "duration": 21,
    "start_time": "2022-11-08T23:19:09.120Z"
   },
   {
    "duration": 41,
    "start_time": "2022-11-08T23:19:09.143Z"
   },
   {
    "duration": 28,
    "start_time": "2022-11-08T23:19:09.213Z"
   },
   {
    "duration": 608,
    "start_time": "2022-11-08T23:19:09.243Z"
   },
   {
    "duration": 125,
    "start_time": "2022-11-08T23:19:09.853Z"
   },
   {
    "duration": 16,
    "start_time": "2022-11-08T23:19:09.980Z"
   },
   {
    "duration": 40,
    "start_time": "2022-11-08T23:19:09.998Z"
   },
   {
    "duration": 4,
    "start_time": "2022-11-08T23:19:10.040Z"
   },
   {
    "duration": 19,
    "start_time": "2022-11-08T23:19:10.045Z"
   },
   {
    "duration": 4,
    "start_time": "2022-11-08T23:19:10.065Z"
   },
   {
    "duration": 89,
    "start_time": "2022-11-08T23:19:10.071Z"
   },
   {
    "duration": 392,
    "start_time": "2022-11-08T23:19:10.162Z"
   },
   {
    "duration": 12,
    "start_time": "2022-11-08T23:19:10.555Z"
   },
   {
    "duration": 642,
    "start_time": "2022-11-08T23:19:10.569Z"
   },
   {
    "duration": 0,
    "start_time": "2022-11-08T23:19:11.213Z"
   },
   {
    "duration": 0,
    "start_time": "2022-11-08T23:19:11.214Z"
   },
   {
    "duration": 0,
    "start_time": "2022-11-08T23:19:11.215Z"
   },
   {
    "duration": 534,
    "start_time": "2022-11-08T23:22:32.949Z"
   },
   {
    "duration": 504,
    "start_time": "2022-11-08T23:23:37.342Z"
   },
   {
    "duration": 19,
    "start_time": "2022-11-08T23:26:25.169Z"
   },
   {
    "duration": 23,
    "start_time": "2022-11-08T23:27:23.825Z"
   },
   {
    "duration": 2274,
    "start_time": "2022-11-08T23:36:43.995Z"
   },
   {
    "duration": 2389,
    "start_time": "2022-11-08T23:36:46.272Z"
   },
   {
    "duration": 908,
    "start_time": "2022-11-08T23:36:48.663Z"
   },
   {
    "duration": 4,
    "start_time": "2022-11-08T23:36:49.573Z"
   },
   {
    "duration": 159,
    "start_time": "2022-11-08T23:36:49.579Z"
   },
   {
    "duration": 117,
    "start_time": "2022-11-08T23:36:49.740Z"
   },
   {
    "duration": 7,
    "start_time": "2022-11-08T23:36:49.859Z"
   },
   {
    "duration": 304,
    "start_time": "2022-11-08T23:36:49.867Z"
   },
   {
    "duration": 1344,
    "start_time": "2022-11-08T23:36:50.173Z"
   },
   {
    "duration": 20,
    "start_time": "2022-11-08T23:36:51.519Z"
   },
   {
    "duration": 35,
    "start_time": "2022-11-08T23:36:51.541Z"
   },
   {
    "duration": 53,
    "start_time": "2022-11-08T23:36:51.578Z"
   },
   {
    "duration": 112,
    "start_time": "2022-11-08T23:36:51.633Z"
   },
   {
    "duration": 6900,
    "start_time": "2022-11-08T23:36:51.750Z"
   },
   {
    "duration": 19,
    "start_time": "2022-11-08T23:36:58.652Z"
   },
   {
    "duration": 1377,
    "start_time": "2022-11-08T23:36:58.673Z"
   },
   {
    "duration": 132,
    "start_time": "2022-11-08T23:37:00.053Z"
   },
   {
    "duration": 297,
    "start_time": "2022-11-08T23:37:00.187Z"
   },
   {
    "duration": 653,
    "start_time": "2022-11-08T23:37:00.487Z"
   },
   {
    "duration": 4,
    "start_time": "2022-11-08T23:37:01.142Z"
   },
   {
    "duration": 168,
    "start_time": "2022-11-08T23:37:01.147Z"
   },
   {
    "duration": 38,
    "start_time": "2022-11-08T23:37:01.317Z"
   },
   {
    "duration": 17,
    "start_time": "2022-11-08T23:37:01.357Z"
   },
   {
    "duration": 177,
    "start_time": "2022-11-08T23:37:01.376Z"
   },
   {
    "duration": 422,
    "start_time": "2022-11-08T23:37:01.555Z"
   },
   {
    "duration": 4,
    "start_time": "2022-11-08T23:37:01.979Z"
   },
   {
    "duration": 199,
    "start_time": "2022-11-08T23:37:01.985Z"
   },
   {
    "duration": 186,
    "start_time": "2022-11-08T23:37:02.186Z"
   },
   {
    "duration": 173,
    "start_time": "2022-11-08T23:37:02.374Z"
   },
   {
    "duration": 438,
    "start_time": "2022-11-08T23:37:02.549Z"
   },
   {
    "duration": 4,
    "start_time": "2022-11-08T23:37:02.989Z"
   },
   {
    "duration": 47,
    "start_time": "2022-11-08T23:37:02.994Z"
   },
   {
    "duration": 16,
    "start_time": "2022-11-08T23:37:03.043Z"
   },
   {
    "duration": 7,
    "start_time": "2022-11-08T23:37:03.061Z"
   },
   {
    "duration": 5,
    "start_time": "2022-11-08T23:37:03.070Z"
   },
   {
    "duration": 1097,
    "start_time": "2022-11-08T23:37:03.077Z"
   },
   {
    "duration": 443,
    "start_time": "2022-11-08T23:37:04.176Z"
   },
   {
    "duration": 4,
    "start_time": "2022-11-08T23:37:04.621Z"
   },
   {
    "duration": 16,
    "start_time": "2022-11-08T23:37:04.627Z"
   },
   {
    "duration": 194,
    "start_time": "2022-11-08T23:37:04.645Z"
   },
   {
    "duration": 16,
    "start_time": "2022-11-08T23:37:04.843Z"
   },
   {
    "duration": 149,
    "start_time": "2022-11-08T23:37:04.861Z"
   },
   {
    "duration": 9,
    "start_time": "2022-11-08T23:37:05.012Z"
   },
   {
    "duration": 20,
    "start_time": "2022-11-08T23:37:05.022Z"
   },
   {
    "duration": 42,
    "start_time": "2022-11-08T23:37:05.043Z"
   },
   {
    "duration": 48,
    "start_time": "2022-11-08T23:37:05.087Z"
   },
   {
    "duration": 609,
    "start_time": "2022-11-08T23:37:05.137Z"
   },
   {
    "duration": 122,
    "start_time": "2022-11-08T23:37:05.747Z"
   },
   {
    "duration": 15,
    "start_time": "2022-11-08T23:37:05.870Z"
   },
   {
    "duration": 46,
    "start_time": "2022-11-08T23:37:05.887Z"
   },
   {
    "duration": 4,
    "start_time": "2022-11-08T23:37:05.934Z"
   },
   {
    "duration": 17,
    "start_time": "2022-11-08T23:37:05.939Z"
   },
   {
    "duration": 3,
    "start_time": "2022-11-08T23:37:05.958Z"
   },
   {
    "duration": 90,
    "start_time": "2022-11-08T23:37:05.963Z"
   },
   {
    "duration": 397,
    "start_time": "2022-11-08T23:37:06.055Z"
   },
   {
    "duration": 11,
    "start_time": "2022-11-08T23:37:06.453Z"
   },
   {
    "duration": 611,
    "start_time": "2022-11-08T23:37:06.466Z"
   },
   {
    "duration": 0,
    "start_time": "2022-11-08T23:37:07.078Z"
   },
   {
    "duration": 0,
    "start_time": "2022-11-08T23:37:07.080Z"
   },
   {
    "duration": 0,
    "start_time": "2022-11-08T23:37:07.081Z"
   },
   {
    "duration": 2261,
    "start_time": "2022-11-08T23:37:26.326Z"
   },
   {
    "duration": 1575,
    "start_time": "2022-11-08T23:37:28.590Z"
   },
   {
    "duration": 951,
    "start_time": "2022-11-08T23:37:30.167Z"
   },
   {
    "duration": 5,
    "start_time": "2022-11-08T23:37:31.120Z"
   },
   {
    "duration": 164,
    "start_time": "2022-11-08T23:37:31.126Z"
   },
   {
    "duration": 223,
    "start_time": "2022-11-08T23:37:31.291Z"
   },
   {
    "duration": 7,
    "start_time": "2022-11-08T23:37:31.516Z"
   },
   {
    "duration": 605,
    "start_time": "2022-11-08T23:37:31.524Z"
   },
   {
    "duration": 1918,
    "start_time": "2022-11-08T23:37:32.130Z"
   },
   {
    "duration": 20,
    "start_time": "2022-11-08T23:37:34.052Z"
   },
   {
    "duration": 58,
    "start_time": "2022-11-08T23:37:34.074Z"
   },
   {
    "duration": 25,
    "start_time": "2022-11-08T23:37:34.133Z"
   },
   {
    "duration": 116,
    "start_time": "2022-11-08T23:37:34.160Z"
   },
   {
    "duration": 7055,
    "start_time": "2022-11-08T23:37:34.277Z"
   },
   {
    "duration": 18,
    "start_time": "2022-11-08T23:37:41.334Z"
   },
   {
    "duration": 1295,
    "start_time": "2022-11-08T23:37:41.354Z"
   },
   {
    "duration": 133,
    "start_time": "2022-11-08T23:37:42.651Z"
   },
   {
    "duration": 305,
    "start_time": "2022-11-08T23:37:42.786Z"
   },
   {
    "duration": 575,
    "start_time": "2022-11-08T23:37:43.093Z"
   },
   {
    "duration": 4,
    "start_time": "2022-11-08T23:37:43.669Z"
   },
   {
    "duration": 167,
    "start_time": "2022-11-08T23:37:43.675Z"
   },
   {
    "duration": 39,
    "start_time": "2022-11-08T23:37:43.844Z"
   },
   {
    "duration": 39,
    "start_time": "2022-11-08T23:37:43.885Z"
   },
   {
    "duration": 164,
    "start_time": "2022-11-08T23:37:43.926Z"
   },
   {
    "duration": 422,
    "start_time": "2022-11-08T23:37:44.091Z"
   },
   {
    "duration": 4,
    "start_time": "2022-11-08T23:37:44.515Z"
   },
   {
    "duration": 202,
    "start_time": "2022-11-08T23:37:44.521Z"
   },
   {
    "duration": 182,
    "start_time": "2022-11-08T23:37:44.727Z"
   },
   {
    "duration": 161,
    "start_time": "2022-11-08T23:37:44.911Z"
   },
   {
    "duration": 429,
    "start_time": "2022-11-08T23:37:45.074Z"
   },
   {
    "duration": 9,
    "start_time": "2022-11-08T23:37:45.505Z"
   },
   {
    "duration": 36,
    "start_time": "2022-11-08T23:37:45.516Z"
   },
   {
    "duration": 15,
    "start_time": "2022-11-08T23:37:45.553Z"
   },
   {
    "duration": 7,
    "start_time": "2022-11-08T23:37:45.570Z"
   },
   {
    "duration": 6,
    "start_time": "2022-11-08T23:37:45.579Z"
   },
   {
    "duration": 1051,
    "start_time": "2022-11-08T23:37:45.614Z"
   },
   {
    "duration": 413,
    "start_time": "2022-11-08T23:37:46.666Z"
   },
   {
    "duration": 4,
    "start_time": "2022-11-08T23:37:47.080Z"
   },
   {
    "duration": 29,
    "start_time": "2022-11-08T23:37:47.086Z"
   },
   {
    "duration": 177,
    "start_time": "2022-11-08T23:37:47.117Z"
   },
   {
    "duration": 24,
    "start_time": "2022-11-08T23:37:47.296Z"
   },
   {
    "duration": 139,
    "start_time": "2022-11-08T23:37:47.322Z"
   },
   {
    "duration": 8,
    "start_time": "2022-11-08T23:37:47.463Z"
   },
   {
    "duration": 18,
    "start_time": "2022-11-08T23:37:47.473Z"
   },
   {
    "duration": 59,
    "start_time": "2022-11-08T23:37:47.493Z"
   },
   {
    "duration": 25,
    "start_time": "2022-11-08T23:37:47.554Z"
   },
   {
    "duration": 623,
    "start_time": "2022-11-08T23:37:47.581Z"
   },
   {
    "duration": 123,
    "start_time": "2022-11-08T23:37:48.206Z"
   },
   {
    "duration": 15,
    "start_time": "2022-11-08T23:37:48.330Z"
   },
   {
    "duration": 28,
    "start_time": "2022-11-08T23:37:48.347Z"
   },
   {
    "duration": 4,
    "start_time": "2022-11-08T23:37:48.377Z"
   },
   {
    "duration": 41,
    "start_time": "2022-11-08T23:37:48.382Z"
   },
   {
    "duration": 3,
    "start_time": "2022-11-08T23:37:48.425Z"
   },
   {
    "duration": 84,
    "start_time": "2022-11-08T23:37:48.430Z"
   },
   {
    "duration": 371,
    "start_time": "2022-11-08T23:37:48.516Z"
   },
   {
    "duration": 11,
    "start_time": "2022-11-08T23:37:48.888Z"
   },
   {
    "duration": 980,
    "start_time": "2022-11-08T23:37:48.901Z"
   },
   {
    "duration": 0,
    "start_time": "2022-11-08T23:37:49.883Z"
   },
   {
    "duration": 0,
    "start_time": "2022-11-08T23:37:49.884Z"
   },
   {
    "duration": 0,
    "start_time": "2022-11-08T23:37:49.885Z"
   },
   {
    "duration": 478,
    "start_time": "2022-11-08T23:40:09.664Z"
   },
   {
    "duration": 899,
    "start_time": "2022-11-08T23:40:20.100Z"
   },
   {
    "duration": 4,
    "start_time": "2022-11-08T23:40:23.054Z"
   },
   {
    "duration": 18,
    "start_time": "2022-11-08T23:40:51.098Z"
   },
   {
    "duration": 831,
    "start_time": "2022-11-08T23:44:54.824Z"
   },
   {
    "duration": 4,
    "start_time": "2022-11-08T23:44:57.271Z"
   },
   {
    "duration": 13,
    "start_time": "2022-11-08T23:45:11.951Z"
   },
   {
    "duration": 167,
    "start_time": "2022-11-08T23:56:49.461Z"
   },
   {
    "duration": 412,
    "start_time": "2022-11-08T23:56:51.453Z"
   },
   {
    "duration": 5,
    "start_time": "2022-11-08T23:56:53.697Z"
   },
   {
    "duration": 3,
    "start_time": "2022-11-09T00:00:44.505Z"
   },
   {
    "duration": 11607,
    "start_time": "2022-11-09T00:00:57.213Z"
   },
   {
    "duration": 2295,
    "start_time": "2022-11-09T00:21:48.758Z"
   },
   {
    "duration": 1669,
    "start_time": "2022-11-09T00:21:51.055Z"
   },
   {
    "duration": 921,
    "start_time": "2022-11-09T00:21:52.725Z"
   },
   {
    "duration": 4,
    "start_time": "2022-11-09T00:21:53.648Z"
   },
   {
    "duration": 159,
    "start_time": "2022-11-09T00:21:53.654Z"
   },
   {
    "duration": 105,
    "start_time": "2022-11-09T00:21:53.815Z"
   },
   {
    "duration": 7,
    "start_time": "2022-11-09T00:21:53.922Z"
   },
   {
    "duration": 307,
    "start_time": "2022-11-09T00:21:53.932Z"
   },
   {
    "duration": 1302,
    "start_time": "2022-11-09T00:21:54.241Z"
   },
   {
    "duration": 20,
    "start_time": "2022-11-09T00:21:55.547Z"
   },
   {
    "duration": 55,
    "start_time": "2022-11-09T00:21:55.569Z"
   },
   {
    "duration": 24,
    "start_time": "2022-11-09T00:21:55.627Z"
   },
   {
    "duration": 116,
    "start_time": "2022-11-09T00:21:55.653Z"
   },
   {
    "duration": 6977,
    "start_time": "2022-11-09T00:21:55.771Z"
   },
   {
    "duration": 20,
    "start_time": "2022-11-09T00:22:02.751Z"
   },
   {
    "duration": 1374,
    "start_time": "2022-11-09T00:22:02.773Z"
   },
   {
    "duration": 132,
    "start_time": "2022-11-09T00:22:04.149Z"
   },
   {
    "duration": 297,
    "start_time": "2022-11-09T00:22:04.283Z"
   },
   {
    "duration": 581,
    "start_time": "2022-11-09T00:22:04.583Z"
   },
   {
    "duration": 4,
    "start_time": "2022-11-09T00:22:05.166Z"
   },
   {
    "duration": 171,
    "start_time": "2022-11-09T00:22:05.171Z"
   },
   {
    "duration": 38,
    "start_time": "2022-11-09T00:22:05.344Z"
   },
   {
    "duration": 30,
    "start_time": "2022-11-09T00:22:05.384Z"
   },
   {
    "duration": 166,
    "start_time": "2022-11-09T00:22:05.416Z"
   },
   {
    "duration": 410,
    "start_time": "2022-11-09T00:22:05.584Z"
   },
   {
    "duration": 4,
    "start_time": "2022-11-09T00:22:05.996Z"
   },
   {
    "duration": 190,
    "start_time": "2022-11-09T00:22:06.002Z"
   },
   {
    "duration": 180,
    "start_time": "2022-11-09T00:22:06.195Z"
   },
   {
    "duration": 163,
    "start_time": "2022-11-09T00:22:06.377Z"
   },
   {
    "duration": 416,
    "start_time": "2022-11-09T00:22:06.542Z"
   },
   {
    "duration": 4,
    "start_time": "2022-11-09T00:22:06.959Z"
   },
   {
    "duration": 31,
    "start_time": "2022-11-09T00:22:06.964Z"
   },
   {
    "duration": 30,
    "start_time": "2022-11-09T00:22:06.997Z"
   },
   {
    "duration": 8,
    "start_time": "2022-11-09T00:22:07.029Z"
   },
   {
    "duration": 6,
    "start_time": "2022-11-09T00:22:07.039Z"
   },
   {
    "duration": 1071,
    "start_time": "2022-11-09T00:22:07.047Z"
   },
   {
    "duration": 413,
    "start_time": "2022-11-09T00:22:08.120Z"
   },
   {
    "duration": 4,
    "start_time": "2022-11-09T00:22:08.536Z"
   },
   {
    "duration": 16,
    "start_time": "2022-11-09T00:22:08.542Z"
   },
   {
    "duration": 195,
    "start_time": "2022-11-09T00:22:08.560Z"
   },
   {
    "duration": 17,
    "start_time": "2022-11-09T00:22:08.757Z"
   },
   {
    "duration": 162,
    "start_time": "2022-11-09T00:22:08.776Z"
   },
   {
    "duration": 9,
    "start_time": "2022-11-09T00:22:08.941Z"
   },
   {
    "duration": 20,
    "start_time": "2022-11-09T00:22:08.952Z"
   },
   {
    "duration": 70,
    "start_time": "2022-11-09T00:22:08.974Z"
   },
   {
    "duration": 24,
    "start_time": "2022-11-09T00:22:09.046Z"
   },
   {
    "duration": 618,
    "start_time": "2022-11-09T00:22:09.072Z"
   },
   {
    "duration": 121,
    "start_time": "2022-11-09T00:22:09.692Z"
   },
   {
    "duration": 14,
    "start_time": "2022-11-09T00:22:09.815Z"
   },
   {
    "duration": 31,
    "start_time": "2022-11-09T00:22:09.830Z"
   },
   {
    "duration": 3,
    "start_time": "2022-11-09T00:22:09.863Z"
   },
   {
    "duration": 31,
    "start_time": "2022-11-09T00:22:09.868Z"
   },
   {
    "duration": 26,
    "start_time": "2022-11-09T00:22:09.901Z"
   },
   {
    "duration": 72,
    "start_time": "2022-11-09T00:22:09.929Z"
   },
   {
    "duration": 356,
    "start_time": "2022-11-09T00:22:10.002Z"
   },
   {
    "duration": 10,
    "start_time": "2022-11-09T00:22:10.360Z"
   },
   {
    "duration": 903,
    "start_time": "2022-11-09T00:22:10.372Z"
   },
   {
    "duration": 5,
    "start_time": "2022-11-09T00:22:11.276Z"
   },
   {
    "duration": 36,
    "start_time": "2022-11-09T00:22:11.282Z"
   },
   {
    "duration": 193,
    "start_time": "2022-11-09T00:22:11.320Z"
   },
   {
    "duration": 426,
    "start_time": "2022-11-09T00:22:11.515Z"
   },
   {
    "duration": 4,
    "start_time": "2022-11-09T00:22:11.943Z"
   },
   {
    "duration": 151,
    "start_time": "2022-11-09T00:22:11.948Z"
   },
   {
    "duration": 11617,
    "start_time": "2022-11-09T00:22:12.101Z"
   },
   {
    "duration": 117,
    "start_time": "2022-11-09T00:22:23.720Z"
   },
   {
    "duration": 2313,
    "start_time": "2022-11-09T00:23:16.945Z"
   },
   {
    "duration": 1572,
    "start_time": "2022-11-09T00:23:19.260Z"
   },
   {
    "duration": 0,
    "start_time": "2022-11-09T00:23:20.835Z"
   },
   {
    "duration": 0,
    "start_time": "2022-11-09T00:23:20.836Z"
   },
   {
    "duration": 0,
    "start_time": "2022-11-09T00:23:20.837Z"
   },
   {
    "duration": 0,
    "start_time": "2022-11-09T00:23:20.838Z"
   },
   {
    "duration": 0,
    "start_time": "2022-11-09T00:23:20.840Z"
   },
   {
    "duration": 0,
    "start_time": "2022-11-09T00:23:20.841Z"
   },
   {
    "duration": 0,
    "start_time": "2022-11-09T00:23:20.842Z"
   },
   {
    "duration": 0,
    "start_time": "2022-11-09T00:23:20.843Z"
   },
   {
    "duration": 0,
    "start_time": "2022-11-09T00:23:20.844Z"
   },
   {
    "duration": 0,
    "start_time": "2022-11-09T00:23:20.845Z"
   },
   {
    "duration": 0,
    "start_time": "2022-11-09T00:23:20.846Z"
   },
   {
    "duration": 0,
    "start_time": "2022-11-09T00:23:20.847Z"
   },
   {
    "duration": 0,
    "start_time": "2022-11-09T00:23:20.848Z"
   },
   {
    "duration": 0,
    "start_time": "2022-11-09T00:23:20.849Z"
   },
   {
    "duration": 0,
    "start_time": "2022-11-09T00:23:20.851Z"
   },
   {
    "duration": 0,
    "start_time": "2022-11-09T00:23:20.852Z"
   },
   {
    "duration": 0,
    "start_time": "2022-11-09T00:23:20.853Z"
   },
   {
    "duration": 0,
    "start_time": "2022-11-09T00:23:20.854Z"
   },
   {
    "duration": 0,
    "start_time": "2022-11-09T00:23:20.855Z"
   },
   {
    "duration": 0,
    "start_time": "2022-11-09T00:23:20.856Z"
   },
   {
    "duration": 0,
    "start_time": "2022-11-09T00:23:20.857Z"
   },
   {
    "duration": 0,
    "start_time": "2022-11-09T00:23:20.858Z"
   },
   {
    "duration": 0,
    "start_time": "2022-11-09T00:23:20.859Z"
   },
   {
    "duration": 0,
    "start_time": "2022-11-09T00:23:20.860Z"
   },
   {
    "duration": 0,
    "start_time": "2022-11-09T00:23:20.861Z"
   },
   {
    "duration": 0,
    "start_time": "2022-11-09T00:23:20.862Z"
   },
   {
    "duration": 0,
    "start_time": "2022-11-09T00:23:20.863Z"
   },
   {
    "duration": 0,
    "start_time": "2022-11-09T00:23:20.913Z"
   },
   {
    "duration": 0,
    "start_time": "2022-11-09T00:23:20.914Z"
   },
   {
    "duration": 0,
    "start_time": "2022-11-09T00:23:20.915Z"
   },
   {
    "duration": 0,
    "start_time": "2022-11-09T00:23:20.916Z"
   },
   {
    "duration": 0,
    "start_time": "2022-11-09T00:23:20.917Z"
   },
   {
    "duration": 0,
    "start_time": "2022-11-09T00:23:20.918Z"
   },
   {
    "duration": 0,
    "start_time": "2022-11-09T00:23:20.919Z"
   },
   {
    "duration": 0,
    "start_time": "2022-11-09T00:23:20.920Z"
   },
   {
    "duration": 0,
    "start_time": "2022-11-09T00:23:20.921Z"
   },
   {
    "duration": 0,
    "start_time": "2022-11-09T00:23:20.922Z"
   },
   {
    "duration": 0,
    "start_time": "2022-11-09T00:23:20.923Z"
   },
   {
    "duration": 0,
    "start_time": "2022-11-09T00:23:20.924Z"
   },
   {
    "duration": 0,
    "start_time": "2022-11-09T00:23:20.925Z"
   },
   {
    "duration": 0,
    "start_time": "2022-11-09T00:23:20.927Z"
   },
   {
    "duration": 0,
    "start_time": "2022-11-09T00:23:20.928Z"
   },
   {
    "duration": 0,
    "start_time": "2022-11-09T00:23:20.929Z"
   },
   {
    "duration": 0,
    "start_time": "2022-11-09T00:23:20.929Z"
   },
   {
    "duration": 0,
    "start_time": "2022-11-09T00:23:20.930Z"
   },
   {
    "duration": 0,
    "start_time": "2022-11-09T00:23:20.932Z"
   },
   {
    "duration": 0,
    "start_time": "2022-11-09T00:23:20.933Z"
   },
   {
    "duration": 0,
    "start_time": "2022-11-09T00:23:20.934Z"
   },
   {
    "duration": 0,
    "start_time": "2022-11-09T00:23:20.935Z"
   },
   {
    "duration": 0,
    "start_time": "2022-11-09T00:23:20.936Z"
   },
   {
    "duration": 0,
    "start_time": "2022-11-09T00:23:20.937Z"
   },
   {
    "duration": 0,
    "start_time": "2022-11-09T00:23:20.938Z"
   },
   {
    "duration": 0,
    "start_time": "2022-11-09T00:23:20.939Z"
   },
   {
    "duration": 0,
    "start_time": "2022-11-09T00:23:20.940Z"
   },
   {
    "duration": 0,
    "start_time": "2022-11-09T00:23:20.941Z"
   },
   {
    "duration": 0,
    "start_time": "2022-11-09T00:23:20.942Z"
   },
   {
    "duration": 0,
    "start_time": "2022-11-09T00:23:20.943Z"
   },
   {
    "duration": 0,
    "start_time": "2022-11-09T00:23:20.946Z"
   },
   {
    "duration": 0,
    "start_time": "2022-11-09T00:23:20.947Z"
   },
   {
    "duration": 0,
    "start_time": "2022-11-09T00:23:20.948Z"
   },
   {
    "duration": 0,
    "start_time": "2022-11-09T00:23:20.949Z"
   },
   {
    "duration": 0,
    "start_time": "2022-11-09T00:23:20.950Z"
   },
   {
    "duration": 0,
    "start_time": "2022-11-09T00:23:21.013Z"
   },
   {
    "duration": 2285,
    "start_time": "2022-11-09T00:23:52.175Z"
   },
   {
    "duration": 2279,
    "start_time": "2022-11-09T00:23:54.462Z"
   },
   {
    "duration": 908,
    "start_time": "2022-11-09T00:23:56.742Z"
   },
   {
    "duration": 4,
    "start_time": "2022-11-09T00:23:57.652Z"
   },
   {
    "duration": 149,
    "start_time": "2022-11-09T00:23:57.658Z"
   },
   {
    "duration": 105,
    "start_time": "2022-11-09T00:23:57.813Z"
   },
   {
    "duration": 6,
    "start_time": "2022-11-09T00:23:57.920Z"
   },
   {
    "duration": 302,
    "start_time": "2022-11-09T00:23:57.928Z"
   },
   {
    "duration": 1319,
    "start_time": "2022-11-09T00:23:58.232Z"
   },
   {
    "duration": 20,
    "start_time": "2022-11-09T00:23:59.553Z"
   },
   {
    "duration": 51,
    "start_time": "2022-11-09T00:23:59.575Z"
   },
   {
    "duration": 26,
    "start_time": "2022-11-09T00:23:59.627Z"
   },
   {
    "duration": 140,
    "start_time": "2022-11-09T00:23:59.655Z"
   },
   {
    "duration": 8002,
    "start_time": "2022-11-09T00:23:59.799Z"
   },
   {
    "duration": 19,
    "start_time": "2022-11-09T00:24:07.803Z"
   },
   {
    "duration": 1400,
    "start_time": "2022-11-09T00:24:07.823Z"
   },
   {
    "duration": 139,
    "start_time": "2022-11-09T00:24:09.224Z"
   },
   {
    "duration": 271,
    "start_time": "2022-11-09T00:24:09.364Z"
   },
   {
    "duration": 555,
    "start_time": "2022-11-09T00:24:09.637Z"
   },
   {
    "duration": 4,
    "start_time": "2022-11-09T00:24:10.194Z"
   },
   {
    "duration": 168,
    "start_time": "2022-11-09T00:24:10.199Z"
   },
   {
    "duration": 52,
    "start_time": "2022-11-09T00:24:10.368Z"
   },
   {
    "duration": 17,
    "start_time": "2022-11-09T00:24:10.422Z"
   },
   {
    "duration": 168,
    "start_time": "2022-11-09T00:24:10.441Z"
   },
   {
    "duration": 404,
    "start_time": "2022-11-09T00:24:10.612Z"
   },
   {
    "duration": 4,
    "start_time": "2022-11-09T00:24:11.018Z"
   },
   {
    "duration": 194,
    "start_time": "2022-11-09T00:24:11.024Z"
   },
   {
    "duration": 179,
    "start_time": "2022-11-09T00:24:11.220Z"
   },
   {
    "duration": 157,
    "start_time": "2022-11-09T00:24:11.401Z"
   },
   {
    "duration": 417,
    "start_time": "2022-11-09T00:24:11.559Z"
   },
   {
    "duration": 4,
    "start_time": "2022-11-09T00:24:11.978Z"
   },
   {
    "duration": 45,
    "start_time": "2022-11-09T00:24:11.984Z"
   },
   {
    "duration": 15,
    "start_time": "2022-11-09T00:24:12.031Z"
   },
   {
    "duration": 6,
    "start_time": "2022-11-09T00:24:12.048Z"
   },
   {
    "duration": 5,
    "start_time": "2022-11-09T00:24:12.056Z"
   },
   {
    "duration": 1113,
    "start_time": "2022-11-09T00:24:12.063Z"
   },
   {
    "duration": 411,
    "start_time": "2022-11-09T00:24:13.177Z"
   },
   {
    "duration": 3,
    "start_time": "2022-11-09T00:24:13.590Z"
   },
   {
    "duration": 28,
    "start_time": "2022-11-09T00:24:13.595Z"
   },
   {
    "duration": 171,
    "start_time": "2022-11-09T00:24:13.625Z"
   },
   {
    "duration": 25,
    "start_time": "2022-11-09T00:24:13.799Z"
   },
   {
    "duration": 132,
    "start_time": "2022-11-09T00:24:13.825Z"
   },
   {
    "duration": 7,
    "start_time": "2022-11-09T00:24:13.959Z"
   },
   {
    "duration": 18,
    "start_time": "2022-11-09T00:24:13.968Z"
   },
   {
    "duration": 56,
    "start_time": "2022-11-09T00:24:13.988Z"
   },
   {
    "duration": 21,
    "start_time": "2022-11-09T00:24:14.046Z"
   },
   {
    "duration": 613,
    "start_time": "2022-11-09T00:24:14.068Z"
   },
   {
    "duration": 130,
    "start_time": "2022-11-09T00:24:14.683Z"
   },
   {
    "duration": 15,
    "start_time": "2022-11-09T00:24:14.815Z"
   },
   {
    "duration": 28,
    "start_time": "2022-11-09T00:24:14.832Z"
   },
   {
    "duration": 4,
    "start_time": "2022-11-09T00:24:14.862Z"
   },
   {
    "duration": 46,
    "start_time": "2022-11-09T00:24:14.868Z"
   },
   {
    "duration": 3,
    "start_time": "2022-11-09T00:24:14.916Z"
   },
   {
    "duration": 71,
    "start_time": "2022-11-09T00:24:14.921Z"
   },
   {
    "duration": 367,
    "start_time": "2022-11-09T00:24:14.994Z"
   },
   {
    "duration": 11,
    "start_time": "2022-11-09T00:24:15.363Z"
   },
   {
    "duration": 858,
    "start_time": "2022-11-09T00:24:15.376Z"
   },
   {
    "duration": 4,
    "start_time": "2022-11-09T00:24:16.236Z"
   },
   {
    "duration": 14,
    "start_time": "2022-11-09T00:24:16.242Z"
   },
   {
    "duration": 183,
    "start_time": "2022-11-09T00:24:16.259Z"
   },
   {
    "duration": 422,
    "start_time": "2022-11-09T00:24:16.444Z"
   },
   {
    "duration": 4,
    "start_time": "2022-11-09T00:24:16.868Z"
   },
   {
    "duration": 140,
    "start_time": "2022-11-09T00:24:16.873Z"
   },
   {
    "duration": 11500,
    "start_time": "2022-11-09T00:24:17.015Z"
   },
   {
    "duration": 111,
    "start_time": "2022-11-09T00:24:28.516Z"
   },
   {
    "duration": 27,
    "start_time": "2022-11-09T00:30:02.769Z"
   },
   {
    "duration": 20,
    "start_time": "2022-11-09T00:30:23.948Z"
   },
   {
    "duration": 2303,
    "start_time": "2022-11-09T00:32:47.717Z"
   },
   {
    "duration": 1510,
    "start_time": "2022-11-09T00:32:50.023Z"
   },
   {
    "duration": 883,
    "start_time": "2022-11-09T00:32:51.535Z"
   },
   {
    "duration": 4,
    "start_time": "2022-11-09T00:32:52.420Z"
   },
   {
    "duration": 159,
    "start_time": "2022-11-09T00:32:52.425Z"
   },
   {
    "duration": 112,
    "start_time": "2022-11-09T00:32:52.585Z"
   },
   {
    "duration": 6,
    "start_time": "2022-11-09T00:32:52.698Z"
   },
   {
    "duration": 318,
    "start_time": "2022-11-09T00:32:52.713Z"
   },
   {
    "duration": 1292,
    "start_time": "2022-11-09T00:32:53.033Z"
   },
   {
    "duration": 22,
    "start_time": "2022-11-09T00:32:54.329Z"
   },
   {
    "duration": 37,
    "start_time": "2022-11-09T00:32:54.353Z"
   },
   {
    "duration": 44,
    "start_time": "2022-11-09T00:32:54.392Z"
   },
   {
    "duration": 112,
    "start_time": "2022-11-09T00:32:54.437Z"
   },
   {
    "duration": 7883,
    "start_time": "2022-11-09T00:32:54.551Z"
   },
   {
    "duration": 18,
    "start_time": "2022-11-09T00:33:02.435Z"
   },
   {
    "duration": 1377,
    "start_time": "2022-11-09T00:33:02.455Z"
   },
   {
    "duration": 127,
    "start_time": "2022-11-09T00:33:03.834Z"
   },
   {
    "duration": 285,
    "start_time": "2022-11-09T00:33:03.962Z"
   },
   {
    "duration": 572,
    "start_time": "2022-11-09T00:33:04.249Z"
   },
   {
    "duration": 5,
    "start_time": "2022-11-09T00:33:04.822Z"
   },
   {
    "duration": 161,
    "start_time": "2022-11-09T00:33:04.829Z"
   },
   {
    "duration": 46,
    "start_time": "2022-11-09T00:33:04.991Z"
   },
   {
    "duration": 18,
    "start_time": "2022-11-09T00:33:05.038Z"
   },
   {
    "duration": 168,
    "start_time": "2022-11-09T00:33:05.058Z"
   },
   {
    "duration": 395,
    "start_time": "2022-11-09T00:33:05.228Z"
   },
   {
    "duration": 5,
    "start_time": "2022-11-09T00:33:05.624Z"
   },
   {
    "duration": 193,
    "start_time": "2022-11-09T00:33:05.630Z"
   },
   {
    "duration": 178,
    "start_time": "2022-11-09T00:33:05.827Z"
   },
   {
    "duration": 163,
    "start_time": "2022-11-09T00:33:06.007Z"
   },
   {
    "duration": 419,
    "start_time": "2022-11-09T00:33:06.171Z"
   },
   {
    "duration": 4,
    "start_time": "2022-11-09T00:33:06.592Z"
   },
   {
    "duration": 46,
    "start_time": "2022-11-09T00:33:06.597Z"
   },
   {
    "duration": 15,
    "start_time": "2022-11-09T00:33:06.645Z"
   },
   {
    "duration": 18,
    "start_time": "2022-11-09T00:33:06.662Z"
   },
   {
    "duration": 18,
    "start_time": "2022-11-09T00:33:06.682Z"
   },
   {
    "duration": 1050,
    "start_time": "2022-11-09T00:33:06.701Z"
   },
   {
    "duration": 412,
    "start_time": "2022-11-09T00:33:07.752Z"
   },
   {
    "duration": 4,
    "start_time": "2022-11-09T00:33:08.166Z"
   },
   {
    "duration": 19,
    "start_time": "2022-11-09T00:33:08.171Z"
   },
   {
    "duration": 184,
    "start_time": "2022-11-09T00:33:08.192Z"
   },
   {
    "duration": 15,
    "start_time": "2022-11-09T00:33:08.377Z"
   },
   {
    "duration": 141,
    "start_time": "2022-11-09T00:33:08.394Z"
   },
   {
    "duration": 8,
    "start_time": "2022-11-09T00:33:08.537Z"
   },
   {
    "duration": 18,
    "start_time": "2022-11-09T00:33:08.546Z"
   },
   {
    "duration": 59,
    "start_time": "2022-11-09T00:33:08.566Z"
   },
   {
    "duration": 24,
    "start_time": "2022-11-09T00:33:08.627Z"
   },
   {
    "duration": 632,
    "start_time": "2022-11-09T00:33:08.653Z"
   },
   {
    "duration": 120,
    "start_time": "2022-11-09T00:33:09.287Z"
   },
   {
    "duration": 14,
    "start_time": "2022-11-09T00:33:09.412Z"
   },
   {
    "duration": 26,
    "start_time": "2022-11-09T00:33:09.428Z"
   },
   {
    "duration": 4,
    "start_time": "2022-11-09T00:33:09.456Z"
   },
   {
    "duration": 15,
    "start_time": "2022-11-09T00:33:09.461Z"
   },
   {
    "duration": 4,
    "start_time": "2022-11-09T00:33:09.478Z"
   },
   {
    "duration": 64,
    "start_time": "2022-11-09T00:33:09.512Z"
   },
   {
    "duration": 391,
    "start_time": "2022-11-09T00:33:09.578Z"
   },
   {
    "duration": 11,
    "start_time": "2022-11-09T00:33:09.970Z"
   },
   {
    "duration": 837,
    "start_time": "2022-11-09T00:33:09.982Z"
   },
   {
    "duration": 4,
    "start_time": "2022-11-09T00:33:10.821Z"
   },
   {
    "duration": 14,
    "start_time": "2022-11-09T00:33:10.826Z"
   },
   {
    "duration": 181,
    "start_time": "2022-11-09T00:33:10.842Z"
   },
   {
    "duration": 427,
    "start_time": "2022-11-09T00:33:11.025Z"
   },
   {
    "duration": 4,
    "start_time": "2022-11-09T00:33:11.454Z"
   },
   {
    "duration": 6,
    "start_time": "2022-11-09T00:33:11.460Z"
   },
   {
    "duration": 12951,
    "start_time": "2022-11-09T00:33:11.468Z"
   },
   {
    "duration": 199,
    "start_time": "2022-11-09T00:33:24.421Z"
   },
   {
    "duration": 2488,
    "start_time": "2022-11-09T00:33:50.387Z"
   },
   {
    "duration": 1477,
    "start_time": "2022-11-09T00:33:52.878Z"
   },
   {
    "duration": 895,
    "start_time": "2022-11-09T00:33:54.358Z"
   },
   {
    "duration": 4,
    "start_time": "2022-11-09T00:33:55.254Z"
   },
   {
    "duration": 158,
    "start_time": "2022-11-09T00:33:55.261Z"
   },
   {
    "duration": 111,
    "start_time": "2022-11-09T00:33:55.421Z"
   },
   {
    "duration": 7,
    "start_time": "2022-11-09T00:33:55.533Z"
   },
   {
    "duration": 297,
    "start_time": "2022-11-09T00:33:55.542Z"
   },
   {
    "duration": 1272,
    "start_time": "2022-11-09T00:33:55.841Z"
   },
   {
    "duration": 19,
    "start_time": "2022-11-09T00:33:57.115Z"
   },
   {
    "duration": 34,
    "start_time": "2022-11-09T00:33:57.136Z"
   },
   {
    "duration": 42,
    "start_time": "2022-11-09T00:33:57.172Z"
   },
   {
    "duration": 114,
    "start_time": "2022-11-09T00:33:57.216Z"
   },
   {
    "duration": 6897,
    "start_time": "2022-11-09T00:33:57.334Z"
   },
   {
    "duration": 18,
    "start_time": "2022-11-09T00:34:04.232Z"
   },
   {
    "duration": 1362,
    "start_time": "2022-11-09T00:34:04.252Z"
   },
   {
    "duration": 123,
    "start_time": "2022-11-09T00:34:05.616Z"
   },
   {
    "duration": 282,
    "start_time": "2022-11-09T00:34:05.741Z"
   },
   {
    "duration": 554,
    "start_time": "2022-11-09T00:34:06.025Z"
   },
   {
    "duration": 4,
    "start_time": "2022-11-09T00:34:06.581Z"
   },
   {
    "duration": 167,
    "start_time": "2022-11-09T00:34:06.587Z"
   },
   {
    "duration": 38,
    "start_time": "2022-11-09T00:34:06.756Z"
   },
   {
    "duration": 32,
    "start_time": "2022-11-09T00:34:06.796Z"
   },
   {
    "duration": 168,
    "start_time": "2022-11-09T00:34:06.830Z"
   },
   {
    "duration": 405,
    "start_time": "2022-11-09T00:34:07.000Z"
   },
   {
    "duration": 6,
    "start_time": "2022-11-09T00:34:07.407Z"
   },
   {
    "duration": 190,
    "start_time": "2022-11-09T00:34:07.414Z"
   },
   {
    "duration": 169,
    "start_time": "2022-11-09T00:34:07.606Z"
   },
   {
    "duration": 162,
    "start_time": "2022-11-09T00:34:07.777Z"
   },
   {
    "duration": 414,
    "start_time": "2022-11-09T00:34:07.941Z"
   },
   {
    "duration": 4,
    "start_time": "2022-11-09T00:34:08.357Z"
   },
   {
    "duration": 32,
    "start_time": "2022-11-09T00:34:08.363Z"
   },
   {
    "duration": 29,
    "start_time": "2022-11-09T00:34:08.397Z"
   },
   {
    "duration": 6,
    "start_time": "2022-11-09T00:34:08.428Z"
   },
   {
    "duration": 5,
    "start_time": "2022-11-09T00:34:08.436Z"
   },
   {
    "duration": 1076,
    "start_time": "2022-11-09T00:34:08.442Z"
   },
   {
    "duration": 400,
    "start_time": "2022-11-09T00:34:09.519Z"
   },
   {
    "duration": 3,
    "start_time": "2022-11-09T00:34:09.921Z"
   },
   {
    "duration": 16,
    "start_time": "2022-11-09T00:34:09.925Z"
   },
   {
    "duration": 184,
    "start_time": "2022-11-09T00:34:09.942Z"
   },
   {
    "duration": 16,
    "start_time": "2022-11-09T00:34:10.130Z"
   },
   {
    "duration": 139,
    "start_time": "2022-11-09T00:34:10.147Z"
   },
   {
    "duration": 7,
    "start_time": "2022-11-09T00:34:10.288Z"
   },
   {
    "duration": 29,
    "start_time": "2022-11-09T00:34:10.297Z"
   },
   {
    "duration": 41,
    "start_time": "2022-11-09T00:34:10.328Z"
   },
   {
    "duration": 43,
    "start_time": "2022-11-09T00:34:10.370Z"
   },
   {
    "duration": 580,
    "start_time": "2022-11-09T00:34:10.415Z"
   },
   {
    "duration": 117,
    "start_time": "2022-11-09T00:34:10.997Z"
   },
   {
    "duration": 15,
    "start_time": "2022-11-09T00:34:11.116Z"
   },
   {
    "duration": 28,
    "start_time": "2022-11-09T00:34:11.132Z"
   },
   {
    "duration": 3,
    "start_time": "2022-11-09T00:34:11.162Z"
   },
   {
    "duration": 17,
    "start_time": "2022-11-09T00:34:11.167Z"
   },
   {
    "duration": 28,
    "start_time": "2022-11-09T00:34:11.186Z"
   },
   {
    "duration": 65,
    "start_time": "2022-11-09T00:34:11.216Z"
   },
   {
    "duration": 368,
    "start_time": "2022-11-09T00:34:11.283Z"
   },
   {
    "duration": 10,
    "start_time": "2022-11-09T00:34:11.653Z"
   },
   {
    "duration": 848,
    "start_time": "2022-11-09T00:34:11.665Z"
   },
   {
    "duration": 4,
    "start_time": "2022-11-09T00:34:12.514Z"
   },
   {
    "duration": 16,
    "start_time": "2022-11-09T00:34:12.520Z"
   },
   {
    "duration": 177,
    "start_time": "2022-11-09T00:34:12.538Z"
   },
   {
    "duration": 450,
    "start_time": "2022-11-09T00:34:12.718Z"
   },
   {
    "duration": 5,
    "start_time": "2022-11-09T00:34:13.170Z"
   },
   {
    "duration": 140,
    "start_time": "2022-11-09T00:34:13.177Z"
   },
   {
    "duration": 11497,
    "start_time": "2022-11-09T00:34:13.318Z"
   },
   {
    "duration": 198,
    "start_time": "2022-11-09T00:34:24.817Z"
   },
   {
    "duration": 5085,
    "start_time": "2022-11-09T00:51:55.986Z"
   },
   {
    "duration": 3,
    "start_time": "2022-11-09T00:53:41.082Z"
   },
   {
    "duration": 340,
    "start_time": "2022-11-09T00:53:48.188Z"
   },
   {
    "duration": 5040,
    "start_time": "2022-11-09T00:54:01.044Z"
   },
   {
    "duration": 339,
    "start_time": "2022-11-09T00:54:09.088Z"
   },
   {
    "duration": 17,
    "start_time": "2022-11-09T00:56:26.133Z"
   },
   {
    "duration": 17,
    "start_time": "2022-11-09T00:57:17.847Z"
   },
   {
    "duration": 2796,
    "start_time": "2022-11-09T08:12:47.667Z"
   },
   {
    "duration": 1570,
    "start_time": "2022-11-09T08:12:50.465Z"
   },
   {
    "duration": 2727,
    "start_time": "2022-11-09T08:12:52.037Z"
   },
   {
    "duration": 4,
    "start_time": "2022-11-09T08:12:54.766Z"
   },
   {
    "duration": 108,
    "start_time": "2022-11-09T08:12:54.771Z"
   },
   {
    "duration": 120,
    "start_time": "2022-11-09T08:12:54.880Z"
   },
   {
    "duration": 6,
    "start_time": "2022-11-09T08:12:55.001Z"
   },
   {
    "duration": 267,
    "start_time": "2022-11-09T08:12:55.008Z"
   },
   {
    "duration": 1395,
    "start_time": "2022-11-09T08:12:55.277Z"
   },
   {
    "duration": 14,
    "start_time": "2022-11-09T08:12:56.674Z"
   },
   {
    "duration": 28,
    "start_time": "2022-11-09T08:12:56.690Z"
   },
   {
    "duration": 22,
    "start_time": "2022-11-09T08:12:56.719Z"
   },
   {
    "duration": 99,
    "start_time": "2022-11-09T08:12:56.743Z"
   },
   {
    "duration": 6166,
    "start_time": "2022-11-09T08:12:56.843Z"
   },
   {
    "duration": 17,
    "start_time": "2022-11-09T08:13:03.011Z"
   },
   {
    "duration": 1176,
    "start_time": "2022-11-09T08:13:03.029Z"
   },
   {
    "duration": 129,
    "start_time": "2022-11-09T08:13:04.206Z"
   },
   {
    "duration": 259,
    "start_time": "2022-11-09T08:13:04.336Z"
   },
   {
    "duration": 511,
    "start_time": "2022-11-09T08:13:04.597Z"
   },
   {
    "duration": 4,
    "start_time": "2022-11-09T08:13:05.110Z"
   },
   {
    "duration": 153,
    "start_time": "2022-11-09T08:13:05.115Z"
   },
   {
    "duration": 37,
    "start_time": "2022-11-09T08:13:05.270Z"
   },
   {
    "duration": 17,
    "start_time": "2022-11-09T08:13:05.308Z"
   },
   {
    "duration": 171,
    "start_time": "2022-11-09T08:13:05.326Z"
   },
   {
    "duration": 403,
    "start_time": "2022-11-09T08:13:05.498Z"
   },
   {
    "duration": 5,
    "start_time": "2022-11-09T08:13:05.902Z"
   },
   {
    "duration": 216,
    "start_time": "2022-11-09T08:13:05.908Z"
   },
   {
    "duration": 205,
    "start_time": "2022-11-09T08:13:06.128Z"
   },
   {
    "duration": 160,
    "start_time": "2022-11-09T08:13:06.335Z"
   },
   {
    "duration": 376,
    "start_time": "2022-11-09T08:13:06.497Z"
   },
   {
    "duration": 4,
    "start_time": "2022-11-09T08:13:06.875Z"
   },
   {
    "duration": 34,
    "start_time": "2022-11-09T08:13:06.880Z"
   },
   {
    "duration": 15,
    "start_time": "2022-11-09T08:13:06.916Z"
   },
   {
    "duration": 7,
    "start_time": "2022-11-09T08:13:06.934Z"
   },
   {
    "duration": 29,
    "start_time": "2022-11-09T08:13:06.943Z"
   },
   {
    "duration": 990,
    "start_time": "2022-11-09T08:13:06.974Z"
   },
   {
    "duration": 384,
    "start_time": "2022-11-09T08:13:07.968Z"
   },
   {
    "duration": 3,
    "start_time": "2022-11-09T08:13:08.354Z"
   },
   {
    "duration": 21,
    "start_time": "2022-11-09T08:13:08.359Z"
   },
   {
    "duration": 171,
    "start_time": "2022-11-09T08:13:08.381Z"
   },
   {
    "duration": 24,
    "start_time": "2022-11-09T08:13:08.554Z"
   },
   {
    "duration": 125,
    "start_time": "2022-11-09T08:13:08.580Z"
   },
   {
    "duration": 8,
    "start_time": "2022-11-09T08:13:08.706Z"
   },
   {
    "duration": 18,
    "start_time": "2022-11-09T08:13:08.716Z"
   },
   {
    "duration": 61,
    "start_time": "2022-11-09T08:13:08.735Z"
   },
   {
    "duration": 22,
    "start_time": "2022-11-09T08:13:08.797Z"
   },
   {
    "duration": 653,
    "start_time": "2022-11-09T08:13:08.821Z"
   },
   {
    "duration": 121,
    "start_time": "2022-11-09T08:13:09.476Z"
   },
   {
    "duration": 14,
    "start_time": "2022-11-09T08:13:09.599Z"
   },
   {
    "duration": 29,
    "start_time": "2022-11-09T08:13:09.614Z"
   },
   {
    "duration": 26,
    "start_time": "2022-11-09T08:13:09.644Z"
   },
   {
    "duration": 18,
    "start_time": "2022-11-09T08:13:09.672Z"
   },
   {
    "duration": 4,
    "start_time": "2022-11-09T08:13:09.692Z"
   },
   {
    "duration": 72,
    "start_time": "2022-11-09T08:13:09.697Z"
   },
   {
    "duration": 340,
    "start_time": "2022-11-09T08:13:09.771Z"
   },
   {
    "duration": 10,
    "start_time": "2022-11-09T08:13:10.112Z"
   },
   {
    "duration": 780,
    "start_time": "2022-11-09T08:13:10.124Z"
   },
   {
    "duration": 4,
    "start_time": "2022-11-09T08:13:10.905Z"
   },
   {
    "duration": 15,
    "start_time": "2022-11-09T08:13:10.911Z"
   },
   {
    "duration": 177,
    "start_time": "2022-11-09T08:13:10.928Z"
   },
   {
    "duration": 487,
    "start_time": "2022-11-09T08:13:11.107Z"
   },
   {
    "duration": 4,
    "start_time": "2022-11-09T08:13:11.596Z"
   },
   {
    "duration": 117,
    "start_time": "2022-11-09T08:13:11.601Z"
   },
   {
    "duration": 11153,
    "start_time": "2022-11-09T08:13:11.720Z"
   },
   {
    "duration": 198,
    "start_time": "2022-11-09T08:13:22.874Z"
   },
   {
    "duration": 4532,
    "start_time": "2022-11-09T08:13:23.073Z"
   },
   {
    "duration": 298,
    "start_time": "2022-11-09T08:13:27.607Z"
   },
   {
    "duration": 15,
    "start_time": "2022-11-09T08:13:27.907Z"
   },
   {
    "duration": 491169,
    "start_time": "2022-11-09T08:17:41.286Z"
   },
   {
    "duration": 12246,
    "start_time": "2022-11-09T08:35:32.087Z"
   },
   {
    "duration": 564,
    "start_time": "2022-11-09T08:36:24.955Z"
   },
   {
    "duration": 152,
    "start_time": "2022-11-09T08:53:46.856Z"
   },
   {
    "duration": 58,
    "start_time": "2022-11-09T08:54:53.019Z"
   },
   {
    "duration": 79,
    "start_time": "2022-11-09T08:56:32.986Z"
   },
   {
    "duration": 19,
    "start_time": "2022-11-09T08:57:16.231Z"
   },
   {
    "duration": 1958,
    "start_time": "2022-11-09T08:59:19.677Z"
   },
   {
    "duration": 1387,
    "start_time": "2022-11-09T08:59:21.638Z"
   },
   {
    "duration": 769,
    "start_time": "2022-11-09T08:59:23.026Z"
   },
   {
    "duration": 4,
    "start_time": "2022-11-09T08:59:23.797Z"
   },
   {
    "duration": 124,
    "start_time": "2022-11-09T08:59:23.803Z"
   },
   {
    "duration": 105,
    "start_time": "2022-11-09T08:59:23.928Z"
   },
   {
    "duration": 6,
    "start_time": "2022-11-09T08:59:24.035Z"
   },
   {
    "duration": 278,
    "start_time": "2022-11-09T08:59:24.043Z"
   },
   {
    "duration": 1277,
    "start_time": "2022-11-09T08:59:24.323Z"
   },
   {
    "duration": 16,
    "start_time": "2022-11-09T08:59:25.602Z"
   },
   {
    "duration": 49,
    "start_time": "2022-11-09T08:59:25.620Z"
   },
   {
    "duration": 21,
    "start_time": "2022-11-09T08:59:25.671Z"
   },
   {
    "duration": 92,
    "start_time": "2022-11-09T08:59:25.693Z"
   },
   {
    "duration": 7821,
    "start_time": "2022-11-09T08:59:25.786Z"
   },
   {
    "duration": 17,
    "start_time": "2022-11-09T08:59:33.608Z"
   },
   {
    "duration": 1483,
    "start_time": "2022-11-09T08:59:33.626Z"
   },
   {
    "duration": 138,
    "start_time": "2022-11-09T08:59:35.112Z"
   },
   {
    "duration": 266,
    "start_time": "2022-11-09T08:59:35.252Z"
   },
   {
    "duration": 586,
    "start_time": "2022-11-09T08:59:35.520Z"
   },
   {
    "duration": 5,
    "start_time": "2022-11-09T08:59:36.108Z"
   },
   {
    "duration": 198,
    "start_time": "2022-11-09T08:59:36.114Z"
   },
   {
    "duration": 33,
    "start_time": "2022-11-09T08:59:36.314Z"
   },
   {
    "duration": 33,
    "start_time": "2022-11-09T08:59:36.348Z"
   },
   {
    "duration": 168,
    "start_time": "2022-11-09T08:59:36.383Z"
   },
   {
    "duration": 429,
    "start_time": "2022-11-09T08:59:36.552Z"
   },
   {
    "duration": 4,
    "start_time": "2022-11-09T08:59:36.983Z"
   },
   {
    "duration": 180,
    "start_time": "2022-11-09T08:59:36.989Z"
   },
   {
    "duration": 165,
    "start_time": "2022-11-09T08:59:37.173Z"
   },
   {
    "duration": 155,
    "start_time": "2022-11-09T08:59:37.339Z"
   },
   {
    "duration": 380,
    "start_time": "2022-11-09T08:59:37.496Z"
   },
   {
    "duration": 4,
    "start_time": "2022-11-09T08:59:37.879Z"
   },
   {
    "duration": 36,
    "start_time": "2022-11-09T08:59:37.885Z"
   },
   {
    "duration": 14,
    "start_time": "2022-11-09T08:59:37.922Z"
   },
   {
    "duration": 33,
    "start_time": "2022-11-09T08:59:37.938Z"
   },
   {
    "duration": 11,
    "start_time": "2022-11-09T08:59:37.973Z"
   },
   {
    "duration": 1065,
    "start_time": "2022-11-09T08:59:37.986Z"
   },
   {
    "duration": 429,
    "start_time": "2022-11-09T08:59:39.052Z"
   },
   {
    "duration": 4,
    "start_time": "2022-11-09T08:59:39.483Z"
   },
   {
    "duration": 15,
    "start_time": "2022-11-09T08:59:39.489Z"
   },
   {
    "duration": 180,
    "start_time": "2022-11-09T08:59:39.506Z"
   },
   {
    "duration": 15,
    "start_time": "2022-11-09T08:59:39.687Z"
   },
   {
    "duration": 153,
    "start_time": "2022-11-09T08:59:39.703Z"
   },
   {
    "duration": 12,
    "start_time": "2022-11-09T08:59:39.858Z"
   },
   {
    "duration": 17,
    "start_time": "2022-11-09T08:59:39.872Z"
   },
   {
    "duration": 36,
    "start_time": "2022-11-09T08:59:39.891Z"
   },
   {
    "duration": 45,
    "start_time": "2022-11-09T08:59:39.928Z"
   },
   {
    "duration": 546,
    "start_time": "2022-11-09T08:59:39.975Z"
   },
   {
    "duration": 106,
    "start_time": "2022-11-09T08:59:40.523Z"
   },
   {
    "duration": 13,
    "start_time": "2022-11-09T08:59:40.631Z"
   },
   {
    "duration": 37,
    "start_time": "2022-11-09T08:59:40.645Z"
   },
   {
    "duration": 3,
    "start_time": "2022-11-09T08:59:40.684Z"
   },
   {
    "duration": 23,
    "start_time": "2022-11-09T08:59:40.689Z"
   },
   {
    "duration": 4,
    "start_time": "2022-11-09T08:59:40.714Z"
   },
   {
    "duration": 74,
    "start_time": "2022-11-09T08:59:40.720Z"
   },
   {
    "duration": 580,
    "start_time": "2022-11-09T08:59:40.796Z"
   },
   {
    "duration": 10,
    "start_time": "2022-11-09T08:59:41.378Z"
   },
   {
    "duration": 1395,
    "start_time": "2022-11-09T08:59:41.390Z"
   },
   {
    "duration": 4,
    "start_time": "2022-11-09T08:59:42.787Z"
   },
   {
    "duration": 15,
    "start_time": "2022-11-09T08:59:42.792Z"
   },
   {
    "duration": 179,
    "start_time": "2022-11-09T08:59:42.809Z"
   },
   {
    "duration": 393,
    "start_time": "2022-11-09T08:59:42.990Z"
   },
   {
    "duration": 3,
    "start_time": "2022-11-09T08:59:43.385Z"
   },
   {
    "duration": 113,
    "start_time": "2022-11-09T08:59:43.390Z"
   },
   {
    "duration": 16764,
    "start_time": "2022-11-09T08:59:43.505Z"
   },
   {
    "duration": 111,
    "start_time": "2022-11-09T09:00:00.271Z"
   },
   {
    "duration": 5376,
    "start_time": "2022-11-09T09:00:00.384Z"
   },
   {
    "duration": 341,
    "start_time": "2022-11-09T09:00:05.768Z"
   },
   {
    "duration": 19,
    "start_time": "2022-11-09T09:00:06.111Z"
   },
   {
    "duration": 481887,
    "start_time": "2022-11-09T09:00:06.132Z"
   },
   {
    "duration": 12023,
    "start_time": "2022-11-09T09:08:08.021Z"
   },
   {
    "duration": 565,
    "start_time": "2022-11-09T09:08:20.045Z"
   },
   {
    "duration": 6378832,
    "start_time": "2022-11-09T09:08:20.612Z"
   },
   {
    "duration": 2016,
    "start_time": "2022-11-09T10:59:41.280Z"
   },
   {
    "duration": 1345,
    "start_time": "2022-11-09T10:59:43.298Z"
   },
   {
    "duration": 798,
    "start_time": "2022-11-09T10:59:44.645Z"
   },
   {
    "duration": 5,
    "start_time": "2022-11-09T10:59:45.445Z"
   },
   {
    "duration": 123,
    "start_time": "2022-11-09T10:59:45.452Z"
   },
   {
    "duration": 103,
    "start_time": "2022-11-09T10:59:45.577Z"
   },
   {
    "duration": 6,
    "start_time": "2022-11-09T10:59:45.681Z"
   },
   {
    "duration": 294,
    "start_time": "2022-11-09T10:59:45.689Z"
   },
   {
    "duration": 1219,
    "start_time": "2022-11-09T10:59:45.985Z"
   },
   {
    "duration": 16,
    "start_time": "2022-11-09T10:59:47.207Z"
   },
   {
    "duration": 46,
    "start_time": "2022-11-09T10:59:47.225Z"
   },
   {
    "duration": 18,
    "start_time": "2022-11-09T10:59:47.273Z"
   },
   {
    "duration": 92,
    "start_time": "2022-11-09T10:59:47.293Z"
   },
   {
    "duration": 6260,
    "start_time": "2022-11-09T10:59:47.387Z"
   },
   {
    "duration": 30,
    "start_time": "2022-11-09T10:59:53.649Z"
   },
   {
    "duration": 1432,
    "start_time": "2022-11-09T10:59:53.681Z"
   },
   {
    "duration": 106,
    "start_time": "2022-11-09T10:59:55.115Z"
   },
   {
    "duration": 266,
    "start_time": "2022-11-09T10:59:55.222Z"
   },
   {
    "duration": 539,
    "start_time": "2022-11-09T10:59:55.491Z"
   },
   {
    "duration": 5,
    "start_time": "2022-11-09T10:59:56.032Z"
   },
   {
    "duration": 188,
    "start_time": "2022-11-09T10:59:56.040Z"
   },
   {
    "duration": 42,
    "start_time": "2022-11-09T10:59:56.231Z"
   },
   {
    "duration": 27,
    "start_time": "2022-11-09T10:59:56.275Z"
   },
   {
    "duration": 188,
    "start_time": "2022-11-09T10:59:56.304Z"
   },
   {
    "duration": 409,
    "start_time": "2022-11-09T10:59:56.494Z"
   },
   {
    "duration": 5,
    "start_time": "2022-11-09T10:59:56.904Z"
   },
   {
    "duration": 199,
    "start_time": "2022-11-09T10:59:56.910Z"
   },
   {
    "duration": 176,
    "start_time": "2022-11-09T10:59:57.114Z"
   },
   {
    "duration": 160,
    "start_time": "2022-11-09T10:59:57.292Z"
   },
   {
    "duration": 411,
    "start_time": "2022-11-09T10:59:57.454Z"
   },
   {
    "duration": 4,
    "start_time": "2022-11-09T10:59:57.867Z"
   },
   {
    "duration": 34,
    "start_time": "2022-11-09T10:59:57.872Z"
   },
   {
    "duration": 18,
    "start_time": "2022-11-09T10:59:57.908Z"
   },
   {
    "duration": 15,
    "start_time": "2022-11-09T10:59:57.928Z"
   },
   {
    "duration": 26,
    "start_time": "2022-11-09T10:59:57.945Z"
   },
   {
    "duration": 1132,
    "start_time": "2022-11-09T10:59:57.973Z"
   },
   {
    "duration": 411,
    "start_time": "2022-11-09T10:59:59.107Z"
   },
   {
    "duration": 4,
    "start_time": "2022-11-09T10:59:59.520Z"
   },
   {
    "duration": 20,
    "start_time": "2022-11-09T10:59:59.526Z"
   },
   {
    "duration": 184,
    "start_time": "2022-11-09T10:59:59.548Z"
   },
   {
    "duration": 15,
    "start_time": "2022-11-09T10:59:59.733Z"
   },
   {
    "duration": 131,
    "start_time": "2022-11-09T10:59:59.750Z"
   },
   {
    "duration": 8,
    "start_time": "2022-11-09T10:59:59.883Z"
   },
   {
    "duration": 19,
    "start_time": "2022-11-09T10:59:59.893Z"
   },
   {
    "duration": 56,
    "start_time": "2022-11-09T10:59:59.914Z"
   },
   {
    "duration": 23,
    "start_time": "2022-11-09T10:59:59.972Z"
   },
   {
    "duration": 629,
    "start_time": "2022-11-09T10:59:59.997Z"
   },
   {
    "duration": 134,
    "start_time": "2022-11-09T11:00:00.628Z"
   },
   {
    "duration": 15,
    "start_time": "2022-11-09T11:00:00.764Z"
   },
   {
    "duration": 40,
    "start_time": "2022-11-09T11:00:00.780Z"
   },
   {
    "duration": 4,
    "start_time": "2022-11-09T11:00:00.822Z"
   },
   {
    "duration": 54,
    "start_time": "2022-11-09T11:00:00.828Z"
   },
   {
    "duration": 6,
    "start_time": "2022-11-09T11:00:00.884Z"
   },
   {
    "duration": 114,
    "start_time": "2022-11-09T11:00:00.891Z"
   },
   {
    "duration": 400,
    "start_time": "2022-11-09T11:00:01.007Z"
   },
   {
    "duration": 10,
    "start_time": "2022-11-09T11:00:01.409Z"
   },
   {
    "duration": 808,
    "start_time": "2022-11-09T11:00:01.421Z"
   },
   {
    "duration": 5,
    "start_time": "2022-11-09T11:00:02.231Z"
   },
   {
    "duration": 37,
    "start_time": "2022-11-09T11:00:02.237Z"
   },
   {
    "duration": 219,
    "start_time": "2022-11-09T11:00:02.276Z"
   },
   {
    "duration": 418,
    "start_time": "2022-11-09T11:00:02.497Z"
   },
   {
    "duration": 4,
    "start_time": "2022-11-09T11:00:02.917Z"
   },
   {
    "duration": 144,
    "start_time": "2022-11-09T11:00:02.923Z"
   },
   {
    "duration": 15700,
    "start_time": "2022-11-09T11:00:03.069Z"
   },
   {
    "duration": 110,
    "start_time": "2022-11-09T11:00:18.771Z"
   },
   {
    "duration": 4727,
    "start_time": "2022-11-09T11:00:18.968Z"
   },
   {
    "duration": 320,
    "start_time": "2022-11-09T11:00:23.697Z"
   },
   {
    "duration": 18,
    "start_time": "2022-11-09T11:00:24.019Z"
   },
   {
    "duration": 478963,
    "start_time": "2022-11-09T11:00:24.040Z"
   },
   {
    "duration": 12370,
    "start_time": "2022-11-09T11:08:23.005Z"
   },
   {
    "duration": 593,
    "start_time": "2022-11-09T11:08:35.377Z"
   },
   {
    "duration": 34724,
    "start_time": "2022-11-09T11:08:35.972Z"
   },
   {
    "duration": 154,
    "start_time": "2022-11-09T11:09:10.697Z"
   },
   {
    "duration": 52,
    "start_time": "2022-11-09T11:09:10.853Z"
   },
   {
    "duration": 0,
    "start_time": "2022-11-09T11:09:10.907Z"
   },
   {
    "duration": 28,
    "start_time": "2022-11-09T11:15:58.089Z"
   },
   {
    "duration": 157,
    "start_time": "2022-11-09T11:16:24.736Z"
   },
   {
    "duration": 100747,
    "start_time": "2022-11-09T11:17:18.661Z"
   },
   {
    "duration": 919000,
    "start_time": "2022-11-09T11:20:41.120Z"
   },
   {
    "duration": 64107,
    "start_time": "2022-11-09T11:38:41.933Z"
   },
   {
    "duration": 12172,
    "start_time": "2022-11-09T11:41:08.701Z"
   },
   {
    "duration": 2125,
    "start_time": "2022-11-09T11:41:29.989Z"
   },
   {
    "duration": 2199,
    "start_time": "2022-11-09T11:41:32.116Z"
   },
   {
    "duration": 1952,
    "start_time": "2022-11-09T11:41:34.369Z"
   },
   {
    "duration": 49,
    "start_time": "2022-11-09T11:41:36.324Z"
   },
   {
    "duration": 400,
    "start_time": "2022-11-09T11:41:36.375Z"
   },
   {
    "duration": 206,
    "start_time": "2022-11-09T11:41:36.777Z"
   },
   {
    "duration": 7,
    "start_time": "2022-11-09T11:41:36.985Z"
   },
   {
    "duration": 406,
    "start_time": "2022-11-09T11:41:36.993Z"
   },
   {
    "duration": 1305,
    "start_time": "2022-11-09T11:41:37.401Z"
   },
   {
    "duration": 18,
    "start_time": "2022-11-09T11:41:38.709Z"
   },
   {
    "duration": 49,
    "start_time": "2022-11-09T11:41:38.735Z"
   },
   {
    "duration": 41,
    "start_time": "2022-11-09T11:41:38.786Z"
   },
   {
    "duration": 119,
    "start_time": "2022-11-09T11:41:38.829Z"
   },
   {
    "duration": 7702,
    "start_time": "2022-11-09T11:41:38.951Z"
   },
   {
    "duration": 31,
    "start_time": "2022-11-09T11:41:46.655Z"
   },
   {
    "duration": 1513,
    "start_time": "2022-11-09T11:41:46.690Z"
   },
   {
    "duration": 134,
    "start_time": "2022-11-09T11:41:48.206Z"
   },
   {
    "duration": 302,
    "start_time": "2022-11-09T11:41:48.342Z"
   },
   {
    "duration": 630,
    "start_time": "2022-11-09T11:41:48.646Z"
   },
   {
    "duration": 4,
    "start_time": "2022-11-09T11:41:49.282Z"
   },
   {
    "duration": 157,
    "start_time": "2022-11-09T11:41:49.288Z"
   },
   {
    "duration": 50,
    "start_time": "2022-11-09T11:41:49.447Z"
   },
   {
    "duration": 18,
    "start_time": "2022-11-09T11:41:49.499Z"
   },
   {
    "duration": 175,
    "start_time": "2022-11-09T11:41:49.518Z"
   },
   {
    "duration": 458,
    "start_time": "2022-11-09T11:41:49.695Z"
   },
   {
    "duration": 14,
    "start_time": "2022-11-09T11:41:50.155Z"
   },
   {
    "duration": 192,
    "start_time": "2022-11-09T11:41:50.174Z"
   },
   {
    "duration": 183,
    "start_time": "2022-11-09T11:41:50.372Z"
   },
   {
    "duration": 163,
    "start_time": "2022-11-09T11:41:50.556Z"
   },
   {
    "duration": 418,
    "start_time": "2022-11-09T11:41:50.721Z"
   },
   {
    "duration": 4,
    "start_time": "2022-11-09T11:41:51.141Z"
   },
   {
    "duration": 47,
    "start_time": "2022-11-09T11:41:51.147Z"
   },
   {
    "duration": 19,
    "start_time": "2022-11-09T11:41:51.196Z"
   },
   {
    "duration": 6,
    "start_time": "2022-11-09T11:41:51.217Z"
   },
   {
    "duration": 12,
    "start_time": "2022-11-09T11:41:51.225Z"
   },
   {
    "duration": 1129,
    "start_time": "2022-11-09T11:41:51.240Z"
   },
   {
    "duration": 488,
    "start_time": "2022-11-09T11:41:52.372Z"
   },
   {
    "duration": 10,
    "start_time": "2022-11-09T11:41:52.862Z"
   },
   {
    "duration": 28,
    "start_time": "2022-11-09T11:41:52.875Z"
   },
   {
    "duration": 184,
    "start_time": "2022-11-09T11:41:52.905Z"
   },
   {
    "duration": 17,
    "start_time": "2022-11-09T11:41:53.091Z"
   },
   {
    "duration": 161,
    "start_time": "2022-11-09T11:41:53.110Z"
   },
   {
    "duration": 11,
    "start_time": "2022-11-09T11:41:53.273Z"
   },
   {
    "duration": 33,
    "start_time": "2022-11-09T11:41:53.286Z"
   },
   {
    "duration": 52,
    "start_time": "2022-11-09T11:41:53.321Z"
   },
   {
    "duration": 23,
    "start_time": "2022-11-09T11:41:53.379Z"
   },
   {
    "duration": 648,
    "start_time": "2022-11-09T11:41:53.404Z"
   },
   {
    "duration": 130,
    "start_time": "2022-11-09T11:41:54.054Z"
   },
   {
    "duration": 15,
    "start_time": "2022-11-09T11:41:54.186Z"
   },
   {
    "duration": 27,
    "start_time": "2022-11-09T11:41:54.202Z"
   },
   {
    "duration": 4,
    "start_time": "2022-11-09T11:41:54.232Z"
   },
   {
    "duration": 36,
    "start_time": "2022-11-09T11:41:54.238Z"
   },
   {
    "duration": 6,
    "start_time": "2022-11-09T11:41:54.280Z"
   },
   {
    "duration": 64,
    "start_time": "2022-11-09T11:41:54.288Z"
   },
   {
    "duration": 375,
    "start_time": "2022-11-09T11:41:54.353Z"
   },
   {
    "duration": 11,
    "start_time": "2022-11-09T11:41:54.730Z"
   },
   {
    "duration": 843,
    "start_time": "2022-11-09T11:41:54.742Z"
   },
   {
    "duration": 4,
    "start_time": "2022-11-09T11:41:55.586Z"
   },
   {
    "duration": 20,
    "start_time": "2022-11-09T11:41:55.592Z"
   },
   {
    "duration": 189,
    "start_time": "2022-11-09T11:41:55.613Z"
   },
   {
    "duration": 457,
    "start_time": "2022-11-09T11:41:55.804Z"
   },
   {
    "duration": 7,
    "start_time": "2022-11-09T11:41:56.263Z"
   },
   {
    "duration": 169,
    "start_time": "2022-11-09T11:41:56.272Z"
   },
   {
    "duration": 28038,
    "start_time": "2022-11-09T11:41:56.444Z"
   },
   {
    "duration": 196,
    "start_time": "2022-11-09T11:42:24.484Z"
   },
   {
    "duration": 5100,
    "start_time": "2022-11-09T11:42:24.683Z"
   },
   {
    "duration": 317,
    "start_time": "2022-11-09T11:42:29.784Z"
   },
   {
    "duration": 16,
    "start_time": "2022-11-09T11:42:30.103Z"
   },
   {
    "duration": 495764,
    "start_time": "2022-11-09T11:42:30.121Z"
   },
   {
    "duration": 12369,
    "start_time": "2022-11-09T11:50:45.887Z"
   },
   {
    "duration": 611,
    "start_time": "2022-11-09T11:50:58.258Z"
   },
   {
    "duration": 102870,
    "start_time": "2022-11-09T11:50:58.871Z"
   },
   {
    "duration": 879514,
    "start_time": "2022-11-09T11:52:41.743Z"
   },
   {
    "duration": 123954,
    "start_time": "2022-11-09T12:07:21.259Z"
   },
   {
    "duration": 2150,
    "start_time": "2022-11-09T12:09:25.215Z"
   },
   {
    "duration": 55,
    "start_time": "2022-11-09T12:09:27.366Z"
   },
   {
    "duration": 148,
    "start_time": "2022-11-09T12:09:27.423Z"
   },
   {
    "duration": 81,
    "start_time": "2022-11-09T12:09:27.573Z"
   },
   {
    "duration": 71,
    "start_time": "2022-11-09T12:09:27.656Z"
   },
   {
    "duration": 64,
    "start_time": "2022-11-09T12:09:27.729Z"
   },
   {
    "duration": 58,
    "start_time": "2022-11-09T12:09:27.795Z"
   },
   {
    "duration": 24,
    "start_time": "2022-11-09T12:09:27.860Z"
   },
   {
    "duration": 1740,
    "start_time": "2022-11-09T12:10:31.135Z"
   },
   {
    "duration": 712,
    "start_time": "2022-11-09T12:11:15.651Z"
   },
   {
    "duration": 5,
    "start_time": "2022-11-09T12:11:56.073Z"
   },
   {
    "duration": 127723,
    "start_time": "2022-11-09T12:12:23.156Z"
   },
   {
    "duration": 696,
    "start_time": "2022-11-09T12:15:38.689Z"
   },
   {
    "duration": 2007,
    "start_time": "2022-11-09T12:15:46.865Z"
   },
   {
    "duration": 84,
    "start_time": "2022-11-09T12:16:24.649Z"
   },
   {
    "duration": 97,
    "start_time": "2022-11-09T12:17:51.424Z"
   },
   {
    "duration": 4026122,
    "start_time": "2022-11-09T12:24:51.340Z"
   },
   {
    "duration": 2288,
    "start_time": "2022-11-09T13:32:49.781Z"
   },
   {
    "duration": 1409,
    "start_time": "2022-11-09T13:32:52.071Z"
   },
   {
    "duration": 832,
    "start_time": "2022-11-09T13:32:53.482Z"
   },
   {
    "duration": 4,
    "start_time": "2022-11-09T13:32:54.316Z"
   },
   {
    "duration": 133,
    "start_time": "2022-11-09T13:32:54.322Z"
   },
   {
    "duration": 113,
    "start_time": "2022-11-09T13:32:54.456Z"
   },
   {
    "duration": 7,
    "start_time": "2022-11-09T13:32:54.571Z"
   },
   {
    "duration": 289,
    "start_time": "2022-11-09T13:32:54.580Z"
   },
   {
    "duration": 1230,
    "start_time": "2022-11-09T13:32:54.871Z"
   },
   {
    "duration": 22,
    "start_time": "2022-11-09T13:32:56.104Z"
   },
   {
    "duration": 56,
    "start_time": "2022-11-09T13:32:56.127Z"
   },
   {
    "duration": 32,
    "start_time": "2022-11-09T13:32:56.184Z"
   },
   {
    "duration": 121,
    "start_time": "2022-11-09T13:32:56.218Z"
   },
   {
    "duration": 6221,
    "start_time": "2022-11-09T13:32:56.341Z"
   },
   {
    "duration": 20,
    "start_time": "2022-11-09T13:33:02.564Z"
   },
   {
    "duration": 1444,
    "start_time": "2022-11-09T13:33:02.586Z"
   },
   {
    "duration": 145,
    "start_time": "2022-11-09T13:33:04.033Z"
   },
   {
    "duration": 312,
    "start_time": "2022-11-09T13:33:04.180Z"
   },
   {
    "duration": 556,
    "start_time": "2022-11-09T13:33:04.495Z"
   },
   {
    "duration": 5,
    "start_time": "2022-11-09T13:33:05.052Z"
   },
   {
    "duration": 150,
    "start_time": "2022-11-09T13:33:05.068Z"
   },
   {
    "duration": 34,
    "start_time": "2022-11-09T13:33:05.220Z"
   },
   {
    "duration": 27,
    "start_time": "2022-11-09T13:33:05.256Z"
   },
   {
    "duration": 165,
    "start_time": "2022-11-09T13:33:05.284Z"
   },
   {
    "duration": 420,
    "start_time": "2022-11-09T13:33:05.451Z"
   },
   {
    "duration": 4,
    "start_time": "2022-11-09T13:33:05.873Z"
   },
   {
    "duration": 236,
    "start_time": "2022-11-09T13:33:05.879Z"
   },
   {
    "duration": 173,
    "start_time": "2022-11-09T13:33:06.121Z"
   },
   {
    "duration": 152,
    "start_time": "2022-11-09T13:33:06.296Z"
   },
   {
    "duration": 425,
    "start_time": "2022-11-09T13:33:06.450Z"
   },
   {
    "duration": 4,
    "start_time": "2022-11-09T13:33:06.877Z"
   },
   {
    "duration": 43,
    "start_time": "2022-11-09T13:33:06.883Z"
   },
   {
    "duration": 15,
    "start_time": "2022-11-09T13:33:06.928Z"
   },
   {
    "duration": 6,
    "start_time": "2022-11-09T13:33:06.968Z"
   },
   {
    "duration": 9,
    "start_time": "2022-11-09T13:33:06.976Z"
   },
   {
    "duration": 1026,
    "start_time": "2022-11-09T13:33:06.987Z"
   },
   {
    "duration": 398,
    "start_time": "2022-11-09T13:33:08.015Z"
   },
   {
    "duration": 4,
    "start_time": "2022-11-09T13:33:08.415Z"
   },
   {
    "duration": 18,
    "start_time": "2022-11-09T13:33:08.421Z"
   },
   {
    "duration": 186,
    "start_time": "2022-11-09T13:33:08.441Z"
   },
   {
    "duration": 17,
    "start_time": "2022-11-09T13:33:08.629Z"
   },
   {
    "duration": 148,
    "start_time": "2022-11-09T13:33:08.648Z"
   },
   {
    "duration": 8,
    "start_time": "2022-11-09T13:33:08.797Z"
   },
   {
    "duration": 23,
    "start_time": "2022-11-09T13:33:08.807Z"
   },
   {
    "duration": 66,
    "start_time": "2022-11-09T13:33:08.832Z"
   },
   {
    "duration": 26,
    "start_time": "2022-11-09T13:33:08.900Z"
   },
   {
    "duration": 605,
    "start_time": "2022-11-09T13:33:08.927Z"
   },
   {
    "duration": 109,
    "start_time": "2022-11-09T13:33:09.534Z"
   },
   {
    "duration": 23,
    "start_time": "2022-11-09T13:33:09.646Z"
   },
   {
    "duration": 33,
    "start_time": "2022-11-09T13:33:09.671Z"
   },
   {
    "duration": 4,
    "start_time": "2022-11-09T13:33:09.705Z"
   },
   {
    "duration": 25,
    "start_time": "2022-11-09T13:33:09.711Z"
   },
   {
    "duration": 4,
    "start_time": "2022-11-09T13:33:09.739Z"
   },
   {
    "duration": 74,
    "start_time": "2022-11-09T13:33:09.744Z"
   },
   {
    "duration": 379,
    "start_time": "2022-11-09T13:33:09.820Z"
   },
   {
    "duration": 10,
    "start_time": "2022-11-09T13:33:10.201Z"
   },
   {
    "duration": 805,
    "start_time": "2022-11-09T13:33:10.213Z"
   },
   {
    "duration": 3,
    "start_time": "2022-11-09T13:33:11.020Z"
   },
   {
    "duration": 27,
    "start_time": "2022-11-09T13:33:11.025Z"
   },
   {
    "duration": 170,
    "start_time": "2022-11-09T13:33:11.053Z"
   },
   {
    "duration": 407,
    "start_time": "2022-11-09T13:33:11.224Z"
   },
   {
    "duration": 4,
    "start_time": "2022-11-09T13:33:11.633Z"
   },
   {
    "duration": 129,
    "start_time": "2022-11-09T13:33:11.639Z"
   },
   {
    "duration": 14409,
    "start_time": "2022-11-09T13:33:11.770Z"
   },
   {
    "duration": 288,
    "start_time": "2022-11-09T13:33:26.180Z"
   },
   {
    "duration": 5747,
    "start_time": "2022-11-09T13:33:26.470Z"
   },
   {
    "duration": 329,
    "start_time": "2022-11-09T13:33:32.219Z"
   },
   {
    "duration": 28,
    "start_time": "2022-11-09T13:33:32.550Z"
   },
   {
    "duration": 462474,
    "start_time": "2022-11-09T13:33:32.580Z"
   },
   {
    "duration": 11577,
    "start_time": "2022-11-09T13:41:15.056Z"
   },
   {
    "duration": 568,
    "start_time": "2022-11-09T13:41:26.635Z"
   },
   {
    "duration": 99889,
    "start_time": "2022-11-09T13:41:27.205Z"
   },
   {
    "duration": 878074,
    "start_time": "2022-11-09T13:43:07.095Z"
   },
   {
    "duration": 123964,
    "start_time": "2022-11-09T13:57:45.171Z"
   },
   {
    "duration": 679,
    "start_time": "2022-11-09T13:59:49.137Z"
   },
   {
    "duration": 1924,
    "start_time": "2022-11-09T13:59:49.818Z"
   },
   {
    "duration": 588847,
    "start_time": "2022-11-09T13:59:51.743Z"
   },
   {
    "duration": 243293,
    "start_time": "2022-11-09T14:09:40.592Z"
   },
   {
    "duration": 319,
    "start_time": "2022-11-09T14:13:43.968Z"
   },
   {
    "duration": 1005,
    "start_time": "2022-11-09T14:13:44.288Z"
   },
   {
    "duration": 163,
    "start_time": "2022-11-09T14:13:45.295Z"
   },
   {
    "duration": 20,
    "start_time": "2022-11-09T14:27:47.393Z"
   },
   {
    "duration": 118,
    "start_time": "2022-11-09T14:32:46.185Z"
   },
   {
    "duration": 329,
    "start_time": "2022-11-09T14:33:00.260Z"
   },
   {
    "duration": 16,
    "start_time": "2022-11-09T14:33:48.246Z"
   },
   {
    "duration": 16,
    "start_time": "2022-11-09T14:35:58.565Z"
   },
   {
    "duration": 16,
    "start_time": "2022-11-09T14:41:11.093Z"
   },
   {
    "duration": 17,
    "start_time": "2022-11-09T14:44:56.691Z"
   },
   {
    "duration": 15,
    "start_time": "2022-11-09T14:45:57.431Z"
   },
   {
    "duration": 4,
    "start_time": "2022-11-09T16:16:20.545Z"
   },
   {
    "duration": 90,
    "start_time": "2022-11-09T20:22:00.324Z"
   },
   {
    "duration": 70,
    "start_time": "2022-11-09T20:22:17.424Z"
   },
   {
    "duration": 74,
    "start_time": "2022-11-09T20:22:30.217Z"
   },
   {
    "duration": 68,
    "start_time": "2022-11-09T20:23:15.671Z"
   },
   {
    "duration": 76,
    "start_time": "2022-11-09T20:24:36.539Z"
   },
   {
    "duration": 3,
    "start_time": "2022-11-09T20:27:50.762Z"
   },
   {
    "duration": 495,
    "start_time": "2022-11-09T20:27:53.894Z"
   },
   {
    "duration": 3281,
    "start_time": "2022-11-09T20:28:30.883Z"
   },
   {
    "duration": 1372,
    "start_time": "2022-11-09T20:28:36.863Z"
   },
   {
    "duration": 1255,
    "start_time": "2022-11-09T20:28:41.751Z"
   },
   {
    "duration": 5,
    "start_time": "2022-11-09T20:28:45.798Z"
   },
   {
    "duration": 151,
    "start_time": "2022-11-09T20:28:47.946Z"
   },
   {
    "duration": 1018,
    "start_time": "2022-11-09T20:28:51.241Z"
   },
   {
    "duration": 2724,
    "start_time": "2022-11-09T20:57:59.240Z"
   },
   {
    "duration": 2388,
    "start_time": "2022-11-09T20:58:01.967Z"
   },
   {
    "duration": 975,
    "start_time": "2022-11-09T20:58:04.357Z"
   },
   {
    "duration": 4,
    "start_time": "2022-11-09T20:58:05.338Z"
   },
   {
    "duration": 175,
    "start_time": "2022-11-09T20:58:05.344Z"
   },
   {
    "duration": 1079,
    "start_time": "2022-11-09T20:58:05.521Z"
   },
   {
    "duration": 7,
    "start_time": "2022-11-09T20:58:06.602Z"
   },
   {
    "duration": 343,
    "start_time": "2022-11-09T20:58:06.612Z"
   },
   {
    "duration": 1428,
    "start_time": "2022-11-09T20:58:06.957Z"
   },
   {
    "duration": 51,
    "start_time": "2022-11-09T20:58:08.389Z"
   },
   {
    "duration": 54,
    "start_time": "2022-11-09T20:58:08.442Z"
   },
   {
    "duration": 39,
    "start_time": "2022-11-09T20:58:08.498Z"
   },
   {
    "duration": 117,
    "start_time": "2022-11-09T20:58:08.540Z"
   },
   {
    "duration": 7509,
    "start_time": "2022-11-09T20:58:08.659Z"
   },
   {
    "duration": 19,
    "start_time": "2022-11-09T20:58:16.170Z"
   },
   {
    "duration": 1652,
    "start_time": "2022-11-09T20:58:16.191Z"
   },
   {
    "duration": 151,
    "start_time": "2022-11-09T20:58:17.846Z"
   },
   {
    "duration": 301,
    "start_time": "2022-11-09T20:58:17.999Z"
   },
   {
    "duration": 711,
    "start_time": "2022-11-09T20:58:18.302Z"
   },
   {
    "duration": 7,
    "start_time": "2022-11-09T20:58:19.015Z"
   },
   {
    "duration": 268,
    "start_time": "2022-11-09T20:58:19.038Z"
   },
   {
    "duration": 50,
    "start_time": "2022-11-09T20:58:19.309Z"
   },
   {
    "duration": 23,
    "start_time": "2022-11-09T20:58:19.361Z"
   },
   {
    "duration": 204,
    "start_time": "2022-11-09T20:58:19.386Z"
   },
   {
    "duration": 440,
    "start_time": "2022-11-09T20:58:19.591Z"
   },
   {
    "duration": 5,
    "start_time": "2022-11-09T20:58:20.037Z"
   },
   {
    "duration": 201,
    "start_time": "2022-11-09T20:58:20.044Z"
   },
   {
    "duration": 191,
    "start_time": "2022-11-09T20:58:20.249Z"
   },
   {
    "duration": 183,
    "start_time": "2022-11-09T20:58:20.442Z"
   },
   {
    "duration": 436,
    "start_time": "2022-11-09T20:58:20.628Z"
   },
   {
    "duration": 4,
    "start_time": "2022-11-09T20:58:21.066Z"
   },
   {
    "duration": 33,
    "start_time": "2022-11-09T20:58:21.072Z"
   },
   {
    "duration": 41,
    "start_time": "2022-11-09T20:58:21.107Z"
   },
   {
    "duration": 8,
    "start_time": "2022-11-09T20:58:21.149Z"
   },
   {
    "duration": 8,
    "start_time": "2022-11-09T20:58:21.160Z"
   },
   {
    "duration": 1132,
    "start_time": "2022-11-09T20:58:21.170Z"
   },
   {
    "duration": 429,
    "start_time": "2022-11-09T20:58:22.304Z"
   },
   {
    "duration": 4,
    "start_time": "2022-11-09T20:58:22.737Z"
   },
   {
    "duration": 19,
    "start_time": "2022-11-09T20:58:22.742Z"
   },
   {
    "duration": 195,
    "start_time": "2022-11-09T20:58:22.762Z"
   },
   {
    "duration": 20,
    "start_time": "2022-11-09T20:58:22.958Z"
   },
   {
    "duration": 161,
    "start_time": "2022-11-09T20:58:22.980Z"
   },
   {
    "duration": 9,
    "start_time": "2022-11-09T20:58:23.143Z"
   },
   {
    "duration": 24,
    "start_time": "2022-11-09T20:58:23.155Z"
   },
   {
    "duration": 87,
    "start_time": "2022-11-09T20:58:23.182Z"
   },
   {
    "duration": 25,
    "start_time": "2022-11-09T20:58:23.271Z"
   },
   {
    "duration": 654,
    "start_time": "2022-11-09T20:58:23.298Z"
   },
   {
    "duration": 143,
    "start_time": "2022-11-09T20:58:23.954Z"
   },
   {
    "duration": 15,
    "start_time": "2022-11-09T20:58:24.099Z"
   },
   {
    "duration": 47,
    "start_time": "2022-11-09T20:58:24.116Z"
   },
   {
    "duration": 5,
    "start_time": "2022-11-09T20:58:24.165Z"
   },
   {
    "duration": 24,
    "start_time": "2022-11-09T20:58:24.172Z"
   },
   {
    "duration": 6,
    "start_time": "2022-11-09T20:58:24.199Z"
   },
   {
    "duration": 93,
    "start_time": "2022-11-09T20:58:24.207Z"
   },
   {
    "duration": 415,
    "start_time": "2022-11-09T20:58:24.302Z"
   },
   {
    "duration": 21,
    "start_time": "2022-11-09T20:58:24.719Z"
   },
   {
    "duration": 13,
    "start_time": "2022-11-09T20:58:24.742Z"
   },
   {
    "duration": 62,
    "start_time": "2022-11-09T20:58:24.756Z"
   },
   {
    "duration": 18,
    "start_time": "2022-11-09T20:58:24.821Z"
   },
   {
    "duration": 71,
    "start_time": "2022-11-09T20:58:24.841Z"
   },
   {
    "duration": 0,
    "start_time": "2022-11-09T20:58:24.914Z"
   },
   {
    "duration": 0,
    "start_time": "2022-11-09T20:58:24.916Z"
   },
   {
    "duration": 0,
    "start_time": "2022-11-09T20:58:24.918Z"
   },
   {
    "duration": 0,
    "start_time": "2022-11-09T20:58:24.920Z"
   },
   {
    "duration": 0,
    "start_time": "2022-11-09T20:58:24.921Z"
   },
   {
    "duration": 0,
    "start_time": "2022-11-09T20:58:24.922Z"
   },
   {
    "duration": 0,
    "start_time": "2022-11-09T20:58:24.923Z"
   },
   {
    "duration": 0,
    "start_time": "2022-11-09T20:58:24.924Z"
   },
   {
    "duration": 0,
    "start_time": "2022-11-09T20:58:24.925Z"
   },
   {
    "duration": 0,
    "start_time": "2022-11-09T20:58:24.926Z"
   },
   {
    "duration": 0,
    "start_time": "2022-11-09T20:58:24.927Z"
   },
   {
    "duration": 0,
    "start_time": "2022-11-09T20:58:24.928Z"
   },
   {
    "duration": 0,
    "start_time": "2022-11-09T20:58:24.929Z"
   },
   {
    "duration": 0,
    "start_time": "2022-11-09T20:58:24.931Z"
   },
   {
    "duration": 0,
    "start_time": "2022-11-09T20:58:24.932Z"
   },
   {
    "duration": 0,
    "start_time": "2022-11-09T20:58:24.933Z"
   },
   {
    "duration": 0,
    "start_time": "2022-11-09T20:58:24.934Z"
   },
   {
    "duration": 0,
    "start_time": "2022-11-09T20:58:24.936Z"
   },
   {
    "duration": 0,
    "start_time": "2022-11-09T20:58:24.937Z"
   },
   {
    "duration": 0,
    "start_time": "2022-11-09T20:58:24.938Z"
   },
   {
    "duration": 0,
    "start_time": "2022-11-09T20:58:24.940Z"
   },
   {
    "duration": 0,
    "start_time": "2022-11-09T20:58:24.941Z"
   },
   {
    "duration": 0,
    "start_time": "2022-11-09T20:58:24.942Z"
   },
   {
    "duration": 2437,
    "start_time": "2022-11-09T20:59:40.320Z"
   },
   {
    "duration": 1957,
    "start_time": "2022-11-09T20:59:42.760Z"
   },
   {
    "duration": 951,
    "start_time": "2022-11-09T20:59:44.719Z"
   },
   {
    "duration": 5,
    "start_time": "2022-11-09T20:59:45.673Z"
   },
   {
    "duration": 274,
    "start_time": "2022-11-09T20:59:45.680Z"
   },
   {
    "duration": 1047,
    "start_time": "2022-11-09T20:59:45.956Z"
   },
   {
    "duration": 7,
    "start_time": "2022-11-09T20:59:47.005Z"
   },
   {
    "duration": 317,
    "start_time": "2022-11-09T20:59:47.013Z"
   },
   {
    "duration": 1567,
    "start_time": "2022-11-09T20:59:47.336Z"
   },
   {
    "duration": 44,
    "start_time": "2022-11-09T20:59:48.906Z"
   },
   {
    "duration": 105,
    "start_time": "2022-11-09T20:59:48.952Z"
   },
   {
    "duration": 47,
    "start_time": "2022-11-09T20:59:49.059Z"
   },
   {
    "duration": 138,
    "start_time": "2022-11-09T20:59:49.108Z"
   },
   {
    "duration": 8570,
    "start_time": "2022-11-09T20:59:49.247Z"
   },
   {
    "duration": 30,
    "start_time": "2022-11-09T20:59:57.819Z"
   },
   {
    "duration": 1623,
    "start_time": "2022-11-09T20:59:57.851Z"
   },
   {
    "duration": 133,
    "start_time": "2022-11-09T20:59:59.476Z"
   },
   {
    "duration": 333,
    "start_time": "2022-11-09T20:59:59.611Z"
   },
   {
    "duration": 632,
    "start_time": "2022-11-09T20:59:59.946Z"
   },
   {
    "duration": 4,
    "start_time": "2022-11-09T21:00:00.581Z"
   },
   {
    "duration": 195,
    "start_time": "2022-11-09T21:00:00.587Z"
   },
   {
    "duration": 54,
    "start_time": "2022-11-09T21:00:00.784Z"
   },
   {
    "duration": 24,
    "start_time": "2022-11-09T21:00:00.840Z"
   },
   {
    "duration": 188,
    "start_time": "2022-11-09T21:00:00.866Z"
   },
   {
    "duration": 443,
    "start_time": "2022-11-09T21:00:01.057Z"
   },
   {
    "duration": 6,
    "start_time": "2022-11-09T21:00:01.502Z"
   },
   {
    "duration": 209,
    "start_time": "2022-11-09T21:00:01.510Z"
   },
   {
    "duration": 190,
    "start_time": "2022-11-09T21:00:01.723Z"
   },
   {
    "duration": 173,
    "start_time": "2022-11-09T21:00:01.915Z"
   },
   {
    "duration": 431,
    "start_time": "2022-11-09T21:00:02.090Z"
   },
   {
    "duration": 4,
    "start_time": "2022-11-09T21:00:02.523Z"
   },
   {
    "duration": 37,
    "start_time": "2022-11-09T21:00:02.538Z"
   },
   {
    "duration": 16,
    "start_time": "2022-11-09T21:00:02.576Z"
   },
   {
    "duration": 7,
    "start_time": "2022-11-09T21:00:02.594Z"
   },
   {
    "duration": 38,
    "start_time": "2022-11-09T21:00:02.603Z"
   },
   {
    "duration": 1165,
    "start_time": "2022-11-09T21:00:02.643Z"
   },
   {
    "duration": 478,
    "start_time": "2022-11-09T21:00:03.810Z"
   },
   {
    "duration": 5,
    "start_time": "2022-11-09T21:00:04.290Z"
   },
   {
    "duration": 52,
    "start_time": "2022-11-09T21:00:04.297Z"
   },
   {
    "duration": 186,
    "start_time": "2022-11-09T21:00:04.351Z"
   },
   {
    "duration": 17,
    "start_time": "2022-11-09T21:00:04.539Z"
   },
   {
    "duration": 157,
    "start_time": "2022-11-09T21:00:04.557Z"
   },
   {
    "duration": 10,
    "start_time": "2022-11-09T21:00:04.716Z"
   },
   {
    "duration": 20,
    "start_time": "2022-11-09T21:00:04.737Z"
   },
   {
    "duration": 46,
    "start_time": "2022-11-09T21:00:04.759Z"
   },
   {
    "duration": 48,
    "start_time": "2022-11-09T21:00:04.807Z"
   },
   {
    "duration": 629,
    "start_time": "2022-11-09T21:00:04.857Z"
   },
   {
    "duration": 137,
    "start_time": "2022-11-09T21:00:05.488Z"
   },
   {
    "duration": 19,
    "start_time": "2022-11-09T21:00:05.627Z"
   },
   {
    "duration": 31,
    "start_time": "2022-11-09T21:00:05.648Z"
   },
   {
    "duration": 5,
    "start_time": "2022-11-09T21:00:05.681Z"
   },
   {
    "duration": 16,
    "start_time": "2022-11-09T21:00:05.688Z"
   },
   {
    "duration": 34,
    "start_time": "2022-11-09T21:00:05.706Z"
   },
   {
    "duration": 92,
    "start_time": "2022-11-09T21:00:05.742Z"
   },
   {
    "duration": 371,
    "start_time": "2022-11-09T21:00:05.838Z"
   },
   {
    "duration": 11,
    "start_time": "2022-11-09T21:00:06.211Z"
   },
   {
    "duration": 21,
    "start_time": "2022-11-09T21:00:06.224Z"
   },
   {
    "duration": 64,
    "start_time": "2022-11-09T21:00:06.247Z"
   },
   {
    "duration": 4,
    "start_time": "2022-11-09T21:00:06.314Z"
   },
   {
    "duration": 1038,
    "start_time": "2022-11-09T21:00:06.338Z"
   },
   {
    "duration": 0,
    "start_time": "2022-11-09T21:00:07.378Z"
   },
   {
    "duration": 0,
    "start_time": "2022-11-09T21:00:07.380Z"
   },
   {
    "duration": 0,
    "start_time": "2022-11-09T21:00:07.381Z"
   },
   {
    "duration": 0,
    "start_time": "2022-11-09T21:00:07.383Z"
   },
   {
    "duration": 0,
    "start_time": "2022-11-09T21:00:07.385Z"
   },
   {
    "duration": 0,
    "start_time": "2022-11-09T21:00:07.386Z"
   },
   {
    "duration": 0,
    "start_time": "2022-11-09T21:00:07.387Z"
   },
   {
    "duration": 0,
    "start_time": "2022-11-09T21:00:07.389Z"
   },
   {
    "duration": 0,
    "start_time": "2022-11-09T21:00:07.390Z"
   },
   {
    "duration": 0,
    "start_time": "2022-11-09T21:00:07.392Z"
   },
   {
    "duration": 0,
    "start_time": "2022-11-09T21:00:07.393Z"
   },
   {
    "duration": 0,
    "start_time": "2022-11-09T21:00:07.394Z"
   },
   {
    "duration": 0,
    "start_time": "2022-11-09T21:00:07.396Z"
   },
   {
    "duration": 0,
    "start_time": "2022-11-09T21:00:07.397Z"
   },
   {
    "duration": 0,
    "start_time": "2022-11-09T21:00:07.398Z"
   },
   {
    "duration": 0,
    "start_time": "2022-11-09T21:00:07.400Z"
   },
   {
    "duration": 0,
    "start_time": "2022-11-09T21:00:07.438Z"
   },
   {
    "duration": 0,
    "start_time": "2022-11-09T21:00:07.440Z"
   },
   {
    "duration": 0,
    "start_time": "2022-11-09T21:00:07.442Z"
   },
   {
    "duration": 0,
    "start_time": "2022-11-09T21:00:07.443Z"
   },
   {
    "duration": 0,
    "start_time": "2022-11-09T21:00:07.444Z"
   },
   {
    "duration": 0,
    "start_time": "2022-11-09T21:00:07.446Z"
   },
   {
    "duration": 0,
    "start_time": "2022-11-09T21:00:07.447Z"
   },
   {
    "duration": 2424,
    "start_time": "2022-11-09T21:01:04.839Z"
   },
   {
    "duration": 1544,
    "start_time": "2022-11-09T21:01:07.265Z"
   },
   {
    "duration": 986,
    "start_time": "2022-11-09T21:01:08.812Z"
   },
   {
    "duration": 4,
    "start_time": "2022-11-09T21:01:09.801Z"
   },
   {
    "duration": 168,
    "start_time": "2022-11-09T21:01:09.807Z"
   },
   {
    "duration": 1023,
    "start_time": "2022-11-09T21:01:09.977Z"
   },
   {
    "duration": 7,
    "start_time": "2022-11-09T21:01:11.001Z"
   },
   {
    "duration": 313,
    "start_time": "2022-11-09T21:01:11.010Z"
   },
   {
    "duration": 1550,
    "start_time": "2022-11-09T21:01:11.325Z"
   },
   {
    "duration": 19,
    "start_time": "2022-11-09T21:01:12.879Z"
   },
   {
    "duration": 50,
    "start_time": "2022-11-09T21:01:12.900Z"
   },
   {
    "duration": 26,
    "start_time": "2022-11-09T21:01:12.952Z"
   },
   {
    "duration": 115,
    "start_time": "2022-11-09T21:01:12.980Z"
   },
   {
    "duration": 7410,
    "start_time": "2022-11-09T21:01:13.097Z"
   },
   {
    "duration": 29,
    "start_time": "2022-11-09T21:01:20.509Z"
   },
   {
    "duration": 1636,
    "start_time": "2022-11-09T21:01:20.540Z"
   },
   {
    "duration": 135,
    "start_time": "2022-11-09T21:01:22.178Z"
   },
   {
    "duration": 296,
    "start_time": "2022-11-09T21:01:22.315Z"
   },
   {
    "duration": 605,
    "start_time": "2022-11-09T21:01:22.614Z"
   },
   {
    "duration": 5,
    "start_time": "2022-11-09T21:01:23.222Z"
   },
   {
    "duration": 170,
    "start_time": "2022-11-09T21:01:23.237Z"
   },
   {
    "duration": 53,
    "start_time": "2022-11-09T21:01:23.409Z"
   },
   {
    "duration": 19,
    "start_time": "2022-11-09T21:01:23.463Z"
   },
   {
    "duration": 193,
    "start_time": "2022-11-09T21:01:23.484Z"
   },
   {
    "duration": 458,
    "start_time": "2022-11-09T21:01:23.679Z"
   },
   {
    "duration": 5,
    "start_time": "2022-11-09T21:01:24.139Z"
   },
   {
    "duration": 207,
    "start_time": "2022-11-09T21:01:24.147Z"
   },
   {
    "duration": 185,
    "start_time": "2022-11-09T21:01:24.359Z"
   },
   {
    "duration": 166,
    "start_time": "2022-11-09T21:01:24.546Z"
   },
   {
    "duration": 423,
    "start_time": "2022-11-09T21:01:24.714Z"
   },
   {
    "duration": 4,
    "start_time": "2022-11-09T21:01:25.139Z"
   },
   {
    "duration": 38,
    "start_time": "2022-11-09T21:01:25.145Z"
   },
   {
    "duration": 16,
    "start_time": "2022-11-09T21:01:25.185Z"
   },
   {
    "duration": 8,
    "start_time": "2022-11-09T21:01:25.203Z"
   },
   {
    "duration": 6,
    "start_time": "2022-11-09T21:01:25.238Z"
   },
   {
    "duration": 1204,
    "start_time": "2022-11-09T21:01:25.246Z"
   },
   {
    "duration": 449,
    "start_time": "2022-11-09T21:01:26.452Z"
   },
   {
    "duration": 4,
    "start_time": "2022-11-09T21:01:26.903Z"
   },
   {
    "duration": 29,
    "start_time": "2022-11-09T21:01:26.909Z"
   },
   {
    "duration": 181,
    "start_time": "2022-11-09T21:01:26.940Z"
   },
   {
    "duration": 26,
    "start_time": "2022-11-09T21:01:27.123Z"
   },
   {
    "duration": 139,
    "start_time": "2022-11-09T21:01:27.151Z"
   },
   {
    "duration": 10,
    "start_time": "2022-11-09T21:01:27.292Z"
   },
   {
    "duration": 42,
    "start_time": "2022-11-09T21:01:27.304Z"
   },
   {
    "duration": 44,
    "start_time": "2022-11-09T21:01:27.348Z"
   },
   {
    "duration": 43,
    "start_time": "2022-11-09T21:01:27.394Z"
   },
   {
    "duration": 620,
    "start_time": "2022-11-09T21:01:27.439Z"
   },
   {
    "duration": 132,
    "start_time": "2022-11-09T21:01:28.061Z"
   },
   {
    "duration": 15,
    "start_time": "2022-11-09T21:01:28.195Z"
   },
   {
    "duration": 45,
    "start_time": "2022-11-09T21:01:28.212Z"
   },
   {
    "duration": 4,
    "start_time": "2022-11-09T21:01:28.259Z"
   },
   {
    "duration": 22,
    "start_time": "2022-11-09T21:01:28.265Z"
   },
   {
    "duration": 4,
    "start_time": "2022-11-09T21:01:28.289Z"
   },
   {
    "duration": 90,
    "start_time": "2022-11-09T21:01:28.295Z"
   },
   {
    "duration": 392,
    "start_time": "2022-11-09T21:01:28.386Z"
   },
   {
    "duration": 16,
    "start_time": "2022-11-09T21:01:28.780Z"
   },
   {
    "duration": 14,
    "start_time": "2022-11-09T21:01:28.798Z"
   },
   {
    "duration": 111,
    "start_time": "2022-11-09T21:01:28.815Z"
   },
   {
    "duration": 11,
    "start_time": "2022-11-09T21:01:28.929Z"
   },
   {
    "duration": 1017,
    "start_time": "2022-11-09T21:01:28.942Z"
   },
   {
    "duration": 125,
    "start_time": "2022-11-09T21:01:29.962Z"
   },
   {
    "duration": 0,
    "start_time": "2022-11-09T21:01:30.090Z"
   },
   {
    "duration": 0,
    "start_time": "2022-11-09T21:01:30.091Z"
   },
   {
    "duration": 0,
    "start_time": "2022-11-09T21:01:30.093Z"
   },
   {
    "duration": 0,
    "start_time": "2022-11-09T21:01:30.094Z"
   },
   {
    "duration": 0,
    "start_time": "2022-11-09T21:01:30.095Z"
   },
   {
    "duration": 0,
    "start_time": "2022-11-09T21:01:30.097Z"
   },
   {
    "duration": 0,
    "start_time": "2022-11-09T21:01:30.098Z"
   },
   {
    "duration": 0,
    "start_time": "2022-11-09T21:01:30.099Z"
   },
   {
    "duration": 0,
    "start_time": "2022-11-09T21:01:30.100Z"
   },
   {
    "duration": 0,
    "start_time": "2022-11-09T21:01:30.101Z"
   },
   {
    "duration": 0,
    "start_time": "2022-11-09T21:01:30.102Z"
   },
   {
    "duration": 0,
    "start_time": "2022-11-09T21:01:30.103Z"
   },
   {
    "duration": 0,
    "start_time": "2022-11-09T21:01:30.104Z"
   },
   {
    "duration": 0,
    "start_time": "2022-11-09T21:01:30.105Z"
   },
   {
    "duration": 0,
    "start_time": "2022-11-09T21:01:30.106Z"
   },
   {
    "duration": 0,
    "start_time": "2022-11-09T21:01:30.107Z"
   },
   {
    "duration": 0,
    "start_time": "2022-11-09T21:01:30.138Z"
   },
   {
    "duration": 0,
    "start_time": "2022-11-09T21:01:30.139Z"
   },
   {
    "duration": 0,
    "start_time": "2022-11-09T21:01:30.140Z"
   },
   {
    "duration": 0,
    "start_time": "2022-11-09T21:01:30.142Z"
   },
   {
    "duration": 0,
    "start_time": "2022-11-09T21:01:30.144Z"
   },
   {
    "duration": 0,
    "start_time": "2022-11-09T21:01:30.145Z"
   },
   {
    "duration": 2509,
    "start_time": "2022-11-09T21:02:46.116Z"
   },
   {
    "duration": 2583,
    "start_time": "2022-11-09T21:02:48.627Z"
   },
   {
    "duration": 992,
    "start_time": "2022-11-09T21:02:51.212Z"
   },
   {
    "duration": 5,
    "start_time": "2022-11-09T21:02:52.206Z"
   },
   {
    "duration": 169,
    "start_time": "2022-11-09T21:02:52.213Z"
   },
   {
    "duration": 1049,
    "start_time": "2022-11-09T21:02:52.383Z"
   },
   {
    "duration": 7,
    "start_time": "2022-11-09T21:02:53.437Z"
   },
   {
    "duration": 315,
    "start_time": "2022-11-09T21:02:53.446Z"
   },
   {
    "duration": 1507,
    "start_time": "2022-11-09T21:02:53.764Z"
   },
   {
    "duration": 19,
    "start_time": "2022-11-09T21:02:55.275Z"
   },
   {
    "duration": 56,
    "start_time": "2022-11-09T21:02:55.296Z"
   },
   {
    "duration": 27,
    "start_time": "2022-11-09T21:02:55.353Z"
   },
   {
    "duration": 113,
    "start_time": "2022-11-09T21:02:55.382Z"
   },
   {
    "duration": 7419,
    "start_time": "2022-11-09T21:02:55.498Z"
   },
   {
    "duration": 28,
    "start_time": "2022-11-09T21:03:02.918Z"
   },
   {
    "duration": 1511,
    "start_time": "2022-11-09T21:03:02.947Z"
   },
   {
    "duration": 151,
    "start_time": "2022-11-09T21:03:04.461Z"
   },
   {
    "duration": 306,
    "start_time": "2022-11-09T21:03:04.614Z"
   },
   {
    "duration": 626,
    "start_time": "2022-11-09T21:03:04.922Z"
   },
   {
    "duration": 4,
    "start_time": "2022-11-09T21:03:05.550Z"
   },
   {
    "duration": 178,
    "start_time": "2022-11-09T21:03:05.555Z"
   },
   {
    "duration": 44,
    "start_time": "2022-11-09T21:03:05.738Z"
   },
   {
    "duration": 20,
    "start_time": "2022-11-09T21:03:05.784Z"
   },
   {
    "duration": 199,
    "start_time": "2022-11-09T21:03:05.806Z"
   },
   {
    "duration": 418,
    "start_time": "2022-11-09T21:03:06.007Z"
   },
   {
    "duration": 5,
    "start_time": "2022-11-09T21:03:06.427Z"
   },
   {
    "duration": 209,
    "start_time": "2022-11-09T21:03:06.438Z"
   },
   {
    "duration": 188,
    "start_time": "2022-11-09T21:03:06.651Z"
   },
   {
    "duration": 171,
    "start_time": "2022-11-09T21:03:06.840Z"
   },
   {
    "duration": 431,
    "start_time": "2022-11-09T21:03:07.012Z"
   },
   {
    "duration": 4,
    "start_time": "2022-11-09T21:03:07.445Z"
   },
   {
    "duration": 36,
    "start_time": "2022-11-09T21:03:07.451Z"
   },
   {
    "duration": 16,
    "start_time": "2022-11-09T21:03:07.489Z"
   },
   {
    "duration": 31,
    "start_time": "2022-11-09T21:03:07.506Z"
   },
   {
    "duration": 7,
    "start_time": "2022-11-09T21:03:07.539Z"
   },
   {
    "duration": 1101,
    "start_time": "2022-11-09T21:03:07.548Z"
   },
   {
    "duration": 494,
    "start_time": "2022-11-09T21:03:08.651Z"
   },
   {
    "duration": 5,
    "start_time": "2022-11-09T21:03:09.147Z"
   },
   {
    "duration": 18,
    "start_time": "2022-11-09T21:03:09.157Z"
   },
   {
    "duration": 189,
    "start_time": "2022-11-09T21:03:09.177Z"
   },
   {
    "duration": 15,
    "start_time": "2022-11-09T21:03:09.368Z"
   },
   {
    "duration": 155,
    "start_time": "2022-11-09T21:03:09.385Z"
   },
   {
    "duration": 12,
    "start_time": "2022-11-09T21:03:09.542Z"
   },
   {
    "duration": 27,
    "start_time": "2022-11-09T21:03:09.556Z"
   },
   {
    "duration": 86,
    "start_time": "2022-11-09T21:03:09.585Z"
   },
   {
    "duration": 25,
    "start_time": "2022-11-09T21:03:09.673Z"
   },
   {
    "duration": 630,
    "start_time": "2022-11-09T21:03:09.700Z"
   },
   {
    "duration": 125,
    "start_time": "2022-11-09T21:03:10.332Z"
   },
   {
    "duration": 14,
    "start_time": "2022-11-09T21:03:10.459Z"
   },
   {
    "duration": 30,
    "start_time": "2022-11-09T21:03:10.474Z"
   },
   {
    "duration": 4,
    "start_time": "2022-11-09T21:03:10.505Z"
   },
   {
    "duration": 15,
    "start_time": "2022-11-09T21:03:10.538Z"
   },
   {
    "duration": 3,
    "start_time": "2022-11-09T21:03:10.555Z"
   },
   {
    "duration": 83,
    "start_time": "2022-11-09T21:03:10.560Z"
   },
   {
    "duration": 395,
    "start_time": "2022-11-09T21:03:10.645Z"
   },
   {
    "duration": 11,
    "start_time": "2022-11-09T21:03:11.041Z"
   },
   {
    "duration": 13,
    "start_time": "2022-11-09T21:03:11.054Z"
   },
   {
    "duration": 95,
    "start_time": "2022-11-09T21:03:11.068Z"
   },
   {
    "duration": 5,
    "start_time": "2022-11-09T21:03:11.165Z"
   },
   {
    "duration": 981,
    "start_time": "2022-11-09T21:03:11.172Z"
   },
   {
    "duration": 4,
    "start_time": "2022-11-09T21:03:12.155Z"
   },
   {
    "duration": 22,
    "start_time": "2022-11-09T21:03:12.162Z"
   },
   {
    "duration": 248,
    "start_time": "2022-11-09T21:03:12.186Z"
   },
   {
    "duration": 193,
    "start_time": "2022-11-09T21:03:12.438Z"
   },
   {
    "duration": 82,
    "start_time": "2022-11-09T21:03:12.633Z"
   },
   {
    "duration": 78,
    "start_time": "2022-11-09T21:03:12.718Z"
   },
   {
    "duration": 79,
    "start_time": "2022-11-09T21:03:12.798Z"
   },
   {
    "duration": 80,
    "start_time": "2022-11-09T21:03:12.879Z"
   },
   {
    "duration": 82,
    "start_time": "2022-11-09T21:03:12.961Z"
   },
   {
    "duration": 79,
    "start_time": "2022-11-09T21:03:13.045Z"
   },
   {
    "duration": 80,
    "start_time": "2022-11-09T21:03:13.126Z"
   },
   {
    "duration": 72,
    "start_time": "2022-11-09T21:03:13.209Z"
   },
   {
    "duration": 95,
    "start_time": "2022-11-09T21:03:13.283Z"
   },
   {
    "duration": 76,
    "start_time": "2022-11-09T21:03:13.380Z"
   },
   {
    "duration": 88,
    "start_time": "2022-11-09T21:03:13.458Z"
   },
   {
    "duration": 84,
    "start_time": "2022-11-09T21:03:13.547Z"
   },
   {
    "duration": 93,
    "start_time": "2022-11-09T21:03:13.633Z"
   },
   {
    "duration": 73,
    "start_time": "2022-11-09T21:03:13.728Z"
   },
   {
    "duration": 76,
    "start_time": "2022-11-09T21:03:13.803Z"
   },
   {
    "duration": 74,
    "start_time": "2022-11-09T21:03:13.881Z"
   },
   {
    "duration": 14,
    "start_time": "2022-11-09T21:03:13.956Z"
   },
   {
    "duration": 0,
    "start_time": "2022-11-09T21:03:13.972Z"
   },
   {
    "duration": 0,
    "start_time": "2022-11-09T21:03:13.973Z"
   },
   {
    "duration": 2465,
    "start_time": "2022-11-09T21:06:08.995Z"
   },
   {
    "duration": 1606,
    "start_time": "2022-11-09T21:06:11.463Z"
   },
   {
    "duration": 942,
    "start_time": "2022-11-09T21:06:13.071Z"
   },
   {
    "duration": 5,
    "start_time": "2022-11-09T21:06:14.016Z"
   },
   {
    "duration": 173,
    "start_time": "2022-11-09T21:06:14.022Z"
   },
   {
    "duration": 1066,
    "start_time": "2022-11-09T21:06:14.197Z"
   },
   {
    "duration": 6,
    "start_time": "2022-11-09T21:06:15.265Z"
   },
   {
    "duration": 319,
    "start_time": "2022-11-09T21:06:15.273Z"
   },
   {
    "duration": 1590,
    "start_time": "2022-11-09T21:06:15.594Z"
   },
   {
    "duration": 19,
    "start_time": "2022-11-09T21:06:17.189Z"
   },
   {
    "duration": 58,
    "start_time": "2022-11-09T21:06:17.210Z"
   },
   {
    "duration": 27,
    "start_time": "2022-11-09T21:06:17.270Z"
   },
   {
    "duration": 121,
    "start_time": "2022-11-09T21:06:17.299Z"
   },
   {
    "duration": 7305,
    "start_time": "2022-11-09T21:06:17.422Z"
   },
   {
    "duration": 24,
    "start_time": "2022-11-09T21:06:24.729Z"
   },
   {
    "duration": 1504,
    "start_time": "2022-11-09T21:06:24.755Z"
   },
   {
    "duration": 140,
    "start_time": "2022-11-09T21:06:26.261Z"
   },
   {
    "duration": 305,
    "start_time": "2022-11-09T21:06:26.403Z"
   },
   {
    "duration": 597,
    "start_time": "2022-11-09T21:06:26.709Z"
   },
   {
    "duration": 5,
    "start_time": "2022-11-09T21:06:27.308Z"
   },
   {
    "duration": 190,
    "start_time": "2022-11-09T21:06:27.315Z"
   },
   {
    "duration": 53,
    "start_time": "2022-11-09T21:06:27.507Z"
   },
   {
    "duration": 19,
    "start_time": "2022-11-09T21:06:27.562Z"
   },
   {
    "duration": 177,
    "start_time": "2022-11-09T21:06:27.583Z"
   },
   {
    "duration": 438,
    "start_time": "2022-11-09T21:06:27.762Z"
   },
   {
    "duration": 5,
    "start_time": "2022-11-09T21:06:28.201Z"
   },
   {
    "duration": 218,
    "start_time": "2022-11-09T21:06:28.209Z"
   },
   {
    "duration": 173,
    "start_time": "2022-11-09T21:06:28.437Z"
   },
   {
    "duration": 166,
    "start_time": "2022-11-09T21:06:28.612Z"
   },
   {
    "duration": 464,
    "start_time": "2022-11-09T21:06:28.780Z"
   },
   {
    "duration": 4,
    "start_time": "2022-11-09T21:06:29.246Z"
   },
   {
    "duration": 33,
    "start_time": "2022-11-09T21:06:29.252Z"
   },
   {
    "duration": 17,
    "start_time": "2022-11-09T21:06:29.287Z"
   },
   {
    "duration": 37,
    "start_time": "2022-11-09T21:06:29.306Z"
   },
   {
    "duration": 7,
    "start_time": "2022-11-09T21:06:29.344Z"
   },
   {
    "duration": 1135,
    "start_time": "2022-11-09T21:06:29.352Z"
   },
   {
    "duration": 449,
    "start_time": "2022-11-09T21:06:30.489Z"
   },
   {
    "duration": 4,
    "start_time": "2022-11-09T21:06:30.940Z"
   },
   {
    "duration": 26,
    "start_time": "2022-11-09T21:06:30.946Z"
   },
   {
    "duration": 187,
    "start_time": "2022-11-09T21:06:30.974Z"
   },
   {
    "duration": 17,
    "start_time": "2022-11-09T21:06:31.163Z"
   },
   {
    "duration": 149,
    "start_time": "2022-11-09T21:06:31.182Z"
   },
   {
    "duration": 9,
    "start_time": "2022-11-09T21:06:31.337Z"
   },
   {
    "duration": 19,
    "start_time": "2022-11-09T21:06:31.348Z"
   },
   {
    "duration": 70,
    "start_time": "2022-11-09T21:06:31.369Z"
   },
   {
    "duration": 23,
    "start_time": "2022-11-09T21:06:31.441Z"
   },
   {
    "duration": 629,
    "start_time": "2022-11-09T21:06:31.466Z"
   },
   {
    "duration": 119,
    "start_time": "2022-11-09T21:06:32.097Z"
   },
   {
    "duration": 27,
    "start_time": "2022-11-09T21:06:32.218Z"
   },
   {
    "duration": 30,
    "start_time": "2022-11-09T21:06:32.247Z"
   },
   {
    "duration": 3,
    "start_time": "2022-11-09T21:06:32.279Z"
   },
   {
    "duration": 22,
    "start_time": "2022-11-09T21:06:32.284Z"
   },
   {
    "duration": 29,
    "start_time": "2022-11-09T21:06:32.308Z"
   },
   {
    "duration": 68,
    "start_time": "2022-11-09T21:06:32.339Z"
   },
   {
    "duration": 383,
    "start_time": "2022-11-09T21:06:32.409Z"
   },
   {
    "duration": 16,
    "start_time": "2022-11-09T21:06:32.794Z"
   },
   {
    "duration": 29,
    "start_time": "2022-11-09T21:06:32.812Z"
   },
   {
    "duration": 79,
    "start_time": "2022-11-09T21:06:32.843Z"
   },
   {
    "duration": 17,
    "start_time": "2022-11-09T21:06:32.923Z"
   },
   {
    "duration": 986,
    "start_time": "2022-11-09T21:06:32.942Z"
   },
   {
    "duration": 8,
    "start_time": "2022-11-09T21:06:33.930Z"
   },
   {
    "duration": 13,
    "start_time": "2022-11-09T21:06:33.940Z"
   },
   {
    "duration": 204,
    "start_time": "2022-11-09T21:06:33.955Z"
   },
   {
    "duration": 21078,
    "start_time": "2022-11-09T21:06:34.161Z"
   },
   {
    "duration": 453,
    "start_time": "2022-11-09T21:06:55.241Z"
   },
   {
    "duration": 122,
    "start_time": "2022-11-09T21:06:55.696Z"
   },
   {
    "duration": 109,
    "start_time": "2022-11-09T21:06:55.838Z"
   },
   {
    "duration": 94,
    "start_time": "2022-11-09T21:06:55.949Z"
   },
   {
    "duration": 103,
    "start_time": "2022-11-09T21:06:56.045Z"
   },
   {
    "duration": 104,
    "start_time": "2022-11-09T21:06:56.150Z"
   },
   {
    "duration": 86,
    "start_time": "2022-11-09T21:06:56.257Z"
   },
   {
    "duration": 109207,
    "start_time": "2022-11-09T21:06:56.346Z"
   },
   {
    "duration": 36550,
    "start_time": "2022-11-09T21:08:45.555Z"
   },
   {
    "duration": 15424,
    "start_time": "2022-11-09T21:09:22.107Z"
   },
   {
    "duration": 90,
    "start_time": "2022-11-09T21:09:37.533Z"
   },
   {
    "duration": 279,
    "start_time": "2022-11-09T21:09:37.639Z"
   },
   {
    "duration": 10828,
    "start_time": "2022-11-09T21:09:37.920Z"
   },
   {
    "duration": 142,
    "start_time": "2022-11-09T21:09:48.750Z"
   },
   {
    "duration": 96,
    "start_time": "2022-11-09T21:09:48.894Z"
   },
   {
    "duration": 105,
    "start_time": "2022-11-09T21:09:48.992Z"
   },
   {
    "duration": 40,
    "start_time": "2022-11-09T21:09:49.099Z"
   },
   {
    "duration": 0,
    "start_time": "2022-11-09T21:09:49.142Z"
   },
   {
    "duration": 0,
    "start_time": "2022-11-09T21:09:49.143Z"
   },
   {
    "duration": 0,
    "start_time": "2022-11-09T21:09:49.149Z"
   },
   {
    "duration": 4,
    "start_time": "2022-11-09T21:09:56.151Z"
   },
   {
    "duration": 4,
    "start_time": "2022-11-09T21:10:33.249Z"
   },
   {
    "duration": 5,
    "start_time": "2022-11-09T21:11:53.420Z"
   },
   {
    "duration": 3295,
    "start_time": "2022-11-09T21:50:35.968Z"
   },
   {
    "duration": 2579,
    "start_time": "2022-11-09T21:50:39.266Z"
   },
   {
    "duration": 943,
    "start_time": "2022-11-09T21:50:41.847Z"
   },
   {
    "duration": 5,
    "start_time": "2022-11-09T21:50:42.793Z"
   },
   {
    "duration": 180,
    "start_time": "2022-11-09T21:50:42.799Z"
   },
   {
    "duration": 1044,
    "start_time": "2022-11-09T21:50:42.981Z"
   },
   {
    "duration": 12,
    "start_time": "2022-11-09T21:50:44.027Z"
   },
   {
    "duration": 336,
    "start_time": "2022-11-09T21:50:44.041Z"
   },
   {
    "duration": 1563,
    "start_time": "2022-11-09T21:50:44.378Z"
   },
   {
    "duration": 19,
    "start_time": "2022-11-09T21:50:45.944Z"
   },
   {
    "duration": 38,
    "start_time": "2022-11-09T21:50:45.965Z"
   },
   {
    "duration": 45,
    "start_time": "2022-11-09T21:50:46.005Z"
   },
   {
    "duration": 121,
    "start_time": "2022-11-09T21:50:46.052Z"
   },
   {
    "duration": 7407,
    "start_time": "2022-11-09T21:50:46.175Z"
   },
   {
    "duration": 21,
    "start_time": "2022-11-09T21:50:53.584Z"
   },
   {
    "duration": 1453,
    "start_time": "2022-11-09T21:50:53.607Z"
   },
   {
    "duration": 168,
    "start_time": "2022-11-09T21:50:55.063Z"
   },
   {
    "duration": 297,
    "start_time": "2022-11-09T21:50:55.238Z"
   },
   {
    "duration": 607,
    "start_time": "2022-11-09T21:50:55.537Z"
   },
   {
    "duration": 4,
    "start_time": "2022-11-09T21:50:56.147Z"
   },
   {
    "duration": 173,
    "start_time": "2022-11-09T21:50:56.153Z"
   },
   {
    "duration": 38,
    "start_time": "2022-11-09T21:50:56.328Z"
   },
   {
    "duration": 19,
    "start_time": "2022-11-09T21:50:56.368Z"
   },
   {
    "duration": 187,
    "start_time": "2022-11-09T21:50:56.388Z"
   },
   {
    "duration": 455,
    "start_time": "2022-11-09T21:50:56.577Z"
   },
   {
    "duration": 7,
    "start_time": "2022-11-09T21:50:57.038Z"
   },
   {
    "duration": 208,
    "start_time": "2022-11-09T21:50:57.047Z"
   },
   {
    "duration": 196,
    "start_time": "2022-11-09T21:50:57.259Z"
   },
   {
    "duration": 171,
    "start_time": "2022-11-09T21:50:57.457Z"
   },
   {
    "duration": 455,
    "start_time": "2022-11-09T21:50:57.629Z"
   },
   {
    "duration": 4,
    "start_time": "2022-11-09T21:50:58.086Z"
   },
   {
    "duration": 49,
    "start_time": "2022-11-09T21:50:58.093Z"
   },
   {
    "duration": 17,
    "start_time": "2022-11-09T21:50:58.144Z"
   },
   {
    "duration": 8,
    "start_time": "2022-11-09T21:50:58.163Z"
   },
   {
    "duration": 7,
    "start_time": "2022-11-09T21:50:58.173Z"
   },
   {
    "duration": 1241,
    "start_time": "2022-11-09T21:50:58.182Z"
   },
   {
    "duration": 424,
    "start_time": "2022-11-09T21:50:59.425Z"
   },
   {
    "duration": 4,
    "start_time": "2022-11-09T21:50:59.851Z"
   },
   {
    "duration": 21,
    "start_time": "2022-11-09T21:50:59.858Z"
   },
   {
    "duration": 214,
    "start_time": "2022-11-09T21:50:59.881Z"
   },
   {
    "duration": 18,
    "start_time": "2022-11-09T21:51:00.097Z"
   },
   {
    "duration": 150,
    "start_time": "2022-11-09T21:51:00.117Z"
   },
   {
    "duration": 8,
    "start_time": "2022-11-09T21:51:00.270Z"
   },
   {
    "duration": 38,
    "start_time": "2022-11-09T21:51:00.280Z"
   },
   {
    "duration": 53,
    "start_time": "2022-11-09T21:51:00.320Z"
   },
   {
    "duration": 27,
    "start_time": "2022-11-09T21:51:00.374Z"
   },
   {
    "duration": 658,
    "start_time": "2022-11-09T21:51:00.403Z"
   },
   {
    "duration": 126,
    "start_time": "2022-11-09T21:51:01.063Z"
   },
   {
    "duration": 19,
    "start_time": "2022-11-09T21:51:01.191Z"
   },
   {
    "duration": 47,
    "start_time": "2022-11-09T21:51:01.211Z"
   },
   {
    "duration": 5,
    "start_time": "2022-11-09T21:51:01.261Z"
   },
   {
    "duration": 30,
    "start_time": "2022-11-09T21:51:01.267Z"
   },
   {
    "duration": 5,
    "start_time": "2022-11-09T21:51:01.299Z"
   },
   {
    "duration": 87,
    "start_time": "2022-11-09T21:51:01.305Z"
   },
   {
    "duration": 400,
    "start_time": "2022-11-09T21:51:01.394Z"
   },
   {
    "duration": 11,
    "start_time": "2022-11-09T21:51:01.796Z"
   },
   {
    "duration": 33,
    "start_time": "2022-11-09T21:51:01.809Z"
   },
   {
    "duration": 72,
    "start_time": "2022-11-09T21:51:01.844Z"
   },
   {
    "duration": 4,
    "start_time": "2022-11-09T21:51:01.918Z"
   },
   {
    "duration": 472,
    "start_time": "2022-11-09T21:51:01.924Z"
   },
   {
    "duration": 5,
    "start_time": "2022-11-09T21:51:02.399Z"
   },
   {
    "duration": 1353,
    "start_time": "2022-11-09T21:51:02.407Z"
   },
   {
    "duration": 4,
    "start_time": "2022-11-09T21:51:03.762Z"
   },
   {
    "duration": 17,
    "start_time": "2022-11-09T21:51:03.768Z"
   },
   {
    "duration": 156,
    "start_time": "2022-11-09T21:51:03.787Z"
   },
   {
    "duration": 14503,
    "start_time": "2022-11-09T21:51:03.945Z"
   },
   {
    "duration": 90,
    "start_time": "2022-11-09T21:51:18.450Z"
   },
   {
    "duration": 112,
    "start_time": "2022-11-09T21:51:18.543Z"
   },
   {
    "duration": 456,
    "start_time": "2022-11-09T21:51:18.657Z"
   },
   {
    "duration": 91,
    "start_time": "2022-11-09T21:51:19.115Z"
   },
   {
    "duration": 81,
    "start_time": "2022-11-09T21:51:19.208Z"
   },
   {
    "duration": 90,
    "start_time": "2022-11-09T21:51:19.291Z"
   },
   {
    "duration": 99,
    "start_time": "2022-11-09T21:51:19.383Z"
   },
   {
    "duration": 85,
    "start_time": "2022-11-09T21:51:19.484Z"
   },
   {
    "duration": 65356,
    "start_time": "2022-11-09T21:51:19.571Z"
   },
   {
    "duration": 2437,
    "start_time": "2022-11-09T22:05:42.591Z"
   },
   {
    "duration": 1616,
    "start_time": "2022-11-09T22:05:45.031Z"
   },
   {
    "duration": 955,
    "start_time": "2022-11-09T22:05:46.648Z"
   },
   {
    "duration": 34,
    "start_time": "2022-11-09T22:05:47.605Z"
   },
   {
    "duration": 165,
    "start_time": "2022-11-09T22:05:47.641Z"
   },
   {
    "duration": 1244,
    "start_time": "2022-11-09T22:05:47.808Z"
   },
   {
    "duration": 7,
    "start_time": "2022-11-09T22:05:49.055Z"
   },
   {
    "duration": 312,
    "start_time": "2022-11-09T22:05:49.064Z"
   },
   {
    "duration": 1498,
    "start_time": "2022-11-09T22:05:49.378Z"
   },
   {
    "duration": 19,
    "start_time": "2022-11-09T22:05:50.880Z"
   },
   {
    "duration": 54,
    "start_time": "2022-11-09T22:05:50.901Z"
   },
   {
    "duration": 23,
    "start_time": "2022-11-09T22:05:50.957Z"
   },
   {
    "duration": 133,
    "start_time": "2022-11-09T22:05:50.982Z"
   },
   {
    "duration": 8706,
    "start_time": "2022-11-09T22:05:51.116Z"
   },
   {
    "duration": 31,
    "start_time": "2022-11-09T22:05:59.824Z"
   },
   {
    "duration": 1632,
    "start_time": "2022-11-09T22:05:59.857Z"
   },
   {
    "duration": 133,
    "start_time": "2022-11-09T22:06:01.491Z"
   },
   {
    "duration": 309,
    "start_time": "2022-11-09T22:06:01.626Z"
   },
   {
    "duration": 595,
    "start_time": "2022-11-09T22:06:01.937Z"
   },
   {
    "duration": 5,
    "start_time": "2022-11-09T22:06:02.537Z"
   },
   {
    "duration": 219,
    "start_time": "2022-11-09T22:06:02.544Z"
   },
   {
    "duration": 75,
    "start_time": "2022-11-09T22:06:02.765Z"
   },
   {
    "duration": 23,
    "start_time": "2022-11-09T22:06:02.842Z"
   },
   {
    "duration": 179,
    "start_time": "2022-11-09T22:06:02.869Z"
   },
   {
    "duration": 429,
    "start_time": "2022-11-09T22:06:03.050Z"
   },
   {
    "duration": 5,
    "start_time": "2022-11-09T22:06:03.480Z"
   },
   {
    "duration": 274,
    "start_time": "2022-11-09T22:06:03.487Z"
   },
   {
    "duration": 185,
    "start_time": "2022-11-09T22:06:03.766Z"
   },
   {
    "duration": 167,
    "start_time": "2022-11-09T22:06:03.953Z"
   },
   {
    "duration": 435,
    "start_time": "2022-11-09T22:06:04.122Z"
   },
   {
    "duration": 4,
    "start_time": "2022-11-09T22:06:04.559Z"
   },
   {
    "duration": 34,
    "start_time": "2022-11-09T22:06:04.565Z"
   },
   {
    "duration": 40,
    "start_time": "2022-11-09T22:06:04.601Z"
   },
   {
    "duration": 7,
    "start_time": "2022-11-09T22:06:04.643Z"
   },
   {
    "duration": 5,
    "start_time": "2022-11-09T22:06:04.652Z"
   },
   {
    "duration": 1144,
    "start_time": "2022-11-09T22:06:04.658Z"
   },
   {
    "duration": 449,
    "start_time": "2022-11-09T22:06:05.804Z"
   },
   {
    "duration": 4,
    "start_time": "2022-11-09T22:06:06.255Z"
   },
   {
    "duration": 19,
    "start_time": "2022-11-09T22:06:06.261Z"
   },
   {
    "duration": 191,
    "start_time": "2022-11-09T22:06:06.282Z"
   },
   {
    "duration": 15,
    "start_time": "2022-11-09T22:06:06.475Z"
   },
   {
    "duration": 153,
    "start_time": "2022-11-09T22:06:06.492Z"
   },
   {
    "duration": 8,
    "start_time": "2022-11-09T22:06:06.647Z"
   },
   {
    "duration": 21,
    "start_time": "2022-11-09T22:06:06.657Z"
   },
   {
    "duration": 73,
    "start_time": "2022-11-09T22:06:06.679Z"
   },
   {
    "duration": 28,
    "start_time": "2022-11-09T22:06:06.754Z"
   },
   {
    "duration": 628,
    "start_time": "2022-11-09T22:06:06.784Z"
   },
   {
    "duration": 127,
    "start_time": "2022-11-09T22:06:07.414Z"
   },
   {
    "duration": 15,
    "start_time": "2022-11-09T22:06:07.543Z"
   },
   {
    "duration": 31,
    "start_time": "2022-11-09T22:06:07.561Z"
   },
   {
    "duration": 4,
    "start_time": "2022-11-09T22:06:07.595Z"
   },
   {
    "duration": 48,
    "start_time": "2022-11-09T22:06:07.601Z"
   },
   {
    "duration": 5,
    "start_time": "2022-11-09T22:06:07.651Z"
   },
   {
    "duration": 80,
    "start_time": "2022-11-09T22:06:07.658Z"
   },
   {
    "duration": 367,
    "start_time": "2022-11-09T22:06:07.741Z"
   },
   {
    "duration": 12,
    "start_time": "2022-11-09T22:06:08.110Z"
   },
   {
    "duration": 23,
    "start_time": "2022-11-09T22:06:08.124Z"
   },
   {
    "duration": 67,
    "start_time": "2022-11-09T22:06:08.150Z"
   },
   {
    "duration": 20,
    "start_time": "2022-11-09T22:06:08.219Z"
   },
   {
    "duration": 470,
    "start_time": "2022-11-09T22:06:08.241Z"
   },
   {
    "duration": 4,
    "start_time": "2022-11-09T22:06:08.713Z"
   },
   {
    "duration": 1364,
    "start_time": "2022-11-09T22:06:08.719Z"
   },
   {
    "duration": 0,
    "start_time": "2022-11-09T22:06:10.085Z"
   },
   {
    "duration": 0,
    "start_time": "2022-11-09T22:06:10.086Z"
   },
   {
    "duration": 0,
    "start_time": "2022-11-09T22:06:10.088Z"
   },
   {
    "duration": 0,
    "start_time": "2022-11-09T22:06:10.089Z"
   },
   {
    "duration": 0,
    "start_time": "2022-11-09T22:06:10.090Z"
   },
   {
    "duration": 0,
    "start_time": "2022-11-09T22:06:10.091Z"
   },
   {
    "duration": 0,
    "start_time": "2022-11-09T22:06:10.093Z"
   },
   {
    "duration": 0,
    "start_time": "2022-11-09T22:06:10.094Z"
   },
   {
    "duration": 0,
    "start_time": "2022-11-09T22:06:10.095Z"
   },
   {
    "duration": 0,
    "start_time": "2022-11-09T22:06:10.096Z"
   },
   {
    "duration": 0,
    "start_time": "2022-11-09T22:06:10.098Z"
   },
   {
    "duration": 0,
    "start_time": "2022-11-09T22:06:10.099Z"
   },
   {
    "duration": 0,
    "start_time": "2022-11-09T22:06:10.101Z"
   },
   {
    "duration": 0,
    "start_time": "2022-11-09T22:06:10.102Z"
   },
   {
    "duration": 0,
    "start_time": "2022-11-09T22:06:10.103Z"
   },
   {
    "duration": 0,
    "start_time": "2022-11-09T22:06:10.105Z"
   },
   {
    "duration": 0,
    "start_time": "2022-11-09T22:06:10.138Z"
   },
   {
    "duration": 0,
    "start_time": "2022-11-09T22:06:10.140Z"
   },
   {
    "duration": 0,
    "start_time": "2022-11-09T22:06:10.141Z"
   },
   {
    "duration": 0,
    "start_time": "2022-11-09T22:06:10.142Z"
   },
   {
    "duration": 0,
    "start_time": "2022-11-09T22:06:10.143Z"
   },
   {
    "duration": 0,
    "start_time": "2022-11-09T22:06:10.144Z"
   },
   {
    "duration": 0,
    "start_time": "2022-11-09T22:06:10.145Z"
   },
   {
    "duration": 0,
    "start_time": "2022-11-09T22:06:10.147Z"
   },
   {
    "duration": 2418,
    "start_time": "2022-11-09T22:06:56.697Z"
   },
   {
    "duration": 1592,
    "start_time": "2022-11-09T22:06:59.118Z"
   },
   {
    "duration": 931,
    "start_time": "2022-11-09T22:07:00.712Z"
   },
   {
    "duration": 3,
    "start_time": "2022-11-09T22:07:01.645Z"
   },
   {
    "duration": 165,
    "start_time": "2022-11-09T22:07:01.650Z"
   },
   {
    "duration": 1041,
    "start_time": "2022-11-09T22:07:01.817Z"
   },
   {
    "duration": 7,
    "start_time": "2022-11-09T22:07:02.861Z"
   },
   {
    "duration": 332,
    "start_time": "2022-11-09T22:07:02.870Z"
   },
   {
    "duration": 1466,
    "start_time": "2022-11-09T22:07:03.204Z"
   },
   {
    "duration": 20,
    "start_time": "2022-11-09T22:07:04.674Z"
   },
   {
    "duration": 76,
    "start_time": "2022-11-09T22:07:04.696Z"
   },
   {
    "duration": 28,
    "start_time": "2022-11-09T22:07:04.774Z"
   },
   {
    "duration": 139,
    "start_time": "2022-11-09T22:07:04.804Z"
   },
   {
    "duration": 7448,
    "start_time": "2022-11-09T22:07:04.945Z"
   },
   {
    "duration": 19,
    "start_time": "2022-11-09T22:07:12.395Z"
   },
   {
    "duration": 1357,
    "start_time": "2022-11-09T22:07:12.416Z"
   },
   {
    "duration": 143,
    "start_time": "2022-11-09T22:07:13.838Z"
   },
   {
    "duration": 305,
    "start_time": "2022-11-09T22:07:13.983Z"
   },
   {
    "duration": 593,
    "start_time": "2022-11-09T22:07:14.291Z"
   },
   {
    "duration": 4,
    "start_time": "2022-11-09T22:07:14.886Z"
   },
   {
    "duration": 178,
    "start_time": "2022-11-09T22:07:14.892Z"
   },
   {
    "duration": 39,
    "start_time": "2022-11-09T22:07:15.072Z"
   },
   {
    "duration": 40,
    "start_time": "2022-11-09T22:07:15.112Z"
   },
   {
    "duration": 176,
    "start_time": "2022-11-09T22:07:15.154Z"
   },
   {
    "duration": 464,
    "start_time": "2022-11-09T22:07:15.332Z"
   },
   {
    "duration": 5,
    "start_time": "2022-11-09T22:07:15.799Z"
   },
   {
    "duration": 218,
    "start_time": "2022-11-09T22:07:15.806Z"
   },
   {
    "duration": 182,
    "start_time": "2022-11-09T22:07:16.029Z"
   },
   {
    "duration": 173,
    "start_time": "2022-11-09T22:07:16.213Z"
   },
   {
    "duration": 440,
    "start_time": "2022-11-09T22:07:16.388Z"
   },
   {
    "duration": 4,
    "start_time": "2022-11-09T22:07:16.837Z"
   },
   {
    "duration": 33,
    "start_time": "2022-11-09T22:07:16.843Z"
   },
   {
    "duration": 16,
    "start_time": "2022-11-09T22:07:16.878Z"
   },
   {
    "duration": 7,
    "start_time": "2022-11-09T22:07:16.896Z"
   },
   {
    "duration": 34,
    "start_time": "2022-11-09T22:07:16.905Z"
   },
   {
    "duration": 1097,
    "start_time": "2022-11-09T22:07:16.940Z"
   },
   {
    "duration": 426,
    "start_time": "2022-11-09T22:07:18.039Z"
   },
   {
    "duration": 5,
    "start_time": "2022-11-09T22:07:18.466Z"
   },
   {
    "duration": 16,
    "start_time": "2022-11-09T22:07:18.472Z"
   },
   {
    "duration": 198,
    "start_time": "2022-11-09T22:07:18.490Z"
   },
   {
    "duration": 16,
    "start_time": "2022-11-09T22:07:18.690Z"
   },
   {
    "duration": 166,
    "start_time": "2022-11-09T22:07:18.708Z"
   },
   {
    "duration": 11,
    "start_time": "2022-11-09T22:07:18.876Z"
   },
   {
    "duration": 27,
    "start_time": "2022-11-09T22:07:18.890Z"
   },
   {
    "duration": 75,
    "start_time": "2022-11-09T22:07:18.919Z"
   },
   {
    "duration": 46,
    "start_time": "2022-11-09T22:07:18.996Z"
   },
   {
    "duration": 619,
    "start_time": "2022-11-09T22:07:19.045Z"
   },
   {
    "duration": 122,
    "start_time": "2022-11-09T22:07:19.666Z"
   },
   {
    "duration": 15,
    "start_time": "2022-11-09T22:07:19.790Z"
   },
   {
    "duration": 52,
    "start_time": "2022-11-09T22:07:19.807Z"
   },
   {
    "duration": 5,
    "start_time": "2022-11-09T22:07:19.861Z"
   },
   {
    "duration": 19,
    "start_time": "2022-11-09T22:07:19.868Z"
   },
   {
    "duration": 4,
    "start_time": "2022-11-09T22:07:19.889Z"
   },
   {
    "duration": 89,
    "start_time": "2022-11-09T22:07:19.895Z"
   },
   {
    "duration": 394,
    "start_time": "2022-11-09T22:07:19.986Z"
   },
   {
    "duration": 11,
    "start_time": "2022-11-09T22:07:20.382Z"
   },
   {
    "duration": 12,
    "start_time": "2022-11-09T22:07:20.395Z"
   },
   {
    "duration": 95,
    "start_time": "2022-11-09T22:07:20.409Z"
   },
   {
    "duration": 4,
    "start_time": "2022-11-09T22:07:20.506Z"
   },
   {
    "duration": 461,
    "start_time": "2022-11-09T22:07:20.512Z"
   },
   {
    "duration": 5,
    "start_time": "2022-11-09T22:07:20.975Z"
   },
   {
    "duration": 1353,
    "start_time": "2022-11-09T22:07:20.981Z"
   },
   {
    "duration": 4,
    "start_time": "2022-11-09T22:07:22.337Z"
   },
   {
    "duration": 17,
    "start_time": "2022-11-09T22:07:22.343Z"
   },
   {
    "duration": 141,
    "start_time": "2022-11-09T22:07:22.362Z"
   },
   {
    "duration": 16546,
    "start_time": "2022-11-09T22:07:22.505Z"
   },
   {
    "duration": 5,
    "start_time": "2022-11-09T22:07:39.139Z"
   },
   {
    "duration": 291,
    "start_time": "2022-11-09T22:07:39.146Z"
   },
   {
    "duration": 5302,
    "start_time": "2022-11-09T22:07:39.440Z"
   },
   {
    "duration": 366,
    "start_time": "2022-11-09T22:07:44.744Z"
   },
   {
    "duration": 27,
    "start_time": "2022-11-09T22:07:45.112Z"
   },
   {
    "duration": 553269,
    "start_time": "2022-11-09T22:07:45.141Z"
   },
   {
    "duration": 13898,
    "start_time": "2022-11-09T22:16:58.412Z"
   },
   {
    "duration": 639,
    "start_time": "2022-11-09T22:17:12.312Z"
   },
   {
    "duration": 108794,
    "start_time": "2022-11-09T22:17:12.953Z"
   },
   {
    "duration": 958490,
    "start_time": "2022-11-09T22:19:01.749Z"
   },
   {
    "duration": 134460,
    "start_time": "2022-11-09T22:35:00.241Z"
   },
   {
    "duration": 697,
    "start_time": "2022-11-09T22:37:14.703Z"
   },
   {
    "duration": 2064,
    "start_time": "2022-11-09T22:37:15.402Z"
   },
   {
    "duration": 638189,
    "start_time": "2022-11-09T22:37:17.468Z"
   },
   {
    "duration": 307694,
    "start_time": "2022-11-09T22:47:55.659Z"
   },
   {
    "duration": 409,
    "start_time": "2022-11-09T22:53:03.360Z"
   },
   {
    "duration": 1087,
    "start_time": "2022-11-09T22:53:03.771Z"
   },
   {
    "duration": 23,
    "start_time": "2022-11-09T22:53:04.860Z"
   },
   {
    "duration": 424,
    "start_time": "2022-11-09T22:53:04.885Z"
   },
   {
    "duration": 28,
    "start_time": "2022-11-09T22:53:05.311Z"
   },
   {
    "duration": 21,
    "start_time": "2022-11-09T23:00:46.713Z"
   },
   {
    "duration": 355,
    "start_time": "2022-11-09T23:00:55.233Z"
   },
   {
    "duration": 18,
    "start_time": "2022-11-09T23:00:58.086Z"
   }
  ],
  "kernelspec": {
   "display_name": "Python 3 (ipykernel)",
   "language": "python",
   "name": "python3"
  },
  "language_info": {
   "codemirror_mode": {
    "name": "ipython",
    "version": 3
   },
   "file_extension": ".py",
   "mimetype": "text/x-python",
   "name": "python",
   "nbconvert_exporter": "python",
   "pygments_lexer": "ipython3",
   "version": "3.9.13"
  },
  "toc": {
   "base_numbering": 1,
   "nav_menu": {},
   "number_sections": true,
   "sideBar": true,
   "skip_h1_title": true,
   "title_cell": "Table of Contents",
   "title_sidebar": "Contents",
   "toc_cell": false,
   "toc_position": {
    "height": "calc(100% - 180px)",
    "left": "10px",
    "top": "150px",
    "width": "165px"
   },
   "toc_section_display": true,
   "toc_window_display": true
  }
 },
 "nbformat": 4,
 "nbformat_minor": 2
}
